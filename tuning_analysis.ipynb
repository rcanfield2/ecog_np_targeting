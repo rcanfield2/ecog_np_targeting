{
 "cells": [
  {
   "cell_type": "markdown",
   "id": "ccc809cb-9253-4a7c-8460-80a85f94294a",
   "metadata": {},
   "source": [
    "This script analyzes the tuning characteristics of neurons recorded at different sites. It performs the following steps:\n",
    "1. Loads relevant data\n",
    "    - Preprocessed spike times\n",
    "    - ECoG decoding accuracy\n",
    "2. Calculates modulation depth and prefered direction for each neuron for each different set of parameters\n",
    "    - Event alignment (peripheral target onset, go cue, movement onset)\n",
    "    - Number of trials \n",
    "    - Significantly modulated (corrected with false discovery rate for each recording site)\n",
    "    - Depth\n",
    "3. Calculates statistics between recorded neuron populations\n",
    "4. Plot results and save figures\n"
   ]
  },
  {
   "cell_type": "code",
   "execution_count": 1,
   "id": "3d529430-fd07-4857-94b5-3e0e9f04a18b",
   "metadata": {
    "execution": {
     "iopub.execute_input": "2024-05-27T07:06:02.112092Z",
     "iopub.status.busy": "2024-05-27T07:06:02.111604Z",
     "iopub.status.idle": "2024-05-27T07:06:05.643889Z",
     "shell.execute_reply": "2024-05-27T07:06:05.643009Z",
     "shell.execute_reply.started": "2024-05-27T07:06:02.112031Z"
    },
    "tags": []
   },
   "outputs": [],
   "source": [
    "import numpy as np\n",
    "import matplotlib.pyplot as plt\n",
    "import aopy\n",
    "import os\n",
    "import pandas as pds\n",
    "from db import dbfunctions as db\n",
    "from ipywidgets import interactive, widgets\n",
    "import scipy\n",
    "import h5py\n",
    "from tqdm.auto import tqdm \n",
    "import seaborn as sn\n",
    "import sklearn\n",
    "from sklearn.decomposition import PCA, FactorAnalysis\n",
    "from itertools import compress\n",
    "import multiprocessing as mp\n",
    "import time\n",
    "import math\n",
    "from scipy.fft import fft\n",
    "import glob\n",
    "from datetime import date\n",
    "from statsmodels.stats.multitest import fdrcorrection"
   ]
  },
  {
   "cell_type": "code",
   "execution_count": 2,
   "id": "03ecc07e-bb25-454e-8542-63f4bb528224",
   "metadata": {
    "execution": {
     "iopub.execute_input": "2024-05-27T07:06:05.646758Z",
     "iopub.status.busy": "2024-05-27T07:06:05.645843Z",
     "iopub.status.idle": "2024-05-27T07:06:05.650914Z",
     "shell.execute_reply": "2024-05-27T07:06:05.650334Z",
     "shell.execute_reply.started": "2024-05-27T07:06:05.646720Z"
    },
    "tags": []
   },
   "outputs": [],
   "source": [
    "save_figs = False\n",
    "base_save_dir = \"/media/moor-data/results/Ryan/neuropixel_targeting/\"\n",
    "np_preproc_data_folder = 'np_analysis_preproc_data'\n",
    "ecog_dec_acc_file_name = 'ecog_decoding_maps/npinsert_ecog_decoding_all'\n",
    "\n",
    "subject = 'beignet'\n",
    "align_events = ['TARGET ONSET', 'GO CUE', 'MOVEMENT ONSET']"
   ]
  },
  {
   "cell_type": "code",
   "execution_count": 3,
   "id": "6ba3da79-59b6-42ab-9303-85c74114fd59",
   "metadata": {
    "execution": {
     "iopub.execute_input": "2024-05-27T07:06:05.652147Z",
     "iopub.status.busy": "2024-05-27T07:06:05.651791Z",
     "iopub.status.idle": "2024-05-27T07:06:05.657453Z",
     "shell.execute_reply": "2024-05-27T07:06:05.656887Z",
     "shell.execute_reply.started": "2024-05-27T07:06:05.652125Z"
    },
    "tags": []
   },
   "outputs": [],
   "source": [
    "# Tuning calculation parameters\n",
    "min_trial_prop = 0.85\n",
    "tuning_sig_level = 0.05\n",
    "tavg_tuning_before = 0\n",
    "tavg_tuning_after = 0.3\n",
    "ntrial_bin_size = 96 #Number of trials in each bin to perform analysis with\n",
    "ntr_early_late = 160\n",
    "\n",
    "# Visualization parameters\n",
    "colors = sn.color_palette(n_colors=9)\n",
    "\n",
    "recording_brain_areas={'M1': [30, 56, 47, 40, 121, 48, 120, 98], 'PM':[11, 9, 18, 22, 10, 45]}\n",
    "day_colors = ['dodgerblue', 'indigo', 'violet', 'lightblue', 'mediumorchid',\n",
    "              'purple', 'steelblue', 'dodgerblue', 'lightblue', 'red', 'black', 'green', 'purple', 'cyan', 'gray', 'yellow'] "
   ]
  },
  {
   "cell_type": "markdown",
   "id": "286f10d3-8235-4479-86e3-e9c60fb86f08",
   "metadata": {},
   "source": [
    "# Load Data"
   ]
  },
  {
   "cell_type": "markdown",
   "id": "4fea4ab9-006e-4dbd-a569-38fb9ecbd09b",
   "metadata": {},
   "source": [
    "## Load ECoG decoding accuracy "
   ]
  },
  {
   "cell_type": "code",
   "execution_count": 4,
   "id": "5795b624-b649-472d-a4f3-882a91c6b81c",
   "metadata": {
    "execution": {
     "iopub.execute_input": "2024-05-27T07:06:05.659144Z",
     "iopub.status.busy": "2024-05-27T07:06:05.658786Z",
     "iopub.status.idle": "2024-05-27T07:06:05.806526Z",
     "shell.execute_reply": "2024-05-27T07:06:05.805846Z",
     "shell.execute_reply.started": "2024-05-27T07:06:05.659120Z"
    },
    "tags": []
   },
   "outputs": [],
   "source": [
    "def load_hdf_group(data_dir, hdf_filename, group=\"/\"):\n",
    "    '''\n",
    "    Loads any datasets from the given hdf group into a dictionary. Also will\n",
    "    recursively load other groups if any exist under the given group\n",
    "\n",
    "    Args:\n",
    "        data_dir (str): folder where data is located\n",
    "        hdf_filename (str): name of hdf file\n",
    "        group (str): name of the group to load\n",
    "    \n",
    "    Returns:\n",
    "        dict: all the datasets contained in the given group\n",
    "    '''\n",
    "    full_file_name = os.path.join(data_dir, hdf_filename)\n",
    "    hdf = h5py.File(full_file_name, 'r')\n",
    "    if group not in hdf:\n",
    "        raise ValueError('No such group in file {}'.format(hdf_filename))\n",
    "\n",
    "    # Recursively load groups until datasets are reached\n",
    "    def _load_hdf_group(hdf):\n",
    "        keys = hdf.keys()\n",
    "        data = dict()\n",
    "        for k in keys:\n",
    "            if isinstance(hdf[k], h5py.Group):\n",
    "                data[k] = _load_hdf_group(hdf[k])\n",
    "            else:\n",
    "                k_, v = _load_hdf_dataset(hdf[k], k)\n",
    "                data[k_] = v\n",
    "        return data\n",
    "\n",
    "    data = _load_hdf_group(hdf[group])\n",
    "    hdf.close()\n",
    "    return data\n",
    "\n",
    "def _load_hdf_dataset(dataset, name):\n",
    "    '''\n",
    "    Internal function for loading hdf datasets. Decodes json and unicode data automatically.\n",
    "\n",
    "    Args:\n",
    "        dataset (hdf object): dataset to load\n",
    "        name (str): name of the dataset\n",
    "\n",
    "    Returns:\n",
    "        tuple: Tuple containing:\n",
    "            | **name (str):** name of the dataset (might be modified)\n",
    "            | **data (object):** loaded data\n",
    "    '''\n",
    "    data = dataset[()]\n",
    "    if '_json' in name:\n",
    "        import json\n",
    "        name = name.replace('_json', '')\n",
    "        data = json.loads(data)\n",
    "    try:\n",
    "        data = data.decode('utf-8')\n",
    "    except:\n",
    "        pass\n",
    "    return name, data"
   ]
  },
  {
   "cell_type": "code",
   "execution_count": 5,
   "id": "cbc10577-2b37-4ea3-b7c2-d54809aa166b",
   "metadata": {
    "execution": {
     "iopub.execute_input": "2024-05-27T07:06:05.808013Z",
     "iopub.status.busy": "2024-05-27T07:06:05.807632Z",
     "iopub.status.idle": "2024-05-27T07:06:06.405704Z",
     "shell.execute_reply": "2024-05-27T07:06:06.404988Z",
     "shell.execute_reply.started": "2024-05-27T07:06:05.807989Z"
    },
    "tags": []
   },
   "outputs": [
    {
     "name": "stdout",
     "output_type": "stream",
     "text": [
      "/media/moor-data/results/Ryan/neuropixel_targeting/ecog_decoding_maps/npinsert_ecog_decoding_all\n"
     ]
    }
   ],
   "source": [
    "print(os.path.join(base_save_dir, ecog_dec_acc_file_name))\n",
    "ecog_dec_acc_file_name_all = 'ecog_decoding_maps/npinsert_ecog_decoding_all'\n",
    "ecog_dec_acc_file_name_x = 'ecog_decoding_maps/npinsert_ecog_decoding_x'\n",
    "ecog_dec_acc_file_name_y = 'ecog_decoding_maps/npinsert_ecog_decoding_y'\n",
    "ecog_dec_acc = load_hdf_group(base_save_dir, ecog_dec_acc_file_name_all)\n",
    "ecog_dec_acc_x = load_hdf_group(base_save_dir, ecog_dec_acc_file_name_x)\n",
    "ecog_dec_acc_y = load_hdf_group(base_save_dir, ecog_dec_acc_file_name_y)"
   ]
  },
  {
   "cell_type": "markdown",
   "id": "d7bf82d2-31c1-491f-80c3-879ac6ffd0d3",
   "metadata": {},
   "source": [
    " ## Load preprocessed neuropixel data"
   ]
  },
  {
   "cell_type": "code",
   "execution_count": 6,
   "id": "d8680773-4d0e-4c68-b7e0-dc1fbd0ea1e2",
   "metadata": {
    "execution": {
     "iopub.execute_input": "2024-05-27T07:06:22.267075Z",
     "iopub.status.busy": "2024-05-27T07:06:22.266685Z",
     "iopub.status.idle": "2024-05-27T07:23:49.181328Z",
     "shell.execute_reply": "2024-05-27T07:23:49.179292Z",
     "shell.execute_reply.started": "2024-05-27T07:06:22.267048Z"
    },
    "tags": []
   },
   "outputs": [
    {
     "name": "stdout",
     "output_type": "stream",
     "text": [
      "17.0 min to load preprocessed data\n"
     ]
    }
   ],
   "source": [
    "start = time.time()\n",
    "aopy.utils.release_memory_limit()\n",
    "df, rasters,_, preproc_metadata = aopy.data.base.pkl_read(f\"{subject}_np_preprocessed\", os.path.join(base_save_dir, np_preproc_data_folder))\n",
    "print(f\"{np.round((time.time()-start)/60)} min to load preprocessed data\")\n",
    "nrecs = preproc_metadata['nrecs']\n",
    "recording_site = preproc_metadata['recording_sites'] # will be the same for all align events\n",
    "implants = ['NPinsert72' if preproc_metadata['implant'][irec] == 'NP_Insert72' else 'NPinsert137' for irec in range(len(preproc_metadata['implant']))] #Rename because name in bmi3d is slightly different (TODO)\n",
    "dates = np.unique(df['date'])\n",
    "\n",
    "# Define the time within each trial to calculate tuning\n",
    "tuning_start_idx = int((preproc_metadata['tbefore']-tavg_tuning_before)*(1/preproc_metadata['spike_bin_width']))\n",
    "tuning_end_idx = int((tavg_tuning_after+preproc_metadata['tbefore'])*(1/preproc_metadata['spike_bin_width']))"
   ]
  },
  {
   "cell_type": "markdown",
   "id": "bf03a402-7781-4126-82cc-d60aa6dbe12d",
   "metadata": {},
   "source": [
    "## Load stable units"
   ]
  },
  {
   "cell_type": "code",
   "execution_count": 7,
   "id": "36e85dd6-f201-40f4-8fb0-f8d0dc625c53",
   "metadata": {
    "execution": {
     "iopub.execute_input": "2024-05-27T07:23:49.184644Z",
     "iopub.status.busy": "2024-05-27T07:23:49.184301Z",
     "iopub.status.idle": "2024-05-27T07:23:49.934693Z",
     "shell.execute_reply": "2024-05-27T07:23:49.930117Z",
     "shell.execute_reply.started": "2024-05-27T07:23:49.184609Z"
    },
    "tags": []
   },
   "outputs": [
    {
     "ename": "IndexError",
     "evalue": "list index out of range",
     "output_type": "error",
     "traceback": [
      "\u001b[0;31m---------------------------------------------------------------------------\u001b[0m",
      "\u001b[0;31mIndexError\u001b[0m                                Traceback (most recent call last)",
      "Cell \u001b[0;32mIn[7], line 5\u001b[0m\n\u001b[1;32m      3\u001b[0m stable_unit_idx \u001b[38;5;241m=\u001b[39m [qc_results[\u001b[38;5;124m'\u001b[39m\u001b[38;5;124mfinal_good_unit_idx\u001b[39m\u001b[38;5;124m'\u001b[39m][irec] \u001b[38;5;28;01mfor\u001b[39;00m irec \u001b[38;5;129;01min\u001b[39;00m \u001b[38;5;28mrange\u001b[39m(nrecs)]\n\u001b[1;32m      4\u001b[0m nstable_unit \u001b[38;5;241m=\u001b[39m np\u001b[38;5;241m.\u001b[39marray([\u001b[38;5;28mlen\u001b[39m(qc_results[\u001b[38;5;124m'\u001b[39m\u001b[38;5;124mfinal_good_unit_idx\u001b[39m\u001b[38;5;124m'\u001b[39m][irec]) \u001b[38;5;28;01mfor\u001b[39;00m irec \u001b[38;5;129;01min\u001b[39;00m \u001b[38;5;28mrange\u001b[39m(nrecs)])\n\u001b[0;32m----> 5\u001b[0m neuron_pos \u001b[38;5;241m=\u001b[39m [qc_results[\u001b[38;5;124m'\u001b[39m\u001b[38;5;124mposition\u001b[39m\u001b[38;5;124m'\u001b[39m][irec] \u001b[38;5;28;01mfor\u001b[39;00m irec \u001b[38;5;129;01min\u001b[39;00m \u001b[38;5;28mrange\u001b[39m(nrecs)]\n",
      "Cell \u001b[0;32mIn[7], line 5\u001b[0m, in \u001b[0;36m<listcomp>\u001b[0;34m(.0)\u001b[0m\n\u001b[1;32m      3\u001b[0m stable_unit_idx \u001b[38;5;241m=\u001b[39m [qc_results[\u001b[38;5;124m'\u001b[39m\u001b[38;5;124mfinal_good_unit_idx\u001b[39m\u001b[38;5;124m'\u001b[39m][irec] \u001b[38;5;28;01mfor\u001b[39;00m irec \u001b[38;5;129;01min\u001b[39;00m \u001b[38;5;28mrange\u001b[39m(nrecs)]\n\u001b[1;32m      4\u001b[0m nstable_unit \u001b[38;5;241m=\u001b[39m np\u001b[38;5;241m.\u001b[39marray([\u001b[38;5;28mlen\u001b[39m(qc_results[\u001b[38;5;124m'\u001b[39m\u001b[38;5;124mfinal_good_unit_idx\u001b[39m\u001b[38;5;124m'\u001b[39m][irec]) \u001b[38;5;28;01mfor\u001b[39;00m irec \u001b[38;5;129;01min\u001b[39;00m \u001b[38;5;28mrange\u001b[39m(nrecs)])\n\u001b[0;32m----> 5\u001b[0m neuron_pos \u001b[38;5;241m=\u001b[39m [\u001b[43mqc_results\u001b[49m\u001b[43m[\u001b[49m\u001b[38;5;124;43m'\u001b[39;49m\u001b[38;5;124;43mposition\u001b[39;49m\u001b[38;5;124;43m'\u001b[39;49m\u001b[43m]\u001b[49m\u001b[43m[\u001b[49m\u001b[43mirec\u001b[49m\u001b[43m]\u001b[49m \u001b[38;5;28;01mfor\u001b[39;00m irec \u001b[38;5;129;01min\u001b[39;00m \u001b[38;5;28mrange\u001b[39m(nrecs)]\n",
      "\u001b[0;31mIndexError\u001b[0m: list index out of range"
     ]
    }
   ],
   "source": [
    "qc_results, ksdrift = aopy.data.base.pkl_read(f\"{subject}_QCunits\", os.path.join(base_save_dir, np_preproc_data_folder))\n",
    "stable_unit_labels = [qc_results['final_good_unit_labels'][irec] for irec in range(nrecs)]\n",
    "stable_unit_idx = [qc_results['final_good_unit_idx'][irec] for irec in range(nrecs)]\n",
    "nstable_unit = np.array([len(qc_results['final_good_unit_idx'][irec]) for irec in range(nrecs)])\n",
    "neuron_pos = [qc_results['position'][irec] for irec in range(nrecs)]"
   ]
  },
  {
   "cell_type": "markdown",
   "id": "0976b7cb-7aad-4942-8067-471061f9bc90",
   "metadata": {},
   "source": [
    "# Calculate tuning properties"
   ]
  },
  {
   "cell_type": "markdown",
   "id": "6af43016-2961-46df-9ae2-17b70f0de981",
   "metadata": {},
   "source": [
    "## Stable units across all trials"
   ]
  },
  {
   "cell_type": "code",
   "execution_count": null,
   "id": "daae8dd2-37f8-427a-bf12-32a78599ddca",
   "metadata": {
    "execution": {
     "iopub.status.busy": "2024-05-27T07:23:49.935637Z",
     "iopub.status.idle": "2024-05-27T07:23:49.935957Z",
     "shell.execute_reply": "2024-05-27T07:23:49.935812Z",
     "shell.execute_reply.started": "2024-05-27T07:23:49.935797Z"
    },
    "tags": []
   },
   "outputs": [],
   "source": [
    "# Zscore the activity of each neuron (even unstable) across all trials\n",
    "fr_zscore = {}\n",
    "for align_event in tqdm(align_events):\n",
    "    temp_spike_data = [rasters['neural'][align_event][irec][:,np.array(df['good_trial'][df['date']==dates[irec]]),:] for irec in range(nrecs)] # Shape (ntime, ntrial, nunit)\n",
    "    fr_zscore[align_event] = {'align_spikes_zscore': []}\n",
    "    [fr_zscore[align_event]['align_spikes_zscore'].append((temp_spike_data[irec]-np.mean(temp_spike_data[irec], axis=(0,1)))/np.std(temp_spike_data[irec], axis=(0,1))) for irec in range(nrecs)]"
   ]
  },
  {
   "cell_type": "code",
   "execution_count": null,
   "id": "ea9a638e-95bf-4161-a2ca-fb8cef1d03f5",
   "metadata": {
    "execution": {
     "iopub.status.busy": "2024-05-27T07:23:49.937470Z",
     "iopub.status.idle": "2024-05-27T07:23:49.937755Z",
     "shell.execute_reply": "2024-05-27T07:23:49.937633Z",
     "shell.execute_reply.started": "2024-05-27T07:23:49.937620Z"
    },
    "tags": []
   },
   "outputs": [],
   "source": [
    "# Calculate tuning parameters\n",
    "tuning = {}\n",
    "for align_event in align_events:\n",
    "    tuning[align_event] = {}\n",
    "    tuning[align_event]['tavg_by_cond_tuning'] = []\n",
    "    tuning[align_event]['spike_md'] = []\n",
    "    tuning[align_event]['spike_md_sig'] = []\n",
    "    tuning[align_event]['spike_md_sig_idx'] = []\n",
    "    tuning[align_event]['spike_pd'] = []\n",
    "    tuning[align_event]['spike_pd_sig'] = []\n",
    "    tuning[align_event]['spike_fit'] = []\n",
    "\n",
    "    for irec in range(nrecs):\n",
    "        ntargets = len(np.unique(df['target_idx'][df['date']==dates[irec]]))\n",
    "        target_dir = np.linspace(0,360,ntargets, endpoint=False)\n",
    "        \n",
    "        temp_target_labels = np.array(df['target_idx'][df['good_trial']*(df['date']==dates[irec])])\n",
    "        tavg_by_cond_tuning_temp , _ , md_sig_temp = aopy.analysis.tuning.get_mean_fr_per_condition(np.swapaxes(fr_zscore[align_event]['align_spikes_zscore'][irec][tuning_start_idx:tuning_end_idx,:,stable_unit_idx[irec]], 1,2),temp_target_labels,True)\n",
    "\n",
    "        fit_params, md, pd = aopy.analysis.run_tuningcurve_fit(tavg_by_cond_tuning_temp, target_dir)\n",
    "\n",
    "        tuning[align_event]['tavg_by_cond_tuning'].append(tavg_by_cond_tuning_temp)\n",
    "        tuning[align_event]['spike_md'].append(md)\n",
    "        tuning[align_event]['spike_pd'].append(pd)\n",
    "        tuning[align_event]['spike_fit'].append(fit_params)\n",
    "        temp_sig_idx, _ = fdrcorrection(md_sig_temp, alpha=0.05)\n",
    "        tuning[align_event]['spike_md_sig'].append(md[temp_sig_idx])\n",
    "        tuning[align_event]['spike_md_sig_idx'].append(temp_sig_idx)\n",
    "        tuning[align_event]['spike_pd_sig'].append(pd[temp_sig_idx])"
   ]
  },
  {
   "cell_type": "markdown",
   "id": "f78ea71d-2ea4-483d-ae47-d7b33ff6c3e5",
   "metadata": {},
   "source": [
    " ## Trial adding"
   ]
  },
  {
   "cell_type": "code",
   "execution_count": null,
   "id": "51164c36-6ddb-411a-af52-8738ef50ee15",
   "metadata": {
    "execution": {
     "iopub.status.busy": "2024-05-27T07:23:49.939142Z",
     "iopub.status.idle": "2024-05-27T07:23:49.939412Z",
     "shell.execute_reply": "2024-05-27T07:23:49.939296Z",
     "shell.execute_reply.started": "2024-05-27T07:23:49.939284Z"
    },
    "tags": []
   },
   "outputs": [],
   "source": [
    "# Identify stable units\n",
    "stable_unit_idx_nunits_tradd = {}\n",
    "nstable_unit_idx_nunits_tradd = {}\n",
    "for align_event in align_events:\n",
    "    ntrial_adding_bins = np.sum(np_data[align_event]['good_trial_idx'][0])//ntrial_bin_size\n",
    "    stable_unit_idx_nunits_tradd[align_event] = []\n",
    "    for itradd_bin in range(1,ntrial_adding_bins+1):\n",
    "        temp_spike_align_data = [np_data[align_event]['spike_align'][irec][:,:(itradd_bin*ntrial_bin_size),:] for irec in range(nrecs)]\n",
    "        temp_stable_unit_tradd, _ = get_stable_neuropixel_units_across_recs(temp_spike_align_data,  min_trial_prop)\n",
    "        stable_unit_idx_nunits_tradd[align_event].append(temp_stable_unit_tradd)"
   ]
  },
  {
   "cell_type": "code",
   "execution_count": null,
   "id": "a0fa762d-4ce6-4d92-9f5e-7e9e93e3891a",
   "metadata": {
    "execution": {
     "iopub.status.busy": "2024-05-27T07:23:49.940188Z",
     "iopub.status.idle": "2024-05-27T07:23:49.940438Z",
     "shell.execute_reply": "2024-05-27T07:23:49.940325Z",
     "shell.execute_reply.started": "2024-05-27T07:23:49.940313Z"
    },
    "tags": []
   },
   "outputs": [],
   "source": [
    "# Zscore the activity of each neuron across all trials\n",
    "# Levels: 1. align event, 2. ntrials added, 3. recording number\n",
    "fr_zscore_tradd = {}\n",
    "for align_event in align_events:\n",
    "    fr_zscore_tradd[align_event] = {'align_spikes_zscore': []}\n",
    "    for itradd_bin in range(1,ntrial_adding_bins+1):\n",
    "        temp_spike_data = [np_data[align_event]['spike_align'][irec][:,:(itradd_bin*ntrial_bin_size),:] for irec in range(nrecs)] # Shape (ntime, ntrial, nunit)\n",
    "        fr_zscore_tradd[align_event]['align_spikes_zscore'].append([(temp_spike_data[irec]-np.mean(temp_spike_data[irec], axis=(0,1)))/np.std(temp_spike_data[irec], axis=(0,1)) for irec in range(nrecs)])"
   ]
  },
  {
   "cell_type": "code",
   "execution_count": null,
   "id": "635eeb92-7b5c-4b74-ae4a-decf37cb37ac",
   "metadata": {
    "execution": {
     "iopub.status.busy": "2024-05-27T07:23:49.941645Z",
     "iopub.status.idle": "2024-05-27T07:23:49.941958Z",
     "shell.execute_reply": "2024-05-27T07:23:49.941825Z",
     "shell.execute_reply.started": "2024-05-27T07:23:49.941811Z"
    },
    "tags": []
   },
   "outputs": [],
   "source": [
    "# Calculate tuning parameters\n",
    "tuning_tradd = {}\n",
    "for align_event in tqdm(align_events):\n",
    "    tuning_tradd[align_event] = {}\n",
    "    tuning_tradd[align_event]['tavg_by_cond_tuning'] = []\n",
    "    tuning_tradd[align_event]['spike_md'] = []\n",
    "    tuning_tradd[align_event]['spike_md_sig'] = []\n",
    "    tuning_tradd[align_event]['spike_md_sig_idx'] = []\n",
    "    tuning_tradd[align_event]['spike_pd'] = []\n",
    "    tuning_tradd[align_event]['spike_pd_sig'] = []\n",
    "    tuning_tradd[align_event]['spike_fit'] = []\n",
    "    for itradd_bin in range(ntrial_adding_bins):\n",
    "        tavg_by_cond_tuning_tradd_temp = []\n",
    "        spike_md_tradd_temp = []\n",
    "        spike_md_sig_temp = []\n",
    "        spike_md_sig_idx_tradd_temp = []\n",
    "        spike_pd_tradd_temp = []\n",
    "        spike_pd_sig_tradd_temp = []\n",
    "        spike_fit_tradd_temp = []\n",
    "        \n",
    "        for irec in range(nrecs):\n",
    "            ntargets = len(np.unique(np_data[align_event]['target_idx'][irec]))\n",
    "            target_dir = np.linspace(0,360,ntargets, endpoint=False)\n",
    "\n",
    "            tavg_by_cond_tuning_temp , _ , md_sig_temp = aopy.analysis.tuning.get_mean_fr_per_condition(np.swapaxes(fr_zscore_tradd[align_event]['align_spikes_zscore'][itradd_bin][irec][tuning_start_idx:tuning_end_idx,:,stable_unit_idx_nunits_tradd[align_event][itradd_bin][irec]], 1,2),np_data[align_event]['target_idx_good'][irec][:((1+itradd_bin)*ntrial_bin_size)],True)\n",
    "\n",
    "            fit_params, md, pd = aopy.analysis.run_tuningcurve_fit(tavg_by_cond_tuning_temp, target_dir)\n",
    "\n",
    "            tavg_by_cond_tuning_tradd_temp.append(tavg_by_cond_tuning_temp)\n",
    "            spike_md_tradd_temp.append(md)\n",
    "            spike_pd_tradd_temp.append(pd)\n",
    "            spike_fit_tradd_temp.append(fit_params)\n",
    "            temp_sig_idx, _ = fdrcorrection(md_sig_temp, alpha=0.05)\n",
    "            spike_md_sig_temp.append(md[temp_sig_idx])\n",
    "            spike_md_sig_idx_tradd_temp.append(temp_sig_idx)\n",
    "            spike_pd_sig_tradd_temp.append(pd[temp_sig_idx])\n",
    "        \n",
    "        tuning_tradd[align_event]['tavg_by_cond_tuning'].append(tavg_by_cond_tuning_tradd_temp)\n",
    "        tuning_tradd[align_event]['spike_md'].append(spike_md_tradd_temp)\n",
    "        tuning_tradd[align_event]['spike_pd'].append(spike_pd_tradd_temp)\n",
    "        tuning_tradd[align_event]['spike_fit'].append(spike_fit_tradd_temp)\n",
    "        tuning_tradd[align_event]['spike_md_sig'].append(spike_md_sig_temp)\n",
    "        tuning_tradd[align_event]['spike_md_sig_idx'].append(spike_md_sig_idx_tradd_temp)\n",
    "        tuning_tradd[align_event]['spike_pd_sig'].append(spike_pd_sig_tradd_temp)"
   ]
  },
  {
   "cell_type": "markdown",
   "id": "f1513e2e-f56b-4da3-9b55-7d8a0080fd3f",
   "metadata": {},
   "source": [
    "## Early - late comparison"
   ]
  },
  {
   "cell_type": "code",
   "execution_count": null,
   "id": "db17071c-7b5e-4de1-9c20-ad7ebd149299",
   "metadata": {
    "execution": {
     "iopub.status.busy": "2024-05-27T07:23:49.944652Z",
     "iopub.status.idle": "2024-05-27T07:23:49.945049Z",
     "shell.execute_reply": "2024-05-27T07:23:49.944874Z",
     "shell.execute_reply.started": "2024-05-27T07:23:49.944855Z"
    },
    "tags": []
   },
   "outputs": [],
   "source": [
    "# Calculate tuning on early trials for all units\n",
    "for align_event in align_events:\n",
    "    tuning[align_event]['early_tavg_by_cond_tuning'] = []\n",
    "    tuning[align_event]['early_spike_md'] = []\n",
    "    tuning[align_event]['early_spike_md_sig'] = []\n",
    "    tuning[align_event]['early_spike_md_sig_idx'] = []\n",
    "    tuning[align_event]['early_spike_pd'] = []\n",
    "    tuning[align_event]['early_spike_pd_sig'] = []\n",
    "    tuning[align_event]['early_spike_fit'] = []\n",
    "\n",
    "    for irec in range(nrecs):\n",
    "        ntargets = len(np.unique(np_data[align_event]['target_idx'][irec]))\n",
    "        target_dir = np.linspace(0,360,ntargets, endpoint=False)\n",
    "        \n",
    "        tavg_by_cond_tuning_temp , _ , md_sig_temp = aopy.analysis.tuning.get_mean_fr_per_condition(np.swapaxes(fr_zscore[align_event]['align_spikes_zscore'][irec][tuning_start_idx:tuning_end_idx,:ntr_early_late,:], 1,2),np_data[align_event]['target_idx_good'][irec][:ntr_early_late],True)\n",
    "\n",
    "        fit_params, md, pd = aopy.analysis.run_tuningcurve_fit(tavg_by_cond_tuning_temp, target_dir)\n",
    "        tuning[align_event]['early_tavg_by_cond_tuning'].append(tavg_by_cond_tuning_temp)\n",
    "        tuning[align_event]['early_spike_md'].append(md)\n",
    "        tuning[align_event]['early_spike_pd'].append(pd)\n",
    "        tuning[align_event]['early_spike_fit'].append(fit_params)\n",
    "        temp_sig_idx, _ = fdrcorrection(md_sig_temp, alpha=0.05)\n",
    "        tuning[align_event]['early_spike_md_sig'].append(md[temp_sig_idx])\n",
    "        tuning[align_event]['early_spike_md_sig_idx'].append(temp_sig_idx)\n",
    "        tuning[align_event]['early_spike_pd_sig'].append(pd[temp_sig_idx])"
   ]
  },
  {
   "cell_type": "code",
   "execution_count": null,
   "id": "6e0a8927-eec3-4ea4-b100-1c6ba271d810",
   "metadata": {
    "execution": {
     "iopub.status.busy": "2024-05-27T07:23:49.947330Z",
     "iopub.status.idle": "2024-05-27T07:23:49.947659Z",
     "shell.execute_reply": "2024-05-27T07:23:49.947526Z",
     "shell.execute_reply.started": "2024-05-27T07:23:49.947512Z"
    },
    "tags": []
   },
   "outputs": [],
   "source": [
    "# Calculate tuning on early trials for all units\n",
    "for align_event in align_events:\n",
    "    tuning[align_event]['late_tavg_by_cond_tuning'] = []\n",
    "    tuning[align_event]['late_spike_md'] = []\n",
    "    tuning[align_event]['late_spike_md_sig'] = []\n",
    "    tuning[align_event]['late_spike_md_sig_idx'] = []\n",
    "    tuning[align_event]['late_spike_pd'] = []\n",
    "    tuning[align_event]['late_spike_pd_sig'] = []\n",
    "    tuning[align_event]['late_spike_fit'] = []\n",
    "\n",
    "    for irec in range(nrecs):\n",
    "        ntargets = len(np.unique(np_data[align_event]['target_idx'][irec]))\n",
    "        target_dir = np.linspace(0,360,ntargets, endpoint=False)\n",
    "        \n",
    "        tavg_by_cond_tuning_temp , _ , md_sig_temp = aopy.analysis.tuning.get_mean_fr_per_condition(np.swapaxes(fr_zscore[align_event]['align_spikes_zscore'][irec][tuning_start_idx:tuning_end_idx,-ntr_early_late:,:], 1,2),np_data[align_event]['target_idx_good'][irec][-ntr_early_late:],True)\n",
    "\n",
    "        fit_params, md, pd = aopy.analysis.run_tuningcurve_fit(tavg_by_cond_tuning_temp, target_dir)\n",
    "        tuning[align_event]['late_tavg_by_cond_tuning'].append(tavg_by_cond_tuning_temp)\n",
    "        tuning[align_event]['late_spike_md'].append(md)\n",
    "        tuning[align_event]['late_spike_pd'].append(pd)\n",
    "        tuning[align_event]['late_spike_fit'].append(fit_params)\n",
    "        temp_sig_idx, _ = fdrcorrection(md_sig_temp, alpha=0.05)\n",
    "        tuning[align_event]['late_spike_md_sig'].append(md[temp_sig_idx])\n",
    "        tuning[align_event]['late_spike_md_sig_idx'].append(temp_sig_idx)\n",
    "        tuning[align_event]['late_spike_pd_sig'].append(pd[temp_sig_idx])"
   ]
  },
  {
   "cell_type": "code",
   "execution_count": null,
   "id": "4557a591-e449-4343-ba59-833408ce784f",
   "metadata": {
    "execution": {
     "iopub.status.busy": "2024-05-27T07:23:49.949067Z",
     "iopub.status.idle": "2024-05-27T07:23:49.949344Z",
     "shell.execute_reply": "2024-05-27T07:23:49.949223Z",
     "shell.execute_reply.started": "2024-05-27T07:23:49.949211Z"
    },
    "tags": []
   },
   "outputs": [],
   "source": [
    "# Get units with consistent tuning between early and late\n",
    "delta_pd_thresh = np.deg2rad(45)\n",
    "delta_pd = [np.abs(tuning[align_events[-1]]['early_spike_pd'][irec][stable_unit_idx[irec]] - tuning[align_events[-1]]['late_spike_pd'][irec][stable_unit_idx[irec]]) for irec in range(nrecs)]\n",
    "consistent_unit_labels = [stable_unit_labels[irec][np.logical_or((delta_pd[irec] < delta_pd_thresh), delta_pd[irec] > (2*np.pi-delta_pd_thresh))] for irec in range(nrecs)]\n",
    "consistent_unit_idx = [stable_unit_idx[irec][np.logical_or((delta_pd[irec] < delta_pd_thresh), delta_pd[irec] > (2*np.pi-delta_pd_thresh))] for irec in range(nrecs)]"
   ]
  },
  {
   "cell_type": "code",
   "execution_count": null,
   "id": "da44c8ee-48c4-4b0c-ac90-a635f8e8368e",
   "metadata": {
    "execution": {
     "iopub.status.busy": "2024-05-27T07:23:49.950133Z",
     "iopub.status.idle": "2024-05-27T07:23:49.950384Z",
     "shell.execute_reply": "2024-05-27T07:23:49.950273Z",
     "shell.execute_reply.started": "2024-05-27T07:23:49.950261Z"
    },
    "tags": []
   },
   "outputs": [],
   "source": [
    "# Calculate tuning parameters for consistent neurons\n",
    "for align_event in align_events:\n",
    "    tuning[align_event]['cons_tavg_by_cond_tuning'] = []\n",
    "    tuning[align_event]['cons_spike_md'] = []\n",
    "    tuning[align_event]['cons_spike_md_sig'] = []\n",
    "    tuning[align_event]['cons_spike_md_sig_idx'] = []\n",
    "    tuning[align_event]['cons_spike_pd'] = []\n",
    "    tuning[align_event]['cons_spike_pd_sig'] = []\n",
    "    tuning[align_event]['cons_spike_fit'] = []\n",
    "\n",
    "    for irec in range(nrecs):\n",
    "        ntargets = len(np.unique(np_data[align_event]['target_idx'][irec]))\n",
    "        target_dir = np.linspace(0,360,ntargets, endpoint=False)\n",
    "        \n",
    "        tavg_by_cond_tuning_temp , _ , md_sig_temp = aopy.analysis.tuning.get_mean_fr_per_condition(np.swapaxes(fr_zscore[align_event]['align_spikes_zscore'][irec][tuning_start_idx:tuning_end_idx,:,consistent_unit_idx[irec]], 1,2),np_data[align_event]['target_idx_good'][irec],True)\n",
    "\n",
    "        fit_params, md, pd = aopy.analysis.run_tuningcurve_fit(tavg_by_cond_tuning_temp, target_dir)\n",
    "\n",
    "        tuning[align_event]['cons_tavg_by_cond_tuning'].append(tavg_by_cond_tuning_temp)\n",
    "        tuning[align_event]['cons_spike_md'].append(md)\n",
    "        tuning[align_event]['cons_spike_pd'].append(pd)\n",
    "        tuning[align_event]['cons_spike_fit'].append(fit_params)\n",
    "        temp_sig_idx, _ = fdrcorrection(md_sig_temp, alpha=0.05)\n",
    "        tuning[align_event]['cons_spike_md_sig'].append(md[temp_sig_idx])\n",
    "        tuning[align_event]['cons_spike_md_sig_idx'].append(temp_sig_idx)\n",
    "        tuning[align_event]['cons_spike_pd_sig'].append(pd[temp_sig_idx])"
   ]
  },
  {
   "cell_type": "markdown",
   "id": "7af0fb25-5c35-4ee6-a4d1-e5184747adb2",
   "metadata": {},
   "source": [
    "## Tuning change during trial (timing information)"
   ]
  },
  {
   "cell_type": "code",
   "execution_count": null,
   "id": "99feb457-05bb-4e5c-bf06-4f9af5f6eabc",
   "metadata": {
    "execution": {
     "iopub.status.busy": "2024-05-27T07:23:49.951836Z",
     "iopub.status.idle": "2024-05-27T07:23:49.952108Z",
     "shell.execute_reply": "2024-05-27T07:23:49.951984Z",
     "shell.execute_reply.started": "2024-05-27T07:23:49.951971Z"
    },
    "tags": []
   },
   "outputs": [],
   "source": [
    "tuning['timing'] = {}\n",
    "tuning['timing']['delta_Mon-Ton'] = [tuning[align_events[2]]['spike_md'][irec] - tuning[align_events[0]]['spike_md'][irec] for irec in range(nrecs)]"
   ]
  },
  {
   "cell_type": "markdown",
   "id": "6761e98e-03cd-4dfb-8ce9-eccfcefd2b4d",
   "metadata": {},
   "source": [
    "# Calculate statistics between neuron populations"
   ]
  },
  {
   "cell_type": "code",
   "execution_count": null,
   "id": "841ac265-5c9a-4e16-b3b2-0ec92fcc1324",
   "metadata": {
    "execution": {
     "iopub.status.busy": "2024-05-27T07:23:49.954058Z",
     "iopub.status.idle": "2024-05-27T07:23:49.954338Z",
     "shell.execute_reply": "2024-05-27T07:23:49.954212Z",
     "shell.execute_reply.started": "2024-05-27T07:23:49.954200Z"
    },
    "tags": []
   },
   "outputs": [],
   "source": [
    "# define ecog decoding accuracy as one variable to make it easier to do further analysis\n",
    "ecog_dec_acc_rec_site = {}\n",
    "for align_event in align_events:\n",
    "    ecog_dec_acc_rec_site[align_event] = [ecog_dec_acc['beignet'][f\"{implants[irec]}_interp\"][rec_site-1] for irec, rec_site in enumerate(recording_site)]"
   ]
  },
  {
   "cell_type": "markdown",
   "id": "2d14712a-f1ab-47f9-af29-ec4d0cffffd4",
   "metadata": {},
   "source": [
    "## Across all trials"
   ]
  },
  {
   "cell_type": "code",
   "execution_count": null,
   "id": "ab52204e-9a6d-420e-a808-01f4055f489b",
   "metadata": {
    "execution": {
     "iopub.status.busy": "2024-05-27T07:23:49.955508Z",
     "iopub.status.idle": "2024-05-27T07:23:49.955804Z",
     "shell.execute_reply": "2024-05-27T07:23:49.955677Z",
     "shell.execute_reply.started": "2024-05-27T07:23:49.955665Z"
    },
    "tags": []
   },
   "outputs": [],
   "source": [
    "# Fit linear regression to MD plots\n",
    "for align_event in align_events:\n",
    "    md_lin_reg_x = []\n",
    "    md_lin_reg_y = []\n",
    "    md_lin_reg_x_M1 = []\n",
    "    md_lin_reg_y_M1 = []\n",
    "    md_lin_reg_x_PM = []\n",
    "    md_lin_reg_y_PM = []\n",
    "    for irec, rec_site in enumerate(recording_site):\n",
    "        md_lin_reg_x.extend(np.zeros(tuning[align_event]['spike_md'][irec].shape)+100*ecog_dec_acc_rec_site[align_event][irec])\n",
    "        md_lin_reg_y.extend(tuning[align_event]['spike_md'][irec])\n",
    "\n",
    "        if rec_site in recording_brain_areas['M1']:\n",
    "            md_lin_reg_x_M1.extend(np.zeros(tuning[align_event]['spike_md'][irec].shape)+100*ecog_dec_acc_rec_site[align_event][irec])\n",
    "            md_lin_reg_y_M1.extend(tuning[align_event]['spike_md'][irec])\n",
    "\n",
    "        if rec_site in recording_brain_areas['PM']:\n",
    "            md_lin_reg_x_PM.extend(np.zeros(tuning[align_event]['spike_md'][irec].shape)+100*ecog_dec_acc_rec_site[align_event][irec])\n",
    "            md_lin_reg_y_PM.extend(tuning[align_event]['spike_md'][irec])\n",
    "\n",
    "    _, _, tuning[align_event]['spike_md_pcc'], tuning[align_event]['spike_md_pcc_pval'], tuning[align_event]['spike_md_reg_fit'] = aopy.analysis.base.linear_fit_analysis2D(np.array(md_lin_reg_x)[:,None], np.array(md_lin_reg_y)[:,None])\n",
    "    _, _, tuning[align_event]['spike_md_pcc_M1'], tuning[align_event]['spike_md_pcc_pval_M1'], tuning[align_event]['spike_md_reg_fit_M1'] = aopy.analysis.base.linear_fit_analysis2D(np.array(md_lin_reg_x_M1)[:,None], np.array(md_lin_reg_y_M1)[:,None])\n",
    "    _, _, tuning[align_event]['spike_md_pcc_PM'], tuning[align_event]['spike_md_pcc_pval_PM'], tuning[align_event]['spike_md_reg_fit_PM'] = aopy.analysis.base.linear_fit_analysis2D(np.array(md_lin_reg_x_PM)[:,None], np.array(md_lin_reg_y_PM)[:,None])"
   ]
  },
  {
   "cell_type": "code",
   "execution_count": null,
   "id": "8792f8ab-92f4-4490-9ddc-9e5253da7afe",
   "metadata": {
    "execution": {
     "iopub.status.busy": "2024-05-27T07:23:49.959205Z",
     "iopub.status.idle": "2024-05-27T07:23:49.959783Z",
     "shell.execute_reply": "2024-05-27T07:23:49.959528Z",
     "shell.execute_reply.started": "2024-05-27T07:23:49.959501Z"
    },
    "tags": []
   },
   "outputs": [],
   "source": [
    "# Fit linear regression to MD plots for only significantly modulated units\n",
    "# Fit linear regression to MD plots\n",
    "for align_event in align_events:\n",
    "    md_lin_reg_x = []\n",
    "    md_lin_reg_y = []\n",
    "    md_lin_reg_x_M1 = []\n",
    "    md_lin_reg_y_M1 = []\n",
    "    md_lin_reg_x_PM = []\n",
    "    md_lin_reg_y_PM = []\n",
    "    for irec, rec_site in enumerate(recording_site):\n",
    "        md_lin_reg_x.extend(np.zeros(tuning[align_event]['spike_md_sig'][irec].shape)+100*ecog_dec_acc_rec_site[align_event][irec])\n",
    "        md_lin_reg_y.extend(tuning[align_event]['spike_md_sig'][irec])\n",
    "\n",
    "        if rec_site in recording_brain_areas['M1']:\n",
    "            md_lin_reg_x_M1.extend(np.zeros(tuning[align_event]['spike_md_sig'][irec].shape)+100*ecog_dec_acc_rec_site[align_event][irec])\n",
    "            md_lin_reg_y_M1.extend(tuning[align_event]['spike_md_sig'][irec])\n",
    "\n",
    "        if rec_site in recording_brain_areas['PM']:\n",
    "            md_lin_reg_x_PM.extend(np.zeros(tuning[align_event]['spike_md_sig'][irec].shape)+100*ecog_dec_acc_rec_site[align_event][irec])\n",
    "            md_lin_reg_y_PM.extend(tuning[align_event]['spike_md_sig'][irec])\n",
    "\n",
    "    _, _, tuning[align_event]['spike_md_pcc_sig'], tuning[align_event]['spike_md_pcc_pval_sig'], tuning[align_event]['spike_md_reg_fit_sig'] = aopy.analysis.base.linear_fit_analysis2D(np.array(md_lin_reg_x)[:,None], np.array(md_lin_reg_y)[:,None])\n",
    "    _, _, tuning[align_event]['spike_md_pcc_M1_sig'], tuning[align_event]['spike_md_pcc_pval_M1_sig'], tuning[align_event]['spike_md_reg_fit_M1_sig'] = aopy.analysis.base.linear_fit_analysis2D(np.array(md_lin_reg_x_M1)[:,None], np.array(md_lin_reg_y_M1)[:,None])\n",
    "    _, _, tuning[align_event]['spike_md_pcc_PM_sig'], tuning[align_event]['spike_md_pcc_pval_PM_sig'], tuning[align_event]['spike_md_reg_fit_PM_sig'] = aopy.analysis.base.linear_fit_analysis2D(np.array(md_lin_reg_x_PM)[:,None], np.array(md_lin_reg_y_PM)[:,None])"
   ]
  },
  {
   "cell_type": "markdown",
   "id": "9555cf95-be84-4399-8c49-182c2a882a9f",
   "metadata": {},
   "source": [
    "## Trial adding"
   ]
  },
  {
   "cell_type": "code",
   "execution_count": null,
   "id": "f3783b8c-1c44-4930-8613-1ee717fc75ff",
   "metadata": {
    "execution": {
     "iopub.status.busy": "2024-05-27T07:23:49.961928Z",
     "iopub.status.idle": "2024-05-27T07:23:49.962227Z",
     "shell.execute_reply": "2024-05-27T07:23:49.962097Z",
     "shell.execute_reply.started": "2024-05-27T07:23:49.962084Z"
    },
    "tags": []
   },
   "outputs": [],
   "source": [
    "# Fit linear regression to MD plots\n",
    "for align_event in align_events:\n",
    "    tuning_tradd[align_event]['spike_md_pcc'] = []\n",
    "    tuning_tradd[align_event]['spike_md_pcc_pval'] = []\n",
    "    tuning_tradd[align_event]['spike_md_reg_fit'] = []\n",
    "    tuning_tradd[align_event]['spike_md_pcc_M1'] = []\n",
    "    tuning_tradd[align_event]['spike_md_pcc_pval_M1'] = []\n",
    "    tuning_tradd[align_event]['spike_md_reg_fit_M1'] = []\n",
    "    tuning_tradd[align_event]['spike_md_pcc_PM'] = []\n",
    "    tuning_tradd[align_event]['spike_md_pcc_pval_PM'] = []\n",
    "    tuning_tradd[align_event]['spike_md_reg_fit_PM'] = []\n",
    "    for itradd_bin in range(ntrial_adding_bins):\n",
    "        md_lin_reg_x = []\n",
    "        md_lin_reg_y = []\n",
    "        md_lin_reg_x_M1 = []\n",
    "        md_lin_reg_y_M1 = []\n",
    "        md_lin_reg_x_PM = []\n",
    "        md_lin_reg_y_PM = []\n",
    "        for irec, rec_site in enumerate(np_data[align_event]['recording_site']):\n",
    "            md_lin_reg_x.extend(np.zeros(tuning_tradd[align_event]['spike_md'][itradd_bin][irec].shape)+100*ecog_dec_acc_rec_site[align_event][irec])\n",
    "            md_lin_reg_y.extend(tuning_tradd[align_event]['spike_md'][itradd_bin][irec])\n",
    "        \n",
    "            if rec_site in recording_brain_areas['M1']:\n",
    "                md_lin_reg_x_M1.extend(np.zeros(tuning_tradd[align_event]['spike_md'][itradd_bin][irec].shape)+100*ecog_dec_acc_rec_site[align_event][irec])\n",
    "                md_lin_reg_y_M1.extend(tuning_tradd[align_event]['spike_md'][itradd_bin][irec])\n",
    "\n",
    "            if rec_site in recording_brain_areas['PM']:\n",
    "                md_lin_reg_x_PM.extend(np.zeros(tuning_tradd[align_event]['spike_md'][itradd_bin][irec].shape)+100*ecog_dec_acc_rec_site[align_event][irec])\n",
    "                md_lin_reg_y_PM.extend(tuning_tradd[align_event]['spike_md'][itradd_bin][irec])\n",
    "        \n",
    "        _, _, temp1, temp2, temp3 = aopy.analysis.base.linear_fit_analysis2D(np.array(md_lin_reg_x)[:,None], np.array(md_lin_reg_y)[:,None])\n",
    "        _, _, temp1_M1, temp2_M1, temp3_M1 = aopy.analysis.base.linear_fit_analysis2D(np.array(md_lin_reg_x_M1)[:,None], np.array(md_lin_reg_y_M1)[:,None])\n",
    "        _, _, temp1_PM, temp2_PM, temp3_PM = aopy.analysis.base.linear_fit_analysis2D(np.array(md_lin_reg_x_PM)[:,None], np.array(md_lin_reg_y_PM)[:,None])\n",
    "        \n",
    "        tuning_tradd[align_event]['spike_md_pcc'].append(temp1)\n",
    "        tuning_tradd[align_event]['spike_md_pcc_pval'].append(temp2)\n",
    "        tuning_tradd[align_event]['spike_md_reg_fit'].append(temp3)\n",
    "        tuning_tradd[align_event]['spike_md_pcc_M1'].append(temp1_M1)\n",
    "        tuning_tradd[align_event]['spike_md_pcc_pval_M1'].append(temp2_M1)\n",
    "        tuning_tradd[align_event]['spike_md_reg_fit_M1'].append(temp3_M1)\n",
    "        tuning_tradd[align_event]['spike_md_pcc_PM'].append(temp1_PM)\n",
    "        tuning_tradd[align_event]['spike_md_pcc_pval_PM'].append(temp2_PM)\n",
    "        tuning_tradd[align_event]['spike_md_reg_fit_PM'].append(temp3_PM)"
   ]
  },
  {
   "cell_type": "code",
   "execution_count": null,
   "id": "36d9ad0d-afbb-4180-bf37-a653d53ca048",
   "metadata": {
    "execution": {
     "iopub.status.busy": "2024-05-27T07:23:49.963812Z",
     "iopub.status.idle": "2024-05-27T07:23:49.964131Z",
     "shell.execute_reply": "2024-05-27T07:23:49.963993Z",
     "shell.execute_reply.started": "2024-05-27T07:23:49.963979Z"
    },
    "tags": []
   },
   "outputs": [],
   "source": [
    "# Fit linear regression to MD plots\n",
    "for align_event in align_events:\n",
    "    tuning_tradd[align_event]['spike_md_pcc_sig'] = []\n",
    "    tuning_tradd[align_event]['spike_md_pcc_pval_sig'] = []\n",
    "    tuning_tradd[align_event]['spike_md_reg_fit_sig'] = []\n",
    "    tuning_tradd[align_event]['spike_md_pcc_M1_sig'] = []\n",
    "    tuning_tradd[align_event]['spike_md_pcc_pval_M1_sig'] = []\n",
    "    tuning_tradd[align_event]['spike_md_reg_fit_M1_sig'] = []\n",
    "    tuning_tradd[align_event]['spike_md_pcc_PM_sig'] = []\n",
    "    tuning_tradd[align_event]['spike_md_pcc_pval_PM_sig'] = []\n",
    "    tuning_tradd[align_event]['spike_md_reg_fit_PM_sig'] = []\n",
    "    for itradd_bin in range(ntrial_adding_bins):\n",
    "        md_lin_reg_x = []\n",
    "        md_lin_reg_y = []\n",
    "        md_lin_reg_x_M1 = []\n",
    "        md_lin_reg_y_M1 = []\n",
    "        md_lin_reg_x_PM = []\n",
    "        md_lin_reg_y_PM = []\n",
    "        for irec, rec_site in enumerate(np_data[align_event]['recording_site']):\n",
    "            md_lin_reg_x.extend(np.zeros(tuning_tradd[align_event]['spike_md_sig'][itradd_bin][irec].shape)+100*ecog_dec_acc_rec_site[align_event][irec])\n",
    "            md_lin_reg_y.extend(tuning_tradd[align_event]['spike_md_sig'][itradd_bin][irec])\n",
    "        \n",
    "            if rec_site in recording_brain_areas['M1']:\n",
    "                md_lin_reg_x_M1.extend(np.zeros(tuning_tradd[align_event]['spike_md_sig'][itradd_bin][irec].shape)+100*ecog_dec_acc_rec_site[align_event][irec])\n",
    "                md_lin_reg_y_M1.extend(tuning_tradd[align_event]['spike_md_sig'][itradd_bin][irec])\n",
    "\n",
    "            if rec_site in recording_brain_areas['PM']:\n",
    "                md_lin_reg_x_PM.extend(np.zeros(tuning_tradd[align_event]['spike_md_sig'][itradd_bin][irec].shape)+100*ecog_dec_acc_rec_site[align_event][irec])\n",
    "                md_lin_reg_y_PM.extend(tuning_tradd[align_event]['spike_md_sig'][itradd_bin][irec])\n",
    "        \n",
    "        _, _, temp1, temp2, temp3 = aopy.analysis.base.linear_fit_analysis2D(np.array(md_lin_reg_x)[:,None], np.array(md_lin_reg_y)[:,None])\n",
    "        _, _, temp1_M1, temp2_M1, temp3_M1 = aopy.analysis.base.linear_fit_analysis2D(np.array(md_lin_reg_x_M1)[:,None], np.array(md_lin_reg_y_M1)[:,None])\n",
    "        _, _, temp1_PM, temp2_PM, temp3_PM = aopy.analysis.base.linear_fit_analysis2D(np.array(md_lin_reg_x_PM)[:,None], np.array(md_lin_reg_y_PM)[:,None])\n",
    "        \n",
    "        tuning_tradd[align_event]['spike_md_pcc_sig'].append(temp1)\n",
    "        tuning_tradd[align_event]['spike_md_pcc_pval_sig'].append(temp2)\n",
    "        tuning_tradd[align_event]['spike_md_reg_fit_sig'].append(temp3)\n",
    "        tuning_tradd[align_event]['spike_md_pcc_M1_sig'].append(temp1_M1)\n",
    "        tuning_tradd[align_event]['spike_md_pcc_pval_M1_sig'].append(temp2_M1)\n",
    "        tuning_tradd[align_event]['spike_md_reg_fit_M1_sig'].append(temp3_M1)\n",
    "        tuning_tradd[align_event]['spike_md_pcc_PM_sig'].append(temp1_PM)\n",
    "        tuning_tradd[align_event]['spike_md_pcc_pval_PM_sig'].append(temp2_PM)\n",
    "        tuning_tradd[align_event]['spike_md_reg_fit_PM_sig'].append(temp3_PM)"
   ]
  },
  {
   "cell_type": "markdown",
   "id": "c80fe71a-3b03-4092-b147-342d4340fd53",
   "metadata": {},
   "source": [
    "# Plot results"
   ]
  },
  {
   "cell_type": "markdown",
   "id": "f6112484-be24-42ca-975b-dfd45cd951c1",
   "metadata": {
    "execution": {
     "iopub.execute_input": "2023-11-20T23:26:22.576149Z",
     "iopub.status.busy": "2023-11-20T23:26:22.575506Z",
     "iopub.status.idle": "2023-11-20T23:26:22.584129Z",
     "shell.execute_reply": "2023-11-20T23:26:22.582155Z",
     "shell.execute_reply.started": "2023-11-20T23:26:22.576095Z"
    },
    "tags": []
   },
   "source": [
    "## All stable units across all trials"
   ]
  },
  {
   "cell_type": "markdown",
   "id": "9e819cdf-756a-4989-8cf0-ed746e0c10c2",
   "metadata": {
    "execution": {
     "iopub.execute_input": "2023-11-20T23:27:19.658907Z",
     "iopub.status.busy": "2023-11-20T23:27:19.658246Z",
     "iopub.status.idle": "2023-11-20T23:27:19.666007Z",
     "shell.execute_reply": "2023-11-20T23:27:19.664079Z",
     "shell.execute_reply.started": "2023-11-20T23:27:19.658852Z"
    },
    "tags": []
   },
   "source": [
    "### All recording sites"
   ]
  },
  {
   "cell_type": "code",
   "execution_count": null,
   "id": "a75334eb-454e-4371-8dd4-b9fb14db4d14",
   "metadata": {
    "execution": {
     "iopub.status.busy": "2024-05-27T07:23:49.965532Z",
     "iopub.status.idle": "2024-05-27T07:23:49.965859Z",
     "shell.execute_reply": "2024-05-27T07:23:49.965715Z",
     "shell.execute_reply.started": "2024-05-27T07:23:49.965702Z"
    },
    "tags": []
   },
   "outputs": [],
   "source": [
    "# Basic tuning parameter histograms\n",
    "for align_event in align_events:\n",
    "    max_tuning_zscore = np.max([np.max(tuning[align_event]['spike_md'][irec].flatten()) for irec in range(nrecs)])\n",
    "    fig, ax = plt.subplots(1,3,figsize=(10,3))\n",
    "    [ax[0].hist(tuning[align_event]['spike_md'][irec], bins=20, range=(0, max_tuning_zscore), alpha=0.4,color=day_colors[irec], label=f'Rec {recording_site[irec]}') for irec in range(nrecs)]\n",
    "    [ax[1].hist(tuning[align_event]['spike_md'][irec], bins=20, range=(0, max_tuning_zscore), alpha=0.4,color=day_colors[irec], label=f'Rec {recording_site[irec]}') for irec in range(nrecs) if recording_site[irec] in recording_brain_areas['M1']]\n",
    "    [ax[2].hist(tuning[align_event]['spike_md'][irec], bins=20, range=(0, max_tuning_zscore), alpha=0.4,color=day_colors[irec], label=f'Rec {recording_site[irec]}') for irec in range(nrecs) if recording_site[irec] in recording_brain_areas['PM']]\n",
    "    ax[0].set(xlabel='MD', ylabel='Neuron Count', title='All Neurons')\n",
    "    ax[1].set(xlabel='MD', title='M1')\n",
    "    ax[2].set(xlabel='MD', title='PM')\n",
    "    [ax[irec].legend(fontsize=6) for irec in range(len(ax))]\n",
    "    plt.suptitle(f\"{align_event}\")\n",
    "    fig.tight_layout()\n",
    "    plt.show()\n",
    "\n",
    "    fig, ax = plt.subplots(1,3,figsize=(10,3))\n",
    "    [ax[0].hist(tuning[align_event]['spike_pd'][irec], bins=20, range=(0, 2*np.pi), alpha=0.4,color=day_colors[irec], label=f'Rec {recording_site[irec]}') for irec in range(nrecs)]\n",
    "    [ax[1].hist(tuning[align_event]['spike_pd'][irec], bins=20, range=(0, 2*np.pi), alpha=0.4,color=day_colors[irec], label=f'Rec {recording_site[irec]}') for irec in range(nrecs) if recording_site[irec] in recording_brain_areas['M1']]\n",
    "    [ax[2].hist(tuning[align_event]['spike_pd'][irec], bins=20, range=(0, 2*np.pi), alpha=0.4,color=day_colors[irec], label=f'Rec {recording_site[irec]}') for irec in range(nrecs) if recording_site[irec] in recording_brain_areas['PM']]\n",
    "    ax[0].set(xlabel='PD', ylabel='Neuron Count', title='All Neurons')\n",
    "    ax[1].set(xlabel='PD', title='M1')\n",
    "    ax[2].set(xlabel='PD', title='PM')\n",
    "    [ax[irec].legend(fontsize=6) for irec in range(len(ax))]\n",
    "    plt.suptitle(f\"{align_event}\")\n",
    "    fig.tight_layout()\n",
    "    plt.show()"
   ]
  },
  {
   "cell_type": "code",
   "execution_count": null,
   "id": "20eddcff-1449-4d3a-95cf-2f71180db00e",
   "metadata": {
    "execution": {
     "iopub.status.busy": "2024-05-27T07:23:49.966615Z",
     "iopub.status.idle": "2024-05-27T07:23:49.966892Z",
     "shell.execute_reply": "2024-05-27T07:23:49.966771Z",
     "shell.execute_reply.started": "2024-05-27T07:23:49.966758Z"
    },
    "tags": []
   },
   "outputs": [],
   "source": [
    "for align_event in align_events:\n",
    "    fig, ax = plt.subplots(1,2,figsize=(8,3))\n",
    "    vplts = [ax[0].violinplot(tuning[align_event]['spike_md'][irec], positions=[100*ecog_dec_acc_rec_site[align_event][irec]], showmedians=True, showmeans=False, widths=5e6) for irec in range(nrecs)]\n",
    "    [vplts[irec]['bodies'][0].set_color(day_colors[irec]) for irec in range(nrecs)]\n",
    "    [vplts[irec]['cbars'].set_colors(day_colors[irec]) for irec in range(nrecs)]\n",
    "    [vplts[irec]['cmedians'].set_colors(day_colors[irec]) for irec in range(nrecs)]\n",
    "    [vplts[irec]['cmins'].set_colors(day_colors[irec]) for irec in range(nrecs)]\n",
    "    [vplts[irec]['cmaxes'].set_colors(day_colors[irec]) for irec in range(nrecs)]\n",
    "    ax[0].set(xlabel='ECoG Decoding [%]', ylabel='Modulation depth [sd]', ylim=(0,1.5), title=align_event)\n",
    "\n",
    "    ax[0].plot([100*np.min(ecog_dec_acc_rec_site[align_event]), 100*np.max(ecog_dec_acc_rec_site[align_event])], [(tuning[align_event]['spike_md_reg_fit'].coef_*100*np.min(ecog_dec_acc_rec_site[align_event])+tuning[align_event]['spike_md_reg_fit'].intercept_)[0], (tuning[align_event]['spike_md_reg_fit'].coef_*100*np.max(ecog_dec_acc_rec_site[align_event])+tuning[align_event]['spike_md_reg_fit'].intercept_)[0]], 'k')\n",
    "    ax[0].annotate(f\"Regression p: {np.round(tuning[align_event]['spike_md_pcc_pval'],3)}\", (3, 0.5))\n",
    "\n",
    "    vplts1 = [ax[1].violinplot(tuning[align_event]['spike_pd'][irec], positions=[100*ecog_dec_acc_rec_site[align_event][irec]], showmedians=True, showmeans=False) for irec in range(nrecs)]\n",
    "    [vplts1[irec]['bodies'][0].set_color(day_colors[irec]) for irec in range(nrecs)]\n",
    "    [vplts1[irec]['cbars'].set_colors(day_colors[irec]) for irec in range(nrecs)]\n",
    "    [vplts1[irec]['cmedians'].set_colors(day_colors[irec]) for irec in range(nrecs)]\n",
    "    [vplts1[irec]['cmins'].set_colors(day_colors[irec]) for irec in range(nrecs)]\n",
    "    [vplts1[irec]['cmaxes'].set_colors(day_colors[irec]) for irec in range(nrecs)]\n",
    "    ax[1].set(ylabel='Preferred direction [rad]', xlabel='ECoG Decoding Accuracy [%]', title=align_event)\n",
    "    fig.suptitle(f\"All stable neurons - aligned to {align_event}\")\n",
    "    fig.tight_layout()\n",
    "    plt.show()"
   ]
  },
  {
   "cell_type": "markdown",
   "id": "f1ff784d-e488-4e63-8acb-fe3f2ec5fd05",
   "metadata": {},
   "source": [
    "### Split by brain area"
   ]
  },
  {
   "cell_type": "code",
   "execution_count": null,
   "id": "05059844-8b08-45c7-9ab0-02b462348af3",
   "metadata": {
    "execution": {
     "iopub.status.busy": "2024-05-27T07:23:49.967944Z",
     "iopub.status.idle": "2024-05-27T07:23:49.968255Z",
     "shell.execute_reply": "2024-05-27T07:23:49.968120Z",
     "shell.execute_reply.started": "2024-05-27T07:23:49.968107Z"
    },
    "tags": []
   },
   "outputs": [],
   "source": [
    "[print([100*ecog_dec_acc['beignet'][f\"{implants[irec]}_interp\"][recording_site[irec]-1]], recording_site[irec]) for irec in range(nrecs) if recording_site[irec] in recording_brain_areas['M1']]"
   ]
  },
  {
   "cell_type": "code",
   "execution_count": null,
   "id": "4514451c-e4ea-4ce5-ace4-18f5b0fb91be",
   "metadata": {
    "execution": {
     "iopub.status.busy": "2024-05-27T07:23:49.969167Z",
     "iopub.status.idle": "2024-05-27T07:23:49.969449Z",
     "shell.execute_reply": "2024-05-27T07:23:49.969327Z",
     "shell.execute_reply.started": "2024-05-27T07:23:49.969314Z"
    },
    "tags": []
   },
   "outputs": [],
   "source": [
    "# M1\n",
    "for align_event in align_events:\n",
    "    fig, ax = plt.subplots(1,2,figsize=(8,3))\n",
    "    vplts = [ax[0].violinplot(tuning[align_event]['spike_md'][irec], positions=[100*ecog_dec_acc['beignet'][f\"{implants[irec]}_interp\"][recording_site[irec]-1]], showmedians=True, showmeans=False, widths=5e6) for irec in range(nrecs) if recording_site[irec] in recording_brain_areas['M1']]\n",
    "    # [vpltsM1sm[ip]['bodies'][0].set_color(day_colors[np.where(np.in1d(recording_site,recording_brain_areas['M1']))[0][ip]]) for ip in range(len(vpltsM1sm))]\n",
    "    [vplts[irec]['bodies'][0].set_color(day_colors[np.where(np.in1d(recording_site,recording_brain_areas['M1']))[0][irec]]) for irec in range(len(vplts))]\n",
    "    [vplts[irec]['cbars'].set_colors(day_colors[np.where(np.in1d(recording_site,recording_brain_areas['M1']))[0][irec]]) for irec in range(len(vplts))]\n",
    "    [vplts[irec]['cmedians'].set_colors(day_colors[np.where(np.in1d(recording_site,recording_brain_areas['M1']))[0][irec]]) for irec in range(len(vplts))]\n",
    "    [vplts[irec]['cmins'].set_colors(day_colors[np.where(np.in1d(recording_site,recording_brain_areas['M1']))[0][irec]]) for irec in range(len(vplts))]\n",
    "    [vplts[irec]['cmaxes'].set_colors(day_colors[np.where(np.in1d(recording_site,recording_brain_areas['M1']))[0][irec]]) for irec in range(len(vplts))]\n",
    "    ax[0].set(xlabel='ECoG Decoding [%]', ylabel='Modulation depth [sd]', ylim=(0,1),title=align_event)\n",
    "\n",
    "    ax[0].plot([100*np.min(np.array(ecog_dec_acc_rec_site[align_event])[np.where(np.in1d(recording_site,recording_brain_areas['M1']))[0]]), 100*np.max(np.array(ecog_dec_acc_rec_site[align_event])[np.where(np.in1d(recording_site,recording_brain_areas['M1']))[0]])], [(tuning[align_event]['spike_md_reg_fit'].coef_*100*np.min(np.array(ecog_dec_acc_rec_site[align_event])[np.where(np.in1d(recording_site,recording_brain_areas['M1']))[0]])+tuning[align_event]['spike_md_reg_fit'].intercept_)[0], (tuning[align_event]['spike_md_reg_fit'].coef_*100*np.max(np.array(ecog_dec_acc_rec_site[align_event])[np.where(np.in1d(recording_site,recording_brain_areas['M1']))[0]])+tuning[align_event]['spike_md_reg_fit'].intercept_)[0]], 'k')\n",
    "    ax[0].annotate(f\"Regression p: {np.round(tuning[align_event]['spike_md_pcc_pval_M1'],3)}\", (4e7, 0.5))\n",
    "\n",
    "    vplts1 = [ax[1].violinplot(tuning[align_event]['spike_pd'][irec], positions=[100*ecog_dec_acc['beignet'][f\"{implants[irec]}_interp\"][recording_site[irec]-1]], showmedians=True, showmeans=False, widths=5e6) for irec in range(nrecs) if recording_site[irec] in recording_brain_areas['M1']]\n",
    "    [vplts1[irec]['bodies'][0].set_color(day_colors[np.where(np.in1d(recording_site,recording_brain_areas['M1']))[0][irec]]) for irec in range(len(vplts))]\n",
    "    [vplts1[irec]['cbars'].set_colors(day_colors[np.where(np.in1d(recording_site,recording_brain_areas['M1']))[0][irec]]) for irec in range(len(vplts))]\n",
    "    [vplts1[irec]['cmedians'].set_colors(day_colors[np.where(np.in1d(recording_site,recording_brain_areas['M1']))[0][irec]]) for irec in range(len(vplts))]\n",
    "    [vplts1[irec]['cmins'].set_colors(day_colors[np.where(np.in1d(recording_site,recording_brain_areas['M1']))[0][irec]]) for irec in range(len(vplts))]\n",
    "    [vplts1[irec]['cmaxes'].set_colors(day_colors[np.where(np.in1d(recording_site,recording_brain_areas['M1']))[0][irec]]) for irec in range(len(vplts))]\n",
    "    ax[1].set(ylabel='Preferred direction [rad]', xlabel='ECoG Decoding Accuracy [%]')\n",
    "    fig.suptitle(f\"M1 stable neurons - aligned to {align_event}\")\n",
    "    fig.tight_layout()\n",
    "    plt.show()"
   ]
  },
  {
   "cell_type": "code",
   "execution_count": null,
   "id": "664603b9-d5a3-4d25-81f1-fa73e49d0b4b",
   "metadata": {
    "execution": {
     "iopub.status.busy": "2024-05-27T07:23:49.971398Z",
     "iopub.status.idle": "2024-05-27T07:23:49.971860Z",
     "shell.execute_reply": "2024-05-27T07:23:49.971699Z",
     "shell.execute_reply.started": "2024-05-27T07:23:49.971677Z"
    },
    "tags": []
   },
   "outputs": [],
   "source": [
    "# PM\n",
    "for align_event in align_events:\n",
    "    fig, ax = plt.subplots(1,2,figsize=(8,3))\n",
    "    vplts = [ax[0].violinplot(tuning[align_event]['spike_md'][irec], positions=[100*ecog_dec_acc['beignet'][f\"{implants[irec]}_interp\"][recording_site[irec]-1]], showmedians=True, showmeans=False, widths=5e6) for irec in range(nrecs) if recording_site[irec] in recording_brain_areas['PM']]\n",
    "    [vplts[irec]['bodies'][0].set_color(day_colors[np.where(np.in1d(recording_site,recording_brain_areas['PM']))[0][irec]]) for irec in range(len(vplts))]\n",
    "    [vplts[irec]['cbars'].set_colors(day_colors[np.where(np.in1d(recording_site,recording_brain_areas['PM']))[0][irec]]) for irec in range(len(vplts))]\n",
    "    [vplts[irec]['cmedians'].set_colors(day_colors[np.where(np.in1d(recording_site,recording_brain_areas['PM']))[0][irec]]) for irec in range(len(vplts))]\n",
    "    [vplts[irec]['cmins'].set_colors(day_colors[np.where(np.in1d(recording_site,recording_brain_areas['PM']))[0][irec]]) for irec in range(len(vplts))]\n",
    "    [vplts[irec]['cmaxes'].set_colors(day_colors[np.where(np.in1d(recording_site,recording_brain_areas['PM']))[0][irec]]) for irec in range(len(vplts))]\n",
    "    ax[0].set(xlabel='ECoG Decoding [%]', ylabel='Modulation depth [sd]',  ylim=(0,0.6), title=align_event)\n",
    "\n",
    "    ax[0].plot([100*np.min(np.array(ecog_dec_acc_rec_site[align_event])[np.where(np.in1d(recording_site,recording_brain_areas['PM']))[0]]), 100*np.max(np.array(ecog_dec_acc_rec_site[align_event])[np.where(np.in1d(recording_site,recording_brain_areas['PM']))[0]])], [(tuning[align_event]['spike_md_reg_fit_PM'].coef_*100*np.min(np.array(ecog_dec_acc_rec_site[align_event])[np.where(np.in1d(recording_site,recording_brain_areas['PM']))[0]])+tuning[align_event]['spike_md_reg_fit_PM'].intercept_)[0], (tuning[align_event]['spike_md_reg_fit_PM'].coef_*100*np.max(np.array(ecog_dec_acc_rec_site[align_event])[np.where(np.in1d(recording_site,recording_brain_areas['PM']))[0]])+tuning[align_event]['spike_md_reg_fit_PM'].intercept_)[0]], 'k')\n",
    "    ax[0].annotate(f\"Regression p: {np.round(tuning[align_event]['spike_md_pcc_pval_PM'],3)}\", (3e7, 0.5))\n",
    "\n",
    "    vplts1 = [ax[1].violinplot(tuning[align_event]['spike_pd'][irec], positions=[100*ecog_dec_acc['beignet'][f\"{implants[irec]}_interp\"][recording_site[irec]-1]], showmedians=True, showmeans=False, widths=5e6) for irec in range(nrecs) if recording_site[irec] in recording_brain_areas['PM']]\n",
    "    [vplts1[irec]['bodies'][0].set_color(day_colors[np.where(np.in1d(recording_site,recording_brain_areas['PM']))[0][irec]]) for irec in range(len(vplts))]\n",
    "    [vplts1[irec]['cbars'].set_colors(day_colors[np.where(np.in1d(recording_site,recording_brain_areas['PM']))[0][irec]]) for irec in range(len(vplts))]\n",
    "    [vplts1[irec]['cmedians'].set_colors(day_colors[np.where(np.in1d(recording_site,recording_brain_areas['PM']))[0][irec]]) for irec in range(len(vplts))]\n",
    "    [vplts1[irec]['cmins'].set_colors(day_colors[np.where(np.in1d(recording_site,recording_brain_areas['PM']))[0][irec]]) for irec in range(len(vplts))]\n",
    "    [vplts1[irec]['cmaxes'].set_colors(day_colors[np.where(np.in1d(recording_site,recording_brain_areas['PM']))[0][irec]]) for irec in range(len(vplts))]\n",
    "    ax[1].set(ylabel='Preferred direction [rad]', xlabel='ECoG Decoding Accuracy [%]')\n",
    "    fig.suptitle(f\"PM stable neurons - aligned to {align_event}\")\n",
    "    fig.tight_layout()    "
   ]
  },
  {
   "cell_type": "code",
   "execution_count": null,
   "id": "01b647a4-5ba4-47c3-8f0b-3112faf81b5d",
   "metadata": {
    "execution": {
     "iopub.status.busy": "2024-05-27T07:23:49.974134Z",
     "iopub.status.idle": "2024-05-27T07:23:49.974465Z",
     "shell.execute_reply": "2024-05-27T07:23:49.974323Z",
     "shell.execute_reply.started": "2024-05-27T07:23:49.974309Z"
    },
    "tags": []
   },
   "outputs": [],
   "source": [
    "### Figure for AREADNE abstract\n",
    "# PM\n",
    "m1_color='firebrick'\n",
    "pm_color='black'\n",
    "tline_xmax = 7e7\n",
    "tline_xmin = 0\n",
    "for align_event in align_events:\n",
    "    fig, ax = plt.subplots(1,1,figsize=(3,3))\n",
    "    vplts2 = [ax.violinplot(tuning[align_event]['spike_md'][irec], positions=[100*ecog_dec_acc['beignet'][f\"{implants[irec]}_interp\"][recording_site[irec]-1]], showmedians=True, showmeans=False, widths=5e6) for irec in range(nrecs) if recording_site[irec] in recording_brain_areas['M1']]\n",
    "    # ax.plot([100*np.min(np.array(ecog_dec_acc_rec_site[align_event])[np.where(np.in1d(recording_site,recording_brain_areas['M1']))[0]]), 100*np.max(np.array(ecog_dec_acc_rec_site[align_event])[np.where(np.in1d(recording_site,recording_brain_areas['M1']))[0]])], [(tuning[align_event]['spike_md_reg_fit'].coef_*100*np.min(np.array(ecog_dec_acc_rec_site[align_event])[np.where(np.in1d(recording_site,recording_brain_areas['M1']))[0]])+tuning[align_event]['spike_md_reg_fit'].intercept_)[0], (tuning[align_event]['spike_md_reg_fit'].coef_*100*np.max(np.array(ecog_dec_acc_rec_site[align_event])[np.where(np.in1d(recording_site,recording_brain_areas['M1']))[0]])+tuning[align_event]['spike_md_reg_fit'].intercept_)[0]], color=m1_color, linewidth=3)\n",
    "    ax.plot([tline_xmin, tline_xmax], [(tuning[align_event]['spike_md_reg_fit_M1'].coef_*tline_xmin+tuning[align_event]['spike_md_reg_fit_M1'].intercept_)[0], (tuning[align_event]['spike_md_reg_fit_M1'].coef_*tline_xmax+tuning[align_event]['spike_md_reg_fit_M1'].intercept_)[0]], color=m1_color, linewidth=4)\n",
    "    # ax.annotate(f\"Regression p: {np.round(tuning[align_event]['spike_md_pcc_pval_M1'],3)}\", (4e7, 0.5))\n",
    "    \n",
    "    vplts = [ax.violinplot(tuning[align_event]['spike_md'][irec], positions=[100*ecog_dec_acc['beignet'][f\"{implants[irec]}_interp\"][recording_site[irec]-1]], showmedians=True, showmeans=False, widths=5e6) for irec in range(nrecs) if recording_site[irec] in recording_brain_areas['PM']]\n",
    "\n",
    "    [vplts[irec]['bodies'][0].set_color(pm_color) for irec in range(len(vplts))]\n",
    "    [vplts[irec]['cbars'].set_colors(pm_color) for irec in range(len(vplts))]\n",
    "    [vplts[irec]['cmedians'].set_colors(pm_color) for irec in range(len(vplts))]\n",
    "    [vplts[irec]['cmins'].set_colors(pm_color) for irec in range(len(vplts))]\n",
    "    [vplts[irec]['cmaxes'].set_colors(pm_color) for irec in range(len(vplts))]\n",
    "    [vplts2[irec]['bodies'][0].set_color(m1_color) for irec in range(len(vplts2))]\n",
    "    [vplts2[irec]['cbars'].set_colors(m1_color) for irec in range(len(vplts2))]\n",
    "    [vplts2[irec]['cmedians'].set_colors(m1_color) for irec in range(len(vplts2))]\n",
    "    [vplts2[irec]['cmins'].set_colors(m1_color) for irec in range(len(vplts2))]\n",
    "    [vplts2[irec]['cmaxes'].set_colors(m1_color) for irec in range(len(vplts2))]\n",
    "    ax.set(xlabel='ECoG Decoding [%]', ylabel='Modulation depth [sd]',  ylim=(0,0.8), title=align_event)\n",
    "    ax.plot([tline_xmin, tline_xmax], [(tuning[align_event]['spike_md_reg_fit_PM'].coef_*tline_xmin+tuning[align_event]['spike_md_reg_fit_PM'].intercept_)[0], (tuning[align_event]['spike_md_reg_fit_PM'].coef_*tline_xmax+tuning[align_event]['spike_md_reg_fit_PM'].intercept_)[0]], color=pm_color, linewidth=4)\n",
    "    # ax.plot([100*np.min(np.array(ecog_dec_acc_rec_site[align_event])[np.where(np.in1d(recording_site,recording_brain_areas['PM']))[0]]), 100*np.max(np.array(ecog_dec_acc_rec_site[align_event])[np.where(np.in1d(recording_site,recording_brain_areas['PM']))[0]])], [(tuning[align_event]['spike_md_reg_fit_PM'].coef_*100*np.min(np.array(ecog_dec_acc_rec_site[align_event])[np.where(np.in1d(recording_site,recording_brain_areas['PM']))[0]])+tuning[align_event]['spike_md_reg_fit_PM'].intercept_)[0], (tuning[align_event]['spike_md_reg_fit_PM'].coef_*100*np.max(np.array(ecog_dec_acc_rec_site[align_event])[np.where(np.in1d(recording_site,recording_brain_areas['PM']))[0]])+tuning[align_event]['spike_md_reg_fit_PM'].intercept_)[0]], color=pm_color, linewidth=3)\n",
    "    # ax.annotate(f\"Regression p: {np.round(tuning[align_event]['spike_md_pcc_pval_PM'],3)}\", (3e7, 0.5))\n",
    "\n",
    "\n",
    "    # vplts3 = [ax[1].violinplot(tuning[align_event]['spike_pd'][irec], positions=[100*ecog_dec_acc['beignet'][f\"{implants[irec]}_interp\"][recording_site[irec]-1]], showmedians=True, showmeans=False, widths=5e6) for irec in range(nrecs) if recording_site[irec] in recording_brain_areas['PM']]\n",
    "    # vplts4 = [ax[1].violinplot(tuning[align_event]['spike_pd'][irec], positions=[100*ecog_dec_acc['beignet'][f\"{implants[irec]}_interp\"][recording_site[irec]-1]], showmedians=True, showmeans=False, widths=5e6) for irec in range(nrecs) if recording_site[irec] in recording_brain_areas['M1']]\n",
    "    # [vplts3[irec]['bodies'][0].set_color('black') for irec in range(len(vplts))]\n",
    "    # [vplts3[irec]['cbars'].set_colors('black') for irec in range(len(vplts))]\n",
    "    # [vplts3[irec]['cmedians'].set_colors('black') for irec in range(len(vplts))]\n",
    "    # [vplts3[irec]['cmins'].set_colors('black') for irec in range(len(vplts))]\n",
    "    # [vplts3[irec]['cmaxes'].set_colors('black') for irec in range(len(vplts))]\n",
    "    # [vplts4[irec]['bodies'][0].set_color('red') for irec in range(len(vplts))]\n",
    "    # [vplts4[irec]['cbars'].set_colors('red') for irec in range(len(vplts))]\n",
    "    # [vplts4[irec]['cmedians'].set_colors('red') for irec in range(len(vplts))]\n",
    "    # [vplts4[irec]['cmins'].set_colors('red') for irec in range(len(vplts))]\n",
    "    # [vplts4[irec]['cmaxes'].set_colors('red') for irec in range(len(vplts))]\n",
    "    # ax[1].set(ylabel='Preferred direction [rad]', xlabel='ECoG Decoding Accuracy [%]')\n",
    "    # fig.suptitle(f\"stable neurons - aligned to {align_event}\")\n",
    "    # fig.tight_layout()\n",
    "    # if save_figs:\n",
    "    aopy.visualization.savefig(base_save_dir, subject+'_PM_MD.svg') \n",
    "    "
   ]
  },
  {
   "cell_type": "markdown",
   "id": "3a756073-6141-452e-9b61-63c306c6a2e9",
   "metadata": {},
   "source": [
    "### Significantly modulated units across all trials"
   ]
  },
  {
   "cell_type": "code",
   "execution_count": null,
   "id": "0897a3af-a06c-40f7-a9e8-92eba1df3123",
   "metadata": {
    "execution": {
     "iopub.status.busy": "2024-05-27T07:23:49.975928Z",
     "iopub.status.idle": "2024-05-27T07:23:49.976234Z",
     "shell.execute_reply": "2024-05-27T07:23:49.976105Z",
     "shell.execute_reply.started": "2024-05-27T07:23:49.976091Z"
    },
    "tags": []
   },
   "outputs": [],
   "source": [
    "for align_event in align_events:\n",
    "    fig, ax = plt.subplots(1,2,figsize=(8,3))\n",
    "    vplts = [ax[0].violinplot(tuning[align_event]['spike_md_sig'][irec], positions=[100*ecog_dec_acc_rec_site[align_event][irec]], showmedians=True, showmeans=False, widths=5e6) for irec in range(nrecs)]\n",
    "    [vplts[irec]['bodies'][0].set_color(day_colors[irec]) for irec in range(nrecs)]\n",
    "    [vplts[irec]['cbars'].set_colors(day_colors[irec]) for irec in range(nrecs)]\n",
    "    [vplts[irec]['cmedians'].set_colors(day_colors[irec]) for irec in range(nrecs)]\n",
    "    [vplts[irec]['cmins'].set_colors(day_colors[irec]) for irec in range(nrecs)]\n",
    "    [vplts[irec]['cmaxes'].set_colors(day_colors[irec]) for irec in range(nrecs)]\n",
    "    ax[0].set(xlabel='ECoG Decoding [%]', ylabel='Modulation depth [sd]', ylim=(0,1.5))\n",
    "\n",
    "    ax[0].plot([100*np.min(ecog_dec_acc_rec_site[align_event]), 100*np.max(ecog_dec_acc_rec_site[align_event])], [(tuning[align_event]['spike_md_reg_fit_sig'].coef_*100*np.min(ecog_dec_acc_rec_site[align_event])+tuning[align_event]['spike_md_reg_fit_sig'].intercept_)[0], (tuning[align_event]['spike_md_reg_fit_sig'].coef_*100*np.max(ecog_dec_acc_rec_site[align_event])+tuning[align_event]['spike_md_reg_fit_sig'].intercept_)[0]], 'k')\n",
    "    ax[0].annotate(f\"Regression p: {np.round(tuning[align_event]['spike_md_pcc_pval_sig'],3)}\", (3, 0.5))\n",
    "\n",
    "    vplts1 = [ax[1].violinplot(tuning[align_event]['spike_pd_sig'][irec], positions=[100*ecog_dec_acc_rec_site[align_event][irec]], showmedians=True, showmeans=False) for irec in range(nrecs)]\n",
    "    [vplts1[irec]['bodies'][0].set_color(day_colors[irec]) for irec in range(nrecs)]\n",
    "    [vplts1[irec]['cbars'].set_colors(day_colors[irec]) for irec in range(nrecs)]\n",
    "    [vplts1[irec]['cmedians'].set_colors(day_colors[irec]) for irec in range(nrecs)]\n",
    "    [vplts1[irec]['cmins'].set_colors(day_colors[irec]) for irec in range(nrecs)]\n",
    "    [vplts1[irec]['cmaxes'].set_colors(day_colors[irec]) for irec in range(nrecs)]\n",
    "    ax[1].set(ylabel='Preferred direction [rad]', xlabel='ECoG Decoding Accuracy [%]')\n",
    "    fig.suptitle(f\"Significantly modulated neurons - aligned to {align_event}\")\n",
    "    fig.tight_layout()\n",
    "    plt.show()"
   ]
  },
  {
   "cell_type": "code",
   "execution_count": null,
   "id": "31376c0c-dee9-4936-94f9-aa3505f63f57",
   "metadata": {
    "execution": {
     "iopub.status.busy": "2024-05-27T07:23:49.978255Z",
     "iopub.status.idle": "2024-05-27T07:23:49.978555Z",
     "shell.execute_reply": "2024-05-27T07:23:49.978422Z",
     "shell.execute_reply.started": "2024-05-27T07:23:49.978408Z"
    },
    "tags": []
   },
   "outputs": [],
   "source": [
    "# M1\n",
    "for align_event in align_events:\n",
    "    fig, ax = plt.subplots(1,2,figsize=(8,3))\n",
    "    vplts = [ax[0].violinplot(tuning[align_event]['spike_md_sig'][irec], positions=[100*ecog_dec_acc_rec_site[align_event][irec]], showmedians=True, showmeans=False) for irec in range(nrecs) if recording_site[irec] in recording_brain_areas['M1']]\n",
    "    # [vpltsM1sm[ip]['bodies'][0].set_color(day_colors[np.where(np.in1d(recording_site,recording_brain_areas['M1']))[0][ip]]) for ip in range(len(vpltsM1sm))]\n",
    "    [vplts[irec]['bodies'][0].set_color(day_colors[np.where(np.in1d(recording_site,recording_brain_areas['M1']))[0][irec]]) for irec in range(len(vplts))]\n",
    "    [vplts[irec]['cbars'].set_colors(day_colors[np.where(np.in1d(recording_site,recording_brain_areas['M1']))[0][irec]]) for irec in range(len(vplts))]\n",
    "    [vplts[irec]['cmedians'].set_colors(day_colors[np.where(np.in1d(recording_site,recording_brain_areas['M1']))[0][irec]]) for irec in range(len(vplts))]\n",
    "    [vplts[irec]['cmins'].set_colors(day_colors[np.where(np.in1d(recording_site,recording_brain_areas['M1']))[0][irec]]) for irec in range(len(vplts))]\n",
    "    [vplts[irec]['cmaxes'].set_colors(day_colors[np.where(np.in1d(recording_site,recording_brain_areas['M1']))[0][irec]]) for irec in range(len(vplts))]\n",
    "    ax[0].set(xlabel='ECoG Decoding [%]', ylabel='Modulation depth [sd]', ylim=(0,1))\n",
    "\n",
    "    ax[0].plot([100*np.min(np.array(ecog_dec_acc_rec_site[align_event])[np.where(np.in1d(recording_site,recording_brain_areas['M1']))[0]]), 100*np.max(np.array(ecog_dec_acc_rec_site[align_event])[np.where(np.in1d(recording_site,recording_brain_areas['M1']))[0]])], [(tuning[align_event]['spike_md_reg_fit_sig'].coef_*100*np.min(np.array(ecog_dec_acc_rec_site[align_event])[np.where(np.in1d(recording_site,recording_brain_areas['M1']))[0]])+tuning[align_event]['spike_md_reg_fit_sig'].intercept_)[0], (tuning[align_event]['spike_md_reg_fit_sig'].coef_*100*np.max(np.array(ecog_dec_acc_rec_site[align_event])[np.where(np.in1d(recording_site,recording_brain_areas['M1']))[0]])+tuning[align_event]['spike_md_reg_fit_sig'].intercept_)[0]], 'k')\n",
    "    ax[0].annotate(f\"Regression p: {np.round(tuning[align_event]['spike_md_pcc_pval_M1_sig'],3)}\", (16, 0.5))\n",
    "\n",
    "    vplts1 = [ax[1].violinplot(tuning[align_event]['spike_pd_sig'][irec], positions=[100*ecog_dec_acc_rec_site[align_event][irec]], showmedians=True, showmeans=False) for irec in range(nrecs) if recording_site[irec] in recording_brain_areas['M1']]\n",
    "    [vplts1[irec]['bodies'][0].set_color(day_colors[np.where(np.in1d(recording_site,recording_brain_areas['M1']))[0][irec]]) for irec in range(len(vplts))]\n",
    "    [vplts1[irec]['cbars'].set_colors(day_colors[np.where(np.in1d(recording_site,recording_brain_areas['M1']))[0][irec]]) for irec in range(len(vplts))]\n",
    "    [vplts1[irec]['cmedians'].set_colors(day_colors[np.where(np.in1d(recording_site,recording_brain_areas['M1']))[0][irec]]) for irec in range(len(vplts))]\n",
    "    [vplts1[irec]['cmins'].set_colors(day_colors[np.where(np.in1d(recording_site,recording_brain_areas['M1']))[0][irec]]) for irec in range(len(vplts))]\n",
    "    [vplts1[irec]['cmaxes'].set_colors(day_colors[np.where(np.in1d(recording_site,recording_brain_areas['M1']))[0][irec]]) for irec in range(len(vplts))]\n",
    "    ax[1].set(ylabel='Preferred direction [rad]', xlabel='ECoG Decoding Accuracy [%]')\n",
    "    fig.suptitle(f\"Significantly modulated M1 neurons - aligned to {align_event}\")\n",
    "    fig.tight_layout()\n",
    "    plt.show()"
   ]
  },
  {
   "cell_type": "code",
   "execution_count": null,
   "id": "389a42aa-502a-417e-8f94-9078ca9c3af7",
   "metadata": {
    "execution": {
     "iopub.status.busy": "2024-05-27T07:23:49.979647Z",
     "iopub.status.idle": "2024-05-27T07:23:49.979928Z",
     "shell.execute_reply": "2024-05-27T07:23:49.979803Z",
     "shell.execute_reply.started": "2024-05-27T07:23:49.979791Z"
    },
    "tags": []
   },
   "outputs": [],
   "source": [
    "# PM\n",
    "for align_event in align_events:\n",
    "    fig, ax = plt.subplots(1,2,figsize=(8,3))\n",
    "    vplts = [ax[0].violinplot(tuning[align_event]['spike_md_sig'][irec], positions=[100*ecog_dec_acc_rec_site[align_event][irec]], showmedians=True, showmeans=False) for irec in range(nrecs) if recording_site[irec] in recording_brain_areas['PM']]\n",
    "    [vplts[irec]['bodies'][0].set_color(day_colors[np.where(np.in1d(recording_site,recording_brain_areas['PM']))[0][irec]]) for irec in range(len(vplts))]\n",
    "    [vplts[irec]['cbars'].set_colors(day_colors[np.where(np.in1d(recording_site,recording_brain_areas['PM']))[0][irec]]) for irec in range(len(vplts))]\n",
    "    [vplts[irec]['cmedians'].set_colors(day_colors[np.where(np.in1d(recording_site,recording_brain_areas['PM']))[0][irec]]) for irec in range(len(vplts))]\n",
    "    [vplts[irec]['cmins'].set_colors(day_colors[np.where(np.in1d(recording_site,recording_brain_areas['PM']))[0][irec]]) for irec in range(len(vplts))]\n",
    "    [vplts[irec]['cmaxes'].set_colors(day_colors[np.where(np.in1d(recording_site,recording_brain_areas['PM']))[0][irec]]) for irec in range(len(vplts))]\n",
    "    ax[0].set(xlabel='ECoG Decoding [%]', ylabel='Modulation depth [sd]',  ylim=(0,1))\n",
    "\n",
    "    ax[0].plot([100*np.min(np.array(ecog_dec_acc_rec_site[align_event])[np.where(np.in1d(recording_site,recording_brain_areas['PM']))[0]]), 100*np.max(np.array(ecog_dec_acc_rec_site[align_event])[np.where(np.in1d(recording_site,recording_brain_areas['PM']))[0]])], [(tuning[align_event]['spike_md_reg_fit_PM_sig'].coef_*100*np.min(np.array(ecog_dec_acc_rec_site[align_event])[np.where(np.in1d(recording_site,recording_brain_areas['PM']))[0]])+tuning[align_event]['spike_md_reg_fit_PM_sig'].intercept_)[0], (tuning[align_event]['spike_md_reg_fit_PM_sig'].coef_*100*np.max(np.array(ecog_dec_acc_rec_site[align_event])[np.where(np.in1d(recording_site,recording_brain_areas['PM']))[0]])+tuning[align_event]['spike_md_reg_fit_PM_sig'].intercept_)[0]], 'k')\n",
    "    ax[0].annotate(f\"Regression p: {np.round(tuning[align_event]['spike_md_pcc_pval_PM_sig'],3)}\", (18, 0.5))\n",
    "\n",
    "    vplts1 = [ax[1].violinplot(tuning[align_event]['spike_pd_sig'][irec], positions=[100*ecog_dec_acc_rec_site[align_event][irec]], showmedians=True, showmeans=False) for irec in range(nrecs) if recording_site[irec] in recording_brain_areas['PM']]\n",
    "    [vplts1[irec]['bodies'][0].set_color(day_colors[np.where(np.in1d(recording_site,recording_brain_areas['PM']))[0][irec]]) for irec in range(len(vplts))]\n",
    "    [vplts1[irec]['cbars'].set_colors(day_colors[np.where(np.in1d(recording_site,recording_brain_areas['PM']))[0][irec]]) for irec in range(len(vplts))]\n",
    "    [vplts1[irec]['cmedians'].set_colors(day_colors[np.where(np.in1d(recording_site,recording_brain_areas['PM']))[0][irec]]) for irec in range(len(vplts))]\n",
    "    [vplts1[irec]['cmins'].set_colors(day_colors[np.where(np.in1d(recording_site,recording_brain_areas['PM']))[0][irec]]) for irec in range(len(vplts))]\n",
    "    [vplts1[irec]['cmaxes'].set_colors(day_colors[np.where(np.in1d(recording_site,recording_brain_areas['PM']))[0][irec]]) for irec in range(len(vplts))]\n",
    "    ax[1].set(ylabel='Preferred direction [rad]', xlabel='ECoG Decoding Accuracy [%]')\n",
    "    fig.suptitle(f\"Significantly modulated PM neurons  - aligned to {align_event}\")\n",
    "    fig.tight_layout()\n",
    "    plt.show()"
   ]
  },
  {
   "cell_type": "code",
   "execution_count": null,
   "id": "8d8d0f0a-a6d0-40b1-a162-87998e5d6e4f",
   "metadata": {
    "execution": {
     "iopub.status.busy": "2024-05-27T07:23:49.980885Z",
     "iopub.status.idle": "2024-05-27T07:23:49.981149Z",
     "shell.execute_reply": "2024-05-27T07:23:49.981028Z",
     "shell.execute_reply.started": "2024-05-27T07:23:49.981015Z"
    },
    "tags": []
   },
   "outputs": [],
   "source": [
    "# Plot proportion of significantly modulated units at each recording site\n",
    "fig, ax = plt.subplots(1,len(align_events),figsize=(len(align_events)*4,3))\n",
    "for iae, align_event in enumerate(align_events):\n",
    "    [ax[iae].plot([100*ecog_dec_acc_rec_site[align_event][irec]], len(tuning[align_event]['spike_md_sig'][irec])/len(tuning[align_event]['spike_md'][irec]),'k.') for irec in range(nrecs)]\n",
    "    ax[iae].set(xlabel='ECoG Decoding [%]', ylabel='Proportion of modulated units', ylim=(0, 1), title=align_event)\n",
    "plt.suptitle('All recording sites')\n",
    "fig.tight_layout()\n",
    "plt.show()"
   ]
  },
  {
   "cell_type": "code",
   "execution_count": null,
   "id": "2de708ea-e429-4c35-9b79-4294d6bdd656",
   "metadata": {
    "execution": {
     "iopub.status.busy": "2024-05-27T07:23:49.983762Z",
     "iopub.status.idle": "2024-05-27T07:23:49.984134Z",
     "shell.execute_reply": "2024-05-27T07:23:49.983978Z",
     "shell.execute_reply.started": "2024-05-27T07:23:49.983963Z"
    },
    "tags": []
   },
   "outputs": [],
   "source": [
    "# Plot proportion of significantly modulated units at each recording site\n",
    "fig, ax = plt.subplots(1,len(align_events),figsize=(len(align_events)*4,3))\n",
    "for iae, align_event in enumerate(align_events):\n",
    "    [ax[iae].plot([100*ecog_dec_acc_rec_site[align_event][irec]], len(tuning[align_event]['spike_md_sig'][irec])/len(tuning[align_event]['spike_md'][irec]),'k.') for irec in range(nrecs) if recording_site[irec] in recording_brain_areas['M1']]\n",
    "    ax[iae].set(xlabel='ECoG Decoding [%]', ylabel='Proportion of modulated units', ylim=(0, 1), title=align_event)\n",
    "plt.suptitle('M1 recording sites')\n",
    "fig.tight_layout()\n",
    "plt.show()"
   ]
  },
  {
   "cell_type": "code",
   "execution_count": null,
   "id": "d61b3658-bdf8-4899-be49-d626e3671f23",
   "metadata": {
    "execution": {
     "iopub.status.busy": "2024-05-27T07:23:49.985470Z",
     "iopub.status.idle": "2024-05-27T07:23:49.985751Z",
     "shell.execute_reply": "2024-05-27T07:23:49.985628Z",
     "shell.execute_reply.started": "2024-05-27T07:23:49.985616Z"
    },
    "tags": []
   },
   "outputs": [],
   "source": [
    "# Plot proportion of significantly modulated units at each recording site\n",
    "fig, ax = plt.subplots(1,len(align_events),figsize=(len(align_events)*4,3))\n",
    "for iae, align_event in enumerate(align_events):\n",
    "    [ax[iae].plot([100*ecog_dec_acc_rec_site[align_event][irec]], len(tuning[align_event]['spike_md_sig'][irec])/len(tuning[align_event]['spike_md'][irec]),'k.') for irec in range(nrecs) if recording_site[irec] in recording_brain_areas['PM']]\n",
    "    ax[iae].set(xlabel='ECoG Decoding [%]', ylabel='Proportion of modulated units', ylim=(0, 1), title=align_event)\n",
    "plt.suptitle('PM recording sites')\n",
    "fig.tight_layout()\n",
    "plt.show()"
   ]
  },
  {
   "cell_type": "markdown",
   "id": "992125c4-6c00-47e2-95b3-ed8f3b42e7d8",
   "metadata": {},
   "source": [
    "### Plot results against drift range"
   ]
  },
  {
   "cell_type": "code",
   "execution_count": null,
   "id": "f4adeb3e-e1f6-4c61-bdf7-46f1aca59a7a",
   "metadata": {
    "execution": {
     "iopub.status.busy": "2024-05-27T07:23:49.986745Z",
     "iopub.status.idle": "2024-05-27T07:23:49.987005Z",
     "shell.execute_reply": "2024-05-27T07:23:49.986888Z",
     "shell.execute_reply.started": "2024-05-27T07:23:49.986876Z"
    },
    "tags": []
   },
   "outputs": [],
   "source": [
    "print(ksdrift.keys())\n",
    "print(ksdrift['drift_max'])\n",
    "\n",
    "for align_event in align_events:\n",
    "    fig, ax = plt.subplots(1,2,figsize=(8,3))\n",
    "    vplts = [ax[0].violinplot(tuning[align_event]['spike_md'][irec], positions=[ksdrift['drift_max'][irec]], showmedians=True, showmeans=False) for irec in range(nrecs)]\n",
    "    [vplts[irec]['bodies'][0].set_color(day_colors[irec]) for irec in range(nrecs)]\n",
    "    [vplts[irec]['cbars'].set_colors(day_colors[irec]) for irec in range(nrecs)]\n",
    "    [vplts[irec]['cmedians'].set_colors(day_colors[irec]) for irec in range(nrecs)]\n",
    "    [vplts[irec]['cmins'].set_colors(day_colors[irec]) for irec in range(nrecs)]\n",
    "    [vplts[irec]['cmaxes'].set_colors(day_colors[irec]) for irec in range(nrecs)]\n",
    "    ax[0].set(xlabel='KS drift [um]', ylabel='Modulation depth [sd]', ylim=(0,1), title=align_event)\n",
    "\n",
    "    # ax[0].plot([100*np.min(ecog_dec_acc_rec_site[align_event]), 100*np.max(ecog_dec_acc_rec_site[align_event])], [(tuning[align_event]['spike_md_reg_fit'].coef_*100*np.min(ecog_dec_acc_rec_site[align_event])+tuning[align_event]['spike_md_reg_fit'].intercept_)[0], (tuning[align_event]['spike_md_reg_fit'].coef_*100*np.max(ecog_dec_acc_rec_site[align_event])+tuning[align_event]['spike_md_reg_fit'].intercept_)[0]], 'k')\n",
    "    # ax[0].annotate(f\"Regression p: {np.round(tuning[align_event]['spike_md_pcc_pval'],3)}\", (16, 0.5))\n",
    "\n",
    "    vplts1 = [ax[1].violinplot(tuning[align_event]['spike_pd'][irec], positions=[ksdrift['drift_max'][irec]], showmedians=True, showmeans=False) for irec in range(nrecs)]\n",
    "    [vplts1[irec]['bodies'][0].set_color(day_colors[irec]) for irec in range(nrecs)]\n",
    "    [vplts1[irec]['cbars'].set_colors(day_colors[irec]) for irec in range(nrecs)]\n",
    "    [vplts1[irec]['cmedians'].set_colors(day_colors[irec]) for irec in range(nrecs)]\n",
    "    [vplts1[irec]['cmins'].set_colors(day_colors[irec]) for irec in range(nrecs)]\n",
    "    [vplts1[irec]['cmaxes'].set_colors(day_colors[irec]) for irec in range(nrecs)]\n",
    "    ax[1].set(ylabel='KS drift [um]', xlabel='ECoG Decoding Accuracy [%]', title=align_event)\n",
    "    fig.suptitle(f\"All stable neurons - aligned to {align_event}\")\n",
    "    fig.tight_layout()\n",
    "    plt.show()"
   ]
  },
  {
   "cell_type": "markdown",
   "id": "5d8a0a30-a8c7-4e2f-8fb8-137479434e6c",
   "metadata": {},
   "source": [
    "## Trial adding"
   ]
  },
  {
   "cell_type": "code",
   "execution_count": null,
   "id": "0f821c8a-7b0e-4049-a884-25edf9cee1cb",
   "metadata": {
    "execution": {
     "iopub.status.busy": "2024-05-27T07:23:49.987879Z",
     "iopub.status.idle": "2024-05-27T07:23:49.988124Z",
     "shell.execute_reply": "2024-05-27T07:23:49.988014Z",
     "shell.execute_reply.started": "2024-05-27T07:23:49.988003Z"
    },
    "tags": []
   },
   "outputs": [],
   "source": [
    "# for align_event in align_events:\n",
    "#     fig, ax = plt.subplots(1,len(tuning_tradd[align_event]['spike_md']),figsize=(len(tuning_tradd[align_event]['spike_md'])*4,3))\n",
    "#     for itradd in range(len(tuning_tradd[align_event]['spike_md'])):\n",
    "        \n",
    "#         vplts = [ax[itradd].violinplot(tuning_tradd[align_event]['spike_md'][itradd][irec], positions=[100*ecog_dec_acc['beignet']['NPinsert72_interp'][recording_site[irec]]], showmedians=True, showmeans=False) for irec in range(nrecs)]\n",
    "#         # for iday in parts['bodies']:\n",
    "#         [vplts[irec]['bodies'][0].set_color(day_colors[irec]) for irec in range(nrecs)]\n",
    "#         [vplts[irec]['cbars'].set_colors(day_colors[irec]) for irec in range(nrecs)]\n",
    "#         [vplts[irec]['cmedians'].set_colors(day_colors[irec]) for irec in range(nrecs)]\n",
    "#         [vplts[irec]['cmins'].set_colors(day_colors[irec]) for irec in range(nrecs)]\n",
    "#         [vplts[irec]['cmaxes'].set_colors(day_colors[irec]) for irec in range(nrecs)]\n",
    "#         ax[itradd].set(xlabel=\"ECoG Decoding Accuracy\", ylabel=\"Zscored MD\", title=f\"{(itradd+1)*ntrial_bin_size} trials\")\n",
    "        \n",
    "#     plt.suptitle(align_event)\n",
    "#     fig.tight_layout()\n",
    "#     plt.show()"
   ]
  },
  {
   "cell_type": "markdown",
   "id": "759bd3bc-1359-4f7d-a263-930844127a3b",
   "metadata": {},
   "source": [
    "### All recording sites"
   ]
  },
  {
   "cell_type": "code",
   "execution_count": null,
   "id": "e1be3538-ee23-4b03-ae48-4ecdad98c274",
   "metadata": {
    "execution": {
     "iopub.status.busy": "2024-05-27T07:23:49.989267Z",
     "iopub.status.idle": "2024-05-27T07:23:49.989528Z",
     "shell.execute_reply": "2024-05-27T07:23:49.989410Z",
     "shell.execute_reply.started": "2024-05-27T07:23:49.989398Z"
    },
    "tags": []
   },
   "outputs": [],
   "source": [
    "fig, ax = plt.subplots(1,3,figsize=(12,3))\n",
    "[ax[iae].plot(np.arange(1,ntrial_adding_bins+1)*ntrial_bin_size, tuning_tradd[align_event]['spike_md_pcc_pval']) for iae, align_event in enumerate(align_events)]\n",
    "[ax[iae].set(xlabel = 'Trials Used', ylabel='Slope p-value', title=f\"{align_event}\") for iae, align_event in enumerate(align_events)]\n",
    "[ax[iae].plot([0, ntrial_adding_bins*ntrial_bin_size], [0.05, 0.05], 'r--') for iae, align_event in enumerate(align_events)]\n",
    "for iax, align_event in enumerate(align_events):\n",
    "    slopes = [tuning_tradd[align_event]['spike_md_reg_fit'][itradd].coef_ for itradd in range(ntrial_adding_bins)]\n",
    "    twinax = ax[iax].twinx()\n",
    "    twinax.plot(np.arange(1,ntrial_adding_bins+1)*ntrial_bin_size, np.squeeze(np.array(slopes)), 'k')\n",
    "    twinax.set(ylabel='Slope')\n",
    "plt.suptitle('All units')\n",
    "fig.tight_layout()\n",
    "plt.show()"
   ]
  },
  {
   "cell_type": "markdown",
   "id": "1938c4d2-37f6-4929-8d29-8caebe7d044d",
   "metadata": {},
   "source": [
    "### Split by brain area"
   ]
  },
  {
   "cell_type": "code",
   "execution_count": null,
   "id": "82a0e4fc-6043-4022-9406-9980f31f6e8f",
   "metadata": {
    "execution": {
     "iopub.status.busy": "2024-05-27T07:23:49.992264Z",
     "iopub.status.idle": "2024-05-27T07:23:49.992595Z",
     "shell.execute_reply": "2024-05-27T07:23:49.992450Z",
     "shell.execute_reply.started": "2024-05-27T07:23:49.992437Z"
    },
    "tags": []
   },
   "outputs": [],
   "source": [
    "fig, ax = plt.subplots(1,3,figsize=(12,3))\n",
    "[ax[iae].plot(np.arange(1,ntrial_adding_bins+1)*ntrial_bin_size, tuning_tradd[align_event]['spike_md_pcc_pval_M1']) for iae, align_event in enumerate(align_events)]\n",
    "[ax[iae].set(xlabel = 'Trials Used', ylabel='Slope p-value', title=f\"{align_event}\") for iae, align_event in enumerate(align_events)]\n",
    "[ax[iae].plot([0, ntrial_adding_bins*ntrial_bin_size], [0.05, 0.05], 'r--') for iae, align_event in enumerate(align_events)]\n",
    "for iax, align_event in enumerate(align_events):\n",
    "    slopes = [tuning_tradd[align_event]['spike_md_reg_fit_M1'][itradd].coef_ for itradd in range(ntrial_adding_bins)]\n",
    "    twinax = ax[iax].twinx()\n",
    "    twinax.plot(np.arange(1,ntrial_adding_bins+1)*ntrial_bin_size, np.squeeze(np.array(slopes)), 'k')\n",
    "    twinax.set(ylabel='Slope (black)')\n",
    "plt.suptitle('All units - M1')\n",
    "fig.tight_layout()\n",
    "plt.show()"
   ]
  },
  {
   "cell_type": "code",
   "execution_count": null,
   "id": "eaad7641-59cd-4afd-8e7b-7988edc77d1a",
   "metadata": {
    "execution": {
     "iopub.status.busy": "2024-05-27T07:23:49.994659Z",
     "iopub.status.idle": "2024-05-27T07:23:49.995231Z",
     "shell.execute_reply": "2024-05-27T07:23:49.994846Z",
     "shell.execute_reply.started": "2024-05-27T07:23:49.994833Z"
    },
    "tags": []
   },
   "outputs": [],
   "source": [
    "fig, ax = plt.subplots(1,3,figsize=(12,3))\n",
    "[ax[iae].plot(np.arange(1,ntrial_adding_bins+1)*ntrial_bin_size, tuning_tradd[align_event]['spike_md_pcc_pval_PM']) for iae, align_event in enumerate(align_events)]\n",
    "[ax[iae].set(xlabel = 'Trials Used', ylabel='Slope p-value (blue)', title=f\"{align_event}\") for iae, align_event in enumerate(align_events)]\n",
    "[ax[iae].plot([0, ntrial_adding_bins*ntrial_bin_size], [0.05, 0.05], 'r--') for iae, align_event in enumerate(align_events)]\n",
    "for iax, align_event in enumerate(align_events):\n",
    "    slopes = [tuning_tradd[align_event]['spike_md_reg_fit_PM'][itradd].coef_ for itradd in range(ntrial_adding_bins)]\n",
    "    twinax = ax[iax].twinx()\n",
    "    twinax.plot(np.arange(1,ntrial_adding_bins+1)*ntrial_bin_size, np.squeeze(np.array(slopes)), 'k')\n",
    "    twinax.set(ylabel='Slope')\n",
    "plt.suptitle('All units - PM')\n",
    "fig.tight_layout()\n",
    "plt.show()"
   ]
  },
  {
   "cell_type": "markdown",
   "id": "5af094ba-faf4-48a0-bad4-d2ce06206b8b",
   "metadata": {},
   "source": [
    "### Significantly modulated units"
   ]
  },
  {
   "cell_type": "code",
   "execution_count": null,
   "id": "56fd79c3-f9b2-43f6-b29c-03fced417dae",
   "metadata": {
    "execution": {
     "iopub.status.busy": "2024-05-27T07:23:49.996851Z",
     "iopub.status.idle": "2024-05-27T07:23:49.997301Z",
     "shell.execute_reply": "2024-05-27T07:23:49.997094Z",
     "shell.execute_reply.started": "2024-05-27T07:23:49.997074Z"
    },
    "tags": []
   },
   "outputs": [],
   "source": [
    "fig, ax = plt.subplots(1,3,figsize=(12,3))\n",
    "[ax[iae].plot(np.arange(1,ntrial_adding_bins+1)*ntrial_bin_size, tuning_tradd[align_event]['spike_md_pcc_pval_sig']) for iae, align_event in enumerate(align_events)]\n",
    "[ax[iae].set(xlabel = 'Trials Used', ylabel='Slope p-value', title=f\"{align_event}\") for iae, align_event in enumerate(align_events)]\n",
    "[ax[iae].plot([0, ntrial_adding_bins*ntrial_bin_size], [0.05, 0.05], 'r--') for iae, align_event in enumerate(align_events)]\n",
    "for iax, align_event in enumerate(align_events):\n",
    "    slopes = [tuning_tradd[align_event]['spike_md_reg_fit_sig'][itradd].coef_ for itradd in range(ntrial_adding_bins)]\n",
    "    twinax = ax[iax].twinx()\n",
    "    twinax.plot(np.arange(1,ntrial_adding_bins+1)*ntrial_bin_size, np.squeeze(np.array(slopes)), 'k')\n",
    "    twinax.set(ylabel='Slope')\n",
    "plt.suptitle('Significantly modulated units')\n",
    "fig.tight_layout()\n",
    "plt.show()"
   ]
  },
  {
   "cell_type": "code",
   "execution_count": null,
   "id": "c2f8bf9a-0f17-4b40-b219-5b972f628d67",
   "metadata": {
    "execution": {
     "iopub.status.busy": "2024-05-27T07:23:49.999558Z",
     "iopub.status.idle": "2024-05-27T07:23:49.999849Z",
     "shell.execute_reply": "2024-05-27T07:23:49.999722Z",
     "shell.execute_reply.started": "2024-05-27T07:23:49.999710Z"
    },
    "tags": []
   },
   "outputs": [],
   "source": [
    "fig, ax = plt.subplots(1,3,figsize=(12,3))\n",
    "[ax[iae].plot(np.arange(1,ntrial_adding_bins+1)*ntrial_bin_size, tuning_tradd[align_event]['spike_md_pcc_pval_M1_sig']) for iae, align_event in enumerate(align_events)]\n",
    "[ax[iae].set(xlabel = 'Trials Used', ylabel='Slope p-value', title=f\"{align_event}\") for iae, align_event in enumerate(align_events)]\n",
    "[ax[iae].plot([0, ntrial_adding_bins*ntrial_bin_size], [0.05, 0.05], 'r--') for iae, align_event in enumerate(align_events)]\n",
    "for iax, align_event in enumerate(align_events):\n",
    "    slopes = [tuning_tradd[align_event]['spike_md_reg_fit_M1_sig'][itradd].coef_ for itradd in range(ntrial_adding_bins)]\n",
    "    twinax = ax[iax].twinx()\n",
    "    twinax.plot(np.arange(1,ntrial_adding_bins+1)*ntrial_bin_size, np.squeeze(np.array(slopes)), 'k')\n",
    "    twinax.set(ylabel='Slope (black)')\n",
    "plt.suptitle('Significantly modulated units - M1')\n",
    "fig.tight_layout()\n",
    "plt.show()"
   ]
  },
  {
   "cell_type": "code",
   "execution_count": null,
   "id": "3637ded6-3986-4c46-8c48-5f5e65b8d4d7",
   "metadata": {
    "execution": {
     "iopub.status.busy": "2024-05-27T07:23:50.000967Z",
     "iopub.status.idle": "2024-05-27T07:23:50.001219Z",
     "shell.execute_reply": "2024-05-27T07:23:50.001108Z",
     "shell.execute_reply.started": "2024-05-27T07:23:50.001097Z"
    },
    "tags": []
   },
   "outputs": [],
   "source": [
    "fig, ax = plt.subplots(1,3,figsize=(12,3))\n",
    "[ax[iae].plot(np.arange(1,ntrial_adding_bins+1)*ntrial_bin_size, tuning_tradd[align_event]['spike_md_pcc_pval_PM_sig']) for iae, align_event in enumerate(align_events)]\n",
    "[ax[iae].set(xlabel = 'Trials Used', ylabel='Slope p-value (blue)', title=f\"{align_event}\") for iae, align_event in enumerate(align_events)]\n",
    "[ax[iae].plot([0, ntrial_adding_bins*ntrial_bin_size], [0.05, 0.05], 'r--') for iae, align_event in enumerate(align_events)]\n",
    "for iax, align_event in enumerate(align_events):\n",
    "    slopes = [tuning_tradd[align_event]['spike_md_reg_fit_PM_sig'][itradd].coef_ for itradd in range(ntrial_adding_bins)]\n",
    "    twinax = ax[iax].twinx()\n",
    "    twinax.plot(np.arange(1,ntrial_adding_bins+1)*ntrial_bin_size, np.squeeze(np.array(slopes)), 'k')\n",
    "    twinax.set(ylabel='Slope')\n",
    "plt.suptitle('Significantly modulated units - PM')\n",
    "fig.tight_layout()\n",
    "plt.show()"
   ]
  },
  {
   "cell_type": "markdown",
   "id": "bbb22d3d-dae9-4a92-a0ed-be12b3b64fd1",
   "metadata": {},
   "source": [
    "## Early - late comparison"
   ]
  },
  {
   "cell_type": "code",
   "execution_count": null,
   "id": "e3371410-094c-4df8-8984-d42b6c895f6a",
   "metadata": {
    "execution": {
     "iopub.status.busy": "2024-05-27T07:23:50.002800Z",
     "iopub.status.idle": "2024-05-27T07:23:50.003085Z",
     "shell.execute_reply": "2024-05-27T07:23:50.002957Z",
     "shell.execute_reply.started": "2024-05-27T07:23:50.002945Z"
    },
    "tags": []
   },
   "outputs": [],
   "source": [
    "# for align_event in align_events:\n",
    "for irec in range(nrecs):\n",
    "    fig, ax = plt.subplots(1,1,figsize=(13,2))\n",
    "    delta_md = tuning[align_events[-1]]['early_spike_md'][irec][stable_unit_idx[irec]] - tuning[align_events[-1]]['late_spike_md'][irec][stable_unit_idx[irec]]\n",
    "    delta_pd = np.abs(tuning[align_events[-1]]['early_spike_pd'][irec][stable_unit_idx[irec]] - tuning[align_events[-1]]['late_spike_pd'][irec][stable_unit_idx[irec]])\n",
    "    ax.plot(delta_pd[np.argsort(delta_pd)], color=day_colors[irec])\n",
    "    ax.plot([0,len(delta_pd)], [np.deg2rad(45), np.deg2rad(45)], color='darkgreen')\n",
    "    ax.plot([0,len(delta_pd)], [2*np.pi-np.deg2rad(45), 2*np.pi-np.deg2rad(45)], color='darkgreen')\n",
    "    ax02 = ax.twinx()\n",
    "    ax02.plot(delta_md[np.argsort(delta_pd)], '--', color=day_colors[irec])\n",
    "    ax.set_xticks(np.arange(len(delta_pd)), stable_unit_labels[irec][np.argsort(delta_pd)], rotation=90)\n",
    "    ax.set(xlabel='Unit number', ylabel='dPD', ylim=(-.5, 2*np.pi))\n",
    "    ax02.set(ylabel='dMD')\n",
    "    plt.suptitle(f\"Tuning changes between early and late trials ({ntr_early_late} trials each). Aligned to {align_events[-1]}\")\n",
    "    fig.tight_layout()\n",
    "    # ax[1].set_xticks(np.arange(len(stable_unit_idx[irec])), stable_unit_idx[irec], rotation=90)"
   ]
  },
  {
   "cell_type": "markdown",
   "id": "cbf41a83-53cf-4274-b232-4ccad5574b9a",
   "metadata": {},
   "source": [
    "### Consistent PD neuron tuning"
   ]
  },
  {
   "cell_type": "code",
   "execution_count": null,
   "id": "5dc7368e-856a-4164-b129-d5ea6f694d1a",
   "metadata": {
    "execution": {
     "iopub.status.busy": "2024-05-27T07:23:50.003931Z",
     "iopub.status.idle": "2024-05-27T07:23:50.004184Z",
     "shell.execute_reply": "2024-05-27T07:23:50.004069Z",
     "shell.execute_reply.started": "2024-05-27T07:23:50.004058Z"
    },
    "tags": []
   },
   "outputs": [],
   "source": [
    "for align_event in align_events:\n",
    "    fig, ax = plt.subplots(1,2,figsize=(8,3))\n",
    "    vplts = [ax[0].violinplot(tuning[align_event]['cons_spike_md'][irec], positions=[100*ecog_dec_acc_rec_site[align_event][irec]], showmedians=True, showmeans=False) for irec in range(nrecs)]\n",
    "    [vplts[irec]['bodies'][0].set_color(day_colors[irec]) for irec in range(nrecs)]\n",
    "    [vplts[irec]['cbars'].set_colors(day_colors[irec]) for irec in range(nrecs)]\n",
    "    [vplts[irec]['cmedians'].set_colors(day_colors[irec]) for irec in range(nrecs)]\n",
    "    [vplts[irec]['cmins'].set_colors(day_colors[irec]) for irec in range(nrecs)]\n",
    "    [vplts[irec]['cmaxes'].set_colors(day_colors[irec]) for irec in range(nrecs)]\n",
    "    ax[0].set(xlabel='ECoG Decoding [%]', ylabel='Modulation depth [sd]', ylim=(0,1.5), title=align_event)\n",
    "\n",
    "    # ax[0].plot([100*np.min(ecog_dec_acc_rec_site[align_event]), 100*np.max(ecog_dec_acc_rec_site[align_event])], [(tuning[align_event]['spike_md_reg_fit'].coef_*100*np.min(ecog_dec_acc_rec_site[align_event])+tuning[align_event]['spike_md_reg_fit'].intercept_)[0], (tuning[align_event]['spike_md_reg_fit'].coef_*100*np.max(ecog_dec_acc_rec_site[align_event])+tuning[align_event]['spike_md_reg_fit'].intercept_)[0]], 'k')\n",
    "    # ax[0].annotate(f\"Regression p: {np.round(tuning[align_event]['spike_md_pcc_pval'],3)}\", (16, 0.5))\n",
    "\n",
    "    vplts1 = [ax[1].violinplot(tuning[align_event]['cons_spike_pd'][irec], positions=[100*ecog_dec_acc_rec_site[align_event][irec]], showmedians=True, showmeans=False) for irec in range(nrecs)]\n",
    "    [vplts1[irec]['bodies'][0].set_color(day_colors[irec]) for irec in range(nrecs)]\n",
    "    [vplts1[irec]['cbars'].set_colors(day_colors[irec]) for irec in range(nrecs)]\n",
    "    [vplts1[irec]['cmedians'].set_colors(day_colors[irec]) for irec in range(nrecs)]\n",
    "    [vplts1[irec]['cmins'].set_colors(day_colors[irec]) for irec in range(nrecs)]\n",
    "    [vplts1[irec]['cmaxes'].set_colors(day_colors[irec]) for irec in range(nrecs)]\n",
    "    ax[1].set(ylabel='Preferred direction [rad]', xlabel='ECoG Decoding Accuracy [%]', title=align_event)\n",
    "    fig.suptitle(f\"Consistent neurons - aligned to {align_event}\")\n",
    "    fig.tight_layout()\n",
    "    plt.show()"
   ]
  },
  {
   "cell_type": "markdown",
   "id": "912710f6-d113-4dc5-87eb-aedc06457153",
   "metadata": {},
   "source": [
    "## Timing"
   ]
  },
  {
   "cell_type": "code",
   "execution_count": null,
   "id": "4190f4e6-ef24-42b7-8c11-b10f62764627",
   "metadata": {
    "execution": {
     "iopub.status.busy": "2024-05-27T07:23:50.005245Z",
     "iopub.status.idle": "2024-05-27T07:23:50.005494Z",
     "shell.execute_reply": "2024-05-27T07:23:50.005383Z",
     "shell.execute_reply.started": "2024-05-27T07:23:50.005371Z"
    },
    "tags": []
   },
   "outputs": [],
   "source": [
    "fig, ax = plt.subplots(1,nrecs, figsize=(nrecs*2, 3))\n",
    "[ax[irec].hist(tuning['timing']['delta_Mon-Ton'][irec]) for irec in range(nrecs)]\n",
    "[ax[irec].set( xlabel='T_on - Mov_on MD', ylabel='Unit count', xlim=(-.5,1.5), ylim=(0,32)) for irec in range(nrecs)]\n",
    "[ax[irec].set_title(str(np.round(ecog_dec_acc_rec_site[align_event][irec],3)), color=day_colors[irec]) for irec in range(nrecs)]\n",
    "fig.tight_layout()\n",
    "plt.show()"
   ]
  },
  {
   "cell_type": "markdown",
   "id": "6c5121ab-fb6d-4e7f-b7ee-8cac2588bb4b",
   "metadata": {},
   "source": [
    "## Depth"
   ]
  },
  {
   "cell_type": "code",
   "execution_count": null,
   "id": "cf5f703e-5799-4685-bf33-5f06854db389",
   "metadata": {
    "execution": {
     "iopub.status.busy": "2024-05-27T07:23:50.006213Z",
     "iopub.status.idle": "2024-05-27T07:23:50.006452Z",
     "shell.execute_reply": "2024-05-27T07:23:50.006344Z",
     "shell.execute_reply.started": "2024-05-27T07:23:50.006333Z"
    },
    "tags": []
   },
   "outputs": [],
   "source": [
    "# Plot tuning as a function of depth for all units\n",
    "for align_event in align_events:\n",
    "    fig, ax = plt.subplots(1,nrecs,figsize=(nrecs*2,4.5))\n",
    "    [ax[irec].plot(tuning[align_event]['spike_md'][irec], 3800-np.array(neuron_pos[irec]), '.', color=day_colors[irec]) for irec in range(nrecs)]\n",
    "    [ax[irec].set(title=str(np.round(ecog_dec_acc_rec_site[align_event][irec],3)), xlabel='MD', ylabel='Depth', xlim=(0,1), ylim=(0,4000)) for irec in range(nrecs)]\n",
    "    [ax[irec].invert_yaxis() for irec in range(nrecs)]\n",
    "    plt.suptitle(align_event)\n",
    "    fig.tight_layout()\n",
    "    plt.show()"
   ]
  },
  {
   "cell_type": "code",
   "execution_count": null,
   "id": "0c939a33-71dc-4349-b150-43c5ee953407",
   "metadata": {
    "execution": {
     "iopub.status.busy": "2024-05-27T07:23:50.008391Z",
     "iopub.status.idle": "2024-05-27T07:23:50.008723Z",
     "shell.execute_reply": "2024-05-27T07:23:50.008587Z",
     "shell.execute_reply.started": "2024-05-27T07:23:50.008574Z"
    },
    "tags": []
   },
   "outputs": [],
   "source": [
    "# Plot tuning as a function of depth for all units\n",
    "nwf_pts=60\n",
    "for align_event in align_events:    \n",
    "    fig, ax = plt.subplots(1,nrecs,figsize=(nrecs*2,4.5))\n",
    "    for irec in range(nrecs):\n",
    "        unit_idx_plot = np.where(tuning[align_event]['spike_md'][irec])[0]\n",
    "        for unit_idx in unit_idx_plot:\n",
    "            xoffset = tuning[align_event]['spike_md'][irec][unit_idx]\n",
    "            yoffset = 3800-neuron_pos[irec][unit_idx]\n",
    "            norm_wf =  150*qc_results['mean_wfs'][irec][unit_idx,:]/np.max(np.abs(qc_results['mean_wfs'][irec][unit_idx,:]))\n",
    "            ax[irec].plot(xoffset+np.arange(-nwf_pts/2, nwf_pts/2)/180, yoffset+norm_wf)\n",
    "            \n",
    "        ax[irec].set(xlabel='MD', ylabel='Depth', xlim=(0,1), ylim=(0,4000), alpha=0.7)\n",
    "        ax[irec].set_title(str(np.round(ecog_dec_acc_rec_site[align_event][irec],3)), color=day_colors[irec])\n",
    "        ax[irec].invert_yaxis()\n",
    "    \n",
    "    plt.suptitle(f\"{align_event}\")\n",
    "    fig.tight_layout()\n",
    "    plt.show()"
   ]
  },
  {
   "cell_type": "code",
   "execution_count": null,
   "id": "cc9fa7a7-311a-4524-afba-39c5f20c2809",
   "metadata": {
    "execution": {
     "iopub.status.busy": "2024-05-27T07:23:50.009931Z",
     "iopub.status.idle": "2024-05-27T07:23:50.010214Z",
     "shell.execute_reply": "2024-05-27T07:23:50.010088Z",
     "shell.execute_reply.started": "2024-05-27T07:23:50.010074Z"
    }
   },
   "outputs": [],
   "source": [
    "# np.array(neuron_pos[irec])[tuning[align_event]['spike_md_sig_idx'][irec]]"
   ]
  },
  {
   "cell_type": "code",
   "execution_count": null,
   "id": "6e1ac686-d656-4f65-9e67-165c67004ffb",
   "metadata": {
    "execution": {
     "iopub.status.busy": "2024-05-27T07:23:50.013524Z",
     "iopub.status.idle": "2024-05-27T07:23:50.014320Z",
     "shell.execute_reply": "2024-05-27T07:23:50.013973Z",
     "shell.execute_reply.started": "2024-05-27T07:23:50.013936Z"
    },
    "tags": []
   },
   "outputs": [],
   "source": [
    "# Plot tuning as a function of depth for significantly modulated units\n",
    "for align_event in align_events:\n",
    "    fig, ax = plt.subplots(1,nrecs,figsize=(nrecs*2,4.5))\n",
    "    [ax[irec].plot(tuning[align_event]['spike_md_sig'][irec], np.array(neuron_pos[irec])[tuning[align_event]['spike_md_sig_idx'][irec]], '.', color=day_colors[irec]) for irec in range(nrecs)]\n",
    "    [ax[irec].set(title=f\"{recording_site[irec]} - {str(np.round(ecog_dec_acc_rec_site[align_event][irec]))}\", xlabel='MD', ylabel='Depth', xlim=(0,1), ylim=(0,4000)) for irec in range(nrecs)]\n",
    "    # [ax[irec].invert_yaxis() for irec in range(nrecs)]\n",
    "    plt.suptitle(f\"{align_event} - Significantly modulated units\")\n",
    "    fig.tight_layout()\n",
    "    plt.show()"
   ]
  },
  {
   "cell_type": "code",
   "execution_count": null,
   "id": "847c9ab3-6f82-419b-8caa-83b318389af9",
   "metadata": {
    "execution": {
     "iopub.status.busy": "2024-05-27T07:23:50.017464Z",
     "iopub.status.idle": "2024-05-27T07:23:50.018312Z",
     "shell.execute_reply": "2024-05-27T07:23:50.017943Z",
     "shell.execute_reply.started": "2024-05-27T07:23:50.017899Z"
    },
    "tags": []
   },
   "outputs": [],
   "source": [
    "# Plot tuning as a function of depth for all units\n",
    "for align_event in align_events:    \n",
    "    fig, ax = plt.subplots(1,nrecs,figsize=(nrecs*2,4.5))\n",
    "    for irec in range(nrecs):\n",
    "        unit_idx_plot = np.where(tuning[align_event]['spike_md_sig_idx'][irec])[0]\n",
    "        for unit_idx in unit_idx_plot:\n",
    "            xoffset = tuning[align_event]['spike_md'][irec][unit_idx]\n",
    "            yoffset = neuron_pos[irec][unit_idx]\n",
    "            norm_wf =  150*qc_results['mean_wfs'][irec][unit_idx,:]/np.max(np.abs(qc_results['mean_wfs'][irec][unit_idx,:]))\n",
    "            ax[irec].plot(xoffset+np.arange(-nwf_pts/2, nwf_pts/2)/180, yoffset+norm_wf)\n",
    "            \n",
    "        ax[irec].set(xlabel='MD', ylabel='Depth', xlim=(0,1), ylim=(0,4000), alpha=0.7)\n",
    "        ax[irec].set_title(str(np.round(ecog_dec_acc_rec_site[align_event][irec],3)), color=day_colors[irec])\n",
    "        ax[irec].invert_yaxis()\n",
    "    \n",
    "    plt.suptitle(f\"{align_event} - Significantly modulated units\")\n",
    "    fig.tight_layout()\n",
    "    plt.show()"
   ]
  },
  {
   "cell_type": "code",
   "execution_count": null,
   "id": "5fa83848-cf67-42ed-80ea-ec8a947b6848",
   "metadata": {},
   "outputs": [],
   "source": []
  },
  {
   "cell_type": "code",
   "execution_count": null,
   "id": "54fc0438-5614-47a1-b4a8-4b8f39d91f3c",
   "metadata": {},
   "outputs": [],
   "source": []
  }
 ],
 "metadata": {
  "hide_input": false,
  "kernelspec": {
   "display_name": "Python [conda env:np_targeting]",
   "language": "python",
   "name": "conda-env-np_targeting-py"
  },
  "language_info": {
   "codemirror_mode": {
    "name": "ipython",
    "version": 3
   },
   "file_extension": ".py",
   "mimetype": "text/x-python",
   "name": "python",
   "nbconvert_exporter": "python",
   "pygments_lexer": "ipython3",
   "version": "3.9.18"
  },
  "toc": {
   "base_numbering": 1,
   "nav_menu": {},
   "number_sections": true,
   "sideBar": true,
   "skip_h1_title": false,
   "title_cell": "Table of Contents",
   "title_sidebar": "Contents",
   "toc_cell": false,
   "toc_position": {},
   "toc_section_display": true,
   "toc_window_display": false
  },
  "toc-autonumbering": true
 },
 "nbformat": 4,
 "nbformat_minor": 5
}
