{
 "cells": [
  {
   "cell_type": "code",
   "execution_count": 1,
   "id": "f02f3449-1d33-4418-9125-28f4b23e84b9",
   "metadata": {},
   "outputs": [],
   "source": [
    "import numpy as np\n",
    "import matplotlib.pyplot as plt\n",
    "import aopy\n",
    "import os\n",
    "import pandas as pds\n",
    "from db import dbfunctions as db\n",
    "from ipywidgets import interactive, widgets\n",
    "import scipy\n",
    "import h5py\n",
    "from tqdm.auto import tqdm \n",
    "import seaborn as sn\n",
    "import sklearn\n",
    "import multiprocessing as mp\n",
    "import time\n",
    "import glob\n",
    "from datetime import date"
   ]
  },
  {
   "cell_type": "code",
   "execution_count": 17,
   "id": "86576f73-7460-44a9-b051-d949d204c912",
   "metadata": {},
   "outputs": [],
   "source": [
    "te_id = 13102\n",
    "data_dir = '/media/moor-data/raw'\n",
    "preproc_dir_base = '/media/moor-data/preprocessed.new/'\n",
    "entry = aopy.data.db.lookup_sessions(id=te_id)[0]"
   ]
  },
  {
   "cell_type": "code",
   "execution_count": 16,
   "id": "ec2a6ff1-f7e1-4e4b-a39c-d3addcfd42b2",
   "metadata": {},
   "outputs": [
    {
     "name": "stdout",
     "output_type": "stream",
     "text": [
      "{'hdf': 'hdf/beig20231228_14_te13122.hdf', 'optitrack': 'optitrack/Session 2023-12-28/Take 2023-12-28 13_25_34 (13122).tak', 'ecube': 'ecube/2023-12-28_BMI3D_te13122'}\n",
      "['exp', 'eye']\n"
     ]
    }
   ],
   "source": [
    "print(entry.get_raw_files())\n",
    "print(entry.get_preprocessed_sources())"
   ]
  },
  {
   "cell_type": "code",
   "execution_count": 19,
   "id": "dbe0c5c6-2e80-479a-8396-685d5582c755",
   "metadata": {},
   "outputs": [],
   "source": [
    "files ={'hdf': 'hdf/beig20231228_14_te13102.hdf', 'optitrack': 'optitrack/Session 2023-12-27/Take 2023-12-27 13_40_05 (13102).tak', 'ecube': 'ecube/2023-12-27_BMI3D_te13102'}"
   ]
  },
  {
   "cell_type": "code",
   "execution_count": 20,
   "id": "72459e19-4bee-4bef-99cf-ab6a2d33931e",
   "metadata": {},
   "outputs": [
    {
     "name": "stdout",
     "output_type": "stream",
     "text": [
      "{'hdf': 'hdf/beig20231228_14_te13122.hdf', 'optitrack': 'optitrack/Session 2023-12-28/Take 2023-12-28 13_25_34 (13122).tak', 'ecube': 'ecube/2023-12-28_BMI3D_te13122'}\n"
     ]
    }
   ],
   "source": [
    "print(files)"
   ]
  },
  {
   "cell_type": "code",
   "execution_count": 21,
   "id": "484920df-77bc-4a93-8dc7-3d048443b55a",
   "metadata": {},
   "outputs": [
    {
     "name": "stdout",
     "output_type": "stream",
     "text": [
      "processing experiment data...\n",
      "File preproc_2023-12-27_beignet_13102_exp.hdf already preprocessed, doing nothing.\n",
      "processing eyetracking data...\n",
      "No metadata from BMI3D, assuming eye channels [10, 11, 8, 9] \n"
     ]
    },
    {
     "ename": "NameError",
     "evalue": "name 'traceback' is not defined",
     "output_type": "error",
     "traceback": [
      "\u001b[0;31m---------------------------------------------------------------------------\u001b[0m",
      "\u001b[0;31mKeyError\u001b[0m                                  Traceback (most recent call last)",
      "Cell \u001b[0;32mIn[21], line 11\u001b[0m\n\u001b[1;32m     10\u001b[0m \u001b[38;5;28;01mtry\u001b[39;00m:\n\u001b[0;32m---> 11\u001b[0m     \u001b[43maopy\u001b[49m\u001b[38;5;241;43m.\u001b[39;49m\u001b[43mpreproc\u001b[49m\u001b[38;5;241;43m.\u001b[39;49m\u001b[43mproc_single\u001b[49m\u001b[43m(\u001b[49m\u001b[43mdata_dir\u001b[49m\u001b[43m,\u001b[49m\u001b[43m \u001b[49m\u001b[43mfiles\u001b[49m\u001b[43m,\u001b[49m\u001b[43m \u001b[49m\u001b[43mpreproc_dir\u001b[49m\u001b[43m,\u001b[49m\u001b[43m \u001b[49m\u001b[43msubject\u001b[49m\u001b[43m,\u001b[49m\u001b[43m \u001b[49m\u001b[43mte_id\u001b[49m\u001b[43m,\u001b[49m\u001b[43m \u001b[49m\u001b[43mdate\u001b[49m\u001b[43m,\u001b[49m\u001b[43m \u001b[49m\u001b[43msources\u001b[49m\u001b[43m,\u001b[49m\u001b[43m \u001b[49m\u001b[43moverwrite\u001b[49m\u001b[38;5;241;43m=\u001b[39;49m\u001b[38;5;28;43;01mFalse\u001b[39;49;00m\u001b[43m)\u001b[49m\n\u001b[1;32m     12\u001b[0m \u001b[38;5;28;01mexcept\u001b[39;00m \u001b[38;5;167;01mFileExistsError\u001b[39;00m \u001b[38;5;28;01mas\u001b[39;00m exc:\n",
      "File \u001b[0;32m~/projects/Neuropixel_targeting/analyze/aopy/preproc/wrappers.py:53\u001b[0m, in \u001b[0;36mproc_single\u001b[0;34m(data_dir, files, preproc_dir, subject, te_id, date, preproc_jobs, overwrite, **kwargs)\u001b[0m\n\u001b[1;32m     52\u001b[0m eye_filename \u001b[38;5;241m=\u001b[39m get_preprocessed_filename(subject, te_id, date, \u001b[38;5;124m'\u001b[39m\u001b[38;5;124meye\u001b[39m\u001b[38;5;124m'\u001b[39m)\n\u001b[0;32m---> 53\u001b[0m \u001b[43mproc_eyetracking\u001b[49m\u001b[43m(\u001b[49m\n\u001b[1;32m     54\u001b[0m \u001b[43m    \u001b[49m\u001b[43mdata_dir\u001b[49m\u001b[43m,\u001b[49m\n\u001b[1;32m     55\u001b[0m \u001b[43m    \u001b[49m\u001b[43mfiles\u001b[49m\u001b[43m,\u001b[49m\n\u001b[1;32m     56\u001b[0m \u001b[43m    \u001b[49m\u001b[43mpreproc_dir\u001b[49m\u001b[43m,\u001b[49m\n\u001b[1;32m     57\u001b[0m \u001b[43m    \u001b[49m\u001b[43mexp_filename\u001b[49m\u001b[43m,\u001b[49m\n\u001b[1;32m     58\u001b[0m \u001b[43m    \u001b[49m\u001b[43meye_filename\u001b[49m\u001b[43m,\u001b[49m\n\u001b[1;32m     59\u001b[0m \u001b[43m    \u001b[49m\u001b[43moverwrite\u001b[49m\u001b[38;5;241;43m=\u001b[39;49m\u001b[43moverwrite\u001b[49m\u001b[43m,\u001b[49m\n\u001b[1;32m     60\u001b[0m \u001b[43m\u001b[49m\u001b[43m)\u001b[49m\n\u001b[1;32m     61\u001b[0m eye_data, eye_metadata \u001b[38;5;241m=\u001b[39m load_preproc_eye_data(preproc_dir_base, subject, te_id, date)\n",
      "File \u001b[0;32m~/projects/Neuropixel_targeting/analyze/aopy/preproc/wrappers.py:239\u001b[0m, in \u001b[0;36mproc_eyetracking\u001b[0;34m(data_dir, files, result_dir, exp_filename, result_filename, debug, overwrite, save_res, **kwargs)\u001b[0m\n\u001b[1;32m    238\u001b[0m \u001b[38;5;66;03m# Parse the raw eye data; this could be extended in the future to support other eyetracking hardware\u001b[39;00m\n\u001b[0;32m--> 239\u001b[0m eye_data, eye_metadata \u001b[38;5;241m=\u001b[39m \u001b[43mparse_oculomatic\u001b[49m\u001b[43m(\u001b[49m\u001b[43mdata_dir\u001b[49m\u001b[43m,\u001b[49m\u001b[43m \u001b[49m\u001b[43mfiles\u001b[49m\u001b[43m,\u001b[49m\u001b[43m \u001b[49m\u001b[43mdebug\u001b[49m\u001b[38;5;241;43m=\u001b[39;49m\u001b[43mdebug\u001b[49m\u001b[43m)\u001b[49m\n\u001b[1;32m    240\u001b[0m eye_mask \u001b[38;5;241m=\u001b[39m eye_data[\u001b[38;5;124m'\u001b[39m\u001b[38;5;124mmask\u001b[39m\u001b[38;5;124m'\u001b[39m]\n",
      "File \u001b[0;32m~/projects/Neuropixel_targeting/analyze/aopy/preproc/oculomatic.py:63\u001b[0m, in \u001b[0;36mparse_oculomatic\u001b[0;34m(data_dir, files, samplerate, max_memory_gb, debug, **filter_kwargs)\u001b[0m\n\u001b[1;32m     62\u001b[0m \u001b[38;5;66;03m# Create an empty array for the downsampled data\u001b[39;00m\n\u001b[0;32m---> 63\u001b[0m data_path \u001b[38;5;241m=\u001b[39m os\u001b[38;5;241m.\u001b[39mpath\u001b[38;5;241m.\u001b[39mjoin(data_dir, \u001b[43mfiles\u001b[49m\u001b[43m[\u001b[49m\u001b[38;5;124;43m'\u001b[39;49m\u001b[38;5;124;43mecube\u001b[39;49m\u001b[38;5;124;43m'\u001b[39;49m\u001b[43m]\u001b[49m)\n\u001b[1;32m     64\u001b[0m analog_metadata \u001b[38;5;241m=\u001b[39m aodata\u001b[38;5;241m.\u001b[39mload_ecube_metadata(data_path, \u001b[38;5;124m'\u001b[39m\u001b[38;5;124mAnalogPanel\u001b[39m\u001b[38;5;124m'\u001b[39m)\n",
      "\u001b[0;31mKeyError\u001b[0m: 'ecube'",
      "\nDuring handling of the above exception, another exception occurred:\n",
      "\u001b[0;31mNameError\u001b[0m                                 Traceback (most recent call last)",
      "Cell \u001b[0;32mIn[21], line 15\u001b[0m\n\u001b[1;32m     13\u001b[0m     \u001b[38;5;28mprint\u001b[39m(\u001b[38;5;124m\"\u001b[39m\u001b[38;5;124mFile already exists, doing nothing.\u001b[39m\u001b[38;5;124m\"\u001b[39m)\n\u001b[1;32m     14\u001b[0m \u001b[38;5;28;01mexcept\u001b[39;00m \u001b[38;5;167;01mException\u001b[39;00m \u001b[38;5;28;01mas\u001b[39;00m exc:\n\u001b[0;32m---> 15\u001b[0m     \u001b[43mtraceback\u001b[49m\u001b[38;5;241m.\u001b[39mprint_exc()\n\u001b[1;32m     16\u001b[0m     error \u001b[38;5;241m=\u001b[39m traceback\u001b[38;5;241m.\u001b[39mformat_exc()\n",
      "\u001b[0;31mNameError\u001b[0m: name 'traceback' is not defined"
     ]
    }
   ],
   "source": [
    "\n",
    "date = entry.date\n",
    "subject = entry.subject\n",
    "\n",
    "files = entry.get_raw_files()\n",
    "sources = entry.get_preprocessed_sources()\n",
    "preproc_dir = os.path.join(preproc_dir_base, subject)\n",
    "if not os.path.exists(preproc_dir):\n",
    "    os.mkdir(preproc_dir)\n",
    "\n",
    "try:\n",
    "    aopy.preproc.proc_single(data_dir, files, preproc_dir, subject, te_id, date, sources, overwrite=False)\n",
    "except FileExistsError as exc:\n",
    "    print(\"File already exists, doing nothing.\")\n",
    "except Exception as exc:\n",
    "    traceback.print_exc()\n",
    "    error = traceback.format_exc()"
   ]
  },
  {
   "cell_type": "code",
   "execution_count": null,
   "id": "feb45e72-ae34-4711-8c33-875f97332527",
   "metadata": {},
   "outputs": [],
   "source": []
  }
 ],
 "metadata": {
  "kernelspec": {
   "display_name": "Python [conda env:np_targeting]",
   "language": "python",
   "name": "conda-env-np_targeting-py"
  },
  "language_info": {
   "codemirror_mode": {
    "name": "ipython",
    "version": 3
   },
   "file_extension": ".py",
   "mimetype": "text/x-python",
   "name": "python",
   "nbconvert_exporter": "python",
   "pygments_lexer": "ipython3",
   "version": "3.9.18"
  }
 },
 "nbformat": 4,
 "nbformat_minor": 5
}
