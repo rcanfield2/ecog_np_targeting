{
 "cells": [
  {
   "cell_type": "code",
   "execution_count": 1,
   "id": "f02f3449-1d33-4418-9125-28f4b23e84b9",
   "metadata": {
    "execution": {
     "iopub.execute_input": "2025-01-16T19:41:38.757517Z",
     "iopub.status.busy": "2025-01-16T19:41:38.756918Z",
     "iopub.status.idle": "2025-01-16T19:41:42.608379Z",
     "shell.execute_reply": "2025-01-16T19:41:42.606600Z",
     "shell.execute_reply.started": "2025-01-16T19:41:38.757454Z"
    }
   },
   "outputs": [
    {
     "name": "stderr",
     "output_type": "stream",
     "text": [
      "/home/aolab/miniconda3/envs/np_targeting/lib/python3.9/site-packages/one/alf/files.py:10: FutureWarning: `one.alf.files` will be removed in version 3.0. Use `one.alf.path` instead.\n",
      "  warnings.warn(\n"
     ]
    }
   ],
   "source": [
    "import numpy as np\n",
    "import matplotlib.pyplot as plt\n",
    "import aopy\n",
    "import os\n",
    "import pandas as pds\n",
    "from db import dbfunctions as db\n",
    "from ipywidgets import interactive, widgets\n",
    "import scipy\n",
    "import h5py\n",
    "from tqdm.auto import tqdm \n",
    "import seaborn as sn\n",
    "import sklearn\n",
    "import multiprocessing as mp\n",
    "import time\n",
    "import glob\n",
    "from datetime import date"
   ]
  },
  {
   "cell_type": "code",
   "execution_count": 5,
   "id": "86576f73-7460-44a9-b051-d949d204c912",
   "metadata": {
    "execution": {
     "iopub.execute_input": "2025-01-16T19:42:17.056734Z",
     "iopub.status.busy": "2025-01-16T19:42:17.055922Z",
     "iopub.status.idle": "2025-01-16T19:42:17.113665Z",
     "shell.execute_reply": "2025-01-16T19:42:17.111177Z",
     "shell.execute_reply.started": "2025-01-16T19:42:17.056678Z"
    },
    "tags": []
   },
   "outputs": [],
   "source": [
    "te_id = 13102\n",
    "data_dir = '/media/moor-data/raw'\n",
    "preproc_dir_base = '/media/moor-data/preprocessed.new/'\n",
    "# entry = db.lookup_sessions(id=te_id)[0]\n",
    "entry = db.lookup_task_entries(te_id)"
   ]
  },
  {
   "cell_type": "code",
   "execution_count": 31,
   "id": "5a01fb57-2874-4caf-b361-78b3be6513a3",
   "metadata": {
    "execution": {
     "iopub.execute_input": "2025-01-16T20:11:05.138367Z",
     "iopub.status.busy": "2025-01-16T20:11:05.137771Z",
     "iopub.status.idle": "2025-01-16T20:11:06.834376Z",
     "shell.execute_reply": "2025-01-16T20:11:06.832335Z",
     "shell.execute_reply.started": "2025-01-16T20:11:05.138316Z"
    },
    "tags": []
   },
   "outputs": [],
   "source": [
    "files = aopy.data.bmi3d.get_source_files(preproc_dir_base, 'beignet', te_id, entry.date.date())[0]"
   ]
  },
  {
   "cell_type": "code",
   "execution_count": 24,
   "id": "cc1efc80-d0f8-4ac6-999c-b80abb08e47c",
   "metadata": {
    "execution": {
     "iopub.execute_input": "2025-01-16T20:08:41.394299Z",
     "iopub.status.busy": "2025-01-16T20:08:41.393680Z",
     "iopub.status.idle": "2025-01-16T20:08:42.916504Z",
     "shell.execute_reply": "2025-01-16T20:08:42.914647Z",
     "shell.execute_reply.started": "2025-01-16T20:08:41.394246Z"
    },
    "tags": []
   },
   "outputs": [],
   "source": [
    "exp_filename = 'preproc_2023-12-27_beignet_13102_exp.hdf'\n",
    "exp_data = aopy.data.load_hdf_group(preproc_dir_base+'beignet', exp_filename, 'exp_data')"
   ]
  },
  {
   "cell_type": "code",
   "execution_count": 32,
   "id": "ec2a6ff1-f7e1-4e4b-a39c-d3addcfd42b2",
   "metadata": {
    "execution": {
     "iopub.execute_input": "2025-01-16T20:11:07.242674Z",
     "iopub.status.busy": "2025-01-16T20:11:07.241986Z",
     "iopub.status.idle": "2025-01-16T20:12:01.812448Z",
     "shell.execute_reply": "2025-01-16T20:12:01.810876Z",
     "shell.execute_reply.started": "2025-01-16T20:11:07.242620Z"
    },
    "tags": []
   },
   "outputs": [
    {
     "name": "stdout",
     "output_type": "stream",
     "text": [
      "use bmi3d supplied eye channel definition [10, 11, 8, 9]\n",
      "Warning: incomplete binary file samples detected in /media/moor-data/raw/ecube/2023-12-27_BMI3D_te13102/AnalogPanel_32_Channels_int16_2023-12-27_14-20-04.bin. Check for file corruption.\n",
      "Warning: incomplete binary file samples detected in /media/moor-data/raw/ecube/2023-12-27_BMI3D_te13102/AnalogPanel_32_Channels_int16_2023-12-27_14-20-04.bin. Check for file corruption.\n",
      "Warning: incomplete binary file samples detected in /media/moor-data/raw/ecube/2023-12-27_BMI3D_te13102/AnalogPanel_32_Channels_int16_2023-12-27_14-20-04.bin. Check for file corruption.\n",
      "Warning: incomplete binary file samples detected in /media/moor-data/raw/ecube/2023-12-27_BMI3D_te13102/AnalogPanel_32_Channels_int16_2023-12-27_14-20-04.bin. Check for file corruption.\n",
      "Warning: 28 samples dropped in /media/moor-data/raw/ecube/2023-12-27_BMI3D_te13102/AnalogPanel_32_Channels_int16_2023-12-27_14-20-04.bin.\n"
     ]
    },
    {
     "data": {
      "text/plain": [
       "({'eye_closed_mask': array([[False, False, False, False],\n",
       "         [False, False, False, False],\n",
       "         [False, False, False, False],\n",
       "         ...,\n",
       "         [False, False, False, False],\n",
       "         [False, False, False, False],\n",
       "         [False, False, False, False]]),\n",
       "  'raw_data': array([[ 1.28993306,  4.11546479, -2.39248778,  3.8436375 ],\n",
       "         [ 1.31031733,  4.1068575 , -2.39343376,  3.84301245],\n",
       "         [ 1.33662931,  4.09657153, -2.3937127 ,  3.84276933],\n",
       "         ...,\n",
       "         [ 0.81949979,  0.12588332, -1.99236551, -0.11064498],\n",
       "         [ 0.82176121,  0.12308246, -1.99290582, -0.11980942],\n",
       "         [ 0.82291868,  0.1220941 , -1.99313472, -0.12462701]]),\n",
       "  'calibrated_data': array([[-2.20773366, -6.18003668, -0.47801611, -6.14665237],\n",
       "         [-2.29914382, -6.14873404, -0.47396245, -6.14441255],\n",
       "         [-2.41713586, -6.11132644, -0.47276716, -6.14354135],\n",
       "         ...,\n",
       "         [-0.09814723,  8.32911444, -2.19259136,  8.02323547],\n",
       "         [-0.10828824,  8.33930046, -2.19027606,  8.05607557],\n",
       "         [-0.11347872,  8.34289491, -2.18929519,  8.07333904]]),\n",
       "  'coefficients': array([[ -4.48434782,   3.57677485],\n",
       "         [ -3.6367602 ,   8.78692187],\n",
       "         [ -4.28512831, -10.73013322],\n",
       "         [ -3.58342832,   7.6267471 ]]),\n",
       "  'correlation_coeff': array([-0.99178009, -0.99035933, -0.9900026 , -0.98950742]),\n",
       "  'cursor_calibration_data': array([[-0.33825655,  5.82699927, -0.33825655,  5.82699927],\n",
       "         [-5.51979032,  0.65753584, -5.51979032,  0.65753584],\n",
       "         [-0.10423154, -5.13970061, -0.10423154, -5.13970061],\n",
       "         ...,\n",
       "         [-5.17332259,  0.216999  , -5.17332259,  0.216999  ],\n",
       "         [ 4.16034688, -3.42401798,  4.16034688, -3.42401798],\n",
       "         [ 6.13384645, -0.54117823,  6.13384645, -0.54117823]]),\n",
       "  'eye_calibration_data': array([[ 0.81909314,  0.93005693, -2.41035644,  0.47767891],\n",
       "         [ 1.8529009 ,  2.20300508, -1.35012077,  1.92456555],\n",
       "         [ 0.76463394,  3.71461243, -2.59005316,  3.56875559],\n",
       "         ...,\n",
       "         [ 1.92113966,  2.40971846, -1.356479  ,  2.04794423],\n",
       "         [-0.20868459,  3.38233176, -3.52031673,  3.17461617],\n",
       "         [-0.6307094 ,  2.73461642, -3.96668468,  2.52056502]])},\n",
       " {'source': '/media/moor-data/raw/ecube/2023-12-27_BMI3D_te13102',\n",
       "  'n_channels': 4,\n",
       "  'channels': [10, 11, 8, 9],\n",
       "  'labels': ['left_eye_x', 'left_eye_y', 'right_eye_x', 'right_eye_y'],\n",
       "  'raw_samplerate': 25000,\n",
       "  'samplerate': 1000,\n",
       "  'n_samples': 2400023,\n",
       "  'taper_len': 0.05,\n",
       "  'lowpass_freq': 30,\n",
       "  'pad_t': 1.0,\n",
       "  'units': 'volts',\n",
       "  'calibration_version': '0.8.1',\n",
       "  'calibration_date': '2025-01-16T12:12:00.232866'})"
      ]
     },
     "execution_count": 32,
     "metadata": {},
     "output_type": "execute_result"
    }
   ],
   "source": [
    "aopy.preproc.wrappers.proc_eyetracking(data_dir, files, preproc_dir_base+'beignet', exp_filename='preproc_2023-12-27_beignet_13102_exp.hdf', result_filename='preproc_2023-12-27_beignet_13102_eye.hdf', overwrite=True)"
   ]
  },
  {
   "cell_type": "code",
   "execution_count": 30,
   "id": "dbe0c5c6-2e80-479a-8396-685d5582c755",
   "metadata": {
    "execution": {
     "iopub.execute_input": "2025-01-16T20:10:50.972009Z",
     "iopub.status.busy": "2025-01-16T20:10:50.971408Z",
     "iopub.status.idle": "2025-01-16T20:10:50.981202Z",
     "shell.execute_reply": "2025-01-16T20:10:50.979108Z",
     "shell.execute_reply.started": "2025-01-16T20:10:50.971957Z"
    },
    "tags": []
   },
   "outputs": [
    {
     "name": "stdout",
     "output_type": "stream",
     "text": [
      "({'ecube': 'ecube/2023-12-27_BMI3D_te13102', 'hdf': 'hdf/ryan_neuropixel_13102.hdf'}, '/media/moor-data/raw')\n",
      "{'ecube': 'ecube/2023-12-27_BMI3D_te13102', 'hdf': 'hdf/ryan_neuropixel_13102.hdf'}\n"
     ]
    }
   ],
   "source": [
    "print(files)\n",
    "print(files[0])"
   ]
  },
  {
   "cell_type": "code",
   "execution_count": 21,
   "id": "484920df-77bc-4a93-8dc7-3d048443b55a",
   "metadata": {},
   "outputs": [
    {
     "name": "stdout",
     "output_type": "stream",
     "text": [
      "processing experiment data...\n",
      "File preproc_2023-12-27_beignet_13102_exp.hdf already preprocessed, doing nothing.\n",
      "processing eyetracking data...\n",
      "No metadata from BMI3D, assuming eye channels [10, 11, 8, 9] \n"
     ]
    },
    {
     "ename": "NameError",
     "evalue": "name 'traceback' is not defined",
     "output_type": "error",
     "traceback": [
      "\u001b[0;31m---------------------------------------------------------------------------\u001b[0m",
      "\u001b[0;31mKeyError\u001b[0m                                  Traceback (most recent call last)",
      "Cell \u001b[0;32mIn[21], line 11\u001b[0m\n\u001b[1;32m     10\u001b[0m \u001b[38;5;28;01mtry\u001b[39;00m:\n\u001b[0;32m---> 11\u001b[0m     \u001b[43maopy\u001b[49m\u001b[38;5;241;43m.\u001b[39;49m\u001b[43mpreproc\u001b[49m\u001b[38;5;241;43m.\u001b[39;49m\u001b[43mproc_single\u001b[49m\u001b[43m(\u001b[49m\u001b[43mdata_dir\u001b[49m\u001b[43m,\u001b[49m\u001b[43m \u001b[49m\u001b[43mfiles\u001b[49m\u001b[43m,\u001b[49m\u001b[43m \u001b[49m\u001b[43mpreproc_dir\u001b[49m\u001b[43m,\u001b[49m\u001b[43m \u001b[49m\u001b[43msubject\u001b[49m\u001b[43m,\u001b[49m\u001b[43m \u001b[49m\u001b[43mte_id\u001b[49m\u001b[43m,\u001b[49m\u001b[43m \u001b[49m\u001b[43mdate\u001b[49m\u001b[43m,\u001b[49m\u001b[43m \u001b[49m\u001b[43msources\u001b[49m\u001b[43m,\u001b[49m\u001b[43m \u001b[49m\u001b[43moverwrite\u001b[49m\u001b[38;5;241;43m=\u001b[39;49m\u001b[38;5;28;43;01mFalse\u001b[39;49;00m\u001b[43m)\u001b[49m\n\u001b[1;32m     12\u001b[0m \u001b[38;5;28;01mexcept\u001b[39;00m \u001b[38;5;167;01mFileExistsError\u001b[39;00m \u001b[38;5;28;01mas\u001b[39;00m exc:\n",
      "File \u001b[0;32m~/projects/Neuropixel_targeting/analyze/aopy/preproc/wrappers.py:53\u001b[0m, in \u001b[0;36mproc_single\u001b[0;34m(data_dir, files, preproc_dir, subject, te_id, date, preproc_jobs, overwrite, **kwargs)\u001b[0m\n\u001b[1;32m     52\u001b[0m eye_filename \u001b[38;5;241m=\u001b[39m get_preprocessed_filename(subject, te_id, date, \u001b[38;5;124m'\u001b[39m\u001b[38;5;124meye\u001b[39m\u001b[38;5;124m'\u001b[39m)\n\u001b[0;32m---> 53\u001b[0m \u001b[43mproc_eyetracking\u001b[49m\u001b[43m(\u001b[49m\n\u001b[1;32m     54\u001b[0m \u001b[43m    \u001b[49m\u001b[43mdata_dir\u001b[49m\u001b[43m,\u001b[49m\n\u001b[1;32m     55\u001b[0m \u001b[43m    \u001b[49m\u001b[43mfiles\u001b[49m\u001b[43m,\u001b[49m\n\u001b[1;32m     56\u001b[0m \u001b[43m    \u001b[49m\u001b[43mpreproc_dir\u001b[49m\u001b[43m,\u001b[49m\n\u001b[1;32m     57\u001b[0m \u001b[43m    \u001b[49m\u001b[43mexp_filename\u001b[49m\u001b[43m,\u001b[49m\n\u001b[1;32m     58\u001b[0m \u001b[43m    \u001b[49m\u001b[43meye_filename\u001b[49m\u001b[43m,\u001b[49m\n\u001b[1;32m     59\u001b[0m \u001b[43m    \u001b[49m\u001b[43moverwrite\u001b[49m\u001b[38;5;241;43m=\u001b[39;49m\u001b[43moverwrite\u001b[49m\u001b[43m,\u001b[49m\n\u001b[1;32m     60\u001b[0m \u001b[43m\u001b[49m\u001b[43m)\u001b[49m\n\u001b[1;32m     61\u001b[0m eye_data, eye_metadata \u001b[38;5;241m=\u001b[39m load_preproc_eye_data(preproc_dir_base, subject, te_id, date)\n",
      "File \u001b[0;32m~/projects/Neuropixel_targeting/analyze/aopy/preproc/wrappers.py:239\u001b[0m, in \u001b[0;36mproc_eyetracking\u001b[0;34m(data_dir, files, result_dir, exp_filename, result_filename, debug, overwrite, save_res, **kwargs)\u001b[0m\n\u001b[1;32m    238\u001b[0m \u001b[38;5;66;03m# Parse the raw eye data; this could be extended in the future to support other eyetracking hardware\u001b[39;00m\n\u001b[0;32m--> 239\u001b[0m eye_data, eye_metadata \u001b[38;5;241m=\u001b[39m \u001b[43mparse_oculomatic\u001b[49m\u001b[43m(\u001b[49m\u001b[43mdata_dir\u001b[49m\u001b[43m,\u001b[49m\u001b[43m \u001b[49m\u001b[43mfiles\u001b[49m\u001b[43m,\u001b[49m\u001b[43m \u001b[49m\u001b[43mdebug\u001b[49m\u001b[38;5;241;43m=\u001b[39;49m\u001b[43mdebug\u001b[49m\u001b[43m)\u001b[49m\n\u001b[1;32m    240\u001b[0m eye_mask \u001b[38;5;241m=\u001b[39m eye_data[\u001b[38;5;124m'\u001b[39m\u001b[38;5;124mmask\u001b[39m\u001b[38;5;124m'\u001b[39m]\n",
      "File \u001b[0;32m~/projects/Neuropixel_targeting/analyze/aopy/preproc/oculomatic.py:63\u001b[0m, in \u001b[0;36mparse_oculomatic\u001b[0;34m(data_dir, files, samplerate, max_memory_gb, debug, **filter_kwargs)\u001b[0m\n\u001b[1;32m     62\u001b[0m \u001b[38;5;66;03m# Create an empty array for the downsampled data\u001b[39;00m\n\u001b[0;32m---> 63\u001b[0m data_path \u001b[38;5;241m=\u001b[39m os\u001b[38;5;241m.\u001b[39mpath\u001b[38;5;241m.\u001b[39mjoin(data_dir, \u001b[43mfiles\u001b[49m\u001b[43m[\u001b[49m\u001b[38;5;124;43m'\u001b[39;49m\u001b[38;5;124;43mecube\u001b[39;49m\u001b[38;5;124;43m'\u001b[39;49m\u001b[43m]\u001b[49m)\n\u001b[1;32m     64\u001b[0m analog_metadata \u001b[38;5;241m=\u001b[39m aodata\u001b[38;5;241m.\u001b[39mload_ecube_metadata(data_path, \u001b[38;5;124m'\u001b[39m\u001b[38;5;124mAnalogPanel\u001b[39m\u001b[38;5;124m'\u001b[39m)\n",
      "\u001b[0;31mKeyError\u001b[0m: 'ecube'",
      "\nDuring handling of the above exception, another exception occurred:\n",
      "\u001b[0;31mNameError\u001b[0m                                 Traceback (most recent call last)",
      "Cell \u001b[0;32mIn[21], line 15\u001b[0m\n\u001b[1;32m     13\u001b[0m     \u001b[38;5;28mprint\u001b[39m(\u001b[38;5;124m\"\u001b[39m\u001b[38;5;124mFile already exists, doing nothing.\u001b[39m\u001b[38;5;124m\"\u001b[39m)\n\u001b[1;32m     14\u001b[0m \u001b[38;5;28;01mexcept\u001b[39;00m \u001b[38;5;167;01mException\u001b[39;00m \u001b[38;5;28;01mas\u001b[39;00m exc:\n\u001b[0;32m---> 15\u001b[0m     \u001b[43mtraceback\u001b[49m\u001b[38;5;241m.\u001b[39mprint_exc()\n\u001b[1;32m     16\u001b[0m     error \u001b[38;5;241m=\u001b[39m traceback\u001b[38;5;241m.\u001b[39mformat_exc()\n",
      "\u001b[0;31mNameError\u001b[0m: name 'traceback' is not defined"
     ]
    }
   ],
   "source": [
    "\n",
    "date = entry.date\n",
    "subject = entry.subject\n",
    "\n",
    "files = entry.get_raw_files()\n",
    "sources = entry.get_preprocessed_sources()\n",
    "preproc_dir = os.path.join(preproc_dir_base, subject)\n",
    "if not os.path.exists(preproc_dir):\n",
    "    os.mkdir(preproc_dir)\n",
    "\n",
    "try:\n",
    "    aopy.preproc.proc_single(data_dir, files, preproc_dir, subject, te_id, date, sources, overwrite=False)\n",
    "except FileExistsError as exc:\n",
    "    print(\"File already exists, doing nothing.\")\n",
    "except Exception as exc:\n",
    "    traceback.print_exc()\n",
    "    error = traceback.format_exc()"
   ]
  },
  {
   "cell_type": "code",
   "execution_count": null,
   "id": "feb45e72-ae34-4711-8c33-875f97332527",
   "metadata": {},
   "outputs": [],
   "source": []
  }
 ],
 "metadata": {
  "kernelspec": {
   "display_name": "Python [conda env:np_targeting]",
   "language": "python",
   "name": "conda-env-np_targeting-py"
  },
  "language_info": {
   "codemirror_mode": {
    "name": "ipython",
    "version": 3
   },
   "file_extension": ".py",
   "mimetype": "text/x-python",
   "name": "python",
   "nbconvert_exporter": "python",
   "pygments_lexer": "ipython3",
   "version": "3.9.18"
  }
 },
 "nbformat": 4,
 "nbformat_minor": 5
}
