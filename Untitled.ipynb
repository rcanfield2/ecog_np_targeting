{
 "cells": [
  {
   "cell_type": "code",
   "execution_count": null,
   "id": "be662edc-4760-4ebf-a60f-e21da4023ed9",
   "metadata": {},
   "outputs": [],
   "source": [
    "good_spike_times = []\n",
    "for itrial in range(ntrials):\n",
    "    spike_times_within_trial = spike_times[np.logical_and(spike_times >= trial_start_time, spikes_times <= trial_end_time)]\n",
    "    good_spike_times.extend(spike_times_within_trial)"
   ]
  }
 ],
 "metadata": {
  "kernelspec": {
   "display_name": "Python [conda env:ryan-analysis]",
   "language": "python",
   "name": "conda-env-ryan-analysis-py"
  },
  "language_info": {
   "codemirror_mode": {
    "name": "ipython",
    "version": 3
   },
   "file_extension": ".py",
   "mimetype": "text/x-python",
   "name": "python",
   "nbconvert_exporter": "python",
   "pygments_lexer": "ipython3",
   "version": "3.9.15"
  }
 },
 "nbformat": 4,
 "nbformat_minor": 5
}
