{
 "cells": [
  {
   "cell_type": "code",
   "execution_count": 1,
   "metadata": {
    "execution": {
     "iopub.execute_input": "2024-07-26T21:29:30.600161Z",
     "iopub.status.busy": "2024-07-26T21:29:30.599407Z",
     "iopub.status.idle": "2024-07-26T21:29:33.865008Z",
     "shell.execute_reply": "2024-07-26T21:29:33.863973Z",
     "shell.execute_reply.started": "2024-07-26T21:29:30.600056Z"
    },
    "tags": []
   },
   "outputs": [],
   "source": [
    "import aopy\n",
    "import numpy as np\n",
    "from scipy import stats\n",
    "import matplotlib.pyplot as plt\n",
    "from db import dbfunctions as db\n",
    "from IPython.display import display, Markdown,HTML\n",
    "from sklearn.discriminant_analysis import LinearDiscriminantAnalysis\n",
    "from sklearn.model_selection import KFold\n",
    "from tqdm.notebook import tqdm\n",
    "from sklearn.metrics import accuracy_score\n",
    "\n",
    "plt.rcParams['font.size'] = 15\n",
    "plt.rcParams['lines.linewidth'] = 1\n",
    "plt.rcParams['lines.linestyle'] = '-'\n",
    "plt.rcParams[\"figure.figsize\"] = (4,3)\n",
    "plt.rcParams['legend.fontsize'] = 'medium'\n",
    "plt.rcParams['axes.titlesize'] = 'medium'\n",
    "colorlist = ['r','g','b','c','m','y']\n",
    "colors = plt.rcParams['axes.prop_cycle'].by_key()['color']\n",
    "\n",
    "# EVENT CODE\n",
    "CENTER_TARGET_ON = 16\n",
    "CURSOR_ENTER_CENTER_TARGET = 80\n",
    "CURSOR_ENTER_PERIPHERAL_TARGET = list(range(81,89))\n",
    "PERIPHERAL_TARGET_ON = list(range(17,25))\n",
    "CENTER_TARGET_OFF = 32\n",
    "REWARD = 48\n",
    "DELAY_PENALTY = 66\n",
    "TIMEOUT_PENALTY = 65\n",
    "HOLD_PENALTY = 64\n",
    "PAUSE = 254\n",
    "TIME_ZERO = 238\n",
    "TRIAL_END = 239\n",
    "END_TRIAL_CODE = TRIAL_END\n",
    "def get_trial_segment(traj, fs, time_start, time_end):\n",
    "    \n",
    "    ntr = time_start.shape[0]\n",
    "    t_axis = np.arange(traj.shape[0])/fs\n",
    "    \n",
    "    segmented_traj = []\n",
    "    for itr in range(ntr):\n",
    "        win = (t_axis>=time_start[itr])&(t_axis<=time_end[itr])\n",
    "        segmented_traj.append(traj[win,:])\n",
    "        \n",
    "    segmented_traj = np.array(segmented_traj, 'object')\n",
    "    return segmented_traj\n",
    "\n",
    "def get_preproc_kinematic_segment(proc_data, samplerate, event_code,event_timestamp, TRIAL_START, TRIAL_END, trial_filter):\n",
    "    trial_segments, trial_times = aopy.postproc.get_trial_segments(event_code,event_timestamp,TRIAL_START, TRIAL_END)\n",
    "    trajectories = np.array(aopy.postproc.get_data_segments(proc_data, trial_times, samplerate), dtype='object')\n",
    "    trial_segments = np.array(trial_segments, dtype='object')\n",
    "    trial_times = np.array(trial_times, dtype='object')\n",
    "    success_trials = [trial_filter(t) for t in trial_segments]\n",
    "    \n",
    "    return trajectories[success_trials],trial_segments[success_trials],trial_times[success_trials]\n",
    "\n",
    "def get_cursor_leave_center_time(data, times, samplerate, target_radius):\n",
    "    '''\n",
    "    Compute the time when the cursor leaves the center target radius\n",
    "    \n",
    "    Args:\n",
    "        traj (ntrials list of (nt,2)): x,y trajectory data\n",
    "        times (ntrials list of timestamps): The first and the last timestamp of each list must be trial start time and reward time\n",
    "        target_radius (float): the radius of the center target\n",
    "        \n",
    "    Returns:\n",
    "        cursor_leave_center_time (ntrials list): the time when the cursor leaves the center target radius\n",
    "    '''\n",
    "    ntr = len(data)\n",
    "    cursor_leave_center_time = []\n",
    "    \n",
    "    for itr in range(ntr):\n",
    "        t_axis = np.arange(data[itr].shape[0])/samplerate\n",
    "        \n",
    "        dist = np.sqrt(data[itr][:,0]**2 + data[itr][:,1]**2)\n",
    "        leave_idx = np.where(dist>target_radius)[0]\n",
    "        temp = t_axis[leave_idx]\n",
    "        cursor_leave_center_time.append(temp[0])\n",
    "    \n",
    "    return cursor_leave_center_time\n",
    "\n",
    "def get_main_saccade(onset_target, offset_target, onset_event, offset_event, target_idx):\n",
    "    '''\n",
    "    Finds a main saccade to look at the peripheral target from the center target in a given trial\n",
    "    \n",
    "    Args:\n",
    "        onset_target\n",
    "        offset_target\n",
    "        onset_event\n",
    "        offset_event\n",
    "        target_idx\n",
    "        \n",
    "    Returns:\n",
    "        saccade_targ\n",
    "    '''\n",
    "    saccade_index = np.vstack([onset_target,offset_target])\n",
    "    saccade_event = np.vstack([onset_event,offset_event])\n",
    "\n",
    "    nsaccade = onset_target.shape[0]\n",
    "    \n",
    "    saccade_for_target = np.array([0, int(target_idx)]) # The saccade for the peripheral target\n",
    "    event_for_gocue = np.array([32,32])\n",
    "\n",
    "    saccade_for_target_idx = -1\n",
    "    for isaccade in range(nsaccade):\n",
    "        sac_idx = saccade_index[:,isaccade]\n",
    "        sac_event = saccade_event[:,isaccade]\n",
    "\n",
    "        # find a saccade for the peripheral target after gocue\n",
    "        #if np.all(sac_idx == saccade_for_target) & np.all(sac_event == event_for_gocue):#& (sum(onset_event == 32) ==1):\n",
    "        if np.all(offset_target[isaccade] == int(target_idx)):# & np.all(offset_event[isaccade] == 32):\n",
    "            saccade_for_target_idx = isaccade\n",
    "    \n",
    "    return saccade_for_target_idx\n",
    "\n",
    "def detect_movement_onset(cursor_traj, fs, trial_start, target_onset, gocue, numsd=3.0):\n",
    "    '''\n",
    "    Compute movement (s) onset when cursor speed crosses threshold based on mean and standard deviation in baseline period.\n",
    "    Baseline is defined as the period between target onset and gocue because speed still exists soon after the cursor enters the center target.\n",
    "    \n",
    "    args:\n",
    "        cursor_traj (ntr) : cursor trajectory\n",
    "        fs (float) : sampling rate in Hz\n",
    "        trial_start (ntr) : trial start time in sec\n",
    "        target_onset (ntr) : target onset in sec\n",
    "        gocue (ntr) : gocue (the time when the center target disappears) in time\n",
    "        \n",
    "    returns:\n",
    "        movement_onset (ntr)\n",
    "    '''\n",
    "    \n",
    "    target_from_start = target_onset - trial_start\n",
    "    gocue_from_start = gocue - trial_start\n",
    "    dt = 1/fs\n",
    "    \n",
    "    movement_onset = []\n",
    "    for itr in range(cursor_traj.shape[0]):\n",
    "        # compute speed\n",
    "        dist = np.linalg.norm(cursor_traj[itr],axis=1)\n",
    "        speed = np.gradient(dist, dt) # in (cm/s)\n",
    "        \n",
    "        # compute threshold based on mean and std in baseline\n",
    "        t_cursor = np.arange(dist.shape[0])*dt\n",
    "        baseline_idx = (t_cursor<gocue_from_start[itr]) & (t_cursor>target_from_start[itr])\n",
    "        baseline_speed = np.mean(speed[baseline_idx])\n",
    "        baseline_std = np.std(speed[baseline_idx],ddof=1)\n",
    "        thr = baseline_speed + numsd*baseline_std\n",
    "        \n",
    "        # get movement onset\n",
    "        movement_onset.append(t_cursor[np.where((speed>thr)&(t_cursor>target_from_start[itr]))[0][0]])\n",
    "        \n",
    "    return np.array(movement_onset)\n",
    "\n",
    "\n",
    "def get_minimum_trials_per_target(target_idx, cond_mask):\n",
    "    \n",
    "    # Get the minimum number of trials per target after restricting trials\n",
    "    num_trial_targ = []\n",
    "    for itarget in np.unique(target_idx):\n",
    "        num_trial_targ.append(sum(target_idx[cond_mask] == itarget))\n",
    "    min_trial = min(num_trial_targ)\n",
    "    \n",
    "    return min_trial\n",
    "\n",
    "def get_conditioned_trials_per_target(target_idx, cond_mask, min_trial, replacement=False, seed=None):\n",
    "    '''\n",
    "    Get trial index to choose the same number of trials per target in removing trials by a certain condition\n",
    "    \n",
    "    Args:\n",
    "        target_index (ntr: int): target index\n",
    "        cond_mask (ntr: bool): condition to remove trials\n",
    "        replacement (bool): whether to allow replacement in choosing trials. This can be used for bootstrapping.\n",
    "        \n",
    "    Returns:\n",
    "        trial_index (ntrial: bool): trial index to extract the same number of conditioned trials for each target\n",
    "        \n",
    "    '''\n",
    "    if seed:\n",
    "        np.random.seed(seed)\n",
    "        \n",
    "    # Get trial index to get the same number of trials per target\n",
    "    tmp = []\n",
    "    for itarget in np.unique(target_idx):\n",
    "        trial_mask_targ = np.where(cond_mask * (target_idx == itarget))[0] # get conditioned trial index for each target\n",
    "\n",
    "        if trial_mask_targ.size:\n",
    "            tmp = np.concatenate([tmp, np.random.choice(trial_mask_targ, min_trial, replace=replacement)])\n",
    "\n",
    "    trial_mask = np.array([int(a) for a in tmp]) # convert float to int\n",
    "    trial_mask = np.random.permutation(trial_mask) # because trial mask is well organized in the order of target number\n",
    "    \n",
    "    return trial_mask\n",
    "\n",
    "def classify_targ_lda2(band_data, cond_label, n_splits=10):\n",
    "    kf = KFold(n_splits=n_splits)\n",
    "    lda = LinearDiscriminantAnalysis(shrinkage='auto', solver='eigen')\n",
    "       \n",
    "    # LDA at each single electrode\n",
    "    ntr,nband,nch = band_data.shape\n",
    "    pred_Y_ch = []\n",
    "    true_Y_ch = []\n",
    "    for ich in range(nch):\n",
    "        X = band_data[:,:,ich].reshape(ntr,-1)\n",
    "        Y = cond_label\n",
    "        if ich == 0:\n",
    "            weights = np.zeros((n_splits, nch, nband))\n",
    "            \n",
    "        pred_Y = []\n",
    "        true_Y = []\n",
    "        for ifold, (train_idx, test_idx) in enumerate(kf.split(X)):\n",
    "            Xtrain,Xtest = X[train_idx,:],X[test_idx,:]\n",
    "            Ytrain,Ytest = Y[train_idx],Y[test_idx]\n",
    "            \n",
    "            lda.fit( Xtrain - np.mean(Xtrain,axis=0), Ytrain)\n",
    "            reshaped_weights = lda.coef_.reshape(-1,nband)\n",
    "            weights[ifold, ich, :] = np.sum(np.abs(reshaped_weights),axis=0)\n",
    "\n",
    "            pred_Y.append(lda.predict( Xtest - np.mean(Xtrain,axis=0)))\n",
    "            true_Y.append(Ytest)\n",
    "        pred_Y_ch.append(pred_Y)\n",
    "        true_Y_ch.append(true_Y)\n",
    "    return pred_Y_ch, true_Y_ch, weights\n",
    "\n",
    "def get_relevant_saccade_idx(onset_target, offset_target, saccade_distance, target_idx):\n",
    "    '''\n",
    "    Finds a relevant saccade index which is for looking at the peripheral target from the center target in a given trial\n",
    "    onset_target and offset_target can be obtained by get_saccade_target_index.\n",
    "    If there are multiple relevant saccades, choose the saccade whose distance is the largest among other saccades\n",
    "    If there is no relevant saccades, the saccade index becomes -1\n",
    "    \n",
    "    Args:\n",
    "        onset_target (nsaccade): target index at saccade start in a given trial\n",
    "        offset_target (nsaccade): target index at saccade end in a given trial  \n",
    "        saccade_distance (nsaccade): eye movement distance in a given trial\n",
    "        target_idx (int): target index in a given trial\n",
    "        \n",
    "    Returns:\n",
    "        (int): relevant saccade index with the largest distance among saccades. index becomes -1 if there is no relevant saccades.\n",
    "    '''\n",
    "    \n",
    "    # Get saccade target index when saccade starts and ends\n",
    "    saccade_target_index = np.vstack([onset_target,offset_target])\n",
    "    \n",
    "    # Get saccade target index that relevant saccade (saccade for the peripheral target) should have\n",
    "    relevant_saccade_target_idx = np.array([0, int(target_idx)])\n",
    "\n",
    "    dist = []\n",
    "    saccade_idx = []\n",
    "    relevant_saccade_idx = -1\n",
    "    \n",
    "    # Check if each saccade is relevant or not\n",
    "    for isaccade in range(onset_target.shape[0]):\n",
    "\n",
    "        # find a saccade for the peripheral target\n",
    "        if np.all(saccade_target_index[:,isaccade] == relevant_saccade_target_idx):\n",
    "            saccade_idx.append(isaccade) # get saccade index about potential relevant saccades\n",
    "            dist.append(saccade_distance[isaccade]) # get eye movement distance about potential relevant saccades\n",
    "    \n",
    "    # Get a relevant saccade index with the largest distance\n",
    "    if len(saccade_idx):\n",
    "        relevant_saccade_idx = saccade_idx[np.argmax(dist)]  \n",
    "        \n",
    "    return relevant_saccade_idx"
   ]
  },
  {
   "cell_type": "code",
   "execution_count": 2,
   "metadata": {
    "execution": {
     "iopub.execute_input": "2024-07-26T21:29:33.866910Z",
     "iopub.status.busy": "2024-07-26T21:29:33.866581Z",
     "iopub.status.idle": "2024-07-26T21:29:34.071024Z",
     "shell.execute_reply": "2024-07-26T21:29:34.069863Z",
     "shell.execute_reply.started": "2024-07-26T21:29:33.866890Z"
    },
    "tags": []
   },
   "outputs": [
    {
     "name": "stdout",
     "output_type": "stream",
     "text": [
      "{\"runtime\": 1210.497924566269, \"n_trials\": 631, \"n_success_trials\": 366} [0.1, 0.6] [0.15, 0.175]\n",
      "{\"runtime\": 140.54573941230774, \"n_trials\": 78, \"n_success_trials\": 50} [0.1, 0.55] [0.15, 0.175]\n",
      "{\"runtime\": 332.2444341182709, \"n_trials\": 179, \"n_success_trials\": 100} [0.1, 0.6] [0.15, 0.175]\n",
      "{\"runtime\": 301.73485684394836, \"n_trials\": 160, \"n_success_trials\": 100} [0.1, 0.625] [0.15, 0.175]\n",
      "{\"runtime\": 163.41647791862488, \"n_trials\": 88, \"n_success_trials\": 50} [0.1, 0.65] [0.15, 0.175]\n",
      "{\"runtime\": 297.8275351524353, \"n_trials\": 155, \"n_success_trials\": 90} [0.1, 0.675] [0.15, 0.175]\n",
      "{\"runtime\": 1190.5443699359894, \"n_trials\": 598, \"n_success_trials\": 322} [0.1, 0.7] [0.15, 0.175]\n",
      "[2024-01-02 11:12:20.740000: affi on manual control task, id=13220, 2024-01-03 10:18:13.405000: affi on manual control task, id=13225, 2024-01-03 10:21:10.233000: affi on manual control task, id=13226, 2024-01-03 10:27:10.847000: affi on manual control task, id=13227, 2024-01-03 10:32:45.175000: affi on manual control task, id=13228, 2024-01-03 10:35:56.718000: affi on manual control task, id=13229, 2024-01-03 10:41:24.315000: affi on manual control task, id=13230]\n",
      "7\n"
     ]
    }
   ],
   "source": [
    "data_dir = '/data/raw'\n",
    "preproc_dir = '/data/preprocessed'\n",
    "\n",
    "subject = 'affi'\n",
    "time_before = 0\n",
    "time_after = 0.45\n",
    "filter_window_offset = 0.1 #[s]\n",
    "success_rate_window = 25\n",
    "flag = 'movement'\n",
    "# flag = 'reward'\n",
    "# flag = 'acquire'\n",
    "\n",
    "if subject == 'beignet':\n",
    "    ex_date_list = [(2022,6,28)]\n",
    "    num_sd_mv = 5.0\n",
    "    num_sd = 2.5 # for saccade detection\n",
    "else:\n",
    "    #ex_date_list = [(2023,7,24)]\n",
    "    # ex_date_list = [(2023,7,26)]\n",
    "    # ex_date_list = [(2023,7,25),(2023,7,26),(2023,7,27),(2023,7,28),(2023,7,29),(2023,7,30),(2023,7,31),(2023,8,1),(2023,8,2),(2023,8,3)]\n",
    "    ex_date_list = [(2024,1,2), (2024,1,3)] # Eye constrained\n",
    "    # ex_date_list = [(2023,12,2),(2023,12,4),(2023,12,5),(2023,12,8),(2023,12,9)] # Not eye constrained\n",
    "    num_sd_mv = 3.0\n",
    "    num_sd = 1 # for saccade detection\n",
    "    \n",
    "downsamplerate = 1000 # for saccade detection\n",
    "\n",
    "sac_radius = 3.0\n",
    "min_intersaccade = 0.02 # for saccade detection\n",
    "\n",
    "data_list = []\n",
    "import ast\n",
    "for date in ex_date_list:\n",
    "    entries = db.get_task_entries(subject__name=subject, date=date, task__name='manual control')\n",
    "    for entry in entries:\n",
    "        params = entry.task_params\n",
    "        \n",
    "        if (subject == 'affi')*(ex_date_list==[(2024,1,2),(2024,1,3)]):\n",
    "            if ('record_headstage' in params)*('rand_delay' in params)*('show_eye_pos' in params):\n",
    "                d = ast.literal_eval(entry.report)\n",
    "                if (params['rand_delay'][-1] >= 0.6)|(params['multi_hold_time'][-1] == 0.175):\n",
    "                    if d['n_success_trials'] >= 50:\n",
    "                        data_list.append(entry)\n",
    "                        print(entry.report, params['rand_delay'], params['multi_hold_time'])\n",
    "                        \n",
    "        elif (subject == 'affi'):\n",
    "            if ('record_headstage' in params)*('rand_delay' in params):\n",
    "                d = ast.literal_eval(entry.report)\n",
    "                if (params['rand_delay'][-1] >= 0.6):\n",
    "                    if d['n_success_trials'] >= 50:\n",
    "                        data_list.append(entry)\n",
    "                        print(entry.report, params['rand_delay'])\n",
    "                        \n",
    "        elif subject == 'beignet':\n",
    "            if ('record_headstage' in params)*('rand_delay' in params):\n",
    "                if params['rand_delay'] == [0.1,0.6]:\n",
    "                    data_list.append(entry)\n",
    "                    print(entry.report)          \n",
    "\n",
    "print(data_list)\n",
    "print(len(data_list))\n",
    "#rand_delay = [data.task_params['rand_delay'] for data in data_list1[1:]]\n",
    "#print(f'Random delay is {rand_delay}')"
   ]
  },
  {
   "cell_type": "code",
   "execution_count": 3,
   "metadata": {
    "execution": {
     "iopub.execute_input": "2024-07-26T21:29:34.072802Z",
     "iopub.status.busy": "2024-07-26T21:29:34.072419Z",
     "iopub.status.idle": "2024-07-26T21:29:34.079688Z",
     "shell.execute_reply": "2024-07-26T21:29:34.078463Z",
     "shell.execute_reply.started": "2024-07-26T21:29:34.072765Z"
    },
    "tags": []
   },
   "outputs": [
    {
     "name": "stdout",
     "output_type": "stream",
     "text": [
      "7\n"
     ]
    }
   ],
   "source": [
    "bad_id = [13214, 13221, 13224]\n",
    "data_list = [entry for entry in data_list if entry.id not in bad_id]\n",
    "print(len(data_list))"
   ]
  },
  {
   "cell_type": "markdown",
   "metadata": {},
   "source": [
    "# Load data"
   ]
  },
  {
   "cell_type": "code",
   "execution_count": 4,
   "metadata": {
    "execution": {
     "iopub.execute_input": "2024-07-26T21:29:34.081650Z",
     "iopub.status.busy": "2024-07-26T21:29:34.081277Z",
     "iopub.status.idle": "2024-07-26T21:30:12.337319Z",
     "shell.execute_reply": "2024-07-26T21:30:12.336432Z",
     "shell.execute_reply.started": "2024-07-26T21:29:34.081614Z"
    },
    "tags": []
   },
   "outputs": [
    {
     "name": "stderr",
     "output_type": "stream",
     "text": [
      "/home/aolab/projects/Neuropixel_targeting/analyze/aopy/data/base.py:683: FutureWarning: Calling float on a single element Series is deprecated and will raise a TypeError in the future. Use float(ser.iloc[0]) instead\n",
      "  acq_ch_position[ielec,0] = eleclayout_table[xpos_name][eleclayout_table['electrode']==elecid]\n",
      "/home/aolab/projects/Neuropixel_targeting/analyze/aopy/data/base.py:684: FutureWarning: Calling float on a single element Series is deprecated and will raise a TypeError in the future. Use float(ser.iloc[0]) instead\n",
      "  acq_ch_position[ielec,1] = eleclayout_table[ypos_name][eleclayout_table['electrode']==elecid]\n"
     ]
    },
    {
     "data": {
      "application/vnd.jupyter.widget-view+json": {
       "model_id": "d0dd926b3bc84c4bb9d18c29a17c2eea",
       "version_major": 2,
       "version_minor": 0
      },
      "text/plain": [
       "  0%|          | 0/7 [00:00<?, ?it/s]"
      ]
     },
     "metadata": {},
     "output_type": "display_data"
    },
    {
     "name": "stdout",
     "output_type": "stream",
     "text": [
      "Bad channels : [ 16  65  79  82  92 203 236]\n",
      "The number of bad channels : 7\n",
      "(233,)\n",
      "ratio 0.9489795918367347\n",
      "# relevant saccade trials 1023\n",
      "# All trials 1078\n"
     ]
    },
    {
     "data": {
      "image/png": "[encoded data removed]",
      "text/plain": [
       "<Figure size 1100x400 with 2 Axes>"
      ]
     },
     "metadata": {},
     "output_type": "display_data"
    }
   ],
   "source": [
    "trial_filter = lambda t: REWARD in t # choose only rewarded trials for analysis\n",
    "elec_pos, acq_ch, elecs = aopy.data.load_chmap(drive_type='ECoG244')\n",
    "\n",
    "for idx, entry in enumerate(tqdm(data_list)):\n",
    "    exp_id = entry.id\n",
    "    exp_date = entry.date.date()\n",
    "    \n",
    "    # Load data\n",
    "    data, metadata = aopy.data.load_preproc_exp_data(preproc_dir, subject, exp_id, exp_date)\n",
    "    lfp_data, lfp_metadata =  aopy.data.load_preproc_lfp_data(preproc_dir, subject, exp_id, exp_date)\n",
    "    cursor_traj_tmp, tsegs_tmp = aopy.data.get_kinematic_segments(preproc_dir, subject, exp_id, exp_date, CURSOR_ENTER_CENTER_TARGET, TRIAL_END, trial_filter=trial_filter) \n",
    "    segs_tmp, times_tmp = aopy.preproc.base.get_trial_segments_and_times(data['events']['code'], data['events']['timestamp'],CURSOR_ENTER_CENTER_TARGET, TRIAL_END)\n",
    "    times_tmp = [t for s, t in zip(segs_tmp, times_tmp) if trial_filter(s)]  # get_trial_segments_and_times() does not include a trial filter so doing this outside. \n",
    "    eye_data, eye_metadata = aopy.data.load_preproc_eye_data(preproc_dir, subject, exp_id, exp_date)\n",
    "    target_idx_tmp = np.array([int(seg[1] - CENTER_TARGET_ON ) for seg in tsegs_tmp])\n",
    "    \n",
    "    # Collect metadata\n",
    "    volt_bit = lfp_metadata['voltsperbit']\n",
    "    FS_cursor = metadata['cursor_interp_samplerate']\n",
    "    FS_hand = metadata['analog_samplerate']\n",
    "    FS_eye = eye_metadata['samplerate']\n",
    "    FS = lfp_metadata['lfp_samplerate']\n",
    "    target_radius = metadata['target_radius']\n",
    "\n",
    "    # bad channel detection\n",
    "    lfp_data = lfp_data[:,acq_ch-1]*volt_bit\n",
    "    if idx == 0:\n",
    "        numsd_badch = 5\n",
    "        bad_ch = aopy.preproc.quality.detect_bad_ch_outliers(lfp_data[:60*FS,:], nbins=10000, thr=0.05, numsd=numsd_badch, debug=True, verbose=True) #bad channels detected from the lfp data in the 1st second\n",
    "        good_ch =~bad_ch\n",
    "        target_pos = aopy.data.get_target_locations(preproc_dir, subject, exp_id, exp_date, [0,1,2,3,4,5,6,7,8])  \n",
    "\n",
    "    # FIR filter\n",
    "    # order = 20000\n",
    "    # Wn = [0.1,200]\n",
    "    # fnq = FS/2\n",
    "    # print('filtering...')\n",
    "    # b = signal.firwin(order, Wn, nyq=fnq, pass_zero=False, window='hamming')\n",
    "    # lfp_filter = signal.filtfilt(b, 1, lfp_data, axis=0)\n",
    "    # np.save(f'/data/postprocessed/tomo/lfp_filter_{subject}_{exp_date}_{exp_id}',lfp_filter)\n",
    "    if subject == 'affi':\n",
    "        lfp_filter_tmp = np.load(f'/data/postprocessed/tomo/lfp_filter_{subject}_{exp_date}_{exp_id}.npy')\n",
    "    elif subject == 'beignet':\n",
    "        lfp_filter_tmp = np.load(f'/data/postprocessed/tomo/lfp_filter_{subject}_{exp_date}.npy')\n",
    "\n",
    "    # Get task event times\n",
    "    # this sequence works for when trials are aligned to CURSOR_ENTER_CENTER_TARGET to [REWARD, TRIAL_END]\n",
    "    ntr = len(cursor_traj_tmp)\n",
    "    trial_start_tmp = np.array([t[0] for t in times_tmp])\n",
    "    target_onset_tmp = np.array([t[1] for t in times_tmp])\n",
    "    gocue_time_tmp = np.array([t[2] for t in times_tmp])\n",
    "    acquire_time_tmp = np.array([t[3] for t in times_tmp]) # corresponds to cursor enter peripheral target \n",
    "    reward_time_tmp = np.array([t[4] for t in times_tmp])\n",
    "    trial_end_tmp = np.array([t[5] for t in times_tmp])\n",
    "    movement_onset_tmp = aopy.analysis.get_movement_onset(cursor_traj_tmp, 1000, trial_start_tmp, target_onset_tmp, gocue_time_tmp, numsd=3.0, butter_order=4, low_cut=20, thr=5)\n",
    "    movement_onset_tmp = movement_onset_tmp + trial_start_tmp\n",
    "\n",
    "    # Get eye trajectories\n",
    "    if (subject == 'affi')*(ex_date_list==[(2024,1,2),(2024,1,3)]):\n",
    "        # calibrated_eye_interp = aopy.data.get_interp_kinematics(data, metadata, datatype='calibrated_eye', samplerate=FS_eye) # online eye data\n",
    "        calibrated_eye_interp = aopy.data.get_interp_task_data(data, metadata, datatype='calibrated_eye', samplerate=FS_eye) # online eye data\n",
    "        eye_traj_tmp = get_trial_segment(calibrated_eye_interp, FS_eye, trial_start_tmp, trial_end_tmp)\n",
    "    else:\n",
    "        eye_traj_tmp, _ = aopy.data.get_kinematic_segments(preproc_dir, subject, exp_id, exp_date, CURSOR_ENTER_CENTER_TARGET, TRIAL_END, trial_filter=trial_filter, datatype='eye')        \n",
    "\n",
    "    # Calc saccade onset\n",
    "    saccades_onset_tmp,saccade_onset_tmp,duration_tmp,main_saccade_idx_tmp = [],[],[],[]\n",
    "    for itr in range(target_idx_tmp.shape[0]):\n",
    "        if (subject == 'affi')*(ex_date_list==[(2024,1,2),(2024,1,3)]):\n",
    "            ave_eye_traj = eye_traj_tmp[itr]\n",
    "        else:\n",
    "            ave_eye_traj = np.stack([(eye_traj_tmp[itr][:,0]+eye_traj_tmp[itr][:,2])/2, (eye_traj_tmp[itr][:,1]+eye_traj_tmp[itr][:,3])/2]).T\n",
    " \n",
    "        # Filter eye data\n",
    "        eye_data_filt,_ = aopy.precondition.filter_eye(ave_eye_traj, FS_eye, downsamplerate=downsamplerate)\n",
    "        \n",
    "        # Get saccade onset\n",
    "        onset, duration1, distance1 = aopy.precondition.detect_saccades(eye_data_filt, downsamplerate, num_sd=num_sd)\n",
    "        \n",
    "        # Get relevant saccades from the center target to the peripheral target\n",
    "        onset_pos, offset_pos = aopy.postproc.get_saccade_pos(ave_eye_traj, np.array(onset), np.array(duration1), downsamplerate)\n",
    "        onset_target, offset_target = aopy.postproc.get_saccade_target_index(onset_pos, offset_pos, target_pos[:,:2], sac_radius)\n",
    "        onset_event, offset_event = aopy.postproc.get_saccade_event(np.array(onset), np.array(duration1), times_tmp[itr]-times_tmp[itr][0], tsegs_tmp[itr])\n",
    "        saccade_idx = get_relevant_saccade_idx(onset_target, offset_target, distance1, target_idx_tmp[itr])\n",
    "        \n",
    "        onset += times_tmp[itr][0]\n",
    "        duration_tmp.append(duration1)\n",
    "        saccades_onset_tmp.append(onset)\n",
    "        saccade_onset_tmp.append(onset[saccade_idx]) # saccade onset of relevant saccades\n",
    "        main_saccade_idx_tmp.append(saccade_idx)\n",
    "        \n",
    "    saccade_onset_tmp = np.array(saccade_onset_tmp)\n",
    "    saccades_onset_tmp = np.array(saccades_onset_tmp, dtype=object)\n",
    "    duration_tmp = np.array(duration_tmp, dtype=object)\n",
    "    main_saccade_idx_tmp = np.array(main_saccade_idx_tmp)\n",
    "    \n",
    "    # Calc trial_align_data\n",
    "    if flag == 'gocue':\n",
    "        trial_align_data_tmp = aopy.preproc.trial_align_data(lfp_filter_tmp, gocue_time_tmp, time_before, time_after, FS)\n",
    "        flag_name = 'gocue'\n",
    "    elif flag == 'saccade':\n",
    "        trial_align_data_tmp = aopy.preproc.trial_align_data(lfp_filter_tmp, saccade_onset_tmp, time_before, time_after, FS)\n",
    "        flag_name = 'saccade onset'\n",
    "    elif flag == 'target':\n",
    "        trial_align_data_tmp = aopy.preproc.trial_align_data(lfp_filter_tmp, target_onset_tmp, time_before, time_after, FS)\n",
    "        flag_name = 'target onset'\n",
    "    elif flag == 'acquire':\n",
    "        trial_align_data_tmp = aopy.preproc.trial_align_data(lfp_filter_tmp, acquire_time_tmp, time_before, time_after, FS)\n",
    "        flag_name = 'acquire'\n",
    "    elif flag == 'movement':\n",
    "        trial_align_data_tmp = aopy.preproc.trial_align_data(lfp_filter_tmp, movement_onset_tmp, time_before, time_after, FS)\n",
    "        flag_name = 'movement'\n",
    "    elif flag == 'reward':\n",
    "        trial_align_data_tmp = aopy.preproc.trial_align_data(lfp_filter_tmp, reward_time_tmp, time_before, time_after, FS)\n",
    "        flag_name = 'reward'\n",
    "    else:\n",
    "        print('Use different flag name')\n",
    "    trial_align_data_tmp = trial_align_data_tmp.transpose(2,0,1)\n",
    "    \n",
    "    # Concatenate trials across days\n",
    "    if idx == 0:\n",
    "        trial_align_data = trial_align_data_tmp\n",
    "        trial_start = trial_start_tmp\n",
    "        target_onset = target_onset_tmp\n",
    "        gocue_time = gocue_time_tmp\n",
    "        reward_time = reward_time_tmp\n",
    "        movement_onset = movement_onset_tmp\n",
    "        saccade_onset = saccade_onset_tmp\n",
    "        acquire_time = acquire_time_tmp\n",
    "        target_idx = target_idx_tmp\n",
    "        cursor_traj = cursor_traj_tmp\n",
    "        eye_traj = eye_traj_tmp\n",
    "        saccades_onset = saccades_onset_tmp\n",
    "        duration = duration_tmp\n",
    "        times = times_tmp\n",
    "        tsegs = tsegs_tmp\n",
    "        main_saccade_idx = main_saccade_idx_tmp\n",
    "        lfp_filter = lfp_filter_tmp\n",
    "\n",
    "    else:\n",
    "        trial_align_data = np.concatenate([trial_align_data, trial_align_data_tmp], axis=0)\n",
    "        lfp_filter = np.concatenate([lfp_filter, lfp_filter_tmp],axis=0)\n",
    "        trial_start = np.concatenate([trial_start, trial_start_tmp])\n",
    "        target_onset = np.concatenate([target_onset, target_onset_tmp])\n",
    "        gocue_time = np.concatenate([gocue_time, gocue_time_tmp])\n",
    "        reward_time = np.concatenate([reward_time, reward_time_tmp])\n",
    "        movement_onset = np.concatenate([movement_onset, movement_onset_tmp])\n",
    "        saccade_onset = np.concatenate([saccade_onset, saccade_onset_tmp])\n",
    "        saccades_onset = np.concatenate([saccades_onset, saccades_onset_tmp])\n",
    "        duration = np.concatenate([duration, duration_tmp])\n",
    "        acquire_time = np.concatenate([acquire_time, acquire_time_tmp])\n",
    "        target_idx = np.concatenate([target_idx, target_idx_tmp])\n",
    "        cursor_traj = np.concatenate([cursor_traj, cursor_traj_tmp])\n",
    "        eye_traj = np.concatenate([eye_traj, eye_traj_tmp])\n",
    "        times = np.concatenate([times, times_tmp])\n",
    "        tsegs = np.concatenate([tsegs, tsegs_tmp])\n",
    "        main_saccade_idx = np.concatenate([main_saccade_idx, main_saccade_idx_tmp])\n",
    "\n",
    "      \n",
    "trial_align_data = trial_align_data[:,:,good_ch]\n",
    "elec_pos = elec_pos[good_ch]\n",
    "acq_ch = acq_ch[good_ch]\n",
    "ntr,nt,nch = trial_align_data.shape\n",
    "print(acq_ch.shape)\n",
    "normal_saccade_trial = main_saccade_idx != -1 # When main_saccade_idx == -1, there is no relevant saccades in a trial\n",
    "print('ratio',normal_saccade_trial.sum()/normal_saccade_trial.shape[0])\n",
    "print('# relevant saccade trials',normal_saccade_trial.sum())\n",
    "print('# All trials',normal_saccade_trial.shape[0])"
   ]
  },
  {
   "cell_type": "code",
   "execution_count": 5,
   "metadata": {
    "execution": {
     "iopub.execute_input": "2024-07-26T21:30:12.338901Z",
     "iopub.status.busy": "2024-07-26T21:30:12.338735Z",
     "iopub.status.idle": "2024-07-26T21:30:13.913829Z",
     "shell.execute_reply": "2024-07-26T21:30:13.912929Z",
     "shell.execute_reply.started": "2024-07-26T21:30:12.338886Z"
    },
    "tags": []
   },
   "outputs": [
    {
     "name": "stdout",
     "output_type": "stream",
     "text": [
      "affi_movement_0.5_4_2024-01-03_fir-filt.npz\n"
     ]
    }
   ],
   "source": [
    "# load spectral power data\n",
    "target_list = [1,2,3,4,5,6,7,8]\n",
    "ntarget = len(target_list)\n",
    "\n",
    "bands = [(0.1,4),(4,8),(8,14),(14,30),(30,80),(80,150)]\n",
    "nband = len(bands)\n",
    "band_name = ['delta','theta','alpha','beta','gamma','hgamma']\n",
    "NW = 0.5\n",
    "BW = 4 # the number of taper is (2*nw*bw-1)\n",
    "t_axis = np.linspace(-time_before,time_after,nt)\n",
    "# print(flag)\n",
    "spec_flag = 'reward'\n",
    "NW = 0.5\n",
    "BW = 4\n",
    "# loaded_data = np.load(f'/data/postprocessed/tomo/spec/{subject}_{flag}_{NW}_{BW}_{str(exp_date)}_fir-filt.npz')\n",
    "loaded_data = np.load(f'/data/postprocessed/tomo/ECoG_mapping/spec/{subject}_{spec_flag}_{NW}_{BW}_{str(exp_date)}.npz')\n",
    "f_spec = loaded_data['f_spec']\n",
    "t_spec = loaded_data['t_spec']\n",
    "spec_band = loaded_data['spec_band']\n",
    "print(f'{subject}_{flag}_{NW}_{BW}_{str(exp_date)}_fir-filt.npz')\n",
    "\n",
    "if subject == 'affi':\n",
    "    elec_pos[:,0] = elec_pos[:,0]*-1\n",
    "    elec_pos[:,[1,0]] = elec_pos[:,[0,1]]\n",
    "    "
   ]
  },
  {
   "cell_type": "code",
   "execution_count": 6,
   "metadata": {
    "execution": {
     "iopub.execute_input": "2024-07-26T21:30:13.914508Z",
     "iopub.status.busy": "2024-07-26T21:30:13.914360Z",
     "iopub.status.idle": "2024-07-26T21:30:13.919577Z",
     "shell.execute_reply": "2024-07-26T21:30:13.918721Z",
     "shell.execute_reply.started": "2024-07-26T21:30:13.914494Z"
    },
    "tags": []
   },
   "outputs": [
    {
     "name": "stdout",
     "output_type": "stream",
     "text": [
      "(1078, 6, 201, 233) 1078\n"
     ]
    }
   ],
   "source": [
    "print(spec_band.shape, len(cursor_traj))"
   ]
  },
  {
   "cell_type": "code",
   "execution_count": 28,
   "metadata": {
    "execution": {
     "iopub.execute_input": "2024-07-26T21:28:37.837564Z",
     "iopub.status.busy": "2024-07-26T21:28:37.836513Z",
     "iopub.status.idle": "2024-07-26T21:28:37.998239Z",
     "shell.execute_reply": "2024-07-26T21:28:37.997325Z",
     "shell.execute_reply.started": "2024-07-26T21:28:37.837509Z"
    },
    "tags": []
   },
   "outputs": [
    {
     "ename": "IndexError",
     "evalue": "index 2 is out of bounds for axis 1 with size 2",
     "output_type": "error",
     "traceback": [
      "\u001b[0;31m---------------------------------------------------------------------------\u001b[0m",
      "\u001b[0;31mIndexError\u001b[0m                                Traceback (most recent call last)",
      "Cell \u001b[0;32mIn[28], line 6\u001b[0m\n\u001b[1;32m      4\u001b[0m saccades_onset,saccade_onset,duration,main_saccade_idx \u001b[38;5;241m=\u001b[39m [],[],[],[]\n\u001b[1;32m      5\u001b[0m \u001b[38;5;28;01mfor\u001b[39;00m itr \u001b[38;5;129;01min\u001b[39;00m \u001b[38;5;28mrange\u001b[39m(\u001b[38;5;28mlen\u001b[39m(eye_traj)):\n\u001b[0;32m----> 6\u001b[0m     ave_eye_traj \u001b[38;5;241m=\u001b[39m np\u001b[38;5;241m.\u001b[39mstack([(eye_traj[itr][:,\u001b[38;5;241m0\u001b[39m]\u001b[38;5;241m+\u001b[39m\u001b[43meye_traj\u001b[49m\u001b[43m[\u001b[49m\u001b[43mitr\u001b[49m\u001b[43m]\u001b[49m\u001b[43m[\u001b[49m\u001b[43m:\u001b[49m\u001b[43m,\u001b[49m\u001b[38;5;241;43m2\u001b[39;49m\u001b[43m]\u001b[49m)\u001b[38;5;241m/\u001b[39m\u001b[38;5;241m2\u001b[39m, (eye_traj[itr][:,\u001b[38;5;241m1\u001b[39m]\u001b[38;5;241m+\u001b[39meye_traj[itr][:,\u001b[38;5;241m3\u001b[39m])\u001b[38;5;241m/\u001b[39m\u001b[38;5;241m2\u001b[39m])\u001b[38;5;241m.\u001b[39mT\n\u001b[1;32m      7\u001b[0m     eye_data_filt \u001b[38;5;241m=\u001b[39m aopy\u001b[38;5;241m.\u001b[39mprecondition\u001b[38;5;241m.\u001b[39mfilter_eye(ave_eye_traj, FS_eye, downsamplerate\u001b[38;5;241m=\u001b[39mdownsamplerate)\n\u001b[1;32m      9\u001b[0m     onset, duration1, distance1 \u001b[38;5;241m=\u001b[39m aopy\u001b[38;5;241m.\u001b[39mprecondition\u001b[38;5;241m.\u001b[39mdetect_saccades(eye_data_filt, downsamplerate, num_sd\u001b[38;5;241m=\u001b[39mnum_sd)\n",
      "\u001b[0;31mIndexError\u001b[0m: index 2 is out of bounds for axis 1 with size 2"
     ]
    }
   ],
   "source": [
    "# Compute relevant saccade and reasonable movement onset trials\n",
    "target_idx = np.array([t[1]-CENTER_TARGET_ON for t in tsegs])\n",
    "\n",
    "saccades_onset,saccade_onset,duration,main_saccade_idx = [],[],[],[]\n",
    "for itr in range(len(eye_traj)):\n",
    "    ave_eye_traj = np.stack([(eye_traj[itr][:,0]+eye_traj[itr][:,2])/2, (eye_traj[itr][:,1]+eye_traj[itr][:,3])/2]).T\n",
    "    eye_data_filt = aopy.precondition.filter_eye(ave_eye_traj, FS_eye, downsamplerate=downsamplerate)\n",
    "\n",
    "    onset, duration1, distance1 = aopy.precondition.detect_saccades(eye_data_filt, downsamplerate, num_sd=num_sd)\n",
    "\n",
    "    onset_pos, offset_pos = aopy.postproc.get_saccade_pos(ave_eye_traj, np.array(onset), np.array(duration1), downsamplerate)\n",
    "    onset_target, offset_target = aopy.postproc.get_saccade_target_index(onset_pos, offset_pos, target_pos[:,:2], sac_radius)\n",
    "    onset_event, offset_event = aopy.postproc.get_saccade_event(np.array(onset), np.array(duration1), times[itr]-times[itr][0], tsegs[itr])\n",
    "    saccade_idx = get_main_saccade(onset_target, offset_target, onset_event, offset_event, target_idx[itr])\n",
    "\n",
    "    onset += times[itr][0]\n",
    "    duration.append(duration1)\n",
    "    saccades_onset.append(onset)\n",
    "    saccade_onset.append(onset[saccade_idx])\n",
    "    main_saccade_idx.append(saccade_idx)\n",
    "\n",
    "saccade_onset = np.array(saccade_onset)\n",
    "saccades_onset = np.array(saccades_onset, dtype=object)\n",
    "duration = np.array(duration, dtype=object)\n",
    "main_saccade_idx = np.array(main_saccade_idx)\n",
    "\n",
    "# get trials with relevant saccades\n",
    "normal_saccade_trial = main_saccade_idx != -1\n",
    "\n",
    "# get trials with reasonable movement onset\n",
    "movement_onset_go = movement_onset - gocue_time\n",
    "normal_onset_time = movement_onset_go > 0.15"
   ]
  },
  {
   "cell_type": "markdown",
   "metadata": {},
   "source": [
    "# Discrete (LDA) decoding analysis"
   ]
  },
  {
   "cell_type": "markdown",
   "metadata": {},
   "source": [
    "## All targets"
   ]
  },
  {
   "cell_type": "code",
   "execution_count": 29,
   "metadata": {
    "execution": {
     "iopub.execute_input": "2024-07-26T21:28:39.182654Z",
     "iopub.status.busy": "2024-07-26T21:28:39.181508Z",
     "iopub.status.idle": "2024-07-26T21:28:39.239928Z",
     "shell.execute_reply": "2024-07-26T21:28:39.239060Z",
     "shell.execute_reply.started": "2024-07-26T21:28:39.182600Z"
    },
    "tags": []
   },
   "outputs": [
    {
     "ename": "ValueError",
     "evalue": "operands could not be broadcast together with shapes (0,) (1078,) ",
     "output_type": "error",
     "traceback": [
      "\u001b[0;31m---------------------------------------------------------------------------\u001b[0m",
      "\u001b[0;31mValueError\u001b[0m                                Traceback (most recent call last)",
      "Cell \u001b[0;32mIn[29], line 6\u001b[0m\n\u001b[1;32m      4\u001b[0m \u001b[38;5;66;03m# Times relative to gocue\u001b[39;00m\n\u001b[1;32m      5\u001b[0m target_on_go \u001b[38;5;241m=\u001b[39m target_onset \u001b[38;5;241m-\u001b[39m gocue_time\n\u001b[0;32m----> 6\u001b[0m saccade_onset_go \u001b[38;5;241m=\u001b[39m \u001b[43msaccade_onset\u001b[49m\u001b[43m \u001b[49m\u001b[38;5;241;43m-\u001b[39;49m\u001b[43m \u001b[49m\u001b[43mgocue_time\u001b[49m\n\u001b[1;32m      7\u001b[0m cursor_leave_go \u001b[38;5;241m=\u001b[39m cursor_leave_time \u001b[38;5;241m-\u001b[39m gocue_time\n\u001b[1;32m      8\u001b[0m acquire_go \u001b[38;5;241m=\u001b[39m acquire_time \u001b[38;5;241m-\u001b[39m gocue_time\n",
      "\u001b[0;31mValueError\u001b[0m: operands could not be broadcast together with shapes (0,) (1078,) "
     ]
    }
   ],
   "source": [
    "alignment_flag = 'acquire' # which alignment you use in decoding\n",
    "target_idx = np.array([t[1]-CENTER_TARGET_ON for t in tsegs])\n",
    "\n",
    "# Times relative to gocue\n",
    "target_on_go = target_onset - gocue_time\n",
    "saccade_onset_go = saccade_onset - gocue_time\n",
    "cursor_leave_go = cursor_leave_time - gocue_time\n",
    "acquire_go = acquire_time - gocue_time\n",
    "reward_go = reward_time - gocue_time\n",
    "\n",
    "if alignment_flag == 'target':\n",
    "    t_center = target_on_go\n",
    "    win = [0.1,0.2]\n",
    "elif alignment_flag == 'gocue':\n",
    "    t_center = np.zeros(ntr)\n",
    "    win = [-0.05,0.05]\n",
    "elif alignment_flag == 'saccade':\n",
    "    t_center = saccade_onset_go\n",
    "    win = [-0.05,0.05]\n",
    "elif alignment_flag == 'movement':\n",
    "    t_center = movement_onset_go\n",
    "    win = [-0.05,0.05]\n",
    "elif alignment_flag == 'cursor_leave':   \n",
    "    t_center = cursor_leave_go\n",
    "    win = [-0.05,0.05]\n",
    "elif alignment_flag == 'acquire':   \n",
    "    t_center = acquire_go\n",
    "    win = [-0.05,0.05]\n",
    "elif alignment_flag == 'reward':   \n",
    "    t_center = reward_go\n",
    "    win = [-0.05,0.05]\n",
    "\n",
    "# z scoring\n",
    "z_spec_band = (spec_band - np.mean(spec_band, axis=(0,2),keepdims=True))/(np.std(spec_band, axis=(0,2),keepdims=True,ddof=1))\n",
    "\n",
    "# Get bad trials\n",
    "bad_tr = []\n",
    "for itr in range(ntr):\n",
    "    time_win = (t_spec >= t_center[itr] + win[0])*(t_spec <= t_center[itr] + win[1])\n",
    "    itr_data = z_spec_band[[itr],:,:,:]\n",
    "    tmp = np.mean(itr_data[:,:,time_win,:],axis=2)\n",
    "    if sum(time_win)==0:\n",
    "        bad_tr.append(itr)\n",
    "    if itr == 0:\n",
    "        z_data_win = tmp\n",
    "    else:\n",
    "        z_data_win = np.concatenate([z_data_win, tmp],axis=0)\n",
    "        \n",
    "bad_tr = np.array(bad_tr)\n",
    "print(bad_tr)\n",
    "if bad_tr.size>0:\n",
    "    bad_tr_mask = np.zeros(ntr,dtype=bool)\n",
    "    bad_tr_mask[bad_tr] = True\n",
    "    good_tr_mask = ~bad_tr_mask\n",
    "else:\n",
    "    good_tr_mask = np.ones(ntr,dtype=bool)\n",
    "\n",
    "trial_restrict_mask = normal_saccade_trial * normal_onset_time * good_tr_mask"
   ]
  },
  {
   "cell_type": "code",
   "execution_count": 30,
   "metadata": {
    "execution": {
     "iopub.execute_input": "2024-07-26T21:28:39.610051Z",
     "iopub.status.busy": "2024-07-26T21:28:39.608986Z",
     "iopub.status.idle": "2024-07-26T21:28:39.658344Z",
     "shell.execute_reply": "2024-07-26T21:28:39.657495Z",
     "shell.execute_reply.started": "2024-07-26T21:28:39.609998Z"
    },
    "tags": []
   },
   "outputs": [
    {
     "name": "stdout",
     "output_type": "stream",
     "text": [
      "acquire\n"
     ]
    },
    {
     "ename": "NameError",
     "evalue": "name 'z_data_win' is not defined",
     "output_type": "error",
     "traceback": [
      "\u001b[0;31m---------------------------------------------------------------------------\u001b[0m",
      "\u001b[0;31mNameError\u001b[0m                                 Traceback (most recent call last)",
      "Cell \u001b[0;32mIn[30], line 10\u001b[0m\n\u001b[1;32m      8\u001b[0m weights_bs \u001b[38;5;241m=\u001b[39m []\n\u001b[1;32m      9\u001b[0m \u001b[38;5;28mprint\u001b[39m(\u001b[38;5;124mf\u001b[39m\u001b[38;5;124m'\u001b[39m\u001b[38;5;132;01m{\u001b[39;00malignment_flag\u001b[38;5;132;01m}\u001b[39;00m\u001b[38;5;124m'\u001b[39m)\n\u001b[0;32m---> 10\u001b[0m z_single_win \u001b[38;5;241m=\u001b[39m \u001b[43mz_data_win\u001b[49m[:,[band_idx],:]\n\u001b[1;32m     12\u001b[0m min_trial \u001b[38;5;241m=\u001b[39m get_minimum_trials_per_target(target_idx, trial_restrict_mask)\n\u001b[1;32m     13\u001b[0m \u001b[38;5;28mprint\u001b[39m(min_trial)\n",
      "\u001b[0;31mNameError\u001b[0m: name 'z_data_win' is not defined"
     ]
    }
   ],
   "source": [
    "band_idx = -1 # which band you focus\n",
    "nbs = 300 # number of bootstrapping\n",
    "n_splits = 5 # number of cross validation\n",
    "shuffle = False # whether to shuffle target index for permutation test\n",
    "\n",
    "y_pred_bs = []\n",
    "y_true_bs = []\n",
    "weights_bs = []\n",
    "print(f'{alignment_flag}')\n",
    "z_single_win = z_data_win[:,[band_idx],:]\n",
    "\n",
    "min_trial = get_minimum_trials_per_target(target_idx, trial_restrict_mask)\n",
    "print(min_trial)\n",
    "\n",
    "for i_bs in tqdm(range(nbs)):\n",
    "    np.random.seed(i_bs)\n",
    "    \n",
    "    # Get trial label with replacement for bootstrapping\n",
    "    trial_mask = get_conditioned_trials_per_target(target_idx, trial_restrict_mask, min_trial, replacement=True, seed=i_bs)\n",
    "    trial_mask = np.random.permutation(trial_mask)\n",
    "    \n",
    "    # Get data for LDA\n",
    "    data_win = z_single_win[trial_mask,:,:]\n",
    "    cond_label = target_idx[trial_mask]\n",
    "    if shuffle:\n",
    "        cond_label = np.random.permutation(cond_label)\n",
    "    \n",
    "    # Average score (spatial filtering)\n",
    "    y_pred, y_true, weights = classify_targ_lda2(data_win, cond_label, n_splits)\n",
    "    y_pred_bs.append(y_pred)\n",
    "    y_true_bs.append(y_true)\n",
    "    weights_bs.append(weights)\n",
    "    \n",
    "y_pred_bs = np.array(y_pred_bs, 'object')\n",
    "y_true_bs = np.array(y_true_bs, 'object')\n",
    "weights_bs = np.array(weights_bs, 'object')\n",
    "\n",
    "np.savez(f'/data/postprocessed/tomo/Neuropixel_targeting/{subject}_decoding_{alignment_flag}_numbs{nbs}_shuffle_{shuffle}_{band_name[band_idx]}', y_pred_bs=y_pred_bs, y_true_bs=y_true_bs, weights_bs=weights_bs)"
   ]
  },
  {
   "cell_type": "code",
   "execution_count": 31,
   "metadata": {
    "execution": {
     "iopub.execute_input": "2024-07-26T21:28:39.952606Z",
     "iopub.status.busy": "2024-07-26T21:28:39.951543Z",
     "iopub.status.idle": "2024-07-26T21:28:40.225210Z",
     "shell.execute_reply": "2024-07-26T21:28:40.224190Z",
     "shell.execute_reply.started": "2024-07-26T21:28:39.952552Z"
    },
    "tags": []
   },
   "outputs": [
    {
     "ename": "FileNotFoundError",
     "evalue": "[Errno 2] No such file or directory: '/data/postprocessed/tomo/Neuropixel_targeting/affi_decoding_acquire_numbs300_shuffle_False_hgamma.npz'",
     "output_type": "error",
     "traceback": [
      "\u001b[0;31m---------------------------------------------------------------------------\u001b[0m",
      "\u001b[0;31mFileNotFoundError\u001b[0m                         Traceback (most recent call last)",
      "Cell \u001b[0;32mIn[31], line 6\u001b[0m\n\u001b[1;32m      4\u001b[0m band_idx \u001b[38;5;241m=\u001b[39m \u001b[38;5;241m-\u001b[39m\u001b[38;5;241m1\u001b[39m\n\u001b[1;32m      5\u001b[0m alignment_flag \u001b[38;5;241m=\u001b[39m \u001b[38;5;124m'\u001b[39m\u001b[38;5;124macquire\u001b[39m\u001b[38;5;124m'\u001b[39m\n\u001b[0;32m----> 6\u001b[0m loaded_data \u001b[38;5;241m=\u001b[39m \u001b[43mnp\u001b[49m\u001b[38;5;241;43m.\u001b[39;49m\u001b[43mload\u001b[49m\u001b[43m(\u001b[49m\u001b[38;5;124;43mf\u001b[39;49m\u001b[38;5;124;43m'\u001b[39;49m\u001b[38;5;124;43m/data/postprocessed/tomo/Neuropixel_targeting/\u001b[39;49m\u001b[38;5;132;43;01m{\u001b[39;49;00m\u001b[43msubject\u001b[49m\u001b[38;5;132;43;01m}\u001b[39;49;00m\u001b[38;5;124;43m_decoding_\u001b[39;49m\u001b[38;5;132;43;01m{\u001b[39;49;00m\u001b[43malignment_flag\u001b[49m\u001b[38;5;132;43;01m}\u001b[39;49;00m\u001b[38;5;124;43m_numbs\u001b[39;49m\u001b[38;5;132;43;01m{\u001b[39;49;00m\u001b[43mnbs\u001b[49m\u001b[38;5;132;43;01m}\u001b[39;49;00m\u001b[38;5;124;43m_shuffle_\u001b[39;49m\u001b[38;5;132;43;01m{\u001b[39;49;00m\u001b[43mshuffle\u001b[49m\u001b[38;5;132;43;01m}\u001b[39;49;00m\u001b[38;5;124;43m_\u001b[39;49m\u001b[38;5;132;43;01m{\u001b[39;49;00m\u001b[43mband_name\u001b[49m\u001b[43m[\u001b[49m\u001b[43mband_idx\u001b[49m\u001b[43m]\u001b[49m\u001b[38;5;132;43;01m}\u001b[39;49;00m\u001b[38;5;124;43m.npz\u001b[39;49m\u001b[38;5;124;43m'\u001b[39;49m\u001b[43m,\u001b[49m\u001b[43mallow_pickle\u001b[49m\u001b[38;5;241;43m=\u001b[39;49m\u001b[38;5;28;43;01mTrue\u001b[39;49;00m\u001b[43m)\u001b[49m\n\u001b[1;32m      7\u001b[0m y_pred_bs \u001b[38;5;241m=\u001b[39m loaded_data[\u001b[38;5;124m'\u001b[39m\u001b[38;5;124my_pred_bs\u001b[39m\u001b[38;5;124m'\u001b[39m]\n\u001b[1;32m      8\u001b[0m y_true_bs \u001b[38;5;241m=\u001b[39m loaded_data[\u001b[38;5;124m'\u001b[39m\u001b[38;5;124my_true_bs\u001b[39m\u001b[38;5;124m'\u001b[39m]\n",
      "File \u001b[0;32m~/miniconda3/envs/np_targeting/lib/python3.9/site-packages/numpy/lib/npyio.py:427\u001b[0m, in \u001b[0;36mload\u001b[0;34m(file, mmap_mode, allow_pickle, fix_imports, encoding, max_header_size)\u001b[0m\n\u001b[1;32m    425\u001b[0m     own_fid \u001b[38;5;241m=\u001b[39m \u001b[38;5;28;01mFalse\u001b[39;00m\n\u001b[1;32m    426\u001b[0m \u001b[38;5;28;01melse\u001b[39;00m:\n\u001b[0;32m--> 427\u001b[0m     fid \u001b[38;5;241m=\u001b[39m stack\u001b[38;5;241m.\u001b[39menter_context(\u001b[38;5;28;43mopen\u001b[39;49m\u001b[43m(\u001b[49m\u001b[43mos_fspath\u001b[49m\u001b[43m(\u001b[49m\u001b[43mfile\u001b[49m\u001b[43m)\u001b[49m\u001b[43m,\u001b[49m\u001b[43m \u001b[49m\u001b[38;5;124;43m\"\u001b[39;49m\u001b[38;5;124;43mrb\u001b[39;49m\u001b[38;5;124;43m\"\u001b[39;49m\u001b[43m)\u001b[49m)\n\u001b[1;32m    428\u001b[0m     own_fid \u001b[38;5;241m=\u001b[39m \u001b[38;5;28;01mTrue\u001b[39;00m\n\u001b[1;32m    430\u001b[0m \u001b[38;5;66;03m# Code to distinguish from NumPy binary files and pickles.\u001b[39;00m\n",
      "\u001b[0;31mFileNotFoundError\u001b[0m: [Errno 2] No such file or directory: '/data/postprocessed/tomo/Neuropixel_targeting/affi_decoding_acquire_numbs300_shuffle_False_hgamma.npz'"
     ]
    }
   ],
   "source": [
    "# load bootstrapping data\n",
    "nbs = 300\n",
    "n_splits = 5\n",
    "band_idx = -1\n",
    "alignment_flag = 'acquire'\n",
    "loaded_data = np.load(f'/data/postprocessed/tomo/Neuropixel_targeting/{subject}_decoding_{alignment_flag}_numbs{nbs}_shuffle_{shuffle}_{band_name[band_idx]}.npz',allow_pickle=True)\n",
    "y_pred_bs = loaded_data['y_pred_bs']\n",
    "y_true_bs = loaded_data['y_true_bs']\n",
    "weights_bs = loaded_data['weights_bs']"
   ]
  },
  {
   "cell_type": "code",
   "execution_count": null,
   "metadata": {
    "tags": []
   },
   "outputs": [],
   "source": []
  },
  {
   "cell_type": "code",
   "execution_count": 32,
   "metadata": {
    "execution": {
     "iopub.execute_input": "2024-07-26T21:28:40.449093Z",
     "iopub.status.busy": "2024-07-26T21:28:40.447734Z",
     "iopub.status.idle": "2024-07-26T21:28:40.504922Z",
     "shell.execute_reply": "2024-07-26T21:28:40.503920Z",
     "shell.execute_reply.started": "2024-07-26T21:28:40.449037Z"
    },
    "tags": []
   },
   "outputs": [
    {
     "data": {
      "application/vnd.jupyter.widget-view+json": {
       "model_id": "c08a928e53d24f1fb3b9385b76c8fa48",
       "version_major": 2,
       "version_minor": 0
      },
      "text/plain": [
       "  0%|          | 0/300 [00:00<?, ?it/s]"
      ]
     },
     "metadata": {},
     "output_type": "display_data"
    },
    {
     "ename": "IndexError",
     "evalue": "list index out of range",
     "output_type": "error",
     "traceback": [
      "\u001b[0;31m---------------------------------------------------------------------------\u001b[0m",
      "\u001b[0;31mIndexError\u001b[0m                                Traceback (most recent call last)",
      "Cell \u001b[0;32mIn[32], line 7\u001b[0m\n\u001b[1;32m      5\u001b[0m         accuracy_fold \u001b[38;5;241m=\u001b[39m []\n\u001b[1;32m      6\u001b[0m         \u001b[38;5;28;01mfor\u001b[39;00m ifold \u001b[38;5;129;01min\u001b[39;00m \u001b[38;5;28mrange\u001b[39m(n_splits):\n\u001b[0;32m----> 7\u001b[0m             accuracy_fold\u001b[38;5;241m.\u001b[39mappend(accuracy_score(\u001b[43my_true_bs\u001b[49m\u001b[43m[\u001b[49m\u001b[43mibs\u001b[49m\u001b[43m]\u001b[49m[ich][ifold], y_pred_bs[ibs][ich][ifold]))\n\u001b[1;32m      9\u001b[0m         accuracy_ch[ibs,ich] \u001b[38;5;241m=\u001b[39m np\u001b[38;5;241m.\u001b[39mmean(accuracy_fold)\n\u001b[1;32m     11\u001b[0m m_accuracy_bs \u001b[38;5;241m=\u001b[39m np\u001b[38;5;241m.\u001b[39mmean(accuracy_ch,axis\u001b[38;5;241m=\u001b[39m\u001b[38;5;241m0\u001b[39m)\n",
      "\u001b[0;31mIndexError\u001b[0m: list index out of range"
     ]
    }
   ],
   "source": [
    "accuracy_ch = np.zeros((nbs, nch))\n",
    "for ibs in tqdm(range(nbs)):\n",
    "    for ich in range(nch):\n",
    "        \n",
    "        accuracy_fold = []\n",
    "        for ifold in range(n_splits):\n",
    "            accuracy_fold.append(accuracy_score(y_true_bs[ibs][ich][ifold], y_pred_bs[ibs][ich][ifold]))\n",
    "        \n",
    "        accuracy_ch[ibs,ich] = np.mean(accuracy_fold)\n",
    "        \n",
    "m_accuracy_bs = np.mean(accuracy_ch,axis=0)"
   ]
  },
  {
   "cell_type": "code",
   "execution_count": 33,
   "metadata": {
    "execution": {
     "iopub.execute_input": "2024-07-26T21:28:40.631844Z",
     "iopub.status.busy": "2024-07-26T21:28:40.630689Z",
     "iopub.status.idle": "2024-07-26T21:28:40.638695Z",
     "shell.execute_reply": "2024-07-26T21:28:40.637301Z",
     "shell.execute_reply.started": "2024-07-26T21:28:40.631790Z"
    },
    "tags": []
   },
   "outputs": [
    {
     "name": "stdout",
     "output_type": "stream",
     "text": [
      "(233, 2)\n"
     ]
    }
   ],
   "source": [
    "print(elec_pos.shape)"
   ]
  },
  {
   "cell_type": "code",
   "execution_count": 34,
   "metadata": {
    "execution": {
     "iopub.execute_input": "2024-07-26T21:28:40.768531Z",
     "iopub.status.busy": "2024-07-26T21:28:40.767356Z",
     "iopub.status.idle": "2024-07-26T21:28:40.890611Z",
     "shell.execute_reply": "2024-07-26T21:28:40.889624Z",
     "shell.execute_reply.started": "2024-07-26T21:28:40.768476Z"
    },
    "tags": []
   },
   "outputs": [
    {
     "ename": "NameError",
     "evalue": "name 'm_accuracy_bs' is not defined",
     "output_type": "error",
     "traceback": [
      "\u001b[0;31m---------------------------------------------------------------------------\u001b[0m",
      "\u001b[0;31mNameError\u001b[0m                                 Traceback (most recent call last)",
      "Cell \u001b[0;32mIn[34], line 6\u001b[0m\n\u001b[1;32m      4\u001b[0m \u001b[38;5;28;01mfor\u001b[39;00m ich \u001b[38;5;129;01min\u001b[39;00m \u001b[38;5;28mrange\u001b[39m(dist\u001b[38;5;241m.\u001b[39mshape[\u001b[38;5;241m0\u001b[39m]):\n\u001b[1;32m      5\u001b[0m     ave_idx \u001b[38;5;241m=\u001b[39m (dist[:,ich] \u001b[38;5;241m<\u001b[39m\u001b[38;5;241m=\u001b[39m \u001b[38;5;241m1.3\u001b[39m)\u001b[38;5;66;03m#0.75, 1.3\u001b[39;00m\n\u001b[0;32m----> 6\u001b[0m     m_accuracy_ch[ich] \u001b[38;5;241m=\u001b[39m np\u001b[38;5;241m.\u001b[39mnanmean(\u001b[43mm_accuracy_bs\u001b[49m[ave_idx])   \n\u001b[1;32m      8\u001b[0m \u001b[38;5;66;03m# Show data\u001b[39;00m\n\u001b[1;32m      9\u001b[0m fig,ax\u001b[38;5;241m=\u001b[39mplt\u001b[38;5;241m.\u001b[39msubplots(figsize\u001b[38;5;241m=\u001b[39m(\u001b[38;5;241m7\u001b[39m,\u001b[38;5;241m5\u001b[39m),tight_layout\u001b[38;5;241m=\u001b[39m\u001b[38;5;28;01mTrue\u001b[39;00m)\n",
      "\u001b[0;31mNameError\u001b[0m: name 'm_accuracy_bs' is not defined"
     ]
    }
   ],
   "source": [
    "# Average accuracy across neighboring channels\n",
    "m_accuracy_ch = np.zeros(nch)\n",
    "dist = aopy.utils.calc_euclid_dist_mat(elec_pos)\n",
    "for ich in range(dist.shape[0]):\n",
    "    ave_idx = (dist[:,ich] <= 1.3)#0.75, 1.3\n",
    "    m_accuracy_ch[ich] = np.nanmean(m_accuracy_bs[ave_idx])   \n",
    "\n",
    "# Show data\n",
    "fig,ax=plt.subplots(figsize=(7,5),tight_layout=True)\n",
    "xy = [elec_pos[:,0], elec_pos[:,1]]\n",
    "da_map = aopy.visualization.get_data_map(m_accuracy_ch,xy[0],xy[1])\n",
    "da_map[0,0],da_map[0,1],da_map[1,0],da_map[0,-1],da_map[0,-2],da_map[1,-1] = np.nan,np.nan,np.nan,np.nan,np.nan,np.nan\n",
    "da_map[-1,0],da_map[-1,1],da_map[-2,0],da_map[-1,-1],da_map[-1,-2],da_map[-2,-1] = np.nan,np.nan,np.nan,np.nan,np.nan,np.nan\n",
    "im = aopy.visualization.plot_spatial_map(da_map, xy[0], xy[1], ax=ax, cmap='Blues')\n",
    "im.norm.vmin = 1/8\n",
    "im.norm.vmax = np.nanmax(m_accuracy_ch)\n",
    "\n",
    "cbar = fig.colorbar(im, ax=ax, orientation='vertical',fraction=0.046, pad=0.04)\n",
    "ax.set(xlabel='',ylabel='',xticks=[],xticklabels=[],yticks=[],yticklabels=[])\n",
    "fig.show()\n",
    "np.savez(f'/data/postprocessed/tomo/Neuropixel_targeting/{subject}_{alignment_flag}_decoding_accuracy_{band_name[band_idx]}', da=m_accuracy_ch, elec_pos=elec_pos)"
   ]
  },
  {
   "cell_type": "code",
   "execution_count": 35,
   "metadata": {
    "execution": {
     "iopub.execute_input": "2024-07-26T21:28:40.940717Z",
     "iopub.status.busy": "2024-07-26T21:28:40.939415Z",
     "iopub.status.idle": "2024-07-26T21:28:40.994829Z",
     "shell.execute_reply": "2024-07-26T21:28:40.993779Z",
     "shell.execute_reply.started": "2024-07-26T21:28:40.940672Z"
    },
    "tags": []
   },
   "outputs": [
    {
     "ename": "FileNotFoundError",
     "evalue": "[Errno 2] No such file or directory: '/data/postprocessed/tomo/Neuropixel_targeting/affi_decoding_gocue_numbs300_shuffle_False_delta.npz'",
     "output_type": "error",
     "traceback": [
      "\u001b[0;31m---------------------------------------------------------------------------\u001b[0m",
      "\u001b[0;31mFileNotFoundError\u001b[0m                         Traceback (most recent call last)",
      "Cell \u001b[0;32mIn[35], line 8\u001b[0m\n\u001b[1;32m      6\u001b[0m accuracy_alignment \u001b[38;5;241m=\u001b[39m np\u001b[38;5;241m.\u001b[39mzeros((nalignment,nbs, nch))\n\u001b[1;32m      7\u001b[0m \u001b[38;5;28;01mfor\u001b[39;00m idx, alignment_flag \u001b[38;5;129;01min\u001b[39;00m \u001b[38;5;28menumerate\u001b[39m(alignment_list):\n\u001b[0;32m----> 8\u001b[0m     loaded_data \u001b[38;5;241m=\u001b[39m \u001b[43mnp\u001b[49m\u001b[38;5;241;43m.\u001b[39;49m\u001b[43mload\u001b[49m\u001b[43m(\u001b[49m\u001b[38;5;124;43mf\u001b[39;49m\u001b[38;5;124;43m'\u001b[39;49m\u001b[38;5;124;43m/data/postprocessed/tomo/Neuropixel_targeting/\u001b[39;49m\u001b[38;5;132;43;01m{\u001b[39;49;00m\u001b[43msubject\u001b[49m\u001b[38;5;132;43;01m}\u001b[39;49;00m\u001b[38;5;124;43m_decoding_\u001b[39;49m\u001b[38;5;132;43;01m{\u001b[39;49;00m\u001b[43malignment_flag\u001b[49m\u001b[38;5;132;43;01m}\u001b[39;49;00m\u001b[38;5;124;43m_numbs\u001b[39;49m\u001b[38;5;132;43;01m{\u001b[39;49;00m\u001b[43mnbs\u001b[49m\u001b[38;5;132;43;01m}\u001b[39;49;00m\u001b[38;5;124;43m_shuffle_\u001b[39;49m\u001b[38;5;132;43;01m{\u001b[39;49;00m\u001b[43mshuffle\u001b[49m\u001b[38;5;132;43;01m}\u001b[39;49;00m\u001b[38;5;124;43m_\u001b[39;49m\u001b[38;5;132;43;01m{\u001b[39;49;00m\u001b[43mband_name\u001b[49m\u001b[43m[\u001b[49m\u001b[43mband_idx\u001b[49m\u001b[43m]\u001b[49m\u001b[38;5;132;43;01m}\u001b[39;49;00m\u001b[38;5;124;43m.npz\u001b[39;49m\u001b[38;5;124;43m'\u001b[39;49m\u001b[43m,\u001b[49m\u001b[43mallow_pickle\u001b[49m\u001b[38;5;241;43m=\u001b[39;49m\u001b[38;5;28;43;01mTrue\u001b[39;49;00m\u001b[43m)\u001b[49m\n\u001b[1;32m      9\u001b[0m     y_pred_bs \u001b[38;5;241m=\u001b[39m loaded_data[\u001b[38;5;124m'\u001b[39m\u001b[38;5;124my_pred_bs\u001b[39m\u001b[38;5;124m'\u001b[39m]\n\u001b[1;32m     10\u001b[0m     y_true_bs \u001b[38;5;241m=\u001b[39m loaded_data[\u001b[38;5;124m'\u001b[39m\u001b[38;5;124my_true_bs\u001b[39m\u001b[38;5;124m'\u001b[39m]\n",
      "File \u001b[0;32m~/miniconda3/envs/np_targeting/lib/python3.9/site-packages/numpy/lib/npyio.py:427\u001b[0m, in \u001b[0;36mload\u001b[0;34m(file, mmap_mode, allow_pickle, fix_imports, encoding, max_header_size)\u001b[0m\n\u001b[1;32m    425\u001b[0m     own_fid \u001b[38;5;241m=\u001b[39m \u001b[38;5;28;01mFalse\u001b[39;00m\n\u001b[1;32m    426\u001b[0m \u001b[38;5;28;01melse\u001b[39;00m:\n\u001b[0;32m--> 427\u001b[0m     fid \u001b[38;5;241m=\u001b[39m stack\u001b[38;5;241m.\u001b[39menter_context(\u001b[38;5;28;43mopen\u001b[39;49m\u001b[43m(\u001b[49m\u001b[43mos_fspath\u001b[49m\u001b[43m(\u001b[49m\u001b[43mfile\u001b[49m\u001b[43m)\u001b[49m\u001b[43m,\u001b[49m\u001b[43m \u001b[49m\u001b[38;5;124;43m\"\u001b[39;49m\u001b[38;5;124;43mrb\u001b[39;49m\u001b[38;5;124;43m\"\u001b[39;49m\u001b[43m)\u001b[49m)\n\u001b[1;32m    428\u001b[0m     own_fid \u001b[38;5;241m=\u001b[39m \u001b[38;5;28;01mTrue\u001b[39;00m\n\u001b[1;32m    430\u001b[0m \u001b[38;5;66;03m# Code to distinguish from NumPy binary files and pickles.\u001b[39;00m\n",
      "\u001b[0;31mFileNotFoundError\u001b[0m: [Errno 2] No such file or directory: '/data/postprocessed/tomo/Neuropixel_targeting/affi_decoding_gocue_numbs300_shuffle_False_delta.npz'"
     ]
    }
   ],
   "source": [
    "alignment_list = ['gocue','movement','acquire']\n",
    "nalignment = len(alignment_list)\n",
    "band_idx = 0\n",
    "shuffle=False\n",
    "\n",
    "accuracy_alignment = np.zeros((nalignment,nbs, nch))\n",
    "for idx, alignment_flag in enumerate(alignment_list):\n",
    "    loaded_data = np.load(f'/data/postprocessed/tomo/Neuropixel_targeting/{subject}_decoding_{alignment_flag}_numbs{nbs}_shuffle_{shuffle}_{band_name[band_idx]}.npz',allow_pickle=True)\n",
    "    y_pred_bs = loaded_data['y_pred_bs']\n",
    "    y_true_bs = loaded_data['y_true_bs']\n",
    "    #weights_bs = loaded_data['weights_bs']\n",
    "\n",
    "    for ibs in tqdm(range(nbs)):\n",
    "        for ich in range(nch):\n",
    "            \n",
    "            accuracy_fold = []\n",
    "            for ifold in range(n_splits):\n",
    "                accuracy_fold.append(accuracy_score(y_true_bs[ibs][ich][ifold], y_pred_bs[ibs][ich][ifold]))\n",
    "                \n",
    "            accuracy_alignment[idx,ibs,ich] = np.mean(accuracy_fold)"
   ]
  },
  {
   "cell_type": "code",
   "execution_count": 36,
   "metadata": {
    "execution": {
     "iopub.execute_input": "2024-07-26T21:28:41.089834Z",
     "iopub.status.busy": "2024-07-26T21:28:41.088683Z",
     "iopub.status.idle": "2024-07-26T21:28:44.471892Z",
     "shell.execute_reply": "2024-07-26T21:28:44.471034Z",
     "shell.execute_reply.started": "2024-07-26T21:28:41.089780Z"
    },
    "tags": []
   },
   "outputs": [
    {
     "name": "stderr",
     "output_type": "stream",
     "text": [
      "/home/aolab/miniconda3/envs/np_targeting/lib/python3.9/site-packages/IPython/core/events.py:93: UserWarning: This figure includes Axes that are not compatible with tight_layout, so results might be incorrect.\n",
      "  func(*args, **kwargs)\n"
     ]
    },
    {
     "name": "stdout",
     "output_type": "stream",
     "text": [
      "Error in callback <function _draw_all_if_interactive at 0x7fb12ea5bca0> (for post_execute):\n"
     ]
    },
    {
     "ename": "ValueError",
     "evalue": "minvalue must be less than or equal to maxvalue",
     "output_type": "error",
     "traceback": [
      "\u001b[0;31m---------------------------------------------------------------------------\u001b[0m",
      "\u001b[0;31mValueError\u001b[0m                                Traceback (most recent call last)",
      "File \u001b[0;32m~/miniconda3/envs/np_targeting/lib/python3.9/site-packages/matplotlib/pyplot.py:268\u001b[0m, in \u001b[0;36m_draw_all_if_interactive\u001b[0;34m()\u001b[0m\n\u001b[1;32m    266\u001b[0m \u001b[38;5;28;01mdef\u001b[39;00m \u001b[38;5;21m_draw_all_if_interactive\u001b[39m() \u001b[38;5;241m-\u001b[39m\u001b[38;5;241m>\u001b[39m \u001b[38;5;28;01mNone\u001b[39;00m:\n\u001b[1;32m    267\u001b[0m     \u001b[38;5;28;01mif\u001b[39;00m matplotlib\u001b[38;5;241m.\u001b[39mis_interactive():\n\u001b[0;32m--> 268\u001b[0m         \u001b[43mdraw_all\u001b[49m\u001b[43m(\u001b[49m\u001b[43m)\u001b[49m\n",
      "File \u001b[0;32m~/miniconda3/envs/np_targeting/lib/python3.9/site-packages/matplotlib/_pylab_helpers.py:131\u001b[0m, in \u001b[0;36mGcf.draw_all\u001b[0;34m(cls, force)\u001b[0m\n\u001b[1;32m    129\u001b[0m \u001b[38;5;28;01mfor\u001b[39;00m manager \u001b[38;5;129;01min\u001b[39;00m \u001b[38;5;28mcls\u001b[39m\u001b[38;5;241m.\u001b[39mget_all_fig_managers():\n\u001b[1;32m    130\u001b[0m     \u001b[38;5;28;01mif\u001b[39;00m force \u001b[38;5;129;01mor\u001b[39;00m manager\u001b[38;5;241m.\u001b[39mcanvas\u001b[38;5;241m.\u001b[39mfigure\u001b[38;5;241m.\u001b[39mstale:\n\u001b[0;32m--> 131\u001b[0m         \u001b[43mmanager\u001b[49m\u001b[38;5;241;43m.\u001b[39;49m\u001b[43mcanvas\u001b[49m\u001b[38;5;241;43m.\u001b[39;49m\u001b[43mdraw_idle\u001b[49m\u001b[43m(\u001b[49m\u001b[43m)\u001b[49m\n",
      "File \u001b[0;32m~/miniconda3/envs/np_targeting/lib/python3.9/site-packages/matplotlib/backend_bases.py:1905\u001b[0m, in \u001b[0;36mFigureCanvasBase.draw_idle\u001b[0;34m(self, *args, **kwargs)\u001b[0m\n\u001b[1;32m   1903\u001b[0m \u001b[38;5;28;01mif\u001b[39;00m \u001b[38;5;129;01mnot\u001b[39;00m \u001b[38;5;28mself\u001b[39m\u001b[38;5;241m.\u001b[39m_is_idle_drawing:\n\u001b[1;32m   1904\u001b[0m     \u001b[38;5;28;01mwith\u001b[39;00m \u001b[38;5;28mself\u001b[39m\u001b[38;5;241m.\u001b[39m_idle_draw_cntx():\n\u001b[0;32m-> 1905\u001b[0m         \u001b[38;5;28;43mself\u001b[39;49m\u001b[38;5;241;43m.\u001b[39;49m\u001b[43mdraw\u001b[49m\u001b[43m(\u001b[49m\u001b[38;5;241;43m*\u001b[39;49m\u001b[43margs\u001b[49m\u001b[43m,\u001b[49m\u001b[43m \u001b[49m\u001b[38;5;241;43m*\u001b[39;49m\u001b[38;5;241;43m*\u001b[39;49m\u001b[43mkwargs\u001b[49m\u001b[43m)\u001b[49m\n",
      "File \u001b[0;32m~/miniconda3/envs/np_targeting/lib/python3.9/site-packages/matplotlib/backends/backend_agg.py:387\u001b[0m, in \u001b[0;36mFigureCanvasAgg.draw\u001b[0;34m(self)\u001b[0m\n\u001b[1;32m    384\u001b[0m \u001b[38;5;66;03m# Acquire a lock on the shared font cache.\u001b[39;00m\n\u001b[1;32m    385\u001b[0m \u001b[38;5;28;01mwith\u001b[39;00m (\u001b[38;5;28mself\u001b[39m\u001b[38;5;241m.\u001b[39mtoolbar\u001b[38;5;241m.\u001b[39m_wait_cursor_for_draw_cm() \u001b[38;5;28;01mif\u001b[39;00m \u001b[38;5;28mself\u001b[39m\u001b[38;5;241m.\u001b[39mtoolbar\n\u001b[1;32m    386\u001b[0m       \u001b[38;5;28;01melse\u001b[39;00m nullcontext()):\n\u001b[0;32m--> 387\u001b[0m     \u001b[38;5;28;43mself\u001b[39;49m\u001b[38;5;241;43m.\u001b[39;49m\u001b[43mfigure\u001b[49m\u001b[38;5;241;43m.\u001b[39;49m\u001b[43mdraw\u001b[49m\u001b[43m(\u001b[49m\u001b[38;5;28;43mself\u001b[39;49m\u001b[38;5;241;43m.\u001b[39;49m\u001b[43mrenderer\u001b[49m\u001b[43m)\u001b[49m\n\u001b[1;32m    388\u001b[0m     \u001b[38;5;66;03m# A GUI class may be need to update a window using this draw, so\u001b[39;00m\n\u001b[1;32m    389\u001b[0m     \u001b[38;5;66;03m# don't forget to call the superclass.\u001b[39;00m\n\u001b[1;32m    390\u001b[0m     \u001b[38;5;28msuper\u001b[39m()\u001b[38;5;241m.\u001b[39mdraw()\n",
      "File \u001b[0;32m~/miniconda3/envs/np_targeting/lib/python3.9/site-packages/matplotlib/artist.py:95\u001b[0m, in \u001b[0;36m_finalize_rasterization.<locals>.draw_wrapper\u001b[0;34m(artist, renderer, *args, **kwargs)\u001b[0m\n\u001b[1;32m     93\u001b[0m \u001b[38;5;129m@wraps\u001b[39m(draw)\n\u001b[1;32m     94\u001b[0m \u001b[38;5;28;01mdef\u001b[39;00m \u001b[38;5;21mdraw_wrapper\u001b[39m(artist, renderer, \u001b[38;5;241m*\u001b[39margs, \u001b[38;5;241m*\u001b[39m\u001b[38;5;241m*\u001b[39mkwargs):\n\u001b[0;32m---> 95\u001b[0m     result \u001b[38;5;241m=\u001b[39m \u001b[43mdraw\u001b[49m\u001b[43m(\u001b[49m\u001b[43martist\u001b[49m\u001b[43m,\u001b[49m\u001b[43m \u001b[49m\u001b[43mrenderer\u001b[49m\u001b[43m,\u001b[49m\u001b[43m \u001b[49m\u001b[38;5;241;43m*\u001b[39;49m\u001b[43margs\u001b[49m\u001b[43m,\u001b[49m\u001b[43m \u001b[49m\u001b[38;5;241;43m*\u001b[39;49m\u001b[38;5;241;43m*\u001b[39;49m\u001b[43mkwargs\u001b[49m\u001b[43m)\u001b[49m\n\u001b[1;32m     96\u001b[0m     \u001b[38;5;28;01mif\u001b[39;00m renderer\u001b[38;5;241m.\u001b[39m_rasterizing:\n\u001b[1;32m     97\u001b[0m         renderer\u001b[38;5;241m.\u001b[39mstop_rasterizing()\n",
      "File \u001b[0;32m~/miniconda3/envs/np_targeting/lib/python3.9/site-packages/matplotlib/artist.py:72\u001b[0m, in \u001b[0;36mallow_rasterization.<locals>.draw_wrapper\u001b[0;34m(artist, renderer)\u001b[0m\n\u001b[1;32m     69\u001b[0m     \u001b[38;5;28;01mif\u001b[39;00m artist\u001b[38;5;241m.\u001b[39mget_agg_filter() \u001b[38;5;129;01mis\u001b[39;00m \u001b[38;5;129;01mnot\u001b[39;00m \u001b[38;5;28;01mNone\u001b[39;00m:\n\u001b[1;32m     70\u001b[0m         renderer\u001b[38;5;241m.\u001b[39mstart_filter()\n\u001b[0;32m---> 72\u001b[0m     \u001b[38;5;28;01mreturn\u001b[39;00m \u001b[43mdraw\u001b[49m\u001b[43m(\u001b[49m\u001b[43martist\u001b[49m\u001b[43m,\u001b[49m\u001b[43m \u001b[49m\u001b[43mrenderer\u001b[49m\u001b[43m)\u001b[49m\n\u001b[1;32m     73\u001b[0m \u001b[38;5;28;01mfinally\u001b[39;00m:\n\u001b[1;32m     74\u001b[0m     \u001b[38;5;28;01mif\u001b[39;00m artist\u001b[38;5;241m.\u001b[39mget_agg_filter() \u001b[38;5;129;01mis\u001b[39;00m \u001b[38;5;129;01mnot\u001b[39;00m \u001b[38;5;28;01mNone\u001b[39;00m:\n",
      "File \u001b[0;32m~/miniconda3/envs/np_targeting/lib/python3.9/site-packages/matplotlib/figure.py:3162\u001b[0m, in \u001b[0;36mFigure.draw\u001b[0;34m(self, renderer)\u001b[0m\n\u001b[1;32m   3159\u001b[0m             \u001b[38;5;66;03m# ValueError can occur when resizing a window.\u001b[39;00m\n\u001b[1;32m   3161\u001b[0m     \u001b[38;5;28mself\u001b[39m\u001b[38;5;241m.\u001b[39mpatch\u001b[38;5;241m.\u001b[39mdraw(renderer)\n\u001b[0;32m-> 3162\u001b[0m     \u001b[43mmimage\u001b[49m\u001b[38;5;241;43m.\u001b[39;49m\u001b[43m_draw_list_compositing_images\u001b[49m\u001b[43m(\u001b[49m\n\u001b[1;32m   3163\u001b[0m \u001b[43m        \u001b[49m\u001b[43mrenderer\u001b[49m\u001b[43m,\u001b[49m\u001b[43m \u001b[49m\u001b[38;5;28;43mself\u001b[39;49m\u001b[43m,\u001b[49m\u001b[43m \u001b[49m\u001b[43martists\u001b[49m\u001b[43m,\u001b[49m\u001b[43m \u001b[49m\u001b[38;5;28;43mself\u001b[39;49m\u001b[38;5;241;43m.\u001b[39;49m\u001b[43msuppressComposite\u001b[49m\u001b[43m)\u001b[49m\n\u001b[1;32m   3165\u001b[0m     renderer\u001b[38;5;241m.\u001b[39mclose_group(\u001b[38;5;124m'\u001b[39m\u001b[38;5;124mfigure\u001b[39m\u001b[38;5;124m'\u001b[39m)\n\u001b[1;32m   3166\u001b[0m \u001b[38;5;28;01mfinally\u001b[39;00m:\n",
      "File \u001b[0;32m~/miniconda3/envs/np_targeting/lib/python3.9/site-packages/matplotlib/image.py:132\u001b[0m, in \u001b[0;36m_draw_list_compositing_images\u001b[0;34m(renderer, parent, artists, suppress_composite)\u001b[0m\n\u001b[1;32m    130\u001b[0m \u001b[38;5;28;01mif\u001b[39;00m not_composite \u001b[38;5;129;01mor\u001b[39;00m \u001b[38;5;129;01mnot\u001b[39;00m has_images:\n\u001b[1;32m    131\u001b[0m     \u001b[38;5;28;01mfor\u001b[39;00m a \u001b[38;5;129;01min\u001b[39;00m artists:\n\u001b[0;32m--> 132\u001b[0m         \u001b[43ma\u001b[49m\u001b[38;5;241;43m.\u001b[39;49m\u001b[43mdraw\u001b[49m\u001b[43m(\u001b[49m\u001b[43mrenderer\u001b[49m\u001b[43m)\u001b[49m\n\u001b[1;32m    133\u001b[0m \u001b[38;5;28;01melse\u001b[39;00m:\n\u001b[1;32m    134\u001b[0m     \u001b[38;5;66;03m# Composite any adjacent images together\u001b[39;00m\n\u001b[1;32m    135\u001b[0m     image_group \u001b[38;5;241m=\u001b[39m []\n",
      "File \u001b[0;32m~/miniconda3/envs/np_targeting/lib/python3.9/site-packages/matplotlib/artist.py:72\u001b[0m, in \u001b[0;36mallow_rasterization.<locals>.draw_wrapper\u001b[0;34m(artist, renderer)\u001b[0m\n\u001b[1;32m     69\u001b[0m     \u001b[38;5;28;01mif\u001b[39;00m artist\u001b[38;5;241m.\u001b[39mget_agg_filter() \u001b[38;5;129;01mis\u001b[39;00m \u001b[38;5;129;01mnot\u001b[39;00m \u001b[38;5;28;01mNone\u001b[39;00m:\n\u001b[1;32m     70\u001b[0m         renderer\u001b[38;5;241m.\u001b[39mstart_filter()\n\u001b[0;32m---> 72\u001b[0m     \u001b[38;5;28;01mreturn\u001b[39;00m \u001b[43mdraw\u001b[49m\u001b[43m(\u001b[49m\u001b[43martist\u001b[49m\u001b[43m,\u001b[49m\u001b[43m \u001b[49m\u001b[43mrenderer\u001b[49m\u001b[43m)\u001b[49m\n\u001b[1;32m     73\u001b[0m \u001b[38;5;28;01mfinally\u001b[39;00m:\n\u001b[1;32m     74\u001b[0m     \u001b[38;5;28;01mif\u001b[39;00m artist\u001b[38;5;241m.\u001b[39mget_agg_filter() \u001b[38;5;129;01mis\u001b[39;00m \u001b[38;5;129;01mnot\u001b[39;00m \u001b[38;5;28;01mNone\u001b[39;00m:\n",
      "File \u001b[0;32m~/miniconda3/envs/np_targeting/lib/python3.9/site-packages/matplotlib/axes/_base.py:3143\u001b[0m, in \u001b[0;36m_AxesBase.draw\u001b[0;34m(self, renderer)\u001b[0m\n\u001b[1;32m   3140\u001b[0m \u001b[38;5;28;01mif\u001b[39;00m artists_rasterized:\n\u001b[1;32m   3141\u001b[0m     _draw_rasterized(\u001b[38;5;28mself\u001b[39m\u001b[38;5;241m.\u001b[39mfigure, artists_rasterized, renderer)\n\u001b[0;32m-> 3143\u001b[0m \u001b[43mmimage\u001b[49m\u001b[38;5;241;43m.\u001b[39;49m\u001b[43m_draw_list_compositing_images\u001b[49m\u001b[43m(\u001b[49m\n\u001b[1;32m   3144\u001b[0m \u001b[43m    \u001b[49m\u001b[43mrenderer\u001b[49m\u001b[43m,\u001b[49m\u001b[43m \u001b[49m\u001b[38;5;28;43mself\u001b[39;49m\u001b[43m,\u001b[49m\u001b[43m \u001b[49m\u001b[43martists\u001b[49m\u001b[43m,\u001b[49m\u001b[43m \u001b[49m\u001b[38;5;28;43mself\u001b[39;49m\u001b[38;5;241;43m.\u001b[39;49m\u001b[43mfigure\u001b[49m\u001b[38;5;241;43m.\u001b[39;49m\u001b[43msuppressComposite\u001b[49m\u001b[43m)\u001b[49m\n\u001b[1;32m   3146\u001b[0m renderer\u001b[38;5;241m.\u001b[39mclose_group(\u001b[38;5;124m'\u001b[39m\u001b[38;5;124maxes\u001b[39m\u001b[38;5;124m'\u001b[39m)\n\u001b[1;32m   3147\u001b[0m \u001b[38;5;28mself\u001b[39m\u001b[38;5;241m.\u001b[39mstale \u001b[38;5;241m=\u001b[39m \u001b[38;5;28;01mFalse\u001b[39;00m\n",
      "File \u001b[0;32m~/miniconda3/envs/np_targeting/lib/python3.9/site-packages/matplotlib/image.py:132\u001b[0m, in \u001b[0;36m_draw_list_compositing_images\u001b[0;34m(renderer, parent, artists, suppress_composite)\u001b[0m\n\u001b[1;32m    130\u001b[0m \u001b[38;5;28;01mif\u001b[39;00m not_composite \u001b[38;5;129;01mor\u001b[39;00m \u001b[38;5;129;01mnot\u001b[39;00m has_images:\n\u001b[1;32m    131\u001b[0m     \u001b[38;5;28;01mfor\u001b[39;00m a \u001b[38;5;129;01min\u001b[39;00m artists:\n\u001b[0;32m--> 132\u001b[0m         \u001b[43ma\u001b[49m\u001b[38;5;241;43m.\u001b[39;49m\u001b[43mdraw\u001b[49m\u001b[43m(\u001b[49m\u001b[43mrenderer\u001b[49m\u001b[43m)\u001b[49m\n\u001b[1;32m    133\u001b[0m \u001b[38;5;28;01melse\u001b[39;00m:\n\u001b[1;32m    134\u001b[0m     \u001b[38;5;66;03m# Composite any adjacent images together\u001b[39;00m\n\u001b[1;32m    135\u001b[0m     image_group \u001b[38;5;241m=\u001b[39m []\n",
      "File \u001b[0;32m~/miniconda3/envs/np_targeting/lib/python3.9/site-packages/matplotlib/artist.py:72\u001b[0m, in \u001b[0;36mallow_rasterization.<locals>.draw_wrapper\u001b[0;34m(artist, renderer)\u001b[0m\n\u001b[1;32m     69\u001b[0m     \u001b[38;5;28;01mif\u001b[39;00m artist\u001b[38;5;241m.\u001b[39mget_agg_filter() \u001b[38;5;129;01mis\u001b[39;00m \u001b[38;5;129;01mnot\u001b[39;00m \u001b[38;5;28;01mNone\u001b[39;00m:\n\u001b[1;32m     70\u001b[0m         renderer\u001b[38;5;241m.\u001b[39mstart_filter()\n\u001b[0;32m---> 72\u001b[0m     \u001b[38;5;28;01mreturn\u001b[39;00m \u001b[43mdraw\u001b[49m\u001b[43m(\u001b[49m\u001b[43martist\u001b[49m\u001b[43m,\u001b[49m\u001b[43m \u001b[49m\u001b[43mrenderer\u001b[49m\u001b[43m)\u001b[49m\n\u001b[1;32m     73\u001b[0m \u001b[38;5;28;01mfinally\u001b[39;00m:\n\u001b[1;32m     74\u001b[0m     \u001b[38;5;28;01mif\u001b[39;00m artist\u001b[38;5;241m.\u001b[39mget_agg_filter() \u001b[38;5;129;01mis\u001b[39;00m \u001b[38;5;129;01mnot\u001b[39;00m \u001b[38;5;28;01mNone\u001b[39;00m:\n",
      "File \u001b[0;32m~/miniconda3/envs/np_targeting/lib/python3.9/site-packages/matplotlib/image.py:653\u001b[0m, in \u001b[0;36m_ImageBase.draw\u001b[0;34m(self, renderer)\u001b[0m\n\u001b[1;32m    651\u001b[0m         renderer\u001b[38;5;241m.\u001b[39mdraw_image(gc, l, b, im, trans)\n\u001b[1;32m    652\u001b[0m \u001b[38;5;28;01melse\u001b[39;00m:\n\u001b[0;32m--> 653\u001b[0m     im, l, b, trans \u001b[38;5;241m=\u001b[39m \u001b[38;5;28;43mself\u001b[39;49m\u001b[38;5;241;43m.\u001b[39;49m\u001b[43mmake_image\u001b[49m\u001b[43m(\u001b[49m\n\u001b[1;32m    654\u001b[0m \u001b[43m        \u001b[49m\u001b[43mrenderer\u001b[49m\u001b[43m,\u001b[49m\u001b[43m \u001b[49m\u001b[43mrenderer\u001b[49m\u001b[38;5;241;43m.\u001b[39;49m\u001b[43mget_image_magnification\u001b[49m\u001b[43m(\u001b[49m\u001b[43m)\u001b[49m\u001b[43m)\u001b[49m\n\u001b[1;32m    655\u001b[0m     \u001b[38;5;28;01mif\u001b[39;00m im \u001b[38;5;129;01mis\u001b[39;00m \u001b[38;5;129;01mnot\u001b[39;00m \u001b[38;5;28;01mNone\u001b[39;00m:\n\u001b[1;32m    656\u001b[0m         renderer\u001b[38;5;241m.\u001b[39mdraw_image(gc, l, b, im)\n",
      "File \u001b[0;32m~/miniconda3/envs/np_targeting/lib/python3.9/site-packages/matplotlib/image.py:952\u001b[0m, in \u001b[0;36mAxesImage.make_image\u001b[0;34m(self, renderer, magnification, unsampled)\u001b[0m\n\u001b[1;32m    949\u001b[0m transformed_bbox \u001b[38;5;241m=\u001b[39m TransformedBbox(bbox, trans)\n\u001b[1;32m    950\u001b[0m clip \u001b[38;5;241m=\u001b[39m ((\u001b[38;5;28mself\u001b[39m\u001b[38;5;241m.\u001b[39mget_clip_box() \u001b[38;5;129;01mor\u001b[39;00m \u001b[38;5;28mself\u001b[39m\u001b[38;5;241m.\u001b[39maxes\u001b[38;5;241m.\u001b[39mbbox) \u001b[38;5;28;01mif\u001b[39;00m \u001b[38;5;28mself\u001b[39m\u001b[38;5;241m.\u001b[39mget_clip_on()\n\u001b[1;32m    951\u001b[0m         \u001b[38;5;28;01melse\u001b[39;00m \u001b[38;5;28mself\u001b[39m\u001b[38;5;241m.\u001b[39mfigure\u001b[38;5;241m.\u001b[39mbbox)\n\u001b[0;32m--> 952\u001b[0m \u001b[38;5;28;01mreturn\u001b[39;00m \u001b[38;5;28;43mself\u001b[39;49m\u001b[38;5;241;43m.\u001b[39;49m\u001b[43m_make_image\u001b[49m\u001b[43m(\u001b[49m\u001b[38;5;28;43mself\u001b[39;49m\u001b[38;5;241;43m.\u001b[39;49m\u001b[43m_A\u001b[49m\u001b[43m,\u001b[49m\u001b[43m \u001b[49m\u001b[43mbbox\u001b[49m\u001b[43m,\u001b[49m\u001b[43m \u001b[49m\u001b[43mtransformed_bbox\u001b[49m\u001b[43m,\u001b[49m\u001b[43m \u001b[49m\u001b[43mclip\u001b[49m\u001b[43m,\u001b[49m\n\u001b[1;32m    953\u001b[0m \u001b[43m                        \u001b[49m\u001b[43mmagnification\u001b[49m\u001b[43m,\u001b[49m\u001b[43m \u001b[49m\u001b[43munsampled\u001b[49m\u001b[38;5;241;43m=\u001b[39;49m\u001b[43munsampled\u001b[49m\u001b[43m)\u001b[49m\n",
      "File \u001b[0;32m~/miniconda3/envs/np_targeting/lib/python3.9/site-packages/matplotlib/image.py:553\u001b[0m, in \u001b[0;36m_ImageBase._make_image\u001b[0;34m(self, A, in_bbox, out_bbox, clip_bbox, magnification, unsampled, round_to_pixel_border)\u001b[0m\n\u001b[1;32m    549\u001b[0m     \u001b[38;5;66;03m# Block the norm from sending an update signal during the\u001b[39;00m\n\u001b[1;32m    550\u001b[0m     \u001b[38;5;66;03m# temporary vmin/vmax change\u001b[39;00m\n\u001b[1;32m    551\u001b[0m     \u001b[38;5;28;01mwith\u001b[39;00m \u001b[38;5;28mself\u001b[39m\u001b[38;5;241m.\u001b[39mnorm\u001b[38;5;241m.\u001b[39mcallbacks\u001b[38;5;241m.\u001b[39mblocked(), \\\n\u001b[1;32m    552\u001b[0m          cbook\u001b[38;5;241m.\u001b[39m_setattr_cm(\u001b[38;5;28mself\u001b[39m\u001b[38;5;241m.\u001b[39mnorm, vmin\u001b[38;5;241m=\u001b[39ms_vmin, vmax\u001b[38;5;241m=\u001b[39ms_vmax):\n\u001b[0;32m--> 553\u001b[0m         output \u001b[38;5;241m=\u001b[39m \u001b[38;5;28;43mself\u001b[39;49m\u001b[38;5;241;43m.\u001b[39;49m\u001b[43mnorm\u001b[49m\u001b[43m(\u001b[49m\u001b[43mresampled_masked\u001b[49m\u001b[43m)\u001b[49m\n\u001b[1;32m    554\u001b[0m \u001b[38;5;28;01melse\u001b[39;00m:\n\u001b[1;32m    555\u001b[0m     \u001b[38;5;28;01mif\u001b[39;00m A\u001b[38;5;241m.\u001b[39mndim \u001b[38;5;241m==\u001b[39m \u001b[38;5;241m2\u001b[39m:  \u001b[38;5;66;03m# _interpolation_stage == 'rgba'\u001b[39;00m\n",
      "File \u001b[0;32m~/miniconda3/envs/np_targeting/lib/python3.9/site-packages/matplotlib/colors.py:1395\u001b[0m, in \u001b[0;36mNormalize.__call__\u001b[0;34m(self, value, clip)\u001b[0m\n\u001b[1;32m   1393\u001b[0m     result\u001b[38;5;241m.\u001b[39mfill(\u001b[38;5;241m0\u001b[39m)  \u001b[38;5;66;03m# Or should it be all masked?  Or 0.5?\u001b[39;00m\n\u001b[1;32m   1394\u001b[0m \u001b[38;5;28;01melif\u001b[39;00m vmin \u001b[38;5;241m>\u001b[39m vmax:\n\u001b[0;32m-> 1395\u001b[0m     \u001b[38;5;28;01mraise\u001b[39;00m \u001b[38;5;167;01mValueError\u001b[39;00m(\u001b[38;5;124m\"\u001b[39m\u001b[38;5;124mminvalue must be less than or equal to maxvalue\u001b[39m\u001b[38;5;124m\"\u001b[39m)\n\u001b[1;32m   1396\u001b[0m \u001b[38;5;28;01melse\u001b[39;00m:\n\u001b[1;32m   1397\u001b[0m     \u001b[38;5;28;01mif\u001b[39;00m clip:\n",
      "\u001b[0;31mValueError\u001b[0m: minvalue must be less than or equal to maxvalue"
     ]
    },
    {
     "name": "stderr",
     "output_type": "stream",
     "text": [
      "/home/aolab/miniconda3/envs/np_targeting/lib/python3.9/site-packages/IPython/core/pylabtools.py:152: UserWarning: This figure includes Axes that are not compatible with tight_layout, so results might be incorrect.\n",
      "  fig.canvas.print_figure(bytes_io, **kw)\n"
     ]
    },
    {
     "ename": "ValueError",
     "evalue": "minvalue must be less than or equal to maxvalue",
     "output_type": "error",
     "traceback": [
      "\u001b[0;31m---------------------------------------------------------------------------\u001b[0m",
      "\u001b[0;31mValueError\u001b[0m                                Traceback (most recent call last)",
      "File \u001b[0;32m~/miniconda3/envs/np_targeting/lib/python3.9/site-packages/IPython/core/formatters.py:340\u001b[0m, in \u001b[0;36mBaseFormatter.__call__\u001b[0;34m(self, obj)\u001b[0m\n\u001b[1;32m    338\u001b[0m     \u001b[38;5;28;01mpass\u001b[39;00m\n\u001b[1;32m    339\u001b[0m \u001b[38;5;28;01melse\u001b[39;00m:\n\u001b[0;32m--> 340\u001b[0m     \u001b[38;5;28;01mreturn\u001b[39;00m \u001b[43mprinter\u001b[49m\u001b[43m(\u001b[49m\u001b[43mobj\u001b[49m\u001b[43m)\u001b[49m\n\u001b[1;32m    341\u001b[0m \u001b[38;5;66;03m# Finally look for special method names\u001b[39;00m\n\u001b[1;32m    342\u001b[0m method \u001b[38;5;241m=\u001b[39m get_real_method(obj, \u001b[38;5;28mself\u001b[39m\u001b[38;5;241m.\u001b[39mprint_method)\n",
      "File \u001b[0;32m~/miniconda3/envs/np_targeting/lib/python3.9/site-packages/IPython/core/pylabtools.py:152\u001b[0m, in \u001b[0;36mprint_figure\u001b[0;34m(fig, fmt, bbox_inches, base64, **kwargs)\u001b[0m\n\u001b[1;32m    149\u001b[0m     \u001b[38;5;28;01mfrom\u001b[39;00m \u001b[38;5;21;01mmatplotlib\u001b[39;00m\u001b[38;5;21;01m.\u001b[39;00m\u001b[38;5;21;01mbackend_bases\u001b[39;00m \u001b[38;5;28;01mimport\u001b[39;00m FigureCanvasBase\n\u001b[1;32m    150\u001b[0m     FigureCanvasBase(fig)\n\u001b[0;32m--> 152\u001b[0m \u001b[43mfig\u001b[49m\u001b[38;5;241;43m.\u001b[39;49m\u001b[43mcanvas\u001b[49m\u001b[38;5;241;43m.\u001b[39;49m\u001b[43mprint_figure\u001b[49m\u001b[43m(\u001b[49m\u001b[43mbytes_io\u001b[49m\u001b[43m,\u001b[49m\u001b[43m \u001b[49m\u001b[38;5;241;43m*\u001b[39;49m\u001b[38;5;241;43m*\u001b[39;49m\u001b[43mkw\u001b[49m\u001b[43m)\u001b[49m\n\u001b[1;32m    153\u001b[0m data \u001b[38;5;241m=\u001b[39m bytes_io\u001b[38;5;241m.\u001b[39mgetvalue()\n\u001b[1;32m    154\u001b[0m \u001b[38;5;28;01mif\u001b[39;00m fmt \u001b[38;5;241m==\u001b[39m \u001b[38;5;124m'\u001b[39m\u001b[38;5;124msvg\u001b[39m\u001b[38;5;124m'\u001b[39m:\n",
      "File \u001b[0;32m~/miniconda3/envs/np_targeting/lib/python3.9/site-packages/matplotlib/backend_bases.py:2175\u001b[0m, in \u001b[0;36mFigureCanvasBase.print_figure\u001b[0;34m(self, filename, dpi, facecolor, edgecolor, orientation, format, bbox_inches, pad_inches, bbox_extra_artists, backend, **kwargs)\u001b[0m\n\u001b[1;32m   2172\u001b[0m     \u001b[38;5;66;03m# we do this instead of `self.figure.draw_without_rendering`\u001b[39;00m\n\u001b[1;32m   2173\u001b[0m     \u001b[38;5;66;03m# so that we can inject the orientation\u001b[39;00m\n\u001b[1;32m   2174\u001b[0m     \u001b[38;5;28;01mwith\u001b[39;00m \u001b[38;5;28mgetattr\u001b[39m(renderer, \u001b[38;5;124m\"\u001b[39m\u001b[38;5;124m_draw_disabled\u001b[39m\u001b[38;5;124m\"\u001b[39m, nullcontext)():\n\u001b[0;32m-> 2175\u001b[0m         \u001b[38;5;28;43mself\u001b[39;49m\u001b[38;5;241;43m.\u001b[39;49m\u001b[43mfigure\u001b[49m\u001b[38;5;241;43m.\u001b[39;49m\u001b[43mdraw\u001b[49m\u001b[43m(\u001b[49m\u001b[43mrenderer\u001b[49m\u001b[43m)\u001b[49m\n\u001b[1;32m   2176\u001b[0m \u001b[38;5;28;01mif\u001b[39;00m bbox_inches:\n\u001b[1;32m   2177\u001b[0m     \u001b[38;5;28;01mif\u001b[39;00m bbox_inches \u001b[38;5;241m==\u001b[39m \u001b[38;5;124m\"\u001b[39m\u001b[38;5;124mtight\u001b[39m\u001b[38;5;124m\"\u001b[39m:\n",
      "File \u001b[0;32m~/miniconda3/envs/np_targeting/lib/python3.9/site-packages/matplotlib/artist.py:95\u001b[0m, in \u001b[0;36m_finalize_rasterization.<locals>.draw_wrapper\u001b[0;34m(artist, renderer, *args, **kwargs)\u001b[0m\n\u001b[1;32m     93\u001b[0m \u001b[38;5;129m@wraps\u001b[39m(draw)\n\u001b[1;32m     94\u001b[0m \u001b[38;5;28;01mdef\u001b[39;00m \u001b[38;5;21mdraw_wrapper\u001b[39m(artist, renderer, \u001b[38;5;241m*\u001b[39margs, \u001b[38;5;241m*\u001b[39m\u001b[38;5;241m*\u001b[39mkwargs):\n\u001b[0;32m---> 95\u001b[0m     result \u001b[38;5;241m=\u001b[39m \u001b[43mdraw\u001b[49m\u001b[43m(\u001b[49m\u001b[43martist\u001b[49m\u001b[43m,\u001b[49m\u001b[43m \u001b[49m\u001b[43mrenderer\u001b[49m\u001b[43m,\u001b[49m\u001b[43m \u001b[49m\u001b[38;5;241;43m*\u001b[39;49m\u001b[43margs\u001b[49m\u001b[43m,\u001b[49m\u001b[43m \u001b[49m\u001b[38;5;241;43m*\u001b[39;49m\u001b[38;5;241;43m*\u001b[39;49m\u001b[43mkwargs\u001b[49m\u001b[43m)\u001b[49m\n\u001b[1;32m     96\u001b[0m     \u001b[38;5;28;01mif\u001b[39;00m renderer\u001b[38;5;241m.\u001b[39m_rasterizing:\n\u001b[1;32m     97\u001b[0m         renderer\u001b[38;5;241m.\u001b[39mstop_rasterizing()\n",
      "File \u001b[0;32m~/miniconda3/envs/np_targeting/lib/python3.9/site-packages/matplotlib/artist.py:72\u001b[0m, in \u001b[0;36mallow_rasterization.<locals>.draw_wrapper\u001b[0;34m(artist, renderer)\u001b[0m\n\u001b[1;32m     69\u001b[0m     \u001b[38;5;28;01mif\u001b[39;00m artist\u001b[38;5;241m.\u001b[39mget_agg_filter() \u001b[38;5;129;01mis\u001b[39;00m \u001b[38;5;129;01mnot\u001b[39;00m \u001b[38;5;28;01mNone\u001b[39;00m:\n\u001b[1;32m     70\u001b[0m         renderer\u001b[38;5;241m.\u001b[39mstart_filter()\n\u001b[0;32m---> 72\u001b[0m     \u001b[38;5;28;01mreturn\u001b[39;00m \u001b[43mdraw\u001b[49m\u001b[43m(\u001b[49m\u001b[43martist\u001b[49m\u001b[43m,\u001b[49m\u001b[43m \u001b[49m\u001b[43mrenderer\u001b[49m\u001b[43m)\u001b[49m\n\u001b[1;32m     73\u001b[0m \u001b[38;5;28;01mfinally\u001b[39;00m:\n\u001b[1;32m     74\u001b[0m     \u001b[38;5;28;01mif\u001b[39;00m artist\u001b[38;5;241m.\u001b[39mget_agg_filter() \u001b[38;5;129;01mis\u001b[39;00m \u001b[38;5;129;01mnot\u001b[39;00m \u001b[38;5;28;01mNone\u001b[39;00m:\n",
      "File \u001b[0;32m~/miniconda3/envs/np_targeting/lib/python3.9/site-packages/matplotlib/figure.py:3162\u001b[0m, in \u001b[0;36mFigure.draw\u001b[0;34m(self, renderer)\u001b[0m\n\u001b[1;32m   3159\u001b[0m             \u001b[38;5;66;03m# ValueError can occur when resizing a window.\u001b[39;00m\n\u001b[1;32m   3161\u001b[0m     \u001b[38;5;28mself\u001b[39m\u001b[38;5;241m.\u001b[39mpatch\u001b[38;5;241m.\u001b[39mdraw(renderer)\n\u001b[0;32m-> 3162\u001b[0m     \u001b[43mmimage\u001b[49m\u001b[38;5;241;43m.\u001b[39;49m\u001b[43m_draw_list_compositing_images\u001b[49m\u001b[43m(\u001b[49m\n\u001b[1;32m   3163\u001b[0m \u001b[43m        \u001b[49m\u001b[43mrenderer\u001b[49m\u001b[43m,\u001b[49m\u001b[43m \u001b[49m\u001b[38;5;28;43mself\u001b[39;49m\u001b[43m,\u001b[49m\u001b[43m \u001b[49m\u001b[43martists\u001b[49m\u001b[43m,\u001b[49m\u001b[43m \u001b[49m\u001b[38;5;28;43mself\u001b[39;49m\u001b[38;5;241;43m.\u001b[39;49m\u001b[43msuppressComposite\u001b[49m\u001b[43m)\u001b[49m\n\u001b[1;32m   3165\u001b[0m     renderer\u001b[38;5;241m.\u001b[39mclose_group(\u001b[38;5;124m'\u001b[39m\u001b[38;5;124mfigure\u001b[39m\u001b[38;5;124m'\u001b[39m)\n\u001b[1;32m   3166\u001b[0m \u001b[38;5;28;01mfinally\u001b[39;00m:\n",
      "File \u001b[0;32m~/miniconda3/envs/np_targeting/lib/python3.9/site-packages/matplotlib/image.py:132\u001b[0m, in \u001b[0;36m_draw_list_compositing_images\u001b[0;34m(renderer, parent, artists, suppress_composite)\u001b[0m\n\u001b[1;32m    130\u001b[0m \u001b[38;5;28;01mif\u001b[39;00m not_composite \u001b[38;5;129;01mor\u001b[39;00m \u001b[38;5;129;01mnot\u001b[39;00m has_images:\n\u001b[1;32m    131\u001b[0m     \u001b[38;5;28;01mfor\u001b[39;00m a \u001b[38;5;129;01min\u001b[39;00m artists:\n\u001b[0;32m--> 132\u001b[0m         \u001b[43ma\u001b[49m\u001b[38;5;241;43m.\u001b[39;49m\u001b[43mdraw\u001b[49m\u001b[43m(\u001b[49m\u001b[43mrenderer\u001b[49m\u001b[43m)\u001b[49m\n\u001b[1;32m    133\u001b[0m \u001b[38;5;28;01melse\u001b[39;00m:\n\u001b[1;32m    134\u001b[0m     \u001b[38;5;66;03m# Composite any adjacent images together\u001b[39;00m\n\u001b[1;32m    135\u001b[0m     image_group \u001b[38;5;241m=\u001b[39m []\n",
      "File \u001b[0;32m~/miniconda3/envs/np_targeting/lib/python3.9/site-packages/matplotlib/artist.py:72\u001b[0m, in \u001b[0;36mallow_rasterization.<locals>.draw_wrapper\u001b[0;34m(artist, renderer)\u001b[0m\n\u001b[1;32m     69\u001b[0m     \u001b[38;5;28;01mif\u001b[39;00m artist\u001b[38;5;241m.\u001b[39mget_agg_filter() \u001b[38;5;129;01mis\u001b[39;00m \u001b[38;5;129;01mnot\u001b[39;00m \u001b[38;5;28;01mNone\u001b[39;00m:\n\u001b[1;32m     70\u001b[0m         renderer\u001b[38;5;241m.\u001b[39mstart_filter()\n\u001b[0;32m---> 72\u001b[0m     \u001b[38;5;28;01mreturn\u001b[39;00m \u001b[43mdraw\u001b[49m\u001b[43m(\u001b[49m\u001b[43martist\u001b[49m\u001b[43m,\u001b[49m\u001b[43m \u001b[49m\u001b[43mrenderer\u001b[49m\u001b[43m)\u001b[49m\n\u001b[1;32m     73\u001b[0m \u001b[38;5;28;01mfinally\u001b[39;00m:\n\u001b[1;32m     74\u001b[0m     \u001b[38;5;28;01mif\u001b[39;00m artist\u001b[38;5;241m.\u001b[39mget_agg_filter() \u001b[38;5;129;01mis\u001b[39;00m \u001b[38;5;129;01mnot\u001b[39;00m \u001b[38;5;28;01mNone\u001b[39;00m:\n",
      "File \u001b[0;32m~/miniconda3/envs/np_targeting/lib/python3.9/site-packages/matplotlib/axes/_base.py:3143\u001b[0m, in \u001b[0;36m_AxesBase.draw\u001b[0;34m(self, renderer)\u001b[0m\n\u001b[1;32m   3140\u001b[0m \u001b[38;5;28;01mif\u001b[39;00m artists_rasterized:\n\u001b[1;32m   3141\u001b[0m     _draw_rasterized(\u001b[38;5;28mself\u001b[39m\u001b[38;5;241m.\u001b[39mfigure, artists_rasterized, renderer)\n\u001b[0;32m-> 3143\u001b[0m \u001b[43mmimage\u001b[49m\u001b[38;5;241;43m.\u001b[39;49m\u001b[43m_draw_list_compositing_images\u001b[49m\u001b[43m(\u001b[49m\n\u001b[1;32m   3144\u001b[0m \u001b[43m    \u001b[49m\u001b[43mrenderer\u001b[49m\u001b[43m,\u001b[49m\u001b[43m \u001b[49m\u001b[38;5;28;43mself\u001b[39;49m\u001b[43m,\u001b[49m\u001b[43m \u001b[49m\u001b[43martists\u001b[49m\u001b[43m,\u001b[49m\u001b[43m \u001b[49m\u001b[38;5;28;43mself\u001b[39;49m\u001b[38;5;241;43m.\u001b[39;49m\u001b[43mfigure\u001b[49m\u001b[38;5;241;43m.\u001b[39;49m\u001b[43msuppressComposite\u001b[49m\u001b[43m)\u001b[49m\n\u001b[1;32m   3146\u001b[0m renderer\u001b[38;5;241m.\u001b[39mclose_group(\u001b[38;5;124m'\u001b[39m\u001b[38;5;124maxes\u001b[39m\u001b[38;5;124m'\u001b[39m)\n\u001b[1;32m   3147\u001b[0m \u001b[38;5;28mself\u001b[39m\u001b[38;5;241m.\u001b[39mstale \u001b[38;5;241m=\u001b[39m \u001b[38;5;28;01mFalse\u001b[39;00m\n",
      "File \u001b[0;32m~/miniconda3/envs/np_targeting/lib/python3.9/site-packages/matplotlib/image.py:132\u001b[0m, in \u001b[0;36m_draw_list_compositing_images\u001b[0;34m(renderer, parent, artists, suppress_composite)\u001b[0m\n\u001b[1;32m    130\u001b[0m \u001b[38;5;28;01mif\u001b[39;00m not_composite \u001b[38;5;129;01mor\u001b[39;00m \u001b[38;5;129;01mnot\u001b[39;00m has_images:\n\u001b[1;32m    131\u001b[0m     \u001b[38;5;28;01mfor\u001b[39;00m a \u001b[38;5;129;01min\u001b[39;00m artists:\n\u001b[0;32m--> 132\u001b[0m         \u001b[43ma\u001b[49m\u001b[38;5;241;43m.\u001b[39;49m\u001b[43mdraw\u001b[49m\u001b[43m(\u001b[49m\u001b[43mrenderer\u001b[49m\u001b[43m)\u001b[49m\n\u001b[1;32m    133\u001b[0m \u001b[38;5;28;01melse\u001b[39;00m:\n\u001b[1;32m    134\u001b[0m     \u001b[38;5;66;03m# Composite any adjacent images together\u001b[39;00m\n\u001b[1;32m    135\u001b[0m     image_group \u001b[38;5;241m=\u001b[39m []\n",
      "File \u001b[0;32m~/miniconda3/envs/np_targeting/lib/python3.9/site-packages/matplotlib/artist.py:72\u001b[0m, in \u001b[0;36mallow_rasterization.<locals>.draw_wrapper\u001b[0;34m(artist, renderer)\u001b[0m\n\u001b[1;32m     69\u001b[0m     \u001b[38;5;28;01mif\u001b[39;00m artist\u001b[38;5;241m.\u001b[39mget_agg_filter() \u001b[38;5;129;01mis\u001b[39;00m \u001b[38;5;129;01mnot\u001b[39;00m \u001b[38;5;28;01mNone\u001b[39;00m:\n\u001b[1;32m     70\u001b[0m         renderer\u001b[38;5;241m.\u001b[39mstart_filter()\n\u001b[0;32m---> 72\u001b[0m     \u001b[38;5;28;01mreturn\u001b[39;00m \u001b[43mdraw\u001b[49m\u001b[43m(\u001b[49m\u001b[43martist\u001b[49m\u001b[43m,\u001b[49m\u001b[43m \u001b[49m\u001b[43mrenderer\u001b[49m\u001b[43m)\u001b[49m\n\u001b[1;32m     73\u001b[0m \u001b[38;5;28;01mfinally\u001b[39;00m:\n\u001b[1;32m     74\u001b[0m     \u001b[38;5;28;01mif\u001b[39;00m artist\u001b[38;5;241m.\u001b[39mget_agg_filter() \u001b[38;5;129;01mis\u001b[39;00m \u001b[38;5;129;01mnot\u001b[39;00m \u001b[38;5;28;01mNone\u001b[39;00m:\n",
      "File \u001b[0;32m~/miniconda3/envs/np_targeting/lib/python3.9/site-packages/matplotlib/image.py:653\u001b[0m, in \u001b[0;36m_ImageBase.draw\u001b[0;34m(self, renderer)\u001b[0m\n\u001b[1;32m    651\u001b[0m         renderer\u001b[38;5;241m.\u001b[39mdraw_image(gc, l, b, im, trans)\n\u001b[1;32m    652\u001b[0m \u001b[38;5;28;01melse\u001b[39;00m:\n\u001b[0;32m--> 653\u001b[0m     im, l, b, trans \u001b[38;5;241m=\u001b[39m \u001b[38;5;28;43mself\u001b[39;49m\u001b[38;5;241;43m.\u001b[39;49m\u001b[43mmake_image\u001b[49m\u001b[43m(\u001b[49m\n\u001b[1;32m    654\u001b[0m \u001b[43m        \u001b[49m\u001b[43mrenderer\u001b[49m\u001b[43m,\u001b[49m\u001b[43m \u001b[49m\u001b[43mrenderer\u001b[49m\u001b[38;5;241;43m.\u001b[39;49m\u001b[43mget_image_magnification\u001b[49m\u001b[43m(\u001b[49m\u001b[43m)\u001b[49m\u001b[43m)\u001b[49m\n\u001b[1;32m    655\u001b[0m     \u001b[38;5;28;01mif\u001b[39;00m im \u001b[38;5;129;01mis\u001b[39;00m \u001b[38;5;129;01mnot\u001b[39;00m \u001b[38;5;28;01mNone\u001b[39;00m:\n\u001b[1;32m    656\u001b[0m         renderer\u001b[38;5;241m.\u001b[39mdraw_image(gc, l, b, im)\n",
      "File \u001b[0;32m~/miniconda3/envs/np_targeting/lib/python3.9/site-packages/matplotlib/image.py:952\u001b[0m, in \u001b[0;36mAxesImage.make_image\u001b[0;34m(self, renderer, magnification, unsampled)\u001b[0m\n\u001b[1;32m    949\u001b[0m transformed_bbox \u001b[38;5;241m=\u001b[39m TransformedBbox(bbox, trans)\n\u001b[1;32m    950\u001b[0m clip \u001b[38;5;241m=\u001b[39m ((\u001b[38;5;28mself\u001b[39m\u001b[38;5;241m.\u001b[39mget_clip_box() \u001b[38;5;129;01mor\u001b[39;00m \u001b[38;5;28mself\u001b[39m\u001b[38;5;241m.\u001b[39maxes\u001b[38;5;241m.\u001b[39mbbox) \u001b[38;5;28;01mif\u001b[39;00m \u001b[38;5;28mself\u001b[39m\u001b[38;5;241m.\u001b[39mget_clip_on()\n\u001b[1;32m    951\u001b[0m         \u001b[38;5;28;01melse\u001b[39;00m \u001b[38;5;28mself\u001b[39m\u001b[38;5;241m.\u001b[39mfigure\u001b[38;5;241m.\u001b[39mbbox)\n\u001b[0;32m--> 952\u001b[0m \u001b[38;5;28;01mreturn\u001b[39;00m \u001b[38;5;28;43mself\u001b[39;49m\u001b[38;5;241;43m.\u001b[39;49m\u001b[43m_make_image\u001b[49m\u001b[43m(\u001b[49m\u001b[38;5;28;43mself\u001b[39;49m\u001b[38;5;241;43m.\u001b[39;49m\u001b[43m_A\u001b[49m\u001b[43m,\u001b[49m\u001b[43m \u001b[49m\u001b[43mbbox\u001b[49m\u001b[43m,\u001b[49m\u001b[43m \u001b[49m\u001b[43mtransformed_bbox\u001b[49m\u001b[43m,\u001b[49m\u001b[43m \u001b[49m\u001b[43mclip\u001b[49m\u001b[43m,\u001b[49m\n\u001b[1;32m    953\u001b[0m \u001b[43m                        \u001b[49m\u001b[43mmagnification\u001b[49m\u001b[43m,\u001b[49m\u001b[43m \u001b[49m\u001b[43munsampled\u001b[49m\u001b[38;5;241;43m=\u001b[39;49m\u001b[43munsampled\u001b[49m\u001b[43m)\u001b[49m\n",
      "File \u001b[0;32m~/miniconda3/envs/np_targeting/lib/python3.9/site-packages/matplotlib/image.py:553\u001b[0m, in \u001b[0;36m_ImageBase._make_image\u001b[0;34m(self, A, in_bbox, out_bbox, clip_bbox, magnification, unsampled, round_to_pixel_border)\u001b[0m\n\u001b[1;32m    549\u001b[0m     \u001b[38;5;66;03m# Block the norm from sending an update signal during the\u001b[39;00m\n\u001b[1;32m    550\u001b[0m     \u001b[38;5;66;03m# temporary vmin/vmax change\u001b[39;00m\n\u001b[1;32m    551\u001b[0m     \u001b[38;5;28;01mwith\u001b[39;00m \u001b[38;5;28mself\u001b[39m\u001b[38;5;241m.\u001b[39mnorm\u001b[38;5;241m.\u001b[39mcallbacks\u001b[38;5;241m.\u001b[39mblocked(), \\\n\u001b[1;32m    552\u001b[0m          cbook\u001b[38;5;241m.\u001b[39m_setattr_cm(\u001b[38;5;28mself\u001b[39m\u001b[38;5;241m.\u001b[39mnorm, vmin\u001b[38;5;241m=\u001b[39ms_vmin, vmax\u001b[38;5;241m=\u001b[39ms_vmax):\n\u001b[0;32m--> 553\u001b[0m         output \u001b[38;5;241m=\u001b[39m \u001b[38;5;28;43mself\u001b[39;49m\u001b[38;5;241;43m.\u001b[39;49m\u001b[43mnorm\u001b[49m\u001b[43m(\u001b[49m\u001b[43mresampled_masked\u001b[49m\u001b[43m)\u001b[49m\n\u001b[1;32m    554\u001b[0m \u001b[38;5;28;01melse\u001b[39;00m:\n\u001b[1;32m    555\u001b[0m     \u001b[38;5;28;01mif\u001b[39;00m A\u001b[38;5;241m.\u001b[39mndim \u001b[38;5;241m==\u001b[39m \u001b[38;5;241m2\u001b[39m:  \u001b[38;5;66;03m# _interpolation_stage == 'rgba'\u001b[39;00m\n",
      "File \u001b[0;32m~/miniconda3/envs/np_targeting/lib/python3.9/site-packages/matplotlib/colors.py:1395\u001b[0m, in \u001b[0;36mNormalize.__call__\u001b[0;34m(self, value, clip)\u001b[0m\n\u001b[1;32m   1393\u001b[0m     result\u001b[38;5;241m.\u001b[39mfill(\u001b[38;5;241m0\u001b[39m)  \u001b[38;5;66;03m# Or should it be all masked?  Or 0.5?\u001b[39;00m\n\u001b[1;32m   1394\u001b[0m \u001b[38;5;28;01melif\u001b[39;00m vmin \u001b[38;5;241m>\u001b[39m vmax:\n\u001b[0;32m-> 1395\u001b[0m     \u001b[38;5;28;01mraise\u001b[39;00m \u001b[38;5;167;01mValueError\u001b[39;00m(\u001b[38;5;124m\"\u001b[39m\u001b[38;5;124mminvalue must be less than or equal to maxvalue\u001b[39m\u001b[38;5;124m\"\u001b[39m)\n\u001b[1;32m   1396\u001b[0m \u001b[38;5;28;01melse\u001b[39;00m:\n\u001b[1;32m   1397\u001b[0m     \u001b[38;5;28;01mif\u001b[39;00m clip:\n",
      "\u001b[0;31mValueError\u001b[0m: minvalue must be less than or equal to maxvalue"
     ]
    },
    {
     "data": {
      "text/plain": [
       "<Figure size 900x300 with 4 Axes>"
      ]
     },
     "metadata": {},
     "output_type": "display_data"
    }
   ],
   "source": [
    "alignment_list = ['gocue','movement','acquisition']\n",
    "dist = aopy.utils.calc_euclid_dist_mat(elec_pos)\n",
    "xy = [elec_pos[:,0], elec_pos[:,1]]\n",
    "m_accuracy_bs = np.mean(accuracy_alignment,axis=1) # mean across bootstrapping samples\n",
    "\n",
    "# Average accuracy across neighboring channels\n",
    "m_accuracy_ch = np.zeros((nalignment,nch))\n",
    "for ich in range(dist.shape[0]):\n",
    "    ave_idx = (dist[:,ich] <= 1.3)#0.75, 1.3\n",
    "    m_accuracy_ch[:,ich] = np.nanmean(m_accuracy_bs[:,ave_idx],axis=1)   \n",
    "\n",
    "fig,ax=plt.subplots(ncols=nalignment,figsize=(9,3),tight_layout=True)\n",
    "for idx in range(nalignment):\n",
    "    da_map = aopy.visualization.get_data_map(m_accuracy_ch[idx,:],xy[0],xy[1])\n",
    "    da_map[0,0],da_map[0,1],da_map[1,0],da_map[0,-1],da_map[0,-2],da_map[1,-1] = np.nan,np.nan,np.nan,np.nan,np.nan,np.nan\n",
    "    da_map[-1,0],da_map[-1,1],da_map[-2,0],da_map[-1,-1],da_map[-1,-2],da_map[-2,-1] = np.nan,np.nan,np.nan,np.nan,np.nan,np.nan\n",
    "    im = aopy.visualization.plot_spatial_map(da_map, xy[0], xy[1], ax=ax[idx], cmap='Blues')\n",
    "    im.norm.vmin = 1/8\n",
    "    im.norm.vmax = np.nanmax(m_accuracy_ch)\n",
    "    ax[idx].set(xlabel='',ylabel='',xticks=[],xticklabels=[],yticks=[],yticklabels=[],title=f'{alignment_list[idx]}')\n",
    "\n",
    "\n",
    "fig.subplots_adjust(right=0.9)\n",
    "cbar_ax = fig.add_axes([1., 0.15, 0.011, 0.7])\n",
    "cbar = fig.colorbar(im, cax=cbar_ax, orientation='vertical',fraction=0.046, pad=0.04)\n",
    "fig.show()"
   ]
  },
  {
   "cell_type": "markdown",
   "metadata": {},
   "source": [
    "## Contralateral and ipsilateral target decoding"
   ]
  },
  {
   "cell_type": "code",
   "execution_count": 37,
   "metadata": {
    "execution": {
     "iopub.execute_input": "2024-07-26T21:28:44.473378Z",
     "iopub.status.busy": "2024-07-26T21:28:44.473175Z",
     "iopub.status.idle": "2024-07-26T21:28:44.523853Z",
     "shell.execute_reply": "2024-07-26T21:28:44.522006Z",
     "shell.execute_reply.started": "2024-07-26T21:28:44.473359Z"
    },
    "tags": []
   },
   "outputs": [
    {
     "ename": "ValueError",
     "evalue": "operands could not be broadcast together with shapes (0,) (1078,) ",
     "output_type": "error",
     "traceback": [
      "\u001b[0;31m---------------------------------------------------------------------------\u001b[0m",
      "\u001b[0;31mValueError\u001b[0m                                Traceback (most recent call last)",
      "Cell \u001b[0;32mIn[37], line 8\u001b[0m\n\u001b[1;32m      6\u001b[0m \u001b[38;5;66;03m# Aligne timings\u001b[39;00m\n\u001b[1;32m      7\u001b[0m target_on_go \u001b[38;5;241m=\u001b[39m target_onset \u001b[38;5;241m-\u001b[39m gocue_time\n\u001b[0;32m----> 8\u001b[0m saccade_onset_go \u001b[38;5;241m=\u001b[39m \u001b[43msaccade_onset\u001b[49m\u001b[43m \u001b[49m\u001b[38;5;241;43m-\u001b[39;49m\u001b[43m \u001b[49m\u001b[43mgocue_time\u001b[49m\n\u001b[1;32m      9\u001b[0m cursor_leave_go \u001b[38;5;241m=\u001b[39m cursor_leave_time \u001b[38;5;241m-\u001b[39m gocue_time\n\u001b[1;32m     10\u001b[0m reward_go \u001b[38;5;241m=\u001b[39m reward_time \u001b[38;5;241m-\u001b[39m gocue_time\n",
      "\u001b[0;31mValueError\u001b[0m: operands could not be broadcast together with shapes (0,) (1078,) "
     ]
    }
   ],
   "source": [
    "## Show decoding accuracy in different time windows\n",
    "target_idx = np.array([t[1]-CENTER_TARGET_ON for t in tsegs])\n",
    "alignment_flag = 'reward'\n",
    "n_splits = 5\n",
    "\n",
    "# Aligne timings\n",
    "target_on_go = target_onset - gocue_time\n",
    "saccade_onset_go = saccade_onset - gocue_time\n",
    "cursor_leave_go = cursor_leave_time - gocue_time\n",
    "reward_go = reward_time - gocue_time\n",
    "\n",
    "# Prepare data\n",
    "if alignment_flag == 'target':\n",
    "    t_center = target_on_go\n",
    "    win = [0.1,0.2]\n",
    "elif alignment_flag == 'gocue':\n",
    "    t_center = np.zeros(ntr)\n",
    "    win = [-0.05,0.05]\n",
    "elif alignment_flag == 'saccade':\n",
    "    t_center = saccade_onset_go\n",
    "    win = [-0.05,0.05]\n",
    "elif alignment_flag == 'movement':\n",
    "    t_center = movement_onset_go\n",
    "    win = [-0.05,0.05]\n",
    "elif alignment_flag == 'cursor_leave':   \n",
    "    t_center = cursor_leave_go\n",
    "    win = [-0.05,0.05]\n",
    "elif alignment_flag == 'reward':   \n",
    "    t_center = reward_go\n",
    "    win = [-0.05,0.05]\n",
    "\n",
    "# Preprocess data\n",
    "#z_spec_band = stats.zscore(spec_band,axis=2)   \n",
    "z_spec_band = (spec_band - np.mean(spec_band, axis=(0,2),keepdims=True))/(np.std(spec_band, axis=(0,2),keepdims=True,ddof=1))\n",
    "\n",
    "bad_tr = []\n",
    "for itr in range(ntr):\n",
    "    time_win = (t_spec >= t_center[itr] + win[0])*(t_spec <= t_center[itr] + win[1])\n",
    "    itr_data = z_spec_band[[itr],:,:,:]\n",
    "    tmp = np.mean(itr_data[:,:,time_win,:],axis=2)\n",
    "    if sum(time_win)==0:\n",
    "        bad_tr.append(itr)\n",
    "    if itr == 0:\n",
    "        z_data_win = tmp\n",
    "    else:\n",
    "        z_data_win = np.concatenate([z_data_win, tmp],axis=0)\n",
    "\n",
    "bad_tr2 = []\n",
    "for itr in range(z_spec_band.shape[0]):\n",
    "    if np.any(np.isnan(z_spec_band[itr,:,:])):\n",
    "        bad_tr2.append(itr)\n",
    "\n",
    "bad_tr = np.concatenate([bad_tr,bad_tr2])\n",
    "bad_tr = np.array([int(a) for a in bad_tr])\n",
    "print(bad_tr)\n",
    "\n",
    "if bad_tr.size>0:\n",
    "    bad_tr_mask = np.zeros(ntr,dtype=bool)\n",
    "    bad_tr_mask[bad_tr] = True\n",
    "    good_tr_mask = ~bad_tr_mask\n",
    "else:\n",
    "    good_tr_mask = np.ones(ntr,dtype=bool)\n",
    "\n",
    "trial_restrict_mask = normal_saccade_trial * normal_onset_time * good_tr_mask"
   ]
  },
  {
   "cell_type": "code",
   "execution_count": null,
   "metadata": {
    "execution": {
     "iopub.status.busy": "2024-07-26T21:28:44.524336Z",
     "iopub.status.idle": "2024-07-26T21:28:44.524579Z",
     "shell.execute_reply": "2024-07-26T21:28:44.524466Z",
     "shell.execute_reply.started": "2024-07-26T21:28:44.524453Z"
    },
    "tags": []
   },
   "outputs": [],
   "source": [
    "decoding_flag = 'contra'\n",
    "shuffle = False\n",
    "nbs = 300\n",
    "band_idx = -1\n",
    "\n",
    "y_pred_bs = []\n",
    "y_true_bs = []\n",
    "weights_bs = []\n",
    "\n",
    "z_single_win = z_data_win[:,[band_idx],:]\n",
    "print(f'{alignment_flag}')\n",
    "\n",
    "if decoding_flag == 'contra':\n",
    "    partial_target = [2,3,4]\n",
    "else:\n",
    "    partial_target = [6,7,8]\n",
    "\n",
    "# get minimum number of trials for each target in both contralateral and ipsilateral targets  \n",
    "contra_ipsi_target_mask = (target_idx == 2)|(target_idx == 3)|(target_idx == 4)|(target_idx == 6)|(target_idx == 7)|(target_idx == 8)\n",
    "contra_ipsi_cond_mask = trial_restrict_mask * contra_ipsi_target_mask\n",
    "min_trial = get_minimum_trials_per_target(target_idx[contra_ipsi_cond_mask], contra_ipsi_cond_mask[contra_ipsi_cond_mask])\n",
    "print(min_trial)\n",
    "\n",
    "# mask for conditioning trials\n",
    "lateral_mask = (target_idx == partial_target[0])|(target_idx == partial_target[1])|(target_idx == partial_target[2])\n",
    "cond_mask = trial_restrict_mask*lateral_mask\n",
    "\n",
    "for i_bs in tqdm(range(nbs)):\n",
    "    np.random.seed(i_bs)\n",
    "    \n",
    "    # Get trial label with replacement for bootstrapping\n",
    "    trial_mask = get_conditioned_trials_per_target(target_idx, cond_mask, min_trial, replacement=True, seed=i_bs)\n",
    "    \n",
    "    # Get data for LDA\n",
    "    data_win = z_single_win[trial_mask,:,:]\n",
    "    cond_label = target_idx[trial_mask]\n",
    "    if shuffle:\n",
    "        cond_label = np.random.permutation(cond_label)\n",
    "        \n",
    "    # Average score (spatial filtering)\n",
    "    y_pred, y_true, weights = classify_targ_lda2(data_win, cond_label, n_splits)\n",
    "    y_pred_bs.append(y_pred)\n",
    "    y_true_bs.append(y_true)\n",
    "    weights_bs.append(weights)\n",
    "    \n",
    "y_pred_bs = np.array(y_pred_bs, 'object')\n",
    "y_true_bs = np.array(y_true_bs, 'object')\n",
    "weights_bs = np.array(weights_bs, 'object')\n",
    "\n",
    "np.savez(f'/data/postprocessed/tomo/{subject}_decoding_{alignment_flag}_{decoding_flag}_numbs{nbs}_shuffle_{shuffle}_{band_name[band_idx]}', \\\n",
    "    y_pred_bs=y_pred_bs, y_true_bs=y_true_bs, weights_bs=weights_bs)\n",
    "\n",
    "#############################################################\n",
    "##### Ipsilateral decoding\n",
    "#############################################################\n",
    "\n",
    "decoding_flag = 'ipsi'\n",
    "y_pred_bs = []\n",
    "y_true_bs = []\n",
    "weights_bs = []\n",
    "print(f'{alignment_flag}')\n",
    "\n",
    "if decoding_flag == 'contra':\n",
    "    partial_target = [2,3,4]\n",
    "else:\n",
    "    partial_target = [6,7,8]\n",
    "\n",
    "# get minimum number of trials for each target in both contralateral and ipsilateral targets  \n",
    "contra_ipsi_target_mask = (target_idx == 2)|(target_idx == 3)|(target_idx == 4)|(target_idx == 6)|(target_idx == 7)|(target_idx == 8)\n",
    "contra_ipsi_cond_mask = trial_restrict_mask * contra_ipsi_target_mask\n",
    "min_trial = get_minimum_trials_per_target(target_idx[contra_ipsi_cond_mask], contra_ipsi_cond_mask[contra_ipsi_cond_mask])\n",
    "print(min_trial)\n",
    "\n",
    "# mask for conditioning trials\n",
    "lateral_mask = (target_idx == partial_target[0])|(target_idx == partial_target[1])|(target_idx == partial_target[2])\n",
    "cond_mask = trial_restrict_mask*lateral_mask\n",
    "\n",
    "for i_bs in tqdm(range(nbs)):\n",
    "    np.random.seed(i_bs)\n",
    "    \n",
    "    # Get trial label with replacement for bootstrapping\n",
    "    trial_mask = get_conditioned_trials_per_target(target_idx, cond_mask, min_trial, replacement=True, seed=i_bs)\n",
    "    \n",
    "    # Get data for LDA\n",
    "    data_win = z_single_win[trial_mask,:,:]\n",
    "    cond_label = target_idx[trial_mask]\n",
    "    if shuffle:\n",
    "        cond_label = np.random.permutation(cond_label)\n",
    "        \n",
    "    # Average score (spatial filtering)\n",
    "    y_pred, y_true, weights = classify_targ_lda2(data_win, cond_label, n_splits)\n",
    "    y_pred_bs.append(y_pred)\n",
    "    y_true_bs.append(y_true)\n",
    "    weights_bs.append(weights)\n",
    "    \n",
    "y_pred_bs = np.array(y_pred_bs, 'object')\n",
    "y_true_bs = np.array(y_true_bs, 'object')\n",
    "weights_bs = np.array(weights_bs, 'object')\n",
    "\n",
    "np.savez(f'/data/postprocessed/tomo/{subject}_decoding_{alignment_flag}_{decoding_flag}_numbs{nbs}_shuffle_{shuffle}_{band_name[band_idx]}', \\\n",
    "    y_pred_bs=y_pred_bs, y_true_bs=y_true_bs, weights_bs=weights_bs)"
   ]
  },
  {
   "cell_type": "code",
   "execution_count": null,
   "metadata": {
    "execution": {
     "iopub.status.busy": "2024-07-26T21:28:44.525354Z",
     "iopub.status.idle": "2024-07-26T21:28:44.525583Z",
     "shell.execute_reply": "2024-07-26T21:28:44.525477Z",
     "shell.execute_reply.started": "2024-07-26T21:28:44.525465Z"
    },
    "tags": []
   },
   "outputs": [],
   "source": [
    "# Contralateral and ipsilateral accuracy\n",
    "nbs = 300\n",
    "alignment_list = ['movement','reward']\n",
    "nalignment = len(alignment_list)\n",
    "band_idx = -1\n",
    "\n",
    "accuracy_alignment = np.zeros((4, nalignment, nbs, nch))\n",
    "for idx, alignment_flag in enumerate(alignment_list):\n",
    "    loaded_data = np.load(f'/data/postprocessed/tomo/{subject}_decoding_{alignment_flag}_contra_numbs{nbs}_shuffle_False_{band_name[band_idx]}.npz',allow_pickle=True)\n",
    "    y_pred_bs_contra = loaded_data['y_pred_bs']\n",
    "    y_true_bs_contra = loaded_data['y_true_bs']\n",
    "\n",
    "    loaded_data = np.load(f'/data/postprocessed/tomo/{subject}_decoding_{alignment_flag}_contra_numbs{nbs}_shuffle_True_{band_name[band_idx]}.npz',allow_pickle=True)\n",
    "    y_pred_bs_contra_shuffle = loaded_data['y_pred_bs']\n",
    "    y_true_bs_contra_shuffle = loaded_data['y_true_bs']\n",
    "        \n",
    "    loaded_data = np.load(f'/data/postprocessed/tomo/{subject}_decoding_{alignment_flag}_ipsi_numbs{nbs}_shuffle_False_{band_name[band_idx]}.npz',allow_pickle=True)\n",
    "    y_pred_bs_ipsi = loaded_data['y_pred_bs']\n",
    "    y_true_bs_ipsi = loaded_data['y_true_bs']\n",
    "\n",
    "    loaded_data = np.load(f'/data/postprocessed/tomo/{subject}_decoding_{alignment_flag}_ipsi_numbs{nbs}_shuffle_True_{band_name[band_idx]}.npz',allow_pickle=True)\n",
    "    y_pred_bs_ipsi_shuffle = loaded_data['y_pred_bs']\n",
    "    y_true_bs_ipsi_shuffle = loaded_data['y_true_bs']\n",
    "        \n",
    "    for ibs in tqdm(range(nbs)):\n",
    "        for ich in range(nch):\n",
    "            \n",
    "            accuracy_fold_contra = []\n",
    "            accuracy_fold_ipsi = []\n",
    "            accuracy_fold_contra_shuffle = []\n",
    "            accuracy_fold_ipsi_shuffle = []\n",
    "            for ifold in range(n_splits):\n",
    "                accuracy_fold_contra.append(accuracy_score(y_true_bs_contra[ibs][ich][ifold], y_pred_bs_contra[ibs][ich][ifold]))\n",
    "                accuracy_fold_ipsi.append(accuracy_score(y_true_bs_ipsi[ibs][ich][ifold], y_pred_bs_ipsi[ibs][ich][ifold]))\n",
    "                accuracy_fold_contra_shuffle.append(accuracy_score(y_true_bs_contra_shuffle[ibs][ich][ifold], y_pred_bs_contra_shuffle[ibs][ich][ifold]))\n",
    "                accuracy_fold_ipsi_shuffle.append(accuracy_score(y_true_bs_ipsi_shuffle[ibs][ich][ifold], y_pred_bs_ipsi_shuffle[ibs][ich][ifold]))\n",
    "                \n",
    "            accuracy_alignment[0,idx,ibs,ich] = np.mean(accuracy_fold_contra)\n",
    "            accuracy_alignment[1,idx,ibs,ich] = np.mean(accuracy_fold_ipsi)\n",
    "            accuracy_alignment[2,idx,ibs,ich] = np.mean(accuracy_fold_contra_shuffle)\n",
    "            accuracy_alignment[3,idx,ibs,ich] = np.mean(accuracy_fold_ipsi_shuffle)"
   ]
  },
  {
   "cell_type": "code",
   "execution_count": null,
   "metadata": {
    "execution": {
     "iopub.status.busy": "2024-07-26T21:28:44.526153Z",
     "iopub.status.idle": "2024-07-26T21:28:44.526398Z",
     "shell.execute_reply": "2024-07-26T21:28:44.526285Z",
     "shell.execute_reply.started": "2024-07-26T21:28:44.526273Z"
    },
    "tags": []
   },
   "outputs": [],
   "source": [
    "alpha = 0.95\n",
    "dist = aopy.utils.calc_euclid_dist_mat(elec_pos)\n",
    "xy = [elec_pos[:,0], elec_pos[:,1]]\n",
    "m_accuracy_bs = np.mean(accuracy_alignment,axis=2) # mean across bootstrapping samples\n",
    "\n",
    "# Compute significance\n",
    "not_significant_contra = np.zeros((nalignment,nch),dtype='bool')\n",
    "for idx in range(nalignment):\n",
    "    confidence_contra = []\n",
    "    for ich in range(nch):\n",
    "        count, bins_count = np.histogram(accuracy_alignment[2,idx,:,ich], bins=50)\n",
    "        bin_edge = bins_count[1:] - np.diff(bins_count)[0]\n",
    "        pdf = count / sum(count)\n",
    "        cdf = np.cumsum(pdf)\n",
    "        confidence_contra.append(bin_edge[np.where(cdf<alpha)[0][-1]])\n",
    "    confidence_contra = np.array(confidence_contra) # nch array\n",
    "    not_significant_contra[idx,:] = confidence_contra > m_accuracy_bs[0,idx,:]\n",
    "\n",
    "not_significant_ipsi = np.zeros((nalignment,nch),dtype='bool')\n",
    "for idx in range(nalignment):\n",
    "    confidence_ipsi = []\n",
    "    for ich in range(nch):\n",
    "        count, bins_count = np.histogram(accuracy_alignment[3,idx,:,ich], bins=50)\n",
    "        bin_edge = bins_count[1:] - np.diff(bins_count)[0]\n",
    "        pdf = count / sum(count)\n",
    "        cdf = np.cumsum(pdf)\n",
    "        confidence_ipsi.append(bin_edge[np.where(cdf<alpha)[0][-1]])\n",
    "    confidence_ipsi = np.array(confidence_ipsi) # nch array\n",
    "    not_significant_ipsi[idx,:] = confidence_ipsi > m_accuracy_bs[1,idx,:]\n",
    "    \n",
    "not_significant = not_significant_contra# + not_significant_ipsi\n",
    "print(not_significant.shape)\n",
    "\n",
    "# TODO add another criteria to remove channels"
   ]
  },
  {
   "cell_type": "code",
   "execution_count": null,
   "metadata": {
    "execution": {
     "iopub.status.busy": "2024-07-26T21:28:44.526963Z",
     "iopub.status.idle": "2024-07-26T21:28:44.527196Z",
     "shell.execute_reply": "2024-07-26T21:28:44.527087Z",
     "shell.execute_reply.started": "2024-07-26T21:28:44.527075Z"
    },
    "tags": []
   },
   "outputs": [],
   "source": [
    "ipsi_idx = 0\n",
    "dist = aopy.utils.calc_euclid_dist_mat(elec_pos)\n",
    "xy = [elec_pos[:,0], elec_pos[:,1]]\n",
    "m_accuracy_bs = np.mean(accuracy_alignment[ipsi_idx,:,:,:],axis=1) # mean across bootstrapping samples\n",
    "\n",
    "# Compute significance\n",
    "# not_significant_ch = np.zeros((nalignment,nch),dtype='bool')\n",
    "# for idx in range(nalignment):\n",
    "#     significance = []\n",
    "#     for ich in range(nch):\n",
    "#         count, bins_count = np.histogram(accuracy_alignment[ipsi_idx,idx,:,ich], bins=50)\n",
    "#         bin_edge = bins_count[1:] - np.diff(bins_count)[0]\n",
    "#         pdf = count / sum(count)\n",
    "#         cdf = np.cumsum(pdf)\n",
    "#         significance.append(bin_edge[np.where(cdf<0.05)[0][-1]])\n",
    "#     significance = np.array(significance) # nch array\n",
    "#     not_significant_ch[idx,:]  = 1/3 > significance\n",
    "#     m_accuracy_bs[idx,not_significant_ch[idx,:]] = np.nan\n",
    "\n",
    "m_accuracy_ch = np.zeros((nalignment,nch))\n",
    "for ich in range(dist.shape[0]):\n",
    "    ave_idx = (dist[:,ich] <= 1.3)#0.75, 1.3\n",
    "    m_accuracy_ch[:,ich] = np.nanmean(m_accuracy_bs[:,ave_idx],axis=1)   \n",
    "\n",
    "fig,ax=plt.subplots(ncols=nalignment,figsize=(12,4),tight_layout=True)\n",
    "for idx in range(nalignment):\n",
    "    m_accuracy_ch[idx,not_significant_contra[idx,:]] = np.nan\n",
    "    da_map = aopy.visualization.get_data_map(m_accuracy_ch[idx,:],xy[0],xy[1])\n",
    "    da_map[0,0],da_map[0,1],da_map[1,0],da_map[0,-1],da_map[0,-2],da_map[1,-1] = np.nan,np.nan,np.nan,np.nan,np.nan,np.nan\n",
    "    da_map[-1,0],da_map[-1,1],da_map[-2,0],da_map[-1,-1],da_map[-1,-2],da_map[-2,-1] = np.nan,np.nan,np.nan,np.nan,np.nan,np.nan\n",
    "    im = aopy.visualization.plot_spatial_map(da_map, xy[0], xy[1], ax=ax[idx], cmap='Blues')\n",
    "    im.norm.vmin = 1/3\n",
    "    im.norm.vmax = np.nanmax(m_accuracy_ch)\n",
    "\n",
    "    #ax[ii].set(title=f'{center_list[ii]*1000} ms',xlabel='',ylabel='',xticks=[],xticklabels=[],yticks=[],yticklabels=[])\n",
    "    ax[idx].set(xlabel='',ylabel='',xticks=[],xticklabels=[],yticks=[],yticklabels=[])\n",
    "\n",
    "\n",
    "fig.subplots_adjust(right=0.9)\n",
    "cbar_ax = fig.add_axes([1., 0.15, 0.011, 0.7])\n",
    "cbar = fig.colorbar(im, cax=cbar_ax, orientation='vertical',fraction=0.046, pad=0.04)\n",
    "#fig.colorbar(im, cax=cbar_ax)\n",
    "\n",
    "fig.show()"
   ]
  },
  {
   "cell_type": "code",
   "execution_count": null,
   "metadata": {
    "execution": {
     "iopub.status.busy": "2024-07-26T21:28:44.527652Z",
     "iopub.status.idle": "2024-07-26T21:28:44.527871Z",
     "shell.execute_reply": "2024-07-26T21:28:44.527769Z",
     "shell.execute_reply.started": "2024-07-26T21:28:44.527758Z"
    },
    "tags": []
   },
   "outputs": [],
   "source": [
    "#accuracy_alignment[0,idx,ibs,ich] = np.mean(accuracy_fold_contra)\n",
    "#accuracy_alignment[1,idx,ibs,ich] = np.mean(accuracy_fold_ipsi)\n",
    "\n",
    "lateral_idx_bs = (accuracy_alignment[0,:,:,:] - accuracy_alignment[1,:,:,:])/(accuracy_alignment[0,:,:,:] + accuracy_alignment[1,:,:,:])\n",
    "lateral_idx = np.mean(lateral_idx_bs,axis=1)\n",
    "\n",
    "not_significant_diff = np.zeros((nalignment,nch),dtype=bool)\n",
    "for idx in range(nalignment):\n",
    "    for ich in range(nch):  \n",
    "        _, p = stats.ranksums(accuracy_alignment[0,idx,:,ich],accuracy_alignment[1,idx,:,ich])\n",
    "        not_significant_diff[idx,ich] = p > 0.01\n",
    "        \n",
    "print(lateral_idx.shape)\n",
    "m_lateral_idx = np.zeros(lateral_idx.shape)\n",
    "for ich in range(dist.shape[0]):\n",
    "    ave_idx = (dist[:,ich] <= 1.3)#0.75, 1.3\n",
    "    m_lateral_idx[:,ich] = np.nanmean(lateral_idx[:,ave_idx],axis=1)\n",
    "    \n",
    "fig,ax=plt.subplots(ncols=nalignment,figsize=(12,4),tight_layout=True)\n",
    "for idx in range(nalignment):\n",
    "    #m_lateral_idx[idx,not_significant_contra[idx,:]] = np.nan\n",
    "    m_lateral_idx[idx,not_significant_diff[idx,:]] = np.nan\n",
    "    da_map = aopy.visualization.get_data_map(m_lateral_idx[idx,:],xy[0],xy[1])\n",
    "    da_map[0,0],da_map[0,1],da_map[1,0],da_map[0,-1],da_map[0,-2],da_map[1,-1] = np.nan,np.nan,np.nan,np.nan,np.nan,np.nan\n",
    "    da_map[-1,0],da_map[-1,1],da_map[-2,0],da_map[-1,-1],da_map[-1,-2],da_map[-2,-1] = np.nan,np.nan,np.nan,np.nan,np.nan,np.nan\n",
    "    im = aopy.visualization.plot_spatial_map(da_map, xy[0], xy[1], ax=ax[idx], cmap='bwr')\n",
    "    im.norm.vmin = -np.nanmax(m_lateral_idx)\n",
    "    im.norm.vmax = np.nanmax(m_lateral_idx)\n",
    "    ax[idx].set(xlabel='',ylabel='',xticks=[],xticklabels=[],yticks=[],yticklabels=[])\n",
    "    \n",
    "fig.subplots_adjust(right=0.9)\n",
    "cbar_ax = fig.add_axes([1., 0.15, 0.011, 0.7])\n",
    "cbar = fig.colorbar(im, cax=cbar_ax, orientation='vertical',fraction=0.046, pad=0.04)"
   ]
  },
  {
   "cell_type": "markdown",
   "metadata": {},
   "source": [
    "# Calculate linear regression"
   ]
  },
  {
   "cell_type": "code",
   "execution_count": 7,
   "metadata": {
    "execution": {
     "iopub.execute_input": "2024-07-26T21:30:20.783051Z",
     "iopub.status.busy": "2024-07-26T21:30:20.781830Z",
     "iopub.status.idle": "2024-07-26T21:30:20.826078Z",
     "shell.execute_reply": "2024-07-26T21:30:20.825274Z",
     "shell.execute_reply.started": "2024-07-26T21:30:20.782995Z"
    },
    "tags": []
   },
   "outputs": [],
   "source": [
    "def calc_task_rel_dims(neural_data, kin_data, conc_proj_data=False, regularization=None, alpha=1):\n",
    "    '''\n",
    "    Calculates the task relevant dimensions by regressing neural activity against kinematic data using least squares.\n",
    "    If the input neural data is 3D, all trials will be concatenated to calculate the subspace. \n",
    "    Calculation is based on the approach used in Sun et al. 2022 https://doi.org/10.1038/s41586-021-04329-x\n",
    "    \n",
    "    .. math::\n",
    "    \n",
    "        R \\\\in \\\\mathbb{R}^{nt \\\\times nch}\n",
    "        M \\\\in \\\\mathbb{R}^{nt \\\\times nkin}\n",
    "        \\\\beta \\\\in \\\\mathbb{R}^{nch \\\\times nkin}\n",
    "        R = M\\\\beta^T\n",
    "        [\\\\beta_0 \\beta_x \\beta_y]^T = (M^T M)^{-1} M^T R\n",
    "\n",
    "    Args:\n",
    "        neural_data ((nt, nch) or list of (nt, nch)): Input neural data (:math:`R`) to regress against kinematic activity.\n",
    "        kin_data ((nt, ndim) or list of (nt, ndim)): Kinematic variables (:math:`M`), commonly position or instantaneous velocity. 'ndims' refers to the number of physical dimensions that define the kinematic data (i.e. X and Y)\n",
    "        conc_proj_data (bool): If the projected neural data should be concatenated.\n",
    "\n",
    "    Returns:\n",
    "        tuple: Tuple containing:\n",
    "            | **(nch, ndim):** Subspace (:math:`\\beta`) that best predicts kinematic variables. Note the first column represents the intercept, then the next dimensions represent the behvaioral variables\n",
    "            | **((nt, nch) or list of (nt, ndim)):** Neural data projected onto task relevant subspace\n",
    "\n",
    "    '''\n",
    "\n",
    "    # If a list of segments from trials, concatenate them into one larget timeseries\n",
    "    if type(neural_data) == list:\n",
    "        ntrials = len(neural_data)\n",
    "        min_time_per_trial = [np.min([len(neural_data[itrial]), len(kin_data[itrial])]) for itrial in range(ntrials)]\n",
    "        \n",
    "        conc_neural_data = np.vstack([neural_data[itrial][:min_time_per_trial[itrial]] for itrial in range(ntrials)]) #(nt, nch)\n",
    "        conc_kin_data_baseline = np.vstack([kin_data[itrial][:min_time_per_trial[itrial]] for itrial in range(ntrials)])\n",
    "        if conc_neural_data.shape[0] != conc_kin_data_baseline.shape[0]:\n",
    "            print(f\"Neural and kinematic data sizes are {np.abs(conc_neural_data.shape[0]-conc_kin_data_baseline.shape[0])} samples apart\")\n",
    "        \n",
    "        ntime = np.min([conc_neural_data.shape[0], conc_kin_data_baseline.shape[0]])\n",
    "        \n",
    "        # Set input neural data as a float\n",
    "        conc_neural_data = conc_neural_data.astype(float)[:ntime,:]\n",
    "\n",
    "        conc_kin_data = np.ones((ntime,kin_data[0].shape[1]+1))*np.nan\n",
    "        conc_kin_data[:,0] = 1\n",
    "        conc_kin_data[:,1:] = conc_kin_data_baseline\n",
    "\n",
    "        # Center neural data:\n",
    "        conc_neural_data -= np.nanmean(conc_neural_data, axis=0)\n",
    "\n",
    "        # Calculate task relevant subspace \n",
    "        # task_subspace = np.linalg.pinv(conc_kin_data.T @ conc_kin_data) @ conc_kin_data.T @ conc_neural_data\n",
    "        if regularization is None:        \n",
    "            # task_subspace = np.linalg.pinv(conc_neural_data.T @ conc_neural_data) @ conc_neural_data.T @ conc_kin_data\n",
    "            lin_reg_model = sklearn.linear_model.LinearRegression(fit_intercept=False).fit(conc_neural_data, conc_kin_data)\n",
    "            task_subspace = (lin_reg_model.coef_).T\n",
    "        elif regularization == 'lasso':\n",
    "            lasso_model = sklearn.linear_model.Lasso(alpha=alpha, max_iter=10000).fit(conc_neural_data, conc_kin_data)\n",
    "            task_subspace = (lasso_model.coef_).T\n",
    "        elif regularization == 'ridge':\n",
    "            ridge_model = sklearn.linear_model.Ridge(alpha=alpha, max_iter=10000).fit(conc_neural_data, conc_kin_data)\n",
    "            task_subspace = (ridge_model.coef_).T\n",
    "        elif regularization == 'elastic net':\n",
    "            elasticnet_model = sklearn.linear_model.ElasticNet(alpha=alpha, max_iter=10000).fit(conc_neural_data, conc_kin_data)\n",
    "            task_subspace = (elasticnet_model.coef_).T\n",
    "    \n",
    "    else:\n",
    "        # Save original neural data as a list\n",
    "        neural_data = [neural_data]\n",
    "        \n",
    "        # Set input neural data as a float\n",
    "        neural_data_centered = neural_data[0].astype(float)\n",
    "        \n",
    "        # Center neural data:\n",
    "        neural_data_centered -= np.nanmean(neural_data_centered, axis=0)\n",
    "        ntime = neural_data_centered.shape[0]\n",
    "        conc_kin_data = np.ones((ntime, kin_data.shape[1]+1))*np.nan\n",
    "        conc_kin_data[:,0] = 1\n",
    "        conc_kin_data[:,1:] = kin_data\n",
    "        \n",
    "        # Calculate task relevant subspace \n",
    "        if regularization is None:\n",
    "            task_subspace = np.linalg.pinv(neural_data_centered.T @ neural_data_centered) @ neural_data_centered.T @ conc_kin_data\n",
    "        elif regularization == 'lasso':\n",
    "            lasso_model = sklearn.linear_model.Lasso(alpha=alpha, max_iter=10000).fit(neural_data_centered, conc_kin_data)\n",
    "            task_subspace = (lasso_model.coef_).T\n",
    "        elif regularization == 'ridge':\n",
    "            ridge_model = sklearn.linear_model.Ridge(alpha=alpha, max_iter=10000).fit(neural_data_centered, conc_kin_data)\n",
    "            task_subspace = (ridge_model.coef_).T\n",
    "        elif regularization == 'elastic net':\n",
    "            elasticnet_model = sklearn.linear_model.ElasticNet(alpha=alpha, max_iter=10000).fit(neural_data_centered, conc_kin_data)\n",
    "            task_subspace = (elasticnet_model.coef_).T\n",
    "        ntrials = 1\n",
    "        \n",
    "    # Project neural data onto task subspace\n",
    "    projected_data = []\n",
    "    \n",
    "    for itrial in range(ntrials):\n",
    "        projected_data.append(neural_data[itrial] @ task_subspace)\n",
    "\n",
    "    if conc_proj_data:\n",
    "        return task_subspace, np.vstack(projected_data)\n",
    "    else:    \n",
    "        return task_subspace, projected_data\n",
    "    \n",
    "def xval_task_rel_dims(neural_data, kin_data, labels=None, regularization=None, nfolds=4, alpha=1, smooth_neural_data=True, tavg_neural_data=False, return_test_label_idx=False):\n",
    "    '''\n",
    "    '''    \n",
    "    test_pred_move = []\n",
    "    test_move = []\n",
    "    test_label_idx = []\n",
    "    scores = np.zeros((nfolds,2))*np.nan # Score for each fold and separately for x and y\n",
    "    if isinstance(neural_data, np.ndarray):\n",
    "        ntrials = neural_data.shape[1]\n",
    "        nunits = neural_data.shape[2]\n",
    "        nkindim = kin_data.shape[2]\n",
    "    else:\n",
    "        ntrials = len(neural_data)\n",
    "        nunits = neural_data[0].shape[1]\n",
    "        nkindim = kin_data[0].shape[1]\n",
    "    kf = sklearn.model_selection.KFold(n_splits=nfolds,shuffle=True,random_state=1)\n",
    "    \n",
    "    subspaces = np.zeros((nunits, nkindim, nfolds))*np.nan\n",
    "    \n",
    "    for ifold, (train_idx, test_idx) in enumerate(kf.split(np.ones((ntrials,ntrials)))):\n",
    "        if tavg_neural_data:\n",
    "            train_neural_data = avg_by_condition(neural_data[:,train_idx,:], labels[train_idx])\n",
    "            test_neural_data = np.mean(neural_data[:,test_idx,:], axis=0)\n",
    "            train_kin_data = avg_by_condition(kin_data[:,train_idx,:], labels[train_idx])\n",
    "            test_kin_data = np.mean(kin_data[:,test_idx,:], axis=0)\n",
    "            \n",
    "            # Center test neural data\n",
    "            # test_neural_data -= np.mean(test_neural_data, axis=1)[:,None]\n",
    "            test_neural_data -= np.mean(test_neural_data, axis=0)\n",
    "                                          \n",
    "        else:\n",
    "            # Train\n",
    "            train_neural_data = [smooth_timeseries_gaus(neural_data[itrain_idx], samplerate=100, width=250, nstd=3) for itrain_idx in train_idx]\n",
    "            test_neural_data = np.vstack([smooth_timeseries_gaus(neural_data[itest_idx], samplerate=100, width=250, nstd=3) for itest_idx in test_idx])\n",
    "            train_kin_data = [kin_data[itrain_idx] for itrain_idx in train_idx]\n",
    "            test_kin_data = [kin_data[itest_idx] for itest_idx in test_idx]\n",
    "\n",
    "            # Center test neural data\n",
    "            test_neural_data -= np.nanmean(test_neural_data, axis=0)\n",
    "            \n",
    "        # print(np.vstack(train_neural_data).shape, np.vstack(train_kin_data).shape)\n",
    "        train_subspace,_  = calc_task_rel_dims(train_neural_data, train_kin_data, conc_proj_data=False, regularization=regularization, alpha=alpha)\n",
    "    \n",
    "        # Test\n",
    "        pred_move = test_neural_data @ train_subspace\n",
    "        # pred_move = np.linalg.pinv(train_subspace) @ test_neural_data.T\n",
    "        \n",
    "        ntime = np.min([np.vstack(test_kin_data)[:,0].shape[0], pred_move.shape[0]])\n",
    "        # print(test_kin_data.shape, np.vstack(test_kin_data).shape)\n",
    "        # Score\n",
    "        scores[ifold,0] = sklearn.metrics.r2_score(np.vstack(test_kin_data)[:ntime,0], pred_move[:ntime,1]) # Score x component\n",
    "        scores[ifold,1] = sklearn.metrics.r2_score(np.vstack(test_kin_data)[:ntime,1], pred_move[:ntime,2]) # Score y component\n",
    "        \n",
    "        # Record results\n",
    "        if return_test_label_idx:\n",
    "            test_label_idx.append(labels[test_idx])\n",
    "        test_pred_move.append(pred_move)\n",
    "        if tavg_neural_data:\n",
    "            test_move.append(test_kin_data)\n",
    "        else:\n",
    "            test_move.append(np.vstack(test_kin_data))\n",
    "        subspaces[:,:,ifold] = train_subspace[:,1:] # first subspace is the intercept\n",
    "        \n",
    "        \n",
    "    if return_test_label_idx:\n",
    "        return scores, test_move, test_pred_move, subspaces, test_label_idx\n",
    "    else:\n",
    "        return scores, test_move, test_pred_move, subspaces\n",
    "    \n",
    "def get_cursor_leave_center_idx(data, target_radius):\n",
    "    '''\n",
    "    Compute the time when the cursor leaves the center target radius\n",
    "    \n",
    "    Args:\n",
    "        traj (ntrials list of (nt,2)): x,y trajectory data\n",
    "        target_radius (float): the radius of the center target\n",
    "        \n",
    "    Returns:\n",
    "        cursor_leave_center_time (ntrials list): the time when the cursor leaves the center target radius\n",
    "    '''\n",
    "    ntr = len(data)\n",
    "    cursor_leave_center_time = []\n",
    "    leave_idx = []\n",
    "    for itr in range(ntr):\n",
    "        dist = np.sqrt(data[itr][:,0]**2 + data[itr][:,1]**2)\n",
    "        leave_idx.append(np.where(dist>target_radius)[0][0])\n",
    "    \n",
    "    return leave_idx\n",
    "\n",
    "def avg_by_condition(data, cond_labels):\n",
    "    '''\n",
    "    args:\n",
    "        data (ntime, ntrials, nch)\n",
    "        labels (ntrials)\n",
    "        \n",
    "    returns\n",
    "        (ncond, nch)\n",
    "    '''\n",
    "    ntime, ntrials, nch = data.shape\n",
    "    unique_labels = np.unique(cond_labels)\n",
    "    avg_data = np.zeros((len(unique_labels), nch))*np.nan\n",
    "    for ilabel, label in enumerate(unique_labels):       \n",
    "        avg_data[ilabel,:] = np.mean(data[:,cond_labels==label,:],axis=(0,1))\n",
    "        \n",
    "    return avg_data"
   ]
  },
  {
   "cell_type": "code",
   "execution_count": 8,
   "metadata": {
    "execution": {
     "iopub.execute_input": "2024-07-26T21:30:21.163528Z",
     "iopub.status.busy": "2024-07-26T21:30:21.162240Z",
     "iopub.status.idle": "2024-07-26T21:30:21.169119Z",
     "shell.execute_reply": "2024-07-26T21:30:21.167804Z",
     "shell.execute_reply.started": "2024-07-26T21:30:21.163472Z"
    },
    "tags": []
   },
   "outputs": [],
   "source": [
    "# import pandas as pds\n",
    "# ecog_signal_path = \"/home/aolab/gdrive/Lab equipment/electrophysiology/210910_ecog_signal_path.xlsx\"\n",
    "# elec_to_pos = \"/home/aolab/gdrive/Lab equipment/electrophysiology/our signal path definitions/244ch_viventi_ecog_elec_to_pos.xlsx\"\n",
    "# ecog_signal_path_db = pds.read_excel(ecog_signal_path)\n",
    "# ecog_layout = pds.read_excel(elec_to_pos)\n",
    "# elec_channels = np.array(list(range(1,257)), dtype='int')\n",
    "# elec_pos, acq_ch, elecs = aopy.data.map_acq2pos(ecog_signal_path_db, ecog_layout, elec_channels)\n",
    "# elec_pos = elec_pos[good_ch]"
   ]
  },
  {
   "cell_type": "code",
   "execution_count": 9,
   "metadata": {
    "execution": {
     "iopub.execute_input": "2024-07-26T21:30:21.453664Z",
     "iopub.status.busy": "2024-07-26T21:30:21.452523Z",
     "iopub.status.idle": "2024-07-26T21:30:21.574541Z",
     "shell.execute_reply": "2024-07-26T21:30:21.573696Z",
     "shell.execute_reply.started": "2024-07-26T21:30:21.453610Z"
    },
    "tags": []
   },
   "outputs": [],
   "source": [
    "# Convert position trajectories into velocities\n",
    "cursor_traj_velo = [np.array([aopy.utils.derivative(np.arange(len(t))/FS, t[:,0]), aopy.utils.derivative(np.arange(len(t))/FS, t[:,1])]).T for t in cursor_traj]\n",
    "cursor_leave_idx = get_cursor_leave_center_idx(cursor_traj, metadata['target_radius'])\n",
    "npts = int((time_before + time_after)*FS)\n",
    "npts = 425\n",
    "cursor_traj_mov_on = np.array([cursor_traj_velo[itr][cursor_leave_idx[itr]:(cursor_leave_idx[itr]+npts)] for itr in range(ntr)])\n",
    "# cursor_traj_mov_on = np.array([cursor_traj[itr][cursor_leave_idx[itr]:(cursor_leave_idx[itr]+npts)] for itr in range(ntr)])"
   ]
  },
  {
   "cell_type": "markdown",
   "metadata": {},
   "source": [
    "## Calculate maps for broadband timeseries"
   ]
  },
  {
   "cell_type": "code",
   "execution_count": 10,
   "metadata": {
    "execution": {
     "iopub.execute_input": "2024-07-26T21:30:21.811354Z",
     "iopub.status.busy": "2024-07-26T21:30:21.810177Z",
     "iopub.status.idle": "2024-07-26T21:30:24.331477Z",
     "shell.execute_reply": "2024-07-26T21:30:24.330607Z",
     "shell.execute_reply.started": "2024-07-26T21:30:21.811298Z"
    },
    "tags": []
   },
   "outputs": [],
   "source": [
    "import sklearn\n",
    "scores, test_move, test_pred_move, subspaces, test_label_idx = xval_task_rel_dims(np.swapaxes(trial_align_data,0,1), np.swapaxes(cursor_traj_mov_on,0,1), labels=target_idx, regularization=None, nfolds=5, alpha=1, smooth_neural_data=False, tavg_neural_data=True, return_test_label_idx=True)"
   ]
  },
  {
   "cell_type": "code",
   "execution_count": 11,
   "metadata": {
    "execution": {
     "iopub.execute_input": "2024-07-26T21:30:24.333406Z",
     "iopub.status.busy": "2024-07-26T21:30:24.333032Z",
     "iopub.status.idle": "2024-07-26T21:30:24.339393Z",
     "shell.execute_reply": "2024-07-26T21:30:24.338624Z",
     "shell.execute_reply.started": "2024-07-26T21:30:24.333378Z"
    },
    "tags": []
   },
   "outputs": [
    {
     "name": "stdout",
     "output_type": "stream",
     "text": [
      "(233, 5)\n"
     ]
    }
   ],
   "source": [
    "print(subspaces[:,1,:].shape)\n",
    "trdx = np.mean(subspaces[:,0,:], axis=1)\n",
    "trdy = np.mean(subspaces[:,1,:], axis=1)\n",
    "# trd_all  = np.abs(trdx)+np.abs(trdy)\n",
    "trd_all  = np.sqrt(trdx**2+trdy**2)"
   ]
  },
  {
   "cell_type": "code",
   "execution_count": 12,
   "metadata": {
    "execution": {
     "iopub.execute_input": "2024-07-26T21:30:24.340873Z",
     "iopub.status.busy": "2024-07-26T21:30:24.340286Z",
     "iopub.status.idle": "2024-07-26T21:30:24.692517Z",
     "shell.execute_reply": "2024-07-26T21:30:24.691744Z",
     "shell.execute_reply.started": "2024-07-26T21:30:24.340845Z"
    },
    "tags": []
   },
   "outputs": [
    {
     "data": {
      "image/png": "[encoded data removed]",
      "text/plain": [
       "<Figure size 1200x300 with 6 Axes>"
      ]
     },
     "metadata": {},
     "output_type": "display_data"
    }
   ],
   "source": [
    "fig, ax = plt.subplots(1,3, figsize=(12,3))\n",
    "data_map = aopy.visualization.get_data_map(trd_all, elec_pos[:,0], elec_pos[:,1])\n",
    "im = aopy.visualization.plot_spatial_map(data_map, elec_pos[:,0], elec_pos[:,1], cmap='YlGnBu', ax=ax[0])\n",
    "# im.set_clim(-15, 10)\n",
    "cb = plt.colorbar(im)\n",
    "ax[0].set_title('Contribution to all')\n",
    "\n",
    "data_map = aopy.visualization.get_data_map(trdx, elec_pos[:,0], elec_pos[:,1])\n",
    "im = aopy.visualization.plot_spatial_map(data_map, elec_pos[:,0], elec_pos[:,1], cmap='YlGnBu', ax=ax[1])\n",
    "# im.set_clim(-15, 10)\n",
    "cb = plt.colorbar(im)\n",
    "ax[1].set_title('Contribution to X')\n",
    "\n",
    "data_map = aopy.visualization.get_data_map(trdy, elec_pos[:,0], elec_pos[:,1])\n",
    "im = aopy.visualization.plot_spatial_map(data_map, elec_pos[:,0], elec_pos[:,1], cmap='YlGnBu', ax=ax[2])\n",
    "# im.set_clim(-15, 10)\n",
    "cb = plt.colorbar(im)\n",
    "ax[2].set_title('Contribution to Y')\n",
    "\n",
    "fig.tight_layout()\n",
    "plt.suptitle('Broadband timeseries')\n",
    "plt.show()"
   ]
  },
  {
   "cell_type": "markdown",
   "metadata": {},
   "source": [
    "## Calculate maps for delta power"
   ]
  },
  {
   "cell_type": "code",
   "execution_count": 13,
   "metadata": {
    "execution": {
     "iopub.execute_input": "2024-07-26T21:30:24.693546Z",
     "iopub.status.busy": "2024-07-26T21:30:24.693405Z",
     "iopub.status.idle": "2024-07-26T21:30:24.697442Z",
     "shell.execute_reply": "2024-07-26T21:30:24.696629Z",
     "shell.execute_reply.started": "2024-07-26T21:30:24.693533Z"
    },
    "tags": []
   },
   "outputs": [],
   "source": [
    "# bands = [(0.1,4),(4,8),(8,14),(14,30),(30,80),(80,150)]\n",
    "# nband = len(bands)\n",
    "# band_name = ['delta','theta','alpha','beta','gamma','hgamma']"
   ]
  },
  {
   "cell_type": "code",
   "execution_count": 14,
   "metadata": {
    "execution": {
     "iopub.execute_input": "2024-07-26T21:30:25.870269Z",
     "iopub.status.busy": "2024-07-26T21:30:25.869124Z",
     "iopub.status.idle": "2024-07-26T21:30:25.880420Z",
     "shell.execute_reply": "2024-07-26T21:30:25.878987Z",
     "shell.execute_reply.started": "2024-07-26T21:30:25.870214Z"
    },
    "tags": []
   },
   "outputs": [
    {
     "name": "stdout",
     "output_type": "stream",
     "text": [
      "126 170 0.26 0.7000000000000002\n"
     ]
    }
   ],
   "source": [
    "offset = .25\n",
    "start_idx = np.where(t_spec>offset)[0][0]\n",
    "stop_idx = np.where(t_spec>(offset+time_after))[0][0]\n",
    "print(start_idx, stop_idx, t_spec[start_idx], t_spec[stop_idx])\n",
    "deltapower = np.swapaxes(spec_band[:,0,start_idx:stop_idx,:], 0,1)"
   ]
  },
  {
   "cell_type": "code",
   "execution_count": 15,
   "metadata": {
    "execution": {
     "iopub.execute_input": "2024-07-26T21:30:26.127174Z",
     "iopub.status.busy": "2024-07-26T21:30:26.126018Z",
     "iopub.status.idle": "2024-07-26T21:30:26.447929Z",
     "shell.execute_reply": "2024-07-26T21:30:26.447276Z",
     "shell.execute_reply.started": "2024-07-26T21:30:26.127120Z"
    },
    "tags": []
   },
   "outputs": [],
   "source": [
    "import sklearn\n",
    "scores, test_move, test_pred_move, delta_subspaces, test_label_idx = xval_task_rel_dims(deltapower, np.swapaxes(cursor_traj_mov_on,0,1), labels=target_idx, regularization=None, nfolds=5, alpha=1, smooth_neural_data=False, tavg_neural_data=True, return_test_label_idx=True)"
   ]
  },
  {
   "cell_type": "code",
   "execution_count": 16,
   "metadata": {
    "execution": {
     "iopub.execute_input": "2024-07-26T21:30:26.449788Z",
     "iopub.status.busy": "2024-07-26T21:30:26.449340Z",
     "iopub.status.idle": "2024-07-26T21:30:26.796096Z",
     "shell.execute_reply": "2024-07-26T21:30:26.794950Z",
     "shell.execute_reply.started": "2024-07-26T21:30:26.449763Z"
    },
    "tags": []
   },
   "outputs": [
    {
     "name": "stdout",
     "output_type": "stream",
     "text": [
      "(233, 5)\n"
     ]
    },
    {
     "data": {
      "image/png": "[encoded data removed]",
      "text/plain": [
       "<Figure size 1200x300 with 6 Axes>"
      ]
     },
     "metadata": {},
     "output_type": "display_data"
    }
   ],
   "source": [
    "print(subspaces[:,1,:].shape)\n",
    "trdx = np.mean(delta_subspaces[:,0,:], axis=1)\n",
    "trdy = np.mean(delta_subspaces[:,1,:], axis=1)\n",
    "# trd_all  = np.abs(trdx)+np.abs(trdy)\n",
    "trd_all  = np.sqrt(trdx**2+trdy**2)\n",
    "\n",
    "fig, ax = plt.subplots(1,3, figsize=(12,3))\n",
    "data_map = aopy.visualization.get_data_map(trd_all, elec_pos[:,0], elec_pos[:,1])\n",
    "im = aopy.visualization.plot_spatial_map(data_map, elec_pos[:,0], elec_pos[:,1], cmap='YlGnBu', ax=ax[0])\n",
    "# im.set_clim(-15, 10)\n",
    "cb = plt.colorbar(im)\n",
    "ax[0].set_title('Contribution to all')\n",
    "\n",
    "data_map = aopy.visualization.get_data_map(trdx, elec_pos[:,0], elec_pos[:,1])\n",
    "im = aopy.visualization.plot_spatial_map(data_map, elec_pos[:,0], elec_pos[:,1], cmap='YlGnBu', ax=ax[1])\n",
    "im.set_clim(-np.max(np.abs([trdx, trdy])), np.max(np.abs([trdx, trdy])))\n",
    "cb = plt.colorbar(im)\n",
    "ax[1].set_title('Contribution to X')\n",
    "\n",
    "data_map = aopy.visualization.get_data_map(trdy, elec_pos[:,0], elec_pos[:,1])\n",
    "im = aopy.visualization.plot_spatial_map(data_map, elec_pos[:,0], elec_pos[:,1], cmap='YlGnBu', ax=ax[2])\n",
    "im.set_clim(-np.max(np.abs([trdx, trdy])), np.max(np.abs([trdx, trdy])))\n",
    "cb = plt.colorbar(im)\n",
    "ax[2].set_title('Contribution to Y')\n",
    "\n",
    "plt.suptitle('Delta power')\n",
    "fig.tight_layout()\n",
    "plt.show()"
   ]
  },
  {
   "cell_type": "markdown",
   "metadata": {},
   "source": [
    "## Calculate maps for beta power"
   ]
  },
  {
   "cell_type": "code",
   "execution_count": 17,
   "metadata": {
    "execution": {
     "iopub.execute_input": "2024-07-26T21:30:26.797171Z",
     "iopub.status.busy": "2024-07-26T21:30:26.797024Z",
     "iopub.status.idle": "2024-07-26T21:30:26.984326Z",
     "shell.execute_reply": "2024-07-26T21:30:26.983114Z",
     "shell.execute_reply.started": "2024-07-26T21:30:26.797157Z"
    },
    "tags": []
   },
   "outputs": [
    {
     "name": "stdout",
     "output_type": "stream",
     "text": [
      "126 170 0.26 0.7000000000000002\n"
     ]
    }
   ],
   "source": [
    "offset = .25\n",
    "start_idx = np.where(t_spec>offset)[0][0]\n",
    "stop_idx = np.where(t_spec>(offset+time_after))[0][0]\n",
    "print(start_idx, stop_idx, t_spec[start_idx], t_spec[stop_idx])\n",
    "betapower = np.swapaxes(spec_band[:,4,start_idx:stop_idx,:], 0,1)\n",
    "\n",
    "import sklearn\n",
    "scores, test_move, test_pred_move, beta_subspaces, test_label_idx = xval_task_rel_dims(betapower, np.swapaxes(cursor_traj_mov_on,0,1), labels=target_idx, regularization='ridge', nfolds=5, alpha=1, smooth_neural_data=False, tavg_neural_data=True, return_test_label_idx=True)"
   ]
  },
  {
   "cell_type": "code",
   "execution_count": 18,
   "metadata": {
    "execution": {
     "iopub.execute_input": "2024-07-26T21:30:26.985455Z",
     "iopub.status.busy": "2024-07-26T21:30:26.985298Z",
     "iopub.status.idle": "2024-07-26T21:30:27.412247Z",
     "shell.execute_reply": "2024-07-26T21:30:27.411100Z",
     "shell.execute_reply.started": "2024-07-26T21:30:26.985441Z"
    },
    "tags": []
   },
   "outputs": [
    {
     "name": "stdout",
     "output_type": "stream",
     "text": [
      "(233, 5)\n"
     ]
    },
    {
     "data": {
      "image/png": "[encoded data removed]",
      "text/plain": [
       "<Figure size 1200x300 with 6 Axes>"
      ]
     },
     "metadata": {},
     "output_type": "display_data"
    }
   ],
   "source": [
    "print(subspaces[:,1,:].shape)\n",
    "trdx = np.mean(beta_subspaces[:,0,:], axis=1)\n",
    "trdy = np.mean(beta_subspaces[:,1,:], axis=1)\n",
    "# trd_all  = np.abs(trdx)+np.abs(trdy)\n",
    "trd_all  = np.sqrt(trdx**2+trdy**2)\n",
    "\n",
    "fig, ax = plt.subplots(1,3, figsize=(12,3))\n",
    "data_map = aopy.visualization.get_data_map(trd_all, elec_pos[:,0], elec_pos[:,1])\n",
    "im = aopy.visualization.plot_spatial_map(data_map, elec_pos[:,0], elec_pos[:,1], cmap='YlGnBu', ax=ax[0])\n",
    "# im.set_clim(-15, 10)\n",
    "cb = plt.colorbar(im)\n",
    "ax[0].set_title('Contribution to all')\n",
    "\n",
    "data_map = aopy.visualization.get_data_map(trdx, elec_pos[:,0], elec_pos[:,1])\n",
    "im = aopy.visualization.plot_spatial_map(data_map, elec_pos[:,0], elec_pos[:,1], cmap='YlGnBu', ax=ax[1])\n",
    "im.set_clim(-np.max(np.abs([trdx, trdy])), np.max(np.abs([trdx, trdy])))\n",
    "cb = plt.colorbar(im)\n",
    "ax[1].set_title('Contribution to X')\n",
    "\n",
    "data_map = aopy.visualization.get_data_map(trdy, elec_pos[:,0], elec_pos[:,1])\n",
    "im = aopy.visualization.plot_spatial_map(data_map, elec_pos[:,0], elec_pos[:,1], cmap='YlGnBu', ax=ax[2])\n",
    "im.set_clim(-np.max(np.abs([trdx, trdy])), np.max(np.abs([trdx, trdy])))\n",
    "cb = plt.colorbar(im)\n",
    "ax[2].set_title('Contribution to Y')\n",
    "\n",
    "plt.suptitle('Beta power')\n",
    "fig.tight_layout()\n",
    "plt.show()"
   ]
  },
  {
   "cell_type": "code",
   "execution_count": null,
   "metadata": {},
   "outputs": [],
   "source": []
  },
  {
   "cell_type": "markdown",
   "metadata": {},
   "source": [
    "## Calculate maps for low-gamma power"
   ]
  },
  {
   "cell_type": "code",
   "execution_count": 19,
   "metadata": {
    "execution": {
     "iopub.execute_input": "2024-07-26T21:30:27.554292Z",
     "iopub.status.busy": "2024-07-26T21:30:27.553073Z",
     "iopub.status.idle": "2024-07-26T21:30:27.879667Z",
     "shell.execute_reply": "2024-07-26T21:30:27.878355Z",
     "shell.execute_reply.started": "2024-07-26T21:30:27.554236Z"
    },
    "tags": []
   },
   "outputs": [
    {
     "name": "stdout",
     "output_type": "stream",
     "text": [
      "126 170 0.26 0.7000000000000002\n"
     ]
    }
   ],
   "source": [
    "offset = .25\n",
    "start_idx = np.where(t_spec>offset)[0][0]\n",
    "stop_idx = np.where(t_spec>(offset+time_after))[0][0]\n",
    "print(start_idx, stop_idx, t_spec[start_idx], t_spec[stop_idx])\n",
    "gammapower = np.swapaxes(spec_band[:,5,start_idx:stop_idx,:], 0,1)\n",
    "\n",
    "import sklearn\n",
    "scores, test_move, test_pred_move, gamma_subspaces, test_label_idx = xval_task_rel_dims(gammapower, np.swapaxes(cursor_traj_mov_on,0,1), labels=target_idx, regularization=None, nfolds=5, alpha=1, smooth_neural_data=False, tavg_neural_data=True, return_test_label_idx=True)"
   ]
  },
  {
   "cell_type": "code",
   "execution_count": 20,
   "metadata": {
    "execution": {
     "iopub.execute_input": "2024-07-26T21:30:27.881453Z",
     "iopub.status.busy": "2024-07-26T21:30:27.881030Z",
     "iopub.status.idle": "2024-07-26T21:30:28.227466Z",
     "shell.execute_reply": "2024-07-26T21:30:28.226343Z",
     "shell.execute_reply.started": "2024-07-26T21:30:27.881428Z"
    },
    "tags": []
   },
   "outputs": [
    {
     "name": "stdout",
     "output_type": "stream",
     "text": [
      "(233, 5)\n"
     ]
    },
    {
     "data": {
      "image/png": "[encoded data removed]",
      "text/plain": [
       "<Figure size 1200x300 with 6 Axes>"
      ]
     },
     "metadata": {},
     "output_type": "display_data"
    }
   ],
   "source": [
    "print(subspaces[:,1,:].shape)\n",
    "trdx = np.mean(gamma_subspaces[:,0,:], axis=1)\n",
    "trdy = np.mean(gamma_subspaces[:,1,:], axis=1)\n",
    "# trd_all  = np.abs(trdx)+np.abs(trdy)\n",
    "trd_all  = np.sqrt(trdx**2+trdy**2)\n",
    "\n",
    "fig, ax = plt.subplots(1,3, figsize=(12,3))\n",
    "data_map = aopy.visualization.get_data_map(trd_all, elec_pos[:,0], elec_pos[:,1])\n",
    "im = aopy.visualization.plot_spatial_map(data_map, elec_pos[:,0], elec_pos[:,1], cmap='YlGnBu', ax=ax[0])\n",
    "# im.set_clim(-15, 10)\n",
    "cb = plt.colorbar(im)\n",
    "ax[0].set_title('Contribution to all')\n",
    "\n",
    "data_map = aopy.visualization.get_data_map(trdx, elec_pos[:,0], elec_pos[:,1])\n",
    "im = aopy.visualization.plot_spatial_map(data_map, elec_pos[:,0], elec_pos[:,1], cmap='YlGnBu', ax=ax[1])\n",
    "im.set_clim(-np.max(np.abs([trdx, trdy])), np.max(np.abs([trdx, trdy])))\n",
    "cb = plt.colorbar(im)\n",
    "ax[1].set_title('Contribution to X')\n",
    "\n",
    "data_map = aopy.visualization.get_data_map(trdy, elec_pos[:,0], elec_pos[:,1])\n",
    "im = aopy.visualization.plot_spatial_map(data_map, elec_pos[:,0], elec_pos[:,1], cmap='YlGnBu', ax=ax[2])\n",
    "im.set_clim(-np.max(np.abs([trdx, trdy])), np.max(np.abs([trdx, trdy])))\n",
    "cb = plt.colorbar(im)\n",
    "ax[2].set_title('Contribution to Y')\n",
    "\n",
    "plt.suptitle('Gamma power')\n",
    "fig.tight_layout()\n",
    "plt.show()"
   ]
  },
  {
   "cell_type": "markdown",
   "metadata": {},
   "source": [
    "## Calculate maps for high-gamma power"
   ]
  },
  {
   "cell_type": "code",
   "execution_count": 21,
   "metadata": {
    "execution": {
     "iopub.execute_input": "2024-07-26T21:30:28.228616Z",
     "iopub.status.busy": "2024-07-26T21:30:28.228465Z",
     "iopub.status.idle": "2024-07-26T21:30:28.235807Z",
     "shell.execute_reply": "2024-07-26T21:30:28.234663Z",
     "shell.execute_reply.started": "2024-07-26T21:30:28.228602Z"
    },
    "tags": []
   },
   "outputs": [
    {
     "name": "stdout",
     "output_type": "stream",
     "text": [
      "126 170 0.26 0.7000000000000002\n",
      "(44, 1078, 233)\n",
      "(1078, 425, 2)\n"
     ]
    }
   ],
   "source": [
    "offset = .25\n",
    "start_idx = np.where(t_spec>(time_before+offset))[0][0]\n",
    "stop_idx = np.where(t_spec>(offset+time_after))[0][0]\n",
    "print(start_idx, stop_idx, t_spec[start_idx], t_spec[stop_idx])\n",
    "hgpower = np.swapaxes(spec_band[:,5,start_idx:stop_idx,:], 0,1)\n",
    "print(hgpower.shape)\n",
    "print(cursor_traj_mov_on.shape)"
   ]
  },
  {
   "cell_type": "code",
   "execution_count": 22,
   "metadata": {
    "execution": {
     "iopub.execute_input": "2024-07-26T21:30:28.287866Z",
     "iopub.status.busy": "2024-07-26T21:30:28.286443Z",
     "iopub.status.idle": "2024-07-26T21:30:28.547814Z",
     "shell.execute_reply": "2024-07-26T21:30:28.547006Z",
     "shell.execute_reply.started": "2024-07-26T21:30:28.287813Z"
    },
    "tags": []
   },
   "outputs": [],
   "source": [
    "import sklearn\n",
    "# scores, test_move, test_pred_move, hg_subspaces, test_label_idx = xval_task_rel_dims(hgpower[:,:798,:], np.swapaxes(cursor_traj_mov_on,0,1)[:,:798,:], labels=target_idx[:798], regularization=None, nfolds=4, alpha=.1, smooth_neural_data=False, tavg_neural_data=True, return_test_label_idx=True)\n",
    "scores, test_move, test_pred_move, hg_subspaces, test_label_idx = xval_task_rel_dims(hgpower, np.swapaxes(cursor_traj_mov_on,0,1), labels=target_idx, regularization=None, nfolds=4, alpha=.0000000001, smooth_neural_data=False, tavg_neural_data=True, return_test_label_idx=True)"
   ]
  },
  {
   "cell_type": "code",
   "execution_count": 23,
   "metadata": {
    "execution": {
     "iopub.execute_input": "2024-07-26T21:30:33.611826Z",
     "iopub.status.busy": "2024-07-26T21:30:33.610473Z",
     "iopub.status.idle": "2024-07-26T21:30:34.041436Z",
     "shell.execute_reply": "2024-07-26T21:30:34.040235Z",
     "shell.execute_reply.started": "2024-07-26T21:30:33.611767Z"
    },
    "tags": []
   },
   "outputs": [
    {
     "name": "stdout",
     "output_type": "stream",
     "text": [
      "(233, 5)\n"
     ]
    },
    {
     "data": {
      "image/png": "[encoded data removed]",
      "text/plain": [
       "<Figure size 1200x300 with 6 Axes>"
      ]
     },
     "metadata": {},
     "output_type": "display_data"
    }
   ],
   "source": [
    "print(subspaces[:,1,:].shape)\n",
    "trdx = np.mean(hg_subspaces[:,0,:], axis=1)\n",
    "trdy = np.mean(hg_subspaces[:,1,:], axis=1)\n",
    "# trd_all  = np.abs(trdx)+np.abs(trdy)\n",
    "trd_all  = np.sqrt(trdx**2+trdy**2)\n",
    "# trd_all = np.abs(trdx - trdy)\n",
    "\n",
    "fig, ax = plt.subplots(1,3, figsize=(12,3))\n",
    "data_map = aopy.visualization.get_data_map(trd_all/np.max(trd_all), elec_pos[:,0], elec_pos[:,1])\n",
    "im = aopy.visualization.plot_spatial_map(data_map, elec_pos[:,0], elec_pos[:,1], cmap='YlGnBu', ax=ax[0])\n",
    "# im.set_clim(, 10)\n",
    "cb = plt.colorbar(im)\n",
    "ax[0].set_title('Contribution to all')\n",
    "\n",
    "data_map = aopy.visualization.get_data_map(trdx, elec_pos[:,0], elec_pos[:,1])\n",
    "im = aopy.visualization.plot_spatial_map(data_map, elec_pos[:,0], elec_pos[:,1], cmap='YlGnBu', ax=ax[1])\n",
    "im.set_clim(-np.max(np.abs([trdx, trdy])), np.max(np.abs([trdx, trdy])))\n",
    "cb = plt.colorbar(im)\n",
    "ax[1].set_title('Contribution to X')\n",
    "\n",
    "data_map = aopy.visualization.get_data_map(trdy, elec_pos[:,0], elec_pos[:,1])\n",
    "im = aopy.visualization.plot_spatial_map(data_map, elec_pos[:,0], elec_pos[:,1], cmap='YlGnBu', ax=ax[2])\n",
    "im.set_clim(-np.max(np.abs([trdx, trdy])), np.max(np.abs([trdx, trdy])))\n",
    "cb = plt.colorbar(im)\n",
    "ax[2].set_title('Contribution to Y')\n",
    "\n",
    "plt.suptitle('High Gamma Power')\n",
    "fig.tight_layout()\n",
    "plt.show()"
   ]
  },
  {
   "cell_type": "code",
   "execution_count": 24,
   "metadata": {
    "execution": {
     "iopub.execute_input": "2024-07-26T21:31:39.293255Z",
     "iopub.status.busy": "2024-07-26T21:31:39.291951Z",
     "iopub.status.idle": "2024-07-26T21:31:39.301979Z",
     "shell.execute_reply": "2024-07-26T21:31:39.300330Z",
     "shell.execute_reply.started": "2024-07-26T21:31:39.293197Z"
    },
    "tags": []
   },
   "outputs": [
    {
     "name": "stdout",
     "output_type": "stream",
     "text": [
      "(233,)\n",
      "(233, 2)\n",
      "movement\n"
     ]
    }
   ],
   "source": [
    "print(trd_all.shape)\n",
    "print(elec_pos.shape)\n",
    "print(flag)\n",
    "# print(f'/media/moor-data/results/Ryan/neuropixel_targeting/ecog_decoding_maps/{subject}_{flag}_LinRegAll_{band_name[band_idx]}')"
   ]
  },
  {
   "cell_type": "code",
   "execution_count": 25,
   "metadata": {
    "execution": {
     "iopub.execute_input": "2024-07-26T21:31:39.840823Z",
     "iopub.status.busy": "2024-07-26T21:31:39.839593Z",
     "iopub.status.idle": "2024-07-26T21:31:39.860859Z",
     "shell.execute_reply": "2024-07-26T21:31:39.859668Z",
     "shell.execute_reply.started": "2024-07-26T21:31:39.840766Z"
    },
    "tags": []
   },
   "outputs": [],
   "source": [
    "# Save\n",
    "band_idx=5\n",
    "np.savez(f'/media/moor-data/results/Ryan/neuropixel_targeting/ecog_decoding_maps/{subject}_{flag}_LinRegAll_{band_name[band_idx]}', da=trd_all, elec_pos=elec_pos)\n",
    "np.savez(f'/media/moor-data/results/Ryan/neuropixel_targeting/ecog_decoding_maps/{subject}_{flag}_LinRegX_{band_name[band_idx]}', da=trdx, elec_pos=elec_pos)\n",
    "np.savez(f'/media/moor-data/results/Ryan/neuropixel_targeting/ecog_decoding_maps/{subject}_{flag}_LinRegY_{band_name[band_idx]}', da=trdy, elec_pos=elec_pos)"
   ]
  },
  {
   "cell_type": "markdown",
   "metadata": {},
   "source": [
    "## Calculate maps for spike-band power"
   ]
  },
  {
   "cell_type": "code",
   "execution_count": null,
   "metadata": {
    "execution": {
     "iopub.status.busy": "2024-07-26T21:26:05.341452Z",
     "iopub.status.idle": "2024-07-26T21:26:05.341615Z",
     "shell.execute_reply": "2024-07-26T21:26:05.341541Z",
     "shell.execute_reply.started": "2024-07-26T21:26:05.341532Z"
    },
    "tags": []
   },
   "outputs": [],
   "source": [
    "# offset = .25\n",
    "# start_idx = np.where(t_spec>offset)[0][0]\n",
    "# stop_idx = np.where(t_spec>(offset+time_after))[0][0]\n",
    "# print(start_idx, stop_idx, t_spec[start_idx], t_spec[stop_idx])\n",
    "# hgpower = np.swapaxes(spec_band[:,5,start_idx:stop_idx,:], 0,1)\n",
    "# print(hgpower.shape)"
   ]
  },
  {
   "cell_type": "code",
   "execution_count": null,
   "metadata": {},
   "outputs": [],
   "source": []
  },
  {
   "cell_type": "code",
   "execution_count": null,
   "metadata": {},
   "outputs": [],
   "source": []
  },
  {
   "cell_type": "code",
   "execution_count": null,
   "metadata": {},
   "outputs": [],
   "source": []
  },
  {
   "cell_type": "code",
   "execution_count": null,
   "metadata": {},
   "outputs": [],
   "source": []
  },
  {
   "cell_type": "code",
   "execution_count": null,
   "metadata": {},
   "outputs": [],
   "source": []
  },
  {
   "cell_type": "code",
   "execution_count": null,
   "metadata": {},
   "outputs": [],
   "source": []
  },
  {
   "cell_type": "code",
   "execution_count": null,
   "metadata": {},
   "outputs": [],
   "source": []
  },
  {
   "cell_type": "code",
   "execution_count": null,
   "metadata": {},
   "outputs": [],
   "source": []
  },
  {
   "cell_type": "code",
   "execution_count": null,
   "metadata": {},
   "outputs": [],
   "source": []
  }
 ],
 "metadata": {
  "kernelspec": {
   "display_name": "Python [conda env:np_targeting]",
   "language": "python",
   "name": "conda-env-np_targeting-py"
  },
  "language_info": {
   "codemirror_mode": {
    "name": "ipython",
    "version": 3
   },
   "file_extension": ".py",
   "mimetype": "text/x-python",
   "name": "python",
   "nbconvert_exporter": "python",
   "pygments_lexer": "ipython3",
   "version": "3.9.18"
  }
 },
 "nbformat": 4,
 "nbformat_minor": 4
}
