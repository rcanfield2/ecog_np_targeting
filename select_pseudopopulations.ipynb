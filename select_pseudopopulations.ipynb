{
 "cells": [
  {
   "cell_type": "code",
   "execution_count": 1,
   "id": "5d446e86-44e7-4d8a-8212-5a22da47136f",
   "metadata": {
    "execution": {
     "iopub.execute_input": "2025-01-31T00:03:52.219938Z",
     "iopub.status.busy": "2025-01-31T00:03:52.219471Z",
     "iopub.status.idle": "2025-01-31T00:03:52.244408Z",
     "shell.execute_reply": "2025-01-31T00:03:52.243143Z",
     "shell.execute_reply.started": "2025-01-31T00:03:52.219885Z"
    },
    "tags": []
   },
   "outputs": [],
   "source": [
    "def load_hdf_group(data_dir, hdf_filename, group=\"/\"):\n",
    "    '''\n",
    "    Loads any datasets from the given hdf group into a dictionary. Also will\n",
    "    recursively load other groups if any exist under the given group\n",
    "\n",
    "    Args:\n",
    "        data_dir (str): folder where data is located\n",
    "        hdf_filename (str): name of hdf file\n",
    "        group (str): name of the group to load\n",
    "    \n",
    "    Returns:\n",
    "        dict: all the datasets contained in the given group\n",
    "    '''\n",
    "    full_file_name = os.path.join(data_dir, hdf_filename)\n",
    "    hdf = h5py.File(full_file_name, 'r')\n",
    "    if group not in hdf:\n",
    "        raise ValueError('No such group in file {}'.format(hdf_filename))\n",
    "\n",
    "    # Recursively load groups until datasets are reached\n",
    "    def _load_hdf_group(hdf):\n",
    "        keys = hdf.keys()\n",
    "        data = dict()\n",
    "        for k in keys:\n",
    "            if isinstance(hdf[k], h5py.Group):\n",
    "                data[k] = _load_hdf_group(hdf[k])\n",
    "            else:\n",
    "                k_, v = _load_hdf_dataset(hdf[k], k)\n",
    "                data[k_] = v\n",
    "        return data\n",
    "\n",
    "    data = _load_hdf_group(hdf[group])\n",
    "    hdf.close()\n",
    "    return data\n",
    "\n",
    "def _load_hdf_dataset(dataset, name):\n",
    "    '''\n",
    "    Internal function for loading hdf datasets. Decodes json and unicode data automatically.\n",
    "\n",
    "    Args:\n",
    "        dataset (hdf object): dataset to load\n",
    "        name (str): name of the dataset\n",
    "\n",
    "    Returns:\n",
    "        tuple: Tuple containing:\n",
    "            | **name (str):** name of the dataset (might be modified)\n",
    "            | **data (object):** loaded data\n",
    "    '''\n",
    "    data = dataset[()]\n",
    "    if '_json' in name:\n",
    "        import json\n",
    "        name = name.replace('_json', '')\n",
    "        data = json.loads(data)\n",
    "    try:\n",
    "        data = data.decode('utf-8')\n",
    "    except:\n",
    "        pass\n",
    "    return name, data"
   ]
  },
  {
   "cell_type": "code",
   "execution_count": 2,
   "id": "5802cedd-b3cd-4c74-b71e-a49db1d6c29d",
   "metadata": {
    "execution": {
     "iopub.execute_input": "2025-01-31T00:03:52.247006Z",
     "iopub.status.busy": "2025-01-31T00:03:52.246715Z",
     "iopub.status.idle": "2025-01-31T00:03:55.894762Z",
     "shell.execute_reply": "2025-01-31T00:03:55.892766Z",
     "shell.execute_reply.started": "2025-01-31T00:03:52.246978Z"
    },
    "tags": []
   },
   "outputs": [
    {
     "name": "stderr",
     "output_type": "stream",
     "text": [
      "/home/aolab/miniconda3/envs/np_targeting/lib/python3.9/site-packages/one/alf/files.py:10: FutureWarning: `one.alf.files` will be removed in version 3.0. Use `one.alf.path` instead.\n",
      "  warnings.warn(\n"
     ]
    }
   ],
   "source": [
    "import numpy as np\n",
    "import matplotlib.pyplot as plt\n",
    "import aopy\n",
    "import os\n",
    "import pandas as pds\n",
    "from db import dbfunctions as db\n",
    "from ipywidgets import interactive, widgets\n",
    "import scipy\n",
    "import h5py\n",
    "from tqdm.auto import tqdm \n",
    "import seaborn as sn\n",
    "import sklearn\n",
    "from sklearn.decomposition import PCA, FactorAnalysis\n",
    "from itertools import compress\n",
    "import multiprocessing as mp\n",
    "import time\n",
    "import math\n",
    "from scipy.fft import fft\n",
    "import glob\n",
    "from datetime import date"
   ]
  },
  {
   "cell_type": "markdown",
   "id": "5f1b1345-3532-4c0a-be1b-9895db46adda",
   "metadata": {},
   "source": [
    "# Set parameters"
   ]
  },
  {
   "cell_type": "code",
   "execution_count": 3,
   "id": "fd6e7969-b9c3-4121-8594-a6646a7497f9",
   "metadata": {
    "execution": {
     "iopub.execute_input": "2025-01-31T00:03:55.899910Z",
     "iopub.status.busy": "2025-01-31T00:03:55.899600Z",
     "iopub.status.idle": "2025-01-31T00:03:55.906326Z",
     "shell.execute_reply": "2025-01-31T00:03:55.905064Z",
     "shell.execute_reply.started": "2025-01-31T00:03:55.899879Z"
    },
    "tags": []
   },
   "outputs": [],
   "source": [
    "save_figs = False\n",
    "base_save_dir = \"/media/moor-data/results/Ryan/neuropixel_targeting/\"\n",
    "np_preproc_data_folder = 'np_analysis_preproc_data'\n",
    "ecog_dec_acc_file_name = 'ecog_decoding_maps/npinsert_ecog_decoding'\n",
    "\n",
    "subject = 'affi'\n",
    "align_events = ['TARGET ONSET', 'GO CUE', 'MOVEMENT ONSET']"
   ]
  },
  {
   "cell_type": "code",
   "execution_count": 4,
   "id": "cd692701-dc60-4b11-a361-5a93fc22ada2",
   "metadata": {
    "execution": {
     "iopub.execute_input": "2025-01-31T00:03:55.907236Z",
     "iopub.status.busy": "2025-01-31T00:03:55.906935Z",
     "iopub.status.idle": "2025-01-31T00:03:55.915125Z",
     "shell.execute_reply": "2025-01-31T00:03:55.913832Z",
     "shell.execute_reply.started": "2025-01-31T00:03:55.907205Z"
    },
    "tags": []
   },
   "outputs": [],
   "source": [
    "# Decoding calculation parameters\n",
    "tbefore = 0.5\n",
    "tafter = 1\n",
    "nlda_lags = 1\n",
    "niter_match = 50\n",
    "min_trial_prop = .85\n",
    "ntrial_bin_size = 96\n",
    "nfolds = 4\n",
    "\n",
    "# Visualization parameters\n",
    "colors = sn.color_palette(n_colors=9)\n",
    "recording_brain_areas={'M1': [30, 56, 47, 40, 121, 48, 120, 98], 'PM':[11, 9, 18, 22, 10, 45]}\n",
    "day_colors = ['dodgerblue', 'indigo', 'violet', 'lightblue', 'mediumorchid',\n",
    "              'purple', 'steelblue', 'dodgerblue', 'lightblue', 'red', 'black', 'green', 'purple', 'cyan', 'gray', 'yellow'] \n",
    "\n",
    "save_dir = \"/media/moor-data/results/Ryan/neuropixel_targeting/np_analysis_preproc_data\""
   ]
  },
  {
   "cell_type": "markdown",
   "id": "00433fce-e97d-46aa-b9c7-c2d30cd2998a",
   "metadata": {},
   "source": [
    "# Load and extract relevant data"
   ]
  },
  {
   "cell_type": "code",
   "execution_count": 5,
   "id": "e4381962-bc14-4232-8991-643780d7c1db",
   "metadata": {
    "execution": {
     "iopub.execute_input": "2025-01-31T00:03:55.916435Z",
     "iopub.status.busy": "2025-01-31T00:03:55.916128Z",
     "iopub.status.idle": "2025-01-31T00:10:54.436570Z",
     "shell.execute_reply": "2025-01-31T00:10:54.435184Z",
     "shell.execute_reply.started": "2025-01-31T00:03:55.916406Z"
    },
    "tags": []
   },
   "outputs": [
    {
     "name": "stdout",
     "output_type": "stream",
     "text": [
      "7.0 min to load preprocessed data\n"
     ]
    }
   ],
   "source": [
    "start = time.time()\n",
    "aopy.utils.release_memory_limit()\n",
    "df, rasters, preproc_metadata = aopy.data.base.pkl_read(f\"{subject}_np_preprocessed\", os.path.join(base_save_dir, np_preproc_data_folder))\n",
    "print(f\"{np.round((time.time()-start)/60)} min to load preprocessed data\")\n",
    "nrecs = preproc_metadata['nrecs']\n",
    "recording_site = preproc_metadata['recording_sites'] # will be the same for all align events\n",
    "implants = ['NP_Insert72' if preproc_metadata['implant'][irec] == 'NP_Insert72' else 'NP_Insert137' for irec in range(len(preproc_metadata['implant']))] #Rename because name in bmi3d is slightly different (TODO)\n",
    "dates = np.unique(df['date'])"
   ]
  },
  {
   "cell_type": "code",
   "execution_count": 132,
   "id": "8099da1e-5d21-40dc-b084-7da935c18dc2",
   "metadata": {
    "execution": {
     "iopub.execute_input": "2025-02-03T06:51:51.430925Z",
     "iopub.status.busy": "2025-02-03T06:51:51.429545Z",
     "iopub.status.idle": "2025-02-03T06:51:51.454869Z",
     "shell.execute_reply": "2025-02-03T06:51:51.453323Z",
     "shell.execute_reply.started": "2025-02-03T06:51:51.430854Z"
    },
    "tags": []
   },
   "outputs": [],
   "source": [
    "ecog_dec_acc = load_hdf_group(base_save_dir, ecog_dec_acc_file_name)"
   ]
  },
  {
   "cell_type": "code",
   "execution_count": 133,
   "id": "07c58de2-234d-416e-a7ae-63d0d7357120",
   "metadata": {
    "execution": {
     "iopub.execute_input": "2025-02-03T06:51:51.457779Z",
     "iopub.status.busy": "2025-02-03T06:51:51.457338Z",
     "iopub.status.idle": "2025-02-03T06:51:51.491019Z",
     "shell.execute_reply": "2025-02-03T06:51:51.489472Z",
     "shell.execute_reply.started": "2025-02-03T06:51:51.457739Z"
    },
    "tags": []
   },
   "outputs": [],
   "source": [
    "qc_results, ksdrift = aopy.data.base.pkl_read(f\"{subject}_QCunits\", os.path.join(base_save_dir, np_preproc_data_folder))\n",
    "# stable_unit_labels = [qc_results['final_good_unit_labels'][irec] for irec in range(nrecs)]\n",
    "# stable_unit_idx = [qc_results['final_good_unit_idx'][irec] for irec in range(nrecs)]\n",
    "# nstable_unit = np.array([len(qc_results['final_good_unit_idx'][irec]) for irec in range(nrecs)])\n",
    "# neuron_pos = [qc_results['position'][irec] for irec in range(nrecs)]\n",
    "\n",
    "# if subject == 'affi':\n",
    "stable_unit_labels = [qc_results['manual_good_unit_labels'][irec] for irec in range(nrecs)]\n",
    "stable_unit_idx = [qc_results['manual_good_unit_idx'][irec] for irec in range(nrecs)]\n",
    "nstable_unit = np.array([len(qc_results['manual_good_unit_idx'][irec]) for irec in range(nrecs)])\n",
    "neuron_pos = [qc_results['manual_position'][irec] for irec in range(nrecs)]"
   ]
  },
  {
   "cell_type": "code",
   "execution_count": 134,
   "id": "a76b4fd6-34ba-403d-964a-8a3f0d801a98",
   "metadata": {
    "execution": {
     "iopub.execute_input": "2025-02-03T06:51:51.492972Z",
     "iopub.status.busy": "2025-02-03T06:51:51.492458Z",
     "iopub.status.idle": "2025-02-03T06:51:51.505693Z",
     "shell.execute_reply": "2025-02-03T06:51:51.504261Z",
     "shell.execute_reply.started": "2025-02-03T06:51:51.492922Z"
    },
    "tags": []
   },
   "outputs": [
    {
     "name": "stdout",
     "output_type": "stream",
     "text": [
      "[ 19  29  55  58  33  98  10  74  72 107  70  44  98  31  71  21  69  95\n",
      "  31  31  70  31  72  72  73  57  65  10  64  17  58  17  58  18  49]\n",
      "(35,) 35 [ 3840  3840  3400  3250  3840  3800  3800  3900  3500  3700  2500  3250\n",
      "  2100  3840  3100  1600  3250  2500  3100  3300  3800  3100  3250  2750\n",
      "  2900  2750  3000  3000  3000  3700  3000  3700  3000  3700 35000]\n"
     ]
    }
   ],
   "source": [
    "if subject == 'beignet':\n",
    "    surface_pos = np.ones(nrecs)*3840\n",
    "elif subject == 'affi':\n",
    "    surface_pos = np.array([3840, 3840, 3400, 3250,3840,3800,3800,3900,3500,3700,2500,3250,2100,3840,3100,1600,3250,2500,3100,3300,3800,3100,3250,2750,2900, 2750,\n",
    "                           3000,3000, 3000,3700, 3000,3700, 3000,3700, 35000])\n",
    "print(preproc_metadata['recording_sites'])\n",
    "print(surface_pos.shape, nrecs, surface_pos)"
   ]
  },
  {
   "cell_type": "code",
   "execution_count": 135,
   "id": "61c2c0de-8ba7-41a5-bf6c-de5b682bec77",
   "metadata": {
    "execution": {
     "iopub.execute_input": "2025-02-03T06:51:51.507903Z",
     "iopub.status.busy": "2025-02-03T06:51:51.507453Z",
     "iopub.status.idle": "2025-02-03T06:51:52.557731Z",
     "shell.execute_reply": "2025-02-03T06:51:52.556528Z",
     "shell.execute_reply.started": "2025-02-03T06:51:51.507861Z"
    },
    "tags": []
   },
   "outputs": [
    {
     "data": {
      "application/vnd.jupyter.widget-view+json": {
       "model_id": "c3e1b80c42f5450aaea4a4fbec6b7aee",
       "version_major": 2,
       "version_minor": 0
      },
      "text/plain": [
       "  0%|          | 0/35 [00:00<?, ?it/s]"
      ]
     },
     "metadata": {},
     "output_type": "display_data"
    }
   ],
   "source": [
    "# compile dataframe of unit information\n",
    "# Need columns for: date, recording site, unit_label, absolute y-pos, relative y-pos, waveform\n",
    "unit_info = {'rec_number': [], 'date': [], 'rec_site': [], 'rec_xpos': [], 'rec_ypos': [], 'rec_rcaxis': [], 'rec_mlaxis': [], 'implant': [],\n",
    "             'unit_label': [], 'unit_idx': [], 'abs_depth': [], 'rel_depth': [], 'waveform': [], 'surface_pos': [], 'penetration': []}\n",
    "# unit_info = {'rec_number': [], 'date': [], 'rec_site': [], 'rec_xpos': [], 'rec_ypos': [], 'implant': [],\n",
    "#              'unit_label': [], 'unit_idx': []}\n",
    "surface_buffer = 200\n",
    "for irec in tqdm(range(nrecs)):\n",
    "    # print(irec, nstable_unit[irec], neuron_pos[irec].shape)\n",
    "    for iunit in range(nstable_unit[irec]):\n",
    "        # Only save units that are below the estimated surface of the brain\n",
    "        # if neuron_pos[irec][iunit] <= (surface_pos[irec]+surface_buffer):   \n",
    "        \n",
    "        unit_info['rec_number'].append(irec) # Recording_number\n",
    "        unit_info['date'].append(list(df[df['penetration']==irec]['date'])[0]) # date (assumes each recording is done on a different day)\n",
    "        unit_info['rec_site'].append(preproc_metadata['recording_sites'][irec]) # Recording site\n",
    "        unit_info['rec_xpos'].append(ecog_dec_acc[subject]['rec_locations'][irec,0]) # Recording site x pos in chamber\n",
    "        unit_info['rec_ypos'].append(ecog_dec_acc[subject]['rec_locations'][irec,1]) # Recording site y pos in chamber\n",
    "        unit_info['rec_rcaxis'].append(ecog_dec_acc[subject]['rc_axis'][irec,0]) # Recording site y pos in chamber\n",
    "        unit_info['rec_mlaxis'].append(ecog_dec_acc[subject]['rc_axis'][irec,1]) # Recording site y pos in chamber\n",
    "        unit_info['implant'].append(implants[irec]) # Implant\n",
    "        unit_info['unit_label'].append(stable_unit_labels[irec][iunit]) # unit label output from kilosort\n",
    "        unit_info['unit_idx'].append(stable_unit_idx[irec][iunit]) # unit label output from kilosort\n",
    "        unit_info['abs_depth'].append(surface_pos[irec] - neuron_pos[irec][iunit]) #Absolute depth [um]\n",
    "        unit_info['rel_depth'].append(3840-neuron_pos[irec][iunit]-np.min(3840-neuron_pos[irec])) #Relative depth [um] (to top detected neuron)\n",
    "        unit_info['waveform'].append(qc_results['mean_wfs'][irec][iunit,:]) #waveform\n",
    "        unit_info['surface_pos'].append(surface_pos[irec])\n",
    "        unit_info['penetration'].append(irec)        "
   ]
  },
  {
   "cell_type": "code",
   "execution_count": 136,
   "id": "6d22c72e-b007-4bb4-9f54-b43525e6f845",
   "metadata": {
    "execution": {
     "iopub.execute_input": "2025-02-03T06:51:52.559948Z",
     "iopub.status.busy": "2025-02-03T06:51:52.559737Z",
     "iopub.status.idle": "2025-02-03T06:51:52.583507Z",
     "shell.execute_reply": "2025-02-03T06:51:52.582085Z",
     "shell.execute_reply.started": "2025-02-03T06:51:52.559929Z"
    },
    "tags": []
   },
   "outputs": [],
   "source": [
    "unit_df = pds.DataFrame(unit_info)"
   ]
  },
  {
   "cell_type": "markdown",
   "id": "f5c27f6f-9304-484d-b19d-a5d1505c3f6f",
   "metadata": {},
   "source": [
    "# Create pseudopopulations"
   ]
  },
  {
   "cell_type": "code",
   "execution_count": 137,
   "id": "149ea534-93ef-412d-b436-9c2a6640b462",
   "metadata": {
    "execution": {
     "iopub.execute_input": "2025-02-03T06:51:52.584295Z",
     "iopub.status.busy": "2025-02-03T06:51:52.584096Z",
     "iopub.status.idle": "2025-02-03T06:51:52.589475Z",
     "shell.execute_reply": "2025-02-03T06:51:52.588326Z",
     "shell.execute_reply.started": "2025-02-03T06:51:52.584277Z"
    },
    "tags": []
   },
   "outputs": [],
   "source": [
    "pp_configs = ['random', 'column', 'depth'] # Pseudopopulation cofigurations "
   ]
  },
  {
   "cell_type": "markdown",
   "id": "7f473ec7-a65c-4dc6-b02e-7a4cd8364ef3",
   "metadata": {},
   "source": [
    "## Random"
   ]
  },
  {
   "cell_type": "code",
   "execution_count": 138,
   "id": "1f8fbb39-0e5a-47b0-a548-d657e70b0649",
   "metadata": {
    "execution": {
     "iopub.execute_input": "2025-02-03T06:51:52.590222Z",
     "iopub.status.busy": "2025-02-03T06:51:52.590036Z",
     "iopub.status.idle": "2025-02-03T06:51:52.917890Z",
     "shell.execute_reply": "2025-02-03T06:51:52.916618Z",
     "shell.execute_reply.started": "2025-02-03T06:51:52.590205Z"
    },
    "tags": []
   },
   "outputs": [],
   "source": [
    "# Create random neuron populations\n",
    "nrandom_units = 10 # Number of random units chosen in each group\n",
    "nrandom_groups = 1000 # Number of random groups to make\n",
    "random_group_info = []\n",
    "for igroup in range(nrandom_groups):\n",
    "    group_idx = np.random.choice(np.arange(len(unit_df)), size=(nrandom_units), replace=False)\n",
    "    random_group_info.append(unit_df.loc[group_idx])"
   ]
  },
  {
   "cell_type": "markdown",
   "id": "e1b3c1a9-aff8-4f9f-a424-19a89a3c71a3",
   "metadata": {},
   "source": [
    "## Column"
   ]
  },
  {
   "cell_type": "code",
   "execution_count": 139,
   "id": "ff199eb7-dd3c-4271-8226-9a9b2ec79d79",
   "metadata": {
    "execution": {
     "iopub.execute_input": "2025-02-03T06:51:52.919097Z",
     "iopub.status.busy": "2025-02-03T06:51:52.918894Z",
     "iopub.status.idle": "2025-02-03T06:51:52.924686Z",
     "shell.execute_reply": "2025-02-03T06:51:52.923788Z",
     "shell.execute_reply.started": "2025-02-03T06:51:52.919078Z"
    },
    "tags": []
   },
   "outputs": [],
   "source": [
    "unique_rec_pos, unique_rec_pos_idx = np.unique(ecog_dec_acc[subject]['rec_locations'], axis=0, return_index=True)\n",
    "column_group_info = []"
   ]
  },
  {
   "cell_type": "code",
   "execution_count": 140,
   "id": "853f8810-8fdd-42ed-a1c1-5b6f838f3a75",
   "metadata": {
    "execution": {
     "iopub.execute_input": "2025-02-03T06:51:52.925660Z",
     "iopub.status.busy": "2025-02-03T06:51:52.925467Z",
     "iopub.status.idle": "2025-02-03T06:51:52.958416Z",
     "shell.execute_reply": "2025-02-03T06:51:52.956901Z",
     "shell.execute_reply.started": "2025-02-03T06:51:52.925642Z"
    },
    "tags": []
   },
   "outputs": [],
   "source": [
    "# Create random neuron populations from each recording_location\n",
    "min_probe_depth = 0 #[um]\n",
    "unique_rec_pos, unique_rec_pos_idx = np.unique(ecog_dec_acc[subject]['rec_locations'], axis=0, return_index=True)\n",
    "column_group_info = []\n",
    "for ipos in range(unique_rec_pos.shape[0]):\n",
    "    pos = unique_rec_pos[ipos,:]\n",
    "    new_df = unit_df.loc[(unit_df['rec_xpos']==pos[0]) & (unit_df['rec_ypos']==pos[1]) & (unit_df['surface_pos']>min_probe_depth)].reset_index()\n",
    "    \n",
    "    # Add a row of 0 if there are no units so code works. There is no recording site 0 because it is 1-indexed.\n",
    "    if len(new_df)==0:   \n",
    "        new_df.loc[0] = [np.nan] * len(new_df.columns)\n",
    "        new_df['rec_site'] = ecog_dec_acc[subject]['rec_sites'][unique_rec_pos_idx[ipos]]\n",
    "        new_df['implant'] = implants[unique_rec_pos_idx[ipos]]\n",
    "        \n",
    "    column_group_info.append(new_df) #only use sites whose surface position is greater than a threshold\n",
    "\n",
    "    # print(unit_df.loc[(unit_df['rec_xpos']==pos[0]) & (unit_df['rec_ypos']==pos[1])].reset_index())\n",
    "    # print(len(column_group_info[ipos]),column_group_info[ipos]['rec_site'][0])"
   ]
  },
  {
   "cell_type": "code",
   "execution_count": 141,
   "id": "28e83aa5-073f-416c-98dd-1fafc8a05170",
   "metadata": {
    "execution": {
     "iopub.execute_input": "2025-02-03T06:51:52.959163Z",
     "iopub.status.busy": "2025-02-03T06:51:52.958975Z",
     "iopub.status.idle": "2025-02-03T06:51:52.979155Z",
     "shell.execute_reply": "2025-02-03T06:51:52.978010Z",
     "shell.execute_reply.started": "2025-02-03T06:51:52.959145Z"
    },
    "tags": []
   },
   "outputs": [
    {
     "data": {
      "text/html": [
       "<div>\n",
       "<style scoped>\n",
       "    .dataframe tbody tr th:only-of-type {\n",
       "        vertical-align: middle;\n",
       "    }\n",
       "\n",
       "    .dataframe tbody tr th {\n",
       "        vertical-align: top;\n",
       "    }\n",
       "\n",
       "    .dataframe thead th {\n",
       "        text-align: right;\n",
       "    }\n",
       "</style>\n",
       "<table border=\"1\" class=\"dataframe\">\n",
       "  <thead>\n",
       "    <tr style=\"text-align: right;\">\n",
       "      <th></th>\n",
       "      <th>index</th>\n",
       "      <th>rec_number</th>\n",
       "      <th>date</th>\n",
       "      <th>rec_site</th>\n",
       "      <th>rec_xpos</th>\n",
       "      <th>rec_ypos</th>\n",
       "      <th>rec_rcaxis</th>\n",
       "      <th>rec_mlaxis</th>\n",
       "      <th>implant</th>\n",
       "      <th>unit_label</th>\n",
       "      <th>unit_idx</th>\n",
       "      <th>abs_depth</th>\n",
       "      <th>rel_depth</th>\n",
       "      <th>waveform</th>\n",
       "      <th>surface_pos</th>\n",
       "      <th>penetration</th>\n",
       "    </tr>\n",
       "  </thead>\n",
       "  <tbody>\n",
       "    <tr>\n",
       "      <th>0</th>\n",
       "      <td>1226</td>\n",
       "      <td>32</td>\n",
       "      <td>2024-09-23</td>\n",
       "      <td>58</td>\n",
       "      <td>3.99999</td>\n",
       "      <td>0.0</td>\n",
       "      <td>1.999995</td>\n",
       "      <td>-3.464093</td>\n",
       "      <td>NP_Insert72</td>\n",
       "      <td>52</td>\n",
       "      <td>52</td>\n",
       "      <td>2220.0</td>\n",
       "      <td>700.0</td>\n",
       "      <td>[-4.378369030522715, -4.4120425320692975, -4.3...</td>\n",
       "      <td>3000</td>\n",
       "      <td>32</td>\n",
       "    </tr>\n",
       "    <tr>\n",
       "      <th>1</th>\n",
       "      <td>1227</td>\n",
       "      <td>32</td>\n",
       "      <td>2024-09-23</td>\n",
       "      <td>58</td>\n",
       "      <td>3.99999</td>\n",
       "      <td>0.0</td>\n",
       "      <td>1.999995</td>\n",
       "      <td>-3.464093</td>\n",
       "      <td>NP_Insert72</td>\n",
       "      <td>57</td>\n",
       "      <td>57</td>\n",
       "      <td>2200.0</td>\n",
       "      <td>680.0</td>\n",
       "      <td>[-4.551386602243701, -4.817894933153141, -4.48...</td>\n",
       "      <td>3000</td>\n",
       "      <td>32</td>\n",
       "    </tr>\n",
       "    <tr>\n",
       "      <th>2</th>\n",
       "      <td>1228</td>\n",
       "      <td>32</td>\n",
       "      <td>2024-09-23</td>\n",
       "      <td>58</td>\n",
       "      <td>3.99999</td>\n",
       "      <td>0.0</td>\n",
       "      <td>1.999995</td>\n",
       "      <td>-3.464093</td>\n",
       "      <td>NP_Insert72</td>\n",
       "      <td>65</td>\n",
       "      <td>65</td>\n",
       "      <td>2020.0</td>\n",
       "      <td>500.0</td>\n",
       "      <td>[-4.019124145408933, -4.589423775303875, -4.38...</td>\n",
       "      <td>3000</td>\n",
       "      <td>32</td>\n",
       "    </tr>\n",
       "    <tr>\n",
       "      <th>3</th>\n",
       "      <td>1229</td>\n",
       "      <td>32</td>\n",
       "      <td>2024-09-23</td>\n",
       "      <td>58</td>\n",
       "      <td>3.99999</td>\n",
       "      <td>0.0</td>\n",
       "      <td>1.999995</td>\n",
       "      <td>-3.464093</td>\n",
       "      <td>NP_Insert72</td>\n",
       "      <td>78</td>\n",
       "      <td>78</td>\n",
       "      <td>1840.0</td>\n",
       "      <td>320.0</td>\n",
       "      <td>[-5.12319391243929, -4.927919032825895, -4.984...</td>\n",
       "      <td>3000</td>\n",
       "      <td>32</td>\n",
       "    </tr>\n",
       "    <tr>\n",
       "      <th>4</th>\n",
       "      <td>1230</td>\n",
       "      <td>32</td>\n",
       "      <td>2024-09-23</td>\n",
       "      <td>58</td>\n",
       "      <td>3.99999</td>\n",
       "      <td>0.0</td>\n",
       "      <td>1.999995</td>\n",
       "      <td>-3.464093</td>\n",
       "      <td>NP_Insert72</td>\n",
       "      <td>86</td>\n",
       "      <td>86</td>\n",
       "      <td>1700.0</td>\n",
       "      <td>180.0</td>\n",
       "      <td>[-5.391229963986109, -5.499494145658969, -5.74...</td>\n",
       "      <td>3000</td>\n",
       "      <td>32</td>\n",
       "    </tr>\n",
       "    <tr>\n",
       "      <th>5</th>\n",
       "      <td>1231</td>\n",
       "      <td>32</td>\n",
       "      <td>2024-09-23</td>\n",
       "      <td>58</td>\n",
       "      <td>3.99999</td>\n",
       "      <td>0.0</td>\n",
       "      <td>1.999995</td>\n",
       "      <td>-3.464093</td>\n",
       "      <td>NP_Insert72</td>\n",
       "      <td>98</td>\n",
       "      <td>98</td>\n",
       "      <td>1540.0</td>\n",
       "      <td>20.0</td>\n",
       "      <td>[-3.0771761656215495, -3.580490441940367, -4.0...</td>\n",
       "      <td>3000</td>\n",
       "      <td>32</td>\n",
       "    </tr>\n",
       "    <tr>\n",
       "      <th>6</th>\n",
       "      <td>1232</td>\n",
       "      <td>32</td>\n",
       "      <td>2024-09-23</td>\n",
       "      <td>58</td>\n",
       "      <td>3.99999</td>\n",
       "      <td>0.0</td>\n",
       "      <td>1.999995</td>\n",
       "      <td>-3.464093</td>\n",
       "      <td>NP_Insert72</td>\n",
       "      <td>100</td>\n",
       "      <td>100</td>\n",
       "      <td>1520.0</td>\n",
       "      <td>0.0</td>\n",
       "      <td>[1.6295806279497975, 1.446419606971006, 1.5917...</td>\n",
       "      <td>3000</td>\n",
       "      <td>32</td>\n",
       "    </tr>\n",
       "  </tbody>\n",
       "</table>\n",
       "</div>"
      ],
      "text/plain": [
       "   index  rec_number        date  rec_site  rec_xpos  rec_ypos  rec_rcaxis  \\\n",
       "0   1226          32  2024-09-23        58   3.99999       0.0    1.999995   \n",
       "1   1227          32  2024-09-23        58   3.99999       0.0    1.999995   \n",
       "2   1228          32  2024-09-23        58   3.99999       0.0    1.999995   \n",
       "3   1229          32  2024-09-23        58   3.99999       0.0    1.999995   \n",
       "4   1230          32  2024-09-23        58   3.99999       0.0    1.999995   \n",
       "5   1231          32  2024-09-23        58   3.99999       0.0    1.999995   \n",
       "6   1232          32  2024-09-23        58   3.99999       0.0    1.999995   \n",
       "\n",
       "   rec_mlaxis      implant  unit_label  unit_idx  abs_depth  rel_depth  \\\n",
       "0   -3.464093  NP_Insert72          52        52     2220.0      700.0   \n",
       "1   -3.464093  NP_Insert72          57        57     2200.0      680.0   \n",
       "2   -3.464093  NP_Insert72          65        65     2020.0      500.0   \n",
       "3   -3.464093  NP_Insert72          78        78     1840.0      320.0   \n",
       "4   -3.464093  NP_Insert72          86        86     1700.0      180.0   \n",
       "5   -3.464093  NP_Insert72          98        98     1540.0       20.0   \n",
       "6   -3.464093  NP_Insert72         100       100     1520.0        0.0   \n",
       "\n",
       "                                            waveform  surface_pos  penetration  \n",
       "0  [-4.378369030522715, -4.4120425320692975, -4.3...         3000           32  \n",
       "1  [-4.551386602243701, -4.817894933153141, -4.48...         3000           32  \n",
       "2  [-4.019124145408933, -4.589423775303875, -4.38...         3000           32  \n",
       "3  [-5.12319391243929, -4.927919032825895, -4.984...         3000           32  \n",
       "4  [-5.391229963986109, -5.499494145658969, -5.74...         3000           32  \n",
       "5  [-3.0771761656215495, -3.580490441940367, -4.0...         3000           32  \n",
       "6  [1.6295806279497975, 1.446419606971006, 1.5917...         3000           32  "
      ]
     },
     "execution_count": 141,
     "metadata": {},
     "output_type": "execute_result"
    }
   ],
   "source": [
    "new_df"
   ]
  },
  {
   "cell_type": "code",
   "execution_count": 142,
   "id": "dfacf4ab-ef8d-4c9b-b707-9e916a6325c2",
   "metadata": {
    "execution": {
     "iopub.execute_input": "2025-02-03T06:51:52.979902Z",
     "iopub.status.busy": "2025-02-03T06:51:52.979716Z",
     "iopub.status.idle": "2025-02-03T06:51:52.988444Z",
     "shell.execute_reply": "2025-02-03T06:51:52.987525Z",
     "shell.execute_reply.started": "2025-02-03T06:51:52.979885Z"
    },
    "tags": []
   },
   "outputs": [
    {
     "name": "stdout",
     "output_type": "stream",
     "text": [
      "nUnits:   [49, 72, 44, 13, 78, 41, 18, 1, 43, 21, 34, 29, 72, 22, 45, 46, 72, 152, 48, 16, 1, 38, 183, 30, 60, 7]\n",
      "Rec Site: [29, 19, 10, 17, 10, 31, 21, 18, 55, 44, 33, 69, 70, 58, 95, 71, 107, 72, 64, 57, 48, 73, 98, 74, 65, 58]\n",
      "26\n",
      "[[-3.79999184  0.75999837]\n",
      " [-3.79999184  2.2799951 ]\n",
      " [-3.79999184  3.79999184]\n",
      " [-2.99999244  0.99999748]\n",
      " [-2.99999244  2.99999244]\n",
      " [-2.2799951   2.2799951 ]\n",
      " [-2.2799951   3.79999184]\n",
      " [-1.99999496  1.99999496]\n",
      " [-1.51999674  0.        ]\n",
      " [-0.75999837  2.2799951 ]\n",
      " [-0.75999837  3.79999184]\n",
      " [ 0.          0.        ]\n",
      " [ 0.75999837  0.75999837]\n",
      " [ 0.75999837  2.2799951 ]\n",
      " [ 1.51999674 -1.51999674]\n",
      " [ 1.51999674  1.51999674]\n",
      " [ 2.2799951  -2.2799951 ]\n",
      " [ 2.2799951   2.2799951 ]\n",
      " [ 2.99999244 -2.99999244]\n",
      " [ 2.99999244 -0.99999748]\n",
      " [ 2.99999244  0.99999748]\n",
      " [ 3.03999347  3.03999347]\n",
      " [ 3.79999184  0.75999837]\n",
      " [ 3.79999184  3.79999184]\n",
      " [ 3.99998992 -1.99999496]\n",
      " [ 3.99998992  0.        ]]\n",
      "[ 19  29  55  58  33  98  10  74  72 107  70  44  98  31  71  21  69  95\n",
      "  31  31  70  31  72  72  73  57  65  10  64  17  58  17  58  18  49]\n"
     ]
    }
   ],
   "source": [
    "print('nUnits:  ', [len(column_group_info[ii]) for ii in range(len(column_group_info))])\n",
    "print('Rec Site:', [column_group_info[ii]['rec_site'][0] for ii in range(len(column_group_info))])\n",
    "print(len(unique_rec_pos))\n",
    "print(unique_rec_pos)\n",
    "print(recording_site)"
   ]
  },
  {
   "cell_type": "markdown",
   "id": "9663e792-6bd0-4cce-abae-d4ec194279a3",
   "metadata": {},
   "source": [
    "## Depth"
   ]
  },
  {
   "cell_type": "code",
   "execution_count": 143,
   "id": "1ff454c8-e8c7-482b-9004-d3c9afbb75d9",
   "metadata": {
    "execution": {
     "iopub.execute_input": "2025-02-03T06:51:52.989180Z",
     "iopub.status.busy": "2025-02-03T06:51:52.988993Z",
     "iopub.status.idle": "2025-02-03T06:51:52.993571Z",
     "shell.execute_reply": "2025-02-03T06:51:52.992471Z",
     "shell.execute_reply.started": "2025-02-03T06:51:52.989163Z"
    },
    "tags": []
   },
   "outputs": [],
   "source": [
    "# depth_ranges = [(0,1000), (1000, 2000), (2000, 100000)] #Boundary distinguishing shallow and deep neurons "
   ]
  },
  {
   "cell_type": "code",
   "execution_count": 144,
   "id": "be9957bb-f500-4bef-ba38-e842a789cfbe",
   "metadata": {
    "execution": {
     "iopub.execute_input": "2025-02-03T06:51:52.994317Z",
     "iopub.status.busy": "2025-02-03T06:51:52.994129Z",
     "iopub.status.idle": "2025-02-03T06:51:53.012346Z",
     "shell.execute_reply": "2025-02-03T06:51:53.010853Z",
     "shell.execute_reply.started": "2025-02-03T06:51:52.994300Z"
    },
    "tags": []
   },
   "outputs": [],
   "source": [
    "# Create random neuron populations from neurons at different depths\n",
    "\n",
    "depth_ranges = [(0,1000),(250,1250),(500,1500),(750,1750),(1000,2000),(1250,2250),(1500,2500),(1750,2750),(2000,3000),(2250,3250),(2500,3500),(2750,3750),(np.max(unit_df['rel_depth'])-1000,np.max(unit_df['rel_depth']))] #Boundary distinguishing shallow and deep neurons \n",
    "\n",
    "depth_group_info = []\n",
    "for irange, depth_range in enumerate(depth_ranges):\n",
    "    depth_group_info.append(unit_df.loc[(unit_df['rel_depth'] >= depth_range[0]) & (unit_df['rel_depth'] < depth_range[1])].reset_index())"
   ]
  },
  {
   "cell_type": "code",
   "execution_count": 145,
   "id": "7ef30a12-00a5-464f-a72f-8c36ded1ca89",
   "metadata": {
    "execution": {
     "iopub.execute_input": "2025-02-03T06:51:53.014737Z",
     "iopub.status.busy": "2025-02-03T06:51:53.014540Z",
     "iopub.status.idle": "2025-02-03T06:51:53.255049Z",
     "shell.execute_reply": "2025-02-03T06:51:53.253884Z",
     "shell.execute_reply.started": "2025-02-03T06:51:53.014719Z"
    },
    "tags": []
   },
   "outputs": [],
   "source": [
    "#Create random neuron populations for each recording site from neurons at different depths\n",
    "\n",
    "depth_group_info_by_site = {}\n",
    "unique_sites = np.unique(unit_df['rec_site'])\n",
    "for isite, site in enumerate(unique_sites):\n",
    "    depth_group_info_by_site[site] = []\n",
    "    for irange, depth_range in enumerate(depth_ranges):\n",
    "        depth_mask = (unit_df['rel_depth'] >= depth_range[0]) & (unit_df['rel_depth'] < depth_range[1])\n",
    "        site_mask = unit_df['rec_site'] == site\n",
    "        depth_group_info_by_site[site].append(unit_df.loc[depth_mask*site_mask].reset_index())"
   ]
  },
  {
   "cell_type": "code",
   "execution_count": 146,
   "id": "e0e0c97e",
   "metadata": {
    "execution": {
     "iopub.execute_input": "2025-02-03T06:51:53.255791Z",
     "iopub.status.busy": "2025-02-03T06:51:53.255604Z",
     "iopub.status.idle": "2025-02-03T06:51:53.263163Z",
     "shell.execute_reply": "2025-02-03T06:51:53.261992Z",
     "shell.execute_reply.started": "2025-02-03T06:51:53.255775Z"
    },
    "tags": []
   },
   "outputs": [
    {
     "name": "stdout",
     "output_type": "stream",
     "text": [
      "10 [50, 44, 44, 36, 28, 23, 14, 15, 26, 30, 31, 31, 32]\n",
      "17 [10, 5, 2, 0, 0, 0, 2, 2, 2, 3, 1, 1, 1]\n",
      "18 [1, 0, 0, 0, 0, 0, 0, 0, 0, 0, 0, 0, 0]\n",
      "19 [21, 27, 25, 30, 25, 25, 27, 22, 24, 17, 13, 7, 7]\n",
      "21 [8, 8, 6, 7, 6, 5, 7, 6, 4, 3, 0, 0, 0]\n",
      "29 [15, 15, 22, 25, 25, 24, 20, 15, 9, 6, 3, 1, 1]\n",
      "31 [24, 17, 17, 16, 14, 13, 10, 6, 3, 1, 0, 0, 0]\n",
      "33 [7, 8, 14, 18, 20, 18, 14, 11, 7, 4, 2, 0, 0]\n",
      "44 [4, 6, 10, 11, 10, 10, 7, 7, 7, 4, 3, 1, 1]\n",
      "55 [16, 17, 15, 12, 6, 4, 5, 5, 6, 12, 13, 16, 16]\n",
      "57 [5, 5, 8, 9, 11, 9, 5, 2, 0, 0, 0, 0, 0]\n",
      "58 [27, 19, 12, 4, 2, 1, 0, 0, 0, 0, 0, 0, 0]\n",
      "64 [8, 14, 14, 13, 17, 16, 17, 20, 20, 16, 14, 8, 7]\n",
      "65 [5, 6, 13, 21, 30, 34, 37, 32, 25, 18, 7, 3, 3]\n",
      "69 [20, 20, 17, 14, 9, 4, 2, 0, 0, 0, 0, 0, 0]\n",
      "70 [32, 32, 25, 21, 18, 18, 22, 23, 22, 15, 9, 3, 3]\n",
      "71 [4, 5, 9, 17, 28, 36, 35, 26, 14, 4, 0, 0, 0]\n",
      "72 [30, 27, 31, 35, 40, 53, 52, 48, 57, 49, 50, 43, 41]\n",
      "73 [6, 12, 14, 26, 31, 24, 21, 7, 1, 1, 0, 0, 0]\n",
      "74 [4, 4, 7, 9, 10, 9, 5, 7, 8, 16, 16, 12, 11]\n",
      "95 [7, 6, 11, 12, 13, 11, 8, 14, 14, 20, 20, 14, 14]\n",
      "98 [26, 36, 43, 53, 63, 72, 83, 91, 79, 61, 43, 21, 20]\n",
      "107 [13, 14, 17, 21, 18, 25, 26, 28, 32, 30, 23, 14, 14]\n"
     ]
    }
   ],
   "source": [
    "for isite, site in enumerate(unique_sites):\n",
    "    print(site, [len(depth_group_info_by_site[site][idepth]) for idepth in range(len(depth_group_info_by_site[site]))])"
   ]
  },
  {
   "cell_type": "code",
   "execution_count": 147,
   "id": "f3802b88-a10b-49c1-8c08-0c99cec6efba",
   "metadata": {
    "execution": {
     "iopub.execute_input": "2025-02-03T06:51:53.263979Z",
     "iopub.status.busy": "2025-02-03T06:51:53.263791Z",
     "iopub.status.idle": "2025-02-03T06:51:53.279650Z",
     "shell.execute_reply": "2025-02-03T06:51:53.278501Z",
     "shell.execute_reply.started": "2025-02-03T06:51:53.263962Z"
    },
    "tags": []
   },
   "outputs": [
    {
     "name": "stdout",
     "output_type": "stream",
     "text": [
      "     index  rec_number        date  rec_site  rec_xpos  rec_ypos  rec_rcaxis  \\\n",
      "0      220           5  2024-06-03        98  3.799992  0.759998    2.558174   \n",
      "1      221           5  2024-06-03        98  3.799992  0.759998    2.558174   \n",
      "2      222           5  2024-06-03        98  3.799992  0.759998    2.558174   \n",
      "3      223           5  2024-06-03        98  3.799992  0.759998    2.558174   \n",
      "4      224           5  2024-06-03        98  3.799992  0.759998    2.558174   \n",
      "..     ...         ...         ...       ...       ...       ...         ...   \n",
      "178    684          12  2024-08-30        98  3.799992  0.759998    2.558174   \n",
      "179    685          12  2024-08-30        98  3.799992  0.759998    2.558174   \n",
      "180    686          12  2024-08-30        98  3.799992  0.759998    2.558174   \n",
      "181    687          12  2024-08-30        98  3.799992  0.759998    2.558174   \n",
      "182    688          12  2024-08-30        98  3.799992  0.759998    2.558174   \n",
      "\n",
      "     rec_mlaxis       implant  unit_label  unit_idx  abs_depth  rel_depth  \\\n",
      "0      -2.91089  NP_Insert137           2         2     3380.0     3620.0   \n",
      "1      -2.91089  NP_Insert137          13        13     3380.0     3620.0   \n",
      "2      -2.91089  NP_Insert137          35        35     3300.0     3540.0   \n",
      "3      -2.91089  NP_Insert137          56        56     3260.0     3500.0   \n",
      "4      -2.91089  NP_Insert137          67        67     3160.0     3400.0   \n",
      "..          ...           ...         ...       ...        ...        ...   \n",
      "178    -2.91089  NP_Insert137         333       333     -140.0      480.0   \n",
      "179    -2.91089  NP_Insert137         337       337     -140.0      480.0   \n",
      "180    -2.91089  NP_Insert137         339       339     -140.0      480.0   \n",
      "181    -2.91089  NP_Insert137         352       352     -360.0      260.0   \n",
      "182    -2.91089  NP_Insert137         360       360     -620.0        0.0   \n",
      "\n",
      "                                              waveform  surface_pos  \\\n",
      "0    [-5.838053795557454, -6.419587457693258, -7.28...         3800   \n",
      "1    [2.964402186120326, 3.332419887283688, 3.23455...         3800   \n",
      "2    [-3.5911588717271896, -3.953044805905519, -3.8...         3800   \n",
      "3    [4.0776829823869765, 4.155062947752197, 4.6481...         3800   \n",
      "4    [-5.192932812672643, -5.7634983296389235, -5.7...         3800   \n",
      "..                                                 ...          ...   \n",
      "178  [-1.6533049174574264, -1.047194918116543, -1.5...         2100   \n",
      "179  [14.738956816149074, 15.314117927864784, 13.72...         2100   \n",
      "180  [-7.747399319094307, -6.565176025235139, -4.88...         2100   \n",
      "181  [4.383312544716605, 3.3503869971514635, 1.4143...         2100   \n",
      "182  [13.30847035455182, 14.10303929092443, 15.3226...         2100   \n",
      "\n",
      "     penetration  \n",
      "0              5  \n",
      "1              5  \n",
      "2              5  \n",
      "3              5  \n",
      "4              5  \n",
      "..           ...  \n",
      "178           12  \n",
      "179           12  \n",
      "180           12  \n",
      "181           12  \n",
      "182           12  \n",
      "\n",
      "[183 rows x 16 columns]\n"
     ]
    }
   ],
   "source": [
    "print(column_group_info[-4])"
   ]
  },
  {
   "cell_type": "markdown",
   "id": "9e8dabf5",
   "metadata": {},
   "source": [
    "# Save"
   ]
  },
  {
   "cell_type": "code",
   "execution_count": 148,
   "id": "121813b3-8d62-451f-ab69-6a31bfbb61be",
   "metadata": {
    "execution": {
     "iopub.execute_input": "2025-02-03T06:51:53.280413Z",
     "iopub.status.busy": "2025-02-03T06:51:53.280221Z",
     "iopub.status.idle": "2025-02-03T06:51:53.287308Z",
     "shell.execute_reply": "2025-02-03T06:51:53.286154Z",
     "shell.execute_reply.started": "2025-02-03T06:51:53.280393Z"
    },
    "tags": []
   },
   "outputs": [
    {
     "name": "stdout",
     "output_type": "stream",
     "text": [
      "{'nrandom_units': 10, 'nrandom_groups': 1000, 'depth_ranges': [(0, 1000), (250, 1250), (500, 1500), (750, 1750), (1000, 2000), (1250, 2250), (1500, 2500), (1750, 2750), (2000, 3000), (2250, 3250), (2500, 3500), (2750, 3750), (2780.0, 3780.0)]}\n"
     ]
    }
   ],
   "source": [
    "pseudopopulation_metadata = {'nrandom_units': nrandom_units, 'nrandom_groups': nrandom_groups, 'depth_ranges': depth_ranges}\n",
    "print(pseudopopulation_metadata)"
   ]
  },
  {
   "cell_type": "code",
   "execution_count": 149,
   "id": "1e880982-c856-4aac-b805-1a4d75af210c",
   "metadata": {
    "execution": {
     "iopub.execute_input": "2025-02-03T06:51:53.288042Z",
     "iopub.status.busy": "2025-02-03T06:51:53.287857Z",
     "iopub.status.idle": "2025-02-03T06:51:53.398376Z",
     "shell.execute_reply": "2025-02-03T06:51:53.396977Z",
     "shell.execute_reply.started": "2025-02-03T06:51:53.288025Z"
    },
    "tags": []
   },
   "outputs": [],
   "source": [
    "# Save data\n",
    "aopy.data.base.pkl_write(f\"{subject}_np_psuedopopulations\", (random_group_info, column_group_info, depth_group_info, depth_group_info_by_site, pseudopopulation_metadata, unit_df), save_dir)"
   ]
  },
  {
   "cell_type": "code",
   "execution_count": 150,
   "id": "c84e80ed-dfa1-4132-b81a-a1666257edda",
   "metadata": {
    "execution": {
     "iopub.execute_input": "2025-02-03T06:51:53.398955Z",
     "iopub.status.busy": "2025-02-03T06:51:53.398814Z",
     "iopub.status.idle": "2025-02-03T06:51:53.405676Z",
     "shell.execute_reply": "2025-02-03T06:51:53.404012Z",
     "shell.execute_reply.started": "2025-02-03T06:51:53.398942Z"
    },
    "tags": []
   },
   "outputs": [
    {
     "name": "stdout",
     "output_type": "stream",
     "text": [
      "343\n",
      "347\n",
      "376\n"
     ]
    }
   ],
   "source": [
    "print(len(depth_group_info[0]))\n",
    "print(len(depth_group_info[1]))\n",
    "print(len(depth_group_info[2]))\n"
   ]
  },
  {
   "cell_type": "code",
   "execution_count": 151,
   "id": "63b4eb15-15d3-492c-9bce-9ab64035ccd0",
   "metadata": {
    "execution": {
     "iopub.execute_input": "2025-02-03T06:51:53.406199Z",
     "iopub.status.busy": "2025-02-03T06:51:53.406075Z",
     "iopub.status.idle": "2025-02-03T06:51:53.414043Z",
     "shell.execute_reply": "2025-02-03T06:51:53.413067Z",
     "shell.execute_reply.started": "2025-02-03T06:51:53.406188Z"
    },
    "tags": []
   },
   "outputs": [
    {
     "data": {
      "text/plain": [
       "numpy.ndarray"
      ]
     },
     "execution_count": 151,
     "metadata": {},
     "output_type": "execute_result"
    }
   ],
   "source": [
    "aopy.utils.get_memory_available_gb()\n",
    "type(df['unit_labels'][df['date']==dates[0]][0])"
   ]
  },
  {
   "cell_type": "code",
   "execution_count": null,
   "id": "1abfc1a4-4e6c-4722-b3e5-63a4489adc08",
   "metadata": {},
   "outputs": [],
   "source": []
  },
  {
   "cell_type": "code",
   "execution_count": null,
   "id": "d5487206-0423-4f3c-babc-eeb277610fde",
   "metadata": {},
   "outputs": [],
   "source": []
  },
  {
   "cell_type": "code",
   "execution_count": null,
   "id": "a8521630-fa5e-42f7-a701-5709d6694596",
   "metadata": {},
   "outputs": [],
   "source": []
  },
  {
   "cell_type": "code",
   "execution_count": null,
   "id": "4716a869-52d9-45d3-97cc-0144c383a1e1",
   "metadata": {},
   "outputs": [],
   "source": []
  },
  {
   "cell_type": "code",
   "execution_count": null,
   "id": "d1aaceda-23cc-49ba-becf-3c420cdc25f0",
   "metadata": {},
   "outputs": [],
   "source": []
  },
  {
   "cell_type": "code",
   "execution_count": null,
   "id": "fb8cacde-7044-4538-b5fd-11d5d32f95d0",
   "metadata": {},
   "outputs": [],
   "source": []
  },
  {
   "cell_type": "code",
   "execution_count": null,
   "id": "f26ba814-536e-42c5-94a0-a28d6e094102",
   "metadata": {},
   "outputs": [],
   "source": []
  }
 ],
 "metadata": {
  "kernelspec": {
   "display_name": "Python [conda env:np_targeting]",
   "language": "python",
   "name": "conda-env-np_targeting-py"
  },
  "language_info": {
   "codemirror_mode": {
    "name": "ipython",
    "version": 3
   },
   "file_extension": ".py",
   "mimetype": "text/x-python",
   "name": "python",
   "nbconvert_exporter": "python",
   "pygments_lexer": "ipython3",
   "version": "3.9.18"
  }
 },
 "nbformat": 4,
 "nbformat_minor": 5
}
