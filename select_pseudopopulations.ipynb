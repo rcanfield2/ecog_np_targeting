{
 "cells": [
  {
   "cell_type": "code",
   "execution_count": 1,
   "id": "5d446e86-44e7-4d8a-8212-5a22da47136f",
   "metadata": {
    "execution": {
     "iopub.execute_input": "2025-01-03T21:32:07.545135Z",
     "iopub.status.busy": "2025-01-03T21:32:07.544604Z",
     "iopub.status.idle": "2025-01-03T21:32:07.570137Z",
     "shell.execute_reply": "2025-01-03T21:32:07.569079Z",
     "shell.execute_reply.started": "2025-01-03T21:32:07.545081Z"
    },
    "tags": []
   },
   "outputs": [],
   "source": [
    "def load_hdf_group(data_dir, hdf_filename, group=\"/\"):\n",
    "    '''\n",
    "    Loads any datasets from the given hdf group into a dictionary. Also will\n",
    "    recursively load other groups if any exist under the given group\n",
    "\n",
    "    Args:\n",
    "        data_dir (str): folder where data is located\n",
    "        hdf_filename (str): name of hdf file\n",
    "        group (str): name of the group to load\n",
    "    \n",
    "    Returns:\n",
    "        dict: all the datasets contained in the given group\n",
    "    '''\n",
    "    full_file_name = os.path.join(data_dir, hdf_filename)\n",
    "    hdf = h5py.File(full_file_name, 'r')\n",
    "    if group not in hdf:\n",
    "        raise ValueError('No such group in file {}'.format(hdf_filename))\n",
    "\n",
    "    # Recursively load groups until datasets are reached\n",
    "    def _load_hdf_group(hdf):\n",
    "        keys = hdf.keys()\n",
    "        data = dict()\n",
    "        for k in keys:\n",
    "            if isinstance(hdf[k], h5py.Group):\n",
    "                data[k] = _load_hdf_group(hdf[k])\n",
    "            else:\n",
    "                k_, v = _load_hdf_dataset(hdf[k], k)\n",
    "                data[k_] = v\n",
    "        return data\n",
    "\n",
    "    data = _load_hdf_group(hdf[group])\n",
    "    hdf.close()\n",
    "    return data\n",
    "\n",
    "def _load_hdf_dataset(dataset, name):\n",
    "    '''\n",
    "    Internal function for loading hdf datasets. Decodes json and unicode data automatically.\n",
    "\n",
    "    Args:\n",
    "        dataset (hdf object): dataset to load\n",
    "        name (str): name of the dataset\n",
    "\n",
    "    Returns:\n",
    "        tuple: Tuple containing:\n",
    "            | **name (str):** name of the dataset (might be modified)\n",
    "            | **data (object):** loaded data\n",
    "    '''\n",
    "    data = dataset[()]\n",
    "    if '_json' in name:\n",
    "        import json\n",
    "        name = name.replace('_json', '')\n",
    "        data = json.loads(data)\n",
    "    try:\n",
    "        data = data.decode('utf-8')\n",
    "    except:\n",
    "        pass\n",
    "    return name, data"
   ]
  },
  {
   "cell_type": "code",
   "execution_count": 2,
   "id": "5802cedd-b3cd-4c74-b71e-a49db1d6c29d",
   "metadata": {
    "execution": {
     "iopub.execute_input": "2025-01-03T21:32:07.572969Z",
     "iopub.status.busy": "2025-01-03T21:32:07.572643Z",
     "iopub.status.idle": "2025-01-03T21:32:11.245183Z",
     "shell.execute_reply": "2025-01-03T21:32:11.243333Z",
     "shell.execute_reply.started": "2025-01-03T21:32:07.572937Z"
    },
    "tags": []
   },
   "outputs": [
    {
     "name": "stderr",
     "output_type": "stream",
     "text": [
      "/home/aolab/miniconda3/envs/np_targeting/lib/python3.9/site-packages/one/alf/files.py:10: FutureWarning: `one.alf.files` will be removed in version 3.0. Use `one.alf.path` instead.\n",
      "  warnings.warn(\n"
     ]
    }
   ],
   "source": [
    "import numpy as np\n",
    "import matplotlib.pyplot as plt\n",
    "import aopy\n",
    "import os\n",
    "import pandas as pds\n",
    "from db import dbfunctions as db\n",
    "from ipywidgets import interactive, widgets\n",
    "import scipy\n",
    "import h5py\n",
    "from tqdm.auto import tqdm \n",
    "import seaborn as sn\n",
    "import sklearn\n",
    "from sklearn.decomposition import PCA, FactorAnalysis\n",
    "from itertools import compress\n",
    "import multiprocessing as mp\n",
    "import time\n",
    "import math\n",
    "from scipy.fft import fft\n",
    "import glob\n",
    "from datetime import date"
   ]
  },
  {
   "cell_type": "markdown",
   "id": "5f1b1345-3532-4c0a-be1b-9895db46adda",
   "metadata": {},
   "source": [
    "# Set parameters"
   ]
  },
  {
   "cell_type": "code",
   "execution_count": 3,
   "id": "fd6e7969-b9c3-4121-8594-a6646a7497f9",
   "metadata": {
    "execution": {
     "iopub.execute_input": "2025-01-03T21:32:11.247353Z",
     "iopub.status.busy": "2025-01-03T21:32:11.246718Z",
     "iopub.status.idle": "2025-01-03T21:32:11.255343Z",
     "shell.execute_reply": "2025-01-03T21:32:11.253666Z",
     "shell.execute_reply.started": "2025-01-03T21:32:11.247314Z"
    },
    "tags": []
   },
   "outputs": [],
   "source": [
    "save_figs = False\n",
    "base_save_dir = \"/media/moor-data/results/Ryan/neuropixel_targeting/\"\n",
    "np_preproc_data_folder = 'np_analysis_preproc_data'\n",
    "ecog_dec_acc_file_name = 'ecog_decoding_maps/npinsert_ecog_decoding'\n",
    "\n",
    "subject = 'beignet'\n",
    "align_events = ['TARGET ONSET', 'GO CUE', 'MOVEMENT ONSET']"
   ]
  },
  {
   "cell_type": "code",
   "execution_count": 4,
   "id": "cd692701-dc60-4b11-a361-5a93fc22ada2",
   "metadata": {
    "execution": {
     "iopub.execute_input": "2025-01-03T21:32:11.256993Z",
     "iopub.status.busy": "2025-01-03T21:32:11.256644Z",
     "iopub.status.idle": "2025-01-03T21:32:11.265730Z",
     "shell.execute_reply": "2025-01-03T21:32:11.264302Z",
     "shell.execute_reply.started": "2025-01-03T21:32:11.256957Z"
    },
    "tags": []
   },
   "outputs": [],
   "source": [
    "# Decoding calculation parameters\n",
    "tbefore = 0.5\n",
    "tafter = 1\n",
    "nlda_lags = 1\n",
    "niter_match = 50\n",
    "min_trial_prop = .85\n",
    "ntrial_bin_size = 96\n",
    "nfolds = 4\n",
    "\n",
    "# Visualization parameters\n",
    "colors = sn.color_palette(n_colors=9)\n",
    "recording_brain_areas={'M1': [30, 56, 47, 40, 121, 48, 120, 98], 'PM':[11, 9, 18, 22, 10, 45]}\n",
    "day_colors = ['dodgerblue', 'indigo', 'violet', 'lightblue', 'mediumorchid',\n",
    "              'purple', 'steelblue', 'dodgerblue', 'lightblue', 'red', 'black', 'green', 'purple', 'cyan', 'gray', 'yellow'] \n",
    "\n",
    "save_dir = \"/media/moor-data/results/Ryan/neuropixel_targeting/np_analysis_preproc_data\""
   ]
  },
  {
   "cell_type": "markdown",
   "id": "00433fce-e97d-46aa-b9c7-c2d30cd2998a",
   "metadata": {},
   "source": [
    "# Load and extract relevant data"
   ]
  },
  {
   "cell_type": "code",
   "execution_count": 5,
   "id": "e4381962-bc14-4232-8991-643780d7c1db",
   "metadata": {
    "execution": {
     "iopub.execute_input": "2025-01-03T21:32:11.267197Z",
     "iopub.status.busy": "2025-01-03T21:32:11.266856Z",
     "iopub.status.idle": "2025-01-03T21:36:25.783297Z",
     "shell.execute_reply": "2025-01-03T21:36:25.781837Z",
     "shell.execute_reply.started": "2025-01-03T21:32:11.267162Z"
    },
    "tags": []
   },
   "outputs": [
    {
     "name": "stdout",
     "output_type": "stream",
     "text": [
      "4.0 min to load preprocessed data\n"
     ]
    }
   ],
   "source": [
    "start = time.time()\n",
    "aopy.utils.release_memory_limit()\n",
    "df, rasters, preproc_metadata = aopy.data.base.pkl_read(f\"{subject}_np_preprocessed\", os.path.join(base_save_dir, np_preproc_data_folder))\n",
    "print(f\"{np.round((time.time()-start)/60)} min to load preprocessed data\")\n",
    "nrecs = preproc_metadata['nrecs']\n",
    "recording_site = preproc_metadata['recording_sites'] # will be the same for all align events\n",
    "implants = ['NP_Insert72' if preproc_metadata['implant'][irec] == 'NP_Insert72' else 'NP_Insert137' for irec in range(len(preproc_metadata['implant']))] #Rename because name in bmi3d is slightly different (TODO)\n",
    "dates = np.unique(df['date'])"
   ]
  },
  {
   "cell_type": "code",
   "execution_count": 6,
   "id": "8099da1e-5d21-40dc-b084-7da935c18dc2",
   "metadata": {
    "execution": {
     "iopub.execute_input": "2025-01-03T21:36:25.785030Z",
     "iopub.status.busy": "2025-01-03T21:36:25.784772Z",
     "iopub.status.idle": "2025-01-03T21:36:25.806165Z",
     "shell.execute_reply": "2025-01-03T21:36:25.804961Z",
     "shell.execute_reply.started": "2025-01-03T21:36:25.785008Z"
    },
    "tags": []
   },
   "outputs": [],
   "source": [
    "ecog_dec_acc = load_hdf_group(base_save_dir, ecog_dec_acc_file_name)"
   ]
  },
  {
   "cell_type": "code",
   "execution_count": 7,
   "id": "07c58de2-234d-416e-a7ae-63d0d7357120",
   "metadata": {
    "execution": {
     "iopub.execute_input": "2025-01-03T21:36:25.809253Z",
     "iopub.status.busy": "2025-01-03T21:36:25.808699Z",
     "iopub.status.idle": "2025-01-03T21:36:25.823977Z",
     "shell.execute_reply": "2025-01-03T21:36:25.822454Z",
     "shell.execute_reply.started": "2025-01-03T21:36:25.809231Z"
    },
    "tags": []
   },
   "outputs": [],
   "source": [
    "qc_results, ksdrift = aopy.data.base.pkl_read(f\"{subject}_QCunits\", os.path.join(base_save_dir, np_preproc_data_folder))\n",
    "# stable_unit_labels = [qc_results['final_good_unit_labels'][irec] for irec in range(nrecs)]\n",
    "# stable_unit_idx = [qc_results['final_good_unit_idx'][irec] for irec in range(nrecs)]\n",
    "# nstable_unit = np.array([len(qc_results['final_good_unit_idx'][irec]) for irec in range(nrecs)])\n",
    "# neuron_pos = [qc_results['position'][irec] for irec in range(nrecs)]\n",
    "\n",
    "# if subject == 'affi':\n",
    "stable_unit_labels = [qc_results['manual_good_unit_labels'][irec] for irec in range(nrecs)]\n",
    "stable_unit_idx = [qc_results['manual_good_unit_idx'][irec] for irec in range(nrecs)]\n",
    "nstable_unit = np.array([len(qc_results['manual_good_unit_idx'][irec]) for irec in range(nrecs)])\n",
    "neuron_pos = [qc_results['manual_position'][irec] for irec in range(nrecs)]"
   ]
  },
  {
   "cell_type": "code",
   "execution_count": 8,
   "id": "a76b4fd6-34ba-403d-964a-8a3f0d801a98",
   "metadata": {
    "execution": {
     "iopub.execute_input": "2025-01-03T21:36:25.825170Z",
     "iopub.status.busy": "2025-01-03T21:36:25.824932Z",
     "iopub.status.idle": "2025-01-03T21:36:25.836149Z",
     "shell.execute_reply": "2025-01-03T21:36:25.834702Z",
     "shell.execute_reply.started": "2025-01-03T21:36:25.825148Z"
    },
    "tags": []
   },
   "outputs": [
    {
     "name": "stdout",
     "output_type": "stream",
     "text": [
      "[ 11  30  55   9  55  40  18  11   9 121  22   9 120  98  45]\n",
      "(15,) 15 [3840. 3840. 3840. 3840. 3840. 3840. 3840. 3840. 3840. 3840. 3840. 3840.\n",
      " 3840. 3840. 3840.]\n"
     ]
    }
   ],
   "source": [
    "if subject == 'beignet':\n",
    "    surface_pos = np.ones(nrecs)*3840\n",
    "elif subject == 'affi':\n",
    "    surface_pos = np.array([3840, 3840, 3400, 3250,3840,3800,3800,3900,3500,3700,2500,3250,2100,3840,3100,1600,3250,2500,3100,3300,3800,3100,3250,2750,2900, 2750,\n",
    "                           3000,3000, 3000,3700, 3000,3700, 3000,3700, 35000])\n",
    "print(preproc_metadata['recording_sites'])\n",
    "print(surface_pos.shape, nrecs, surface_pos)"
   ]
  },
  {
   "cell_type": "code",
   "execution_count": 9,
   "id": "61c2c0de-8ba7-41a5-bf6c-de5b682bec77",
   "metadata": {
    "execution": {
     "iopub.execute_input": "2025-01-03T21:36:25.838029Z",
     "iopub.status.busy": "2025-01-03T21:36:25.837637Z",
     "iopub.status.idle": "2025-01-03T21:36:26.335817Z",
     "shell.execute_reply": "2025-01-03T21:36:26.334218Z",
     "shell.execute_reply.started": "2025-01-03T21:36:25.837993Z"
    },
    "tags": []
   },
   "outputs": [
    {
     "data": {
      "application/vnd.jupyter.widget-view+json": {
       "model_id": "e50ec5f8795b44cd90837182899e3415",
       "version_major": 2,
       "version_minor": 0
      },
      "text/plain": [
       "  0%|          | 0/15 [00:00<?, ?it/s]"
      ]
     },
     "metadata": {},
     "output_type": "display_data"
    }
   ],
   "source": [
    "# compile dataframe of unit information\n",
    "# Need columns for: date, recording site, unit_label, absolute y-pos, relative y-pos, waveform\n",
    "unit_info = {'rec_number': [], 'date': [], 'rec_site': [], 'rec_xpos': [], 'rec_ypos': [], 'rec_rcaxis': [], 'implant': [],\n",
    "             'unit_label': [], 'unit_idx': [], 'abs_depth': [], 'rel_depth': [], 'waveform': [], 'surface_pos': [], 'penetration': []}\n",
    "# unit_info = {'rec_number': [], 'date': [], 'rec_site': [], 'rec_xpos': [], 'rec_ypos': [], 'implant': [],\n",
    "#              'unit_label': [], 'unit_idx': []}\n",
    "surface_buffer = 200\n",
    "for irec in tqdm(range(nrecs)):\n",
    "    # print(irec, nstable_unit[irec], neuron_pos[irec].shape)\n",
    "    for iunit in range(nstable_unit[irec]):\n",
    "        # Only save units that are below the estimated surface of the brain\n",
    "        # if neuron_pos[irec][iunit] <= (surface_pos[irec]+surface_buffer):   \n",
    "        \n",
    "        unit_info['rec_number'].append(irec) # Recording_number\n",
    "        unit_info['date'].append(list(df[df['penetration']==irec]['date'])[0]) # date (assumes each recording is done on a different day)\n",
    "        unit_info['rec_site'].append(preproc_metadata['recording_sites'][irec]) # Recording site\n",
    "        unit_info['rec_xpos'].append(ecog_dec_acc[subject]['rec_locations'][irec,0]) # Recording site x pos in chamber\n",
    "        unit_info['rec_ypos'].append(ecog_dec_acc[subject]['rec_locations'][irec,1]) # Recording site y pos in chamber\n",
    "        unit_info['rec_rcaxis'].append(ecog_dec_acc[subject]['rc_axis'][irec,0]) # Recording site y pos in chamber\n",
    "        unit_info['implant'].append(implants[irec]) # Implant\n",
    "        unit_info['unit_label'].append(stable_unit_labels[irec][iunit]) # unit label output from kilosort\n",
    "        unit_info['unit_idx'].append(stable_unit_idx[irec][iunit]) # unit label output from kilosort\n",
    "        unit_info['abs_depth'].append(surface_pos[irec] - neuron_pos[irec][iunit]) #Absolute depth [um]\n",
    "        unit_info['rel_depth'].append(3840-neuron_pos[irec][iunit]-np.min(3840-neuron_pos[irec])) #Relative depth [um] (to top detected neuron)\n",
    "        unit_info['waveform'].append(qc_results['mean_wfs'][irec][iunit,:]) #waveform\n",
    "        unit_info['surface_pos'].append(surface_pos[irec])\n",
    "        unit_info['penetration'].append(irec)\n",
    "        # unit_info['waveform'].append(qc_results['manual_wfs'][irec][iunit,:]) #waveform\n",
    "        "
   ]
  },
  {
   "cell_type": "code",
   "execution_count": 10,
   "id": "6d22c72e-b007-4bb4-9f54-b43525e6f845",
   "metadata": {
    "execution": {
     "iopub.execute_input": "2025-01-03T21:36:26.337200Z",
     "iopub.status.busy": "2025-01-03T21:36:26.336971Z",
     "iopub.status.idle": "2025-01-03T21:36:26.350769Z",
     "shell.execute_reply": "2025-01-03T21:36:26.349409Z",
     "shell.execute_reply.started": "2025-01-03T21:36:26.337178Z"
    },
    "tags": []
   },
   "outputs": [],
   "source": [
    "unit_df = pds.DataFrame(unit_info)"
   ]
  },
  {
   "cell_type": "markdown",
   "id": "f5c27f6f-9304-484d-b19d-a5d1505c3f6f",
   "metadata": {},
   "source": [
    "# Create pseudopopulations"
   ]
  },
  {
   "cell_type": "code",
   "execution_count": 11,
   "id": "149ea534-93ef-412d-b436-9c2a6640b462",
   "metadata": {
    "execution": {
     "iopub.execute_input": "2025-01-03T21:36:26.351969Z",
     "iopub.status.busy": "2025-01-03T21:36:26.351744Z",
     "iopub.status.idle": "2025-01-03T21:36:26.358501Z",
     "shell.execute_reply": "2025-01-03T21:36:26.356905Z",
     "shell.execute_reply.started": "2025-01-03T21:36:26.351949Z"
    },
    "tags": []
   },
   "outputs": [],
   "source": [
    "pp_configs = ['random', 'column', 'depth'] # Pseudopopulation cofigurations "
   ]
  },
  {
   "cell_type": "markdown",
   "id": "7f473ec7-a65c-4dc6-b02e-7a4cd8364ef3",
   "metadata": {},
   "source": [
    "## Random"
   ]
  },
  {
   "cell_type": "code",
   "execution_count": 12,
   "id": "1f8fbb39-0e5a-47b0-a548-d657e70b0649",
   "metadata": {
    "execution": {
     "iopub.execute_input": "2025-01-03T21:36:26.359767Z",
     "iopub.status.busy": "2025-01-03T21:36:26.359547Z",
     "iopub.status.idle": "2025-01-03T21:36:26.676107Z",
     "shell.execute_reply": "2025-01-03T21:36:26.674539Z",
     "shell.execute_reply.started": "2025-01-03T21:36:26.359747Z"
    },
    "tags": []
   },
   "outputs": [],
   "source": [
    "# Create random neuron populations\n",
    "nrandom_units = 10 # Number of random units chosen in each group\n",
    "nrandom_groups = 1000 # Number of random groups to make\n",
    "random_group_info = []\n",
    "for igroup in range(nrandom_groups):\n",
    "    group_idx = np.random.choice(np.arange(len(unit_df)), size=(nrandom_units), replace=False)\n",
    "    random_group_info.append(unit_df.loc[group_idx])"
   ]
  },
  {
   "cell_type": "markdown",
   "id": "e1b3c1a9-aff8-4f9f-a424-19a89a3c71a3",
   "metadata": {},
   "source": [
    "## Column"
   ]
  },
  {
   "cell_type": "code",
   "execution_count": 13,
   "id": "ff199eb7-dd3c-4271-8226-9a9b2ec79d79",
   "metadata": {
    "execution": {
     "iopub.execute_input": "2025-01-03T21:36:26.677427Z",
     "iopub.status.busy": "2025-01-03T21:36:26.677215Z",
     "iopub.status.idle": "2025-01-03T21:36:26.683663Z",
     "shell.execute_reply": "2025-01-03T21:36:26.682073Z",
     "shell.execute_reply.started": "2025-01-03T21:36:26.677408Z"
    },
    "tags": []
   },
   "outputs": [],
   "source": [
    "unique_rec_pos, unique_rec_pos_idx = np.unique(ecog_dec_acc[subject]['rec_locations'], axis=0, return_index=True)\n",
    "column_group_info = []"
   ]
  },
  {
   "cell_type": "code",
   "execution_count": 14,
   "id": "853f8810-8fdd-42ed-a1c1-5b6f838f3a75",
   "metadata": {
    "execution": {
     "iopub.execute_input": "2025-01-03T21:36:26.685173Z",
     "iopub.status.busy": "2025-01-03T21:36:26.684941Z",
     "iopub.status.idle": "2025-01-03T21:36:26.709252Z",
     "shell.execute_reply": "2025-01-03T21:36:26.707700Z",
     "shell.execute_reply.started": "2025-01-03T21:36:26.685154Z"
    },
    "tags": []
   },
   "outputs": [],
   "source": [
    "# Create random neuron populations from each recording_location\n",
    "min_probe_depth = 0 #[um]\n",
    "unique_rec_pos, unique_rec_pos_idx = np.unique(ecog_dec_acc[subject]['rec_locations'], axis=0, return_index=True)\n",
    "column_group_info = []\n",
    "for ipos in range(unique_rec_pos.shape[0]):\n",
    "    pos = unique_rec_pos[ipos,:]\n",
    "    new_df = unit_df.loc[(unit_df['rec_xpos']==pos[0]) & (unit_df['rec_ypos']==pos[1]) & (unit_df['surface_pos']>min_probe_depth)].reset_index()\n",
    "    \n",
    "    # Add a row of 0 if there are no units so code works. There is no recording site 0 because it is 1-indexed.\n",
    "    if len(new_df)==0:   \n",
    "        new_df.loc[0] = [np.nan] * len(new_df.columns)\n",
    "        new_df['rec_site'] = ecog_dec_acc[subject]['rec_sites'][unique_rec_pos_idx[ipos]]\n",
    "        new_df['implant'] = implants[unique_rec_pos_idx[ipos]]\n",
    "        \n",
    "    column_group_info.append(new_df) #only use sites whose surface position is greater than a threshold\n",
    "\n",
    "    # print(unit_df.loc[(unit_df['rec_xpos']==pos[0]) & (unit_df['rec_ypos']==pos[1])].reset_index())\n",
    "    # print(len(column_group_info[ipos]),column_group_info[ipos]['rec_site'][0])"
   ]
  },
  {
   "cell_type": "code",
   "execution_count": 15,
   "id": "dfacf4ab-ef8d-4c9b-b707-9e916a6325c2",
   "metadata": {
    "execution": {
     "iopub.execute_input": "2025-01-03T21:36:26.710501Z",
     "iopub.status.busy": "2025-01-03T21:36:26.710283Z",
     "iopub.status.idle": "2025-01-03T21:36:26.719363Z",
     "shell.execute_reply": "2025-01-03T21:36:26.718392Z",
     "shell.execute_reply.started": "2025-01-03T21:36:26.710482Z"
    },
    "tags": []
   },
   "outputs": [
    {
     "name": "stdout",
     "output_type": "stream",
     "text": [
      "nUnits:   [5, 3, 5, 27, 10, 17, 89, 22, 33, 85, 40, 46]\n",
      "Rec Site: [9, 9, 18, 11, 22, 45, 55, 30, 40, 98, 120, 121]\n",
      "12\n",
      "[[-4.55999021  3.03999347]\n",
      " [-3.99998992  1.99999496]\n",
      " [-1.99999496  1.99999496]\n",
      " [-1.99999496  3.99998992]\n",
      " [-1.51999674  4.55999021]\n",
      " [ 0.          3.03999347]\n",
      " [ 0.99999748 -2.99999244]\n",
      " [ 1.99999496  3.99998992]\n",
      " [ 2.99999244  2.99999244]\n",
      " [ 3.79999184  0.75999837]\n",
      " [ 4.55999021 -1.51999674]\n",
      " [ 5.31998858 -0.75999837]]\n",
      "[ 11  30  55   9  55  40  18  11   9 121  22   9 120  98  45]\n"
     ]
    }
   ],
   "source": [
    "print('nUnits:  ', [len(column_group_info[ii]) for ii in range(len(column_group_info))])\n",
    "print('Rec Site:', [column_group_info[ii]['rec_site'][0] for ii in range(len(column_group_info))])\n",
    "print(len(unique_rec_pos))\n",
    "print(unique_rec_pos)\n",
    "print(recording_site)"
   ]
  },
  {
   "cell_type": "markdown",
   "id": "9663e792-6bd0-4cce-abae-d4ec194279a3",
   "metadata": {},
   "source": [
    "## Depth"
   ]
  },
  {
   "cell_type": "code",
   "execution_count": 16,
   "id": "1ff454c8-e8c7-482b-9004-d3c9afbb75d9",
   "metadata": {
    "execution": {
     "iopub.execute_input": "2025-01-03T21:36:26.720570Z",
     "iopub.status.busy": "2025-01-03T21:36:26.720356Z",
     "iopub.status.idle": "2025-01-03T21:36:26.725416Z",
     "shell.execute_reply": "2025-01-03T21:36:26.724077Z",
     "shell.execute_reply.started": "2025-01-03T21:36:26.720551Z"
    },
    "tags": []
   },
   "outputs": [],
   "source": [
    "# depth_ranges = [(0,1000), (1000, 2000), (2000, 100000)] #Boundary distinguishing shallow and deep neurons "
   ]
  },
  {
   "cell_type": "code",
   "execution_count": 17,
   "id": "be9957bb-f500-4bef-ba38-e842a789cfbe",
   "metadata": {
    "execution": {
     "iopub.execute_input": "2025-01-03T21:36:26.726660Z",
     "iopub.status.busy": "2025-01-03T21:36:26.726437Z",
     "iopub.status.idle": "2025-01-03T21:36:26.747535Z",
     "shell.execute_reply": "2025-01-03T21:36:26.746047Z",
     "shell.execute_reply.started": "2025-01-03T21:36:26.726641Z"
    },
    "tags": []
   },
   "outputs": [],
   "source": [
    "# Create random neuron populations from neurons at different depths\n",
    "\n",
    "depth_ranges = [(0,1000),(250,1250),(500,1500),(750,1750),(1000,2000),(1250,2250),(1500,2500),(1750,2750),(2000,3000),(2250,3250),(2500,3500),(2750,3750),(np.max(unit_df['rel_depth'])-1000,np.max(unit_df['rel_depth']))] #Boundary distinguishing shallow and deep neurons \n",
    "\n",
    "depth_group_info = []\n",
    "for irange, depth_range in enumerate(depth_ranges):\n",
    "    depth_group_info.append(unit_df.loc[(unit_df['rel_depth'] >= depth_range[0]) & (unit_df['rel_depth'] < depth_range[1])].reset_index())"
   ]
  },
  {
   "cell_type": "code",
   "execution_count": 18,
   "id": "7ef30a12-00a5-464f-a72f-8c36ded1ca89",
   "metadata": {
    "execution": {
     "iopub.execute_input": "2025-01-03T21:36:26.748624Z",
     "iopub.status.busy": "2025-01-03T21:36:26.748412Z",
     "iopub.status.idle": "2025-01-03T21:36:26.890875Z",
     "shell.execute_reply": "2025-01-03T21:36:26.889045Z",
     "shell.execute_reply.started": "2025-01-03T21:36:26.748605Z"
    },
    "tags": []
   },
   "outputs": [],
   "source": [
    "#Create random neuron populations for each recording site from neurons at different depths\n",
    "\n",
    "depth_group_info_by_site = {}\n",
    "unique_sites = np.unique(unit_df['rec_site'])\n",
    "for isite, site in enumerate(unique_sites):\n",
    "    depth_group_info_by_site[site] = []\n",
    "    for irange, depth_range in enumerate(depth_ranges):\n",
    "        depth_mask = (unit_df['rel_depth'] >= depth_range[0]) & (unit_df['rel_depth'] < depth_range[1])\n",
    "        site_mask = unit_df['rec_site'] == site\n",
    "        depth_group_info_by_site[site].append(unit_df.loc[depth_mask*site_mask].reset_index())"
   ]
  },
  {
   "cell_type": "code",
   "execution_count": 19,
   "id": "e0e0c97e",
   "metadata": {
    "execution": {
     "iopub.execute_input": "2025-01-03T21:36:26.892110Z",
     "iopub.status.busy": "2025-01-03T21:36:26.891890Z",
     "iopub.status.idle": "2025-01-03T21:36:26.899540Z",
     "shell.execute_reply": "2025-01-03T21:36:26.898316Z",
     "shell.execute_reply.started": "2025-01-03T21:36:26.892090Z"
    },
    "tags": []
   },
   "outputs": [
    {
     "name": "stdout",
     "output_type": "stream",
     "text": [
      "9 [7, 5, 4, 2, 1, 0, 0, 0, 0, 0, 0, 0, 0]\n",
      "11 [9, 8, 7, 5, 3, 4, 3, 7, 6, 8, 12, 9, 9]\n",
      "18 [4, 1, 1, 1, 0, 0, 0, 1, 1, 1, 1, 0, 1]\n",
      "22 [3, 0, 1, 1, 1, 3, 3, 4, 4, 3, 3, 2, 2]\n",
      "30 [2, 2, 4, 5, 8, 7, 5, 7, 7, 10, 11, 8, 8]\n",
      "40 [4, 5, 9, 11, 12, 14, 12, 12, 11, 10, 10, 7, 7]\n",
      "45 [3, 4, 4, 7, 7, 6, 7, 7, 7, 6, 4, 1, 2]\n",
      "55 [10, 16, 19, 23, 26, 25, 33, 39, 39, 45, 34, 21, 25]\n",
      "98 [13, 17, 16, 15, 13, 16, 21, 27, 36, 34, 35, 34, 34]\n",
      "120 [8, 10, 10, 9, 12, 11, 11, 13, 9, 11, 14, 11, 11]\n",
      "121 [5, 7, 7, 14, 17, 18, 20, 19, 16, 17, 16, 9, 11]\n"
     ]
    }
   ],
   "source": [
    "for isite, site in enumerate(unique_sites):\n",
    "    print(site, [len(depth_group_info_by_site[site][idepth]) for idepth in range(len(depth_group_info_by_site[site]))])"
   ]
  },
  {
   "cell_type": "code",
   "execution_count": 20,
   "id": "f3802b88-a10b-49c1-8c08-0c99cec6efba",
   "metadata": {
    "execution": {
     "iopub.execute_input": "2025-01-03T21:36:26.900928Z",
     "iopub.status.busy": "2025-01-03T21:36:26.900708Z",
     "iopub.status.idle": "2025-01-03T21:36:26.927848Z",
     "shell.execute_reply": "2025-01-03T21:36:26.926242Z",
     "shell.execute_reply.started": "2025-01-03T21:36:26.900909Z"
    },
    "tags": []
   },
   "outputs": [
    {
     "name": "stdout",
     "output_type": "stream",
     "text": [
      "    index  rec_number        date  rec_site  rec_xpos  rec_ypos  rec_rcaxis  \\\n",
      "0     116           5  2023-08-29        40  2.999992  2.999992    2.999992   \n",
      "1     117           5  2023-08-29        40  2.999992  2.999992    2.999992   \n",
      "2     118           5  2023-08-29        40  2.999992  2.999992    2.999992   \n",
      "3     119           5  2023-08-29        40  2.999992  2.999992    2.999992   \n",
      "4     120           5  2023-08-29        40  2.999992  2.999992    2.999992   \n",
      "5     121           5  2023-08-29        40  2.999992  2.999992    2.999992   \n",
      "6     122           5  2023-08-29        40  2.999992  2.999992    2.999992   \n",
      "7     123           5  2023-08-29        40  2.999992  2.999992    2.999992   \n",
      "8     124           5  2023-08-29        40  2.999992  2.999992    2.999992   \n",
      "9     125           5  2023-08-29        40  2.999992  2.999992    2.999992   \n",
      "10    126           5  2023-08-29        40  2.999992  2.999992    2.999992   \n",
      "11    127           5  2023-08-29        40  2.999992  2.999992    2.999992   \n",
      "12    128           5  2023-08-29        40  2.999992  2.999992    2.999992   \n",
      "13    129           5  2023-08-29        40  2.999992  2.999992    2.999992   \n",
      "14    130           5  2023-08-29        40  2.999992  2.999992    2.999992   \n",
      "15    131           5  2023-08-29        40  2.999992  2.999992    2.999992   \n",
      "16    132           5  2023-08-29        40  2.999992  2.999992    2.999992   \n",
      "17    133           5  2023-08-29        40  2.999992  2.999992    2.999992   \n",
      "18    134           5  2023-08-29        40  2.999992  2.999992    2.999992   \n",
      "19    135           5  2023-08-29        40  2.999992  2.999992    2.999992   \n",
      "20    136           5  2023-08-29        40  2.999992  2.999992    2.999992   \n",
      "21    137           5  2023-08-29        40  2.999992  2.999992    2.999992   \n",
      "22    138           5  2023-08-29        40  2.999992  2.999992    2.999992   \n",
      "23    139           5  2023-08-29        40  2.999992  2.999992    2.999992   \n",
      "24    140           5  2023-08-29        40  2.999992  2.999992    2.999992   \n",
      "25    141           5  2023-08-29        40  2.999992  2.999992    2.999992   \n",
      "26    142           5  2023-08-29        40  2.999992  2.999992    2.999992   \n",
      "27    143           5  2023-08-29        40  2.999992  2.999992    2.999992   \n",
      "28    144           5  2023-08-29        40  2.999992  2.999992    2.999992   \n",
      "29    145           5  2023-08-29        40  2.999992  2.999992    2.999992   \n",
      "30    146           5  2023-08-29        40  2.999992  2.999992    2.999992   \n",
      "31    147           5  2023-08-29        40  2.999992  2.999992    2.999992   \n",
      "32    148           5  2023-08-29        40  2.999992  2.999992    2.999992   \n",
      "\n",
      "        implant  unit_label  unit_idx  abs_depth  rel_depth  \\\n",
      "0   NP_Insert72           6         5     3740.0     3440.0   \n",
      "1   NP_Insert72           7         6     3720.0     3420.0   \n",
      "2   NP_Insert72          22        19     3560.0     3260.0   \n",
      "3   NP_Insert72          28        25     3420.0     3120.0   \n",
      "4   NP_Insert72          31        28     3380.0     3080.0   \n",
      "5   NP_Insert72          36        33     3320.0     3020.0   \n",
      "6   NP_Insert72          59        53     2920.0     2620.0   \n",
      "7   NP_Insert72          60        54     2900.0     2600.0   \n",
      "8   NP_Insert72          62        56     2820.0     2520.0   \n",
      "9   NP_Insert72          84        71     2500.0     2200.0   \n",
      "10  NP_Insert72          93        78     2360.0     2060.0   \n",
      "11  NP_Insert72          96        81     2340.0     2040.0   \n",
      "12  NP_Insert72         103        87     2200.0     1900.0   \n",
      "13  NP_Insert72         105        89     2160.0     1860.0   \n",
      "14  NP_Insert72         112        96     2040.0     1740.0   \n",
      "15  NP_Insert72         122       106     1920.0     1620.0   \n",
      "16  NP_Insert72         125       109     1880.0     1580.0   \n",
      "17  NP_Insert72         135       119     1740.0     1440.0   \n",
      "18  NP_Insert72         137       121     1720.0     1420.0   \n",
      "19  NP_Insert72         141       125     1680.0     1380.0   \n",
      "20  NP_Insert72         146       130     1620.0     1320.0   \n",
      "21  NP_Insert72         204       186      680.0      380.0   \n",
      "22  NP_Insert72         227       209      300.0        0.0   \n",
      "23  NP_Insert72         298       268     3100.0     2800.0   \n",
      "24  NP_Insert72         305       275     2760.0     2460.0   \n",
      "25  NP_Insert72         309       279     2720.0     2420.0   \n",
      "26  NP_Insert72         323       293     2340.0     2040.0   \n",
      "27  NP_Insert72         347       317     1780.0     1480.0   \n",
      "28  NP_Insert72         362       332     1420.0     1120.0   \n",
      "29  NP_Insert72         367       337     1240.0      940.0   \n",
      "30  NP_Insert72         401       370      820.0      520.0   \n",
      "31  NP_Insert72         469       436     2680.0     2380.0   \n",
      "32  NP_Insert72         488       455     1500.0     1200.0   \n",
      "\n",
      "                                             waveform  surface_pos  \\\n",
      "0   [-2.342084832430659, -2.1312010278854934, -2.1...       3840.0   \n",
      "1   [-0.5955556387344042, -0.6063085988193724, -0....       3840.0   \n",
      "2   [-5.7606308586904635, -5.682519684911507, -5.6...       3840.0   \n",
      "3   [-3.1314732451706906, -3.378964871497801, -3.3...       3840.0   \n",
      "4   [-7.0888956306323285, -7.28052824082509, -7.26...       3840.0   \n",
      "5   [-3.896675033428228, -3.9410856773742786, -3.9...       3840.0   \n",
      "6   [-4.1160969180009035, -4.273291237837388, -4.1...       3840.0   \n",
      "7   [-1.2968312653032863, -1.185192889207289, -1.3...       3840.0   \n",
      "8   [-0.8149638404643176, -0.7408807202101596, -0....       3840.0   \n",
      "9   [-1.394840559600721, -1.3556839815992903, -1.3...       3840.0   \n",
      "10  [-1.2400009773553342, -1.154241942884933, -1.1...       3840.0   \n",
      "11  [0.020994488158134324, 0.033774216333407096, 0...       3840.0   \n",
      "12  [-2.070741745489302, -2.129878641800546, -2.17...       3840.0   \n",
      "13  [-0.05899508120183606, -0.055031690441114015, ...       3840.0   \n",
      "14  [-1.0885212480083255, -1.0005893247204358, -0....       3840.0   \n",
      "15  [-4.539849317609178, -4.546397286130196, -4.47...       3840.0   \n",
      "16  [-4.133473478011533, -4.055449044255263, -4.02...       3840.0   \n",
      "17  [-2.166231360067183, -2.1955751653648803, -2.1...       3840.0   \n",
      "18  [0.03446681955638896, -0.01687825383333661, 0....       3840.0   \n",
      "19  [-2.228645224293912, -2.1909705256657257, -2.1...       3840.0   \n",
      "20  [-0.551787915953583, -0.5209927692734609, -0.5...       3840.0   \n",
      "21  [-1.8899647643195943, -1.8936315401772243, -1....       3840.0   \n",
      "22  [-1.034657816467088, -0.9969528588106361, -1.0...       3840.0   \n",
      "23  [-7.0270787801210455, -7.034562108286767, -6.9...       3840.0   \n",
      "24  [-1.7803266009658036, -1.7359598441870407, -1....       3840.0   \n",
      "25  [-0.06201768238018871, -0.05393074878821544, -...       3840.0   \n",
      "26  [-2.7886434958950415, -2.8903420842960488, -2....       3840.0   \n",
      "27  [-3.952156686970929, -4.0312698700545795, -3.9...       3840.0   \n",
      "28  [-2.5660968921456138, -2.476372087431113, -2.4...       3840.0   \n",
      "29  [-2.0190725621083825, -2.036564022908468, -2.0...       3840.0   \n",
      "30  [-1.5943619233792745, -1.559609756621515, -1.5...       3840.0   \n",
      "31  [-0.9411901017707474, -0.8401912295444842, -0....       3840.0   \n",
      "32  [-0.3647302596678661, -0.35028762492707705, -0...       3840.0   \n",
      "\n",
      "    penetration  \n",
      "0             5  \n",
      "1             5  \n",
      "2             5  \n",
      "3             5  \n",
      "4             5  \n",
      "5             5  \n",
      "6             5  \n",
      "7             5  \n",
      "8             5  \n",
      "9             5  \n",
      "10            5  \n",
      "11            5  \n",
      "12            5  \n",
      "13            5  \n",
      "14            5  \n",
      "15            5  \n",
      "16            5  \n",
      "17            5  \n",
      "18            5  \n",
      "19            5  \n",
      "20            5  \n",
      "21            5  \n",
      "22            5  \n",
      "23            5  \n",
      "24            5  \n",
      "25            5  \n",
      "26            5  \n",
      "27            5  \n",
      "28            5  \n",
      "29            5  \n",
      "30            5  \n",
      "31            5  \n",
      "32            5  \n"
     ]
    }
   ],
   "source": [
    "print(column_group_info[-4])"
   ]
  },
  {
   "cell_type": "markdown",
   "id": "9e8dabf5",
   "metadata": {},
   "source": [
    "# Save"
   ]
  },
  {
   "cell_type": "code",
   "execution_count": 21,
   "id": "121813b3-8d62-451f-ab69-6a31bfbb61be",
   "metadata": {
    "execution": {
     "iopub.execute_input": "2025-01-03T21:36:26.928753Z",
     "iopub.status.busy": "2025-01-03T21:36:26.928537Z",
     "iopub.status.idle": "2025-01-03T21:36:26.935672Z",
     "shell.execute_reply": "2025-01-03T21:36:26.934435Z",
     "shell.execute_reply.started": "2025-01-03T21:36:26.928733Z"
    },
    "tags": []
   },
   "outputs": [
    {
     "name": "stdout",
     "output_type": "stream",
     "text": [
      "{'nrandom_units': 10, 'nrandom_groups': 1000, 'depth_ranges': [(0, 1000), (250, 1250), (500, 1500), (750, 1750), (1000, 2000), (1250, 2250), (1500, 2500), (1750, 2750), (2000, 3000), (2250, 3250), (2500, 3500), (2750, 3750), (2720.0, 3720.0)]}\n"
     ]
    }
   ],
   "source": [
    "pseudopopulation_metadata = {'nrandom_units': nrandom_units, 'nrandom_groups': nrandom_groups, 'depth_ranges': depth_ranges}\n",
    "print(pseudopopulation_metadata)"
   ]
  },
  {
   "cell_type": "code",
   "execution_count": 22,
   "id": "1e880982-c856-4aac-b805-1a4d75af210c",
   "metadata": {
    "execution": {
     "iopub.execute_input": "2025-01-03T21:36:26.938929Z",
     "iopub.status.busy": "2025-01-03T21:36:26.938689Z",
     "iopub.status.idle": "2025-01-03T21:36:27.147478Z",
     "shell.execute_reply": "2025-01-03T21:36:27.145858Z",
     "shell.execute_reply.started": "2025-01-03T21:36:26.938909Z"
    },
    "tags": []
   },
   "outputs": [],
   "source": [
    "# Save data\n",
    "aopy.data.base.pkl_write(f\"{subject}_np_psuedopopulations\", (random_group_info, column_group_info, depth_group_info, depth_group_info_by_site, pseudopopulation_metadata, unit_df), save_dir)"
   ]
  },
  {
   "cell_type": "code",
   "execution_count": 23,
   "id": "c84e80ed-dfa1-4132-b81a-a1666257edda",
   "metadata": {
    "execution": {
     "iopub.execute_input": "2025-01-03T21:36:27.148740Z",
     "iopub.status.busy": "2025-01-03T21:36:27.148570Z",
     "iopub.status.idle": "2025-01-03T21:36:27.155291Z",
     "shell.execute_reply": "2025-01-03T21:36:27.154138Z",
     "shell.execute_reply.started": "2025-01-03T21:36:27.148725Z"
    },
    "tags": []
   },
   "outputs": [
    {
     "name": "stdout",
     "output_type": "stream",
     "text": [
      "68\n",
      "75\n",
      "82\n"
     ]
    }
   ],
   "source": [
    "print(len(depth_group_info[0]))\n",
    "print(len(depth_group_info[1]))\n",
    "print(len(depth_group_info[2]))\n"
   ]
  },
  {
   "cell_type": "code",
   "execution_count": 24,
   "id": "63b4eb15-15d3-492c-9bce-9ab64035ccd0",
   "metadata": {
    "execution": {
     "iopub.execute_input": "2025-01-03T21:36:27.156261Z",
     "iopub.status.busy": "2025-01-03T21:36:27.156092Z",
     "iopub.status.idle": "2025-01-03T21:36:27.165185Z",
     "shell.execute_reply": "2025-01-03T21:36:27.164093Z",
     "shell.execute_reply.started": "2025-01-03T21:36:27.156246Z"
    },
    "tags": []
   },
   "outputs": [
    {
     "data": {
      "text/plain": [
       "numpy.ndarray"
      ]
     },
     "execution_count": 24,
     "metadata": {},
     "output_type": "execute_result"
    }
   ],
   "source": [
    "aopy.utils.get_memory_available_gb()\n",
    "type(df['unit_labels'][df['date']==dates[0]][0])"
   ]
  },
  {
   "cell_type": "code",
   "execution_count": null,
   "id": "1abfc1a4-4e6c-4722-b3e5-63a4489adc08",
   "metadata": {},
   "outputs": [],
   "source": []
  },
  {
   "cell_type": "code",
   "execution_count": null,
   "id": "d5487206-0423-4f3c-babc-eeb277610fde",
   "metadata": {},
   "outputs": [],
   "source": []
  },
  {
   "cell_type": "code",
   "execution_count": null,
   "id": "a8521630-fa5e-42f7-a701-5709d6694596",
   "metadata": {},
   "outputs": [],
   "source": []
  },
  {
   "cell_type": "code",
   "execution_count": null,
   "id": "4716a869-52d9-45d3-97cc-0144c383a1e1",
   "metadata": {},
   "outputs": [],
   "source": []
  },
  {
   "cell_type": "code",
   "execution_count": null,
   "id": "d1aaceda-23cc-49ba-becf-3c420cdc25f0",
   "metadata": {},
   "outputs": [],
   "source": []
  },
  {
   "cell_type": "code",
   "execution_count": null,
   "id": "fb8cacde-7044-4538-b5fd-11d5d32f95d0",
   "metadata": {},
   "outputs": [],
   "source": []
  },
  {
   "cell_type": "code",
   "execution_count": null,
   "id": "f26ba814-536e-42c5-94a0-a28d6e094102",
   "metadata": {},
   "outputs": [],
   "source": []
  }
 ],
 "metadata": {
  "kernelspec": {
   "display_name": "Python [conda env:np_targeting]",
   "language": "python",
   "name": "conda-env-np_targeting-py"
  },
  "language_info": {
   "codemirror_mode": {
    "name": "ipython",
    "version": 3
   },
   "file_extension": ".py",
   "mimetype": "text/x-python",
   "name": "python",
   "nbconvert_exporter": "python",
   "pygments_lexer": "ipython3",
   "version": "3.9.18"
  }
 },
 "nbformat": 4,
 "nbformat_minor": 5
}
