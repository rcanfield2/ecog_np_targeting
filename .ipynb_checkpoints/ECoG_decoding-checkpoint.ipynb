{
 "cells": [
  {
   "cell_type": "code",
   "execution_count": 1,
   "metadata": {
    "execution": {
     "iopub.execute_input": "2024-09-19T02:33:45.781795Z",
     "iopub.status.busy": "2024-09-19T02:33:45.781132Z",
     "iopub.status.idle": "2024-09-19T02:33:50.006564Z",
     "shell.execute_reply": "2024-09-19T02:33:50.005061Z",
     "shell.execute_reply.started": "2024-09-19T02:33:45.781737Z"
    },
    "tags": []
   },
   "outputs": [],
   "source": [
    "import aopy\n",
    "import numpy as np\n",
    "from scipy import stats\n",
    "import matplotlib.pyplot as plt\n",
    "from db import dbfunctions as db\n",
    "from IPython.display import display, Markdown,HTML\n",
    "from sklearn.discriminant_analysis import LinearDiscriminantAnalysis\n",
    "from sklearn.model_selection import KFold\n",
    "from tqdm.notebook import tqdm\n",
    "from sklearn.metrics import accuracy_score\n",
    "\n",
    "plt.rcParams['font.size'] = 15\n",
    "plt.rcParams['lines.linewidth'] = 1\n",
    "plt.rcParams['lines.linestyle'] = '-'\n",
    "plt.rcParams[\"figure.figsize\"] = (4,3)\n",
    "plt.rcParams['legend.fontsize'] = 'medium'\n",
    "plt.rcParams['axes.titlesize'] = 'medium'\n",
    "colorlist = ['r','g','b','c','m','y']\n",
    "colors = plt.rcParams['axes.prop_cycle'].by_key()['color']\n",
    "\n",
    "# EVENT CODE\n",
    "CENTER_TARGET_ON = 16\n",
    "CURSOR_ENTER_CENTER_TARGET = 80\n",
    "CURSOR_ENTER_PERIPHERAL_TARGET = list(range(81,89))\n",
    "PERIPHERAL_TARGET_ON = list(range(17,25))\n",
    "CENTER_TARGET_OFF = 32\n",
    "REWARD = 48\n",
    "DELAY_PENALTY = 66\n",
    "TIMEOUT_PENALTY = 65\n",
    "HOLD_PENALTY = 64\n",
    "PAUSE = 254\n",
    "TIME_ZERO = 238\n",
    "TRIAL_END = 239\n",
    "END_TRIAL_CODE = TRIAL_END\n",
    "def get_trial_segment(traj, fs, time_start, time_end):\n",
    "    \n",
    "    ntr = time_start.shape[0]\n",
    "    t_axis = np.arange(traj.shape[0])/fs\n",
    "    \n",
    "    segmented_traj = []\n",
    "    for itr in range(ntr):\n",
    "        win = (t_axis>=time_start[itr])&(t_axis<=time_end[itr])\n",
    "        segmented_traj.append(traj[win,:])\n",
    "        \n",
    "    segmented_traj = np.array(segmented_traj, 'object')\n",
    "    return segmented_traj\n",
    "\n",
    "def get_preproc_kinematic_segment(proc_data, samplerate, event_code,event_timestamp, TRIAL_START, TRIAL_END, trial_filter):\n",
    "    trial_segments, trial_times = aopy.postproc.get_trial_segments(event_code,event_timestamp,TRIAL_START, TRIAL_END)\n",
    "    trajectories = np.array(aopy.postproc.get_data_segments(proc_data, trial_times, samplerate), dtype='object')\n",
    "    trial_segments = np.array(trial_segments, dtype='object')\n",
    "    trial_times = np.array(trial_times, dtype='object')\n",
    "    success_trials = [trial_filter(t) for t in trial_segments]\n",
    "    \n",
    "    return trajectories[success_trials],trial_segments[success_trials],trial_times[success_trials]\n",
    "\n",
    "def get_cursor_leave_center_time(data, times, samplerate, target_radius):\n",
    "    '''\n",
    "    Compute the time when the cursor leaves the center target radius\n",
    "    \n",
    "    Args:\n",
    "        traj (ntrials list of (nt,2)): x,y trajectory data\n",
    "        times (ntrials list of timestamps): The first and the last timestamp of each list must be trial start time and reward time\n",
    "        target_radius (float): the radius of the center target\n",
    "        \n",
    "    Returns:\n",
    "        cursor_leave_center_time (ntrials list): the time when the cursor leaves the center target radius\n",
    "    '''\n",
    "    ntr = len(data)\n",
    "    cursor_leave_center_time = []\n",
    "    \n",
    "    for itr in range(ntr):\n",
    "        t_axis = np.arange(data[itr].shape[0])/samplerate\n",
    "        \n",
    "        dist = np.sqrt(data[itr][:,0]**2 + data[itr][:,1]**2)\n",
    "        leave_idx = np.where(dist>target_radius)[0]\n",
    "        temp = t_axis[leave_idx]\n",
    "        cursor_leave_center_time.append(temp[0])\n",
    "    \n",
    "    return cursor_leave_center_time\n",
    "\n",
    "def get_main_saccade(onset_target, offset_target, onset_event, offset_event, target_idx):\n",
    "    '''\n",
    "    Finds a main saccade to look at the peripheral target from the center target in a given trial\n",
    "    \n",
    "    Args:\n",
    "        onset_target\n",
    "        offset_target\n",
    "        onset_event\n",
    "        offset_event\n",
    "        target_idx\n",
    "        \n",
    "    Returns:\n",
    "        saccade_targ\n",
    "    '''\n",
    "    saccade_index = np.vstack([onset_target,offset_target])\n",
    "    saccade_event = np.vstack([onset_event,offset_event])\n",
    "\n",
    "    nsaccade = onset_target.shape[0]\n",
    "    \n",
    "    saccade_for_target = np.array([0, int(target_idx)]) # The saccade for the peripheral target\n",
    "    event_for_gocue = np.array([32,32])\n",
    "\n",
    "    saccade_for_target_idx = -1\n",
    "    for isaccade in range(nsaccade):\n",
    "        sac_idx = saccade_index[:,isaccade]\n",
    "        sac_event = saccade_event[:,isaccade]\n",
    "\n",
    "        # find a saccade for the peripheral target after gocue\n",
    "        #if np.all(sac_idx == saccade_for_target) & np.all(sac_event == event_for_gocue):#& (sum(onset_event == 32) ==1):\n",
    "        if np.all(offset_target[isaccade] == int(target_idx)):# & np.all(offset_event[isaccade] == 32):\n",
    "            saccade_for_target_idx = isaccade\n",
    "    \n",
    "    return saccade_for_target_idx\n",
    "\n",
    "def detect_movement_onset(cursor_traj, fs, trial_start, target_onset, gocue, numsd=3.0):\n",
    "    '''\n",
    "    Compute movement (s) onset when cursor speed crosses threshold based on mean and standard deviation in baseline period.\n",
    "    Baseline is defined as the period between target onset and gocue because speed still exists soon after the cursor enters the center target.\n",
    "    \n",
    "    args:\n",
    "        cursor_traj (ntr) : cursor trajectory\n",
    "        fs (float) : sampling rate in Hz\n",
    "        trial_start (ntr) : trial start time in sec\n",
    "        target_onset (ntr) : target onset in sec\n",
    "        gocue (ntr) : gocue (the time when the center target disappears) in time\n",
    "        \n",
    "    returns:\n",
    "        movement_onset (ntr)\n",
    "    '''\n",
    "    \n",
    "    target_from_start = target_onset - trial_start\n",
    "    gocue_from_start = gocue - trial_start\n",
    "    dt = 1/fs\n",
    "    \n",
    "    movement_onset = []\n",
    "    for itr in range(cursor_traj.shape[0]):\n",
    "        # compute speed\n",
    "        dist = np.linalg.norm(cursor_traj[itr],axis=1)\n",
    "        speed = np.gradient(dist, dt) # in (cm/s)\n",
    "        \n",
    "        # compute threshold based on mean and std in baseline\n",
    "        t_cursor = np.arange(dist.shape[0])*dt\n",
    "        baseline_idx = (t_cursor<gocue_from_start[itr]) & (t_cursor>target_from_start[itr])\n",
    "        baseline_speed = np.mean(speed[baseline_idx])\n",
    "        baseline_std = np.std(speed[baseline_idx],ddof=1)\n",
    "        thr = baseline_speed + numsd*baseline_std\n",
    "        \n",
    "        # get movement onset\n",
    "        movement_onset.append(t_cursor[np.where((speed>thr)&(t_cursor>target_from_start[itr]))[0][0]])\n",
    "        \n",
    "    return np.array(movement_onset)\n",
    "\n",
    "\n",
    "def get_minimum_trials_per_target(target_idx, cond_mask):\n",
    "    \n",
    "    # Get the minimum number of trials per target after restricting trials\n",
    "    num_trial_targ = []\n",
    "    for itarget in np.unique(target_idx):\n",
    "        num_trial_targ.append(sum(target_idx[cond_mask] == itarget))\n",
    "    min_trial = min(num_trial_targ)\n",
    "    \n",
    "    return min_trial\n",
    "\n",
    "def get_conditioned_trials_per_target(target_idx, cond_mask, min_trial, replacement=False, seed=None):\n",
    "    '''\n",
    "    Get trial index to choose the same number of trials per target in removing trials by a certain condition\n",
    "    \n",
    "    Args:\n",
    "        target_index (ntr: int): target index\n",
    "        cond_mask (ntr: bool): condition to remove trials\n",
    "        replacement (bool): whether to allow replacement in choosing trials. This can be used for bootstrapping.\n",
    "        \n",
    "    Returns:\n",
    "        trial_index (ntrial: bool): trial index to extract the same number of conditioned trials for each target\n",
    "        \n",
    "    '''\n",
    "    if seed:\n",
    "        np.random.seed(seed)\n",
    "        \n",
    "    # Get trial index to get the same number of trials per target\n",
    "    tmp = []\n",
    "    for itarget in np.unique(target_idx):\n",
    "        trial_mask_targ = np.where(cond_mask * (target_idx == itarget))[0] # get conditioned trial index for each target\n",
    "\n",
    "        if trial_mask_targ.size:\n",
    "            tmp = np.concatenate([tmp, np.random.choice(trial_mask_targ, min_trial, replace=replacement)])\n",
    "\n",
    "    trial_mask = np.array([int(a) for a in tmp]) # convert float to int\n",
    "    trial_mask = np.random.permutation(trial_mask) # because trial mask is well organized in the order of target number\n",
    "    \n",
    "    return trial_mask\n",
    "\n",
    "def classify_targ_lda2(band_data, cond_label, n_splits=10):\n",
    "    kf = KFold(n_splits=n_splits)\n",
    "    lda = LinearDiscriminantAnalysis(shrinkage='auto', solver='eigen')\n",
    "       \n",
    "    # LDA at each single electrode\n",
    "    ntr,nband,nch = band_data.shape\n",
    "    pred_Y_ch = []\n",
    "    true_Y_ch = []\n",
    "    for ich in range(nch):\n",
    "        X = band_data[:,:,ich].reshape(ntr,-1)\n",
    "        Y = cond_label\n",
    "        if ich == 0:\n",
    "            weights = np.zeros((n_splits, nch, nband))\n",
    "            \n",
    "        pred_Y = []\n",
    "        true_Y = []\n",
    "        for ifold, (train_idx, test_idx) in enumerate(kf.split(X)):\n",
    "            Xtrain,Xtest = X[train_idx,:],X[test_idx,:]\n",
    "            Ytrain,Ytest = Y[train_idx],Y[test_idx]\n",
    "            \n",
    "            lda.fit( Xtrain - np.mean(Xtrain,axis=0), Ytrain)\n",
    "            reshaped_weights = lda.coef_.reshape(-1,nband)\n",
    "            weights[ifold, ich, :] = np.sum(np.abs(reshaped_weights),axis=0)\n",
    "\n",
    "            pred_Y.append(lda.predict( Xtest - np.mean(Xtrain,axis=0)))\n",
    "            true_Y.append(Ytest)\n",
    "        pred_Y_ch.append(pred_Y)\n",
    "        true_Y_ch.append(true_Y)\n",
    "    return pred_Y_ch, true_Y_ch, weights\n",
    "\n",
    "def get_relevant_saccade_idx(onset_target, offset_target, saccade_distance, target_idx):\n",
    "    '''\n",
    "    Finds a relevant saccade index which is for looking at the peripheral target from the center target in a given trial\n",
    "    onset_target and offset_target can be obtained by get_saccade_target_index.\n",
    "    If there are multiple relevant saccades, choose the saccade whose distance is the largest among other saccades\n",
    "    If there is no relevant saccades, the saccade index becomes -1\n",
    "    \n",
    "    Args:\n",
    "        onset_target (nsaccade): target index at saccade start in a given trial\n",
    "        offset_target (nsaccade): target index at saccade end in a given trial  \n",
    "        saccade_distance (nsaccade): eye movement distance in a given trial\n",
    "        target_idx (int): target index in a given trial\n",
    "        \n",
    "    Returns:\n",
    "        (int): relevant saccade index with the largest distance among saccades. index becomes -1 if there is no relevant saccades.\n",
    "    '''\n",
    "    \n",
    "    # Get saccade target index when saccade starts and ends\n",
    "    saccade_target_index = np.vstack([onset_target,offset_target])\n",
    "    \n",
    "    # Get saccade target index that relevant saccade (saccade for the peripheral target) should have\n",
    "    relevant_saccade_target_idx = np.array([0, int(target_idx)])\n",
    "\n",
    "    dist = []\n",
    "    saccade_idx = []\n",
    "    relevant_saccade_idx = -1\n",
    "    \n",
    "    # Check if each saccade is relevant or not\n",
    "    for isaccade in range(onset_target.shape[0]):\n",
    "\n",
    "        # find a saccade for the peripheral target\n",
    "        if np.all(saccade_target_index[:,isaccade] == relevant_saccade_target_idx):\n",
    "            saccade_idx.append(isaccade) # get saccade index about potential relevant saccades\n",
    "            dist.append(saccade_distance[isaccade]) # get eye movement distance about potential relevant saccades\n",
    "    \n",
    "    # Get a relevant saccade index with the largest distance\n",
    "    if len(saccade_idx):\n",
    "        relevant_saccade_idx = saccade_idx[np.argmax(dist)]  \n",
    "        \n",
    "    return relevant_saccade_idx"
   ]
  },
  {
   "cell_type": "code",
   "execution_count": 2,
   "metadata": {
    "execution": {
     "iopub.execute_input": "2024-09-19T02:33:50.008449Z",
     "iopub.status.busy": "2024-09-19T02:33:50.008150Z",
     "iopub.status.idle": "2024-09-19T02:33:50.108318Z",
     "shell.execute_reply": "2024-09-19T02:33:50.107161Z",
     "shell.execute_reply.started": "2024-09-19T02:33:50.008435Z"
    },
    "tags": []
   },
   "outputs": [
    {
     "name": "stdout",
     "output_type": "stream",
     "text": [
      "{\"runtime\": 2375.984918117523, \"n_trials\": 915, \"n_success_trials\": 800}\n",
      "[2022-06-28 09:47:31.941000: beignet on manual control task, id=5927]\n",
      "1\n"
     ]
    }
   ],
   "source": [
    "data_dir = '/data/raw'\n",
    "preproc_dir = '/data/preprocessed'\n",
    "\n",
    "subject = 'beignet'\n",
    "time_before = .1\n",
    "time_after = 0.1\n",
    "offset = 0.4\n",
    "success_rate_window = 25\n",
    "flag = 'movement'\n",
    "# flag = 'reward'\n",
    "# flag = 'gocue'\n",
    "# flag = 'acquire'\n",
    "# flag = 'target'\n",
    "\n",
    "if subject == 'beignet':\n",
    "    ex_date_list = [(2022,6,28)]\n",
    "    num_sd_mv = 5.0\n",
    "    num_sd = 2.5 # for saccade detection\n",
    "else:\n",
    "    #ex_date_list = [(2023,7,24)]\n",
    "    # ex_date_list = [(2023,7,26)]\n",
    "    # ex_date_list = [(2023,7,25),(2023,7,26),(2023,7,27),(2023,7,28),(2023,7,29),(2023,7,30),(2023,7,31),(2023,8,1),(2023,8,2),(2023,8,3)]\n",
    "    # ex_date_list = [(2024,1,2), (2024,1,3)] # Eye constrained\n",
    "    ex_date_list = [(2023,12,2),(2023,12,4),(2023,12,5),(2023,12,8),(2023,12,9)] # Not eye constrained\n",
    "    num_sd_mv = 3.0\n",
    "    num_sd = 1 # for saccade detection\n",
    "    \n",
    "downsamplerate = 1000 # for saccade detection\n",
    "\n",
    "sac_radius = 3.0\n",
    "min_intersaccade = 0.02 # for saccade detection\n",
    "\n",
    "data_list = []\n",
    "import ast\n",
    "for date in ex_date_list:\n",
    "    entries = db.get_task_entries(subject__name=subject, date=date, task__name='manual control')\n",
    "    for entry in entries:\n",
    "        params = entry.task_params\n",
    "        \n",
    "        if (subject == 'affi')*(ex_date_list==[(2024,1,2),(2024,1,3)]):\n",
    "            if ('record_headstage' in params)*('rand_delay' in params)*('show_eye_pos' in params):\n",
    "                d = ast.literal_eval(entry.report)\n",
    "                if (params['rand_delay'][-1] >= 0.6)|(params['multi_hold_time'][-1] == 0.175):\n",
    "                    if d['n_success_trials'] >= 50:\n",
    "                        data_list.append(entry)\n",
    "                        print(entry.report, params['rand_delay'], params['multi_hold_time'])\n",
    "                        \n",
    "        elif (subject == 'affi'):\n",
    "            if ('record_headstage' in params)*('rand_delay' in params):\n",
    "                d = ast.literal_eval(entry.report)\n",
    "                if (params['rand_delay'][-1] >= 0.6):\n",
    "                    if d['n_success_trials'] >= 50:\n",
    "                        data_list.append(entry)\n",
    "                        print(entry.report, params['rand_delay'])\n",
    "                        \n",
    "        elif subject == 'beignet':\n",
    "            if ('record_headstage' in params)*('rand_delay' in params):\n",
    "                if params['rand_delay'] == [0.1,0.6]:\n",
    "                    data_list.append(entry)\n",
    "                    print(entry.report)          \n",
    "\n",
    "print(data_list)\n",
    "print(len(data_list))\n",
    "#rand_delay = [data.task_params['rand_delay'] for data in data_list1[1:]]\n",
    "#print(f'Random delay is {rand_delay}')"
   ]
  },
  {
   "cell_type": "code",
   "execution_count": 3,
   "metadata": {
    "execution": {
     "iopub.execute_input": "2024-09-19T02:33:50.111281Z",
     "iopub.status.busy": "2024-09-19T02:33:50.110139Z",
     "iopub.status.idle": "2024-09-19T02:33:50.118067Z",
     "shell.execute_reply": "2024-09-19T02:33:50.116854Z",
     "shell.execute_reply.started": "2024-09-19T02:33:50.111227Z"
    },
    "tags": []
   },
   "outputs": [
    {
     "name": "stdout",
     "output_type": "stream",
     "text": [
      "1\n"
     ]
    }
   ],
   "source": [
    "bad_id = [13214, 13221, 13224]\n",
    "data_list = [entry for entry in data_list if entry.id not in bad_id]\n",
    "print(len(data_list))"
   ]
  },
  {
   "cell_type": "markdown",
   "metadata": {},
   "source": [
    "# Load data"
   ]
  },
  {
   "cell_type": "code",
   "execution_count": 4,
   "metadata": {
    "execution": {
     "iopub.execute_input": "2024-09-19T02:33:50.120347Z",
     "iopub.status.busy": "2024-09-19T02:33:50.119863Z",
     "iopub.status.idle": "2024-09-19T02:35:18.114429Z",
     "shell.execute_reply": "2024-09-19T02:35:18.113549Z",
     "shell.execute_reply.started": "2024-09-19T02:33:50.120304Z"
    },
    "tags": []
   },
   "outputs": [
    {
     "name": "stderr",
     "output_type": "stream",
     "text": [
      "/home/aolab/projects/Neuropixel_targeting/analyze/aopy/data/base.py:684: FutureWarning: Calling float on a single element Series is deprecated and will raise a TypeError in the future. Use float(ser.iloc[0]) instead\n",
      "  acq_ch_position[ielec,0] = eleclayout_table[xpos_name][eleclayout_table['electrode']==elecid]\n",
      "/home/aolab/projects/Neuropixel_targeting/analyze/aopy/data/base.py:685: FutureWarning: Calling float on a single element Series is deprecated and will raise a TypeError in the future. Use float(ser.iloc[0]) instead\n",
      "  acq_ch_position[ielec,1] = eleclayout_table[ypos_name][eleclayout_table['electrode']==elecid]\n"
     ]
    },
    {
     "data": {
      "application/vnd.jupyter.widget-view+json": {
       "model_id": "6f2bc401dccc4203a44076dd3fda912f",
       "version_major": 2,
       "version_minor": 0
      },
      "text/plain": [
       "  0%|          | 0/1 [00:00<?, ?it/s]"
      ]
     },
     "metadata": {},
     "output_type": "display_data"
    },
    {
     "name": "stdout",
     "output_type": "stream",
     "text": [
      "Bad channels : [ 59 228]\n",
      "The number of bad channels : 2\n",
      "(238,)\n",
      "ratio 0.9625\n",
      "# relevant saccade trials 770\n",
      "# All trials 800\n"
     ]
    },
    {
     "data": {
      "image/png": "[encoded data removed]",
      "text/plain": [
       "<Figure size 1100x400 with 2 Axes>"
      ]
     },
     "metadata": {},
     "output_type": "display_data"
    }
   ],
   "source": [
    "trial_filter = lambda t: REWARD in t # choose only rewarded trials for analysis\n",
    "elec_pos, acq_ch, elecs = aopy.data.load_chmap(drive_type='ECoG244')\n",
    "\n",
    "for idx, entry in enumerate(tqdm(data_list)):\n",
    "    exp_id = entry.id\n",
    "    exp_date = entry.date.date()\n",
    "    \n",
    "    # Load data\n",
    "    data, metadata = aopy.data.load_preproc_exp_data(preproc_dir, subject, exp_id, exp_date)\n",
    "    lfp_data, lfp_metadata =  aopy.data.load_preproc_lfp_data(preproc_dir, subject, exp_id, exp_date)\n",
    "    cursor_traj_tmp, tsegs_tmp = aopy.data.get_kinematic_segments(preproc_dir, subject, exp_id, exp_date, CURSOR_ENTER_CENTER_TARGET, TRIAL_END, trial_filter=trial_filter) \n",
    "    segs_tmp, times_tmp = aopy.preproc.base.get_trial_segments_and_times(data['events']['code'], data['events']['timestamp'],CURSOR_ENTER_CENTER_TARGET, TRIAL_END)\n",
    "    times_tmp = [t for s, t in zip(segs_tmp, times_tmp) if trial_filter(s)]  # get_trial_segments_and_times() does not include a trial filter so doing this outside. \n",
    "    eye_data, eye_metadata = aopy.data.load_preproc_eye_data(preproc_dir, subject, exp_id, exp_date)\n",
    "    target_idx_tmp = np.array([int(seg[1] - CENTER_TARGET_ON ) for seg in tsegs_tmp])\n",
    "    \n",
    "    # Collect metadata\n",
    "    volt_bit = lfp_metadata['voltsperbit']\n",
    "    FS_cursor = metadata['cursor_interp_samplerate']\n",
    "    FS_hand = metadata['analog_samplerate']\n",
    "    FS_eye = eye_metadata['samplerate']\n",
    "    FS = lfp_metadata['lfp_samplerate']\n",
    "    target_radius = metadata['target_radius']\n",
    "\n",
    "    # bad channel detection\n",
    "    lfp_data = lfp_data[:,acq_ch-1]*volt_bit\n",
    "    if idx == 0:\n",
    "        numsd_badch = 5\n",
    "        bad_ch = aopy.preproc.quality.detect_bad_ch_outliers(lfp_data[:60*FS,:], nbins=10000, thr=0.05, numsd=numsd_badch, debug=True, verbose=True) #bad channels detected from the lfp data in the 1st second\n",
    "        good_ch =~bad_ch\n",
    "        target_pos = aopy.data.get_target_locations(preproc_dir, subject, exp_id, exp_date, [0,1,2,3,4,5,6,7,8])  \n",
    "\n",
    "    # FIR filter\n",
    "    # order = 20000\n",
    "    # Wn = [0.1,200]\n",
    "    # fnq = FS/2\n",
    "    # print('filtering...')\n",
    "    # b = signal.firwin(order, Wn, nyq=fnq, pass_zero=False, window='hamming')\n",
    "    # lfp_filter = signal.filtfilt(b, 1, lfp_data, axis=0)\n",
    "    # np.save(f'/data/postprocessed/tomo/lfp_filter_{subject}_{exp_date}_{exp_id}',lfp_filter)\n",
    "    if subject == 'affi':\n",
    "        lfp_filter_tmp = np.load(f'/data/postprocessed/tomo/lfp_filter_{subject}_{exp_date}_{exp_id}.npy')\n",
    "    elif subject == 'beignet':\n",
    "        lfp_filter_tmp = np.load(f'/data/postprocessed/tomo/lfp_filter_{subject}_{exp_date}.npy')\n",
    "\n",
    "    # Get task event times\n",
    "    # this sequence works for when trials are aligned to CURSOR_ENTER_CENTER_TARGET to [REWARD, TRIAL_END]\n",
    "    ntr = len(cursor_traj_tmp)\n",
    "    trial_start_tmp = np.array([t[0] for t in times_tmp])\n",
    "    target_onset_tmp = np.array([t[1] for t in times_tmp])\n",
    "    gocue_time_tmp = np.array([t[2] for t in times_tmp])\n",
    "    acquire_time_tmp = np.array([t[3] for t in times_tmp]) # corresponds to cursor enter peripheral target \n",
    "    reward_time_tmp = np.array([t[4] for t in times_tmp])\n",
    "    trial_end_tmp = np.array([t[5] for t in times_tmp])\n",
    "    movement_onset_tmp = aopy.analysis.get_movement_onset(cursor_traj_tmp, 1000, trial_start_tmp, target_onset_tmp, gocue_time_tmp, numsd=3.0, butter_order=4, low_cut=20, thr=5)\n",
    "    movement_onset_tmp = movement_onset_tmp + trial_start_tmp\n",
    "\n",
    "    # Get eye trajectories\n",
    "    if (subject == 'affi')*(ex_date_list==[(2024,1,2),(2024,1,3)]):\n",
    "        # calibrated_eye_interp = aopy.data.get_interp_kinematics(data, metadata, datatype='calibrated_eye', samplerate=FS_eye) # online eye data\n",
    "        calibrated_eye_interp = aopy.data.get_interp_task_data(data, metadata, datatype='calibrated_eye', samplerate=FS_eye) # online eye data\n",
    "        eye_traj_tmp = get_trial_segment(calibrated_eye_interp, FS_eye, trial_start_tmp, trial_end_tmp)\n",
    "    else:\n",
    "        eye_traj_tmp, _ = aopy.data.get_kinematic_segments(preproc_dir, subject, exp_id, exp_date, CURSOR_ENTER_CENTER_TARGET, TRIAL_END, trial_filter=trial_filter, datatype='eye')        \n",
    "\n",
    "    # Calc saccade onset\n",
    "    saccades_onset_tmp,saccade_onset_tmp,duration_tmp,main_saccade_idx_tmp = [],[],[],[]\n",
    "    for itr in range(target_idx_tmp.shape[0]):\n",
    "        if (subject == 'affi')*(ex_date_list==[(2024,1,2),(2024,1,3)]):\n",
    "            ave_eye_traj = eye_traj_tmp[itr]\n",
    "        else:\n",
    "            ave_eye_traj = np.stack([(eye_traj_tmp[itr][:,0]+eye_traj_tmp[itr][:,2])/2, (eye_traj_tmp[itr][:,1]+eye_traj_tmp[itr][:,3])/2]).T\n",
    " \n",
    "        # Filter eye data\n",
    "        eye_data_filt,_ = aopy.precondition.filter_eye(ave_eye_traj, FS_eye, downsamplerate=downsamplerate)\n",
    "        \n",
    "        # Get saccade onset\n",
    "        onset, duration1, distance1 = aopy.precondition.detect_saccades(eye_data_filt, downsamplerate, num_sd=num_sd)\n",
    "        \n",
    "        # Get relevant saccades from the center target to the peripheral target\n",
    "        onset_pos, offset_pos = aopy.postproc.get_saccade_pos(ave_eye_traj, np.array(onset), np.array(duration1), downsamplerate)\n",
    "        onset_target, offset_target = aopy.postproc.get_saccade_target_index(onset_pos, offset_pos, target_pos[:,:2], sac_radius)\n",
    "        onset_event, offset_event = aopy.postproc.get_saccade_event(np.array(onset), np.array(duration1), times_tmp[itr]-times_tmp[itr][0], tsegs_tmp[itr])\n",
    "        saccade_idx = get_relevant_saccade_idx(onset_target, offset_target, distance1, target_idx_tmp[itr])\n",
    "        \n",
    "        onset += times_tmp[itr][0]\n",
    "        duration_tmp.append(duration1)\n",
    "        saccades_onset_tmp.append(onset)\n",
    "        saccade_onset_tmp.append(onset[saccade_idx]) # saccade onset of relevant saccades\n",
    "        main_saccade_idx_tmp.append(saccade_idx)\n",
    "        \n",
    "    saccade_onset_tmp = np.array(saccade_onset_tmp)\n",
    "    saccades_onset_tmp = np.array(saccades_onset_tmp, dtype=object)\n",
    "    duration_tmp = np.array(duration_tmp, dtype=object)\n",
    "    main_saccade_idx_tmp = np.array(main_saccade_idx_tmp)\n",
    "    \n",
    "    # Calc trial_align_data\n",
    "    if flag == 'gocue':\n",
    "        trial_align_data_tmp = aopy.preproc.trial_align_data(lfp_filter_tmp, gocue_time_tmp, time_before, time_after, FS)\n",
    "        flag_name = 'gocue'\n",
    "    elif flag == 'saccade':\n",
    "        trial_align_data_tmp = aopy.preproc.trial_align_data(lfp_filter_tmp, saccade_onset_tmp, time_before, time_after, FS)\n",
    "        flag_name = 'saccade onset'\n",
    "    elif flag == 'target':\n",
    "        trial_align_data_tmp = aopy.preproc.trial_align_data(lfp_filter_tmp, target_onset_tmp, time_before, time_after, FS)\n",
    "        flag_name = 'target onset'\n",
    "    elif flag == 'acquire':\n",
    "        trial_align_data_tmp = aopy.preproc.trial_align_data(lfp_filter_tmp, acquire_time_tmp, time_before, time_after, FS)\n",
    "        flag_name = 'acquire'\n",
    "    elif flag == 'movement':\n",
    "        trial_align_data_tmp = aopy.preproc.trial_align_data(lfp_filter_tmp, movement_onset_tmp, time_before, time_after, FS)\n",
    "        flag_name = 'movement'\n",
    "    elif flag == 'reward':\n",
    "        trial_align_data_tmp = aopy.preproc.trial_align_data(lfp_filter_tmp, reward_time_tmp, time_before, time_after, FS)\n",
    "        flag_name = 'reward'\n",
    "    else:\n",
    "        print('Use different flag name')\n",
    "    trial_align_data_tmp = trial_align_data_tmp.transpose(2,0,1)\n",
    "    \n",
    "    # Concatenate trials across days\n",
    "    if idx == 0:\n",
    "        trial_align_data = trial_align_data_tmp\n",
    "        trial_start = trial_start_tmp\n",
    "        target_onset = target_onset_tmp\n",
    "        gocue_time = gocue_time_tmp\n",
    "        reward_time = reward_time_tmp\n",
    "        movement_onset = movement_onset_tmp\n",
    "        saccade_onset = saccade_onset_tmp\n",
    "        acquire_time = acquire_time_tmp\n",
    "        target_idx = target_idx_tmp\n",
    "        cursor_traj = cursor_traj_tmp\n",
    "        eye_traj = eye_traj_tmp\n",
    "        saccades_onset = saccades_onset_tmp\n",
    "        duration = duration_tmp\n",
    "        times = times_tmp\n",
    "        tsegs = tsegs_tmp\n",
    "        main_saccade_idx = main_saccade_idx_tmp\n",
    "        lfp_filter = lfp_filter_tmp\n",
    "\n",
    "    else:\n",
    "        trial_align_data = np.concatenate([trial_align_data, trial_align_data_tmp], axis=0)\n",
    "        lfp_filter = np.concatenate([lfp_filter, lfp_filter_tmp],axis=0)\n",
    "        trial_start = np.concatenate([trial_start, trial_start_tmp])\n",
    "        target_onset = np.concatenate([target_onset, target_onset_tmp])\n",
    "        gocue_time = np.concatenate([gocue_time, gocue_time_tmp])\n",
    "        reward_time = np.concatenate([reward_time, reward_time_tmp])\n",
    "        movement_onset = np.concatenate([movement_onset, movement_onset_tmp])\n",
    "        saccade_onset = np.concatenate([saccade_onset, saccade_onset_tmp])\n",
    "        saccades_onset = np.concatenate([saccades_onset, saccades_onset_tmp])\n",
    "        duration = np.concatenate([duration, duration_tmp])\n",
    "        acquire_time = np.concatenate([acquire_time, acquire_time_tmp])\n",
    "        target_idx = np.concatenate([target_idx, target_idx_tmp])\n",
    "        cursor_traj = np.concatenate([cursor_traj, cursor_traj_tmp])\n",
    "        eye_traj = np.concatenate([eye_traj, eye_traj_tmp])\n",
    "        times = np.concatenate([times, times_tmp])\n",
    "        tsegs = np.concatenate([tsegs, tsegs_tmp])\n",
    "        main_saccade_idx = np.concatenate([main_saccade_idx, main_saccade_idx_tmp])\n",
    "        \n",
    "      \n",
    "trial_align_data = trial_align_data[:,:,good_ch]\n",
    "elec_pos = elec_pos[good_ch]\n",
    "acq_ch = acq_ch[good_ch]\n",
    "ntr,nt,nch = trial_align_data.shape\n",
    "print(acq_ch.shape)\n",
    "normal_saccade_trial = main_saccade_idx != -1 # When main_saccade_idx == -1, there is no relevant saccades in a trial\n",
    "print('ratio',normal_saccade_trial.sum()/normal_saccade_trial.shape[0])\n",
    "print('# relevant saccade trials',normal_saccade_trial.sum())\n",
    "print('# All trials',normal_saccade_trial.shape[0])"
   ]
  },
  {
   "cell_type": "code",
   "execution_count": 5,
   "metadata": {
    "execution": {
     "iopub.execute_input": "2024-09-19T02:35:18.115542Z",
     "iopub.status.busy": "2024-09-19T02:35:18.115387Z",
     "iopub.status.idle": "2024-09-19T02:35:28.807674Z",
     "shell.execute_reply": "2024-09-19T02:35:28.806582Z",
     "shell.execute_reply.started": "2024-09-19T02:35:18.115529Z"
    },
    "tags": []
   },
   "outputs": [
    {
     "name": "stdout",
     "output_type": "stream",
     "text": [
      "beignet_movement_0.5_4_2022-06-28_fir-filt.npz\n"
     ]
    }
   ],
   "source": [
    "# load spectral power data\n",
    "target_list = [1,2,3,4,5,6,7,8]\n",
    "ntarget = len(target_list)\n",
    "\n",
    "bands = [(0.1,4),(4,8),(8,14),(14,30),(30,80),(80,150)]\n",
    "nband = len(bands)\n",
    "band_name = ['delta','theta','alpha','beta','gamma','hgamma']\n",
    "NW = 0.5\n",
    "BW = 4 # the number of taper is (2*nw*bw-1)\n",
    "t_axis = np.linspace(-time_before,time_after,nt)\n",
    "# print(flag)\n",
    "spec_flag = flag\n",
    "# loaded_data = np.load(f'/data/postprocessed/tomo/spec/{subject}_{flag}_{NW}_{BW}_{str(exp_date)}_fir-filt.npz')\n",
    "loaded_data = np.load(f'/data/postprocessed/tomo/ECoG_mapping/spec/{subject}_{spec_flag}_{NW}_{BW}_{str(exp_date)}.npz')\n",
    "f_spec = loaded_data['f_spec']\n",
    "t_spec = loaded_data['t_spec']\n",
    "spec_band = loaded_data['spec_band']\n",
    "print(f'{subject}_{flag}_{NW}_{BW}_{str(exp_date)}_fir-filt.npz')\n",
    "\n",
    "if subject == 'affi':\n",
    "    elec_pos[:,0] = elec_pos[:,0]*-1\n",
    "    elec_pos[:,[1,0]] = elec_pos[:,[0,1]]\n",
    "    "
   ]
  },
  {
   "cell_type": "code",
   "execution_count": 6,
   "metadata": {
    "execution": {
     "iopub.execute_input": "2024-09-19T02:35:28.809038Z",
     "iopub.status.busy": "2024-09-19T02:35:28.808849Z",
     "iopub.status.idle": "2024-09-19T02:35:40.796007Z",
     "shell.execute_reply": "2024-09-19T02:35:40.795426Z",
     "shell.execute_reply.started": "2024-09-19T02:35:28.809022Z"
    },
    "tags": []
   },
   "outputs": [],
   "source": [
    "# Load baseline power data (before target onset)\n",
    "baseline_flag = 'target'\n",
    "baseline_data = np.load(f'/data/postprocessed/tomo/ECoG_mapping/spec/{subject}_{baseline_flag}_{NW}_{BW}_{str(exp_date)}.npz')\n",
    "baseline_t_spec = baseline_data['t_spec']\n",
    "baseline_spec_band = baseline_data['spec_band']"
   ]
  },
  {
   "cell_type": "code",
   "execution_count": 20,
   "metadata": {
    "execution": {
     "iopub.execute_input": "2024-09-19T02:39:01.065700Z",
     "iopub.status.busy": "2024-09-19T02:39:01.064870Z",
     "iopub.status.idle": "2024-09-19T02:39:01.070044Z",
     "shell.execute_reply": "2024-09-19T02:39:01.069240Z",
     "shell.execute_reply.started": "2024-09-19T02:39:01.065669Z"
    },
    "tags": []
   },
   "outputs": [],
   "source": [
    "baseline_start_idx = np.where(t_spec > -1)[0][0]\n",
    "baseline_stop_idx = np.where(t_spec > -.75)[0][0]\n",
    "# print(baseline_t_spec[baseline_start_idx], baseline_t_spec[baseline_stop_idx])"
   ]
  },
  {
   "cell_type": "code",
   "execution_count": 8,
   "metadata": {
    "execution": {
     "iopub.execute_input": "2024-09-19T02:35:40.801877Z",
     "iopub.status.busy": "2024-09-19T02:35:40.801734Z",
     "iopub.status.idle": "2024-09-19T02:35:41.900540Z",
     "shell.execute_reply": "2024-09-19T02:35:41.898248Z",
     "shell.execute_reply.started": "2024-09-19T02:35:40.801864Z"
    },
    "tags": []
   },
   "outputs": [
    {
     "ename": "ValueError",
     "evalue": "setting an array element with a sequence. The requested array has an inhomogeneous shape after 1 dimensions. The detected shape was (2,) + inhomogeneous part.",
     "output_type": "error",
     "traceback": [
      "\u001b[0;31m---------------------------------------------------------------------------\u001b[0m",
      "\u001b[0;31mValueError\u001b[0m                                Traceback (most recent call last)",
      "Cell \u001b[0;32mIn[8], line 9\u001b[0m\n\u001b[1;32m      6\u001b[0m ave_eye_traj \u001b[38;5;241m=\u001b[39m np\u001b[38;5;241m.\u001b[39mstack([(eye_traj[itr][:,\u001b[38;5;241m0\u001b[39m]\u001b[38;5;241m+\u001b[39meye_traj[itr][:,\u001b[38;5;241m2\u001b[39m])\u001b[38;5;241m/\u001b[39m\u001b[38;5;241m2\u001b[39m, (eye_traj[itr][:,\u001b[38;5;241m1\u001b[39m]\u001b[38;5;241m+\u001b[39meye_traj[itr][:,\u001b[38;5;241m3\u001b[39m])\u001b[38;5;241m/\u001b[39m\u001b[38;5;241m2\u001b[39m])\u001b[38;5;241m.\u001b[39mT\n\u001b[1;32m      7\u001b[0m eye_data_filt \u001b[38;5;241m=\u001b[39m aopy\u001b[38;5;241m.\u001b[39mprecondition\u001b[38;5;241m.\u001b[39mfilter_eye(ave_eye_traj, FS_eye, downsamplerate\u001b[38;5;241m=\u001b[39mdownsamplerate)\n\u001b[0;32m----> 9\u001b[0m onset, duration1, distance1 \u001b[38;5;241m=\u001b[39m \u001b[43maopy\u001b[49m\u001b[38;5;241;43m.\u001b[39;49m\u001b[43mprecondition\u001b[49m\u001b[38;5;241;43m.\u001b[39;49m\u001b[43mdetect_saccades\u001b[49m\u001b[43m(\u001b[49m\u001b[43meye_data_filt\u001b[49m\u001b[43m,\u001b[49m\u001b[43m \u001b[49m\u001b[43mdownsamplerate\u001b[49m\u001b[43m,\u001b[49m\u001b[43m \u001b[49m\u001b[43mnum_sd\u001b[49m\u001b[38;5;241;43m=\u001b[39;49m\u001b[43mnum_sd\u001b[49m\u001b[43m)\u001b[49m\n\u001b[1;32m     11\u001b[0m onset_pos, offset_pos \u001b[38;5;241m=\u001b[39m aopy\u001b[38;5;241m.\u001b[39mpostproc\u001b[38;5;241m.\u001b[39mget_saccade_pos(ave_eye_traj, np\u001b[38;5;241m.\u001b[39marray(onset), np\u001b[38;5;241m.\u001b[39marray(duration1), downsamplerate)\n\u001b[1;32m     12\u001b[0m onset_target, offset_target \u001b[38;5;241m=\u001b[39m aopy\u001b[38;5;241m.\u001b[39mpostproc\u001b[38;5;241m.\u001b[39mget_saccade_target_index(onset_pos, offset_pos, target_pos[:,:\u001b[38;5;241m2\u001b[39m], sac_radius)\n",
      "File \u001b[0;32m~/projects/Neuropixel_targeting/analyze/aopy/precondition/eye.py:129\u001b[0m, in \u001b[0;36mdetect_saccades\u001b[0;34m(eye_pos, samplerate, thr, num_sd, intersaccade_min, min_saccade_duration, max_saccade_duration, lowpass_filter_freq, debug, debug_window)\u001b[0m\n\u001b[1;32m    125\u001b[0m \u001b[38;5;28;01massert\u001b[39;00m (intersaccade_min \u001b[38;5;129;01mis\u001b[39;00m \u001b[38;5;28;01mNone\u001b[39;00m) \u001b[38;5;129;01mor\u001b[39;00m intersaccade_min \u001b[38;5;241m<\u001b[39m max_saccade_duration, (\u001b[38;5;124m\"\u001b[39m\u001b[38;5;124mMax saccade\u001b[39m\u001b[38;5;124m\"\u001b[39m\n\u001b[1;32m    126\u001b[0m     \u001b[38;5;124m\"\u001b[39m\u001b[38;5;124m duration must be longer than the minimum intersaccade interval\u001b[39m\u001b[38;5;124m\"\u001b[39m)\n\u001b[1;32m    128\u001b[0m \u001b[38;5;28;01mif\u001b[39;00m lowpass_filter_freq \u001b[38;5;129;01mis\u001b[39;00m \u001b[38;5;129;01mnot\u001b[39;00m \u001b[38;5;28;01mNone\u001b[39;00m:\n\u001b[0;32m--> 129\u001b[0m     eye_pos, _ \u001b[38;5;241m=\u001b[39m \u001b[43mfilter_eye\u001b[49m\u001b[43m(\u001b[49m\u001b[43meye_pos\u001b[49m\u001b[43m,\u001b[49m\u001b[43m \u001b[49m\u001b[43msamplerate\u001b[49m\u001b[43m,\u001b[49m\u001b[43m \u001b[49m\u001b[43msamplerate\u001b[49m\u001b[43m,\u001b[49m\u001b[43m \u001b[49m\u001b[43mlow_cut\u001b[49m\u001b[38;5;241;43m=\u001b[39;49m\u001b[43mlowpass_filter_freq\u001b[49m\u001b[43m)\u001b[49m    \n\u001b[1;32m    130\u001b[0m eye_accel \u001b[38;5;241m=\u001b[39m convert_pos_to_accel(eye_pos, samplerate)\n\u001b[1;32m    132\u001b[0m \u001b[38;5;66;03m# Set an appropritate threshold to detect saccades\u001b[39;00m\n",
      "File \u001b[0;32m~/projects/Neuropixel_targeting/analyze/aopy/precondition/eye.py:28\u001b[0m, in \u001b[0;36mfilter_eye\u001b[0;34m(eye_pos, samplerate, downsamplerate, low_cut, buttord)\u001b[0m\n\u001b[1;32m     26\u001b[0m \u001b[38;5;66;03m# Lowpass filter\u001b[39;00m\n\u001b[1;32m     27\u001b[0m b, a \u001b[38;5;241m=\u001b[39m butter(buttord, low_cut, btype\u001b[38;5;241m=\u001b[39m\u001b[38;5;124m'\u001b[39m\u001b[38;5;124mlowpass\u001b[39m\u001b[38;5;124m'\u001b[39m, fs\u001b[38;5;241m=\u001b[39msamplerate)\n\u001b[0;32m---> 28\u001b[0m eye_pos \u001b[38;5;241m=\u001b[39m \u001b[43mfiltfilt\u001b[49m\u001b[43m(\u001b[49m\u001b[43mb\u001b[49m\u001b[43m,\u001b[49m\u001b[43m \u001b[49m\u001b[43ma\u001b[49m\u001b[43m,\u001b[49m\u001b[43m \u001b[49m\u001b[43meye_pos\u001b[49m\u001b[43m,\u001b[49m\u001b[43m \u001b[49m\u001b[43maxis\u001b[49m\u001b[38;5;241;43m=\u001b[39;49m\u001b[38;5;241;43m0\u001b[39;49m\u001b[43m)\u001b[49m\n\u001b[1;32m     30\u001b[0m \u001b[38;5;66;03m# Downsample\u001b[39;00m\n\u001b[1;32m     31\u001b[0m \u001b[38;5;28;01mif\u001b[39;00m samplerate \u001b[38;5;241m>\u001b[39m downsamplerate:\n",
      "File \u001b[0;32m~/miniconda3/envs/np_targeting/lib/python3.9/site-packages/scipy/signal/_signaltools.py:4149\u001b[0m, in \u001b[0;36mfiltfilt\u001b[0;34m(b, a, x, axis, padtype, padlen, method, irlen)\u001b[0m\n\u001b[1;32m   4147\u001b[0m b \u001b[38;5;241m=\u001b[39m np\u001b[38;5;241m.\u001b[39matleast_1d(b)\n\u001b[1;32m   4148\u001b[0m a \u001b[38;5;241m=\u001b[39m np\u001b[38;5;241m.\u001b[39matleast_1d(a)\n\u001b[0;32m-> 4149\u001b[0m x \u001b[38;5;241m=\u001b[39m \u001b[43mnp\u001b[49m\u001b[38;5;241;43m.\u001b[39;49m\u001b[43masarray\u001b[49m\u001b[43m(\u001b[49m\u001b[43mx\u001b[49m\u001b[43m)\u001b[49m\n\u001b[1;32m   4151\u001b[0m \u001b[38;5;28;01mif\u001b[39;00m method \u001b[38;5;129;01mnot\u001b[39;00m \u001b[38;5;129;01min\u001b[39;00m [\u001b[38;5;124m\"\u001b[39m\u001b[38;5;124mpad\u001b[39m\u001b[38;5;124m\"\u001b[39m, \u001b[38;5;124m\"\u001b[39m\u001b[38;5;124mgust\u001b[39m\u001b[38;5;124m\"\u001b[39m]:\n\u001b[1;32m   4152\u001b[0m     \u001b[38;5;28;01mraise\u001b[39;00m \u001b[38;5;167;01mValueError\u001b[39;00m(\u001b[38;5;124m\"\u001b[39m\u001b[38;5;124mmethod must be \u001b[39m\u001b[38;5;124m'\u001b[39m\u001b[38;5;124mpad\u001b[39m\u001b[38;5;124m'\u001b[39m\u001b[38;5;124m or \u001b[39m\u001b[38;5;124m'\u001b[39m\u001b[38;5;124mgust\u001b[39m\u001b[38;5;124m'\u001b[39m\u001b[38;5;124m.\u001b[39m\u001b[38;5;124m\"\u001b[39m)\n",
      "\u001b[0;31mValueError\u001b[0m: setting an array element with a sequence. The requested array has an inhomogeneous shape after 1 dimensions. The detected shape was (2,) + inhomogeneous part."
     ]
    }
   ],
   "source": [
    "# Compute relevant saccade and reasonable movement onset trials\n",
    "target_idx = np.array([t[1]-CENTER_TARGET_ON for t in tsegs])\n",
    "\n",
    "saccades_onset,saccade_onset,duration,main_saccade_idx = [],[],[],[]\n",
    "for itr in range(len(eye_traj)):\n",
    "    ave_eye_traj = np.stack([(eye_traj[itr][:,0]+eye_traj[itr][:,2])/2, (eye_traj[itr][:,1]+eye_traj[itr][:,3])/2]).T\n",
    "    eye_data_filt = aopy.precondition.filter_eye(ave_eye_traj, FS_eye, downsamplerate=downsamplerate)\n",
    "\n",
    "    onset, duration1, distance1 = aopy.precondition.detect_saccades(eye_data_filt, downsamplerate, num_sd=num_sd)\n",
    "\n",
    "    onset_pos, offset_pos = aopy.postproc.get_saccade_pos(ave_eye_traj, np.array(onset), np.array(duration1), downsamplerate)\n",
    "    onset_target, offset_target = aopy.postproc.get_saccade_target_index(onset_pos, offset_pos, target_pos[:,:2], sac_radius)\n",
    "    onset_event, offset_event = aopy.postproc.get_saccade_event(np.array(onset), np.array(duration1), times[itr]-times[itr][0], tsegs[itr])\n",
    "    saccade_idx = get_main_saccade(onset_target, offset_target, onset_event, offset_event, target_idx[itr])\n",
    "\n",
    "    onset += times[itr][0]\n",
    "    duration.append(duration1)\n",
    "    saccades_onset.append(onset)\n",
    "    saccade_onset.append(onset[saccade_idx])\n",
    "    main_saccade_idx.append(saccade_idx)\n",
    "\n",
    "saccade_onset = np.array(saccade_onset)\n",
    "saccades_onset = np.array(saccades_onset, dtype=object)\n",
    "duration = np.array(duration, dtype=object)\n",
    "main_saccade_idx = np.array(main_saccade_idx)\n",
    "\n",
    "# get trials with relevant saccades\n",
    "normal_saccade_trial = main_saccade_idx != -1\n",
    "\n",
    "# get trials with reasonable movement onset\n",
    "movement_onset_go = movement_onset - gocue_time\n",
    "normal_onset_time = movement_onset_go > 0.15"
   ]
  },
  {
   "cell_type": "markdown",
   "metadata": {},
   "source": [
    "# Discrete (LDA) decoding analysis"
   ]
  },
  {
   "cell_type": "markdown",
   "metadata": {},
   "source": [
    "## All targets"
   ]
  },
  {
   "cell_type": "code",
   "execution_count": null,
   "metadata": {
    "execution": {
     "iopub.status.busy": "2024-09-19T02:35:41.901316Z",
     "iopub.status.idle": "2024-09-19T02:35:41.901512Z",
     "shell.execute_reply": "2024-09-19T02:35:41.901424Z",
     "shell.execute_reply.started": "2024-09-19T02:35:41.901415Z"
    },
    "tags": []
   },
   "outputs": [],
   "source": [
    "alignment_flag = 'acquire' # which alignment you use in decoding\n",
    "target_idx = np.array([t[1]-CENTER_TARGET_ON for t in tsegs])\n",
    "\n",
    "# Times relative to gocue\n",
    "target_on_go = target_onset - gocue_time\n",
    "saccade_onset_go = saccade_onset - gocue_time\n",
    "cursor_leave_go = cursor_leave_time - gocue_time\n",
    "acquire_go = acquire_time - gocue_time\n",
    "reward_go = reward_time - gocue_time\n",
    "\n",
    "if alignment_flag == 'target':\n",
    "    t_center = target_on_go\n",
    "    win = [0.1,0.2]\n",
    "elif alignment_flag == 'gocue':\n",
    "    t_center = np.zeros(ntr)\n",
    "    win = [-0.05,0.05]\n",
    "elif alignment_flag == 'saccade':\n",
    "    t_center = saccade_onset_go\n",
    "    win = [-0.05,0.05]\n",
    "elif alignment_flag == 'movement':\n",
    "    t_center = movement_onset_go\n",
    "    win = [-0.05,0.05]\n",
    "elif alignment_flag == 'cursor_leave':   \n",
    "    t_center = cursor_leave_go\n",
    "    win = [-0.05,0.05]\n",
    "elif alignment_flag == 'acquire':   \n",
    "    t_center = acquire_go\n",
    "    win = [-0.05,0.05]\n",
    "elif alignment_flag == 'reward':   \n",
    "    t_center = reward_go\n",
    "    win = [-0.05,0.05]\n",
    "\n",
    "# z scoring\n",
    "z_spec_band = (spec_band - np.mean(spec_band, axis=(0,2),keepdims=True))/(np.std(spec_band, axis=(0,2),keepdims=True,ddof=1))\n",
    "\n",
    "# Get bad trials\n",
    "bad_tr = []\n",
    "for itr in range(ntr):\n",
    "    time_win = (t_spec >= t_center[itr] + win[0])*(t_spec <= t_center[itr] + win[1])\n",
    "    itr_data = z_spec_band[[itr],:,:,:]\n",
    "    tmp = np.mean(itr_data[:,:,time_win,:],axis=2)\n",
    "    if sum(time_win)==0:\n",
    "        bad_tr.append(itr)\n",
    "    if itr == 0:\n",
    "        z_data_win = tmp\n",
    "    else:\n",
    "        z_data_win = np.concatenate([z_data_win, tmp],axis=0)\n",
    "        \n",
    "bad_tr = np.array(bad_tr)\n",
    "print(bad_tr)\n",
    "if bad_tr.size>0:\n",
    "    bad_tr_mask = np.zeros(ntr,dtype=bool)\n",
    "    bad_tr_mask[bad_tr] = True\n",
    "    good_tr_mask = ~bad_tr_mask\n",
    "else:\n",
    "    good_tr_mask = np.ones(ntr,dtype=bool)\n",
    "\n",
    "trial_restrict_mask = normal_saccade_trial * normal_onset_time * good_tr_mask"
   ]
  },
  {
   "cell_type": "code",
   "execution_count": null,
   "metadata": {
    "execution": {
     "iopub.status.busy": "2024-09-19T02:35:41.901901Z",
     "iopub.status.idle": "2024-09-19T02:35:41.902066Z",
     "shell.execute_reply": "2024-09-19T02:35:41.901990Z",
     "shell.execute_reply.started": "2024-09-19T02:35:41.901982Z"
    },
    "tags": []
   },
   "outputs": [],
   "source": [
    "band_idx = -1 # which band you focus\n",
    "nbs = 300 # number of bootstrapping\n",
    "n_splits = 5 # number of cross validation\n",
    "shuffle = False # whether to shuffle target index for permutation test\n",
    "\n",
    "y_pred_bs = []\n",
    "y_true_bs = []\n",
    "weights_bs = []\n",
    "print(f'{alignment_flag}')\n",
    "z_single_win = z_data_win[:,[band_idx],:]\n",
    "\n",
    "min_trial = get_minimum_trials_per_target(target_idx, trial_restrict_mask)\n",
    "print(min_trial)\n",
    "\n",
    "for i_bs in tqdm(range(nbs)):\n",
    "    np.random.seed(i_bs)\n",
    "    \n",
    "    # Get trial label with replacement for bootstrapping\n",
    "    trial_mask = get_conditioned_trials_per_target(target_idx, trial_restrict_mask, min_trial, replacement=True, seed=i_bs)\n",
    "    trial_mask = np.random.permutation(trial_mask)\n",
    "    \n",
    "    # Get data for LDA\n",
    "    data_win = z_single_win[trial_mask,:,:]\n",
    "    cond_label = target_idx[trial_mask]\n",
    "    if shuffle:\n",
    "        cond_label = np.random.permutation(cond_label)\n",
    "    \n",
    "    # Average score (spatial filtering)\n",
    "    y_pred, y_true, weights = classify_targ_lda2(data_win, cond_label, n_splits)\n",
    "    y_pred_bs.append(y_pred)\n",
    "    y_true_bs.append(y_true)\n",
    "    weights_bs.append(weights)\n",
    "    \n",
    "y_pred_bs = np.array(y_pred_bs, 'object')\n",
    "y_true_bs = np.array(y_true_bs, 'object')\n",
    "weights_bs = np.array(weights_bs, 'object')\n",
    "\n",
    "np.savez(f'/data/postprocessed/tomo/Neuropixel_targeting/{subject}_decoding_{alignment_flag}_numbs{nbs}_shuffle_{shuffle}_{band_name[band_idx]}', y_pred_bs=y_pred_bs, y_true_bs=y_true_bs, weights_bs=weights_bs)"
   ]
  },
  {
   "cell_type": "code",
   "execution_count": null,
   "metadata": {
    "execution": {
     "iopub.status.busy": "2024-09-19T02:35:41.903117Z",
     "iopub.status.idle": "2024-09-19T02:35:41.903306Z",
     "shell.execute_reply": "2024-09-19T02:35:41.903224Z",
     "shell.execute_reply.started": "2024-09-19T02:35:41.903215Z"
    },
    "tags": []
   },
   "outputs": [],
   "source": [
    "# load bootstrapping data\n",
    "nbs = 300\n",
    "n_splits = 5\n",
    "band_idx = -1\n",
    "alignment_flag = 'acquire'\n",
    "loaded_data = np.load(f'/data/postprocessed/tomo/Neuropixel_targeting/{subject}_decoding_{alignment_flag}_numbs{nbs}_shuffle_{shuffle}_{band_name[band_idx]}.npz',allow_pickle=True)\n",
    "y_pred_bs = loaded_data['y_pred_bs']\n",
    "y_true_bs = loaded_data['y_true_bs']\n",
    "weights_bs = loaded_data['weights_bs']"
   ]
  },
  {
   "cell_type": "code",
   "execution_count": null,
   "metadata": {
    "tags": []
   },
   "outputs": [],
   "source": []
  },
  {
   "cell_type": "code",
   "execution_count": null,
   "metadata": {
    "execution": {
     "iopub.status.busy": "2024-09-19T02:35:41.903668Z",
     "iopub.status.idle": "2024-09-19T02:35:41.903834Z",
     "shell.execute_reply": "2024-09-19T02:35:41.903756Z",
     "shell.execute_reply.started": "2024-09-19T02:35:41.903748Z"
    },
    "tags": []
   },
   "outputs": [],
   "source": [
    "accuracy_ch = np.zeros((nbs, nch))\n",
    "for ibs in tqdm(range(nbs)):\n",
    "    for ich in range(nch):\n",
    "        \n",
    "        accuracy_fold = []\n",
    "        for ifold in range(n_splits):\n",
    "            accuracy_fold.append(accuracy_score(y_true_bs[ibs][ich][ifold], y_pred_bs[ibs][ich][ifold]))\n",
    "        \n",
    "        accuracy_ch[ibs,ich] = np.mean(accuracy_fold)\n",
    "        \n",
    "m_accuracy_bs = np.mean(accuracy_ch,axis=0)"
   ]
  },
  {
   "cell_type": "code",
   "execution_count": null,
   "metadata": {
    "execution": {
     "iopub.status.busy": "2024-09-19T02:35:41.904328Z",
     "iopub.status.idle": "2024-09-19T02:35:41.904498Z",
     "shell.execute_reply": "2024-09-19T02:35:41.904420Z",
     "shell.execute_reply.started": "2024-09-19T02:35:41.904412Z"
    },
    "tags": []
   },
   "outputs": [],
   "source": [
    "print(elec_pos.shape)"
   ]
  },
  {
   "cell_type": "code",
   "execution_count": null,
   "metadata": {
    "execution": {
     "iopub.status.busy": "2024-09-19T02:35:41.904842Z",
     "iopub.status.idle": "2024-09-19T02:35:41.905004Z",
     "shell.execute_reply": "2024-09-19T02:35:41.904928Z",
     "shell.execute_reply.started": "2024-09-19T02:35:41.904921Z"
    },
    "tags": []
   },
   "outputs": [],
   "source": [
    "# Average accuracy across neighboring channels\n",
    "m_accuracy_ch = np.zeros(nch)\n",
    "dist = aopy.utils.calc_euclid_dist_mat(elec_pos)\n",
    "for ich in range(dist.shape[0]):\n",
    "    ave_idx = (dist[:,ich] <= 1.3)#0.75, 1.3\n",
    "    m_accuracy_ch[ich] = np.nanmean(m_accuracy_bs[ave_idx])   \n",
    "\n",
    "# Show data\n",
    "fig,ax=plt.subplots(figsize=(7,5),tight_layout=True)\n",
    "xy = [elec_pos[:,0], elec_pos[:,1]]\n",
    "da_map = aopy.visualization.get_data_map(m_accuracy_ch,xy[0],xy[1])\n",
    "da_map[0,0],da_map[0,1],da_map[1,0],da_map[0,-1],da_map[0,-2],da_map[1,-1] = np.nan,np.nan,np.nan,np.nan,np.nan,np.nan\n",
    "da_map[-1,0],da_map[-1,1],da_map[-2,0],da_map[-1,-1],da_map[-1,-2],da_map[-2,-1] = np.nan,np.nan,np.nan,np.nan,np.nan,np.nan\n",
    "im = aopy.visualization.plot_spatial_map(da_map, xy[0], xy[1], ax=ax, cmap='Blues')\n",
    "im.norm.vmin = 1/8\n",
    "im.norm.vmax = np.nanmax(m_accuracy_ch)\n",
    "\n",
    "cbar = fig.colorbar(im, ax=ax, orientation='vertical',fraction=0.046, pad=0.04)\n",
    "ax.set(xlabel='',ylabel='',xticks=[],xticklabels=[],yticks=[],yticklabels=[])\n",
    "fig.show()\n",
    "np.savez(f'/data/postprocessed/tomo/Neuropixel_targeting/{subject}_{alignment_flag}_decoding_accuracy_{band_name[band_idx]}', da=m_accuracy_ch, elec_pos=elec_pos)"
   ]
  },
  {
   "cell_type": "code",
   "execution_count": null,
   "metadata": {
    "execution": {
     "iopub.status.busy": "2024-09-19T02:35:41.905537Z",
     "iopub.status.idle": "2024-09-19T02:35:41.905715Z",
     "shell.execute_reply": "2024-09-19T02:35:41.905636Z",
     "shell.execute_reply.started": "2024-09-19T02:35:41.905628Z"
    },
    "tags": []
   },
   "outputs": [],
   "source": [
    "alignment_list = ['gocue','movement','acquire']\n",
    "nalignment = len(alignment_list)\n",
    "band_idx = 0\n",
    "shuffle=False\n",
    "\n",
    "accuracy_alignment = np.zeros((nalignment,nbs, nch))\n",
    "for idx, alignment_flag in enumerate(alignment_list):\n",
    "    loaded_data = np.load(f'/data/postprocessed/tomo/Neuropixel_targeting/{subject}_decoding_{alignment_flag}_numbs{nbs}_shuffle_{shuffle}_{band_name[band_idx]}.npz',allow_pickle=True)\n",
    "    y_pred_bs = loaded_data['y_pred_bs']\n",
    "    y_true_bs = loaded_data['y_true_bs']\n",
    "    #weights_bs = loaded_data['weights_bs']\n",
    "\n",
    "    for ibs in tqdm(range(nbs)):\n",
    "        for ich in range(nch):\n",
    "            \n",
    "            accuracy_fold = []\n",
    "            for ifold in range(n_splits):\n",
    "                accuracy_fold.append(accuracy_score(y_true_bs[ibs][ich][ifold], y_pred_bs[ibs][ich][ifold]))\n",
    "                \n",
    "            accuracy_alignment[idx,ibs,ich] = np.mean(accuracy_fold)"
   ]
  },
  {
   "cell_type": "code",
   "execution_count": null,
   "metadata": {
    "execution": {
     "iopub.status.busy": "2024-09-19T02:35:41.906219Z",
     "iopub.status.idle": "2024-09-19T02:35:41.906395Z",
     "shell.execute_reply": "2024-09-19T02:35:41.906315Z",
     "shell.execute_reply.started": "2024-09-19T02:35:41.906307Z"
    },
    "tags": []
   },
   "outputs": [],
   "source": [
    "alignment_list = ['gocue','movement','acquisition']\n",
    "dist = aopy.utils.calc_euclid_dist_mat(elec_pos)\n",
    "xy = [elec_pos[:,0], elec_pos[:,1]]\n",
    "m_accuracy_bs = np.mean(accuracy_alignment,axis=1) # mean across bootstrapping samples\n",
    "\n",
    "# Average accuracy across neighboring channels\n",
    "m_accuracy_ch = np.zeros((nalignment,nch))\n",
    "for ich in range(dist.shape[0]):\n",
    "    ave_idx = (dist[:,ich] <= 1.3)#0.75, 1.3\n",
    "    m_accuracy_ch[:,ich] = np.nanmean(m_accuracy_bs[:,ave_idx],axis=1)   \n",
    "\n",
    "fig,ax=plt.subplots(ncols=nalignment,figsize=(9,3),tight_layout=True)\n",
    "for idx in range(nalignment):\n",
    "    da_map = aopy.visualization.get_data_map(m_accuracy_ch[idx,:],xy[0],xy[1])\n",
    "    da_map[0,0],da_map[0,1],da_map[1,0],da_map[0,-1],da_map[0,-2],da_map[1,-1] = np.nan,np.nan,np.nan,np.nan,np.nan,np.nan\n",
    "    da_map[-1,0],da_map[-1,1],da_map[-2,0],da_map[-1,-1],da_map[-1,-2],da_map[-2,-1] = np.nan,np.nan,np.nan,np.nan,np.nan,np.nan\n",
    "    im = aopy.visualization.plot_spatial_map(da_map, xy[0], xy[1], ax=ax[idx], cmap='Blues')\n",
    "    im.norm.vmin = 1/8\n",
    "    im.norm.vmax = np.nanmax(m_accuracy_ch)\n",
    "    ax[idx].set(xlabel='',ylabel='',xticks=[],xticklabels=[],yticks=[],yticklabels=[],title=f'{alignment_list[idx]}')\n",
    "\n",
    "\n",
    "fig.subplots_adjust(right=0.9)\n",
    "cbar_ax = fig.add_axes([1., 0.15, 0.011, 0.7])\n",
    "cbar = fig.colorbar(im, cax=cbar_ax, orientation='vertical',fraction=0.046, pad=0.04)\n",
    "fig.show()"
   ]
  },
  {
   "cell_type": "markdown",
   "metadata": {},
   "source": [
    "## Contralateral and ipsilateral target decoding"
   ]
  },
  {
   "cell_type": "code",
   "execution_count": null,
   "metadata": {
    "execution": {
     "iopub.status.busy": "2024-09-19T02:35:41.906970Z",
     "iopub.status.idle": "2024-09-19T02:35:41.907140Z",
     "shell.execute_reply": "2024-09-19T02:35:41.907063Z",
     "shell.execute_reply.started": "2024-09-19T02:35:41.907055Z"
    },
    "tags": []
   },
   "outputs": [],
   "source": [
    "## Show decoding accuracy in different time windows\n",
    "target_idx = np.array([t[1]-CENTER_TARGET_ON for t in tsegs])\n",
    "alignment_flag = 'reward'\n",
    "n_splits = 5\n",
    "\n",
    "# Aligne timings\n",
    "target_on_go = target_onset - gocue_time\n",
    "saccade_onset_go = saccade_onset - gocue_time\n",
    "cursor_leave_go = cursor_leave_time - gocue_time\n",
    "reward_go = reward_time - gocue_time\n",
    "\n",
    "# Prepare data\n",
    "if alignment_flag == 'target':\n",
    "    t_center = target_on_go\n",
    "    win = [0.1,0.2]\n",
    "elif alignment_flag == 'gocue':\n",
    "    t_center = np.zeros(ntr)\n",
    "    win = [-0.05,0.05]\n",
    "elif alignment_flag == 'saccade':\n",
    "    t_center = saccade_onset_go\n",
    "    win = [-0.05,0.05]\n",
    "elif alignment_flag == 'movement':\n",
    "    t_center = movement_onset_go\n",
    "    win = [-0.05,0.05]\n",
    "elif alignment_flag == 'cursor_leave':   \n",
    "    t_center = cursor_leave_go\n",
    "    win = [-0.05,0.05]\n",
    "elif alignment_flag == 'reward':   \n",
    "    t_center = reward_go\n",
    "    win = [-0.05,0.05]\n",
    "\n",
    "# Preprocess data\n",
    "#z_spec_band = stats.zscore(spec_band,axis=2)   \n",
    "z_spec_band = (spec_band - np.mean(spec_band, axis=(0,2),keepdims=True))/(np.std(spec_band, axis=(0,2),keepdims=True,ddof=1))\n",
    "\n",
    "bad_tr = []\n",
    "for itr in range(ntr):\n",
    "    time_win = (t_spec >= t_center[itr] + win[0])*(t_spec <= t_center[itr] + win[1])\n",
    "    itr_data = z_spec_band[[itr],:,:,:]\n",
    "    tmp = np.mean(itr_data[:,:,time_win,:],axis=2)\n",
    "    if sum(time_win)==0:\n",
    "        bad_tr.append(itr)\n",
    "    if itr == 0:\n",
    "        z_data_win = tmp\n",
    "    else:\n",
    "        z_data_win = np.concatenate([z_data_win, tmp],axis=0)\n",
    "\n",
    "bad_tr2 = []\n",
    "for itr in range(z_spec_band.shape[0]):\n",
    "    if np.any(np.isnan(z_spec_band[itr,:,:])):\n",
    "        bad_tr2.append(itr)\n",
    "\n",
    "bad_tr = np.concatenate([bad_tr,bad_tr2])\n",
    "bad_tr = np.array([int(a) for a in bad_tr])\n",
    "print(bad_tr)\n",
    "\n",
    "if bad_tr.size>0:\n",
    "    bad_tr_mask = np.zeros(ntr,dtype=bool)\n",
    "    bad_tr_mask[bad_tr] = True\n",
    "    good_tr_mask = ~bad_tr_mask\n",
    "else:\n",
    "    good_tr_mask = np.ones(ntr,dtype=bool)\n",
    "\n",
    "trial_restrict_mask = normal_saccade_trial * normal_onset_time * good_tr_mask"
   ]
  },
  {
   "cell_type": "code",
   "execution_count": null,
   "metadata": {
    "execution": {
     "iopub.status.busy": "2024-09-19T02:35:41.907815Z",
     "iopub.status.idle": "2024-09-19T02:35:41.907988Z",
     "shell.execute_reply": "2024-09-19T02:35:41.907911Z",
     "shell.execute_reply.started": "2024-09-19T02:35:41.907903Z"
    },
    "tags": []
   },
   "outputs": [],
   "source": [
    "decoding_flag = 'contra'\n",
    "shuffle = False\n",
    "nbs = 300\n",
    "band_idx = -1\n",
    "\n",
    "y_pred_bs = []\n",
    "y_true_bs = []\n",
    "weights_bs = []\n",
    "\n",
    "z_single_win = z_data_win[:,[band_idx],:]\n",
    "print(f'{alignment_flag}')\n",
    "\n",
    "if decoding_flag == 'contra':\n",
    "    partial_target = [2,3,4]\n",
    "else:\n",
    "    partial_target = [6,7,8]\n",
    "\n",
    "# get minimum number of trials for each target in both contralateral and ipsilateral targets  \n",
    "contra_ipsi_target_mask = (target_idx == 2)|(target_idx == 3)|(target_idx == 4)|(target_idx == 6)|(target_idx == 7)|(target_idx == 8)\n",
    "contra_ipsi_cond_mask = trial_restrict_mask * contra_ipsi_target_mask\n",
    "min_trial = get_minimum_trials_per_target(target_idx[contra_ipsi_cond_mask], contra_ipsi_cond_mask[contra_ipsi_cond_mask])\n",
    "print(min_trial)\n",
    "\n",
    "# mask for conditioning trials\n",
    "lateral_mask = (target_idx == partial_target[0])|(target_idx == partial_target[1])|(target_idx == partial_target[2])\n",
    "cond_mask = trial_restrict_mask*lateral_mask\n",
    "\n",
    "for i_bs in tqdm(range(nbs)):\n",
    "    np.random.seed(i_bs)\n",
    "    \n",
    "    # Get trial label with replacement for bootstrapping\n",
    "    trial_mask = get_conditioned_trials_per_target(target_idx, cond_mask, min_trial, replacement=True, seed=i_bs)\n",
    "    \n",
    "    # Get data for LDA\n",
    "    data_win = z_single_win[trial_mask,:,:]\n",
    "    cond_label = target_idx[trial_mask]\n",
    "    if shuffle:\n",
    "        cond_label = np.random.permutation(cond_label)\n",
    "        \n",
    "    # Average score (spatial filtering)\n",
    "    y_pred, y_true, weights = classify_targ_lda2(data_win, cond_label, n_splits)\n",
    "    y_pred_bs.append(y_pred)\n",
    "    y_true_bs.append(y_true)\n",
    "    weights_bs.append(weights)\n",
    "    \n",
    "y_pred_bs = np.array(y_pred_bs, 'object')\n",
    "y_true_bs = np.array(y_true_bs, 'object')\n",
    "weights_bs = np.array(weights_bs, 'object')\n",
    "\n",
    "np.savez(f'/data/postprocessed/tomo/{subject}_decoding_{alignment_flag}_{decoding_flag}_numbs{nbs}_shuffle_{shuffle}_{band_name[band_idx]}', \\\n",
    "    y_pred_bs=y_pred_bs, y_true_bs=y_true_bs, weights_bs=weights_bs)\n",
    "\n",
    "#############################################################\n",
    "##### Ipsilateral decoding\n",
    "#############################################################\n",
    "\n",
    "decoding_flag = 'ipsi'\n",
    "y_pred_bs = []\n",
    "y_true_bs = []\n",
    "weights_bs = []\n",
    "print(f'{alignment_flag}')\n",
    "\n",
    "if decoding_flag == 'contra':\n",
    "    partial_target = [2,3,4]\n",
    "else:\n",
    "    partial_target = [6,7,8]\n",
    "\n",
    "# get minimum number of trials for each target in both contralateral and ipsilateral targets  \n",
    "contra_ipsi_target_mask = (target_idx == 2)|(target_idx == 3)|(target_idx == 4)|(target_idx == 6)|(target_idx == 7)|(target_idx == 8)\n",
    "contra_ipsi_cond_mask = trial_restrict_mask * contra_ipsi_target_mask\n",
    "min_trial = get_minimum_trials_per_target(target_idx[contra_ipsi_cond_mask], contra_ipsi_cond_mask[contra_ipsi_cond_mask])\n",
    "print(min_trial)\n",
    "\n",
    "# mask for conditioning trials\n",
    "lateral_mask = (target_idx == partial_target[0])|(target_idx == partial_target[1])|(target_idx == partial_target[2])\n",
    "cond_mask = trial_restrict_mask*lateral_mask\n",
    "\n",
    "for i_bs in tqdm(range(nbs)):\n",
    "    np.random.seed(i_bs)\n",
    "    \n",
    "    # Get trial label with replacement for bootstrapping\n",
    "    trial_mask = get_conditioned_trials_per_target(target_idx, cond_mask, min_trial, replacement=True, seed=i_bs)\n",
    "    \n",
    "    # Get data for LDA\n",
    "    data_win = z_single_win[trial_mask,:,:]\n",
    "    cond_label = target_idx[trial_mask]\n",
    "    if shuffle:\n",
    "        cond_label = np.random.permutation(cond_label)\n",
    "        \n",
    "    # Average score (spatial filtering)\n",
    "    y_pred, y_true, weights = classify_targ_lda2(data_win, cond_label, n_splits)\n",
    "    y_pred_bs.append(y_pred)\n",
    "    y_true_bs.append(y_true)\n",
    "    weights_bs.append(weights)\n",
    "    \n",
    "y_pred_bs = np.array(y_pred_bs, 'object')\n",
    "y_true_bs = np.array(y_true_bs, 'object')\n",
    "weights_bs = np.array(weights_bs, 'object')\n",
    "\n",
    "np.savez(f'/data/postprocessed/tomo/{subject}_decoding_{alignment_flag}_{decoding_flag}_numbs{nbs}_shuffle_{shuffle}_{band_name[band_idx]}', \\\n",
    "    y_pred_bs=y_pred_bs, y_true_bs=y_true_bs, weights_bs=weights_bs)"
   ]
  },
  {
   "cell_type": "code",
   "execution_count": null,
   "metadata": {
    "execution": {
     "iopub.status.busy": "2024-09-19T02:35:41.908481Z",
     "iopub.status.idle": "2024-09-19T02:35:41.908645Z",
     "shell.execute_reply": "2024-09-19T02:35:41.908569Z",
     "shell.execute_reply.started": "2024-09-19T02:35:41.908561Z"
    },
    "tags": []
   },
   "outputs": [],
   "source": [
    "# Contralateral and ipsilateral accuracy\n",
    "nbs = 300\n",
    "alignment_list = ['movement','reward']\n",
    "nalignment = len(alignment_list)\n",
    "band_idx = -1\n",
    "\n",
    "accuracy_alignment = np.zeros((4, nalignment, nbs, nch))\n",
    "for idx, alignment_flag in enumerate(alignment_list):\n",
    "    loaded_data = np.load(f'/data/postprocessed/tomo/{subject}_decoding_{alignment_flag}_contra_numbs{nbs}_shuffle_False_{band_name[band_idx]}.npz',allow_pickle=True)\n",
    "    y_pred_bs_contra = loaded_data['y_pred_bs']\n",
    "    y_true_bs_contra = loaded_data['y_true_bs']\n",
    "\n",
    "    loaded_data = np.load(f'/data/postprocessed/tomo/{subject}_decoding_{alignment_flag}_contra_numbs{nbs}_shuffle_True_{band_name[band_idx]}.npz',allow_pickle=True)\n",
    "    y_pred_bs_contra_shuffle = loaded_data['y_pred_bs']\n",
    "    y_true_bs_contra_shuffle = loaded_data['y_true_bs']\n",
    "        \n",
    "    loaded_data = np.load(f'/data/postprocessed/tomo/{subject}_decoding_{alignment_flag}_ipsi_numbs{nbs}_shuffle_False_{band_name[band_idx]}.npz',allow_pickle=True)\n",
    "    y_pred_bs_ipsi = loaded_data['y_pred_bs']\n",
    "    y_true_bs_ipsi = loaded_data['y_true_bs']\n",
    "\n",
    "    loaded_data = np.load(f'/data/postprocessed/tomo/{subject}_decoding_{alignment_flag}_ipsi_numbs{nbs}_shuffle_True_{band_name[band_idx]}.npz',allow_pickle=True)\n",
    "    y_pred_bs_ipsi_shuffle = loaded_data['y_pred_bs']\n",
    "    y_true_bs_ipsi_shuffle = loaded_data['y_true_bs']\n",
    "        \n",
    "    for ibs in tqdm(range(nbs)):\n",
    "        for ich in range(nch):\n",
    "            \n",
    "            accuracy_fold_contra = []\n",
    "            accuracy_fold_ipsi = []\n",
    "            accuracy_fold_contra_shuffle = []\n",
    "            accuracy_fold_ipsi_shuffle = []\n",
    "            for ifold in range(n_splits):\n",
    "                accuracy_fold_contra.append(accuracy_score(y_true_bs_contra[ibs][ich][ifold], y_pred_bs_contra[ibs][ich][ifold]))\n",
    "                accuracy_fold_ipsi.append(accuracy_score(y_true_bs_ipsi[ibs][ich][ifold], y_pred_bs_ipsi[ibs][ich][ifold]))\n",
    "                accuracy_fold_contra_shuffle.append(accuracy_score(y_true_bs_contra_shuffle[ibs][ich][ifold], y_pred_bs_contra_shuffle[ibs][ich][ifold]))\n",
    "                accuracy_fold_ipsi_shuffle.append(accuracy_score(y_true_bs_ipsi_shuffle[ibs][ich][ifold], y_pred_bs_ipsi_shuffle[ibs][ich][ifold]))\n",
    "                \n",
    "            accuracy_alignment[0,idx,ibs,ich] = np.mean(accuracy_fold_contra)\n",
    "            accuracy_alignment[1,idx,ibs,ich] = np.mean(accuracy_fold_ipsi)\n",
    "            accuracy_alignment[2,idx,ibs,ich] = np.mean(accuracy_fold_contra_shuffle)\n",
    "            accuracy_alignment[3,idx,ibs,ich] = np.mean(accuracy_fold_ipsi_shuffle)"
   ]
  },
  {
   "cell_type": "code",
   "execution_count": null,
   "metadata": {
    "execution": {
     "iopub.status.busy": "2024-09-19T02:35:41.909357Z",
     "iopub.status.idle": "2024-09-19T02:35:41.909522Z",
     "shell.execute_reply": "2024-09-19T02:35:41.909444Z",
     "shell.execute_reply.started": "2024-09-19T02:35:41.909436Z"
    },
    "tags": []
   },
   "outputs": [],
   "source": [
    "alpha = 0.95\n",
    "dist = aopy.utils.calc_euclid_dist_mat(elec_pos)\n",
    "xy = [elec_pos[:,0], elec_pos[:,1]]\n",
    "m_accuracy_bs = np.mean(accuracy_alignment,axis=2) # mean across bootstrapping samples\n",
    "\n",
    "# Compute significance\n",
    "not_significant_contra = np.zeros((nalignment,nch),dtype='bool')\n",
    "for idx in range(nalignment):\n",
    "    confidence_contra = []\n",
    "    for ich in range(nch):\n",
    "        count, bins_count = np.histogram(accuracy_alignment[2,idx,:,ich], bins=50)\n",
    "        bin_edge = bins_count[1:] - np.diff(bins_count)[0]\n",
    "        pdf = count / sum(count)\n",
    "        cdf = np.cumsum(pdf)\n",
    "        confidence_contra.append(bin_edge[np.where(cdf<alpha)[0][-1]])\n",
    "    confidence_contra = np.array(confidence_contra) # nch array\n",
    "    not_significant_contra[idx,:] = confidence_contra > m_accuracy_bs[0,idx,:]\n",
    "\n",
    "not_significant_ipsi = np.zeros((nalignment,nch),dtype='bool')\n",
    "for idx in range(nalignment):\n",
    "    confidence_ipsi = []\n",
    "    for ich in range(nch):\n",
    "        count, bins_count = np.histogram(accuracy_alignment[3,idx,:,ich], bins=50)\n",
    "        bin_edge = bins_count[1:] - np.diff(bins_count)[0]\n",
    "        pdf = count / sum(count)\n",
    "        cdf = np.cumsum(pdf)\n",
    "        confidence_ipsi.append(bin_edge[np.where(cdf<alpha)[0][-1]])\n",
    "    confidence_ipsi = np.array(confidence_ipsi) # nch array\n",
    "    not_significant_ipsi[idx,:] = confidence_ipsi > m_accuracy_bs[1,idx,:]\n",
    "    \n",
    "not_significant = not_significant_contra# + not_significant_ipsi\n",
    "print(not_significant.shape)\n",
    "\n",
    "# TODO add another criteria to remove channels"
   ]
  },
  {
   "cell_type": "code",
   "execution_count": null,
   "metadata": {
    "execution": {
     "iopub.status.busy": "2024-09-19T02:35:41.910110Z",
     "iopub.status.idle": "2024-09-19T02:35:41.910268Z",
     "shell.execute_reply": "2024-09-19T02:35:41.910196Z",
     "shell.execute_reply.started": "2024-09-19T02:35:41.910188Z"
    },
    "tags": []
   },
   "outputs": [],
   "source": [
    "ipsi_idx = 0\n",
    "dist = aopy.utils.calc_euclid_dist_mat(elec_pos)\n",
    "xy = [elec_pos[:,0], elec_pos[:,1]]\n",
    "m_accuracy_bs = np.mean(accuracy_alignment[ipsi_idx,:,:,:],axis=1) # mean across bootstrapping samples\n",
    "\n",
    "# Compute significance\n",
    "# not_significant_ch = np.zeros((nalignment,nch),dtype='bool')\n",
    "# for idx in range(nalignment):\n",
    "#     significance = []\n",
    "#     for ich in range(nch):\n",
    "#         count, bins_count = np.histogram(accuracy_alignment[ipsi_idx,idx,:,ich], bins=50)\n",
    "#         bin_edge = bins_count[1:] - np.diff(bins_count)[0]\n",
    "#         pdf = count / sum(count)\n",
    "#         cdf = np.cumsum(pdf)\n",
    "#         significance.append(bin_edge[np.where(cdf<0.05)[0][-1]])\n",
    "#     significance = np.array(significance) # nch array\n",
    "#     not_significant_ch[idx,:]  = 1/3 > significance\n",
    "#     m_accuracy_bs[idx,not_significant_ch[idx,:]] = np.nan\n",
    "\n",
    "m_accuracy_ch = np.zeros((nalignment,nch))\n",
    "for ich in range(dist.shape[0]):\n",
    "    ave_idx = (dist[:,ich] <= 1.3)#0.75, 1.3\n",
    "    m_accuracy_ch[:,ich] = np.nanmean(m_accuracy_bs[:,ave_idx],axis=1)   \n",
    "\n",
    "fig,ax=plt.subplots(ncols=nalignment,figsize=(12,4),tight_layout=True)\n",
    "for idx in range(nalignment):\n",
    "    m_accuracy_ch[idx,not_significant_contra[idx,:]] = np.nan\n",
    "    da_map = aopy.visualization.get_data_map(m_accuracy_ch[idx,:],xy[0],xy[1])\n",
    "    da_map[0,0],da_map[0,1],da_map[1,0],da_map[0,-1],da_map[0,-2],da_map[1,-1] = np.nan,np.nan,np.nan,np.nan,np.nan,np.nan\n",
    "    da_map[-1,0],da_map[-1,1],da_map[-2,0],da_map[-1,-1],da_map[-1,-2],da_map[-2,-1] = np.nan,np.nan,np.nan,np.nan,np.nan,np.nan\n",
    "    im = aopy.visualization.plot_spatial_map(da_map, xy[0], xy[1], ax=ax[idx], cmap='Blues')\n",
    "    im.norm.vmin = 1/3\n",
    "    im.norm.vmax = np.nanmax(m_accuracy_ch)\n",
    "\n",
    "    #ax[ii].set(title=f'{center_list[ii]*1000} ms',xlabel='',ylabel='',xticks=[],xticklabels=[],yticks=[],yticklabels=[])\n",
    "    ax[idx].set(xlabel='',ylabel='',xticks=[],xticklabels=[],yticks=[],yticklabels=[])\n",
    "\n",
    "\n",
    "fig.subplots_adjust(right=0.9)\n",
    "cbar_ax = fig.add_axes([1., 0.15, 0.011, 0.7])\n",
    "cbar = fig.colorbar(im, cax=cbar_ax, orientation='vertical',fraction=0.046, pad=0.04)\n",
    "#fig.colorbar(im, cax=cbar_ax)\n",
    "\n",
    "fig.show()"
   ]
  },
  {
   "cell_type": "code",
   "execution_count": null,
   "metadata": {
    "execution": {
     "iopub.status.busy": "2024-09-19T02:35:41.910702Z",
     "iopub.status.idle": "2024-09-19T02:35:41.910859Z",
     "shell.execute_reply": "2024-09-19T02:35:41.910786Z",
     "shell.execute_reply.started": "2024-09-19T02:35:41.910779Z"
    },
    "tags": []
   },
   "outputs": [],
   "source": [
    "#accuracy_alignment[0,idx,ibs,ich] = np.mean(accuracy_fold_contra)\n",
    "#accuracy_alignment[1,idx,ibs,ich] = np.mean(accuracy_fold_ipsi)\n",
    "\n",
    "lateral_idx_bs = (accuracy_alignment[0,:,:,:] - accuracy_alignment[1,:,:,:])/(accuracy_alignment[0,:,:,:] + accuracy_alignment[1,:,:,:])\n",
    "lateral_idx = np.mean(lateral_idx_bs,axis=1)\n",
    "\n",
    "not_significant_diff = np.zeros((nalignment,nch),dtype=bool)\n",
    "for idx in range(nalignment):\n",
    "    for ich in range(nch):  \n",
    "        _, p = stats.ranksums(accuracy_alignment[0,idx,:,ich],accuracy_alignment[1,idx,:,ich])\n",
    "        not_significant_diff[idx,ich] = p > 0.01\n",
    "        \n",
    "print(lateral_idx.shape)\n",
    "m_lateral_idx = np.zeros(lateral_idx.shape)\n",
    "for ich in range(dist.shape[0]):\n",
    "    ave_idx = (dist[:,ich] <= 1.3)#0.75, 1.3\n",
    "    m_lateral_idx[:,ich] = np.nanmean(lateral_idx[:,ave_idx],axis=1)\n",
    "    \n",
    "fig,ax=plt.subplots(ncols=nalignment,figsize=(12,4),tight_layout=True)\n",
    "for idx in range(nalignment):\n",
    "    #m_lateral_idx[idx,not_significant_contra[idx,:]] = np.nan\n",
    "    m_lateral_idx[idx,not_significant_diff[idx,:]] = np.nan\n",
    "    da_map = aopy.visualization.get_data_map(m_lateral_idx[idx,:],xy[0],xy[1])\n",
    "    da_map[0,0],da_map[0,1],da_map[1,0],da_map[0,-1],da_map[0,-2],da_map[1,-1] = np.nan,np.nan,np.nan,np.nan,np.nan,np.nan\n",
    "    da_map[-1,0],da_map[-1,1],da_map[-2,0],da_map[-1,-1],da_map[-1,-2],da_map[-2,-1] = np.nan,np.nan,np.nan,np.nan,np.nan,np.nan\n",
    "    im = aopy.visualization.plot_spatial_map(da_map, xy[0], xy[1], ax=ax[idx], cmap='bwr')\n",
    "    im.norm.vmin = -np.nanmax(m_lateral_idx)\n",
    "    im.norm.vmax = np.nanmax(m_lateral_idx)\n",
    "    ax[idx].set(xlabel='',ylabel='',xticks=[],xticklabels=[],yticks=[],yticklabels=[])\n",
    "    \n",
    "fig.subplots_adjust(right=0.9)\n",
    "cbar_ax = fig.add_axes([1., 0.15, 0.011, 0.7])\n",
    "cbar = fig.colorbar(im, cax=cbar_ax, orientation='vertical',fraction=0.046, pad=0.04)"
   ]
  },
  {
   "cell_type": "markdown",
   "metadata": {},
   "source": [
    "# Calculate linear regression"
   ]
  },
  {
   "cell_type": "code",
   "execution_count": 9,
   "metadata": {
    "execution": {
     "iopub.execute_input": "2024-09-19T02:36:47.121438Z",
     "iopub.status.busy": "2024-09-19T02:36:47.120763Z",
     "iopub.status.idle": "2024-09-19T02:36:47.167922Z",
     "shell.execute_reply": "2024-09-19T02:36:47.166850Z",
     "shell.execute_reply.started": "2024-09-19T02:36:47.121385Z"
    },
    "tags": []
   },
   "outputs": [],
   "source": [
    "def calc_task_rel_dims(neural_data, kin_data, conc_proj_data=False, regularization=None, alpha=1):\n",
    "    '''\n",
    "    Calculates the task relevant dimensions by regressing neural activity against kinematic data using least squares.\n",
    "    If the input neural data is 3D, all trials will be concatenated to calculate the subspace. \n",
    "    Calculation is based on the approach used in Sun et al. 2022 https://doi.org/10.1038/s41586-021-04329-x\n",
    "    \n",
    "    .. math::\n",
    "    \n",
    "        R \\\\in \\\\mathbb{R}^{nt \\\\times nch}\n",
    "        M \\\\in \\\\mathbb{R}^{nt \\\\times nkin}\n",
    "        \\\\beta \\\\in \\\\mathbb{R}^{nch \\\\times nkin}\n",
    "        R = M\\\\beta^T\n",
    "        [\\\\beta_0 \\beta_x \\beta_y]^T = (M^T M)^{-1} M^T R\n",
    "\n",
    "    Args:\n",
    "        neural_data ((nt, nch) or list of (nt, nch)): Input neural data (:math:`R`) to regress against kinematic activity.\n",
    "        kin_data ((nt, ndim) or list of (nt, ndim)): Kinematic variables (:math:`M`), commonly position or instantaneous velocity. 'ndims' refers to the number of physical dimensions that define the kinematic data (i.e. X and Y)\n",
    "        conc_proj_data (bool): If the projected neural data should be concatenated.\n",
    "\n",
    "    Returns:\n",
    "        tuple: Tuple containing:\n",
    "            | **(nch, ndim):** Subspace (:math:`\\beta`) that best predicts kinematic variables. Note the first column represents the intercept, then the next dimensions represent the behvaioral variables\n",
    "            | **((nt, nch) or list of (nt, ndim)):** Neural data projected onto task relevant subspace\n",
    "\n",
    "    '''\n",
    "\n",
    "    # If a list of segments from trials, concatenate them into one larget timeseries\n",
    "    if type(neural_data) == list:\n",
    "        ntrials = len(neural_data)\n",
    "        min_time_per_trial = [np.min([len(neural_data[itrial]), len(kin_data[itrial])]) for itrial in range(ntrials)]\n",
    "        \n",
    "        conc_neural_data = np.vstack([neural_data[itrial][:min_time_per_trial[itrial]] for itrial in range(ntrials)]) #(nt, nch)\n",
    "        conc_kin_data_baseline = np.vstack([kin_data[itrial][:min_time_per_trial[itrial]] for itrial in range(ntrials)])\n",
    "        if conc_neural_data.shape[0] != conc_kin_data_baseline.shape[0]:\n",
    "            print(f\"Neural and kinematic data sizes are {np.abs(conc_neural_data.shape[0]-conc_kin_data_baseline.shape[0])} samples apart\")\n",
    "        \n",
    "        ntime = np.min([conc_neural_data.shape[0], conc_kin_data_baseline.shape[0]])\n",
    "        \n",
    "        # Set input neural data as a float\n",
    "        conc_neural_data = conc_neural_data.astype(float)[:ntime,:]\n",
    "\n",
    "        conc_kin_data = np.ones((ntime,kin_data[0].shape[1]+1))*np.nan\n",
    "        conc_kin_data[:,0] = 1\n",
    "        conc_kin_data[:,1:] = conc_kin_data_baseline\n",
    "\n",
    "        # Center neural data:\n",
    "        conc_neural_data -= np.nanmean(conc_neural_data, axis=0)\n",
    "\n",
    "        # Calculate task relevant subspace \n",
    "        # task_subspace = np.linalg.pinv(conc_kin_data.T @ conc_kin_data) @ conc_kin_data.T @ conc_neural_data\n",
    "        if regularization is None:        \n",
    "            # task_subspace = np.linalg.pinv(conc_neural_data.T @ conc_neural_data) @ conc_neural_data.T @ conc_kin_data\n",
    "            lin_reg_model = sklearn.linear_model.LinearRegression(fit_intercept=False).fit(conc_neural_data, conc_kin_data)\n",
    "            task_subspace = (lin_reg_model.coef_).T\n",
    "        elif regularization == 'lasso':\n",
    "            lasso_model = sklearn.linear_model.Lasso(alpha=alpha, max_iter=10000).fit(conc_neural_data, conc_kin_data)\n",
    "            task_subspace = (lasso_model.coef_).T\n",
    "        elif regularization == 'ridge':\n",
    "            ridge_model = sklearn.linear_model.Ridge(alpha=alpha, max_iter=10000).fit(conc_neural_data, conc_kin_data)\n",
    "            task_subspace = (ridge_model.coef_).T\n",
    "        elif regularization == 'elastic net':\n",
    "            elasticnet_model = sklearn.linear_model.ElasticNet(alpha=alpha, max_iter=10000).fit(conc_neural_data, conc_kin_data)\n",
    "            task_subspace = (elasticnet_model.coef_).T\n",
    "    \n",
    "    else:\n",
    "        # Save original neural data as a list\n",
    "        neural_data = [neural_data]\n",
    "        \n",
    "        # Set input neural data as a float\n",
    "        neural_data_centered = neural_data[0].astype(float)\n",
    "        \n",
    "        # Center neural data:\n",
    "        neural_data_centered -= np.nanmean(neural_data_centered, axis=0)\n",
    "        ntime = neural_data_centered.shape[0]\n",
    "        conc_kin_data = np.ones((ntime, kin_data.shape[1]+1))*np.nan\n",
    "        conc_kin_data[:,0] = 1\n",
    "        conc_kin_data[:,1:] = kin_data\n",
    "        \n",
    "        # Calculate task relevant subspace \n",
    "        if regularization is None:\n",
    "            task_subspace = np.linalg.pinv(neural_data_centered.T @ neural_data_centered) @ neural_data_centered.T @ conc_kin_data\n",
    "        elif regularization == 'lasso':\n",
    "            lasso_model = sklearn.linear_model.Lasso(alpha=alpha, max_iter=10000).fit(neural_data_centered, conc_kin_data)\n",
    "            task_subspace = (lasso_model.coef_).T\n",
    "        elif regularization == 'ridge':\n",
    "            ridge_model = sklearn.linear_model.Ridge(alpha=alpha, max_iter=10000).fit(neural_data_centered, conc_kin_data)\n",
    "            task_subspace = (ridge_model.coef_).T\n",
    "        elif regularization == 'elastic net':\n",
    "            elasticnet_model = sklearn.linear_model.ElasticNet(alpha=alpha, max_iter=10000).fit(neural_data_centered, conc_kin_data)\n",
    "            task_subspace = (elasticnet_model.coef_).T\n",
    "        ntrials = 1\n",
    "        \n",
    "    # Project neural data onto task subspace\n",
    "    projected_data = []\n",
    "    \n",
    "    for itrial in range(ntrials):\n",
    "        projected_data.append(neural_data[itrial] @ task_subspace)\n",
    "\n",
    "    if conc_proj_data:\n",
    "        return task_subspace, np.vstack(projected_data)\n",
    "    else:    \n",
    "        return task_subspace, projected_data\n",
    "    \n",
    "def xval_task_rel_dims(neural_data, kin_data, labels=None, regularization=None, nfolds=4, alpha=1, smooth_neural_data=True, tavg_neural_data=False, return_test_label_idx=False):\n",
    "    '''\n",
    "    '''    \n",
    "    test_pred_move = []\n",
    "    test_move = []\n",
    "    test_label_idx = []\n",
    "    scores = np.zeros((nfolds,2))*np.nan # Score for each fold and separately for x and y\n",
    "    if isinstance(neural_data, np.ndarray):\n",
    "        ntrials = neural_data.shape[1]\n",
    "        nunits = neural_data.shape[2]\n",
    "        nkindim = kin_data.shape[2]\n",
    "    else:\n",
    "        ntrials = len(neural_data)\n",
    "        nunits = neural_data[0].shape[1]\n",
    "        nkindim = kin_data[0].shape[1]\n",
    "    kf = sklearn.model_selection.KFold(n_splits=nfolds,shuffle=True,random_state=1)\n",
    "    \n",
    "    subspaces = np.zeros((nunits, nkindim, nfolds))*np.nan\n",
    "    \n",
    "    for ifold, (train_idx, test_idx) in enumerate(kf.split(np.ones((ntrials,ntrials)))):\n",
    "        if tavg_neural_data:\n",
    "            train_neural_data = avg_by_condition(neural_data[:,train_idx,:], labels[train_idx])\n",
    "            test_neural_data = np.mean(neural_data[:,test_idx,:], axis=0)\n",
    "            train_kin_data = avg_by_condition(kin_data[:,train_idx,:], labels[train_idx])\n",
    "            test_kin_data = np.mean(kin_data[:,test_idx,:], axis=0)\n",
    "            \n",
    "            # Center test neural data\n",
    "            # test_neural_data -= np.mean(test_neural_data, axis=1)[:,None]\n",
    "            test_neural_data -= np.mean(test_neural_data, axis=0)\n",
    "                                          \n",
    "        else:\n",
    "            # Train\n",
    "            train_neural_data = [smooth_timeseries_gaus(neural_data[itrain_idx], samplerate=100, width=250, nstd=3) for itrain_idx in train_idx]\n",
    "            test_neural_data = np.vstack([smooth_timeseries_gaus(neural_data[itest_idx], samplerate=100, width=250, nstd=3) for itest_idx in test_idx])\n",
    "            train_kin_data = [kin_data[itrain_idx] for itrain_idx in train_idx]\n",
    "            test_kin_data = [kin_data[itest_idx] for itest_idx in test_idx]\n",
    "\n",
    "            # Center test neural data\n",
    "            test_neural_data -= np.nanmean(test_neural_data, axis=0)\n",
    "            \n",
    "        # print(np.vstack(train_neural_data).shape, np.vstack(train_kin_data).shape)\n",
    "        train_subspace,_  = calc_task_rel_dims(train_neural_data, train_kin_data, conc_proj_data=False, regularization=regularization, alpha=alpha)\n",
    "    \n",
    "        # Test\n",
    "        pred_move = test_neural_data @ train_subspace\n",
    "        # pred_move = np.linalg.pinv(train_subspace) @ test_neural_data.T\n",
    "        \n",
    "        ntime = np.min([np.vstack(test_kin_data)[:,0].shape[0], pred_move.shape[0]])\n",
    "        # print(test_kin_data.shape, np.vstack(test_kin_data).shape)\n",
    "        # Score\n",
    "        scores[ifold,0] = sklearn.metrics.r2_score(np.vstack(test_kin_data)[:ntime,0], pred_move[:ntime,1]) # Score x component\n",
    "        scores[ifold,1] = sklearn.metrics.r2_score(np.vstack(test_kin_data)[:ntime,1], pred_move[:ntime,2]) # Score y component\n",
    "        \n",
    "        # Record results\n",
    "        if return_test_label_idx:\n",
    "            test_label_idx.append(labels[test_idx])\n",
    "        test_pred_move.append(pred_move)\n",
    "        if tavg_neural_data:\n",
    "            test_move.append(test_kin_data)\n",
    "        else:\n",
    "            test_move.append(np.vstack(test_kin_data))\n",
    "        subspaces[:,:,ifold] = train_subspace[:,1:] # first subspace is the intercept\n",
    "        \n",
    "        \n",
    "    if return_test_label_idx:\n",
    "        return scores, test_move, test_pred_move, subspaces, test_label_idx\n",
    "    else:\n",
    "        return scores, test_move, test_pred_move, subspaces\n",
    "    \n",
    "def get_cursor_leave_center_idx(data, target_radius):\n",
    "    '''\n",
    "    Compute the time when the cursor leaves the center target radius\n",
    "    \n",
    "    Args:\n",
    "        traj (ntrials list of (nt,2)): x,y trajectory data\n",
    "        target_radius (float): the radius of the center target\n",
    "        \n",
    "    Returns:\n",
    "        cursor_leave_center_time (ntrials list): the time when the cursor leaves the center target radius\n",
    "    '''\n",
    "    ntr = len(data)\n",
    "    cursor_leave_center_time = []\n",
    "    leave_idx = []\n",
    "    for itr in range(ntr):\n",
    "        dist = np.sqrt(data[itr][:,0]**2 + data[itr][:,1]**2)\n",
    "        leave_idx.append(np.where(dist>target_radius)[0][0])\n",
    "    \n",
    "    return leave_idx\n",
    "\n",
    "def avg_by_condition(data, cond_labels):\n",
    "    '''\n",
    "    args:\n",
    "        data (ntime, ntrials, nch)\n",
    "        labels (ntrials)\n",
    "        \n",
    "    returns\n",
    "        (ncond, nch)\n",
    "    '''\n",
    "    ntime, ntrials, nch = data.shape\n",
    "    unique_labels = np.unique(cond_labels)\n",
    "    avg_data = np.zeros((len(unique_labels), nch))*np.nan\n",
    "    for ilabel, label in enumerate(unique_labels):       \n",
    "        avg_data[ilabel,:] = np.mean(data[:,cond_labels==label,:],axis=(0,1))\n",
    "        \n",
    "    return avg_data"
   ]
  },
  {
   "cell_type": "code",
   "execution_count": 10,
   "metadata": {
    "execution": {
     "iopub.execute_input": "2024-09-19T02:36:47.642685Z",
     "iopub.status.busy": "2024-09-19T02:36:47.642002Z",
     "iopub.status.idle": "2024-09-19T02:36:47.650421Z",
     "shell.execute_reply": "2024-09-19T02:36:47.649093Z",
     "shell.execute_reply.started": "2024-09-19T02:36:47.642630Z"
    },
    "tags": []
   },
   "outputs": [],
   "source": [
    "# import pandas as pds\n",
    "# ecog_signal_path = \"/home/aolab/gdrive/Lab equipment/electrophysiology/210910_ecog_signal_path.xlsx\"\n",
    "# elec_to_pos = \"/home/aolab/gdrive/Lab equipment/electrophysiology/our signal path definitions/244ch_viventi_ecog_elec_to_pos.xlsx\"\n",
    "# ecog_signal_path_db = pds.read_excel(ecog_signal_path)\n",
    "# ecog_layout = pds.read_excel(elec_to_pos)\n",
    "# elec_channels = np.array(list(range(1,257)), dtype='int')\n",
    "# elec_pos, acq_ch, elecs = aopy.data.map_acq2pos(ecog_signal_path_db, ecog_layout, elec_channels)\n",
    "# elec_pos = elec_pos[good_ch]"
   ]
  },
  {
   "cell_type": "code",
   "execution_count": 11,
   "metadata": {
    "execution": {
     "iopub.execute_input": "2024-09-19T02:36:47.933640Z",
     "iopub.status.busy": "2024-09-19T02:36:47.933134Z",
     "iopub.status.idle": "2024-09-19T02:36:48.072789Z",
     "shell.execute_reply": "2024-09-19T02:36:48.071484Z",
     "shell.execute_reply.started": "2024-09-19T02:36:47.933610Z"
    },
    "tags": []
   },
   "outputs": [
    {
     "name": "stdout",
     "output_type": "stream",
     "text": [
      "131 151 0.31000000000000005 0.52\n"
     ]
    }
   ],
   "source": [
    "# Convert position trajectories into velocities\n",
    "cursor_traj_velo = [np.array([aopy.utils.derivative(np.arange(len(t))/FS, t[:,0]), aopy.utils.derivative(np.arange(len(t))/FS, t[:,1])]).T for t in cursor_traj]\n",
    "cursor_leave_idx = get_cursor_leave_center_idx(cursor_traj, metadata['target_radius'])\n",
    "npts = int((time_before + time_after)*FS)\n",
    "npts = 400\n",
    "cursor_traj_mov_on = np.array([cursor_traj_velo[itr][cursor_leave_idx[itr]:(cursor_leave_idx[itr]+npts)] for itr in range(ntr)])\n",
    "# cursor_traj_mov_on = np.array([cursor_traj[itr][cursor_leave_idx[itr]:(cursor_leave_idx[itr]+npts)] for itr in range(ntr)])\n",
    "\n",
    "start_idx = np.where(t_spec>(-time_before+offset))[0][0]\n",
    "stop_idx = np.where(t_spec>(offset+time_after))[0][0]\n",
    "print(start_idx, stop_idx, t_spec[start_idx], t_spec[stop_idx+1])"
   ]
  },
  {
   "cell_type": "markdown",
   "metadata": {},
   "source": [
    "## Calculate maps for broadband timeseries"
   ]
  },
  {
   "cell_type": "code",
   "execution_count": null,
   "metadata": {
    "execution": {
     "iopub.status.busy": "2024-09-19T02:35:41.913449Z",
     "iopub.status.idle": "2024-09-19T02:35:41.913610Z",
     "shell.execute_reply": "2024-09-19T02:35:41.913534Z",
     "shell.execute_reply.started": "2024-09-19T02:35:41.913526Z"
    },
    "tags": []
   },
   "outputs": [],
   "source": [
    "import sklearn\n",
    "scores, test_move, test_pred_move, subspaces, test_label_idx = xval_task_rel_dims(np.swapaxes(trial_align_data,0,1), np.swapaxes(cursor_traj_mov_on,0,1), labels=target_idx, regularization=None, nfolds=5, alpha=1, smooth_neural_data=False, tavg_neural_data=True, return_test_label_idx=True)"
   ]
  },
  {
   "cell_type": "code",
   "execution_count": null,
   "metadata": {
    "execution": {
     "iopub.status.busy": "2024-09-19T02:35:41.913932Z",
     "iopub.status.idle": "2024-09-19T02:35:41.914085Z",
     "shell.execute_reply": "2024-09-19T02:35:41.914013Z",
     "shell.execute_reply.started": "2024-09-19T02:35:41.914005Z"
    },
    "tags": []
   },
   "outputs": [],
   "source": [
    "print(subspaces[:,1,:].shape)\n",
    "trdx = np.mean(subspaces[:,0,:], axis=1)\n",
    "trdy = np.mean(subspaces[:,1,:], axis=1)\n",
    "# trd_all  = np.abs(trdx)+np.abs(trdy)\n",
    "trd_all  = np.sqrt(trdx**2+trdy**2)"
   ]
  },
  {
   "cell_type": "code",
   "execution_count": null,
   "metadata": {
    "execution": {
     "iopub.status.busy": "2024-09-19T02:35:41.914465Z",
     "iopub.status.idle": "2024-09-19T02:35:41.914622Z",
     "shell.execute_reply": "2024-09-19T02:35:41.914549Z",
     "shell.execute_reply.started": "2024-09-19T02:35:41.914541Z"
    },
    "tags": []
   },
   "outputs": [],
   "source": [
    "fig, ax = plt.subplots(1,3, figsize=(12,3))\n",
    "data_map, _ = aopy.visualization.calc_data_map(trd_all, elec_pos[:,0], elec_pos[:,1], (16,16))\n",
    "im = aopy.visualization.plot_spatial_map(data_map, elec_pos[:,0], elec_pos[:,1], cmap='YlGnBu', ax=ax[0])\n",
    "# im.set_clim(-15, 10)\n",
    "cb = plt.colorbar(im)\n",
    "ax[0].set_title('Contribution to all')\n",
    "\n",
    "data_map, _ = aopy.visualization.calc_data_map(trdx, elec_pos[:,0], elec_pos[:,1], (16,16))\n",
    "im = aopy.visualization.plot_spatial_map(data_map, elec_pos[:,0], elec_pos[:,1], cmap='YlGnBu', ax=ax[1])\n",
    "# im.set_clim(-15, 10)\n",
    "cb = plt.colorbar(im)\n",
    "ax[1].set_title('Contribution to X')\n",
    "\n",
    "data_map, _ = aopy.visualization.calc_data_map(trdy, elec_pos[:,0], elec_pos[:,1], (16,16))\n",
    "im = aopy.visualization.plot_spatial_map(data_map, elec_pos[:,0], elec_pos[:,1], cmap='YlGnBu', ax=ax[2])\n",
    "# im.set_clim(-15, 10)\n",
    "cb = plt.colorbar(im)\n",
    "ax[2].set_title('Contribution to Y')\n",
    "\n",
    "fig.tight_layout()\n",
    "plt.suptitle('Broadband timeseries')\n",
    "plt.show()"
   ]
  },
  {
   "cell_type": "code",
   "execution_count": null,
   "metadata": {
    "execution": {
     "iopub.status.busy": "2024-09-19T02:35:41.915041Z",
     "iopub.status.idle": "2024-09-19T02:35:41.915217Z",
     "shell.execute_reply": "2024-09-19T02:35:41.915139Z",
     "shell.execute_reply.started": "2024-09-19T02:35:41.915130Z"
    },
    "tags": []
   },
   "outputs": [],
   "source": [
    "evoked_resp = np.mean(np.sum(np.swapaxes(trial_align_data,0,1),axis=0), axis=0)\n",
    "fig, ax = plt.subplots(1,1, figsize=(4,3))\n",
    "data_map, _ = aopy.visualization.calc_data_map(evoked_resp/np.max(evoked_resp), elec_pos[:,0], elec_pos[:,1], (16,16))\n",
    "im = aopy.visualization.plot_spatial_map(data_map, elec_pos[:,0], elec_pos[:,1], cmap='YlGnBu', ax=ax)\n",
    "# im.set_clim(, 10)\n",
    "cb = plt.colorbar(im)\n",
    "ax.set_title('Evoked response')\n",
    "\n",
    "fig.tight_layout()\n",
    "plt.show()"
   ]
  },
  {
   "cell_type": "code",
   "execution_count": null,
   "metadata": {
    "execution": {
     "iopub.status.busy": "2024-09-19T02:35:41.915895Z",
     "iopub.status.idle": "2024-09-19T02:35:41.916062Z",
     "shell.execute_reply": "2024-09-19T02:35:41.915986Z",
     "shell.execute_reply.started": "2024-09-19T02:35:41.915978Z"
    },
    "tags": []
   },
   "outputs": [],
   "source": [
    "loadings = sklearn.decomposition.PCA().fit(np.vstack(np.swapaxes(trial_align_data,0,1))).components_\n",
    "\n",
    "npc = 5\n",
    "fig, ax = plt.subplots(1,npc, figsize=(4*npc,3))\n",
    "for ipc in range(npc):\n",
    "    data_map = aopy.visualization.get_data_map(loadings[ipc,:], elec_pos[:,0], elec_pos[:,1])\n",
    "    im = aopy.visualization.plot_spatial_map(data_map, elec_pos[:,0], elec_pos[:,1], cmap='YlGnBu', ax=ax[ipc])\n",
    "    # im.set_clim(, 10)\n",
    "    cb = plt.colorbar(im)\n",
    "    ax[ipc].set_title(f'PC: {ipc+1} Loadings')\n",
    "\n",
    "fig.tight_layout()\n",
    "plt.show()"
   ]
  },
  {
   "cell_type": "markdown",
   "metadata": {},
   "source": [
    "## Calculate maps for delta power"
   ]
  },
  {
   "cell_type": "code",
   "execution_count": null,
   "metadata": {
    "execution": {
     "iopub.status.busy": "2024-09-19T02:35:41.916515Z",
     "iopub.status.idle": "2024-09-19T02:35:41.916677Z",
     "shell.execute_reply": "2024-09-19T02:35:41.916603Z",
     "shell.execute_reply.started": "2024-09-19T02:35:41.916595Z"
    },
    "tags": []
   },
   "outputs": [],
   "source": [
    "# bands = [(0.1,4),(4,8),(8,14),(14,30),(30,80),(80,150)]\n",
    "# nband = len(bands)\n",
    "# band_name = ['delta','theta','alpha','beta','gamma','hgamma']"
   ]
  },
  {
   "cell_type": "code",
   "execution_count": null,
   "metadata": {
    "execution": {
     "iopub.status.busy": "2024-09-19T02:35:41.917175Z",
     "iopub.status.idle": "2024-09-19T02:35:41.917343Z",
     "shell.execute_reply": "2024-09-19T02:35:41.917264Z",
     "shell.execute_reply.started": "2024-09-19T02:35:41.917256Z"
    },
    "tags": []
   },
   "outputs": [],
   "source": [
    "start_idx = np.where(t_spec>offset)[0][0]\n",
    "stop_idx = np.where(t_spec>(offset+time_after))[0][0]\n",
    "print(start_idx, stop_idx, t_spec[start_idx], t_spec[stop_idx])\n",
    "deltapower = np.swapaxes(spec_band[:,0,start_idx:stop_idx,:], 0,1)\n",
    "baseline_deltapower = np.mean(baseline_spec_band[:,0,baseline_start_idx:baseline_stop_idx,:], (0,1))\n"
   ]
  },
  {
   "cell_type": "code",
   "execution_count": null,
   "metadata": {
    "execution": {
     "iopub.status.busy": "2024-09-19T02:35:41.918013Z",
     "iopub.status.idle": "2024-09-19T02:35:41.918177Z",
     "shell.execute_reply": "2024-09-19T02:35:41.918101Z",
     "shell.execute_reply.started": "2024-09-19T02:35:41.918093Z"
    },
    "tags": []
   },
   "outputs": [],
   "source": [
    "import sklearn\n",
    "scores, test_move, test_pred_move, delta_subspaces, test_label_idx = xval_task_rel_dims(deltapower, np.swapaxes(cursor_traj_mov_on,0,1), labels=target_idx, regularization=None, nfolds=5, alpha=1, smooth_neural_data=False, tavg_neural_data=True, return_test_label_idx=True)"
   ]
  },
  {
   "cell_type": "code",
   "execution_count": null,
   "metadata": {
    "execution": {
     "iopub.status.busy": "2024-09-19T02:35:41.918643Z",
     "iopub.status.idle": "2024-09-19T02:35:41.918818Z",
     "shell.execute_reply": "2024-09-19T02:35:41.918734Z",
     "shell.execute_reply.started": "2024-09-19T02:35:41.918726Z"
    },
    "tags": []
   },
   "outputs": [],
   "source": [
    "print(np.sum(np.isnan(trd_all)))"
   ]
  },
  {
   "cell_type": "code",
   "execution_count": null,
   "metadata": {
    "execution": {
     "iopub.status.busy": "2024-09-19T02:35:41.919301Z",
     "iopub.status.idle": "2024-09-19T02:35:41.919464Z",
     "shell.execute_reply": "2024-09-19T02:35:41.919385Z",
     "shell.execute_reply.started": "2024-09-19T02:35:41.919377Z"
    },
    "tags": []
   },
   "outputs": [],
   "source": [
    "trdx = np.mean(delta_subspaces[:,0,:], axis=1)\n",
    "trdy = np.mean(delta_subspaces[:,1,:], axis=1)\n",
    "# trd_all  = np.abs(trdx)+np.abs(trdy)\n",
    "trd_all  = np.sqrt(trdx**2+trdy**2)\n",
    "\n",
    "fig, ax = plt.subplots(1,3, figsize=(12,3))\n",
    "data_map = aopy.visualization.get_data_map(trd_all, elec_pos[:,0], elec_pos[:,1])\n",
    "im = aopy.visualization.plot_spatial_map(data_map, elec_pos[:,0], elec_pos[:,1], cmap='YlGnBu', ax=ax[0])\n",
    "# im.set_clim(-15, 10)\n",
    "cb = plt.colorbar(im)\n",
    "ax[0].set_title('Contribution to all')\n",
    "\n",
    "data_map = aopy.visualization.get_data_map(trdx, elec_pos[:,0], elec_pos[:,1])\n",
    "im = aopy.visualization.plot_spatial_map(data_map, elec_pos[:,0], elec_pos[:,1], cmap='YlGnBu', ax=ax[1])\n",
    "im.set_clim(-np.max(np.abs([trdx, trdy])), np.max(np.abs([trdx, trdy])))\n",
    "cb = plt.colorbar(im)\n",
    "ax[1].set_title('Contribution to X')\n",
    "\n",
    "data_map = aopy.visualization.get_data_map(trdy, elec_pos[:,0], elec_pos[:,1])\n",
    "im = aopy.visualization.plot_spatial_map(data_map, elec_pos[:,0], elec_pos[:,1], cmap='YlGnBu', ax=ax[2])\n",
    "im.set_clim(-np.max(np.abs([trdx, trdy])), np.max(np.abs([trdx, trdy])))\n",
    "cb = plt.colorbar(im)\n",
    "ax[2].set_title('Contribution to Y')\n",
    "\n",
    "plt.suptitle('Delta power')\n",
    "fig.tight_layout()\n",
    "plt.show()"
   ]
  },
  {
   "cell_type": "code",
   "execution_count": null,
   "metadata": {
    "execution": {
     "iopub.status.busy": "2024-09-19T02:35:41.920026Z",
     "iopub.status.idle": "2024-09-19T02:35:41.920191Z",
     "shell.execute_reply": "2024-09-19T02:35:41.920110Z",
     "shell.execute_reply.started": "2024-09-19T02:35:41.920102Z"
    },
    "tags": []
   },
   "outputs": [],
   "source": [
    "evoked_resp = np.mean(deltapower,axis=(0,1)) - baseline_deltapower\n",
    "fig, ax = plt.subplots(1,1, figsize=(4,3))\n",
    "data_map = aopy.visualization.get_data_map(evoked_resp/np.max(evoked_resp), elec_pos[:,0], elec_pos[:,1])\n",
    "im = aopy.visualization.plot_spatial_map(data_map, elec_pos[:,0], elec_pos[:,1], cmap='YlGnBu', ax=ax)\n",
    "# im.set_clim(, 10)\n",
    "cb = plt.colorbar(im)\n",
    "ax.set_title('Evoked response')\n",
    "\n",
    "fig.tight_layout()\n",
    "plt.show()"
   ]
  },
  {
   "cell_type": "code",
   "execution_count": null,
   "metadata": {
    "execution": {
     "iopub.status.busy": "2024-09-19T02:35:41.921159Z",
     "iopub.status.idle": "2024-09-19T02:35:41.921362Z",
     "shell.execute_reply": "2024-09-19T02:35:41.921273Z",
     "shell.execute_reply.started": "2024-09-19T02:35:41.921264Z"
    },
    "tags": []
   },
   "outputs": [],
   "source": [
    "loadings = sklearn.decomposition.PCA().fit(np.vstack(deltapower)).components_\n",
    "\n",
    "npc = 5\n",
    "fig, ax = plt.subplots(1,npc, figsize=(4*npc,3))\n",
    "for ipc in range(npc):\n",
    "    data_map = aopy.visualization.get_data_map(loadings[ipc,:], elec_pos[:,0], elec_pos[:,1])\n",
    "    im = aopy.visualization.plot_spatial_map(data_map, elec_pos[:,0], elec_pos[:,1], cmap='YlGnBu', ax=ax[ipc])\n",
    "    # im.set_clim(, 10)\n",
    "    cb = plt.colorbar(im)\n",
    "    ax[ipc].set_title(f'PC: {ipc+1} Loadings')\n",
    "\n",
    "fig.tight_layout()\n",
    "plt.show()"
   ]
  },
  {
   "cell_type": "markdown",
   "metadata": {},
   "source": [
    "## Calculate maps for beta power"
   ]
  },
  {
   "cell_type": "code",
   "execution_count": null,
   "metadata": {
    "execution": {
     "iopub.status.busy": "2024-09-19T02:35:41.922366Z",
     "iopub.status.idle": "2024-09-19T02:35:41.922545Z",
     "shell.execute_reply": "2024-09-19T02:35:41.922463Z",
     "shell.execute_reply.started": "2024-09-19T02:35:41.922454Z"
    },
    "tags": []
   },
   "outputs": [],
   "source": [
    "start_idx = np.where(t_spec>offset)[0][0]\n",
    "stop_idx = np.where(t_spec>(offset+time_after))[0][0]\n",
    "print(start_idx, stop_idx, t_spec[start_idx], t_spec[stop_idx])\n",
    "betapower = np.swapaxes(spec_band[:,3,start_idx:stop_idx,:], 0,1)\n",
    "baseline_betapower = np.mean(baseline_spec_band[:,3,baseline_start_idx:baseline_stop_idx,:], (0,1))\n",
    "import sklearn\n",
    "scores, test_move, test_pred_move, beta_subspaces, test_label_idx = xval_task_rel_dims(betapower, np.swapaxes(cursor_traj_mov_on,0,1), labels=target_idx, regularization='ridge', nfolds=5, alpha=1, smooth_neural_data=False, tavg_neural_data=True, return_test_label_idx=True)"
   ]
  },
  {
   "cell_type": "code",
   "execution_count": null,
   "metadata": {
    "execution": {
     "iopub.status.busy": "2024-09-19T02:35:41.922912Z",
     "iopub.status.idle": "2024-09-19T02:35:41.923091Z",
     "shell.execute_reply": "2024-09-19T02:35:41.923007Z",
     "shell.execute_reply.started": "2024-09-19T02:35:41.922999Z"
    },
    "tags": []
   },
   "outputs": [],
   "source": [
    "trdx = np.mean(beta_subspaces[:,0,:], axis=1)\n",
    "trdy = np.mean(beta_subspaces[:,1,:], axis=1)\n",
    "# trd_all  = np.abs(trdx)+np.abs(trdy)\n",
    "trd_all  = np.sqrt(trdx**2+trdy**2)\n",
    "\n",
    "fig, ax = plt.subplots(1,3, figsize=(12,3))\n",
    "data_map = aopy.visualization.get_data_map(trd_all, elec_pos[:,0], elec_pos[:,1])\n",
    "im = aopy.visualization.plot_spatial_map(data_map, elec_pos[:,0], elec_pos[:,1], cmap='YlGnBu', ax=ax[0])\n",
    "# im.set_clim(-15, 10)\n",
    "cb = plt.colorbar(im)\n",
    "ax[0].set_title('Contribution to all')\n",
    "\n",
    "data_map = aopy.visualization.get_data_map(trdx, elec_pos[:,0], elec_pos[:,1])\n",
    "im = aopy.visualization.plot_spatial_map(data_map, elec_pos[:,0], elec_pos[:,1], cmap='YlGnBu', ax=ax[1])\n",
    "im.set_clim(-np.max(np.abs([trdx, trdy])), np.max(np.abs([trdx, trdy])))\n",
    "cb = plt.colorbar(im)\n",
    "ax[1].set_title('Contribution to X')\n",
    "\n",
    "data_map = aopy.visualization.get_data_map(trdy, elec_pos[:,0], elec_pos[:,1])\n",
    "im = aopy.visualization.plot_spatial_map(data_map, elec_pos[:,0], elec_pos[:,1], cmap='YlGnBu', ax=ax[2])\n",
    "im.set_clim(-np.max(np.abs([trdx, trdy])), np.max(np.abs([trdx, trdy])))\n",
    "cb = plt.colorbar(im)\n",
    "ax[2].set_title('Contribution to Y')\n",
    "\n",
    "plt.suptitle('Beta power')\n",
    "fig.tight_layout()\n",
    "plt.show()"
   ]
  },
  {
   "cell_type": "code",
   "execution_count": null,
   "metadata": {
    "execution": {
     "iopub.status.busy": "2024-09-19T02:35:41.923471Z",
     "iopub.status.idle": "2024-09-19T02:35:41.923636Z",
     "shell.execute_reply": "2024-09-19T02:35:41.923559Z",
     "shell.execute_reply.started": "2024-09-19T02:35:41.923551Z"
    },
    "tags": []
   },
   "outputs": [],
   "source": [
    "evoked_resp = np.mean(betapower,axis=(0,1)) - baseline_betapower\n",
    "fig, ax = plt.subplots(1,1, figsize=(4,3))\n",
    "data_map = aopy.visualization.get_data_map(evoked_resp/np.max(evoked_resp), elec_pos[:,0], elec_pos[:,1])\n",
    "im = aopy.visualization.plot_spatial_map(data_map, elec_pos[:,0], elec_pos[:,1], cmap='YlGnBu', ax=ax)\n",
    "# im.set_clim(, 10)\n",
    "cb = plt.colorbar(im)\n",
    "ax.set_title('Evoked response')\n",
    "\n",
    "fig.tight_layout()\n",
    "plt.show()"
   ]
  },
  {
   "cell_type": "code",
   "execution_count": null,
   "metadata": {
    "execution": {
     "iopub.status.busy": "2024-09-19T02:35:41.924108Z",
     "iopub.status.idle": "2024-09-19T02:35:41.924347Z",
     "shell.execute_reply": "2024-09-19T02:35:41.924262Z",
     "shell.execute_reply.started": "2024-09-19T02:35:41.924253Z"
    },
    "tags": []
   },
   "outputs": [],
   "source": [
    "loadings = sklearn.decomposition.PCA().fit(np.vstack(betapower)).components_\n",
    "\n",
    "npc = 5\n",
    "fig, ax = plt.subplots(1,npc, figsize=(4*npc,3))\n",
    "for ipc in range(npc):\n",
    "    data_map = aopy.visualization.get_data_map(loadings[ipc,:], elec_pos[:,0], elec_pos[:,1])\n",
    "    im = aopy.visualization.plot_spatial_map(data_map, elec_pos[:,0], elec_pos[:,1], cmap='YlGnBu', ax=ax[ipc])\n",
    "    # im.set_clim(, 10)\n",
    "    cb = plt.colorbar(im)\n",
    "    ax[ipc].set_title(f'PC: {ipc+1} Loadings')\n",
    "\n",
    "fig.tight_layout()\n",
    "plt.show()"
   ]
  },
  {
   "cell_type": "markdown",
   "metadata": {},
   "source": [
    "## Calculate maps for low-gamma power"
   ]
  },
  {
   "cell_type": "code",
   "execution_count": null,
   "metadata": {
    "execution": {
     "iopub.status.busy": "2024-09-19T02:35:41.925001Z",
     "iopub.status.idle": "2024-09-19T02:35:41.925170Z",
     "shell.execute_reply": "2024-09-19T02:35:41.925092Z",
     "shell.execute_reply.started": "2024-09-19T02:35:41.925083Z"
    },
    "tags": []
   },
   "outputs": [],
   "source": [
    "start_idx = np.where(t_spec>offset)[0][0]\n",
    "stop_idx = np.where(t_spec>(offset+time_after))[0][0]\n",
    "print(start_idx, stop_idx, t_spec[start_idx], t_spec[stop_idx])\n",
    "gammapower = np.swapaxes(spec_band[:,4,start_idx:stop_idx,:], 0,1)\n",
    "baseline_gammapower = np.mean(baseline_spec_band[:,4,baseline_start_idx:baseline_stop_idx,:], (0,1))\n",
    "import sklearn\n",
    "scores, test_move, test_pred_move, gamma_subspaces, test_label_idx = xval_task_rel_dims(gammapower, np.swapaxes(cursor_traj_mov_on,0,1), labels=target_idx, regularization=None, nfolds=5, alpha=1, smooth_neural_data=False, tavg_neural_data=True, return_test_label_idx=True)"
   ]
  },
  {
   "cell_type": "code",
   "execution_count": null,
   "metadata": {
    "execution": {
     "iopub.status.busy": "2024-09-19T02:35:41.926076Z",
     "iopub.status.idle": "2024-09-19T02:35:41.926245Z",
     "shell.execute_reply": "2024-09-19T02:35:41.926167Z",
     "shell.execute_reply.started": "2024-09-19T02:35:41.926159Z"
    },
    "tags": []
   },
   "outputs": [],
   "source": [
    "trdx = np.mean(gamma_subspaces[:,0,:], axis=1)\n",
    "trdy = np.mean(gamma_subspaces[:,1,:], axis=1)\n",
    "# trd_all  = np.abs(trdx)+np.abs(trdy)\n",
    "trd_all  = np.sqrt(trdx**2+trdy**2)\n",
    "\n",
    "fig, ax = plt.subplots(1,3, figsize=(12,3))\n",
    "data_map = aopy.visualization.get_data_map(trd_all, elec_pos[:,0], elec_pos[:,1])\n",
    "im = aopy.visualization.plot_spatial_map(data_map, elec_pos[:,0], elec_pos[:,1], cmap='YlGnBu', ax=ax[0])\n",
    "# im.set_clim(-15, 10)\n",
    "cb = plt.colorbar(im)\n",
    "ax[0].set_title('Contribution to all')\n",
    "\n",
    "data_map = aopy.visualization.get_data_map(trdx, elec_pos[:,0], elec_pos[:,1])\n",
    "im = aopy.visualization.plot_spatial_map(data_map, elec_pos[:,0], elec_pos[:,1], cmap='YlGnBu', ax=ax[1])\n",
    "im.set_clim(-np.max(np.abs([trdx, trdy])), np.max(np.abs([trdx, trdy])))\n",
    "cb = plt.colorbar(im)\n",
    "ax[1].set_title('Contribution to X')\n",
    "\n",
    "data_map = aopy.visualization.get_data_map(trdy, elec_pos[:,0], elec_pos[:,1])\n",
    "im = aopy.visualization.plot_spatial_map(data_map, elec_pos[:,0], elec_pos[:,1], cmap='YlGnBu', ax=ax[2])\n",
    "im.set_clim(-np.max(np.abs([trdx, trdy])), np.max(np.abs([trdx, trdy])))\n",
    "cb = plt.colorbar(im)\n",
    "ax[2].set_title('Contribution to Y')\n",
    "\n",
    "plt.suptitle('Gamma power')\n",
    "fig.tight_layout()\n",
    "plt.show()"
   ]
  },
  {
   "cell_type": "code",
   "execution_count": null,
   "metadata": {
    "execution": {
     "iopub.status.busy": "2024-09-19T02:35:41.926824Z",
     "iopub.status.idle": "2024-09-19T02:35:41.926987Z",
     "shell.execute_reply": "2024-09-19T02:35:41.926911Z",
     "shell.execute_reply.started": "2024-09-19T02:35:41.926903Z"
    },
    "tags": []
   },
   "outputs": [],
   "source": [
    "evoked_resp = np.mean(gammapower,axis=(0,1)) - baseline_gammapower\n",
    "fig, ax = plt.subplots(1,1, figsize=(4,3))\n",
    "data_map = aopy.visualization.get_data_map(evoked_resp/np.max(evoked_resp), elec_pos[:,0], elec_pos[:,1])\n",
    "im = aopy.visualization.plot_spatial_map(data_map, elec_pos[:,0], elec_pos[:,1], cmap='YlGnBu', ax=ax)\n",
    "# im.set_clim(, 10)\n",
    "cb = plt.colorbar(im)\n",
    "ax.set_title('Evoked response')\n",
    "\n",
    "fig.tight_layout()\n",
    "plt.show()"
   ]
  },
  {
   "cell_type": "code",
   "execution_count": null,
   "metadata": {
    "execution": {
     "iopub.status.busy": "2024-09-19T02:35:41.927928Z",
     "iopub.status.idle": "2024-09-19T02:35:41.928106Z",
     "shell.execute_reply": "2024-09-19T02:35:41.928028Z",
     "shell.execute_reply.started": "2024-09-19T02:35:41.928019Z"
    },
    "tags": []
   },
   "outputs": [],
   "source": [
    "loadings = sklearn.decomposition.PCA().fit(np.vstack(gammapower)).components_\n",
    "\n",
    "npc = 5\n",
    "fig, ax = plt.subplots(1,npc, figsize=(4*npc,3))\n",
    "for ipc in range(npc):\n",
    "    data_map = aopy.visualization.get_data_map(loadings[ipc,:], elec_pos[:,0], elec_pos[:,1])\n",
    "    im = aopy.visualization.plot_spatial_map(data_map, elec_pos[:,0], elec_pos[:,1], cmap='YlGnBu', ax=ax[ipc])\n",
    "    # im.set_clim(, 10)\n",
    "    cb = plt.colorbar(im)\n",
    "    ax[ipc].set_title(f'PC: {ipc+1} Loadings')\n",
    "\n",
    "fig.tight_layout()\n",
    "plt.show()"
   ]
  },
  {
   "cell_type": "markdown",
   "metadata": {},
   "source": [
    "## Calculate maps for high-gamma power"
   ]
  },
  {
   "cell_type": "code",
   "execution_count": 31,
   "metadata": {
    "execution": {
     "iopub.execute_input": "2024-09-19T02:42:23.771050Z",
     "iopub.status.busy": "2024-09-19T02:42:23.770623Z",
     "iopub.status.idle": "2024-09-19T02:42:23.843521Z",
     "shell.execute_reply": "2024-09-19T02:42:23.842511Z",
     "shell.execute_reply.started": "2024-09-19T02:42:23.771018Z"
    },
    "tags": []
   },
   "outputs": [
    {
     "name": "stdout",
     "output_type": "stream",
     "text": [
      "(21, 800, 238)\n",
      "(800, 400, 2)\n"
     ]
    }
   ],
   "source": [
    "hgpower = np.swapaxes(spec_band[:,5,start_idx:stop_idx+1,:], 0,1)\n",
    "# baseline_hgpower = np.mean(baseline_spec_band[:,5,baseline_start_idx:baseline_stop_idx,:], (0,1))\n",
    "baseline_hgpower = np.mean(spec_band[:,5,baseline_start_idx:baseline_stop_idx,:], (0,1))\n",
    "baseline_hgpower_std = np.std(spec_band[:,5,baseline_start_idx:baseline_stop_idx,:], (0,1))\n",
    "print(hgpower.shape)\n",
    "print(cursor_traj_mov_on.shape)\n",
    "# print(t_spec)"
   ]
  },
  {
   "cell_type": "code",
   "execution_count": 22,
   "metadata": {
    "execution": {
     "iopub.execute_input": "2024-09-19T02:39:07.814487Z",
     "iopub.status.busy": "2024-09-19T02:39:07.813560Z",
     "iopub.status.idle": "2024-09-19T02:39:07.827157Z",
     "shell.execute_reply": "2024-09-19T02:39:07.825696Z",
     "shell.execute_reply.started": "2024-09-19T02:39:07.814405Z"
    },
    "tags": []
   },
   "outputs": [
    {
     "name": "stdout",
     "output_type": "stream",
     "text": [
      "1 26 -0.99 -0.74\n",
      "(800, 25, 238)\n",
      "(21, 800, 238) (238,)\n"
     ]
    }
   ],
   "source": [
    "print(baseline_start_idx, baseline_stop_idx, t_spec[baseline_start_idx], t_spec[baseline_stop_idx])\n",
    "print(baseline_spec_band[:,5,baseline_start_idx:baseline_stop_idx,:].shape)\n",
    "print(hgpower.shape, baseline_hgpower.shape)"
   ]
  },
  {
   "cell_type": "code",
   "execution_count": 23,
   "metadata": {
    "execution": {
     "iopub.execute_input": "2024-09-19T02:39:08.090618Z",
     "iopub.status.busy": "2024-09-19T02:39:08.090158Z",
     "iopub.status.idle": "2024-09-19T02:39:08.517306Z",
     "shell.execute_reply": "2024-09-19T02:39:08.516475Z",
     "shell.execute_reply.started": "2024-09-19T02:39:08.090589Z"
    },
    "tags": []
   },
   "outputs": [],
   "source": [
    "import sklearn\n",
    "# scores, test_move, test_pred_move, hg_subspaces, test_label_idx = xval_task_rel_dims(hgpower[:,:798,:], np.swapaxes(cursor_traj_mov_on,0,1)[:,:798,:], labels=target_idx[:798], regularization=None, nfolds=4, alpha=.1, smooth_neural_data=False, tavg_neural_data=True, return_test_label_idx=True)\n",
    "scores, test_move, test_pred_move, hg_subspaces, test_label_idx = xval_task_rel_dims(hgpower, np.swapaxes(cursor_traj_mov_on,0,1), labels=target_idx, regularization=None, nfolds=4, alpha=.00000000005, smooth_neural_data=True, tavg_neural_data=True, return_test_label_idx=True)"
   ]
  },
  {
   "cell_type": "code",
   "execution_count": 24,
   "metadata": {
    "execution": {
     "iopub.execute_input": "2024-09-19T02:39:08.710441Z",
     "iopub.status.busy": "2024-09-19T02:39:08.709834Z",
     "iopub.status.idle": "2024-09-19T02:39:09.467029Z",
     "shell.execute_reply": "2024-09-19T02:39:09.465770Z",
     "shell.execute_reply.started": "2024-09-19T02:39:08.710389Z"
    },
    "tags": []
   },
   "outputs": [
    {
     "data": {
      "image/png": "[encoded data removed]",
      "text/plain": [
       "<Figure size 1200x300 with 6 Axes>"
      ]
     },
     "metadata": {},
     "output_type": "display_data"
    }
   ],
   "source": [
    "trdx = np.mean(hg_subspaces[:,0,:], axis=1)\n",
    "trdy = np.mean(hg_subspaces[:,1,:], axis=1)\n",
    "# trd_all  = np.abs(trdx)+np.abs(trdy)\n",
    "trd_all  = np.sqrt(trdx**2+trdy**2)\n",
    "# trd_all = np.abs(trdx - trdy)\n",
    "\n",
    "fig, ax = plt.subplots(1,3, figsize=(12,3))\n",
    "data_map, _ = aopy.visualization.calc_data_map(trd_all/np.max(trd_all), elec_pos[:,0], elec_pos[:,1], (16,16))\n",
    "im = aopy.visualization.plot_spatial_map(data_map, elec_pos[:,0], elec_pos[:,1], cmap='YlGnBu', ax=ax[0])\n",
    "# im.set_clim(, 10)\n",
    "cb = plt.colorbar(im)\n",
    "ax[0].set_title('Contribution to all')\n",
    "\n",
    "data_map, _ = aopy.visualization.calc_data_map(trdx, elec_pos[:,0], elec_pos[:,1], (16, 16))\n",
    "im = aopy.visualization.plot_spatial_map(data_map, elec_pos[:,0], elec_pos[:,1], cmap='YlGnBu', ax=ax[1])\n",
    "im.set_clim(-np.max(np.abs([trdx, trdy])), np.max(np.abs([trdx, trdy])))\n",
    "cb = plt.colorbar(im)\n",
    "ax[1].set_title('Contribution to X')\n",
    "\n",
    "data_map, _ = aopy.visualization.calc_data_map(trdy, elec_pos[:,0], elec_pos[:,1], (16,16))\n",
    "im = aopy.visualization.plot_spatial_map(data_map, elec_pos[:,0], elec_pos[:,1], cmap='YlGnBu', ax=ax[2])\n",
    "im.set_clim(-np.max(np.abs([trdx, trdy])), np.max(np.abs([trdx, trdy])))\n",
    "cb = plt.colorbar(im)\n",
    "ax[2].set_title('Contribution to Y')\n",
    "\n",
    "plt.suptitle('High Gamma Power')\n",
    "fig.tight_layout()\n",
    "plt.show()"
   ]
  },
  {
   "cell_type": "code",
   "execution_count": 32,
   "metadata": {
    "execution": {
     "iopub.execute_input": "2024-09-19T02:42:29.373996Z",
     "iopub.status.busy": "2024-09-19T02:42:29.373110Z",
     "iopub.status.idle": "2024-09-19T02:42:29.543317Z",
     "shell.execute_reply": "2024-09-19T02:42:29.542338Z",
     "shell.execute_reply.started": "2024-09-19T02:42:29.373939Z"
    },
    "tags": []
   },
   "outputs": [
    {
     "data": {
      "image/png": "[encoded data removed]",
      "text/plain": [
       "<Figure size 400x300 with 2 Axes>"
      ]
     },
     "metadata": {},
     "output_type": "display_data"
    }
   ],
   "source": [
    "# evoked_resp = np.abs(((np.mean(hgpower,axis=(0,1)) - baseline_hgpower))/baseline_hgpower_std)\n",
    "evoked_resp = np.abs(((np.mean(hgpower,axis=(0,1)) - baseline_hgpower)))\n",
    "# evoked_resp = np.abs(((np.mean(hgpower,axis=(0,1)))))\n",
    "fig, ax = plt.subplots(1,1, figsize=(4,3))\n",
    "data_map, _ = aopy.visualization.calc_data_map(evoked_resp/np.max(evoked_resp), elec_pos[:,0], elec_pos[:,1], (16,16))\n",
    "im = aopy.visualization.plot_spatial_map(data_map, elec_pos[:,0], elec_pos[:,1], cmap='YlGnBu', ax=ax)\n",
    "# im.set_clim(, 10)\n",
    "cb = plt.colorbar(im)\n",
    "ax.set_title('Evoked response')\n",
    "\n",
    "fig.tight_layout()\n",
    "plt.show()"
   ]
  },
  {
   "cell_type": "code",
   "execution_count": 26,
   "metadata": {
    "execution": {
     "iopub.execute_input": "2024-09-19T02:39:22.378294Z",
     "iopub.status.busy": "2024-09-19T02:39:22.377619Z",
     "iopub.status.idle": "2024-09-19T02:39:22.460152Z",
     "shell.execute_reply": "2024-09-19T02:39:22.458940Z",
     "shell.execute_reply.started": "2024-09-19T02:39:22.378237Z"
    },
    "tags": []
   },
   "outputs": [
    {
     "name": "stderr",
     "output_type": "stream",
     "text": [
      "/tmp/ipykernel_2442309/3821731388.py:4: UserWarning: Adding colorbar to a different Figure <Figure size 400x300 with 3 Axes> than <Figure size 400x300 with 0 Axes> which fig.colorbar is called on.\n",
      "  cb = plt.colorbar(im)\n"
     ]
    },
    {
     "data": {
      "text/plain": [
       "<Figure size 400x300 with 0 Axes>"
      ]
     },
     "metadata": {},
     "output_type": "display_data"
    }
   ],
   "source": [
    "\n",
    "data_map = aopy.visualization.get_data_map(evoked_resp/np.max(evoked_resp), elec_pos[:,0], elec_pos[:,1])\n",
    "im = aopy.visualization.plot_spatial_map(data_map, elec_pos[:,0], elec_pos[:,1], cmap='YlGnBu', ax=ax)\n",
    "# im.set_clim(0, .70)\n",
    "cb = plt.colorbar(im)\n",
    "ax.set_title('Evoked response')\n",
    "\n",
    "fig.tight_layout()\n",
    "plt.show()"
   ]
  },
  {
   "cell_type": "code",
   "execution_count": 27,
   "metadata": {
    "execution": {
     "iopub.execute_input": "2024-09-19T02:39:24.995357Z",
     "iopub.status.busy": "2024-09-19T02:39:24.994707Z",
     "iopub.status.idle": "2024-09-19T02:39:26.572306Z",
     "shell.execute_reply": "2024-09-19T02:39:26.571248Z",
     "shell.execute_reply.started": "2024-09-19T02:39:24.995302Z"
    },
    "tags": []
   },
   "outputs": [
    {
     "data": {
      "image/png": "[encoded data removed]",
      "text/plain": [
       "<Figure size 2000x300 with 10 Axes>"
      ]
     },
     "metadata": {},
     "output_type": "display_data"
    }
   ],
   "source": [
    "loadings = sklearn.decomposition.PCA().fit(np.vstack(hgpower)).components_\n",
    "npc = 5\n",
    "fig, ax = plt.subplots(1,npc, figsize=(4*npc,3))\n",
    "for ipc in range(npc):\n",
    "    data_map,_ = aopy.visualization.calc_data_map(np.abs(loadings[ipc,:]), elec_pos[:,0], elec_pos[:,1], (16,16))\n",
    "    im = aopy.visualization.plot_spatial_map(data_map, elec_pos[:,0], elec_pos[:,1], cmap='YlGnBu', ax=ax[ipc])\n",
    "    # im.set_clim(, 10)\n",
    "    cb = plt.colorbar(im)\n",
    "    ax[ipc].set_title(f'PC: {ipc+1} Loadings')\n",
    "\n",
    "fig.tight_layout()\n",
    "plt.show()"
   ]
  },
  {
   "cell_type": "code",
   "execution_count": null,
   "metadata": {
    "execution": {
     "iopub.status.busy": "2024-09-19T02:35:41.933099Z",
     "iopub.status.idle": "2024-09-19T02:35:41.933272Z",
     "shell.execute_reply": "2024-09-19T02:35:41.933194Z",
     "shell.execute_reply.started": "2024-09-19T02:35:41.933186Z"
    },
    "tags": []
   },
   "outputs": [],
   "source": [
    "x_pos_sorted_idx = np.argsort(elec_pos[:,0])\n",
    "y_pos_sorted_idx = np.argsort(elec_pos[:,1])\n",
    "fig, ax = plt.subplots(1,2,figsize=(15,10))\n",
    "for ich, ch in enumerate(x_pos_sorted_idx[:]):\n",
    "    \n",
    "    ax[0].plot(t_spec, 1e6*(np.mean(spec_band[:,5,:,:], axis=0)[:,ch]))\n",
    "    ax[0].set(xlabel='Time [s]')\n",
    "    ax[1].plot(t_spec, 1e6*(np.mean(spec_band[:,5,:,:], axis=0)[:,ch]-baseline_hgpower[ch]))    \n",
    "    # ax[0].set_yticks(np.arange(len(x_pos_sorted_idx), step=10), elec_pos[x_pos_sorted_idx,0][::10])"
   ]
  },
  {
   "cell_type": "code",
   "execution_count": null,
   "metadata": {
    "execution": {
     "iopub.status.busy": "2024-09-19T02:35:41.933652Z",
     "iopub.status.idle": "2024-09-19T02:35:41.933840Z",
     "shell.execute_reply": "2024-09-19T02:35:41.933743Z",
     "shell.execute_reply.started": "2024-09-19T02:35:41.933735Z"
    },
    "tags": []
   },
   "outputs": [],
   "source": [
    "x_pos_sorted_idx = np.argsort(elec_pos[:,0])\n",
    "y_pos_sorted_idx = np.argsort(elec_pos[:,1])\n",
    "fig, ax = plt.subplots(1,2,figsize=(15,10))\n",
    "for ich, ch in enumerate(x_pos_sorted_idx):\n",
    "    ax[0].plot(t_spec, 1e6*(np.mean(spec_band[:,5,:,:], axis=0)[:,ch]-baseline_hgpower[ch])+ich)\n",
    "    ax[0].set(xlabel='Time [s]', ylabel='Channel x-pos')\n",
    "    ax[0].set_yticks(np.arange(len(x_pos_sorted_idx), step=10), elec_pos[x_pos_sorted_idx,0][::10])\n",
    "for ich, ch in enumerate(y_pos_sorted_idx):   \n",
    "    ax[1].plot(t_spec, 1e6*(np.mean(spec_band[:,5,:,:], axis=0)[:,ch]-baseline_hgpower[ch])+ich)\n",
    "    ax[1].set(xlabel='Time [s]', ylabel='Channel y-pos')\n",
    "    ax[1].set_yticks(np.arange(len(y_pos_sorted_idx), step=10), elec_pos[y_pos_sorted_idx,1][::10])"
   ]
  },
  {
   "cell_type": "code",
   "execution_count": null,
   "metadata": {
    "execution": {
     "iopub.status.busy": "2024-09-19T02:35:41.934190Z",
     "iopub.status.idle": "2024-09-19T02:35:41.934361Z",
     "shell.execute_reply": "2024-09-19T02:35:41.934283Z",
     "shell.execute_reply.started": "2024-09-19T02:35:41.934275Z"
    },
    "tags": []
   },
   "outputs": [],
   "source": [
    "# zscored to baseline\n",
    "x_pos_sorted_idx = np.argsort(elec_pos[:,0])\n",
    "y_pos_sorted_idx = np.argsort(elec_pos[:,1])\n",
    "fig, ax = plt.subplots(1,2,figsize=(15,10))\n",
    "for ich, ch in enumerate(x_pos_sorted_idx):\n",
    "    ax[0].plot(t_spec, ((np.mean(spec_band[:,5,:,:], axis=0)[:,ch]-baseline_hgpower[ch])/baseline_hgpower_std[ch])+ich)\n",
    "    ax[0].set(xlabel='Time [s]', ylabel='Channel x-pos')\n",
    "    ax[0].set_yticks(np.arange(len(x_pos_sorted_idx), step=10), elec_pos[x_pos_sorted_idx,0][::10])\n",
    "for ich, ch in enumerate(y_pos_sorted_idx):   \n",
    "    ax[1].plot(t_spec, (np.mean(spec_band[:,5,:,:], axis=0)[:,ch]-baseline_hgpower[ch])/baseline_hgpower_std[ch]+ich)\n",
    "    ax[1].set(xlabel='Time [s]', ylabel='Channel y-pos')\n",
    "    ax[1].set_yticks(np.arange(len(y_pos_sorted_idx), step=10), elec_pos[y_pos_sorted_idx,1][::10])"
   ]
  },
  {
   "cell_type": "code",
   "execution_count": 30,
   "metadata": {
    "execution": {
     "iopub.execute_input": "2024-09-19T02:41:33.128752Z",
     "iopub.status.busy": "2024-09-19T02:41:33.127987Z",
     "iopub.status.idle": "2024-09-19T02:41:36.068133Z",
     "shell.execute_reply": "2024-09-19T02:41:36.067239Z",
     "shell.execute_reply.started": "2024-09-19T02:41:33.128695Z"
    },
    "tags": []
   },
   "outputs": [],
   "source": [
    "# Save\n",
    "band_idx=5\n",
    "# np.savez(f'/media/moor-data/results/Ryan/neuropixel_targeting/ecog_decoding_maps/{subject}_{flag}_LinRegAll_{band_name[band_idx]}', da=trd_all, elec_pos=elec_pos)\n",
    "np.savez(f'/media/moor-data/results/Ryan/neuropixel_targeting/ecog_decoding_maps/{subject}_{flag}_LinRegAll_{band_name[band_idx]}', da=evoked_resp, elec_pos=elec_pos)\n",
    "# np.savez(f'/media/moor-data/results/Ryan/neuropixel_targeting/ecog_decoding_maps/{subject}_{flag}_LinRegAll_{band_name[band_idx]}', da=np.abs(loadings[0,:]), elec_pos=elec_pos)\n",
    "np.savez(f'/media/moor-data/results/Ryan/neuropixel_targeting/ecog_decoding_maps/{subject}_{flag}_LinRegX_{band_name[band_idx]}', da=trdx, elec_pos=elec_pos)\n",
    "np.savez(f'/media/moor-data/results/Ryan/neuropixel_targeting/ecog_decoding_maps/{subject}_{flag}_LinRegY_{band_name[band_idx]}', da=trdy, elec_pos=elec_pos)"
   ]
  },
  {
   "cell_type": "code",
   "execution_count": null,
   "metadata": {
    "tags": []
   },
   "outputs": [],
   "source": []
  },
  {
   "cell_type": "markdown",
   "metadata": {},
   "source": [
    "## Calculate maps for spike-band power"
   ]
  },
  {
   "cell_type": "code",
   "execution_count": null,
   "metadata": {
    "execution": {
     "iopub.status.busy": "2024-09-19T02:35:41.935526Z",
     "iopub.status.idle": "2024-09-19T02:35:41.935691Z",
     "shell.execute_reply": "2024-09-19T02:35:41.935615Z",
     "shell.execute_reply.started": "2024-09-19T02:35:41.935607Z"
    },
    "tags": []
   },
   "outputs": [],
   "source": [
    "# offset = .25\n",
    "# start_idx = np.where(t_spec>offset)[0][0]\n",
    "# stop_idx = np.where(t_spec>(offset+time_after))[0][0]\n",
    "# print(start_idx, stop_idx, t_spec[start_idx], t_spec[stop_idx])\n",
    "# hgpower = np.swapaxes(spec_band[:,5,start_idx:stop_idx,:], 0,1)\n",
    "# print(hgpower.shape)"
   ]
  },
  {
   "cell_type": "code",
   "execution_count": null,
   "metadata": {},
   "outputs": [],
   "source": []
  },
  {
   "cell_type": "code",
   "execution_count": null,
   "metadata": {},
   "outputs": [],
   "source": []
  },
  {
   "cell_type": "code",
   "execution_count": null,
   "metadata": {},
   "outputs": [],
   "source": []
  },
  {
   "cell_type": "code",
   "execution_count": null,
   "metadata": {},
   "outputs": [],
   "source": []
  },
  {
   "cell_type": "code",
   "execution_count": null,
   "metadata": {},
   "outputs": [],
   "source": []
  },
  {
   "cell_type": "code",
   "execution_count": null,
   "metadata": {},
   "outputs": [],
   "source": []
  },
  {
   "cell_type": "code",
   "execution_count": null,
   "metadata": {},
   "outputs": [],
   "source": []
  },
  {
   "cell_type": "code",
   "execution_count": null,
   "metadata": {},
   "outputs": [],
   "source": []
  },
  {
   "cell_type": "code",
   "execution_count": null,
   "metadata": {},
   "outputs": [],
   "source": []
  }
 ],
 "metadata": {
  "kernelspec": {
   "display_name": "Python [conda env:np_targeting]",
   "language": "python",
   "name": "conda-env-np_targeting-py"
  },
  "language_info": {
   "codemirror_mode": {
    "name": "ipython",
    "version": 3
   },
   "file_extension": ".py",
   "mimetype": "text/x-python",
   "name": "python",
   "nbconvert_exporter": "python",
   "pygments_lexer": "ipython3",
   "version": "3.9.18"
  }
 },
 "nbformat": 4,
 "nbformat_minor": 4
}
