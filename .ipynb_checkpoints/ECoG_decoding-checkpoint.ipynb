{
 "cells": [
  {
   "cell_type": "code",
   "execution_count": 2,
   "metadata": {
    "execution": {
     "iopub.execute_input": "2024-02-04T04:48:26.395529Z",
     "iopub.status.busy": "2024-02-04T04:48:26.395134Z",
     "iopub.status.idle": "2024-02-04T04:48:29.810183Z",
     "shell.execute_reply": "2024-02-04T04:48:29.808308Z",
     "shell.execute_reply.started": "2024-02-04T04:48:26.395497Z"
    },
    "tags": []
   },
   "outputs": [],
   "source": [
    "import aopy\n",
    "import numpy as np\n",
    "from scipy import stats\n",
    "import matplotlib.pyplot as plt\n",
    "from db import dbfunctions as db\n",
    "from IPython.display import display, Markdown,HTML\n",
    "from sklearn.discriminant_analysis import LinearDiscriminantAnalysis\n",
    "from sklearn.model_selection import KFold\n",
    "from tqdm.notebook import tqdm\n",
    "from sklearn.metrics import accuracy_score\n",
    "\n",
    "plt.rcParams['font.size'] = 15\n",
    "plt.rcParams['lines.linewidth'] = 1\n",
    "plt.rcParams['lines.linestyle'] = '-'\n",
    "plt.rcParams[\"figure.figsize\"] = (4,3)\n",
    "plt.rcParams['legend.fontsize'] = 'medium'\n",
    "plt.rcParams['axes.titlesize'] = 'medium'\n",
    "colorlist = ['r','g','b','c','m','y']\n",
    "colors = plt.rcParams['axes.prop_cycle'].by_key()['color']\n",
    "\n",
    "# EVENT CODE\n",
    "CENTER_TARGET_ON = 16\n",
    "CURSOR_ENTER_CENTER_TARGET = 80\n",
    "CURSOR_ENTER_PERIPHERAL_TARGET = list(range(81,89))\n",
    "PERIPHERAL_TARGET_ON = list(range(17,25))\n",
    "CENTER_TARGET_OFF = 32\n",
    "REWARD = 48\n",
    "DELAY_PENALTY = 66\n",
    "TIMEOUT_PENALTY = 65\n",
    "HOLD_PENALTY = 64\n",
    "PAUSE = 254\n",
    "TIME_ZERO = 238\n",
    "TRIAL_END = 239\n",
    "END_TRIAL_CODE = TRIAL_END\n",
    "\n",
    "def get_preproc_kinematic_segment(proc_data, samplerate, event_code,event_timestamp, TRIAL_START, TRIAL_END, trial_filter):\n",
    "    trial_segments, trial_times = aopy.postproc.get_trial_segments(event_code,event_timestamp,TRIAL_START, TRIAL_END)\n",
    "    trajectories = np.array(aopy.postproc.get_data_segments(proc_data, trial_times, samplerate), dtype='object')\n",
    "    trial_segments = np.array(trial_segments, dtype='object')\n",
    "    trial_times = np.array(trial_times, dtype='object')\n",
    "    success_trials = [trial_filter(t) for t in trial_segments]\n",
    "    \n",
    "    return trajectories[success_trials],trial_segments[success_trials],trial_times[success_trials]\n",
    "\n",
    "def get_cursor_leave_center_time(data, times, samplerate, target_radius):\n",
    "    '''\n",
    "    Compute the time when the cursor leaves the center target radius\n",
    "    \n",
    "    Args:\n",
    "        traj (ntrials list of (nt,2)): x,y trajectory data\n",
    "        times (ntrials list of timestamps): The first and the last timestamp of each list must be trial start time and reward time\n",
    "        target_radius (float): the radius of the center target\n",
    "        \n",
    "    Returns:\n",
    "        cursor_leave_center_time (ntrials list): the time when the cursor leaves the center target radius\n",
    "    '''\n",
    "    ntr = len(data)\n",
    "    cursor_leave_center_time = []\n",
    "    \n",
    "    for itr in range(ntr):\n",
    "        t_axis = np.arange(data[itr].shape[0])/samplerate\n",
    "        \n",
    "        dist = np.sqrt(data[itr][:,0]**2 + data[itr][:,1]**2)\n",
    "        leave_idx = np.where(dist>target_radius)[0]\n",
    "        temp = t_axis[leave_idx]\n",
    "        cursor_leave_center_time.append(temp[0])\n",
    "    \n",
    "    return cursor_leave_center_time\n",
    "\n",
    "def get_main_saccade(onset_target, offset_target, onset_event, offset_event, target_idx):\n",
    "    '''\n",
    "    Finds a main saccade to look at the peripheral target from the center target in a given trial\n",
    "    \n",
    "    Args:\n",
    "        onset_target\n",
    "        offset_target\n",
    "        onset_event\n",
    "        offset_event\n",
    "        target_idx\n",
    "        \n",
    "    Returns:\n",
    "        saccade_targ\n",
    "    '''\n",
    "    saccade_index = np.vstack([onset_target,offset_target])\n",
    "    saccade_event = np.vstack([onset_event,offset_event])\n",
    "\n",
    "    nsaccade = onset_target.shape[0]\n",
    "    \n",
    "    saccade_for_target = np.array([0, int(target_idx)]) # The saccade for the peripheral target\n",
    "    event_for_gocue = np.array([32,32])\n",
    "\n",
    "    saccade_for_target_idx = -1\n",
    "    for isaccade in range(nsaccade):\n",
    "        sac_idx = saccade_index[:,isaccade]\n",
    "        sac_event = saccade_event[:,isaccade]\n",
    "\n",
    "        # find a saccade for the peripheral target after gocue\n",
    "        #if np.all(sac_idx == saccade_for_target) & np.all(sac_event == event_for_gocue):#& (sum(onset_event == 32) ==1):\n",
    "        if np.all(offset_target[isaccade] == int(target_idx)):# & np.all(offset_event[isaccade] == 32):\n",
    "            saccade_for_target_idx = isaccade\n",
    "    \n",
    "    return saccade_for_target_idx\n",
    "\n",
    "def detect_movement_onset(cursor_traj, fs, trial_start, target_onset, gocue, numsd=3.0):\n",
    "    '''\n",
    "    Compute movement (s) onset when cursor speed crosses threshold based on mean and standard deviation in baseline period.\n",
    "    Baseline is defined as the period between target onset and gocue because speed still exists soon after the cursor enters the center target.\n",
    "    \n",
    "    args:\n",
    "        cursor_traj (ntr) : cursor trajectory\n",
    "        fs (float) : sampling rate in Hz\n",
    "        trial_start (ntr) : trial start time in sec\n",
    "        target_onset (ntr) : target onset in sec\n",
    "        gocue (ntr) : gocue (the time when the center target disappears) in time\n",
    "        \n",
    "    returns:\n",
    "        movement_onset (ntr)\n",
    "    '''\n",
    "    \n",
    "    target_from_start = target_onset - trial_start\n",
    "    gocue_from_start = gocue - trial_start\n",
    "    dt = 1/fs\n",
    "    \n",
    "    movement_onset = []\n",
    "    for itr in range(cursor_traj.shape[0]):\n",
    "        # compute speed\n",
    "        dist = np.linalg.norm(cursor_traj[itr],axis=1)\n",
    "        speed = np.gradient(dist, dt) # in (cm/s)\n",
    "        \n",
    "        # compute threshold based on mean and std in baseline\n",
    "        t_cursor = np.arange(dist.shape[0])*dt\n",
    "        baseline_idx = (t_cursor<gocue_from_start[itr]) & (t_cursor>target_from_start[itr])\n",
    "        baseline_speed = np.mean(speed[baseline_idx])\n",
    "        baseline_std = np.std(speed[baseline_idx],ddof=1)\n",
    "        thr = baseline_speed + numsd*baseline_std\n",
    "        \n",
    "        # get movement onset\n",
    "        movement_onset.append(t_cursor[np.where((speed>thr)&(t_cursor>target_from_start[itr]))[0][0]])\n",
    "        \n",
    "    return np.array(movement_onset)\n",
    "\n",
    "\n",
    "def get_minimum_trials_per_target(target_idx, cond_mask):\n",
    "    \n",
    "    # Get the minimum number of trials per target after restricting trials\n",
    "    num_trial_targ = []\n",
    "    for itarget in np.unique(target_idx):\n",
    "        num_trial_targ.append(sum(target_idx[cond_mask] == itarget))\n",
    "    min_trial = min(num_trial_targ)\n",
    "    \n",
    "    return min_trial\n",
    "\n",
    "def get_conditioned_trials_per_target(target_idx, cond_mask, min_trial, replacement=False, seed=None):\n",
    "    '''\n",
    "    Get trial index to choose the same number of trials per target in removing trials by a certain condition\n",
    "    \n",
    "    Args:\n",
    "        target_index (ntr: int): target index\n",
    "        cond_mask (ntr: bool): condition to remove trials\n",
    "        replacement (bool): whether to allow replacement in choosing trials. This can be used for bootstrapping.\n",
    "        \n",
    "    Returns:\n",
    "        trial_index (ntrial: bool): trial index to extract the same number of conditioned trials for each target\n",
    "        \n",
    "    '''\n",
    "    if seed:\n",
    "        np.random.seed(seed)\n",
    "        \n",
    "    # Get trial index to get the same number of trials per target\n",
    "    tmp = []\n",
    "    for itarget in np.unique(target_idx):\n",
    "        trial_mask_targ = np.where(cond_mask * (target_idx == itarget))[0] # get conditioned trial index for each target\n",
    "\n",
    "        if trial_mask_targ.size:\n",
    "            tmp = np.concatenate([tmp, np.random.choice(trial_mask_targ, min_trial, replace=replacement)])\n",
    "\n",
    "    trial_mask = np.array([int(a) for a in tmp]) # convert float to int\n",
    "    trial_mask = np.random.permutation(trial_mask) # because trial mask is well organized in the order of target number\n",
    "    \n",
    "    return trial_mask\n",
    "\n",
    "def classify_targ_lda2(band_data, cond_label, n_splits=10):\n",
    "    kf = KFold(n_splits=n_splits)\n",
    "    lda = LinearDiscriminantAnalysis(shrinkage='auto', solver='eigen')\n",
    "       \n",
    "    # LDA at each single electrode\n",
    "    ntr,nband,nch = band_data.shape\n",
    "    pred_Y_ch = []\n",
    "    true_Y_ch = []\n",
    "    for ich in range(nch):\n",
    "        X = band_data[:,:,ich].reshape(ntr,-1)\n",
    "        Y = cond_label\n",
    "        if ich == 0:\n",
    "            weights = np.zeros((n_splits, nch, nband))\n",
    "            \n",
    "        pred_Y = []\n",
    "        true_Y = []\n",
    "        for ifold, (train_idx, test_idx) in enumerate(kf.split(X)):\n",
    "            Xtrain,Xtest = X[train_idx,:],X[test_idx,:]\n",
    "            Ytrain,Ytest = Y[train_idx],Y[test_idx]\n",
    "            \n",
    "            lda.fit( Xtrain - np.mean(Xtrain,axis=0), Ytrain)\n",
    "            reshaped_weights = lda.coef_.reshape(-1,nband)\n",
    "            weights[ifold, ich, :] = np.sum(np.abs(reshaped_weights),axis=0)\n",
    "\n",
    "            pred_Y.append(lda.predict( Xtest - np.mean(Xtrain,axis=0)))\n",
    "            true_Y.append(Ytest)\n",
    "        pred_Y_ch.append(pred_Y)\n",
    "        true_Y_ch.append(true_Y)\n",
    "    return pred_Y_ch, true_Y_ch, weights"
   ]
  },
  {
   "cell_type": "code",
   "execution_count": 167,
   "metadata": {
    "execution": {
     "iopub.execute_input": "2024-02-04T05:43:30.575671Z",
     "iopub.status.busy": "2024-02-04T05:43:30.575037Z",
     "iopub.status.idle": "2024-02-04T05:43:30.620721Z",
     "shell.execute_reply": "2024-02-04T05:43:30.618857Z",
     "shell.execute_reply.started": "2024-02-04T05:43:30.575619Z"
    },
    "tags": []
   },
   "outputs": [
    {
     "name": "stdout",
     "output_type": "stream",
     "text": [
      "[2022-06-28 09:47:31.941381: beignet on manual control task, id=5927]\n",
      "1\n"
     ]
    }
   ],
   "source": [
    "data_dir = '/data/raw'\n",
    "preproc_dir = '/data/preprocessed'\n",
    "\n",
    "subject = 'beignet'\n",
    "time_before = 0\n",
    "time_after = 0.45\n",
    "filter_window_offset = 0.1 #[s]\n",
    "success_rate_window = 25\n",
    "flag = 'cursor_leave'\n",
    "# flag = 'acquire'\n",
    "\n",
    "if subject == 'beignet':\n",
    "    ex_date_list = [(2022,6,28)]\n",
    "    num_sd_mv = 5.0\n",
    "    num_sd = 2.5 # for saccade detection\n",
    "else:\n",
    "    #ex_date_list = [(2023,7,24)]\n",
    "    ex_date_list = [(2023,7,26)]\n",
    "    #ex_date_list = [(2023,7,25),(2023,7,26),(2023,7,27),(2023,7,28),(2023,7,29),(2023,7,30),(2023,7,31),(2023,8,1),(2023,8,2),(2023,8,3)]\n",
    "    num_sd_mv = 3.0\n",
    "    num_sd = 1.6 # for saccade detection\n",
    "    \n",
    "downsamplerate = 1000 # for saccade detection\n",
    "\n",
    "sac_radius = 3.0\n",
    "min_intersaccade = 0.02 # for saccade detection\n",
    "\n",
    "data_list = []\n",
    "for date in ex_date_list:\n",
    "    entries = db.get_task_entries(subject__name=subject, date=date, task__name='manual control')\n",
    "    for entry in entries:\n",
    "        params = entry.task_params\n",
    "        if ('record_headstage' in params)*('rand_delay' in params):\n",
    "            data_list.append(entry)\n",
    "\n",
    "print(data_list)\n",
    "print(len(data_list))\n",
    "#rand_delay = [data.task_params['rand_delay'] for data in data_list1[1:]]\n",
    "#print(f'Random delay is {rand_delay}')"
   ]
  },
  {
   "cell_type": "markdown",
   "metadata": {},
   "source": [
    "# Load data"
   ]
  },
  {
   "cell_type": "code",
   "execution_count": 168,
   "metadata": {
    "execution": {
     "iopub.execute_input": "2024-02-04T05:43:40.619894Z",
     "iopub.status.busy": "2024-02-04T05:43:40.619297Z",
     "iopub.status.idle": "2024-02-04T05:43:59.662958Z",
     "shell.execute_reply": "2024-02-04T05:43:59.662036Z",
     "shell.execute_reply.started": "2024-02-04T05:43:40.619844Z"
    },
    "tags": []
   },
   "outputs": [
    {
     "name": "stderr",
     "output_type": "stream",
     "text": [
      "/home/aolab/projects/Neuropixel_targeting/analyze/aopy/data/base.py:609: FutureWarning: Calling float on a single element Series is deprecated and will raise a TypeError in the future. Use float(ser.iloc[0]) instead\n",
      "  acq_ch_position[ielec,0] = eleclayout_table[xpos_name][eleclayout_table['electrode']==elecid]\n",
      "/home/aolab/projects/Neuropixel_targeting/analyze/aopy/data/base.py:610: FutureWarning: Calling float on a single element Series is deprecated and will raise a TypeError in the future. Use float(ser.iloc[0]) instead\n",
      "  acq_ch_position[ielec,1] = eleclayout_table[ypos_name][eleclayout_table['electrode']==elecid]\n"
     ]
    },
    {
     "name": "stdout",
     "output_type": "stream",
     "text": [
      "0\n",
      "Bad channels : [ 59 228]\n",
      "The number of bad channels : 2\n",
      "0.97625\n"
     ]
    },
    {
     "data": {
      "image/png": "[encoded data removed]",
      "text/plain": [
       "<Figure size 1100x400 with 2 Axes>"
      ]
     },
     "metadata": {},
     "output_type": "display_data"
    }
   ],
   "source": [
    "trial_filter = lambda t: REWARD in t\n",
    "elec_pos, acq_ch, elecs = aopy.data.load_chmap(drive_type='ECoG244')\n",
    "\n",
    "for idx, entry in enumerate(data_list):\n",
    "    print(idx)\n",
    "    exp_id = entry.id\n",
    "    exp_date = entry.date.date()\n",
    "    \n",
    "    # Load data\n",
    "    data, metadata = aopy.data.load_preproc_exp_data(preproc_dir, subject, exp_id, exp_date)\n",
    "    lfp_data, lfp_metadata =  aopy.data.load_preproc_lfp_data(preproc_dir, subject, exp_id, exp_date)\n",
    "    cursor_traj_tmp, tsegs_tmp = aopy.data.get_kinematic_segments(preproc_dir, subject, exp_id, exp_date, CURSOR_ENTER_CENTER_TARGET, TRIAL_END, trial_filter=trial_filter)\n",
    "    eye_traj_tmp, tsegs_tmp = aopy.data.get_kinematic_segments(preproc_dir, subject, exp_id, exp_date, CURSOR_ENTER_CENTER_TARGET, REWARD, trial_filter=trial_filter, datatype='eye')\n",
    "    cursor_traj_show_tmp, _ = aopy.data.get_kinematic_segments(preproc_dir, subject, exp_id, exp_date, CENTER_TARGET_OFF,REWARD, trial_filter=trial_filter)\n",
    "    eye_traj_show_tmp, _ = aopy.data.get_kinematic_segments(preproc_dir,subject,exp_id,exp_date,CENTER_TARGET_OFF,REWARD,trial_filter=trial_filter,datatype='eye')\n",
    "\n",
    "    _, times_tmp = aopy.preproc.base.get_trial_segments_and_times(data['events']['code'], data['events']['timestamp'],CURSOR_ENTER_CENTER_TARGET, REWARD)\n",
    "    success_percent_tmp = aopy.analysis.calc_success_percent(data['events']['code'], CURSOR_ENTER_CENTER_TARGET, END_TRIAL_CODE, REWARD, window_size=success_rate_window)\n",
    "    eye_data, eye_metadata = aopy.data.load_preproc_eye_data(preproc_dir, subject, exp_id, exp_date)\n",
    "    target_idx_tmp = []\n",
    "    target_idx_tmp = np.concatenate((target_idx_tmp, np.array([t[1] for t in tsegs_tmp])-CENTER_TARGET_ON))\n",
    "\n",
    "    target_pos = aopy.data.get_target_locations(preproc_dir, subject, exp_id, exp_date, [0,1,2,3,4,5,6,7,8])\n",
    "    \n",
    "    # Collect metadata\n",
    "    volt_bit = lfp_metadata['voltsperbit']\n",
    "    FS_cursor = metadata['cursor_interp_samplerate']\n",
    "    FS_hand = metadata['analog_samplerate']\n",
    "    FS_eye = eye_metadata['samplerate']\n",
    "    FS = lfp_metadata['lfp_samplerate']\n",
    "    target_radius = metadata['target_radius']\n",
    "\n",
    "    # bad channel detection\n",
    "    lfp_data = lfp_data[:,acq_ch-1]*volt_bit\n",
    "    if idx == 0:\n",
    "        numsd_badch = 5\n",
    "        bad_ch = aopy.preproc.quality.detect_bad_ch_outliers(lfp_data[:60*FS,:], nbins=10000, thr=0.05, numsd=numsd_badch, debug=True, verbose=True)\n",
    "        good_ch =~bad_ch\n",
    "\n",
    "    # FIR filter\n",
    "    # order = 20000\n",
    "    # Wn = [0.1,200]\n",
    "    # fnq = FS/2\n",
    "    # print('filtering...')\n",
    "    # b = signal.firwin(order, Wn, nyq=fnq, pass_zero=False, window='hamming')\n",
    "    # lfp_filter = signal.filtfilt(b, 1, lfp_data, axis=0)\n",
    "    # np.save(f'/data/postprocessed/tomo/lfp_filter_{subject}_{exp_date}',lfp_filter)\n",
    "    lfp_filter_tmp = np.load(f'/data/postprocessed/tomo/lfp_filter_{subject}_{exp_date}.npy')\n",
    "\n",
    "    # Get task-related times\n",
    "    ntr = len(cursor_traj_tmp)\n",
    "    trial_start_tmp = np.array([t[0] for t in times_tmp])\n",
    "    target_onset_tmp = np.array([t[1] for t in times_tmp])\n",
    "    gocue_time_tmp = np.array([t[2] for t in times_tmp])\n",
    "    acquire_time_tmp = np.array([t[3] for t in times_tmp])\n",
    "    reward_time_tmp = np.array([t[4] for t in times_tmp])\n",
    "    cursor_leave_from_trial_start = get_cursor_leave_center_time(cursor_traj_tmp, times_tmp, FS_cursor, target_radius)\n",
    "    cursor_leave_time_tmp = np.array([cursor_leave_from_trial_start[itr] + times_tmp[itr][0]+filter_window_offset for itr in range(ntr)])\n",
    "    \n",
    "    movement_onset_tmp = detect_movement_onset(cursor_traj_tmp, FS_cursor, trial_start_tmp, target_onset_tmp, gocue_time_tmp,numsd=num_sd_mv)\n",
    "    movement_onset_tmp = movement_onset_tmp + trial_start_tmp\n",
    "\n",
    "    # Calc saccade onset\n",
    "    saccades_onset_tmp,saccade_onset_tmp,duration_tmp,main_saccade_idx_tmp = [],[],[],[]\n",
    "    for itr in range(len(eye_traj_tmp)):\n",
    "        ave_eye_traj = np.stack([(eye_traj_tmp[itr][:,0]+eye_traj_tmp[itr][:,2])/2, (eye_traj_tmp[itr][:,1]+eye_traj_tmp[itr][:,3])/2]).T\n",
    "        eye_data_filt = aopy.precondition.filter_eye(ave_eye_traj, FS_eye, downsamplerate=downsamplerate)\n",
    "        \n",
    "        # Compute threshold for saccade detection\n",
    "        if (itr == 0) & (idx == 0):\n",
    "            eye_accel = aopy.precondition.convert_pos_to_accel(eye_data_filt, downsamplerate)\n",
    "            baseline_mean = np.mean(eye_accel)\n",
    "            baseline_std = np.std(eye_accel)\n",
    "            thr = np.mean(baseline_mean) + num_sd*baseline_std\n",
    "            thr = (thr, -thr)\n",
    "        \n",
    "        #onset, duration1, distance1 = aopy.precondition.detect_saccades(eye_data_filt, downsamplerate, thr=thr, num_sd=num_sd)\n",
    "        onset, duration1, distance1 = aopy.precondition.detect_saccades(eye_data_filt, downsamplerate, num_sd=num_sd)\n",
    "        \n",
    "        onset_pos, offset_pos = aopy.postproc.get_saccade_pos(ave_eye_traj, np.array(onset), np.array(duration1), downsamplerate)\n",
    "        onset_target, offset_target = aopy.postproc.get_saccade_target_index(onset_pos, offset_pos, target_pos[:,:2], sac_radius)\n",
    "        onset_event, offset_event = aopy.postproc.get_saccade_event(np.array(onset), np.array(duration1), times_tmp[itr]-times_tmp[itr][0], tsegs_tmp[itr])\n",
    "        saccade_idx = get_main_saccade(onset_target, offset_target, onset_event, offset_event, target_idx_tmp[itr])\n",
    "        \n",
    "        onset += times_tmp[itr][0]\n",
    "        duration_tmp.append(duration1)\n",
    "        saccades_onset_tmp.append(onset)\n",
    "        saccade_onset_tmp.append(onset[saccade_idx])\n",
    "        main_saccade_idx_tmp.append(saccade_idx)\n",
    "        \n",
    "    saccade_onset_tmp = np.array(saccade_onset_tmp)\n",
    "    saccades_onset_tmp = np.array(saccades_onset_tmp, dtype=object)\n",
    "    duration_tmp = np.array(duration_tmp, dtype=object)\n",
    "    main_saccade_idx_tmp = np.array(main_saccade_idx_tmp)\n",
    "    \n",
    "    # Calc trial_align_data\n",
    "    if flag == 'gocue':\n",
    "        trial_align_data_tmp = aopy.preproc.trial_align_data(lfp_filter_tmp, gocue_time_tmp, time_before, time_after, FS)\n",
    "        flag_name = 'gocue'\n",
    "    elif flag == 'saccade':\n",
    "        trial_align_data_tmp = aopy.preproc.trial_align_data(lfp_filter_tmp, saccade_onset_tmp, time_before, time_after, FS)\n",
    "        flag_name = 'saccade onset'\n",
    "    elif flag == 'target':\n",
    "        trial_align_data_tmp = aopy.preproc.trial_align_data(lfp_filter_tmp, target_onset_tmp, time_before, time_after, FS)\n",
    "        flag_name = 'target onset'\n",
    "    elif flag == 'acquire':\n",
    "        trial_align_data_tmp = aopy.preproc.trial_align_data(lfp_filter_tmp, acquire_time_tmp, time_before, time_after, FS)\n",
    "        flag_name = 'acquire'\n",
    "    elif flag == 'cursor_leave':\n",
    "        trial_align_data_tmp = aopy.preproc.trial_align_data(lfp_filter_tmp, cursor_leave_time_tmp, time_before, time_after, FS)\n",
    "        flag_name = 'cursor_leave'\n",
    "    elif flag == 'movement':\n",
    "        trial_align_data_tmp = aopy.preproc.trial_align_data(lfp_filter_tmp, movement_onset_tmp, time_before, time_after, FS)\n",
    "        flag_name = 'movement'\n",
    "    else:\n",
    "        print('Use different flag name')\n",
    "    trial_align_data_tmp = trial_align_data_tmp.transpose(2,0,1)\n",
    "    \n",
    "    # Concatenate trials across days\n",
    "    if idx == 0:\n",
    "        trial_align_data = trial_align_data_tmp\n",
    "        trial_start = trial_start_tmp\n",
    "        target_onset = target_onset_tmp\n",
    "        gocue_time = gocue_time_tmp\n",
    "        reward_time = reward_time_tmp\n",
    "        movement_onset = movement_onset_tmp\n",
    "        saccade_onset = saccade_onset_tmp\n",
    "        acquire_time = acquire_time_tmp\n",
    "        cursor_leave_time = cursor_leave_time_tmp\n",
    "        success_percent = success_percent_tmp\n",
    "        target_idx = target_idx_tmp\n",
    "        cursor_traj = cursor_traj_tmp\n",
    "        cursor_traj_show = cursor_traj_show_tmp\n",
    "        eye_traj = eye_traj_tmp\n",
    "        eye_traj_show = eye_traj_show_tmp\n",
    "        saccades_onset = saccades_onset_tmp\n",
    "        duration = duration_tmp\n",
    "        times = times_tmp\n",
    "        tsegs = tsegs_tmp\n",
    "        main_saccade_idx = main_saccade_idx_tmp\n",
    "        lfp_filter = lfp_filter_tmp\n",
    "\n",
    "    else:\n",
    "        trial_align_data = np.concatenate([trial_align_data, trial_align_data_tmp], axis=0)\n",
    "        lfp_filter = np.concatenate([lfp_filter, lfp_filter_tmp],axis=0)\n",
    "        trial_start = np.concatenate([trial_start, trial_start_tmp])\n",
    "        target_onset = np.concatenate([target_onset, target_onset_tmp])\n",
    "        gocue_time = np.concatenate([gocue_time, gocue_time_tmp])\n",
    "        reward_time = np.concatenate([reward_time, reward_time_tmp])\n",
    "        movement_onset = np.concatenate([movement_onset, movement_onset_tmp])\n",
    "        saccade_onset = np.concatenate([saccade_onset, saccade_onset_tmp])\n",
    "        saccades_onset = np.concatenate([saccades_onset, saccades_onset_tmp])\n",
    "        duration = np.concatenate([duration, duration_tmp])\n",
    "        acquire_time = np.concatenate([acquire_time, acquire_time_tmp])\n",
    "        cursor_leave_time = np.concatenate([cursor_leave_time, cursor_leave_time_tmp])\n",
    "        success_percent = np.concatenate([success_percent, success_percent_tmp])\n",
    "        target_idx = np.concatenate([target_idx, target_idx_tmp])\n",
    "        cursor_traj = np.concatenate([cursor_traj, cursor_traj_tmp])\n",
    "        cursor_traj_show = np.concatenate([cursor_traj_show, cursor_traj_show_tmp])\n",
    "        eye_traj = np.concatenate([eye_traj, eye_traj_tmp])\n",
    "        eye_traj_show = np.concatenate([eye_traj_show, eye_traj_show_tmp])\n",
    "        times = np.concatenate([times, times_tmp])\n",
    "        tsegs = np.concatenate([tsegs, tsegs_tmp])\n",
    "        main_saccade_idx = np.concatenate([main_saccade_idx, main_saccade_idx_tmp])\n",
    "        \n",
    "trial_align_data = trial_align_data[:,:,good_ch]\n",
    "elec_pos = elec_pos[good_ch]\n",
    "acq_ch = acq_ch[good_ch]\n",
    "ntr,nt,nch = trial_align_data.shape\n",
    "\n",
    "normal_saccade_trial = main_saccade_idx != -1\n",
    "print(normal_saccade_trial.sum()/normal_saccade_trial.shape[0])"
   ]
  },
  {
   "cell_type": "code",
   "execution_count": 169,
   "metadata": {
    "execution": {
     "iopub.execute_input": "2024-02-04T05:43:59.664323Z",
     "iopub.status.busy": "2024-02-04T05:43:59.664157Z",
     "iopub.status.idle": "2024-02-04T05:44:01.388663Z",
     "shell.execute_reply": "2024-02-04T05:44:01.387754Z",
     "shell.execute_reply.started": "2024-02-04T05:43:59.664309Z"
    },
    "tags": []
   },
   "outputs": [
    {
     "name": "stdout",
     "output_type": "stream",
     "text": [
      "beignet_cursor_leave_0.5_4_2022-06-28_fir-filt.npz\n"
     ]
    }
   ],
   "source": [
    "# load spectral power data\n",
    "target_list = [1,2,3,4,5,6,7,8]\n",
    "ntarget = len(target_list)\n",
    "\n",
    "bands = [(0.1,4),(4,8),(8,14),(14,30),(30,80),(80,150)]\n",
    "nband = len(bands)\n",
    "band_name = ['delta','theta','alpha','beta','gamma','hgamma']\n",
    "NW = 0.5\n",
    "BW = 4 # the number of taper is (2*nw*bw-1)\n",
    "t_axis = np.linspace(-time_before,time_after,nt)\n",
    "\n",
    "# flag = 'acquire'\n",
    "NW = 0.5\n",
    "BW = 4\n",
    "loaded_data = np.load(f'/data/postprocessed/tomo/{subject}_{flag}_{NW}_{BW}_{str(exp_date)}_fir-filt.npz')\n",
    "f_spec = loaded_data['f_spec']\n",
    "t_spec = loaded_data['t_spec']\n",
    "spec_band = loaded_data['spec_band']\n",
    "print(f'{subject}_{flag}_{NW}_{BW}_{str(exp_date)}_fir-filt.npz')"
   ]
  },
  {
   "cell_type": "code",
   "execution_count": 7,
   "metadata": {
    "execution": {
     "iopub.execute_input": "2024-02-04T04:48:54.429875Z",
     "iopub.status.busy": "2024-02-04T04:48:54.429750Z",
     "iopub.status.idle": "2024-02-04T04:48:55.207944Z",
     "shell.execute_reply": "2024-02-04T04:48:55.207170Z",
     "shell.execute_reply.started": "2024-02-04T04:48:54.429864Z"
    },
    "tags": []
   },
   "outputs": [],
   "source": [
    "# Compute relevant saccade and reasonable movement onset trials\n",
    "target_idx = np.array([t[1]-CENTER_TARGET_ON for t in tsegs])\n",
    "\n",
    "saccades_onset,saccade_onset,duration,main_saccade_idx = [],[],[],[]\n",
    "for itr in range(len(eye_traj)):\n",
    "    ave_eye_traj = np.stack([(eye_traj[itr][:,0]+eye_traj[itr][:,2])/2, (eye_traj[itr][:,1]+eye_traj[itr][:,3])/2]).T\n",
    "    eye_data_filt = aopy.precondition.filter_eye(ave_eye_traj, FS_eye, downsamplerate=downsamplerate)\n",
    "\n",
    "    onset, duration1, distance1 = aopy.precondition.detect_saccades(eye_data_filt, downsamplerate, num_sd=num_sd)\n",
    "\n",
    "    onset_pos, offset_pos = aopy.postproc.get_saccade_pos(ave_eye_traj, np.array(onset), np.array(duration1), downsamplerate)\n",
    "    onset_target, offset_target = aopy.postproc.get_saccade_target_index(onset_pos, offset_pos, target_pos[:,:2], sac_radius)\n",
    "    onset_event, offset_event = aopy.postproc.get_saccade_event(np.array(onset), np.array(duration1), times[itr]-times[itr][0], tsegs[itr])\n",
    "    saccade_idx = get_main_saccade(onset_target, offset_target, onset_event, offset_event, target_idx[itr])\n",
    "\n",
    "    onset += times[itr][0]\n",
    "    duration.append(duration1)\n",
    "    saccades_onset.append(onset)\n",
    "    saccade_onset.append(onset[saccade_idx])\n",
    "    main_saccade_idx.append(saccade_idx)\n",
    "\n",
    "saccade_onset = np.array(saccade_onset)\n",
    "saccades_onset = np.array(saccades_onset, dtype=object)\n",
    "duration = np.array(duration, dtype=object)\n",
    "main_saccade_idx = np.array(main_saccade_idx)\n",
    "\n",
    "# get trials with relevant saccades\n",
    "normal_saccade_trial = main_saccade_idx != -1\n",
    "\n",
    "# get trials with reasonable movement onset\n",
    "movement_onset_go = movement_onset - gocue_time\n",
    "normal_onset_time = movement_onset_go > 0.15"
   ]
  },
  {
   "cell_type": "markdown",
   "metadata": {},
   "source": [
    "# Discrete (LDA) decoding analysis"
   ]
  },
  {
   "cell_type": "markdown",
   "metadata": {},
   "source": [
    "## All targets"
   ]
  },
  {
   "cell_type": "code",
   "execution_count": 281,
   "metadata": {
    "execution": {
     "iopub.execute_input": "2024-02-04T04:46:56.913930Z",
     "iopub.status.busy": "2024-02-04T04:46:56.912872Z",
     "iopub.status.idle": "2024-02-04T04:47:01.203421Z",
     "shell.execute_reply": "2024-02-04T04:47:01.202553Z",
     "shell.execute_reply.started": "2024-02-04T04:46:56.913875Z"
    },
    "tags": []
   },
   "outputs": [
    {
     "name": "stderr",
     "output_type": "stream",
     "text": [
      "/home/aolab/miniconda3/envs/np_targeting/lib/python3.9/site-packages/numpy/core/fromnumeric.py:3504: RuntimeWarning: Mean of empty slice.\n",
      "  return _methods._mean(a, axis=axis, dtype=dtype,\n",
      "/home/aolab/miniconda3/envs/np_targeting/lib/python3.9/site-packages/numpy/core/_methods.py:121: RuntimeWarning: invalid value encountered in divide\n",
      "  ret = um.true_divide(\n"
     ]
    },
    {
     "name": "stdout",
     "output_type": "stream",
     "text": [
      "[224 272 438 447]\n"
     ]
    }
   ],
   "source": [
    "alignment_flag = 'acquire' # which alignment you use in decoding\n",
    "target_idx = np.array([t[1]-CENTER_TARGET_ON for t in tsegs])\n",
    "\n",
    "# Times relative to gocue\n",
    "target_on_go = target_onset - gocue_time\n",
    "saccade_onset_go = saccade_onset - gocue_time\n",
    "cursor_leave_go = cursor_leave_time - gocue_time\n",
    "acquire_go = acquire_time - gocue_time\n",
    "reward_go = reward_time - gocue_time\n",
    "\n",
    "if alignment_flag == 'target':\n",
    "    t_center = target_on_go\n",
    "    win = [0.1,0.2]\n",
    "elif alignment_flag == 'gocue':\n",
    "    t_center = np.zeros(ntr)\n",
    "    win = [-0.05,0.05]\n",
    "elif alignment_flag == 'saccade':\n",
    "    t_center = saccade_onset_go\n",
    "    win = [-0.05,0.05]\n",
    "elif alignment_flag == 'movement':\n",
    "    t_center = movement_onset_go\n",
    "    win = [-0.05,0.05]\n",
    "elif alignment_flag == 'cursor_leave':   \n",
    "    t_center = cursor_leave_go\n",
    "    win = [-0.05,0.05]\n",
    "elif alignment_flag == 'acquire':   \n",
    "    t_center = acquire_go\n",
    "    win = [-0.05,0.05]\n",
    "elif alignment_flag == 'reward':   \n",
    "    t_center = reward_go\n",
    "    win = [-0.05,0.05]\n",
    "\n",
    "# z scoring\n",
    "z_spec_band = (spec_band - np.mean(spec_band, axis=(0,2),keepdims=True))/(np.std(spec_band, axis=(0,2),keepdims=True,ddof=1))\n",
    "\n",
    "# Get bad trials\n",
    "bad_tr = []\n",
    "for itr in range(ntr):\n",
    "    time_win = (t_spec >= t_center[itr] + win[0])*(t_spec <= t_center[itr] + win[1])\n",
    "    itr_data = z_spec_band[[itr],:,:,:]\n",
    "    tmp = np.mean(itr_data[:,:,time_win,:],axis=2)\n",
    "    if sum(time_win)==0:\n",
    "        bad_tr.append(itr)\n",
    "    if itr == 0:\n",
    "        z_data_win = tmp\n",
    "    else:\n",
    "        z_data_win = np.concatenate([z_data_win, tmp],axis=0)\n",
    "        \n",
    "bad_tr = np.array(bad_tr)\n",
    "print(bad_tr)\n",
    "if bad_tr.size>0:\n",
    "    bad_tr_mask = np.zeros(ntr,dtype=bool)\n",
    "    bad_tr_mask[bad_tr] = True\n",
    "    good_tr_mask = ~bad_tr_mask\n",
    "else:\n",
    "    good_tr_mask = np.ones(ntr,dtype=bool)\n",
    "\n",
    "trial_restrict_mask = normal_saccade_trial * normal_onset_time * good_tr_mask"
   ]
  },
  {
   "cell_type": "code",
   "execution_count": 282,
   "metadata": {
    "execution": {
     "iopub.execute_input": "2024-02-04T04:47:01.204535Z",
     "iopub.status.busy": "2024-02-04T04:47:01.204392Z",
     "iopub.status.idle": "2024-02-04T04:47:01.848703Z",
     "shell.execute_reply": "2024-02-04T04:47:01.847709Z",
     "shell.execute_reply.started": "2024-02-04T04:47:01.204522Z"
    },
    "tags": []
   },
   "outputs": [
    {
     "name": "stdout",
     "output_type": "stream",
     "text": [
      "acquire\n",
      "66\n"
     ]
    },
    {
     "data": {
      "application/vnd.jupyter.widget-view+json": {
       "model_id": "c08d5865f90a457492eaf512d40c2991",
       "version_major": 2,
       "version_minor": 0
      },
      "text/plain": [
       "  0%|          | 0/300 [00:00<?, ?it/s]"
      ]
     },
     "metadata": {},
     "output_type": "display_data"
    },
    {
     "ename": "ValueError",
     "evalue": "Input X contains NaN.\nLinearDiscriminantAnalysis does not accept missing values encoded as NaN natively. For supervised learning, you might want to consider sklearn.ensemble.HistGradientBoostingClassifier and Regressor which accept missing values encoded as NaNs natively. Alternatively, it is possible to preprocess the data, for instance by using an imputer transformer in a pipeline or drop samples with missing values. See https://scikit-learn.org/stable/modules/impute.html You can find a list of all estimators that handle NaN values at the following page: https://scikit-learn.org/stable/modules/impute.html#estimators-that-handle-nan-values",
     "output_type": "error",
     "traceback": [
      "\u001b[0;31m---------------------------------------------------------------------------\u001b[0m",
      "\u001b[0;31mValueError\u001b[0m                                Traceback (most recent call last)",
      "Cell \u001b[0;32mIn[282], line 29\u001b[0m\n\u001b[1;32m     26\u001b[0m     cond_label \u001b[38;5;241m=\u001b[39m np\u001b[38;5;241m.\u001b[39mrandom\u001b[38;5;241m.\u001b[39mpermutation(cond_label)\n\u001b[1;32m     28\u001b[0m \u001b[38;5;66;03m# Average score (spatial filtering)\u001b[39;00m\n\u001b[0;32m---> 29\u001b[0m y_pred, y_true, weights \u001b[38;5;241m=\u001b[39m \u001b[43mclassify_targ_lda2\u001b[49m\u001b[43m(\u001b[49m\u001b[43mdata_win\u001b[49m\u001b[43m,\u001b[49m\u001b[43m \u001b[49m\u001b[43mcond_label\u001b[49m\u001b[43m,\u001b[49m\u001b[43m \u001b[49m\u001b[43mn_splits\u001b[49m\u001b[43m)\u001b[49m\n\u001b[1;32m     30\u001b[0m y_pred_bs\u001b[38;5;241m.\u001b[39mappend(y_pred)\n\u001b[1;32m     31\u001b[0m y_true_bs\u001b[38;5;241m.\u001b[39mappend(y_true)\n",
      "Cell \u001b[0;32mIn[1], line 202\u001b[0m, in \u001b[0;36mclassify_targ_lda2\u001b[0;34m(band_data, cond_label, n_splits)\u001b[0m\n\u001b[1;32m    199\u001b[0m Xtrain,Xtest \u001b[38;5;241m=\u001b[39m X[train_idx,:],X[test_idx,:]\n\u001b[1;32m    200\u001b[0m Ytrain,Ytest \u001b[38;5;241m=\u001b[39m Y[train_idx],Y[test_idx]\n\u001b[0;32m--> 202\u001b[0m \u001b[43mlda\u001b[49m\u001b[38;5;241;43m.\u001b[39;49m\u001b[43mfit\u001b[49m\u001b[43m(\u001b[49m\u001b[43m \u001b[49m\u001b[43mXtrain\u001b[49m\u001b[43m \u001b[49m\u001b[38;5;241;43m-\u001b[39;49m\u001b[43m \u001b[49m\u001b[43mnp\u001b[49m\u001b[38;5;241;43m.\u001b[39;49m\u001b[43mmean\u001b[49m\u001b[43m(\u001b[49m\u001b[43mXtrain\u001b[49m\u001b[43m,\u001b[49m\u001b[43maxis\u001b[49m\u001b[38;5;241;43m=\u001b[39;49m\u001b[38;5;241;43m0\u001b[39;49m\u001b[43m)\u001b[49m\u001b[43m,\u001b[49m\u001b[43m \u001b[49m\u001b[43mYtrain\u001b[49m\u001b[43m)\u001b[49m\n\u001b[1;32m    203\u001b[0m reshaped_weights \u001b[38;5;241m=\u001b[39m lda\u001b[38;5;241m.\u001b[39mcoef_\u001b[38;5;241m.\u001b[39mreshape(\u001b[38;5;241m-\u001b[39m\u001b[38;5;241m1\u001b[39m,nband)\n\u001b[1;32m    204\u001b[0m weights[ifold, ich, :] \u001b[38;5;241m=\u001b[39m np\u001b[38;5;241m.\u001b[39msum(np\u001b[38;5;241m.\u001b[39mabs(reshaped_weights),axis\u001b[38;5;241m=\u001b[39m\u001b[38;5;241m0\u001b[39m)\n",
      "File \u001b[0;32m~/miniconda3/envs/np_targeting/lib/python3.9/site-packages/sklearn/base.py:1152\u001b[0m, in \u001b[0;36m_fit_context.<locals>.decorator.<locals>.wrapper\u001b[0;34m(estimator, *args, **kwargs)\u001b[0m\n\u001b[1;32m   1145\u001b[0m     estimator\u001b[38;5;241m.\u001b[39m_validate_params()\n\u001b[1;32m   1147\u001b[0m \u001b[38;5;28;01mwith\u001b[39;00m config_context(\n\u001b[1;32m   1148\u001b[0m     skip_parameter_validation\u001b[38;5;241m=\u001b[39m(\n\u001b[1;32m   1149\u001b[0m         prefer_skip_nested_validation \u001b[38;5;129;01mor\u001b[39;00m global_skip_validation\n\u001b[1;32m   1150\u001b[0m     )\n\u001b[1;32m   1151\u001b[0m ):\n\u001b[0;32m-> 1152\u001b[0m     \u001b[38;5;28;01mreturn\u001b[39;00m \u001b[43mfit_method\u001b[49m\u001b[43m(\u001b[49m\u001b[43mestimator\u001b[49m\u001b[43m,\u001b[49m\u001b[43m \u001b[49m\u001b[38;5;241;43m*\u001b[39;49m\u001b[43margs\u001b[49m\u001b[43m,\u001b[49m\u001b[43m \u001b[49m\u001b[38;5;241;43m*\u001b[39;49m\u001b[38;5;241;43m*\u001b[39;49m\u001b[43mkwargs\u001b[49m\u001b[43m)\u001b[49m\n",
      "File \u001b[0;32m~/miniconda3/envs/np_targeting/lib/python3.9/site-packages/sklearn/discriminant_analysis.py:581\u001b[0m, in \u001b[0;36mLinearDiscriminantAnalysis.fit\u001b[0;34m(self, X, y)\u001b[0m\n\u001b[1;32m    558\u001b[0m \u001b[38;5;250m\u001b[39m\u001b[38;5;124;03m\"\"\"Fit the Linear Discriminant Analysis model.\u001b[39;00m\n\u001b[1;32m    559\u001b[0m \n\u001b[1;32m    560\u001b[0m \u001b[38;5;124;03m   .. versionchanged:: 0.19\u001b[39;00m\n\u001b[0;32m   (...)\u001b[0m\n\u001b[1;32m    577\u001b[0m \u001b[38;5;124;03m    Fitted estimator.\u001b[39;00m\n\u001b[1;32m    578\u001b[0m \u001b[38;5;124;03m\"\"\"\u001b[39;00m\n\u001b[1;32m    579\u001b[0m xp, _ \u001b[38;5;241m=\u001b[39m get_namespace(X)\n\u001b[0;32m--> 581\u001b[0m X, y \u001b[38;5;241m=\u001b[39m \u001b[38;5;28;43mself\u001b[39;49m\u001b[38;5;241;43m.\u001b[39;49m\u001b[43m_validate_data\u001b[49m\u001b[43m(\u001b[49m\n\u001b[1;32m    582\u001b[0m \u001b[43m    \u001b[49m\u001b[43mX\u001b[49m\u001b[43m,\u001b[49m\u001b[43m \u001b[49m\u001b[43my\u001b[49m\u001b[43m,\u001b[49m\u001b[43m \u001b[49m\u001b[43mensure_min_samples\u001b[49m\u001b[38;5;241;43m=\u001b[39;49m\u001b[38;5;241;43m2\u001b[39;49m\u001b[43m,\u001b[49m\u001b[43m \u001b[49m\u001b[43mdtype\u001b[49m\u001b[38;5;241;43m=\u001b[39;49m\u001b[43m[\u001b[49m\u001b[43mxp\u001b[49m\u001b[38;5;241;43m.\u001b[39;49m\u001b[43mfloat64\u001b[49m\u001b[43m,\u001b[49m\u001b[43m \u001b[49m\u001b[43mxp\u001b[49m\u001b[38;5;241;43m.\u001b[39;49m\u001b[43mfloat32\u001b[49m\u001b[43m]\u001b[49m\n\u001b[1;32m    583\u001b[0m \u001b[43m\u001b[49m\u001b[43m)\u001b[49m\n\u001b[1;32m    584\u001b[0m \u001b[38;5;28mself\u001b[39m\u001b[38;5;241m.\u001b[39mclasses_ \u001b[38;5;241m=\u001b[39m unique_labels(y)\n\u001b[1;32m    585\u001b[0m n_samples, _ \u001b[38;5;241m=\u001b[39m X\u001b[38;5;241m.\u001b[39mshape\n",
      "File \u001b[0;32m~/miniconda3/envs/np_targeting/lib/python3.9/site-packages/sklearn/base.py:622\u001b[0m, in \u001b[0;36mBaseEstimator._validate_data\u001b[0;34m(self, X, y, reset, validate_separately, cast_to_ndarray, **check_params)\u001b[0m\n\u001b[1;32m    620\u001b[0m         y \u001b[38;5;241m=\u001b[39m check_array(y, input_name\u001b[38;5;241m=\u001b[39m\u001b[38;5;124m\"\u001b[39m\u001b[38;5;124my\u001b[39m\u001b[38;5;124m\"\u001b[39m, \u001b[38;5;241m*\u001b[39m\u001b[38;5;241m*\u001b[39mcheck_y_params)\n\u001b[1;32m    621\u001b[0m     \u001b[38;5;28;01melse\u001b[39;00m:\n\u001b[0;32m--> 622\u001b[0m         X, y \u001b[38;5;241m=\u001b[39m \u001b[43mcheck_X_y\u001b[49m\u001b[43m(\u001b[49m\u001b[43mX\u001b[49m\u001b[43m,\u001b[49m\u001b[43m \u001b[49m\u001b[43my\u001b[49m\u001b[43m,\u001b[49m\u001b[43m \u001b[49m\u001b[38;5;241;43m*\u001b[39;49m\u001b[38;5;241;43m*\u001b[39;49m\u001b[43mcheck_params\u001b[49m\u001b[43m)\u001b[49m\n\u001b[1;32m    623\u001b[0m     out \u001b[38;5;241m=\u001b[39m X, y\n\u001b[1;32m    625\u001b[0m \u001b[38;5;28;01mif\u001b[39;00m \u001b[38;5;129;01mnot\u001b[39;00m no_val_X \u001b[38;5;129;01mand\u001b[39;00m check_params\u001b[38;5;241m.\u001b[39mget(\u001b[38;5;124m\"\u001b[39m\u001b[38;5;124mensure_2d\u001b[39m\u001b[38;5;124m\"\u001b[39m, \u001b[38;5;28;01mTrue\u001b[39;00m):\n",
      "File \u001b[0;32m~/miniconda3/envs/np_targeting/lib/python3.9/site-packages/sklearn/utils/validation.py:1146\u001b[0m, in \u001b[0;36mcheck_X_y\u001b[0;34m(X, y, accept_sparse, accept_large_sparse, dtype, order, copy, force_all_finite, ensure_2d, allow_nd, multi_output, ensure_min_samples, ensure_min_features, y_numeric, estimator)\u001b[0m\n\u001b[1;32m   1141\u001b[0m         estimator_name \u001b[38;5;241m=\u001b[39m _check_estimator_name(estimator)\n\u001b[1;32m   1142\u001b[0m     \u001b[38;5;28;01mraise\u001b[39;00m \u001b[38;5;167;01mValueError\u001b[39;00m(\n\u001b[1;32m   1143\u001b[0m         \u001b[38;5;124mf\u001b[39m\u001b[38;5;124m\"\u001b[39m\u001b[38;5;132;01m{\u001b[39;00mestimator_name\u001b[38;5;132;01m}\u001b[39;00m\u001b[38;5;124m requires y to be passed, but the target y is None\u001b[39m\u001b[38;5;124m\"\u001b[39m\n\u001b[1;32m   1144\u001b[0m     )\n\u001b[0;32m-> 1146\u001b[0m X \u001b[38;5;241m=\u001b[39m \u001b[43mcheck_array\u001b[49m\u001b[43m(\u001b[49m\n\u001b[1;32m   1147\u001b[0m \u001b[43m    \u001b[49m\u001b[43mX\u001b[49m\u001b[43m,\u001b[49m\n\u001b[1;32m   1148\u001b[0m \u001b[43m    \u001b[49m\u001b[43maccept_sparse\u001b[49m\u001b[38;5;241;43m=\u001b[39;49m\u001b[43maccept_sparse\u001b[49m\u001b[43m,\u001b[49m\n\u001b[1;32m   1149\u001b[0m \u001b[43m    \u001b[49m\u001b[43maccept_large_sparse\u001b[49m\u001b[38;5;241;43m=\u001b[39;49m\u001b[43maccept_large_sparse\u001b[49m\u001b[43m,\u001b[49m\n\u001b[1;32m   1150\u001b[0m \u001b[43m    \u001b[49m\u001b[43mdtype\u001b[49m\u001b[38;5;241;43m=\u001b[39;49m\u001b[43mdtype\u001b[49m\u001b[43m,\u001b[49m\n\u001b[1;32m   1151\u001b[0m \u001b[43m    \u001b[49m\u001b[43morder\u001b[49m\u001b[38;5;241;43m=\u001b[39;49m\u001b[43morder\u001b[49m\u001b[43m,\u001b[49m\n\u001b[1;32m   1152\u001b[0m \u001b[43m    \u001b[49m\u001b[43mcopy\u001b[49m\u001b[38;5;241;43m=\u001b[39;49m\u001b[43mcopy\u001b[49m\u001b[43m,\u001b[49m\n\u001b[1;32m   1153\u001b[0m \u001b[43m    \u001b[49m\u001b[43mforce_all_finite\u001b[49m\u001b[38;5;241;43m=\u001b[39;49m\u001b[43mforce_all_finite\u001b[49m\u001b[43m,\u001b[49m\n\u001b[1;32m   1154\u001b[0m \u001b[43m    \u001b[49m\u001b[43mensure_2d\u001b[49m\u001b[38;5;241;43m=\u001b[39;49m\u001b[43mensure_2d\u001b[49m\u001b[43m,\u001b[49m\n\u001b[1;32m   1155\u001b[0m \u001b[43m    \u001b[49m\u001b[43mallow_nd\u001b[49m\u001b[38;5;241;43m=\u001b[39;49m\u001b[43mallow_nd\u001b[49m\u001b[43m,\u001b[49m\n\u001b[1;32m   1156\u001b[0m \u001b[43m    \u001b[49m\u001b[43mensure_min_samples\u001b[49m\u001b[38;5;241;43m=\u001b[39;49m\u001b[43mensure_min_samples\u001b[49m\u001b[43m,\u001b[49m\n\u001b[1;32m   1157\u001b[0m \u001b[43m    \u001b[49m\u001b[43mensure_min_features\u001b[49m\u001b[38;5;241;43m=\u001b[39;49m\u001b[43mensure_min_features\u001b[49m\u001b[43m,\u001b[49m\n\u001b[1;32m   1158\u001b[0m \u001b[43m    \u001b[49m\u001b[43mestimator\u001b[49m\u001b[38;5;241;43m=\u001b[39;49m\u001b[43mestimator\u001b[49m\u001b[43m,\u001b[49m\n\u001b[1;32m   1159\u001b[0m \u001b[43m    \u001b[49m\u001b[43minput_name\u001b[49m\u001b[38;5;241;43m=\u001b[39;49m\u001b[38;5;124;43m\"\u001b[39;49m\u001b[38;5;124;43mX\u001b[39;49m\u001b[38;5;124;43m\"\u001b[39;49m\u001b[43m,\u001b[49m\n\u001b[1;32m   1160\u001b[0m \u001b[43m\u001b[49m\u001b[43m)\u001b[49m\n\u001b[1;32m   1162\u001b[0m y \u001b[38;5;241m=\u001b[39m _check_y(y, multi_output\u001b[38;5;241m=\u001b[39mmulti_output, y_numeric\u001b[38;5;241m=\u001b[39my_numeric, estimator\u001b[38;5;241m=\u001b[39mestimator)\n\u001b[1;32m   1164\u001b[0m check_consistent_length(X, y)\n",
      "File \u001b[0;32m~/miniconda3/envs/np_targeting/lib/python3.9/site-packages/sklearn/utils/validation.py:957\u001b[0m, in \u001b[0;36mcheck_array\u001b[0;34m(array, accept_sparse, accept_large_sparse, dtype, order, copy, force_all_finite, ensure_2d, allow_nd, ensure_min_samples, ensure_min_features, estimator, input_name)\u001b[0m\n\u001b[1;32m    951\u001b[0m         \u001b[38;5;28;01mraise\u001b[39;00m \u001b[38;5;167;01mValueError\u001b[39;00m(\n\u001b[1;32m    952\u001b[0m             \u001b[38;5;124m\"\u001b[39m\u001b[38;5;124mFound array with dim \u001b[39m\u001b[38;5;132;01m%d\u001b[39;00m\u001b[38;5;124m. \u001b[39m\u001b[38;5;132;01m%s\u001b[39;00m\u001b[38;5;124m expected <= 2.\u001b[39m\u001b[38;5;124m\"\u001b[39m\n\u001b[1;32m    953\u001b[0m             \u001b[38;5;241m%\u001b[39m (array\u001b[38;5;241m.\u001b[39mndim, estimator_name)\n\u001b[1;32m    954\u001b[0m         )\n\u001b[1;32m    956\u001b[0m     \u001b[38;5;28;01mif\u001b[39;00m force_all_finite:\n\u001b[0;32m--> 957\u001b[0m         \u001b[43m_assert_all_finite\u001b[49m\u001b[43m(\u001b[49m\n\u001b[1;32m    958\u001b[0m \u001b[43m            \u001b[49m\u001b[43marray\u001b[49m\u001b[43m,\u001b[49m\n\u001b[1;32m    959\u001b[0m \u001b[43m            \u001b[49m\u001b[43minput_name\u001b[49m\u001b[38;5;241;43m=\u001b[39;49m\u001b[43minput_name\u001b[49m\u001b[43m,\u001b[49m\n\u001b[1;32m    960\u001b[0m \u001b[43m            \u001b[49m\u001b[43mestimator_name\u001b[49m\u001b[38;5;241;43m=\u001b[39;49m\u001b[43mestimator_name\u001b[49m\u001b[43m,\u001b[49m\n\u001b[1;32m    961\u001b[0m \u001b[43m            \u001b[49m\u001b[43mallow_nan\u001b[49m\u001b[38;5;241;43m=\u001b[39;49m\u001b[43mforce_all_finite\u001b[49m\u001b[43m \u001b[49m\u001b[38;5;241;43m==\u001b[39;49m\u001b[43m \u001b[49m\u001b[38;5;124;43m\"\u001b[39;49m\u001b[38;5;124;43mallow-nan\u001b[39;49m\u001b[38;5;124;43m\"\u001b[39;49m\u001b[43m,\u001b[49m\n\u001b[1;32m    962\u001b[0m \u001b[43m        \u001b[49m\u001b[43m)\u001b[49m\n\u001b[1;32m    964\u001b[0m \u001b[38;5;28;01mif\u001b[39;00m ensure_min_samples \u001b[38;5;241m>\u001b[39m \u001b[38;5;241m0\u001b[39m:\n\u001b[1;32m    965\u001b[0m     n_samples \u001b[38;5;241m=\u001b[39m _num_samples(array)\n",
      "File \u001b[0;32m~/miniconda3/envs/np_targeting/lib/python3.9/site-packages/sklearn/utils/validation.py:122\u001b[0m, in \u001b[0;36m_assert_all_finite\u001b[0;34m(X, allow_nan, msg_dtype, estimator_name, input_name)\u001b[0m\n\u001b[1;32m    119\u001b[0m \u001b[38;5;28;01mif\u001b[39;00m first_pass_isfinite:\n\u001b[1;32m    120\u001b[0m     \u001b[38;5;28;01mreturn\u001b[39;00m\n\u001b[0;32m--> 122\u001b[0m \u001b[43m_assert_all_finite_element_wise\u001b[49m\u001b[43m(\u001b[49m\n\u001b[1;32m    123\u001b[0m \u001b[43m    \u001b[49m\u001b[43mX\u001b[49m\u001b[43m,\u001b[49m\n\u001b[1;32m    124\u001b[0m \u001b[43m    \u001b[49m\u001b[43mxp\u001b[49m\u001b[38;5;241;43m=\u001b[39;49m\u001b[43mxp\u001b[49m\u001b[43m,\u001b[49m\n\u001b[1;32m    125\u001b[0m \u001b[43m    \u001b[49m\u001b[43mallow_nan\u001b[49m\u001b[38;5;241;43m=\u001b[39;49m\u001b[43mallow_nan\u001b[49m\u001b[43m,\u001b[49m\n\u001b[1;32m    126\u001b[0m \u001b[43m    \u001b[49m\u001b[43mmsg_dtype\u001b[49m\u001b[38;5;241;43m=\u001b[39;49m\u001b[43mmsg_dtype\u001b[49m\u001b[43m,\u001b[49m\n\u001b[1;32m    127\u001b[0m \u001b[43m    \u001b[49m\u001b[43mestimator_name\u001b[49m\u001b[38;5;241;43m=\u001b[39;49m\u001b[43mestimator_name\u001b[49m\u001b[43m,\u001b[49m\n\u001b[1;32m    128\u001b[0m \u001b[43m    \u001b[49m\u001b[43minput_name\u001b[49m\u001b[38;5;241;43m=\u001b[39;49m\u001b[43minput_name\u001b[49m\u001b[43m,\u001b[49m\n\u001b[1;32m    129\u001b[0m \u001b[43m\u001b[49m\u001b[43m)\u001b[49m\n",
      "File \u001b[0;32m~/miniconda3/envs/np_targeting/lib/python3.9/site-packages/sklearn/utils/validation.py:171\u001b[0m, in \u001b[0;36m_assert_all_finite_element_wise\u001b[0;34m(X, xp, allow_nan, msg_dtype, estimator_name, input_name)\u001b[0m\n\u001b[1;32m    154\u001b[0m \u001b[38;5;28;01mif\u001b[39;00m estimator_name \u001b[38;5;129;01mand\u001b[39;00m input_name \u001b[38;5;241m==\u001b[39m \u001b[38;5;124m\"\u001b[39m\u001b[38;5;124mX\u001b[39m\u001b[38;5;124m\"\u001b[39m \u001b[38;5;129;01mand\u001b[39;00m has_nan_error:\n\u001b[1;32m    155\u001b[0m     \u001b[38;5;66;03m# Improve the error message on how to handle missing values in\u001b[39;00m\n\u001b[1;32m    156\u001b[0m     \u001b[38;5;66;03m# scikit-learn.\u001b[39;00m\n\u001b[1;32m    157\u001b[0m     msg_err \u001b[38;5;241m+\u001b[39m\u001b[38;5;241m=\u001b[39m (\n\u001b[1;32m    158\u001b[0m         \u001b[38;5;124mf\u001b[39m\u001b[38;5;124m\"\u001b[39m\u001b[38;5;130;01m\\n\u001b[39;00m\u001b[38;5;132;01m{\u001b[39;00mestimator_name\u001b[38;5;132;01m}\u001b[39;00m\u001b[38;5;124m does not accept missing values\u001b[39m\u001b[38;5;124m\"\u001b[39m\n\u001b[1;32m    159\u001b[0m         \u001b[38;5;124m\"\u001b[39m\u001b[38;5;124m encoded as NaN natively. For supervised learning, you might want\u001b[39m\u001b[38;5;124m\"\u001b[39m\n\u001b[0;32m   (...)\u001b[0m\n\u001b[1;32m    169\u001b[0m         \u001b[38;5;124m\"\u001b[39m\u001b[38;5;124m#estimators-that-handle-nan-values\u001b[39m\u001b[38;5;124m\"\u001b[39m\n\u001b[1;32m    170\u001b[0m     )\n\u001b[0;32m--> 171\u001b[0m \u001b[38;5;28;01mraise\u001b[39;00m \u001b[38;5;167;01mValueError\u001b[39;00m(msg_err)\n",
      "\u001b[0;31mValueError\u001b[0m: Input X contains NaN.\nLinearDiscriminantAnalysis does not accept missing values encoded as NaN natively. For supervised learning, you might want to consider sklearn.ensemble.HistGradientBoostingClassifier and Regressor which accept missing values encoded as NaNs natively. Alternatively, it is possible to preprocess the data, for instance by using an imputer transformer in a pipeline or drop samples with missing values. See https://scikit-learn.org/stable/modules/impute.html You can find a list of all estimators that handle NaN values at the following page: https://scikit-learn.org/stable/modules/impute.html#estimators-that-handle-nan-values"
     ]
    }
   ],
   "source": [
    "band_idx = -1 # which band you focus\n",
    "nbs = 300 # number of bootstrapping\n",
    "n_splits = 5 # number of cross validation\n",
    "shuffle = False # whether to shuffle target index for permutation test\n",
    "\n",
    "y_pred_bs = []\n",
    "y_true_bs = []\n",
    "weights_bs = []\n",
    "print(f'{alignment_flag}')\n",
    "z_single_win = z_data_win[:,[band_idx],:]\n",
    "\n",
    "min_trial = get_minimum_trials_per_target(target_idx, trial_restrict_mask)\n",
    "print(min_trial)\n",
    "\n",
    "for i_bs in tqdm(range(nbs)):\n",
    "    np.random.seed(i_bs)\n",
    "    \n",
    "    # Get trial label with replacement for bootstrapping\n",
    "    trial_mask = get_conditioned_trials_per_target(target_idx, trial_restrict_mask, min_trial, replacement=True, seed=i_bs)\n",
    "    trial_mask = np.random.permutation(trial_mask)\n",
    "    \n",
    "    # Get data for LDA\n",
    "    data_win = z_single_win[trial_mask,:,:]\n",
    "    cond_label = target_idx[trial_mask]\n",
    "    if shuffle:\n",
    "        cond_label = np.random.permutation(cond_label)\n",
    "    \n",
    "    # Average score (spatial filtering)\n",
    "    y_pred, y_true, weights = classify_targ_lda2(data_win, cond_label, n_splits)\n",
    "    y_pred_bs.append(y_pred)\n",
    "    y_true_bs.append(y_true)\n",
    "    weights_bs.append(weights)\n",
    "    \n",
    "y_pred_bs = np.array(y_pred_bs, 'object')\n",
    "y_true_bs = np.array(y_true_bs, 'object')\n",
    "weights_bs = np.array(weights_bs, 'object')\n",
    "\n",
    "np.savez(f'/data/postprocessed/tomo/Neuropixel_targeting/{subject}_decoding_{alignment_flag}_numbs{nbs}_shuffle_{shuffle}_{band_name[band_idx]}', y_pred_bs=y_pred_bs, y_true_bs=y_true_bs, weights_bs=weights_bs)"
   ]
  },
  {
   "cell_type": "code",
   "execution_count": 8,
   "metadata": {
    "execution": {
     "iopub.execute_input": "2024-01-23T17:22:36.779157Z",
     "iopub.status.busy": "2024-01-23T17:22:36.778462Z",
     "iopub.status.idle": "2024-01-23T17:22:45.730047Z",
     "shell.execute_reply": "2024-01-23T17:22:45.728267Z",
     "shell.execute_reply.started": "2024-01-23T17:22:36.779083Z"
    },
    "tags": []
   },
   "outputs": [],
   "source": [
    "# load bootstrapping data\n",
    "nbs = 300\n",
    "n_splits = 5\n",
    "band_idx = -1\n",
    "alignment_flag = 'acquire'\n",
    "loaded_data = np.load(f'/data/postprocessed/tomo/Neuropixel_targeting/{subject}_decoding_{alignment_flag}_numbs{nbs}_shuffle_{shuffle}_{band_name[band_idx]}.npz',allow_pickle=True)\n",
    "y_pred_bs = loaded_data['y_pred_bs']\n",
    "y_true_bs = loaded_data['y_true_bs']\n",
    "weights_bs = loaded_data['weights_bs']"
   ]
  },
  {
   "cell_type": "code",
   "execution_count": 9,
   "metadata": {
    "execution": {
     "iopub.execute_input": "2024-01-23T17:22:45.731719Z",
     "iopub.status.busy": "2024-01-23T17:22:45.731471Z",
     "iopub.status.idle": "2024-01-23T17:24:00.067164Z",
     "shell.execute_reply": "2024-01-23T17:24:00.066215Z",
     "shell.execute_reply.started": "2024-01-23T17:22:45.731697Z"
    },
    "tags": []
   },
   "outputs": [
    {
     "data": {
      "application/vnd.jupyter.widget-view+json": {
       "model_id": "4465bba3f3fd44cabb1c6730effd8006",
       "version_major": 2,
       "version_minor": 0
      },
      "text/plain": [
       "  0%|          | 0/300 [00:00<?, ?it/s]"
      ]
     },
     "metadata": {},
     "output_type": "display_data"
    }
   ],
   "source": [
    "accuracy_ch = np.zeros((nbs, nch))\n",
    "for ibs in tqdm(range(nbs)):\n",
    "    for ich in range(nch):\n",
    "        \n",
    "        accuracy_fold = []\n",
    "        for ifold in range(n_splits):\n",
    "            accuracy_fold.append(accuracy_score(y_true_bs[ibs][ich][ifold], y_pred_bs[ibs][ich][ifold]))\n",
    "        \n",
    "        accuracy_ch[ibs,ich] = np.mean(accuracy_fold)\n",
    "        \n",
    "m_accuracy_bs = np.mean(accuracy_ch,axis=0)"
   ]
  },
  {
   "cell_type": "code",
   "execution_count": 10,
   "metadata": {
    "execution": {
     "iopub.execute_input": "2024-01-23T17:24:00.068292Z",
     "iopub.status.busy": "2024-01-23T17:24:00.068137Z",
     "iopub.status.idle": "2024-01-23T17:24:00.251326Z",
     "shell.execute_reply": "2024-01-23T17:24:00.250488Z",
     "shell.execute_reply.started": "2024-01-23T17:24:00.068279Z"
    },
    "tags": []
   },
   "outputs": [
    {
     "data": {
      "image/png": "[encoded data removed]",
      "text/plain": [
       "<Figure size 700x500 with 2 Axes>"
      ]
     },
     "metadata": {},
     "output_type": "display_data"
    }
   ],
   "source": [
    "# Average accuracy across neighboring channels\n",
    "m_accuracy_ch = np.zeros(nch)\n",
    "dist = aopy.utils.calc_euclid_dist_mat(elec_pos)\n",
    "for ich in range(dist.shape[0]):\n",
    "    ave_idx = (dist[:,ich] <= 1.3)#0.75, 1.3\n",
    "    m_accuracy_ch[ich] = np.nanmean(m_accuracy_bs[ave_idx])   \n",
    "\n",
    "# Show data\n",
    "fig,ax=plt.subplots(figsize=(7,5),tight_layout=True)\n",
    "xy = [elec_pos[:,0], elec_pos[:,1]]\n",
    "da_map = aopy.visualization.get_data_map(m_accuracy_ch,xy[0],xy[1])\n",
    "da_map[0,0],da_map[0,1],da_map[1,0],da_map[0,-1],da_map[0,-2],da_map[1,-1] = np.nan,np.nan,np.nan,np.nan,np.nan,np.nan\n",
    "da_map[-1,0],da_map[-1,1],da_map[-2,0],da_map[-1,-1],da_map[-1,-2],da_map[-2,-1] = np.nan,np.nan,np.nan,np.nan,np.nan,np.nan\n",
    "im = aopy.visualization.plot_spatial_map(da_map, xy[0], xy[1], ax=ax, cmap='Blues')\n",
    "im.norm.vmin = 1/8\n",
    "im.norm.vmax = np.nanmax(m_accuracy_ch)\n",
    "\n",
    "cbar = fig.colorbar(im, ax=ax, orientation='vertical',fraction=0.046, pad=0.04)\n",
    "ax.set(xlabel='',ylabel='',xticks=[],xticklabels=[],yticks=[],yticklabels=[])\n",
    "fig.show()\n",
    "np.savez(f'/data/postprocessed/tomo/Neuropixel_targeting/{subject}_{alignment_flag}_decoding_accuracy_{band_name[band_idx]}', da=m_accuracy_ch, elec_pos=elec_pos)"
   ]
  },
  {
   "cell_type": "code",
   "execution_count": 11,
   "metadata": {
    "execution": {
     "iopub.execute_input": "2024-01-23T17:24:00.252317Z",
     "iopub.status.busy": "2024-01-23T17:24:00.252162Z",
     "iopub.status.idle": "2024-01-23T17:27:58.764630Z",
     "shell.execute_reply": "2024-01-23T17:27:58.763708Z",
     "shell.execute_reply.started": "2024-01-23T17:24:00.252303Z"
    },
    "tags": []
   },
   "outputs": [
    {
     "data": {
      "application/vnd.jupyter.widget-view+json": {
       "model_id": "f6829ea307d84de1a12d4c0e1e26307a",
       "version_major": 2,
       "version_minor": 0
      },
      "text/plain": [
       "  0%|          | 0/300 [00:00<?, ?it/s]"
      ]
     },
     "metadata": {},
     "output_type": "display_data"
    },
    {
     "data": {
      "application/vnd.jupyter.widget-view+json": {
       "model_id": "003ecb7808bb4692b7b5dc77d0c4c91e",
       "version_major": 2,
       "version_minor": 0
      },
      "text/plain": [
       "  0%|          | 0/300 [00:00<?, ?it/s]"
      ]
     },
     "metadata": {},
     "output_type": "display_data"
    },
    {
     "data": {
      "application/vnd.jupyter.widget-view+json": {
       "model_id": "f0606d1253ee40d6bd07c89442ac362e",
       "version_major": 2,
       "version_minor": 0
      },
      "text/plain": [
       "  0%|          | 0/300 [00:00<?, ?it/s]"
      ]
     },
     "metadata": {},
     "output_type": "display_data"
    }
   ],
   "source": [
    "alignment_list = ['gocue','movement','acquire']\n",
    "nalignment = len(alignment_list)\n",
    "band_idx = 0\n",
    "shuffle=False\n",
    "\n",
    "accuracy_alignment = np.zeros((nalignment,nbs, nch))\n",
    "for idx, alignment_flag in enumerate(alignment_list):\n",
    "    loaded_data = np.load(f'/data/postprocessed/tomo/Neuropixel_targeting/{subject}_decoding_{alignment_flag}_numbs{nbs}_shuffle_{shuffle}_{band_name[band_idx]}.npz',allow_pickle=True)\n",
    "    y_pred_bs = loaded_data['y_pred_bs']\n",
    "    y_true_bs = loaded_data['y_true_bs']\n",
    "    #weights_bs = loaded_data['weights_bs']\n",
    "\n",
    "    for ibs in tqdm(range(nbs)):\n",
    "        for ich in range(nch):\n",
    "            \n",
    "            accuracy_fold = []\n",
    "            for ifold in range(n_splits):\n",
    "                accuracy_fold.append(accuracy_score(y_true_bs[ibs][ich][ifold], y_pred_bs[ibs][ich][ifold]))\n",
    "                \n",
    "            accuracy_alignment[idx,ibs,ich] = np.mean(accuracy_fold)"
   ]
  },
  {
   "cell_type": "code",
   "execution_count": 12,
   "metadata": {
    "execution": {
     "iopub.execute_input": "2024-01-23T17:27:58.765988Z",
     "iopub.status.busy": "2024-01-23T17:27:58.765830Z",
     "iopub.status.idle": "2024-01-23T17:27:58.999710Z",
     "shell.execute_reply": "2024-01-23T17:27:58.998890Z",
     "shell.execute_reply.started": "2024-01-23T17:27:58.765974Z"
    },
    "tags": []
   },
   "outputs": [
    {
     "name": "stderr",
     "output_type": "stream",
     "text": [
      "/home/aolab/miniconda3/envs/np_targeting/lib/python3.9/site-packages/IPython/core/events.py:93: UserWarning: This figure includes Axes that are not compatible with tight_layout, so results might be incorrect.\n",
      "  func(*args, **kwargs)\n",
      "/home/aolab/miniconda3/envs/np_targeting/lib/python3.9/site-packages/IPython/core/pylabtools.py:152: UserWarning: This figure includes Axes that are not compatible with tight_layout, so results might be incorrect.\n",
      "  fig.canvas.print_figure(bytes_io, **kw)\n"
     ]
    },
    {
     "data": {
      "image/png": "[encoded data removed]",
      "text/plain": [
       "<Figure size 900x300 with 4 Axes>"
      ]
     },
     "metadata": {},
     "output_type": "display_data"
    }
   ],
   "source": [
    "alignment_list = ['gocue','movement','acquisition']\n",
    "dist = aopy.utils.calc_euclid_dist_mat(elec_pos)\n",
    "xy = [elec_pos[:,0], elec_pos[:,1]]\n",
    "m_accuracy_bs = np.mean(accuracy_alignment,axis=1) # mean across bootstrapping samples\n",
    "\n",
    "# Average accuracy across neighboring channels\n",
    "m_accuracy_ch = np.zeros((nalignment,nch))\n",
    "for ich in range(dist.shape[0]):\n",
    "    ave_idx = (dist[:,ich] <= 1.3)#0.75, 1.3\n",
    "    m_accuracy_ch[:,ich] = np.nanmean(m_accuracy_bs[:,ave_idx],axis=1)   \n",
    "\n",
    "fig,ax=plt.subplots(ncols=nalignment,figsize=(9,3),tight_layout=True)\n",
    "for idx in range(nalignment):\n",
    "    da_map = aopy.visualization.get_data_map(m_accuracy_ch[idx,:],xy[0],xy[1])\n",
    "    da_map[0,0],da_map[0,1],da_map[1,0],da_map[0,-1],da_map[0,-2],da_map[1,-1] = np.nan,np.nan,np.nan,np.nan,np.nan,np.nan\n",
    "    da_map[-1,0],da_map[-1,1],da_map[-2,0],da_map[-1,-1],da_map[-1,-2],da_map[-2,-1] = np.nan,np.nan,np.nan,np.nan,np.nan,np.nan\n",
    "    im = aopy.visualization.plot_spatial_map(da_map, xy[0], xy[1], ax=ax[idx], cmap='Blues')\n",
    "    im.norm.vmin = 1/8\n",
    "    im.norm.vmax = np.nanmax(m_accuracy_ch)\n",
    "    ax[idx].set(xlabel='',ylabel='',xticks=[],xticklabels=[],yticks=[],yticklabels=[],title=f'{alignment_list[idx]}')\n",
    "\n",
    "\n",
    "fig.subplots_adjust(right=0.9)\n",
    "cbar_ax = fig.add_axes([1., 0.15, 0.011, 0.7])\n",
    "cbar = fig.colorbar(im, cax=cbar_ax, orientation='vertical',fraction=0.046, pad=0.04)\n",
    "fig.show()"
   ]
  },
  {
   "cell_type": "markdown",
   "metadata": {},
   "source": [
    "## Contralateral and ipsilateral target decoding"
   ]
  },
  {
   "cell_type": "code",
   "execution_count": 13,
   "metadata": {
    "execution": {
     "iopub.execute_input": "2024-01-23T17:27:59.000685Z",
     "iopub.status.busy": "2024-01-23T17:27:59.000530Z",
     "iopub.status.idle": "2024-01-23T17:28:03.599149Z",
     "shell.execute_reply": "2024-01-23T17:28:03.598246Z",
     "shell.execute_reply.started": "2024-01-23T17:27:59.000671Z"
    },
    "tags": []
   },
   "outputs": [
    {
     "name": "stderr",
     "output_type": "stream",
     "text": [
      "/home/aolab/miniconda3/envs/np_targeting/lib/python3.9/site-packages/numpy/core/fromnumeric.py:3504: RuntimeWarning: Mean of empty slice.\n",
      "  return _methods._mean(a, axis=axis, dtype=dtype,\n",
      "/home/aolab/miniconda3/envs/np_targeting/lib/python3.9/site-packages/numpy/core/_methods.py:121: RuntimeWarning: invalid value encountered in divide\n",
      "  ret = um.true_divide(\n"
     ]
    },
    {
     "name": "stdout",
     "output_type": "stream",
     "text": [
      "[224 272 288 317 438 447]\n"
     ]
    }
   ],
   "source": [
    "## Show decoding accuracy in different time windows\n",
    "target_idx = np.array([t[1]-CENTER_TARGET_ON for t in tsegs])\n",
    "alignment_flag = 'reward'\n",
    "n_splits = 5\n",
    "\n",
    "# Aligne timings\n",
    "target_on_go = target_onset - gocue_time\n",
    "saccade_onset_go = saccade_onset - gocue_time\n",
    "cursor_leave_go = cursor_leave_time - gocue_time\n",
    "reward_go = reward_time - gocue_time\n",
    "\n",
    "# Prepare data\n",
    "if alignment_flag == 'target':\n",
    "    t_center = target_on_go\n",
    "    win = [0.1,0.2]\n",
    "elif alignment_flag == 'gocue':\n",
    "    t_center = np.zeros(ntr)\n",
    "    win = [-0.05,0.05]\n",
    "elif alignment_flag == 'saccade':\n",
    "    t_center = saccade_onset_go\n",
    "    win = [-0.05,0.05]\n",
    "elif alignment_flag == 'movement':\n",
    "    t_center = movement_onset_go\n",
    "    win = [-0.05,0.05]\n",
    "elif alignment_flag == 'cursor_leave':   \n",
    "    t_center = cursor_leave_go\n",
    "    win = [-0.05,0.05]\n",
    "elif alignment_flag == 'reward':   \n",
    "    t_center = reward_go\n",
    "    win = [-0.05,0.05]\n",
    "\n",
    "# Preprocess data\n",
    "#z_spec_band = stats.zscore(spec_band,axis=2)   \n",
    "z_spec_band = (spec_band - np.mean(spec_band, axis=(0,2),keepdims=True))/(np.std(spec_band, axis=(0,2),keepdims=True,ddof=1))\n",
    "\n",
    "bad_tr = []\n",
    "for itr in range(ntr):\n",
    "    time_win = (t_spec >= t_center[itr] + win[0])*(t_spec <= t_center[itr] + win[1])\n",
    "    itr_data = z_spec_band[[itr],:,:,:]\n",
    "    tmp = np.mean(itr_data[:,:,time_win,:],axis=2)\n",
    "    if sum(time_win)==0:\n",
    "        bad_tr.append(itr)\n",
    "    if itr == 0:\n",
    "        z_data_win = tmp\n",
    "    else:\n",
    "        z_data_win = np.concatenate([z_data_win, tmp],axis=0)\n",
    "\n",
    "bad_tr2 = []\n",
    "for itr in range(z_spec_band.shape[0]):\n",
    "    if np.any(np.isnan(z_spec_band[itr,:,:])):\n",
    "        bad_tr2.append(itr)\n",
    "\n",
    "bad_tr = np.concatenate([bad_tr,bad_tr2])\n",
    "bad_tr = np.array([int(a) for a in bad_tr])\n",
    "print(bad_tr)\n",
    "\n",
    "if bad_tr.size>0:\n",
    "    bad_tr_mask = np.zeros(ntr,dtype=bool)\n",
    "    bad_tr_mask[bad_tr] = True\n",
    "    good_tr_mask = ~bad_tr_mask\n",
    "else:\n",
    "    good_tr_mask = np.ones(ntr,dtype=bool)\n",
    "\n",
    "trial_restrict_mask = normal_saccade_trial * normal_onset_time * good_tr_mask"
   ]
  },
  {
   "cell_type": "code",
   "execution_count": 14,
   "metadata": {
    "execution": {
     "iopub.execute_input": "2024-01-23T17:28:03.600157Z",
     "iopub.status.busy": "2024-01-23T17:28:03.600006Z",
     "iopub.status.idle": "2024-01-23T17:58:37.380764Z",
     "shell.execute_reply": "2024-01-23T17:58:37.379840Z",
     "shell.execute_reply.started": "2024-01-23T17:28:03.600144Z"
    },
    "tags": []
   },
   "outputs": [
    {
     "name": "stdout",
     "output_type": "stream",
     "text": [
      "reward\n",
      "66\n"
     ]
    },
    {
     "data": {
      "application/vnd.jupyter.widget-view+json": {
       "model_id": "a811457771694e40847184706907916e",
       "version_major": 2,
       "version_minor": 0
      },
      "text/plain": [
       "  0%|          | 0/300 [00:00<?, ?it/s]"
      ]
     },
     "metadata": {},
     "output_type": "display_data"
    },
    {
     "name": "stdout",
     "output_type": "stream",
     "text": [
      "reward\n",
      "66\n"
     ]
    },
    {
     "data": {
      "application/vnd.jupyter.widget-view+json": {
       "model_id": "7b724012bb2f41778923dab948bfb729",
       "version_major": 2,
       "version_minor": 0
      },
      "text/plain": [
       "  0%|          | 0/300 [00:00<?, ?it/s]"
      ]
     },
     "metadata": {},
     "output_type": "display_data"
    }
   ],
   "source": [
    "decoding_flag = 'contra'\n",
    "shuffle = False\n",
    "nbs = 300\n",
    "band_idx = -1\n",
    "\n",
    "y_pred_bs = []\n",
    "y_true_bs = []\n",
    "weights_bs = []\n",
    "\n",
    "z_single_win = z_data_win[:,[band_idx],:]\n",
    "print(f'{alignment_flag}')\n",
    "\n",
    "if decoding_flag == 'contra':\n",
    "    partial_target = [2,3,4]\n",
    "else:\n",
    "    partial_target = [6,7,8]\n",
    "\n",
    "# get minimum number of trials for each target in both contralateral and ipsilateral targets  \n",
    "contra_ipsi_target_mask = (target_idx == 2)|(target_idx == 3)|(target_idx == 4)|(target_idx == 6)|(target_idx == 7)|(target_idx == 8)\n",
    "contra_ipsi_cond_mask = trial_restrict_mask * contra_ipsi_target_mask\n",
    "min_trial = get_minimum_trials_per_target(target_idx[contra_ipsi_cond_mask], contra_ipsi_cond_mask[contra_ipsi_cond_mask])\n",
    "print(min_trial)\n",
    "\n",
    "# mask for conditioning trials\n",
    "lateral_mask = (target_idx == partial_target[0])|(target_idx == partial_target[1])|(target_idx == partial_target[2])\n",
    "cond_mask = trial_restrict_mask*lateral_mask\n",
    "\n",
    "for i_bs in tqdm(range(nbs)):\n",
    "    np.random.seed(i_bs)\n",
    "    \n",
    "    # Get trial label with replacement for bootstrapping\n",
    "    trial_mask = get_conditioned_trials_per_target(target_idx, cond_mask, min_trial, replacement=True, seed=i_bs)\n",
    "    \n",
    "    # Get data for LDA\n",
    "    data_win = z_single_win[trial_mask,:,:]\n",
    "    cond_label = target_idx[trial_mask]\n",
    "    if shuffle:\n",
    "        cond_label = np.random.permutation(cond_label)\n",
    "        \n",
    "    # Average score (spatial filtering)\n",
    "    y_pred, y_true, weights = classify_targ_lda2(data_win, cond_label, n_splits)\n",
    "    y_pred_bs.append(y_pred)\n",
    "    y_true_bs.append(y_true)\n",
    "    weights_bs.append(weights)\n",
    "    \n",
    "y_pred_bs = np.array(y_pred_bs, 'object')\n",
    "y_true_bs = np.array(y_true_bs, 'object')\n",
    "weights_bs = np.array(weights_bs, 'object')\n",
    "\n",
    "np.savez(f'/data/postprocessed/tomo/{subject}_decoding_{alignment_flag}_{decoding_flag}_numbs{nbs}_shuffle_{shuffle}_{band_name[band_idx]}', \\\n",
    "    y_pred_bs=y_pred_bs, y_true_bs=y_true_bs, weights_bs=weights_bs)\n",
    "\n",
    "#############################################################\n",
    "##### Ipsilateral decoding\n",
    "#############################################################\n",
    "\n",
    "decoding_flag = 'ipsi'\n",
    "y_pred_bs = []\n",
    "y_true_bs = []\n",
    "weights_bs = []\n",
    "print(f'{alignment_flag}')\n",
    "\n",
    "if decoding_flag == 'contra':\n",
    "    partial_target = [2,3,4]\n",
    "else:\n",
    "    partial_target = [6,7,8]\n",
    "\n",
    "# get minimum number of trials for each target in both contralateral and ipsilateral targets  \n",
    "contra_ipsi_target_mask = (target_idx == 2)|(target_idx == 3)|(target_idx == 4)|(target_idx == 6)|(target_idx == 7)|(target_idx == 8)\n",
    "contra_ipsi_cond_mask = trial_restrict_mask * contra_ipsi_target_mask\n",
    "min_trial = get_minimum_trials_per_target(target_idx[contra_ipsi_cond_mask], contra_ipsi_cond_mask[contra_ipsi_cond_mask])\n",
    "print(min_trial)\n",
    "\n",
    "# mask for conditioning trials\n",
    "lateral_mask = (target_idx == partial_target[0])|(target_idx == partial_target[1])|(target_idx == partial_target[2])\n",
    "cond_mask = trial_restrict_mask*lateral_mask\n",
    "\n",
    "for i_bs in tqdm(range(nbs)):\n",
    "    np.random.seed(i_bs)\n",
    "    \n",
    "    # Get trial label with replacement for bootstrapping\n",
    "    trial_mask = get_conditioned_trials_per_target(target_idx, cond_mask, min_trial, replacement=True, seed=i_bs)\n",
    "    \n",
    "    # Get data for LDA\n",
    "    data_win = z_single_win[trial_mask,:,:]\n",
    "    cond_label = target_idx[trial_mask]\n",
    "    if shuffle:\n",
    "        cond_label = np.random.permutation(cond_label)\n",
    "        \n",
    "    # Average score (spatial filtering)\n",
    "    y_pred, y_true, weights = classify_targ_lda2(data_win, cond_label, n_splits)\n",
    "    y_pred_bs.append(y_pred)\n",
    "    y_true_bs.append(y_true)\n",
    "    weights_bs.append(weights)\n",
    "    \n",
    "y_pred_bs = np.array(y_pred_bs, 'object')\n",
    "y_true_bs = np.array(y_true_bs, 'object')\n",
    "weights_bs = np.array(weights_bs, 'object')\n",
    "\n",
    "np.savez(f'/data/postprocessed/tomo/{subject}_decoding_{alignment_flag}_{decoding_flag}_numbs{nbs}_shuffle_{shuffle}_{band_name[band_idx]}', \\\n",
    "    y_pred_bs=y_pred_bs, y_true_bs=y_true_bs, weights_bs=weights_bs)"
   ]
  },
  {
   "cell_type": "code",
   "execution_count": 15,
   "metadata": {
    "execution": {
     "iopub.execute_input": "2024-01-23T17:58:37.382574Z",
     "iopub.status.busy": "2024-01-23T17:58:37.382199Z",
     "iopub.status.idle": "2024-01-23T18:14:36.856444Z",
     "shell.execute_reply": "2024-01-23T18:14:36.855633Z",
     "shell.execute_reply.started": "2024-01-23T17:58:37.382549Z"
    },
    "tags": []
   },
   "outputs": [
    {
     "data": {
      "application/vnd.jupyter.widget-view+json": {
       "model_id": "15bba07c09a04641bdb40330dcb1502b",
       "version_major": 2,
       "version_minor": 0
      },
      "text/plain": [
       "  0%|          | 0/300 [00:00<?, ?it/s]"
      ]
     },
     "metadata": {},
     "output_type": "display_data"
    },
    {
     "data": {
      "application/vnd.jupyter.widget-view+json": {
       "model_id": "2432e0805bff426d82f37ace32248d91",
       "version_major": 2,
       "version_minor": 0
      },
      "text/plain": [
       "  0%|          | 0/300 [00:00<?, ?it/s]"
      ]
     },
     "metadata": {},
     "output_type": "display_data"
    }
   ],
   "source": [
    "# Contralateral and ipsilateral accuracy\n",
    "nbs = 300\n",
    "alignment_list = ['movement','reward']\n",
    "nalignment = len(alignment_list)\n",
    "band_idx = -1\n",
    "\n",
    "accuracy_alignment = np.zeros((4, nalignment, nbs, nch))\n",
    "for idx, alignment_flag in enumerate(alignment_list):\n",
    "    loaded_data = np.load(f'/data/postprocessed/tomo/{subject}_decoding_{alignment_flag}_contra_numbs{nbs}_shuffle_False_{band_name[band_idx]}.npz',allow_pickle=True)\n",
    "    y_pred_bs_contra = loaded_data['y_pred_bs']\n",
    "    y_true_bs_contra = loaded_data['y_true_bs']\n",
    "\n",
    "    loaded_data = np.load(f'/data/postprocessed/tomo/{subject}_decoding_{alignment_flag}_contra_numbs{nbs}_shuffle_True_{band_name[band_idx]}.npz',allow_pickle=True)\n",
    "    y_pred_bs_contra_shuffle = loaded_data['y_pred_bs']\n",
    "    y_true_bs_contra_shuffle = loaded_data['y_true_bs']\n",
    "        \n",
    "    loaded_data = np.load(f'/data/postprocessed/tomo/{subject}_decoding_{alignment_flag}_ipsi_numbs{nbs}_shuffle_False_{band_name[band_idx]}.npz',allow_pickle=True)\n",
    "    y_pred_bs_ipsi = loaded_data['y_pred_bs']\n",
    "    y_true_bs_ipsi = loaded_data['y_true_bs']\n",
    "\n",
    "    loaded_data = np.load(f'/data/postprocessed/tomo/{subject}_decoding_{alignment_flag}_ipsi_numbs{nbs}_shuffle_True_{band_name[band_idx]}.npz',allow_pickle=True)\n",
    "    y_pred_bs_ipsi_shuffle = loaded_data['y_pred_bs']\n",
    "    y_true_bs_ipsi_shuffle = loaded_data['y_true_bs']\n",
    "        \n",
    "    for ibs in tqdm(range(nbs)):\n",
    "        for ich in range(nch):\n",
    "            \n",
    "            accuracy_fold_contra = []\n",
    "            accuracy_fold_ipsi = []\n",
    "            accuracy_fold_contra_shuffle = []\n",
    "            accuracy_fold_ipsi_shuffle = []\n",
    "            for ifold in range(n_splits):\n",
    "                accuracy_fold_contra.append(accuracy_score(y_true_bs_contra[ibs][ich][ifold], y_pred_bs_contra[ibs][ich][ifold]))\n",
    "                accuracy_fold_ipsi.append(accuracy_score(y_true_bs_ipsi[ibs][ich][ifold], y_pred_bs_ipsi[ibs][ich][ifold]))\n",
    "                accuracy_fold_contra_shuffle.append(accuracy_score(y_true_bs_contra_shuffle[ibs][ich][ifold], y_pred_bs_contra_shuffle[ibs][ich][ifold]))\n",
    "                accuracy_fold_ipsi_shuffle.append(accuracy_score(y_true_bs_ipsi_shuffle[ibs][ich][ifold], y_pred_bs_ipsi_shuffle[ibs][ich][ifold]))\n",
    "                \n",
    "            accuracy_alignment[0,idx,ibs,ich] = np.mean(accuracy_fold_contra)\n",
    "            accuracy_alignment[1,idx,ibs,ich] = np.mean(accuracy_fold_ipsi)\n",
    "            accuracy_alignment[2,idx,ibs,ich] = np.mean(accuracy_fold_contra_shuffle)\n",
    "            accuracy_alignment[3,idx,ibs,ich] = np.mean(accuracy_fold_ipsi_shuffle)"
   ]
  },
  {
   "cell_type": "code",
   "execution_count": 16,
   "metadata": {
    "execution": {
     "iopub.execute_input": "2024-01-23T18:14:36.858393Z",
     "iopub.status.busy": "2024-01-23T18:14:36.858068Z",
     "iopub.status.idle": "2024-01-23T18:14:37.105260Z",
     "shell.execute_reply": "2024-01-23T18:14:37.104634Z",
     "shell.execute_reply.started": "2024-01-23T18:14:36.858370Z"
    },
    "tags": []
   },
   "outputs": [
    {
     "name": "stdout",
     "output_type": "stream",
     "text": [
      "(2, 238)\n"
     ]
    }
   ],
   "source": [
    "alpha = 0.95\n",
    "dist = aopy.utils.calc_euclid_dist_mat(elec_pos)\n",
    "xy = [elec_pos[:,0], elec_pos[:,1]]\n",
    "m_accuracy_bs = np.mean(accuracy_alignment,axis=2) # mean across bootstrapping samples\n",
    "\n",
    "# Compute significance\n",
    "not_significant_contra = np.zeros((nalignment,nch),dtype='bool')\n",
    "for idx in range(nalignment):\n",
    "    confidence_contra = []\n",
    "    for ich in range(nch):\n",
    "        count, bins_count = np.histogram(accuracy_alignment[2,idx,:,ich], bins=50)\n",
    "        bin_edge = bins_count[1:] - np.diff(bins_count)[0]\n",
    "        pdf = count / sum(count)\n",
    "        cdf = np.cumsum(pdf)\n",
    "        confidence_contra.append(bin_edge[np.where(cdf<alpha)[0][-1]])\n",
    "    confidence_contra = np.array(confidence_contra) # nch array\n",
    "    not_significant_contra[idx,:] = confidence_contra > m_accuracy_bs[0,idx,:]\n",
    "\n",
    "not_significant_ipsi = np.zeros((nalignment,nch),dtype='bool')\n",
    "for idx in range(nalignment):\n",
    "    confidence_ipsi = []\n",
    "    for ich in range(nch):\n",
    "        count, bins_count = np.histogram(accuracy_alignment[3,idx,:,ich], bins=50)\n",
    "        bin_edge = bins_count[1:] - np.diff(bins_count)[0]\n",
    "        pdf = count / sum(count)\n",
    "        cdf = np.cumsum(pdf)\n",
    "        confidence_ipsi.append(bin_edge[np.where(cdf<alpha)[0][-1]])\n",
    "    confidence_ipsi = np.array(confidence_ipsi) # nch array\n",
    "    not_significant_ipsi[idx,:] = confidence_ipsi > m_accuracy_bs[1,idx,:]\n",
    "    \n",
    "not_significant = not_significant_contra# + not_significant_ipsi\n",
    "print(not_significant.shape)\n",
    "\n",
    "# TODO add another criteria to remove channels"
   ]
  },
  {
   "cell_type": "code",
   "execution_count": 17,
   "metadata": {
    "execution": {
     "iopub.execute_input": "2024-01-23T18:14:37.106348Z",
     "iopub.status.busy": "2024-01-23T18:14:37.106132Z",
     "iopub.status.idle": "2024-01-23T18:14:37.478933Z",
     "shell.execute_reply": "2024-01-23T18:14:37.478308Z",
     "shell.execute_reply.started": "2024-01-23T18:14:37.106325Z"
    },
    "tags": []
   },
   "outputs": [
    {
     "name": "stderr",
     "output_type": "stream",
     "text": [
      "/home/aolab/miniconda3/envs/np_targeting/lib/python3.9/site-packages/IPython/core/events.py:93: UserWarning: This figure includes Axes that are not compatible with tight_layout, so results might be incorrect.\n",
      "  func(*args, **kwargs)\n",
      "/home/aolab/miniconda3/envs/np_targeting/lib/python3.9/site-packages/IPython/core/pylabtools.py:152: UserWarning: This figure includes Axes that are not compatible with tight_layout, so results might be incorrect.\n",
      "  fig.canvas.print_figure(bytes_io, **kw)\n"
     ]
    },
    {
     "data": {
      "image/png": "[encoded data removed]",
      "text/plain": [
       "<Figure size 1200x400 with 3 Axes>"
      ]
     },
     "metadata": {},
     "output_type": "display_data"
    }
   ],
   "source": [
    "ipsi_idx = 0\n",
    "dist = aopy.utils.calc_euclid_dist_mat(elec_pos)\n",
    "xy = [elec_pos[:,0], elec_pos[:,1]]\n",
    "m_accuracy_bs = np.mean(accuracy_alignment[ipsi_idx,:,:,:],axis=1) # mean across bootstrapping samples\n",
    "\n",
    "# Compute significance\n",
    "# not_significant_ch = np.zeros((nalignment,nch),dtype='bool')\n",
    "# for idx in range(nalignment):\n",
    "#     significance = []\n",
    "#     for ich in range(nch):\n",
    "#         count, bins_count = np.histogram(accuracy_alignment[ipsi_idx,idx,:,ich], bins=50)\n",
    "#         bin_edge = bins_count[1:] - np.diff(bins_count)[0]\n",
    "#         pdf = count / sum(count)\n",
    "#         cdf = np.cumsum(pdf)\n",
    "#         significance.append(bin_edge[np.where(cdf<0.05)[0][-1]])\n",
    "#     significance = np.array(significance) # nch array\n",
    "#     not_significant_ch[idx,:]  = 1/3 > significance\n",
    "#     m_accuracy_bs[idx,not_significant_ch[idx,:]] = np.nan\n",
    "\n",
    "m_accuracy_ch = np.zeros((nalignment,nch))\n",
    "for ich in range(dist.shape[0]):\n",
    "    ave_idx = (dist[:,ich] <= 1.3)#0.75, 1.3\n",
    "    m_accuracy_ch[:,ich] = np.nanmean(m_accuracy_bs[:,ave_idx],axis=1)   \n",
    "\n",
    "fig,ax=plt.subplots(ncols=nalignment,figsize=(12,4),tight_layout=True)\n",
    "for idx in range(nalignment):\n",
    "    m_accuracy_ch[idx,not_significant_contra[idx,:]] = np.nan\n",
    "    da_map = aopy.visualization.get_data_map(m_accuracy_ch[idx,:],xy[0],xy[1])\n",
    "    da_map[0,0],da_map[0,1],da_map[1,0],da_map[0,-1],da_map[0,-2],da_map[1,-1] = np.nan,np.nan,np.nan,np.nan,np.nan,np.nan\n",
    "    da_map[-1,0],da_map[-1,1],da_map[-2,0],da_map[-1,-1],da_map[-1,-2],da_map[-2,-1] = np.nan,np.nan,np.nan,np.nan,np.nan,np.nan\n",
    "    im = aopy.visualization.plot_spatial_map(da_map, xy[0], xy[1], ax=ax[idx], cmap='Blues')\n",
    "    im.norm.vmin = 1/3\n",
    "    im.norm.vmax = np.nanmax(m_accuracy_ch)\n",
    "\n",
    "    #ax[ii].set(title=f'{center_list[ii]*1000} ms',xlabel='',ylabel='',xticks=[],xticklabels=[],yticks=[],yticklabels=[])\n",
    "    ax[idx].set(xlabel='',ylabel='',xticks=[],xticklabels=[],yticks=[],yticklabels=[])\n",
    "\n",
    "\n",
    "fig.subplots_adjust(right=0.9)\n",
    "cbar_ax = fig.add_axes([1., 0.15, 0.011, 0.7])\n",
    "cbar = fig.colorbar(im, cax=cbar_ax, orientation='vertical',fraction=0.046, pad=0.04)\n",
    "#fig.colorbar(im, cax=cbar_ax)\n",
    "\n",
    "fig.show()"
   ]
  },
  {
   "cell_type": "code",
   "execution_count": 18,
   "metadata": {
    "execution": {
     "iopub.execute_input": "2024-01-23T18:14:37.480053Z",
     "iopub.status.busy": "2024-01-23T18:14:37.479828Z",
     "iopub.status.idle": "2024-01-23T18:14:38.044844Z",
     "shell.execute_reply": "2024-01-23T18:14:38.044170Z",
     "shell.execute_reply.started": "2024-01-23T18:14:37.480032Z"
    },
    "tags": []
   },
   "outputs": [
    {
     "name": "stdout",
     "output_type": "stream",
     "text": [
      "(2, 238)\n"
     ]
    },
    {
     "name": "stderr",
     "output_type": "stream",
     "text": [
      "/home/aolab/miniconda3/envs/np_targeting/lib/python3.9/site-packages/IPython/core/events.py:93: UserWarning: This figure includes Axes that are not compatible with tight_layout, so results might be incorrect.\n",
      "  func(*args, **kwargs)\n",
      "/home/aolab/miniconda3/envs/np_targeting/lib/python3.9/site-packages/IPython/core/pylabtools.py:152: UserWarning: This figure includes Axes that are not compatible with tight_layout, so results might be incorrect.\n",
      "  fig.canvas.print_figure(bytes_io, **kw)\n"
     ]
    },
    {
     "data": {
      "image/png": "[encoded data removed]",
      "text/plain": [
       "<Figure size 1200x400 with 3 Axes>"
      ]
     },
     "metadata": {},
     "output_type": "display_data"
    }
   ],
   "source": [
    "#accuracy_alignment[0,idx,ibs,ich] = np.mean(accuracy_fold_contra)\n",
    "#accuracy_alignment[1,idx,ibs,ich] = np.mean(accuracy_fold_ipsi)\n",
    "\n",
    "lateral_idx_bs = (accuracy_alignment[0,:,:,:] - accuracy_alignment[1,:,:,:])/(accuracy_alignment[0,:,:,:] + accuracy_alignment[1,:,:,:])\n",
    "lateral_idx = np.mean(lateral_idx_bs,axis=1)\n",
    "\n",
    "not_significant_diff = np.zeros((nalignment,nch),dtype=bool)\n",
    "for idx in range(nalignment):\n",
    "    for ich in range(nch):  \n",
    "        _, p = stats.ranksums(accuracy_alignment[0,idx,:,ich],accuracy_alignment[1,idx,:,ich])\n",
    "        not_significant_diff[idx,ich] = p > 0.01\n",
    "        \n",
    "print(lateral_idx.shape)\n",
    "m_lateral_idx = np.zeros(lateral_idx.shape)\n",
    "for ich in range(dist.shape[0]):\n",
    "    ave_idx = (dist[:,ich] <= 1.3)#0.75, 1.3\n",
    "    m_lateral_idx[:,ich] = np.nanmean(lateral_idx[:,ave_idx],axis=1)\n",
    "    \n",
    "fig,ax=plt.subplots(ncols=nalignment,figsize=(12,4),tight_layout=True)\n",
    "for idx in range(nalignment):\n",
    "    #m_lateral_idx[idx,not_significant_contra[idx,:]] = np.nan\n",
    "    m_lateral_idx[idx,not_significant_diff[idx,:]] = np.nan\n",
    "    da_map = aopy.visualization.get_data_map(m_lateral_idx[idx,:],xy[0],xy[1])\n",
    "    da_map[0,0],da_map[0,1],da_map[1,0],da_map[0,-1],da_map[0,-2],da_map[1,-1] = np.nan,np.nan,np.nan,np.nan,np.nan,np.nan\n",
    "    da_map[-1,0],da_map[-1,1],da_map[-2,0],da_map[-1,-1],da_map[-1,-2],da_map[-2,-1] = np.nan,np.nan,np.nan,np.nan,np.nan,np.nan\n",
    "    im = aopy.visualization.plot_spatial_map(da_map, xy[0], xy[1], ax=ax[idx], cmap='bwr')\n",
    "    im.norm.vmin = -np.nanmax(m_lateral_idx)\n",
    "    im.norm.vmax = np.nanmax(m_lateral_idx)\n",
    "    ax[idx].set(xlabel='',ylabel='',xticks=[],xticklabels=[],yticks=[],yticklabels=[])\n",
    "    \n",
    "fig.subplots_adjust(right=0.9)\n",
    "cbar_ax = fig.add_axes([1., 0.15, 0.011, 0.7])\n",
    "cbar = fig.colorbar(im, cax=cbar_ax, orientation='vertical',fraction=0.046, pad=0.04)"
   ]
  },
  {
   "cell_type": "markdown",
   "metadata": {},
   "source": [
    "# Calculate linear regression"
   ]
  },
  {
   "cell_type": "code",
   "execution_count": 170,
   "metadata": {
    "execution": {
     "iopub.execute_input": "2024-02-04T05:44:01.389914Z",
     "iopub.status.busy": "2024-02-04T05:44:01.389766Z",
     "iopub.status.idle": "2024-02-04T05:44:01.410563Z",
     "shell.execute_reply": "2024-02-04T05:44:01.409814Z",
     "shell.execute_reply.started": "2024-02-04T05:44:01.389901Z"
    },
    "tags": []
   },
   "outputs": [],
   "source": [
    "def calc_task_rel_dims(neural_data, kin_data, conc_proj_data=False, regularization=None, alpha=1):\n",
    "    '''\n",
    "    Calculates the task relevant dimensions by regressing neural activity against kinematic data using least squares.\n",
    "    If the input neural data is 3D, all trials will be concatenated to calculate the subspace. \n",
    "    Calculation is based on the approach used in Sun et al. 2022 https://doi.org/10.1038/s41586-021-04329-x\n",
    "    \n",
    "    .. math::\n",
    "    \n",
    "        R \\\\in \\\\mathbb{R}^{nt \\\\times nch}\n",
    "        M \\\\in \\\\mathbb{R}^{nt \\\\times nkin}\n",
    "        \\\\beta \\\\in \\\\mathbb{R}^{nch \\\\times nkin}\n",
    "        R = M\\\\beta^T\n",
    "        [\\\\beta_0 \\beta_x \\beta_y]^T = (M^T M)^{-1} M^T R\n",
    "\n",
    "    Args:\n",
    "        neural_data ((nt, nch) or list of (nt, nch)): Input neural data (:math:`R`) to regress against kinematic activity.\n",
    "        kin_data ((nt, ndim) or list of (nt, ndim)): Kinematic variables (:math:`M`), commonly position or instantaneous velocity. 'ndims' refers to the number of physical dimensions that define the kinematic data (i.e. X and Y)\n",
    "        conc_proj_data (bool): If the projected neural data should be concatenated.\n",
    "\n",
    "    Returns:\n",
    "        tuple: Tuple containing:\n",
    "            | **(nch, ndim):** Subspace (:math:`\\beta`) that best predicts kinematic variables. Note the first column represents the intercept, then the next dimensions represent the behvaioral variables\n",
    "            | **((nt, nch) or list of (nt, ndim)):** Neural data projected onto task relevant subspace\n",
    "\n",
    "    '''\n",
    "\n",
    "    # If a list of segments from trials, concatenate them into one larget timeseries\n",
    "    if type(neural_data) == list:\n",
    "        ntrials = len(neural_data)\n",
    "        min_time_per_trial = [np.min([len(neural_data[itrial]), len(kin_data[itrial])]) for itrial in range(ntrials)]\n",
    "        \n",
    "        conc_neural_data = np.vstack([neural_data[itrial][:min_time_per_trial[itrial]] for itrial in range(ntrials)]) #(nt, nch)\n",
    "        conc_kin_data_baseline = np.vstack([kin_data[itrial][:min_time_per_trial[itrial]] for itrial in range(ntrials)])\n",
    "        if conc_neural_data.shape[0] != conc_kin_data_baseline.shape[0]:\n",
    "            print(f\"Neural and kinematic data sizes are {np.abs(conc_neural_data.shape[0]-conc_kin_data_baseline.shape[0])} samples apart\")\n",
    "        \n",
    "        ntime = np.min([conc_neural_data.shape[0], conc_kin_data_baseline.shape[0]])\n",
    "        \n",
    "        # Set input neural data as a float\n",
    "        conc_neural_data = conc_neural_data.astype(float)[:ntime,:]\n",
    "\n",
    "        conc_kin_data = np.ones((ntime,kin_data[0].shape[1]+1))*np.nan\n",
    "        conc_kin_data[:,0] = 1\n",
    "        conc_kin_data[:,1:] = conc_kin_data_baseline\n",
    "\n",
    "        # Center neural data:\n",
    "        conc_neural_data -= np.nanmean(conc_neural_data, axis=0)\n",
    "\n",
    "        # Calculate task relevant subspace \n",
    "        # task_subspace = np.linalg.pinv(conc_kin_data.T @ conc_kin_data) @ conc_kin_data.T @ conc_neural_data\n",
    "        if regularization is None:        \n",
    "            # task_subspace = np.linalg.pinv(conc_neural_data.T @ conc_neural_data) @ conc_neural_data.T @ conc_kin_data\n",
    "            lin_reg_model = sklearn.linear_model.LinearRegression(fit_intercept=False).fit(conc_neural_data, conc_kin_data)\n",
    "            task_subspace = (lin_reg_model.coef_).T\n",
    "        elif regularization == 'lasso':\n",
    "            lasso_model = sklearn.linear_model.Lasso(alpha=alpha, max_iter=10000).fit(conc_neural_data, conc_kin_data)\n",
    "            task_subspace = (lasso_model.coef_).T\n",
    "        elif regularization == 'ridge':\n",
    "            ridge_model = sklearn.linear_model.Ridge(alpha=alpha, max_iter=10000).fit(conc_neural_data, conc_kin_data)\n",
    "            task_subspace = (ridge_model.coef_).T\n",
    "        elif regularization == 'elastic net':\n",
    "            elasticnet_model = sklearn.linear_model.ElasticNet(alpha=alpha, max_iter=10000).fit(conc_neural_data, conc_kin_data)\n",
    "            task_subspace = (elasticnet_model.coef_).T\n",
    "    \n",
    "    else:\n",
    "        # Save original neural data as a list\n",
    "        neural_data = [neural_data]\n",
    "        \n",
    "        # Set input neural data as a float\n",
    "        neural_data_centered = neural_data[0].astype(float)\n",
    "        \n",
    "        # Center neural data:\n",
    "        neural_data_centered -= np.nanmean(neural_data_centered, axis=0)\n",
    "        ntime = neural_data_centered.shape[0]\n",
    "        conc_kin_data = np.ones((ntime, kin_data.shape[1]+1))*np.nan\n",
    "        conc_kin_data[:,0] = 1\n",
    "        conc_kin_data[:,1:] = kin_data\n",
    "        \n",
    "        # Calculate task relevant subspace \n",
    "        if regularization is None:\n",
    "            task_subspace = np.linalg.pinv(neural_data_centered.T @ neural_data_centered) @ neural_data_centered.T @ conc_kin_data\n",
    "        elif regularization == 'lasso':\n",
    "            lasso_model = sklearn.linear_model.Lasso(alpha=alpha, max_iter=10000).fit(neural_data_centered, conc_kin_data)\n",
    "            task_subspace = (lasso_model.coef_).T\n",
    "        elif regularization == 'ridge':\n",
    "            ridge_model = sklearn.linear_model.Ridge(alpha=alpha, max_iter=10000).fit(neural_data_centered, conc_kin_data)\n",
    "            task_subspace = (ridge_model.coef_).T\n",
    "        elif regularization == 'elastic net':\n",
    "            elasticnet_model = sklearn.linear_model.ElasticNet(alpha=alpha, max_iter=10000).fit(neural_data_centered, conc_kin_data)\n",
    "            task_subspace = (elasticnet_model.coef_).T\n",
    "        ntrials = 1\n",
    "        \n",
    "    # Project neural data onto task subspace\n",
    "    projected_data = []\n",
    "    \n",
    "    for itrial in range(ntrials):\n",
    "        projected_data.append(neural_data[itrial] @ task_subspace)\n",
    "\n",
    "    if conc_proj_data:\n",
    "        return task_subspace, np.vstack(projected_data)\n",
    "    else:    \n",
    "        return task_subspace, projected_data\n",
    "    \n",
    "def xval_task_rel_dims(neural_data, kin_data, labels=None, regularization=None, nfolds=4, alpha=1, smooth_neural_data=True, tavg_neural_data=False, return_test_label_idx=False):\n",
    "    '''\n",
    "    '''    \n",
    "    test_pred_move = []\n",
    "    test_move = []\n",
    "    test_label_idx = []\n",
    "    scores = np.zeros((nfolds,2))*np.nan # Score for each fold and separately for x and y\n",
    "    if isinstance(neural_data, np.ndarray):\n",
    "        ntrials = neural_data.shape[1]\n",
    "        nunits = neural_data.shape[2]\n",
    "        nkindim = kin_data.shape[2]\n",
    "    else:\n",
    "        ntrials = len(neural_data)\n",
    "        nunits = neural_data[0].shape[1]\n",
    "        nkindim = kin_data[0].shape[1]\n",
    "    kf = sklearn.model_selection.KFold(n_splits=nfolds,shuffle=True,random_state=1)\n",
    "    \n",
    "    subspaces = np.zeros((nunits, nkindim, nfolds))*np.nan\n",
    "    \n",
    "    for ifold, (train_idx, test_idx) in enumerate(kf.split(np.ones((ntrials,ntrials)))):\n",
    "        if tavg_neural_data:\n",
    "            train_neural_data = avg_by_condition(neural_data[:,train_idx,:], labels[train_idx])\n",
    "            test_neural_data = np.mean(neural_data[:,test_idx,:], axis=0)\n",
    "            train_kin_data = avg_by_condition(kin_data[:,train_idx,:], labels[train_idx])\n",
    "            test_kin_data = np.mean(kin_data[:,test_idx,:], axis=0)\n",
    "            \n",
    "            # Center test neural data\n",
    "            # test_neural_data -= np.mean(test_neural_data, axis=1)[:,None]\n",
    "            test_neural_data -= np.mean(test_neural_data, axis=0)\n",
    "                                          \n",
    "        else:\n",
    "            # Train\n",
    "            train_neural_data = [smooth_timeseries_gaus(neural_data[itrain_idx], samplerate=100, width=250, nstd=3) for itrain_idx in train_idx]\n",
    "            test_neural_data = np.vstack([smooth_timeseries_gaus(neural_data[itest_idx], samplerate=100, width=250, nstd=3) for itest_idx in test_idx])\n",
    "            train_kin_data = [kin_data[itrain_idx] for itrain_idx in train_idx]\n",
    "            test_kin_data = [kin_data[itest_idx] for itest_idx in test_idx]\n",
    "\n",
    "            # Center test neural data\n",
    "            test_neural_data -= np.nanmean(test_neural_data, axis=0)\n",
    "            \n",
    "        # print(np.vstack(train_neural_data).shape, np.vstack(train_kin_data).shape)\n",
    "        train_subspace,_  = calc_task_rel_dims(train_neural_data, train_kin_data, conc_proj_data=False, regularization=regularization, alpha=alpha)\n",
    "    \n",
    "        # Test\n",
    "        pred_move = test_neural_data @ train_subspace\n",
    "        # pred_move = np.linalg.pinv(train_subspace) @ test_neural_data.T\n",
    "        \n",
    "        ntime = np.min([np.vstack(test_kin_data)[:,0].shape[0], pred_move.shape[0]])\n",
    "        # print(test_kin_data.shape, np.vstack(test_kin_data).shape)\n",
    "        # Score\n",
    "        scores[ifold,0] = sklearn.metrics.r2_score(np.vstack(test_kin_data)[:ntime,0], pred_move[:ntime,1]) # Score x component\n",
    "        scores[ifold,1] = sklearn.metrics.r2_score(np.vstack(test_kin_data)[:ntime,1], pred_move[:ntime,2]) # Score y component\n",
    "        \n",
    "        # Record results\n",
    "        if return_test_label_idx:\n",
    "            test_label_idx.append(labels[test_idx])\n",
    "        test_pred_move.append(pred_move)\n",
    "        if tavg_neural_data:\n",
    "            test_move.append(test_kin_data)\n",
    "        else:\n",
    "            test_move.append(np.vstack(test_kin_data))\n",
    "        subspaces[:,:,ifold] = train_subspace[:,1:] # first subspace is the intercept\n",
    "        \n",
    "        \n",
    "    if return_test_label_idx:\n",
    "        return scores, test_move, test_pred_move, subspaces, test_label_idx\n",
    "    else:\n",
    "        return scores, test_move, test_pred_move, subspaces\n",
    "    \n",
    "def get_cursor_leave_center_idx(data, target_radius):\n",
    "    '''\n",
    "    Compute the time when the cursor leaves the center target radius\n",
    "    \n",
    "    Args:\n",
    "        traj (ntrials list of (nt,2)): x,y trajectory data\n",
    "        target_radius (float): the radius of the center target\n",
    "        \n",
    "    Returns:\n",
    "        cursor_leave_center_time (ntrials list): the time when the cursor leaves the center target radius\n",
    "    '''\n",
    "    ntr = len(data)\n",
    "    cursor_leave_center_time = []\n",
    "    leave_idx = []\n",
    "    for itr in range(ntr):\n",
    "        dist = np.sqrt(data[itr][:,0]**2 + data[itr][:,1]**2)\n",
    "        leave_idx.append(np.where(dist>target_radius)[0][0])\n",
    "    \n",
    "    return leave_idx\n",
    "\n",
    "def avg_by_condition(data, cond_labels):\n",
    "    '''\n",
    "    args:\n",
    "        data (ntime, ntrials, nch)\n",
    "        labels (ntrials)\n",
    "        \n",
    "    returns\n",
    "        (ncond, nch)\n",
    "    '''\n",
    "    ntime, ntrials, nch = data.shape\n",
    "    unique_labels = np.unique(cond_labels)\n",
    "    avg_data = np.zeros((len(unique_labels), nch))*np.nan\n",
    "    for ilabel, label in enumerate(unique_labels):       \n",
    "        avg_data[ilabel,:] = np.mean(data[:,cond_labels==label,:],axis=(0,1))\n",
    "        \n",
    "    return avg_data"
   ]
  },
  {
   "cell_type": "code",
   "execution_count": 171,
   "metadata": {
    "execution": {
     "iopub.execute_input": "2024-02-04T05:44:01.411858Z",
     "iopub.status.busy": "2024-02-04T05:44:01.411716Z",
     "iopub.status.idle": "2024-02-04T05:44:03.593262Z",
     "shell.execute_reply": "2024-02-04T05:44:03.592476Z",
     "shell.execute_reply.started": "2024-02-04T05:44:01.411846Z"
    },
    "tags": []
   },
   "outputs": [
    {
     "name": "stderr",
     "output_type": "stream",
     "text": [
      "/home/aolab/projects/Neuropixel_targeting/analyze/aopy/data/base.py:537: UserWarning: Requested acquisition channels [  3   8  38  51  67  72 102 115 131 136 166 179 195 200 230 243] are not connected\n",
      "  warnings.warn(warning_str)\n",
      "/home/aolab/projects/Neuropixel_targeting/analyze/aopy/data/base.py:609: FutureWarning: Calling float on a single element Series is deprecated and will raise a TypeError in the future. Use float(ser.iloc[0]) instead\n",
      "  acq_ch_position[ielec,0] = eleclayout_table[xpos_name][eleclayout_table['electrode']==elecid]\n",
      "/home/aolab/projects/Neuropixel_targeting/analyze/aopy/data/base.py:610: FutureWarning: Calling float on a single element Series is deprecated and will raise a TypeError in the future. Use float(ser.iloc[0]) instead\n",
      "  acq_ch_position[ielec,1] = eleclayout_table[ypos_name][eleclayout_table['electrode']==elecid]\n"
     ]
    }
   ],
   "source": [
    "import pandas as pds\n",
    "ecog_signal_path = \"/home/aolab/gdrive/Lab equipment/electrophysiology/210910_ecog_signal_path.xlsx\"\n",
    "elec_to_pos = \"/home/aolab/gdrive/Lab equipment/electrophysiology/our signal path definitions/244ch_viventi_ecog_elec_to_pos.xlsx\"\n",
    "ecog_signal_path_db = pds.read_excel(ecog_signal_path)\n",
    "ecog_layout = pds.read_excel(elec_to_pos)\n",
    "elec_channels = np.array(list(range(1,257)), dtype='int')\n",
    "elec_pos, acq_ch, elecs = aopy.data.map_acq2pos(ecog_signal_path_db, ecog_layout, elec_channels)"
   ]
  },
  {
   "cell_type": "code",
   "execution_count": 173,
   "metadata": {
    "execution": {
     "iopub.execute_input": "2024-02-04T05:44:52.943762Z",
     "iopub.status.busy": "2024-02-04T05:44:52.942431Z",
     "iopub.status.idle": "2024-02-04T05:44:53.065383Z",
     "shell.execute_reply": "2024-02-04T05:44:53.064121Z",
     "shell.execute_reply.started": "2024-02-04T05:44:52.943694Z"
    },
    "tags": []
   },
   "outputs": [],
   "source": [
    "# Convert position trajectories into velocities\n",
    "cursor_traj_velo = [np.array([aopy.utils.derivative(np.arange(len(t))/FS, t[:,0]), aopy.utils.derivative(np.arange(len(t))/FS, t[:,1])]).T for t in cursor_traj]\n",
    "cursor_leave_idx = get_cursor_leave_center_idx(cursor_traj, metadata['target_radius'])\n",
    "npts = int((time_before + time_after)*FS)\n",
    "cursor_traj_mov_on = np.array([cursor_traj_velo[itr][cursor_leave_idx[itr]:(cursor_leave_idx[itr]+npts)] for itr in range(ntr)])\n",
    "# cursor_traj_mov_on = np.array([cursor_traj[itr][cursor_leave_idx[itr]:(cursor_leave_idx[itr]+npts)] for itr in range(ntr)])"
   ]
  },
  {
   "cell_type": "markdown",
   "metadata": {},
   "source": [
    "## Calculate maps for broadband timeseries"
   ]
  },
  {
   "cell_type": "code",
   "execution_count": 174,
   "metadata": {
    "execution": {
     "iopub.execute_input": "2024-02-04T05:44:53.822523Z",
     "iopub.status.busy": "2024-02-04T05:44:53.821951Z",
     "iopub.status.idle": "2024-02-04T05:44:56.158858Z",
     "shell.execute_reply": "2024-02-04T05:44:56.157838Z",
     "shell.execute_reply.started": "2024-02-04T05:44:53.822473Z"
    },
    "tags": []
   },
   "outputs": [],
   "source": [
    "import sklearn\n",
    "scores, test_move, test_pred_move, subspaces, test_label_idx = xval_task_rel_dims(np.swapaxes(trial_align_data,0,1), np.swapaxes(cursor_traj_mov_on,0,1), labels=target_idx, regularization=None, nfolds=5, alpha=1, smooth_neural_data=False, tavg_neural_data=True, return_test_label_idx=True)"
   ]
  },
  {
   "cell_type": "code",
   "execution_count": 175,
   "metadata": {
    "execution": {
     "iopub.execute_input": "2024-02-04T05:44:56.160503Z",
     "iopub.status.busy": "2024-02-04T05:44:56.160263Z",
     "iopub.status.idle": "2024-02-04T05:44:56.167450Z",
     "shell.execute_reply": "2024-02-04T05:44:56.166566Z",
     "shell.execute_reply.started": "2024-02-04T05:44:56.160480Z"
    },
    "tags": []
   },
   "outputs": [
    {
     "name": "stdout",
     "output_type": "stream",
     "text": [
      "(238, 5)\n"
     ]
    }
   ],
   "source": [
    "print(subspaces[:,1,:].shape)\n",
    "trdx = np.mean(subspaces[:,0,:], axis=1)\n",
    "trdy = np.mean(subspaces[:,1,:], axis=1)\n",
    "# trd_all  = np.abs(trdx)+np.abs(trdy)\n",
    "trd_all  = np.sqrt(trdx**2+trdy**2)"
   ]
  },
  {
   "cell_type": "code",
   "execution_count": 176,
   "metadata": {
    "execution": {
     "iopub.execute_input": "2024-02-04T05:44:56.168485Z",
     "iopub.status.busy": "2024-02-04T05:44:56.168276Z",
     "iopub.status.idle": "2024-02-04T05:44:56.559072Z",
     "shell.execute_reply": "2024-02-04T05:44:56.557837Z",
     "shell.execute_reply.started": "2024-02-04T05:44:56.168465Z"
    },
    "tags": []
   },
   "outputs": [
    {
     "data": {
      "image/png": "[encoded data removed]",
      "text/plain": [
       "<Figure size 1200x300 with 6 Axes>"
      ]
     },
     "metadata": {},
     "output_type": "display_data"
    }
   ],
   "source": [
    "fig, ax = plt.subplots(1,3, figsize=(12,3))\n",
    "data_map = aopy.visualization.get_data_map(trd_all, elec_pos[:,0], elec_pos[:,1])\n",
    "im = aopy.visualization.plot_spatial_map(data_map, elec_pos[:,0], elec_pos[:,1], cmap='YlGnBu', ax=ax[0])\n",
    "# im.set_clim(-15, 10)\n",
    "cb = plt.colorbar(im)\n",
    "ax[0].set_title('Contribution to all')\n",
    "\n",
    "data_map = aopy.visualization.get_data_map(trdx, elec_pos[:,0], elec_pos[:,1])\n",
    "im = aopy.visualization.plot_spatial_map(data_map, elec_pos[:,0], elec_pos[:,1], cmap='YlGnBu', ax=ax[1])\n",
    "# im.set_clim(-15, 10)\n",
    "cb = plt.colorbar(im)\n",
    "ax[1].set_title('Contribution to X')\n",
    "\n",
    "data_map = aopy.visualization.get_data_map(trdy, elec_pos[:,0], elec_pos[:,1])\n",
    "im = aopy.visualization.plot_spatial_map(data_map, elec_pos[:,0], elec_pos[:,1], cmap='YlGnBu', ax=ax[2])\n",
    "# im.set_clim(-15, 10)\n",
    "cb = plt.colorbar(im)\n",
    "ax[2].set_title('Contribution to Y')\n",
    "\n",
    "fig.tight_layout()\n",
    "plt.suptitle('Broadband timeseries')\n",
    "plt.show()"
   ]
  },
  {
   "cell_type": "markdown",
   "metadata": {},
   "source": [
    "## Calculate maps for delta power"
   ]
  },
  {
   "cell_type": "code",
   "execution_count": 177,
   "metadata": {
    "execution": {
     "iopub.execute_input": "2024-02-04T05:45:05.784203Z",
     "iopub.status.busy": "2024-02-04T05:45:05.783603Z",
     "iopub.status.idle": "2024-02-04T05:45:05.790325Z",
     "shell.execute_reply": "2024-02-04T05:45:05.788878Z",
     "shell.execute_reply.started": "2024-02-04T05:45:05.784152Z"
    },
    "tags": []
   },
   "outputs": [],
   "source": [
    "# bands = [(0.1,4),(4,8),(8,14),(14,30),(30,80),(80,150)]\n",
    "# nband = len(bands)\n",
    "# band_name = ['delta','theta','alpha','beta','gamma','hgamma']"
   ]
  },
  {
   "cell_type": "code",
   "execution_count": 178,
   "metadata": {
    "execution": {
     "iopub.execute_input": "2024-02-04T05:45:05.968211Z",
     "iopub.status.busy": "2024-02-04T05:45:05.967651Z",
     "iopub.status.idle": "2024-02-04T05:45:05.988867Z",
     "shell.execute_reply": "2024-02-04T05:45:05.987058Z",
     "shell.execute_reply.started": "2024-02-04T05:45:05.968162Z"
    },
    "tags": []
   },
   "outputs": [
    {
     "name": "stdout",
     "output_type": "stream",
     "text": [
      "176 220 0.2599999999999998 0.7000000000000002\n"
     ]
    }
   ],
   "source": [
    "offset = .25\n",
    "start_idx = np.where(t_spec>offset)[0][0]\n",
    "stop_idx = np.where(t_spec>(offset+time_after))[0][0]\n",
    "print(start_idx, stop_idx, t_spec[start_idx], t_spec[stop_idx])\n",
    "deltapower = np.swapaxes(spec_band[:,0,start_idx:stop_idx,:], 0,1)"
   ]
  },
  {
   "cell_type": "code",
   "execution_count": 179,
   "metadata": {
    "execution": {
     "iopub.execute_input": "2024-02-04T05:45:06.193930Z",
     "iopub.status.busy": "2024-02-04T05:45:06.193366Z",
     "iopub.status.idle": "2024-02-04T05:45:06.501221Z",
     "shell.execute_reply": "2024-02-04T05:45:06.500383Z",
     "shell.execute_reply.started": "2024-02-04T05:45:06.193880Z"
    },
    "tags": []
   },
   "outputs": [],
   "source": [
    "import sklearn\n",
    "scores, test_move, test_pred_move, delta_subspaces, test_label_idx = xval_task_rel_dims(deltapower, np.swapaxes(cursor_traj_mov_on,0,1), labels=target_idx, regularization=None, nfolds=5, alpha=1, smooth_neural_data=False, tavg_neural_data=True, return_test_label_idx=True)"
   ]
  },
  {
   "cell_type": "code",
   "execution_count": 180,
   "metadata": {
    "execution": {
     "iopub.execute_input": "2024-02-04T05:45:06.502574Z",
     "iopub.status.busy": "2024-02-04T05:45:06.502368Z",
     "iopub.status.idle": "2024-02-04T05:45:07.191647Z",
     "shell.execute_reply": "2024-02-04T05:45:07.190026Z",
     "shell.execute_reply.started": "2024-02-04T05:45:06.502555Z"
    },
    "tags": []
   },
   "outputs": [
    {
     "name": "stdout",
     "output_type": "stream",
     "text": [
      "(238, 5)\n"
     ]
    },
    {
     "data": {
      "image/png": "[encoded data removed]",
      "text/plain": [
       "<Figure size 1200x300 with 6 Axes>"
      ]
     },
     "metadata": {},
     "output_type": "display_data"
    }
   ],
   "source": [
    "print(subspaces[:,1,:].shape)\n",
    "trdx = np.mean(delta_subspaces[:,0,:], axis=1)\n",
    "trdy = np.mean(delta_subspaces[:,1,:], axis=1)\n",
    "# trd_all  = np.abs(trdx)+np.abs(trdy)\n",
    "trd_all  = np.sqrt(trdx**2+trdy**2)\n",
    "\n",
    "fig, ax = plt.subplots(1,3, figsize=(12,3))\n",
    "data_map = aopy.visualization.get_data_map(trd_all, elec_pos[:,0], elec_pos[:,1])\n",
    "im = aopy.visualization.plot_spatial_map(data_map, elec_pos[:,0], elec_pos[:,1], cmap='YlGnBu', ax=ax[0])\n",
    "# im.set_clim(-15, 10)\n",
    "cb = plt.colorbar(im)\n",
    "ax[0].set_title('Contribution to all')\n",
    "\n",
    "data_map = aopy.visualization.get_data_map(trdx, elec_pos[:,0], elec_pos[:,1])\n",
    "im = aopy.visualization.plot_spatial_map(data_map, elec_pos[:,0], elec_pos[:,1], cmap='YlGnBu', ax=ax[1])\n",
    "im.set_clim(-np.max(np.abs([trdx, trdy])), np.max(np.abs([trdx, trdy])))\n",
    "cb = plt.colorbar(im)\n",
    "ax[1].set_title('Contribution to X')\n",
    "\n",
    "data_map = aopy.visualization.get_data_map(trdy, elec_pos[:,0], elec_pos[:,1])\n",
    "im = aopy.visualization.plot_spatial_map(data_map, elec_pos[:,0], elec_pos[:,1], cmap='YlGnBu', ax=ax[2])\n",
    "im.set_clim(-np.max(np.abs([trdx, trdy])), np.max(np.abs([trdx, trdy])))\n",
    "cb = plt.colorbar(im)\n",
    "ax[2].set_title('Contribution to Y')\n",
    "\n",
    "plt.suptitle('Delta power')\n",
    "fig.tight_layout()\n",
    "plt.show()"
   ]
  },
  {
   "cell_type": "markdown",
   "metadata": {},
   "source": [
    "## Calculate maps for beta power"
   ]
  },
  {
   "cell_type": "code",
   "execution_count": 181,
   "metadata": {
    "execution": {
     "iopub.execute_input": "2024-02-04T05:45:07.193114Z",
     "iopub.status.busy": "2024-02-04T05:45:07.192904Z",
     "iopub.status.idle": "2024-02-04T05:45:07.474164Z",
     "shell.execute_reply": "2024-02-04T05:45:07.473459Z",
     "shell.execute_reply.started": "2024-02-04T05:45:07.193094Z"
    },
    "tags": []
   },
   "outputs": [
    {
     "name": "stdout",
     "output_type": "stream",
     "text": [
      "176 220 0.2599999999999998 0.7000000000000002\n"
     ]
    }
   ],
   "source": [
    "offset = .25\n",
    "start_idx = np.where(t_spec>offset)[0][0]\n",
    "stop_idx = np.where(t_spec>(offset+time_after))[0][0]\n",
    "print(start_idx, stop_idx, t_spec[start_idx], t_spec[stop_idx])\n",
    "betapower = np.swapaxes(spec_band[:,4,start_idx:stop_idx,:], 0,1)\n",
    "\n",
    "import sklearn\n",
    "scores, test_move, test_pred_move, beta_subspaces, test_label_idx = xval_task_rel_dims(betapower, np.swapaxes(cursor_traj_mov_on,0,1), labels=target_idx, regularization=None, nfolds=5, alpha=1, smooth_neural_data=False, tavg_neural_data=True, return_test_label_idx=True)"
   ]
  },
  {
   "cell_type": "code",
   "execution_count": 182,
   "metadata": {
    "execution": {
     "iopub.execute_input": "2024-02-04T05:45:07.475559Z",
     "iopub.status.busy": "2024-02-04T05:45:07.475269Z",
     "iopub.status.idle": "2024-02-04T05:45:07.890663Z",
     "shell.execute_reply": "2024-02-04T05:45:07.889889Z",
     "shell.execute_reply.started": "2024-02-04T05:45:07.475539Z"
    },
    "tags": []
   },
   "outputs": [
    {
     "name": "stdout",
     "output_type": "stream",
     "text": [
      "(238, 5)\n"
     ]
    },
    {
     "data": {
      "image/png": "[encoded data removed]",
      "text/plain": [
       "<Figure size 1200x300 with 6 Axes>"
      ]
     },
     "metadata": {},
     "output_type": "display_data"
    }
   ],
   "source": [
    "print(subspaces[:,1,:].shape)\n",
    "trdx = np.mean(beta_subspaces[:,0,:], axis=1)\n",
    "trdy = np.mean(beta_subspaces[:,1,:], axis=1)\n",
    "# trd_all  = np.abs(trdx)+np.abs(trdy)\n",
    "trd_all  = np.sqrt(trdx**2+trdy**2)\n",
    "\n",
    "fig, ax = plt.subplots(1,3, figsize=(12,3))\n",
    "data_map = aopy.visualization.get_data_map(trd_all, elec_pos[:,0], elec_pos[:,1])\n",
    "im = aopy.visualization.plot_spatial_map(data_map, elec_pos[:,0], elec_pos[:,1], cmap='YlGnBu', ax=ax[0])\n",
    "# im.set_clim(-15, 10)\n",
    "cb = plt.colorbar(im)\n",
    "ax[0].set_title('Contribution to all')\n",
    "\n",
    "data_map = aopy.visualization.get_data_map(trdx, elec_pos[:,0], elec_pos[:,1])\n",
    "im = aopy.visualization.plot_spatial_map(data_map, elec_pos[:,0], elec_pos[:,1], cmap='YlGnBu', ax=ax[1])\n",
    "im.set_clim(-np.max(np.abs([trdx, trdy])), np.max(np.abs([trdx, trdy])))\n",
    "cb = plt.colorbar(im)\n",
    "ax[1].set_title('Contribution to X')\n",
    "\n",
    "data_map = aopy.visualization.get_data_map(trdy, elec_pos[:,0], elec_pos[:,1])\n",
    "im = aopy.visualization.plot_spatial_map(data_map, elec_pos[:,0], elec_pos[:,1], cmap='YlGnBu', ax=ax[2])\n",
    "im.set_clim(-np.max(np.abs([trdx, trdy])), np.max(np.abs([trdx, trdy])))\n",
    "cb = plt.colorbar(im)\n",
    "ax[2].set_title('Contribution to Y')\n",
    "\n",
    "plt.suptitle('Beta power')\n",
    "fig.tight_layout()\n",
    "plt.show()"
   ]
  },
  {
   "cell_type": "code",
   "execution_count": null,
   "metadata": {},
   "outputs": [],
   "source": []
  },
  {
   "cell_type": "markdown",
   "metadata": {},
   "source": [
    "## Calculate maps for low-gamma power"
   ]
  },
  {
   "cell_type": "code",
   "execution_count": 183,
   "metadata": {
    "execution": {
     "iopub.execute_input": "2024-02-04T05:45:08.905535Z",
     "iopub.status.busy": "2024-02-04T05:45:08.904241Z",
     "iopub.status.idle": "2024-02-04T05:45:09.174678Z",
     "shell.execute_reply": "2024-02-04T05:45:09.174045Z",
     "shell.execute_reply.started": "2024-02-04T05:45:08.905481Z"
    },
    "tags": []
   },
   "outputs": [
    {
     "name": "stdout",
     "output_type": "stream",
     "text": [
      "176 220 0.2599999999999998 0.7000000000000002\n"
     ]
    }
   ],
   "source": [
    "offset = .25\n",
    "start_idx = np.where(t_spec>offset)[0][0]\n",
    "stop_idx = np.where(t_spec>(offset+time_after))[0][0]\n",
    "print(start_idx, stop_idx, t_spec[start_idx], t_spec[stop_idx])\n",
    "gammapower = np.swapaxes(spec_band[:,5,start_idx:stop_idx,:], 0,1)\n",
    "\n",
    "import sklearn\n",
    "scores, test_move, test_pred_move, gamma_subspaces, test_label_idx = xval_task_rel_dims(gammapower, np.swapaxes(cursor_traj_mov_on,0,1), labels=target_idx, regularization=None, nfolds=5, alpha=1, smooth_neural_data=False, tavg_neural_data=True, return_test_label_idx=True)"
   ]
  },
  {
   "cell_type": "code",
   "execution_count": 184,
   "metadata": {
    "execution": {
     "iopub.execute_input": "2024-02-04T05:45:09.294315Z",
     "iopub.status.busy": "2024-02-04T05:45:09.293425Z",
     "iopub.status.idle": "2024-02-04T05:45:09.666919Z",
     "shell.execute_reply": "2024-02-04T05:45:09.665738Z",
     "shell.execute_reply.started": "2024-02-04T05:45:09.294262Z"
    },
    "tags": []
   },
   "outputs": [
    {
     "name": "stdout",
     "output_type": "stream",
     "text": [
      "(238, 5)\n"
     ]
    },
    {
     "data": {
      "image/png": "[encoded data removed]",
      "text/plain": [
       "<Figure size 1200x300 with 6 Axes>"
      ]
     },
     "metadata": {},
     "output_type": "display_data"
    }
   ],
   "source": [
    "print(subspaces[:,1,:].shape)\n",
    "trdx = np.mean(gamma_subspaces[:,0,:], axis=1)\n",
    "trdy = np.mean(gamma_subspaces[:,1,:], axis=1)\n",
    "# trd_all  = np.abs(trdx)+np.abs(trdy)\n",
    "trd_all  = np.sqrt(trdx**2+trdy**2)\n",
    "\n",
    "fig, ax = plt.subplots(1,3, figsize=(12,3))\n",
    "data_map = aopy.visualization.get_data_map(trd_all, elec_pos[:,0], elec_pos[:,1])\n",
    "im = aopy.visualization.plot_spatial_map(data_map, elec_pos[:,0], elec_pos[:,1], cmap='YlGnBu', ax=ax[0])\n",
    "# im.set_clim(-15, 10)\n",
    "cb = plt.colorbar(im)\n",
    "ax[0].set_title('Contribution to all')\n",
    "\n",
    "data_map = aopy.visualization.get_data_map(trdx, elec_pos[:,0], elec_pos[:,1])\n",
    "im = aopy.visualization.plot_spatial_map(data_map, elec_pos[:,0], elec_pos[:,1], cmap='YlGnBu', ax=ax[1])\n",
    "im.set_clim(-np.max(np.abs([trdx, trdy])), np.max(np.abs([trdx, trdy])))\n",
    "cb = plt.colorbar(im)\n",
    "ax[1].set_title('Contribution to X')\n",
    "\n",
    "data_map = aopy.visualization.get_data_map(trdy, elec_pos[:,0], elec_pos[:,1])\n",
    "im = aopy.visualization.plot_spatial_map(data_map, elec_pos[:,0], elec_pos[:,1], cmap='YlGnBu', ax=ax[2])\n",
    "im.set_clim(-np.max(np.abs([trdx, trdy])), np.max(np.abs([trdx, trdy])))\n",
    "cb = plt.colorbar(im)\n",
    "ax[2].set_title('Contribution to Y')\n",
    "\n",
    "plt.suptitle('Gamma power')\n",
    "fig.tight_layout()\n",
    "plt.show()"
   ]
  },
  {
   "cell_type": "markdown",
   "metadata": {},
   "source": [
    "## Calculate maps for high-gamma power"
   ]
  },
  {
   "cell_type": "code",
   "execution_count": 186,
   "metadata": {
    "execution": {
     "iopub.execute_input": "2024-02-04T05:45:14.330349Z",
     "iopub.status.busy": "2024-02-04T05:45:14.329193Z",
     "iopub.status.idle": "2024-02-04T05:45:14.341549Z",
     "shell.execute_reply": "2024-02-04T05:45:14.339959Z",
     "shell.execute_reply.started": "2024-02-04T05:45:14.330297Z"
    },
    "tags": []
   },
   "outputs": [
    {
     "name": "stdout",
     "output_type": "stream",
     "text": [
      "176 220 0.2599999999999998 0.7000000000000002\n",
      "(44, 800, 238)\n",
      "(800, 450, 2)\n"
     ]
    }
   ],
   "source": [
    "offset = .25\n",
    "start_idx = np.where(t_spec>(time_before+offset))[0][0]\n",
    "stop_idx = np.where(t_spec>(offset+time_after))[0][0]\n",
    "print(start_idx, stop_idx, t_spec[start_idx], t_spec[stop_idx])\n",
    "hgpower = np.swapaxes(spec_band[:,5,start_idx:stop_idx,:], 0,1)\n",
    "print(hgpower.shape)\n",
    "print(cursor_traj_mov_on.shape)"
   ]
  },
  {
   "cell_type": "code",
   "execution_count": 199,
   "metadata": {
    "execution": {
     "iopub.execute_input": "2024-02-04T05:46:32.769882Z",
     "iopub.status.busy": "2024-02-04T05:46:32.768522Z",
     "iopub.status.idle": "2024-02-04T05:46:32.952593Z",
     "shell.execute_reply": "2024-02-04T05:46:32.951003Z",
     "shell.execute_reply.started": "2024-02-04T05:46:32.769816Z"
    },
    "tags": []
   },
   "outputs": [],
   "source": [
    "import sklearn\n",
    "# scores, test_move, test_pred_move, hg_subspaces, test_label_idx = xval_task_rel_dims(hgpower[:,:798,:], np.swapaxes(cursor_traj_mov_on,0,1)[:,:798,:], labels=target_idx[:798], regularization=None, nfolds=4, alpha=.1, smooth_neural_data=False, tavg_neural_data=True, return_test_label_idx=True)\n",
    "scores, test_move, test_pred_move, hg_subspaces, test_label_idx = xval_task_rel_dims(hgpower, np.swapaxes(cursor_traj_mov_on,0,1), labels=target_idx, regularization=None, nfolds=4, alpha=.0000000001, smooth_neural_data=False, tavg_neural_data=True, return_test_label_idx=True)"
   ]
  },
  {
   "cell_type": "code",
   "execution_count": 200,
   "metadata": {
    "execution": {
     "iopub.execute_input": "2024-02-04T05:46:34.815906Z",
     "iopub.status.busy": "2024-02-04T05:46:34.815322Z",
     "iopub.status.idle": "2024-02-04T05:46:35.330995Z",
     "shell.execute_reply": "2024-02-04T05:46:35.329083Z",
     "shell.execute_reply.started": "2024-02-04T05:46:34.815857Z"
    },
    "tags": []
   },
   "outputs": [
    {
     "name": "stdout",
     "output_type": "stream",
     "text": [
      "(238, 5)\n"
     ]
    },
    {
     "data": {
      "image/png": "[encoded data removed]",
      "text/plain": [
       "<Figure size 1200x300 with 6 Axes>"
      ]
     },
     "metadata": {},
     "output_type": "display_data"
    }
   ],
   "source": [
    "print(subspaces[:,1,:].shape)\n",
    "trdx = np.mean(hg_subspaces[:,0,:], axis=1)\n",
    "trdy = np.mean(hg_subspaces[:,1,:], axis=1)\n",
    "# trd_all  = np.abs(trdx)+np.abs(trdy)\n",
    "trd_all  = np.sqrt(trdx**2+trdy**2)\n",
    "# trd_all = np.abs(trdx - trdy)\n",
    "\n",
    "fig, ax = plt.subplots(1,3, figsize=(12,3))\n",
    "data_map = aopy.visualization.get_data_map(trd_all, elec_pos[:,0], elec_pos[:,1])\n",
    "im = aopy.visualization.plot_spatial_map(data_map, elec_pos[:,0], elec_pos[:,1], cmap='YlGnBu', ax=ax[0])\n",
    "# im.set_clim(, 10)\n",
    "cb = plt.colorbar(im)\n",
    "ax[0].set_title('Contribution to all')\n",
    "\n",
    "data_map = aopy.visualization.get_data_map(trdx, elec_pos[:,0], elec_pos[:,1])\n",
    "im = aopy.visualization.plot_spatial_map(data_map, elec_pos[:,0], elec_pos[:,1], cmap='YlGnBu', ax=ax[1])\n",
    "im.set_clim(-np.max(np.abs([trdx, trdy])), np.max(np.abs([trdx, trdy])))\n",
    "cb = plt.colorbar(im)\n",
    "ax[1].set_title('Contribution to X')\n",
    "\n",
    "data_map = aopy.visualization.get_data_map(trdy, elec_pos[:,0], elec_pos[:,1])\n",
    "im = aopy.visualization.plot_spatial_map(data_map, elec_pos[:,0], elec_pos[:,1], cmap='YlGnBu', ax=ax[2])\n",
    "im.set_clim(-np.max(np.abs([trdx, trdy])), np.max(np.abs([trdx, trdy])))\n",
    "cb = plt.colorbar(im)\n",
    "ax[2].set_title('Contribution to Y')\n",
    "\n",
    "plt.suptitle('High Gamma Power')\n",
    "fig.tight_layout()\n",
    "plt.show()"
   ]
  },
  {
   "cell_type": "code",
   "execution_count": 65,
   "metadata": {
    "execution": {
     "iopub.execute_input": "2024-02-04T05:16:23.909802Z",
     "iopub.status.busy": "2024-02-04T05:16:23.909223Z",
     "iopub.status.idle": "2024-02-04T05:16:23.955644Z",
     "shell.execute_reply": "2024-02-04T05:16:23.954032Z",
     "shell.execute_reply.started": "2024-02-04T05:16:23.909752Z"
    },
    "tags": []
   },
   "outputs": [],
   "source": [
    "# Save\n",
    "band_idx=5\n",
    "np.savez(f'/media/moor-data/results/Ryan/neuropixel_targeting/ecog_decoding_maps/{subject}_{flag}_LinRegAll_{band_name[band_idx]}', da=trd_all, elec_pos=elec_pos)\n",
    "np.savez(f'/media/moor-data/results/Ryan/neuropixel_targeting/ecog_decoding_maps/{subject}_{flag}_LinRegX_{band_name[band_idx]}', da=trdx, elec_pos=elec_pos)\n",
    "np.savez(f'/media/moor-data/results/Ryan/neuropixel_targeting/ecog_decoding_maps/{subject}_{flag}_LinRegY_{band_name[band_idx]}', da=trdy, elec_pos=elec_pos)"
   ]
  },
  {
   "cell_type": "markdown",
   "metadata": {},
   "source": [
    "## Calculate maps for spike-band power"
   ]
  },
  {
   "cell_type": "code",
   "execution_count": 62,
   "metadata": {
    "execution": {
     "iopub.execute_input": "2024-02-04T05:15:48.011275Z",
     "iopub.status.busy": "2024-02-04T05:15:48.010689Z",
     "iopub.status.idle": "2024-02-04T05:15:48.018992Z",
     "shell.execute_reply": "2024-02-04T05:15:48.016893Z",
     "shell.execute_reply.started": "2024-02-04T05:15:48.011225Z"
    },
    "tags": []
   },
   "outputs": [],
   "source": [
    "# offset = .25\n",
    "# start_idx = np.where(t_spec>offset)[0][0]\n",
    "# stop_idx = np.where(t_spec>(offset+time_after))[0][0]\n",
    "# print(start_idx, stop_idx, t_spec[start_idx], t_spec[stop_idx])\n",
    "# hgpower = np.swapaxes(spec_band[:,5,start_idx:stop_idx,:], 0,1)\n",
    "# print(hgpower.shape)"
   ]
  },
  {
   "cell_type": "code",
   "execution_count": null,
   "metadata": {},
   "outputs": [],
   "source": []
  },
  {
   "cell_type": "code",
   "execution_count": null,
   "metadata": {},
   "outputs": [],
   "source": []
  }
 ],
 "metadata": {
  "kernelspec": {
   "display_name": "Python [conda env:np_targeting]",
   "language": "python",
   "name": "conda-env-np_targeting-py"
  },
  "language_info": {
   "codemirror_mode": {
    "name": "ipython",
    "version": 3
   },
   "file_extension": ".py",
   "mimetype": "text/x-python",
   "name": "python",
   "nbconvert_exporter": "python",
   "pygments_lexer": "ipython3",
   "version": "3.9.18"
  }
 },
 "nbformat": 4,
 "nbformat_minor": 4
}
