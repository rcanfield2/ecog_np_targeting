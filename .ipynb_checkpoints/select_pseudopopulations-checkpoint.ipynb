{
 "cells": [
  {
   "cell_type": "code",
   "execution_count": 1,
   "id": "5d446e86-44e7-4d8a-8212-5a22da47136f",
   "metadata": {
    "execution": {
     "iopub.execute_input": "2024-12-03T23:51:56.664261Z",
     "iopub.status.busy": "2024-12-03T23:51:56.663527Z",
     "iopub.status.idle": "2024-12-03T23:51:56.687206Z",
     "shell.execute_reply": "2024-12-03T23:51:56.686212Z",
     "shell.execute_reply.started": "2024-12-03T23:51:56.664204Z"
    },
    "tags": []
   },
   "outputs": [],
   "source": [
    "def load_hdf_group(data_dir, hdf_filename, group=\"/\"):\n",
    "    '''\n",
    "    Loads any datasets from the given hdf group into a dictionary. Also will\n",
    "    recursively load other groups if any exist under the given group\n",
    "\n",
    "    Args:\n",
    "        data_dir (str): folder where data is located\n",
    "        hdf_filename (str): name of hdf file\n",
    "        group (str): name of the group to load\n",
    "    \n",
    "    Returns:\n",
    "        dict: all the datasets contained in the given group\n",
    "    '''\n",
    "    full_file_name = os.path.join(data_dir, hdf_filename)\n",
    "    hdf = h5py.File(full_file_name, 'r')\n",
    "    if group not in hdf:\n",
    "        raise ValueError('No such group in file {}'.format(hdf_filename))\n",
    "\n",
    "    # Recursively load groups until datasets are reached\n",
    "    def _load_hdf_group(hdf):\n",
    "        keys = hdf.keys()\n",
    "        data = dict()\n",
    "        for k in keys:\n",
    "            if isinstance(hdf[k], h5py.Group):\n",
    "                data[k] = _load_hdf_group(hdf[k])\n",
    "            else:\n",
    "                k_, v = _load_hdf_dataset(hdf[k], k)\n",
    "                data[k_] = v\n",
    "        return data\n",
    "\n",
    "    data = _load_hdf_group(hdf[group])\n",
    "    hdf.close()\n",
    "    return data\n",
    "\n",
    "def _load_hdf_dataset(dataset, name):\n",
    "    '''\n",
    "    Internal function for loading hdf datasets. Decodes json and unicode data automatically.\n",
    "\n",
    "    Args:\n",
    "        dataset (hdf object): dataset to load\n",
    "        name (str): name of the dataset\n",
    "\n",
    "    Returns:\n",
    "        tuple: Tuple containing:\n",
    "            | **name (str):** name of the dataset (might be modified)\n",
    "            | **data (object):** loaded data\n",
    "    '''\n",
    "    data = dataset[()]\n",
    "    if '_json' in name:\n",
    "        import json\n",
    "        name = name.replace('_json', '')\n",
    "        data = json.loads(data)\n",
    "    try:\n",
    "        data = data.decode('utf-8')\n",
    "    except:\n",
    "        pass\n",
    "    return name, data"
   ]
  },
  {
   "cell_type": "code",
   "execution_count": 2,
   "id": "5802cedd-b3cd-4c74-b71e-a49db1d6c29d",
   "metadata": {
    "execution": {
     "iopub.execute_input": "2024-12-03T23:51:56.689464Z",
     "iopub.status.busy": "2024-12-03T23:51:56.689032Z",
     "iopub.status.idle": "2024-12-03T23:51:59.547908Z",
     "shell.execute_reply": "2024-12-03T23:51:59.546573Z",
     "shell.execute_reply.started": "2024-12-03T23:51:56.689437Z"
    },
    "tags": []
   },
   "outputs": [],
   "source": [
    "import numpy as np\n",
    "import matplotlib.pyplot as plt\n",
    "import aopy\n",
    "import os\n",
    "import pandas as pds\n",
    "from db import dbfunctions as db\n",
    "from ipywidgets import interactive, widgets\n",
    "import scipy\n",
    "import h5py\n",
    "from tqdm.auto import tqdm \n",
    "import seaborn as sn\n",
    "import sklearn\n",
    "from sklearn.decomposition import PCA, FactorAnalysis\n",
    "from itertools import compress\n",
    "import multiprocessing as mp\n",
    "import time\n",
    "import math\n",
    "from scipy.fft import fft\n",
    "import glob\n",
    "from datetime import date"
   ]
  },
  {
   "cell_type": "markdown",
   "id": "5f1b1345-3532-4c0a-be1b-9895db46adda",
   "metadata": {},
   "source": [
    "# Set parameters"
   ]
  },
  {
   "cell_type": "code",
   "execution_count": 3,
   "id": "fd6e7969-b9c3-4121-8594-a6646a7497f9",
   "metadata": {
    "execution": {
     "iopub.execute_input": "2024-12-03T23:51:59.548895Z",
     "iopub.status.busy": "2024-12-03T23:51:59.548643Z",
     "iopub.status.idle": "2024-12-03T23:51:59.553509Z",
     "shell.execute_reply": "2024-12-03T23:51:59.552621Z",
     "shell.execute_reply.started": "2024-12-03T23:51:59.548880Z"
    },
    "tags": []
   },
   "outputs": [],
   "source": [
    "save_figs = False\n",
    "base_save_dir = \"/media/moor-data/results/Ryan/neuropixel_targeting/\"\n",
    "np_preproc_data_folder = 'np_analysis_preproc_data'\n",
    "ecog_dec_acc_file_name = 'ecog_decoding_maps/npinsert_ecog_decoding'\n",
    "\n",
    "subject = 'affi'\n",
    "align_events = ['TARGET ONSET', 'GO CUE', 'MOVEMENT ONSET']"
   ]
  },
  {
   "cell_type": "code",
   "execution_count": 4,
   "id": "cd692701-dc60-4b11-a361-5a93fc22ada2",
   "metadata": {
    "execution": {
     "iopub.execute_input": "2024-12-03T23:51:59.554232Z",
     "iopub.status.busy": "2024-12-03T23:51:59.554060Z",
     "iopub.status.idle": "2024-12-03T23:51:59.559571Z",
     "shell.execute_reply": "2024-12-03T23:51:59.558792Z",
     "shell.execute_reply.started": "2024-12-03T23:51:59.554216Z"
    },
    "tags": []
   },
   "outputs": [],
   "source": [
    "# Decoding calculation parameters\n",
    "tbefore = 0.5\n",
    "tafter = 1\n",
    "nlda_lags = 1\n",
    "niter_match = 50\n",
    "min_trial_prop = .85\n",
    "ntrial_bin_size = 96\n",
    "nfolds = 4\n",
    "\n",
    "# Visualization parameters\n",
    "colors = sn.color_palette(n_colors=9)\n",
    "recording_brain_areas={'M1': [30, 56, 47, 40, 121, 48, 120, 98], 'PM':[11, 9, 18, 22, 10, 45]}\n",
    "day_colors = ['dodgerblue', 'indigo', 'violet', 'lightblue', 'mediumorchid',\n",
    "              'purple', 'steelblue', 'dodgerblue', 'lightblue', 'red', 'black', 'green', 'purple', 'cyan', 'gray', 'yellow'] \n",
    "\n",
    "save_dir = \"/media/moor-data/results/Ryan/neuropixel_targeting/np_analysis_preproc_data\""
   ]
  },
  {
   "cell_type": "markdown",
   "id": "00433fce-e97d-46aa-b9c7-c2d30cd2998a",
   "metadata": {},
   "source": [
    "# Load and extract relevant data"
   ]
  },
  {
   "cell_type": "code",
   "execution_count": 5,
   "id": "e4381962-bc14-4232-8991-643780d7c1db",
   "metadata": {
    "execution": {
     "iopub.execute_input": "2024-12-03T23:51:59.560280Z",
     "iopub.status.busy": "2024-12-03T23:51:59.560091Z",
     "iopub.status.idle": "2024-12-03T23:58:58.993722Z",
     "shell.execute_reply": "2024-12-03T23:58:58.992837Z",
     "shell.execute_reply.started": "2024-12-03T23:51:59.560263Z"
    },
    "tags": []
   },
   "outputs": [
    {
     "name": "stdout",
     "output_type": "stream",
     "text": [
      "7.0 min to load preprocessed data\n"
     ]
    }
   ],
   "source": [
    "start = time.time()\n",
    "aopy.utils.release_memory_limit()\n",
    "df, rasters, preproc_metadata = aopy.data.base.pkl_read(f\"{subject}_np_preprocessed\", os.path.join(base_save_dir, np_preproc_data_folder))\n",
    "print(f\"{np.round((time.time()-start)/60)} min to load preprocessed data\")\n",
    "nrecs = preproc_metadata['nrecs']\n",
    "recording_site = preproc_metadata['recording_sites'] # will be the same for all align events\n",
    "implants = ['NPinsert72' if preproc_metadata['implant'][irec] == 'NP_Insert72' else 'NPinsert137' for irec in range(len(preproc_metadata['implant']))] #Rename because name in bmi3d is slightly different (TODO)\n",
    "dates = np.unique(df['date'])"
   ]
  },
  {
   "cell_type": "code",
   "execution_count": 6,
   "id": "8099da1e-5d21-40dc-b084-7da935c18dc2",
   "metadata": {
    "execution": {
     "iopub.execute_input": "2024-12-03T23:58:58.994697Z",
     "iopub.status.busy": "2024-12-03T23:58:58.994537Z",
     "iopub.status.idle": "2024-12-03T23:58:59.007225Z",
     "shell.execute_reply": "2024-12-03T23:58:59.006441Z",
     "shell.execute_reply.started": "2024-12-03T23:58:58.994683Z"
    },
    "tags": []
   },
   "outputs": [],
   "source": [
    "ecog_dec_acc = load_hdf_group(base_save_dir, ecog_dec_acc_file_name)"
   ]
  },
  {
   "cell_type": "code",
   "execution_count": 7,
   "id": "07c58de2-234d-416e-a7ae-63d0d7357120",
   "metadata": {
    "execution": {
     "iopub.execute_input": "2024-12-03T23:58:59.009209Z",
     "iopub.status.busy": "2024-12-03T23:58:59.009039Z",
     "iopub.status.idle": "2024-12-03T23:58:59.026043Z",
     "shell.execute_reply": "2024-12-03T23:58:59.025203Z",
     "shell.execute_reply.started": "2024-12-03T23:58:59.009195Z"
    },
    "tags": []
   },
   "outputs": [],
   "source": [
    "qc_results, ksdrift = aopy.data.base.pkl_read(f\"{subject}_QCunits\", os.path.join(base_save_dir, np_preproc_data_folder))\n",
    "# stable_unit_labels = [qc_results['final_good_unit_labels'][irec] for irec in range(nrecs)]\n",
    "# stable_unit_idx = [qc_results['final_good_unit_idx'][irec] for irec in range(nrecs)]\n",
    "# nstable_unit = np.array([len(qc_results['final_good_unit_idx'][irec]) for irec in range(nrecs)])\n",
    "# neuron_pos = [qc_results['position'][irec] for irec in range(nrecs)]\n",
    "\n",
    "# if subject == 'affi':\n",
    "stable_unit_labels = [qc_results['manual_good_unit_labels'][irec] for irec in range(nrecs)]\n",
    "stable_unit_idx = [qc_results['manual_good_unit_idx'][irec] for irec in range(nrecs)]\n",
    "nstable_unit = np.array([len(qc_results['manual_good_unit_idx'][irec]) for irec in range(nrecs)])\n",
    "neuron_pos = [qc_results['manual_position'][irec] for irec in range(nrecs)]"
   ]
  },
  {
   "cell_type": "code",
   "execution_count": 8,
   "id": "a76b4fd6-34ba-403d-964a-8a3f0d801a98",
   "metadata": {
    "execution": {
     "iopub.execute_input": "2024-12-03T23:58:59.027308Z",
     "iopub.status.busy": "2024-12-03T23:58:59.027038Z",
     "iopub.status.idle": "2024-12-03T23:58:59.035163Z",
     "shell.execute_reply": "2024-12-03T23:58:59.034228Z",
     "shell.execute_reply.started": "2024-12-03T23:58:59.027282Z"
    },
    "tags": []
   },
   "outputs": [
    {
     "name": "stdout",
     "output_type": "stream",
     "text": [
      "[ 19  29  55  58  33  98  10  74  72 107  70  44  98  31  71  21  69  95\n",
      "  31  31  70  31  72  72  73  57  65  10  64  17  58  17  58  18  49]\n",
      "(35,) 35 [ 3840  3840  3400  3250  3840  3800  3800  3900  3500  3700  2500  3250\n",
      "  2100  3840  3100  1600  3250  2500  3100  3300  3800  3100  3250  2750\n",
      "  2900  2750  3000  3000  3000  3700  3000  3700  3000  3700 35000]\n"
     ]
    }
   ],
   "source": [
    "if subject == 'beignet':\n",
    "    surface_pos = np.ones(nrecs)*3840\n",
    "elif subject == 'affi':\n",
    "    surface_pos = np.array([3840, 3840, 3400, 3250,3840,3800,3800,3900,3500,3700,2500,3250,2100,3840,3100,1600,3250,2500,3100,3300,3800,3100,3250,2750,2900, 2750,\n",
    "                           3000,3000, 3000,3700, 3000,3700, 3000,3700, 35000])\n",
    "print(preproc_metadata['recording_sites'])\n",
    "print(surface_pos.shape, nrecs, surface_pos)"
   ]
  },
  {
   "cell_type": "code",
   "execution_count": 9,
   "id": "61c2c0de-8ba7-41a5-bf6c-de5b682bec77",
   "metadata": {
    "execution": {
     "iopub.execute_input": "2024-12-03T23:58:59.036384Z",
     "iopub.status.busy": "2024-12-03T23:58:59.036105Z",
     "iopub.status.idle": "2024-12-03T23:58:59.431969Z",
     "shell.execute_reply": "2024-12-03T23:58:59.431206Z",
     "shell.execute_reply.started": "2024-12-03T23:58:59.036359Z"
    },
    "tags": []
   },
   "outputs": [
    {
     "data": {
      "application/vnd.jupyter.widget-view+json": {
       "model_id": "11ad07d920054fe9a93024ba42fcc15c",
       "version_major": 2,
       "version_minor": 0
      },
      "text/plain": [
       "  0%|          | 0/35 [00:00<?, ?it/s]"
      ]
     },
     "metadata": {},
     "output_type": "display_data"
    }
   ],
   "source": [
    "# compile dataframe of unit information\n",
    "# Need columns for: date, recording site, unit_label, absolute y-pos, relative y-pos, waveform\n",
    "unit_info = {'rec_number': [], 'date': [], 'rec_site': [], 'rec_xpos': [], 'rec_ypos': [], 'rec_rcaxis': [], 'implant': [],\n",
    "             'unit_label': [], 'unit_idx': [], 'abs_depth': [], 'rel_depth': [], 'waveform': [], 'surface_pos': [], 'penetration': []}\n",
    "# unit_info = {'rec_number': [], 'date': [], 'rec_site': [], 'rec_xpos': [], 'rec_ypos': [], 'implant': [],\n",
    "#              'unit_label': [], 'unit_idx': []}\n",
    "surface_buffer = 200\n",
    "for irec in tqdm(range(nrecs)):\n",
    "    # print(irec, nstable_unit[irec], neuron_pos[irec].shape)\n",
    "    for iunit in range(nstable_unit[irec]):\n",
    "        # Only save units that are below the estimated surface of the brain\n",
    "        # if neuron_pos[irec][iunit] <= (surface_pos[irec]+surface_buffer):   \n",
    "        \n",
    "        unit_info['rec_number'].append(irec) # Recording_number\n",
    "        unit_info['date'].append(list(df[df['penetration']==irec]['date'])[0]) # date (assumes each recording is done on a different day)\n",
    "        unit_info['rec_site'].append(preproc_metadata['recording_sites'][irec]) # Recording site\n",
    "        unit_info['rec_xpos'].append(ecog_dec_acc[subject]['rec_locations'][irec,0]) # Recording site x pos in chamber\n",
    "        unit_info['rec_ypos'].append(ecog_dec_acc[subject]['rec_locations'][irec,1]) # Recording site y pos in chamber\n",
    "        unit_info['rec_rcaxis'].append(ecog_dec_acc[subject]['rc_axis'][irec,0]) # Recording site y pos in chamber\n",
    "        unit_info['implant'].append(implants[irec]) # Implant\n",
    "        unit_info['unit_label'].append(stable_unit_labels[irec][iunit]) # unit label output from kilosort\n",
    "        unit_info['unit_idx'].append(stable_unit_idx[irec][iunit]) # unit label output from kilosort\n",
    "        unit_info['abs_depth'].append(surface_pos[irec] - neuron_pos[irec][iunit]) #Absolute depth [um]\n",
    "        unit_info['rel_depth'].append(3840-neuron_pos[irec][iunit]-np.min(3840-neuron_pos[irec])) #Relative depth [um] (to top detected neuron)\n",
    "        unit_info['waveform'].append(qc_results['mean_wfs'][irec][iunit,:]) #waveform\n",
    "        unit_info['surface_pos'].append(surface_pos[irec])\n",
    "        unit_info['penetration'].append(irec)\n",
    "        # unit_info['waveform'].append(qc_results['manual_wfs'][irec][iunit,:]) #waveform\n",
    "        "
   ]
  },
  {
   "cell_type": "code",
   "execution_count": 10,
   "id": "6d22c72e-b007-4bb4-9f54-b43525e6f845",
   "metadata": {
    "execution": {
     "iopub.execute_input": "2024-12-03T23:58:59.432802Z",
     "iopub.status.busy": "2024-12-03T23:58:59.432648Z",
     "iopub.status.idle": "2024-12-03T23:58:59.441325Z",
     "shell.execute_reply": "2024-12-03T23:58:59.440545Z",
     "shell.execute_reply.started": "2024-12-03T23:58:59.432788Z"
    },
    "tags": []
   },
   "outputs": [],
   "source": [
    "unit_df = pds.DataFrame(unit_info)"
   ]
  },
  {
   "cell_type": "markdown",
   "id": "f5c27f6f-9304-484d-b19d-a5d1505c3f6f",
   "metadata": {},
   "source": [
    "# Create pseudopopulations"
   ]
  },
  {
   "cell_type": "code",
   "execution_count": 11,
   "id": "149ea534-93ef-412d-b436-9c2a6640b462",
   "metadata": {
    "execution": {
     "iopub.execute_input": "2024-12-03T23:58:59.442118Z",
     "iopub.status.busy": "2024-12-03T23:58:59.441971Z",
     "iopub.status.idle": "2024-12-03T23:58:59.445400Z",
     "shell.execute_reply": "2024-12-03T23:58:59.444690Z",
     "shell.execute_reply.started": "2024-12-03T23:58:59.442104Z"
    },
    "tags": []
   },
   "outputs": [],
   "source": [
    "pp_configs = ['random', 'column', 'depth'] # Pseudopopulation cofigurations "
   ]
  },
  {
   "cell_type": "markdown",
   "id": "7f473ec7-a65c-4dc6-b02e-7a4cd8364ef3",
   "metadata": {},
   "source": [
    "## Random"
   ]
  },
  {
   "cell_type": "code",
   "execution_count": 12,
   "id": "1f8fbb39-0e5a-47b0-a548-d657e70b0649",
   "metadata": {
    "execution": {
     "iopub.execute_input": "2024-12-03T23:58:59.446045Z",
     "iopub.status.busy": "2024-12-03T23:58:59.445907Z",
     "iopub.status.idle": "2024-12-03T23:58:59.653107Z",
     "shell.execute_reply": "2024-12-03T23:58:59.651944Z",
     "shell.execute_reply.started": "2024-12-03T23:58:59.446032Z"
    },
    "tags": []
   },
   "outputs": [],
   "source": [
    "# Create random neuron populations\n",
    "nrandom_units = 5 # Number of random units chosen in each group\n",
    "nrandom_groups = 1000 # Number of random groups to make\n",
    "random_group_info = []\n",
    "for igroup in range(nrandom_groups):\n",
    "    group_idx = np.random.choice(np.arange(len(unit_df)), size=(nrandom_units), replace=False)\n",
    "    random_group_info.append(unit_df.loc[group_idx])"
   ]
  },
  {
   "cell_type": "markdown",
   "id": "e1b3c1a9-aff8-4f9f-a424-19a89a3c71a3",
   "metadata": {},
   "source": [
    "## Column"
   ]
  },
  {
   "cell_type": "code",
   "execution_count": 63,
   "id": "b7dca6fb-6e3f-4a47-ac59-7fd03ec6ebd0",
   "metadata": {
    "execution": {
     "iopub.execute_input": "2024-12-04T00:18:13.781878Z",
     "iopub.status.busy": "2024-12-04T00:18:13.781238Z",
     "iopub.status.idle": "2024-12-04T00:18:13.803196Z",
     "shell.execute_reply": "2024-12-04T00:18:13.801270Z",
     "shell.execute_reply.started": "2024-12-04T00:18:13.781824Z"
    },
    "tags": []
   },
   "outputs": [
    {
     "data": {
      "text/html": [
       "<div>\n",
       "<style scoped>\n",
       "    .dataframe tbody tr th:only-of-type {\n",
       "        vertical-align: middle;\n",
       "    }\n",
       "\n",
       "    .dataframe tbody tr th {\n",
       "        vertical-align: top;\n",
       "    }\n",
       "\n",
       "    .dataframe thead th {\n",
       "        text-align: right;\n",
       "    }\n",
       "</style>\n",
       "<table border=\"1\" class=\"dataframe\">\n",
       "  <thead>\n",
       "    <tr style=\"text-align: right;\">\n",
       "      <th></th>\n",
       "      <th>index</th>\n",
       "      <th>rec_number</th>\n",
       "      <th>date</th>\n",
       "      <th>rec_site</th>\n",
       "      <th>rec_xpos</th>\n",
       "      <th>rec_ypos</th>\n",
       "      <th>rec_rcaxis</th>\n",
       "      <th>implant</th>\n",
       "      <th>unit_label</th>\n",
       "      <th>unit_idx</th>\n",
       "      <th>abs_depth</th>\n",
       "      <th>rel_depth</th>\n",
       "      <th>waveform</th>\n",
       "      <th>surface_pos</th>\n",
       "      <th>penetration</th>\n",
       "    </tr>\n",
       "  </thead>\n",
       "  <tbody>\n",
       "  </tbody>\n",
       "</table>\n",
       "</div>"
      ],
      "text/plain": [
       "Empty DataFrame\n",
       "Columns: [index, rec_number, date, rec_site, rec_xpos, rec_ypos, rec_rcaxis, implant, unit_label, unit_idx, abs_depth, rel_depth, waveform, surface_pos, penetration]\n",
       "Index: []"
      ]
     },
     "execution_count": 63,
     "metadata": {},
     "output_type": "execute_result"
    }
   ],
   "source": [
    "column_group_info[20]"
   ]
  },
  {
   "cell_type": "code",
   "execution_count": 69,
   "id": "853f8810-8fdd-42ed-a1c1-5b6f838f3a75",
   "metadata": {
    "execution": {
     "iopub.execute_input": "2024-12-04T00:49:26.786789Z",
     "iopub.status.busy": "2024-12-04T00:49:26.786091Z",
     "iopub.status.idle": "2024-12-04T00:49:26.852361Z",
     "shell.execute_reply": "2024-12-04T00:49:26.850935Z",
     "shell.execute_reply.started": "2024-12-04T00:49:26.786731Z"
    },
    "tags": []
   },
   "outputs": [],
   "source": [
    "# Create random neuron populations from each recording_location\n",
    "min_probe_depth = 0 #[um]\n",
    "unique_rec_pos = np.unique(ecog_dec_acc[subject]['rec_locations'], axis=0)\n",
    "column_group_info = []\n",
    "for ipos in range(unique_rec_pos.shape[0]):\n",
    "    pos = unique_rec_pos[ipos,:]\n",
    "    new_df = unit_df.loc[(unit_df['rec_xpos']==pos[0]) & (unit_df['rec_ypos']==pos[1]) & (unit_df['surface_pos']>min_probe_depth)].reset_index()\n",
    "    \n",
    "    # Add a row of 0 if there are no units so code works. There is no recording site 0 because it is 1-indexed.\n",
    "    if len(new_df)==0:   \n",
    "        new_df.loc[0] = [0] * len(new_df.columns)\n",
    "        \n",
    "    column_group_info.append(new_df) #only use sites whose surface position is greater than a threshold\n",
    "\n",
    "    # print(unit_df.loc[(unit_df['rec_xpos']==pos[0]) & (unit_df['rec_ypos']==pos[1])].reset_index())\n",
    "    # print(len(column_group_info[ipos]),column_group_info[ipos]['rec_site'][0])"
   ]
  },
  {
   "cell_type": "code",
   "execution_count": 70,
   "id": "dfacf4ab-ef8d-4c9b-b707-9e916a6325c2",
   "metadata": {
    "execution": {
     "iopub.execute_input": "2024-12-04T00:49:27.065414Z",
     "iopub.status.busy": "2024-12-04T00:49:27.064805Z",
     "iopub.status.idle": "2024-12-04T00:49:27.082891Z",
     "shell.execute_reply": "2024-12-04T00:49:27.081011Z",
     "shell.execute_reply.started": "2024-12-04T00:49:27.065360Z"
    },
    "tags": []
   },
   "outputs": [
    {
     "name": "stdout",
     "output_type": "stream",
     "text": [
      "nUnits:   [4, 20, 5, 10, 37, 28, 13, 1, 13, 18, 2, 18, 49, 3, 28, 36, 4, 54, 27, 15, 1, 33, 102, 11, 46, 5]\n",
      "Rec Site: [29, 19, 10, 17, 10, 31, 21, 18, 55, 44, 33, 69, 70, 58, 95, 71, 107, 72, 64, 57, 0, 73, 98, 74, 65, 58]\n",
      "26\n",
      "[[-3.79999184  0.75999837]\n",
      " [-3.79999184  2.2799951 ]\n",
      " [-3.79999184  3.79999184]\n",
      " [-2.99999244  0.99999748]\n",
      " [-2.99999244  2.99999244]\n",
      " [-2.2799951   2.2799951 ]\n",
      " [-2.2799951   3.79999184]\n",
      " [-1.99999496  1.99999496]\n",
      " [-1.51999674  0.        ]\n",
      " [-0.75999837  2.2799951 ]\n",
      " [-0.75999837  3.79999184]\n",
      " [ 0.          0.        ]\n",
      " [ 0.75999837  0.75999837]\n",
      " [ 0.75999837  2.2799951 ]\n",
      " [ 1.51999674 -1.51999674]\n",
      " [ 1.51999674  1.51999674]\n",
      " [ 2.2799951  -2.2799951 ]\n",
      " [ 2.2799951   2.2799951 ]\n",
      " [ 2.99999244 -2.99999244]\n",
      " [ 2.99999244 -0.99999748]\n",
      " [ 2.99999244  0.99999748]\n",
      " [ 3.03999347  3.03999347]\n",
      " [ 3.79999184  0.75999837]\n",
      " [ 3.79999184  3.79999184]\n",
      " [ 3.99998992 -1.99999496]\n",
      " [ 3.99998992  0.        ]]\n",
      "[ 19  29  55  58  33  98  10  74  72 107  70  44  98  31  71  21  69  95\n",
      "  31  31  70  31  72  72  73  57  65  10  64  17  58  17  58  18  49]\n"
     ]
    }
   ],
   "source": [
    "print('nUnits:  ', [len(column_group_info[ii]) for ii in range(len(column_group_info))])\n",
    "print('Rec Site:', [column_group_info[ii]['rec_site'][0] for ii in range(len(column_group_info))])\n",
    "print(len(unique_rec_pos))\n",
    "print(unique_rec_pos)\n",
    "print(recording_site)"
   ]
  },
  {
   "cell_type": "markdown",
   "id": "9663e792-6bd0-4cce-abae-d4ec194279a3",
   "metadata": {},
   "source": [
    "## Depth"
   ]
  },
  {
   "cell_type": "code",
   "execution_count": 71,
   "id": "1ff454c8-e8c7-482b-9004-d3c9afbb75d9",
   "metadata": {
    "execution": {
     "iopub.execute_input": "2024-12-04T00:49:29.086633Z",
     "iopub.status.busy": "2024-12-04T00:49:29.086023Z",
     "iopub.status.idle": "2024-12-04T00:49:29.098112Z",
     "shell.execute_reply": "2024-12-04T00:49:29.095916Z",
     "shell.execute_reply.started": "2024-12-04T00:49:29.086580Z"
    },
    "tags": []
   },
   "outputs": [],
   "source": [
    "# depth_ranges = [(0,1000), (1000, 2000), (2000, 100000)] #Boundary distinguishing shallow and deep neurons "
   ]
  },
  {
   "cell_type": "code",
   "execution_count": 72,
   "id": "be9957bb-f500-4bef-ba38-e842a789cfbe",
   "metadata": {
    "execution": {
     "iopub.execute_input": "2024-12-04T00:49:29.307103Z",
     "iopub.status.busy": "2024-12-04T00:49:29.306495Z",
     "iopub.status.idle": "2024-12-04T00:49:29.342682Z",
     "shell.execute_reply": "2024-12-04T00:49:29.340772Z",
     "shell.execute_reply.started": "2024-12-04T00:49:29.307049Z"
    },
    "tags": []
   },
   "outputs": [],
   "source": [
    "# Create random neuron populations from neurons at different depths\n",
    "\n",
    "depth_ranges = [(0,1000),(250,1250),(500,1500),(750,1750),(1000,2000),(1250,2250),(1500,2500),(1750,2750),(2000,3000),(2250,3250),(2500,3500),(2750,3750),(np.max(unit_df['rel_depth'])-1000,np.max(unit_df['rel_depth']))] #Boundary distinguishing shallow and deep neurons \n",
    "\n",
    "depth_group_info = []\n",
    "for irange, depth_range in enumerate(depth_ranges):\n",
    "    depth_group_info.append(unit_df.loc[(unit_df['rel_depth'] >= depth_range[0]) & (unit_df['rel_depth'] < depth_range[1])].reset_index())"
   ]
  },
  {
   "cell_type": "code",
   "execution_count": 73,
   "id": "7ef30a12-00a5-464f-a72f-8c36ded1ca89",
   "metadata": {
    "execution": {
     "iopub.execute_input": "2024-12-04T00:49:29.681641Z",
     "iopub.status.busy": "2024-12-04T00:49:29.681040Z",
     "iopub.status.idle": "2024-12-04T00:49:29.976374Z",
     "shell.execute_reply": "2024-12-04T00:49:29.974631Z",
     "shell.execute_reply.started": "2024-12-04T00:49:29.681588Z"
    },
    "tags": []
   },
   "outputs": [],
   "source": [
    "#Create random neuron populations for each recording site from neurons at different depths\n",
    "\n",
    "depth_group_info_by_site = {}\n",
    "unique_sites = np.unique(unit_df['rec_site'])\n",
    "for isite, site in enumerate(unique_sites):\n",
    "    depth_group_info_by_site[site] = []\n",
    "    for irange, depth_range in enumerate(depth_ranges):\n",
    "        depth_mask = (unit_df['rel_depth'] >= depth_range[0]) & (unit_df['rel_depth'] < depth_range[1])\n",
    "        site_mask = unit_df['rec_site'] == site\n",
    "        depth_group_info_by_site[site].append(unit_df.loc[depth_mask*site_mask].reset_index())"
   ]
  },
  {
   "cell_type": "code",
   "execution_count": 74,
   "id": "e0e0c97e",
   "metadata": {
    "execution": {
     "iopub.execute_input": "2024-12-04T00:49:29.978111Z",
     "iopub.status.busy": "2024-12-04T00:49:29.977844Z",
     "iopub.status.idle": "2024-12-04T00:49:29.985343Z",
     "shell.execute_reply": "2024-12-04T00:49:29.983644Z",
     "shell.execute_reply.started": "2024-12-04T00:49:29.978080Z"
    },
    "tags": []
   },
   "outputs": [
    {
     "name": "stdout",
     "output_type": "stream",
     "text": [
      "10 [23, 17, 19, 13, 7, 7, 5, 4, 6, 7, 8, 8, 8]\n",
      "17 [8, 3, 0, 0, 0, 0, 1, 1, 1, 2, 1, 1, 1]\n",
      "18 [1, 0, 0, 0, 0, 0, 0, 0, 0, 0, 0, 0, 0]\n",
      "19 [8, 8, 6, 5, 8, 10, 10, 7, 4, 1, 0, 0, 0]\n",
      "21 [2, 1, 2, 2, 4, 4, 4, 6, 5, 5, 4, 3, 3]\n",
      "29 [3, 1, 1, 1, 1, 1, 1, 0, 0, 0, 0, 0, 0]\n",
      "31 [16, 10, 9, 8, 8, 8, 7, 6, 4, 2, 0, 0, 0]\n",
      "33 [1, 0, 0, 0, 1, 1, 1, 1, 0, 0, 0, 0, 0]\n",
      "44 [6, 7, 11, 10, 9, 9, 5, 4, 3, 1, 1, 0, 0]\n",
      "55 [6, 4, 2, 1, 0, 1, 1, 1, 4, 4, 6, 6, 6]\n",
      "57 [6, 8, 7, 9, 9, 5, 4, 0, 0, 0, 0, 0, 0]\n",
      "58 [7, 3, 3, 1, 1, 0, 0, 0, 0, 0, 0, 0, 0]\n",
      "64 [4, 8, 7, 10, 14, 10, 14, 13, 9, 8, 4, 1, 1]\n",
      "65 [3, 4, 11, 15, 23, 26, 28, 26, 20, 14, 5, 2, 2]\n",
      "69 [11, 13, 11, 10, 7, 3, 2, 1, 0, 0, 0, 0, 0]\n",
      "70 [8, 8, 14, 21, 23, 22, 18, 11, 8, 10, 8, 10, 10]\n",
      "71 [2, 2, 5, 14, 22, 29, 30, 21, 12, 4, 0, 0, 0]\n",
      "72 [14, 10, 16, 19, 19, 22, 16, 12, 20, 17, 15, 12, 12]\n",
      "73 [6, 6, 8, 19, 25, 23, 19, 8, 2, 2, 2, 0, 0]\n",
      "74 [3, 3, 3, 1, 2, 5, 7, 7, 6, 2, 0, 0, 0]\n",
      "95 [7, 6, 6, 6, 5, 3, 3, 7, 7, 12, 13, 10, 10]\n",
      "98 [28, 30, 31, 34, 39, 49, 44, 37, 29, 18, 13, 10, 10]\n",
      "107 [3, 2, 1, 1, 1, 1, 1, 0, 0, 0, 0, 0, 0]\n"
     ]
    }
   ],
   "source": [
    "for isite, site in enumerate(unique_sites):\n",
    "    print(site, [len(depth_group_info_by_site[site][idepth]) for idepth in range(len(depth_group_info_by_site[site]))])"
   ]
  },
  {
   "cell_type": "code",
   "execution_count": 75,
   "id": "f3802b88-a10b-49c1-8c08-0c99cec6efba",
   "metadata": {
    "execution": {
     "iopub.execute_input": "2024-12-04T00:49:33.880906Z",
     "iopub.status.busy": "2024-12-04T00:49:33.880292Z",
     "iopub.status.idle": "2024-12-04T00:49:33.911007Z",
     "shell.execute_reply": "2024-12-04T00:49:33.909134Z",
     "shell.execute_reply.started": "2024-12-04T00:49:33.880854Z"
    },
    "tags": []
   },
   "outputs": [
    {
     "name": "stdout",
     "output_type": "stream",
     "text": [
      "     index  rec_number        date  rec_site  rec_xpos  rec_ypos  rec_rcaxis  \\\n",
      "0       42           5  2024-06-03        98  3.799992  0.759998    3.867212   \n",
      "1       43           5  2024-06-03        98  3.799992  0.759998    3.867212   \n",
      "2       44           5  2024-06-03        98  3.799992  0.759998    3.867212   \n",
      "3       45           5  2024-06-03        98  3.799992  0.759998    3.867212   \n",
      "4       46           5  2024-06-03        98  3.799992  0.759998    3.867212   \n",
      "..     ...         ...         ...       ...       ...       ...         ...   \n",
      "97     198          12  2024-08-30        98  3.799992  0.759998    3.867212   \n",
      "98     199          12  2024-08-30        98  3.799992  0.759998    3.867212   \n",
      "99     200          12  2024-08-30        98  3.799992  0.759998    3.867212   \n",
      "100    201          12  2024-08-30        98  3.799992  0.759998    3.867212   \n",
      "101    202          12  2024-08-30        98  3.799992  0.759998    3.867212   \n",
      "\n",
      "         implant unit_label  unit_idx  abs_depth  rel_depth  \\\n",
      "0    NPinsert137         39        34     3180.0     3220.0   \n",
      "1    NPinsert137         43        37     3180.0     3220.0   \n",
      "2    NPinsert137         50        44     3100.0     3140.0   \n",
      "3    NPinsert137         57        51     3080.0     3120.0   \n",
      "4    NPinsert137         66        60     3020.0     3060.0   \n",
      "..           ...        ...       ...        ...        ...   \n",
      "97   NPinsert137        303       303      180.0      320.0   \n",
      "98   NPinsert137        323       323      -60.0       80.0   \n",
      "99   NPinsert137        330       330     -100.0       40.0   \n",
      "100  NPinsert137        331       331     -140.0        0.0   \n",
      "101  NPinsert137        334       334     -140.0        0.0   \n",
      "\n",
      "                                              waveform  surface_pos  \\\n",
      "0    [-1.704052425359794, -1.7610214766682422, -1.7...         3800   \n",
      "1    [-4.382111593155398, -4.416636010024393, -4.29...         3800   \n",
      "2    [-1.1823680783539487, -1.1887280882689428, -1....         3800   \n",
      "3    [-2.6152480652784864, -2.684597002574491, -2.7...         3800   \n",
      "4    [-0.13563524716843026, -0.16577950937502106, -...         3800   \n",
      "..                                                 ...          ...   \n",
      "97   [-7.213181938811891, -9.545745412576, -6.20513...         2100   \n",
      "98   [2.592849904894828, 2.2421804262318847, 2.2135...         2100   \n",
      "99   [-1.339191466164526, -0.7127205099674474, -3.1...         2100   \n",
      "100  [-3.533584969726619, -3.0927041911960425, -2.5...         2100   \n",
      "101  [14.738956816149074, 15.314117927864784, 13.72...         2100   \n",
      "\n",
      "     penetration  \n",
      "0              5  \n",
      "1              5  \n",
      "2              5  \n",
      "3              5  \n",
      "4              5  \n",
      "..           ...  \n",
      "97            12  \n",
      "98            12  \n",
      "99            12  \n",
      "100           12  \n",
      "101           12  \n",
      "\n",
      "[102 rows x 15 columns]\n"
     ]
    }
   ],
   "source": [
    "print(column_group_info[-4])"
   ]
  },
  {
   "cell_type": "markdown",
   "id": "9e8dabf5",
   "metadata": {},
   "source": [
    "# Save"
   ]
  },
  {
   "cell_type": "code",
   "execution_count": 76,
   "id": "121813b3-8d62-451f-ab69-6a31bfbb61be",
   "metadata": {
    "execution": {
     "iopub.execute_input": "2024-12-04T00:49:34.808338Z",
     "iopub.status.busy": "2024-12-04T00:49:34.807673Z",
     "iopub.status.idle": "2024-12-04T00:49:34.818040Z",
     "shell.execute_reply": "2024-12-04T00:49:34.815942Z",
     "shell.execute_reply.started": "2024-12-04T00:49:34.808282Z"
    },
    "tags": []
   },
   "outputs": [
    {
     "name": "stdout",
     "output_type": "stream",
     "text": [
      "{'nrandom_units': 5, 'nrandom_groups': 1000, 'depth_ranges': [(0, 1000), (250, 1250), (500, 1500), (750, 1750), (1000, 2000), (1250, 2250), (1500, 2500), (1750, 2750), (2000, 3000), (2250, 3250), (2500, 3500), (2750, 3750), (2760.0, 3760.0)]}\n"
     ]
    }
   ],
   "source": [
    "pseudopopulation_metadata = {'nrandom_units': nrandom_units, 'nrandom_groups': nrandom_groups, 'depth_ranges': depth_ranges}\n",
    "print(pseudopopulation_metadata)"
   ]
  },
  {
   "cell_type": "code",
   "execution_count": 77,
   "id": "1e880982-c856-4aac-b805-1a4d75af210c",
   "metadata": {
    "execution": {
     "iopub.execute_input": "2024-12-04T00:49:35.054300Z",
     "iopub.status.busy": "2024-12-04T00:49:35.053700Z",
     "iopub.status.idle": "2024-12-04T00:49:35.164247Z",
     "shell.execute_reply": "2024-12-04T00:49:35.162643Z",
     "shell.execute_reply.started": "2024-12-04T00:49:35.054247Z"
    },
    "tags": []
   },
   "outputs": [],
   "source": [
    "# Save data\n",
    "aopy.data.base.pkl_write(f\"{subject}_np_psuedopopulations\", (random_group_info, column_group_info, depth_group_info, depth_group_info_by_site, pseudopopulation_metadata, unit_df), save_dir)"
   ]
  },
  {
   "cell_type": "code",
   "execution_count": 78,
   "id": "c84e80ed-dfa1-4132-b81a-a1666257edda",
   "metadata": {
    "execution": {
     "iopub.execute_input": "2024-12-04T00:49:35.239990Z",
     "iopub.status.busy": "2024-12-04T00:49:35.239384Z",
     "iopub.status.idle": "2024-12-04T00:49:35.251696Z",
     "shell.execute_reply": "2024-12-04T00:49:35.249207Z",
     "shell.execute_reply.started": "2024-12-04T00:49:35.239936Z"
    },
    "tags": []
   },
   "outputs": [
    {
     "name": "stdout",
     "output_type": "stream",
     "text": [
      "176\n",
      "154\n",
      "173\n"
     ]
    }
   ],
   "source": [
    "print(len(depth_group_info[0]))\n",
    "print(len(depth_group_info[1]))\n",
    "print(len(depth_group_info[2]))\n"
   ]
  },
  {
   "cell_type": "code",
   "execution_count": 79,
   "id": "63b4eb15-15d3-492c-9bce-9ab64035ccd0",
   "metadata": {
    "execution": {
     "iopub.execute_input": "2024-12-04T00:49:35.447047Z",
     "iopub.status.busy": "2024-12-04T00:49:35.446442Z",
     "iopub.status.idle": "2024-12-04T00:49:35.463621Z",
     "shell.execute_reply": "2024-12-04T00:49:35.462024Z",
     "shell.execute_reply.started": "2024-12-04T00:49:35.446994Z"
    },
    "tags": []
   },
   "outputs": [
    {
     "data": {
      "text/plain": [
       "numpy.ndarray"
      ]
     },
     "execution_count": 79,
     "metadata": {},
     "output_type": "execute_result"
    }
   ],
   "source": [
    "aopy.utils.get_memory_available_gb()\n",
    "type(df['unit_labels'][df['date']==dates[0]][0])"
   ]
  },
  {
   "cell_type": "code",
   "execution_count": null,
   "id": "1abfc1a4-4e6c-4722-b3e5-63a4489adc08",
   "metadata": {},
   "outputs": [],
   "source": []
  },
  {
   "cell_type": "code",
   "execution_count": null,
   "id": "d5487206-0423-4f3c-babc-eeb277610fde",
   "metadata": {},
   "outputs": [],
   "source": []
  },
  {
   "cell_type": "code",
   "execution_count": null,
   "id": "a8521630-fa5e-42f7-a701-5709d6694596",
   "metadata": {},
   "outputs": [],
   "source": []
  },
  {
   "cell_type": "code",
   "execution_count": null,
   "id": "4716a869-52d9-45d3-97cc-0144c383a1e1",
   "metadata": {},
   "outputs": [],
   "source": []
  },
  {
   "cell_type": "code",
   "execution_count": null,
   "id": "d1aaceda-23cc-49ba-becf-3c420cdc25f0",
   "metadata": {},
   "outputs": [],
   "source": []
  },
  {
   "cell_type": "code",
   "execution_count": null,
   "id": "fb8cacde-7044-4538-b5fd-11d5d32f95d0",
   "metadata": {},
   "outputs": [],
   "source": []
  },
  {
   "cell_type": "code",
   "execution_count": null,
   "id": "f26ba814-536e-42c5-94a0-a28d6e094102",
   "metadata": {},
   "outputs": [],
   "source": []
  }
 ],
 "metadata": {
  "kernelspec": {
   "display_name": "Python [conda env:np_targeting]",
   "language": "python",
   "name": "conda-env-np_targeting-py"
  },
  "language_info": {
   "codemirror_mode": {
    "name": "ipython",
    "version": 3
   },
   "file_extension": ".py",
   "mimetype": "text/x-python",
   "name": "python",
   "nbconvert_exporter": "python",
   "pygments_lexer": "ipython3",
   "version": "3.9.18"
  }
 },
 "nbformat": 4,
 "nbformat_minor": 5
}
