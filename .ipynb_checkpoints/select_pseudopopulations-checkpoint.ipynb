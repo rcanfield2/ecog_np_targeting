{
 "cells": [
  {
   "cell_type": "code",
   "execution_count": 82,
   "id": "5d446e86-44e7-4d8a-8212-5a22da47136f",
   "metadata": {
    "execution": {
     "iopub.execute_input": "2024-09-19T07:39:11.979822Z",
     "iopub.status.busy": "2024-09-19T07:39:11.979059Z",
     "iopub.status.idle": "2024-09-19T07:39:11.998729Z",
     "shell.execute_reply": "2024-09-19T07:39:11.996800Z",
     "shell.execute_reply.started": "2024-09-19T07:39:11.979766Z"
    },
    "tags": []
   },
   "outputs": [],
   "source": [
    "def load_hdf_group(data_dir, hdf_filename, group=\"/\"):\n",
    "    '''\n",
    "    Loads any datasets from the given hdf group into a dictionary. Also will\n",
    "    recursively load other groups if any exist under the given group\n",
    "\n",
    "    Args:\n",
    "        data_dir (str): folder where data is located\n",
    "        hdf_filename (str): name of hdf file\n",
    "        group (str): name of the group to load\n",
    "    \n",
    "    Returns:\n",
    "        dict: all the datasets contained in the given group\n",
    "    '''\n",
    "    full_file_name = os.path.join(data_dir, hdf_filename)\n",
    "    hdf = h5py.File(full_file_name, 'r')\n",
    "    if group not in hdf:\n",
    "        raise ValueError('No such group in file {}'.format(hdf_filename))\n",
    "\n",
    "    # Recursively load groups until datasets are reached\n",
    "    def _load_hdf_group(hdf):\n",
    "        keys = hdf.keys()\n",
    "        data = dict()\n",
    "        for k in keys:\n",
    "            if isinstance(hdf[k], h5py.Group):\n",
    "                data[k] = _load_hdf_group(hdf[k])\n",
    "            else:\n",
    "                k_, v = _load_hdf_dataset(hdf[k], k)\n",
    "                data[k_] = v\n",
    "        return data\n",
    "\n",
    "    data = _load_hdf_group(hdf[group])\n",
    "    hdf.close()\n",
    "    return data\n",
    "\n",
    "def _load_hdf_dataset(dataset, name):\n",
    "    '''\n",
    "    Internal function for loading hdf datasets. Decodes json and unicode data automatically.\n",
    "\n",
    "    Args:\n",
    "        dataset (hdf object): dataset to load\n",
    "        name (str): name of the dataset\n",
    "\n",
    "    Returns:\n",
    "        tuple: Tuple containing:\n",
    "            | **name (str):** name of the dataset (might be modified)\n",
    "            | **data (object):** loaded data\n",
    "    '''\n",
    "    data = dataset[()]\n",
    "    if '_json' in name:\n",
    "        import json\n",
    "        name = name.replace('_json', '')\n",
    "        data = json.loads(data)\n",
    "    try:\n",
    "        data = data.decode('utf-8')\n",
    "    except:\n",
    "        pass\n",
    "    return name, data"
   ]
  },
  {
   "cell_type": "code",
   "execution_count": 83,
   "id": "5802cedd-b3cd-4c74-b71e-a49db1d6c29d",
   "metadata": {
    "execution": {
     "iopub.execute_input": "2024-09-19T07:39:12.390119Z",
     "iopub.status.busy": "2024-09-19T07:39:12.389470Z",
     "iopub.status.idle": "2024-09-19T07:39:12.402756Z",
     "shell.execute_reply": "2024-09-19T07:39:12.400806Z",
     "shell.execute_reply.started": "2024-09-19T07:39:12.390065Z"
    },
    "tags": []
   },
   "outputs": [],
   "source": [
    "import numpy as np\n",
    "import matplotlib.pyplot as plt\n",
    "import aopy\n",
    "import os\n",
    "import pandas as pds\n",
    "from db import dbfunctions as db\n",
    "from ipywidgets import interactive, widgets\n",
    "import scipy\n",
    "import h5py\n",
    "from tqdm.auto import tqdm \n",
    "import seaborn as sn\n",
    "import sklearn\n",
    "from sklearn.decomposition import PCA, FactorAnalysis\n",
    "from itertools import compress\n",
    "import multiprocessing as mp\n",
    "import time\n",
    "import math\n",
    "from scipy.fft import fft\n",
    "import glob\n",
    "from datetime import date"
   ]
  },
  {
   "cell_type": "markdown",
   "id": "5f1b1345-3532-4c0a-be1b-9895db46adda",
   "metadata": {},
   "source": [
    "# Set parameters"
   ]
  },
  {
   "cell_type": "code",
   "execution_count": 84,
   "id": "fd6e7969-b9c3-4121-8594-a6646a7497f9",
   "metadata": {
    "execution": {
     "iopub.execute_input": "2024-09-19T07:39:13.174724Z",
     "iopub.status.busy": "2024-09-19T07:39:13.174076Z",
     "iopub.status.idle": "2024-09-19T07:39:13.182953Z",
     "shell.execute_reply": "2024-09-19T07:39:13.181669Z",
     "shell.execute_reply.started": "2024-09-19T07:39:13.174673Z"
    },
    "tags": []
   },
   "outputs": [],
   "source": [
    "save_figs = False\n",
    "base_save_dir = \"/media/moor-data/results/Ryan/neuropixel_targeting/\"\n",
    "np_preproc_data_folder = 'np_analysis_preproc_data'\n",
    "ecog_dec_acc_file_name = 'ecog_decoding_maps/npinsert_ecog_decoding'\n",
    "\n",
    "subject = 'affi'\n",
    "align_events = ['TARGET ONSET', 'GO CUE', 'MOVEMENT ONSET']"
   ]
  },
  {
   "cell_type": "code",
   "execution_count": 85,
   "id": "cd692701-dc60-4b11-a361-5a93fc22ada2",
   "metadata": {
    "execution": {
     "iopub.execute_input": "2024-09-19T07:39:15.375851Z",
     "iopub.status.busy": "2024-09-19T07:39:15.375207Z",
     "iopub.status.idle": "2024-09-19T07:39:15.389446Z",
     "shell.execute_reply": "2024-09-19T07:39:15.387522Z",
     "shell.execute_reply.started": "2024-09-19T07:39:15.375796Z"
    },
    "tags": []
   },
   "outputs": [],
   "source": [
    "# Decoding calculation parameters\n",
    "tbefore = 0.5\n",
    "tafter = 1\n",
    "nlda_lags = 1\n",
    "niter_match = 50\n",
    "min_trial_prop = .85\n",
    "ntrial_bin_size = 96\n",
    "nfolds = 4\n",
    "\n",
    "# Visualization parameters\n",
    "colors = sn.color_palette(n_colors=9)\n",
    "recording_brain_areas={'M1': [30, 56, 47, 40, 121, 48, 120, 98], 'PM':[11, 9, 18, 22, 10, 45]}\n",
    "day_colors = ['dodgerblue', 'indigo', 'violet', 'lightblue', 'mediumorchid',\n",
    "              'purple', 'steelblue', 'dodgerblue', 'lightblue', 'red', 'black', 'green', 'purple', 'cyan', 'gray', 'yellow'] \n",
    "\n",
    "save_dir = \"/media/moor-data/results/Ryan/neuropixel_targeting/np_analysis_preproc_data\""
   ]
  },
  {
   "cell_type": "markdown",
   "id": "00433fce-e97d-46aa-b9c7-c2d30cd2998a",
   "metadata": {},
   "source": [
    "# Load and extract relevant data"
   ]
  },
  {
   "cell_type": "code",
   "execution_count": 86,
   "id": "e4381962-bc14-4232-8991-643780d7c1db",
   "metadata": {
    "execution": {
     "iopub.execute_input": "2024-09-19T07:39:15.999266Z",
     "iopub.status.busy": "2024-09-19T07:39:15.998614Z",
     "iopub.status.idle": "2024-09-19T07:52:00.784846Z",
     "shell.execute_reply": "2024-09-19T07:52:00.783805Z",
     "shell.execute_reply.started": "2024-09-19T07:39:15.999213Z"
    },
    "tags": []
   },
   "outputs": [
    {
     "name": "stdout",
     "output_type": "stream",
     "text": [
      "13.0 min to load preprocessed data\n"
     ]
    }
   ],
   "source": [
    "start = time.time()\n",
    "aopy.utils.release_memory_limit()\n",
    "df, rasters, preproc_metadata = aopy.data.base.pkl_read(f\"{subject}_np_preprocessed\", os.path.join(base_save_dir, np_preproc_data_folder))\n",
    "print(f\"{np.round((time.time()-start)/60)} min to load preprocessed data\")\n",
    "nrecs = preproc_metadata['nrecs']\n",
    "recording_site = preproc_metadata['recording_sites'] # will be the same for all align events\n",
    "implants = ['NPinsert72' if preproc_metadata['implant'][irec] == 'NP_Insert72' else 'NPinsert137' for irec in range(len(preproc_metadata['implant']))] #Rename because name in bmi3d is slightly different (TODO)\n",
    "dates = np.unique(df['date'])"
   ]
  },
  {
   "cell_type": "code",
   "execution_count": 87,
   "id": "8099da1e-5d21-40dc-b084-7da935c18dc2",
   "metadata": {
    "execution": {
     "iopub.execute_input": "2024-09-19T07:52:00.786763Z",
     "iopub.status.busy": "2024-09-19T07:52:00.786527Z",
     "iopub.status.idle": "2024-09-19T07:52:00.995725Z",
     "shell.execute_reply": "2024-09-19T07:52:00.994456Z",
     "shell.execute_reply.started": "2024-09-19T07:52:00.786746Z"
    },
    "tags": []
   },
   "outputs": [],
   "source": [
    "ecog_dec_acc = load_hdf_group(base_save_dir, ecog_dec_acc_file_name)"
   ]
  },
  {
   "cell_type": "code",
   "execution_count": 90,
   "id": "07c58de2-234d-416e-a7ae-63d0d7357120",
   "metadata": {
    "execution": {
     "iopub.execute_input": "2024-09-19T14:15:33.351503Z",
     "iopub.status.busy": "2024-09-19T14:15:33.350859Z",
     "iopub.status.idle": "2024-09-19T14:15:33.381160Z",
     "shell.execute_reply": "2024-09-19T14:15:33.379724Z",
     "shell.execute_reply.started": "2024-09-19T14:15:33.351451Z"
    },
    "tags": []
   },
   "outputs": [],
   "source": [
    "qc_results, ksdrift = aopy.data.base.pkl_read(f\"{subject}_QCunits\", os.path.join(base_save_dir, np_preproc_data_folder))\n",
    "# stable_unit_labels = [qc_results['final_good_unit_labels'][irec] for irec in range(nrecs)]\n",
    "# stable_unit_idx = [qc_results['final_good_unit_idx'][irec] for irec in range(nrecs)]\n",
    "# nstable_unit = np.array([len(qc_results['final_good_unit_idx'][irec]) for irec in range(nrecs)])\n",
    "# neuron_pos = [qc_results['position'][irec] for irec in range(nrecs)]\n",
    "\n",
    "# if subject == 'affi':\n",
    "stable_unit_labels = [qc_results['manual_good_unit_labels'][irec] for irec in range(nrecs)]\n",
    "stable_unit_idx = [qc_results['manual_good_unit_idx'][irec] for irec in range(nrecs)]\n",
    "nstable_unit = np.array([len(qc_results['manual_good_unit_idx'][irec]) for irec in range(nrecs)])\n",
    "neuron_pos = [qc_results['manual_position'][irec] for irec in range(nrecs)]"
   ]
  },
  {
   "cell_type": "code",
   "execution_count": 93,
   "id": "a76b4fd6-34ba-403d-964a-8a3f0d801a98",
   "metadata": {
    "execution": {
     "iopub.execute_input": "2024-09-19T14:16:23.879193Z",
     "iopub.status.busy": "2024-09-19T14:16:23.878376Z",
     "iopub.status.idle": "2024-09-19T14:16:23.890430Z",
     "shell.execute_reply": "2024-09-19T14:16:23.889035Z",
     "shell.execute_reply.started": "2024-09-19T14:16:23.879137Z"
    },
    "tags": []
   },
   "outputs": [
    {
     "name": "stdout",
     "output_type": "stream",
     "text": [
      "(26,) 26 [3840 3840 3400 3250 3840 3800 3800 3900 3500 3700 2500 3250 2100 3840\n",
      " 3100 1600 3250 2500 3100 3300 3800 3100 3250 2750 2900 2750]\n"
     ]
    }
   ],
   "source": [
    "if subject == 'beignet':\n",
    "    surface_pos = np.ones(nrecs)*3840\n",
    "elif subject == 'affi':\n",
    "    surface_pos = np.array([3840, 3840, 3400, 3250,3840,3800,3800,3900,3500,3700,2500,3250,2100,3840,3100,1600,3250,2500,3100,3300,3800,3100,3250,2750,2900, 2750])\n",
    "print(surface_pos.shape, nrecs, surface_pos)"
   ]
  },
  {
   "cell_type": "code",
   "execution_count": 94,
   "id": "61c2c0de-8ba7-41a5-bf6c-de5b682bec77",
   "metadata": {
    "execution": {
     "iopub.execute_input": "2024-09-19T14:16:24.567690Z",
     "iopub.status.busy": "2024-09-19T14:16:24.566919Z",
     "iopub.status.idle": "2024-09-19T14:16:27.509714Z",
     "shell.execute_reply": "2024-09-19T14:16:27.508929Z",
     "shell.execute_reply.started": "2024-09-19T14:16:24.567637Z"
    },
    "tags": []
   },
   "outputs": [
    {
     "data": {
      "application/vnd.jupyter.widget-view+json": {
       "model_id": "81939957406f44c280b627f9735cecd6",
       "version_major": 2,
       "version_minor": 0
      },
      "text/plain": [
       "  0%|          | 0/26 [00:00<?, ?it/s]"
      ]
     },
     "metadata": {},
     "output_type": "display_data"
    }
   ],
   "source": [
    "# compile dataframe of unit information\n",
    "# Need columns for: date, recording site, unit_label, absolute y-pos, relative y-pos, waveform\n",
    "unit_info = {'rec_number': [], 'date': [], 'rec_site': [], 'rec_xpos': [], 'rec_ypos': [], 'rec_rcaxis': [], 'implant': [],\n",
    "             'unit_label': [], 'unit_idx': [], 'abs_depth': [], 'rel_depth': [], 'waveform': [], 'surface_pos': []}\n",
    "# unit_info = {'rec_number': [], 'date': [], 'rec_site': [], 'rec_xpos': [], 'rec_ypos': [], 'implant': [],\n",
    "#              'unit_label': [], 'unit_idx': []}\n",
    "surface_buffer = 200\n",
    "for irec in tqdm(range(nrecs)):\n",
    "    for iunit in range(nstable_unit[irec]):\n",
    "        # Only save units that are below the estimated surface of the brain\n",
    "        if neuron_pos[irec][iunit] <= (surface_pos[irec]+surface_buffer):   \n",
    "        \n",
    "            unit_info['rec_number'].append(irec) # Recording_number\n",
    "            unit_info['date'].append(np.unique(df['date'])[irec]) # date (assumes each recording is done on a different day)\n",
    "            unit_info['rec_site'].append(recording_site[irec]) # Recording site\n",
    "            unit_info['rec_xpos'].append(ecog_dec_acc[subject]['rec_locations'][irec,0]) # Recording site x pos in chamber\n",
    "            unit_info['rec_ypos'].append(ecog_dec_acc[subject]['rec_locations'][irec,1]) # Recording site y pos in chamber\n",
    "            unit_info['rec_rcaxis'].append(ecog_dec_acc[subject]['rc_axis'][irec,0]) # Recording site y pos in chamber\n",
    "            unit_info['implant'].append(implants[irec]) # Implant\n",
    "            unit_info['unit_label'].append(stable_unit_labels[irec][iunit]) # unit label output from kilosort\n",
    "            unit_info['unit_idx'].append(stable_unit_idx[irec][iunit]) # unit label output from kilosort\n",
    "            unit_info['abs_depth'].append(surface_pos[irec] - neuron_pos[irec][iunit]) #Absolute depth [um]\n",
    "            unit_info['rel_depth'].append(3840-neuron_pos[irec][iunit]-np.min(3840-neuron_pos[irec])) #Relative depth [um] (to top detected neuron)\n",
    "            unit_info['waveform'].append(qc_results['mean_wfs'][irec][iunit,:]) #waveform\n",
    "            unit_info['surface_pos'].append(surface_pos[irec])\n",
    "            # unit_info['waveform'].append(qc_results['manual_wfs'][irec][iunit,:]) #waveform"
   ]
  },
  {
   "cell_type": "code",
   "execution_count": 95,
   "id": "6d22c72e-b007-4bb4-9f54-b43525e6f845",
   "metadata": {
    "execution": {
     "iopub.execute_input": "2024-09-19T14:16:27.510878Z",
     "iopub.status.busy": "2024-09-19T14:16:27.510719Z",
     "iopub.status.idle": "2024-09-19T14:16:27.518221Z",
     "shell.execute_reply": "2024-09-19T14:16:27.517464Z",
     "shell.execute_reply.started": "2024-09-19T14:16:27.510866Z"
    },
    "tags": []
   },
   "outputs": [],
   "source": [
    "unit_df = pds.DataFrame(unit_info)"
   ]
  },
  {
   "cell_type": "markdown",
   "id": "f5c27f6f-9304-484d-b19d-a5d1505c3f6f",
   "metadata": {},
   "source": [
    "# Create pseudopopulations"
   ]
  },
  {
   "cell_type": "code",
   "execution_count": 96,
   "id": "149ea534-93ef-412d-b436-9c2a6640b462",
   "metadata": {
    "execution": {
     "iopub.execute_input": "2024-09-19T14:16:27.518930Z",
     "iopub.status.busy": "2024-09-19T14:16:27.518791Z",
     "iopub.status.idle": "2024-09-19T14:16:27.522514Z",
     "shell.execute_reply": "2024-09-19T14:16:27.521792Z",
     "shell.execute_reply.started": "2024-09-19T14:16:27.518917Z"
    },
    "tags": []
   },
   "outputs": [],
   "source": [
    "pp_configs = ['random', 'column', 'depth'] # Pseudopopulation cofigurations "
   ]
  },
  {
   "cell_type": "markdown",
   "id": "7f473ec7-a65c-4dc6-b02e-7a4cd8364ef3",
   "metadata": {},
   "source": [
    "## Random"
   ]
  },
  {
   "cell_type": "code",
   "execution_count": 97,
   "id": "1f8fbb39-0e5a-47b0-a548-d657e70b0649",
   "metadata": {
    "execution": {
     "iopub.execute_input": "2024-09-19T14:16:27.523816Z",
     "iopub.status.busy": "2024-09-19T14:16:27.523669Z",
     "iopub.status.idle": "2024-09-19T14:16:27.784838Z",
     "shell.execute_reply": "2024-09-19T14:16:27.783883Z",
     "shell.execute_reply.started": "2024-09-19T14:16:27.523803Z"
    },
    "tags": []
   },
   "outputs": [],
   "source": [
    "# Create random neuron populations\n",
    "nrandom_units = 5 # Number of random units chosen in each group\n",
    "nrandom_groups = 1000 # Number of random groups to make\n",
    "random_group_info = []\n",
    "for igroup in range(nrandom_groups):\n",
    "    group_idx = np.random.choice(np.arange(len(unit_df)), size=(nrandom_units), replace=False)\n",
    "    random_group_info.append(unit_df.loc[group_idx])"
   ]
  },
  {
   "cell_type": "markdown",
   "id": "e1b3c1a9-aff8-4f9f-a424-19a89a3c71a3",
   "metadata": {},
   "source": [
    "## Column"
   ]
  },
  {
   "cell_type": "code",
   "execution_count": 98,
   "id": "7cf71e6c-ef21-4f18-bd3d-7c4fae53e910",
   "metadata": {
    "execution": {
     "iopub.execute_input": "2024-09-19T14:16:27.786121Z",
     "iopub.status.busy": "2024-09-19T14:16:27.785909Z",
     "iopub.status.idle": "2024-09-19T14:16:27.802816Z",
     "shell.execute_reply": "2024-09-19T14:16:27.801991Z",
     "shell.execute_reply.started": "2024-09-19T14:16:27.786102Z"
    },
    "tags": []
   },
   "outputs": [
    {
     "name": "stdout",
     "output_type": "stream",
     "text": [
      "7\n"
     ]
    },
    {
     "data": {
      "text/html": [
       "<div>\n",
       "<style scoped>\n",
       "    .dataframe tbody tr th:only-of-type {\n",
       "        vertical-align: middle;\n",
       "    }\n",
       "\n",
       "    .dataframe tbody tr th {\n",
       "        vertical-align: top;\n",
       "    }\n",
       "\n",
       "    .dataframe thead th {\n",
       "        text-align: right;\n",
       "    }\n",
       "</style>\n",
       "<table border=\"1\" class=\"dataframe\">\n",
       "  <thead>\n",
       "    <tr style=\"text-align: right;\">\n",
       "      <th></th>\n",
       "      <th>rec_number</th>\n",
       "      <th>date</th>\n",
       "      <th>rec_site</th>\n",
       "      <th>rec_xpos</th>\n",
       "      <th>rec_ypos</th>\n",
       "      <th>rec_rcaxis</th>\n",
       "      <th>implant</th>\n",
       "      <th>unit_label</th>\n",
       "      <th>unit_idx</th>\n",
       "      <th>abs_depth</th>\n",
       "      <th>rel_depth</th>\n",
       "      <th>waveform</th>\n",
       "      <th>surface_pos</th>\n",
       "    </tr>\n",
       "  </thead>\n",
       "  <tbody>\n",
       "    <tr>\n",
       "      <th>92</th>\n",
       "      <td>7</td>\n",
       "      <td>2024-06-05</td>\n",
       "      <td>74</td>\n",
       "      <td>3.799992</td>\n",
       "      <td>3.799992</td>\n",
       "      <td>4.654021</td>\n",
       "      <td>NPinsert137</td>\n",
       "      <td>7</td>\n",
       "      <td>5</td>\n",
       "      <td>2660.0</td>\n",
       "      <td>2340.0</td>\n",
       "      <td>[0.5647804139801271, 0.42161704029400976, 0.32...</td>\n",
       "      <td>3900</td>\n",
       "    </tr>\n",
       "  </tbody>\n",
       "</table>\n",
       "</div>"
      ],
      "text/plain": [
       "    rec_number        date  rec_site  rec_xpos  rec_ypos  rec_rcaxis  \\\n",
       "92           7  2024-06-05        74  3.799992  3.799992    4.654021   \n",
       "\n",
       "        implant unit_label  unit_idx  abs_depth  rel_depth  \\\n",
       "92  NPinsert137          7         5     2660.0     2340.0   \n",
       "\n",
       "                                             waveform  surface_pos  \n",
       "92  [0.5647804139801271, 0.42161704029400976, 0.32...         3900  "
      ]
     },
     "execution_count": 98,
     "metadata": {},
     "output_type": "execute_result"
    }
   ],
   "source": [
    "temp_unit_label = unit_df.loc[(unit_df['rec_xpos']==pos[0]) & (unit_df['rec_ypos']==pos[1])].iloc[0]['unit_label']\n",
    "print(temp_unit_label)\n",
    "unit_df.loc[(unit_df['rec_xpos']==pos[0]) & (unit_df['rec_ypos']==pos[1]) & (unit_df['unit_label']==temp_unit_label)]"
   ]
  },
  {
   "cell_type": "code",
   "execution_count": 99,
   "id": "853f8810-8fdd-42ed-a1c1-5b6f838f3a75",
   "metadata": {
    "execution": {
     "iopub.execute_input": "2024-09-19T14:16:27.803955Z",
     "iopub.status.busy": "2024-09-19T14:16:27.803757Z",
     "iopub.status.idle": "2024-09-19T14:16:27.829526Z",
     "shell.execute_reply": "2024-09-19T14:16:27.828624Z",
     "shell.execute_reply.started": "2024-09-19T14:16:27.803937Z"
    },
    "tags": []
   },
   "outputs": [],
   "source": [
    "# Create random neuron populations from each recording_location\n",
    "min_probe_depth = 2000 #[um]\n",
    "unique_rec_pos = np.unique(ecog_dec_acc[subject]['rec_locations'], axis=0)\n",
    "column_group_info = []\n",
    "for ipos in range(unique_rec_pos.shape[0]):\n",
    "    pos = unique_rec_pos[ipos,:]\n",
    "    new_df = unit_df.loc[(unit_df['rec_xpos']==pos[0]) & (unit_df['rec_ypos']==pos[1]) & (unit_df['surface_pos']>min_probe_depth)].reset_index()\n",
    "    \n",
    "    # Very hacky to just add one unit and make code work\n",
    "    if len(new_df)==0:\n",
    "        temp_unit_label = unit_df.loc[(unit_df['rec_xpos']==pos[0]) & (unit_df['rec_ypos']==pos[1])].iloc[0]['unit_label']\n",
    "        new_df = unit_df.loc[(unit_df['rec_xpos']==pos[0]) & (unit_df['rec_ypos']==pos[1]) & (unit_df['unit_label']==temp_unit_label)].reset_index()\n",
    "        \n",
    "    column_group_info.append(new_df) #only use sites whose surface position is greater than a threshold\n",
    "\n",
    "    # print(unit_df.loc[(unit_df['rec_xpos']==pos[0]) & (unit_df['rec_ypos']==pos[1])].reset_index())\n",
    "    # print(len(column_group_info[ipos]),column_group_info[ipos]['rec_site'][0])"
   ]
  },
  {
   "cell_type": "code",
   "execution_count": 100,
   "id": "dfacf4ab-ef8d-4c9b-b707-9e916a6325c2",
   "metadata": {
    "execution": {
     "iopub.execute_input": "2024-09-19T14:16:27.830503Z",
     "iopub.status.busy": "2024-09-19T14:16:27.830291Z",
     "iopub.status.idle": "2024-09-19T14:16:27.838085Z",
     "shell.execute_reply": "2024-09-19T14:16:27.837237Z",
     "shell.execute_reply.started": "2024-09-19T14:16:27.830484Z"
    },
    "tags": []
   },
   "outputs": [
    {
     "name": "stdout",
     "output_type": "stream",
     "text": [
      "nUnits:   [4, 18, 5, 13, 5, 14, 8, 2, 14, 25, 3, 1, 21, 1, 4, 33, 22, 97, 11]\n",
      "Rec Site: [29, 19, 10, 31, 21, 55, 44, 33, 69, 70, 58, 46, 95, 71, 107, 72, 73, 98, 74]\n",
      "19\n",
      "[[-3.79999184  0.75999837]\n",
      " [-3.79999184  2.2799951 ]\n",
      " [-3.79999184  3.79999184]\n",
      " [-2.2799951   2.2799951 ]\n",
      " [-2.2799951   3.79999184]\n",
      " [-1.51999674  0.        ]\n",
      " [-0.75999837  2.2799951 ]\n",
      " [-0.75999837  3.79999184]\n",
      " [ 0.          0.        ]\n",
      " [ 0.75999837  0.75999837]\n",
      " [ 0.75999837  2.2799951 ]\n",
      " [ 0.75999837  3.79999184]\n",
      " [ 1.51999674 -1.51999674]\n",
      " [ 1.51999674  1.51999674]\n",
      " [ 2.2799951  -2.2799951 ]\n",
      " [ 2.2799951   2.2799951 ]\n",
      " [ 3.03999347  3.03999347]\n",
      " [ 3.79999184  0.75999837]\n",
      " [ 3.79999184  3.79999184]]\n",
      "[ 19  29  55  58  33  98  10  74  72 107  70  44  98  46  31  71  21  69\n",
      "  95  31  31  70  31  72  72  73]\n"
     ]
    }
   ],
   "source": [
    "print('nUnits:  ', [len(column_group_info[ii]) for ii in range(len(column_group_info))])\n",
    "print('Rec Site:', [column_group_info[ii]['rec_site'][0] for ii in range(len(column_group_info))])\n",
    "print(len(unique_rec_pos))\n",
    "print(unique_rec_pos)\n",
    "print(recording_site)"
   ]
  },
  {
   "cell_type": "markdown",
   "id": "9663e792-6bd0-4cce-abae-d4ec194279a3",
   "metadata": {},
   "source": [
    "## Depth"
   ]
  },
  {
   "cell_type": "code",
   "execution_count": 101,
   "id": "1ff454c8-e8c7-482b-9004-d3c9afbb75d9",
   "metadata": {
    "execution": {
     "iopub.execute_input": "2024-09-19T14:16:27.838981Z",
     "iopub.status.busy": "2024-09-19T14:16:27.838791Z",
     "iopub.status.idle": "2024-09-19T14:16:27.842637Z",
     "shell.execute_reply": "2024-09-19T14:16:27.841859Z",
     "shell.execute_reply.started": "2024-09-19T14:16:27.838963Z"
    },
    "tags": []
   },
   "outputs": [],
   "source": [
    "# depth_ranges = [(0,1000), (1000, 2000), (2000, 100000)] #Boundary distinguishing shallow and deep neurons "
   ]
  },
  {
   "cell_type": "code",
   "execution_count": 102,
   "id": "be9957bb-f500-4bef-ba38-e842a789cfbe",
   "metadata": {
    "execution": {
     "iopub.execute_input": "2024-09-19T14:16:27.843611Z",
     "iopub.status.busy": "2024-09-19T14:16:27.843428Z",
     "iopub.status.idle": "2024-09-19T14:16:27.858956Z",
     "shell.execute_reply": "2024-09-19T14:16:27.858088Z",
     "shell.execute_reply.started": "2024-09-19T14:16:27.843594Z"
    },
    "tags": []
   },
   "outputs": [],
   "source": [
    "# Create random neuron populations from neurons at different depths\n",
    "\n",
    "depth_ranges = [(0,1000),(250,1250),(500,1500),(750,1750),(1000,2000),(1250,2250),(1500,2500),(1750,2750),(2000,3000),(2250,3250),(2500,3500),(2750,3750),(np.max(unit_df['rel_depth'])-1000,np.max(unit_df['rel_depth']))] #Boundary distinguishing shallow and deep neurons \n",
    "\n",
    "depth_group_info = []\n",
    "for irange, depth_range in enumerate(depth_ranges):\n",
    "    depth_group_info.append(unit_df.loc[(unit_df['rel_depth'] >= depth_range[0]) & (unit_df['rel_depth'] < depth_range[1])].reset_index())"
   ]
  },
  {
   "cell_type": "code",
   "execution_count": 103,
   "id": "7ef30a12-00a5-464f-a72f-8c36ded1ca89",
   "metadata": {
    "execution": {
     "iopub.execute_input": "2024-09-19T14:16:27.860973Z",
     "iopub.status.busy": "2024-09-19T14:16:27.860772Z",
     "iopub.status.idle": "2024-09-19T14:16:28.049268Z",
     "shell.execute_reply": "2024-09-19T14:16:28.048325Z",
     "shell.execute_reply.started": "2024-09-19T14:16:27.860956Z"
    },
    "tags": []
   },
   "outputs": [],
   "source": [
    "#Create random neuron populations for each recording site from neurons at different depths\n",
    "\n",
    "depth_group_info_by_site = {}\n",
    "unique_sites = np.unique(unit_df['rec_site'])\n",
    "for isite, site in enumerate(unique_sites):\n",
    "    depth_group_info_by_site[site] = []\n",
    "    for irange, depth_range in enumerate(depth_ranges):\n",
    "        depth_mask = (unit_df['rel_depth'] >= depth_range[0]) & (unit_df['rel_depth'] < depth_range[1])\n",
    "        site_mask = unit_df['rec_site'] == site\n",
    "        depth_group_info_by_site[site].append(unit_df.loc[depth_mask*site_mask].reset_index())"
   ]
  },
  {
   "cell_type": "code",
   "execution_count": 104,
   "id": "e0e0c97e",
   "metadata": {
    "execution": {
     "iopub.execute_input": "2024-09-19T14:16:28.050419Z",
     "iopub.status.busy": "2024-09-19T14:16:28.050213Z",
     "iopub.status.idle": "2024-09-19T14:16:28.061496Z",
     "shell.execute_reply": "2024-09-19T14:16:28.055537Z",
     "shell.execute_reply.started": "2024-09-19T14:16:28.050401Z"
    },
    "tags": []
   },
   "outputs": [
    {
     "name": "stdout",
     "output_type": "stream",
     "text": [
      "10 [3, 1, 1, 2, 2, 2, 1, 0, 0, 0, 0, 0, 0]\n",
      "19 [7, 7, 5, 5, 8, 9, 9, 6, 3, 1, 0, 0, 0]\n",
      "21 [0, 1, 2, 2, 4, 3, 2, 3, 1, 1, 1, 0, 1]\n",
      "29 [3, 1, 1, 1, 1, 1, 1, 0, 0, 0, 0, 0, 0]\n",
      "31 [9, 7, 6, 5, 4, 2, 1, 0, 0, 0, 0, 0, 0]\n",
      "33 [1, 0, 0, 0, 1, 1, 1, 1, 0, 0, 0, 0, 0]\n",
      "44 [6, 5, 5, 3, 2, 1, 0, 0, 0, 0, 0, 0, 0]\n",
      "46 [1, 0, 0, 0, 0, 0, 0, 0, 0, 0, 0, 0, 0]\n",
      "55 [6, 4, 2, 1, 0, 1, 1, 1, 5, 5, 7, 7, 7]\n",
      "58 [2, 1, 1, 1, 1, 0, 0, 0, 0, 0, 0, 0, 0]\n",
      "69 [10, 8, 8, 5, 4, 3, 1, 0, 0, 0, 0, 0, 0]\n",
      "70 [13, 10, 8, 5, 4, 5, 7, 9, 8, 5, 3, 0, 3]\n",
      "71 [22, 26, 22, 15, 7, 1, 0, 0, 0, 0, 0, 0, 0]\n",
      "72 [5, 3, 10, 16, 17, 21, 13, 10, 11, 7, 7, 4, 7]\n",
      "73 [3, 7, 15, 20, 19, 14, 5, 0, 0, 0, 0, 0, 0]\n",
      "74 [3, 3, 3, 1, 2, 5, 7, 7, 6, 2, 0, 0, 0]\n",
      "95 [3, 8, 8, 8, 7, 3, 3, 5, 5, 9, 9, 7, 9]\n",
      "98 [28, 30, 35, 42, 42, 38, 27, 19, 19, 20, 16, 13, 15]\n",
      "107 [3, 2, 1, 1, 1, 1, 1, 0, 0, 0, 0, 0, 0]\n"
     ]
    }
   ],
   "source": [
    "for isite, site in enumerate(unique_sites):\n",
    "    print(site, [len(depth_group_info_by_site[site][idepth]) for idepth in range(len(depth_group_info_by_site[site]))])"
   ]
  },
  {
   "cell_type": "code",
   "execution_count": 105,
   "id": "f3802b88-a10b-49c1-8c08-0c99cec6efba",
   "metadata": {
    "execution": {
     "iopub.execute_input": "2024-09-19T14:16:28.062544Z",
     "iopub.status.busy": "2024-09-19T14:16:28.062351Z",
     "iopub.status.idle": "2024-09-19T14:16:28.083629Z",
     "shell.execute_reply": "2024-09-19T14:16:28.082749Z",
     "shell.execute_reply.started": "2024-09-19T14:16:28.062527Z"
    },
    "tags": []
   },
   "outputs": [
    {
     "name": "stdout",
     "output_type": "stream",
     "text": [
      "    index  rec_number        date  rec_site  rec_xpos  rec_ypos  rec_rcaxis  \\\n",
      "0     103           8  2024-06-06        72  2.279995  2.279995    2.792412   \n",
      "1     104           8  2024-06-06        72  2.279995  2.279995    2.792412   \n",
      "2     105           8  2024-06-06        72  2.279995  2.279995    2.792412   \n",
      "3     106           8  2024-06-06        72  2.279995  2.279995    2.792412   \n",
      "4     107           8  2024-06-06        72  2.279995  2.279995    2.792412   \n",
      "5     108           8  2024-06-06        72  2.279995  2.279995    2.792412   \n",
      "6     109           8  2024-06-06        72  2.279995  2.279995    2.792412   \n",
      "7     110           8  2024-06-06        72  2.279995  2.279995    2.792412   \n",
      "8     282          23  2024-09-14        72  2.279995  2.279995    2.792412   \n",
      "9     283          23  2024-09-14        72  2.279995  2.279995    2.792412   \n",
      "10    284          23  2024-09-14        72  2.279995  2.279995    2.792412   \n",
      "11    285          23  2024-09-14        72  2.279995  2.279995    2.792412   \n",
      "12    286          23  2024-09-14        72  2.279995  2.279995    2.792412   \n",
      "13    287          23  2024-09-14        72  2.279995  2.279995    2.792412   \n",
      "14    288          23  2024-09-14        72  2.279995  2.279995    2.792412   \n",
      "15    289          23  2024-09-14        72  2.279995  2.279995    2.792412   \n",
      "16    290          23  2024-09-14        72  2.279995  2.279995    2.792412   \n",
      "17    291          23  2024-09-14        72  2.279995  2.279995    2.792412   \n",
      "18    292          23  2024-09-14        72  2.279995  2.279995    2.792412   \n",
      "19    293          23  2024-09-14        72  2.279995  2.279995    2.792412   \n",
      "20    294          23  2024-09-14        72  2.279995  2.279995    2.792412   \n",
      "21    295          23  2024-09-14        72  2.279995  2.279995    2.792412   \n",
      "22    296          23  2024-09-14        72  2.279995  2.279995    2.792412   \n",
      "23    297          23  2024-09-14        72  2.279995  2.279995    2.792412   \n",
      "24    298          23  2024-09-14        72  2.279995  2.279995    2.792412   \n",
      "25    299          24  2024-09-15        72  2.279995  2.279995    2.792412   \n",
      "26    300          24  2024-09-15        72  2.279995  2.279995    2.792412   \n",
      "27    301          24  2024-09-15        72  2.279995  2.279995    2.792412   \n",
      "28    302          24  2024-09-15        72  2.279995  2.279995    2.792412   \n",
      "29    303          24  2024-09-15        72  2.279995  2.279995    2.792412   \n",
      "30    304          24  2024-09-15        72  2.279995  2.279995    2.792412   \n",
      "31    305          24  2024-09-15        72  2.279995  2.279995    2.792412   \n",
      "32    306          24  2024-09-15        72  2.279995  2.279995    2.792412   \n",
      "\n",
      "        implant unit_label  unit_idx  abs_depth  rel_depth  \\\n",
      "0   NPinsert137         24        24     3240.0     2980.0   \n",
      "1   NPinsert137         44        41     3100.0     2840.0   \n",
      "2   NPinsert137        105        97     2780.0     2520.0   \n",
      "3   NPinsert137        106        98     2780.0     2520.0   \n",
      "4   NPinsert137        180       163     2140.0     1880.0   \n",
      "5   NPinsert137        241       213     1520.0     1260.0   \n",
      "6   NPinsert137        596       541      260.0        0.0   \n",
      "7   NPinsert137        653       598     2900.0     2640.0   \n",
      "8   NPinsert137         68        68     2350.0     2820.0   \n",
      "9   NPinsert137         74        74     2310.0     2780.0   \n",
      "10  NPinsert137        189       189     1610.0     2080.0   \n",
      "11  NPinsert137        199       199     1530.0     2000.0   \n",
      "12  NPinsert137        235       235     1350.0     1820.0   \n",
      "13  NPinsert137        251       251     1170.0     1640.0   \n",
      "14  NPinsert137        252       252     1170.0     1640.0   \n",
      "15  NPinsert137        264       264     1090.0     1560.0   \n",
      "16  NPinsert137        266       266     1070.0     1540.0   \n",
      "17  NPinsert137        278       278     1030.0     1500.0   \n",
      "18  NPinsert137        279       279      970.0     1440.0   \n",
      "19  NPinsert137        280       280      990.0     1460.0   \n",
      "20  NPinsert137        286       286      950.0     1420.0   \n",
      "21  NPinsert137        289       289      910.0     1380.0   \n",
      "22  NPinsert137        296       296      810.0     1280.0   \n",
      "23  NPinsert137        320       320      310.0      780.0   \n",
      "24  NPinsert137        330       330      -50.0      420.0   \n",
      "25  NPinsert137         11        11     2840.0     2000.0   \n",
      "26  NPinsert137         12        12     2820.0     1980.0   \n",
      "27  NPinsert137         13        13     2860.0     2020.0   \n",
      "28  NPinsert137         50        50     2460.0     1620.0   \n",
      "29  NPinsert137         64        64     2200.0     1360.0   \n",
      "30  NPinsert137         68        68     2140.0     1300.0   \n",
      "31  NPinsert137         90        90     1740.0      900.0   \n",
      "32  NPinsert137        147       147      840.0        0.0   \n",
      "\n",
      "                                             waveform  surface_pos  \n",
      "0   [-0.6506981779148342, -0.7443296194199844, -0....         3500  \n",
      "1   [-0.8246260706864753, -0.7909639264218097, -0....         3500  \n",
      "2   [0.25642044751089094, 0.23447532000371046, 0.2...         3500  \n",
      "3   [-2.649694151125609, -2.658333815782705, -2.73...         3500  \n",
      "4   [-3.673732302524328, -3.5985642447478225, -3.5...         3500  \n",
      "5   [-1.8867444696039501, -1.9952398389289692, -1....         3500  \n",
      "6   [0.027618085991228752, 0.07289597646712764, 0....         3500  \n",
      "7   [0.07494591307051171, 0.06209545875320672, -0....         3500  \n",
      "8   [-0.2588516534575474, -0.3655283167827965, -0....         2750  \n",
      "9   [0.3043683327463798, 0.0876348864803437, 0.163...         2750  \n",
      "10  [-1.8092554404548733, -1.9327225857306434, -1....         2750  \n",
      "11  [-1.1153815852658644, -1.047935911180559, -1.0...         2750  \n",
      "12  [-0.8051367672707089, -0.8359003689704675, -0....         2750  \n",
      "13  [-0.8006126625939538, -0.799790621070357, -0.8...         2750  \n",
      "14  [-1.3904547318161085, -1.3184161922455722, -1....         2750  \n",
      "15  [-0.6721442634123826, -0.6405412380700855, -0....         2750  \n",
      "16  [-1.7615047288987082, -1.8104670111314376, -1....         2750  \n",
      "17  [-1.6547632257303218, -1.6598250467073026, -1....         2750  \n",
      "18  [-0.6362596869978788, -0.9832544076474126, -0....         2750  \n",
      "19  [-7.029522289056213, -7.081880048422072, -7.14...         2750  \n",
      "20  [-1.317179315411167, -1.4313492283370404, -1.4...         2750  \n",
      "21  [-2.075533334055993, -2.025098390741427, -2.04...         2750  \n",
      "22  [-1.244552200528972, -1.2807938450414418, -1.2...         2750  \n",
      "23  [-1.9059491846237597, -1.8687920070747304, -1....         2750  \n",
      "24  [-2.7869034468867824, -2.7428726738290283, -2....         2750  \n",
      "25  [-0.5757495674267286, -0.6015802351522632, -0....         2900  \n",
      "26  [-0.9699194458142987, -1.0495256732058746, -1....         2900  \n",
      "27  [-0.8592655741564157, -0.9439298799563246, -0....         2900  \n",
      "28  [-1.0060874499035426, -1.0644708182323228, -1....         2900  \n",
      "29  [-0.7633800556261426, -0.6730037385185937, -0....         2900  \n",
      "30  [-2.051186031109428, -1.9811131348803652, -2.0...         2900  \n",
      "31  [-0.4508542844077567, -0.40238542260428606, -0...         2900  \n",
      "32  [-0.5594402473951908, -0.5153175774071375, -0....         2900  \n"
     ]
    }
   ],
   "source": [
    "print(column_group_info[-4])"
   ]
  },
  {
   "cell_type": "markdown",
   "id": "9e8dabf5",
   "metadata": {},
   "source": [
    "# Save"
   ]
  },
  {
   "cell_type": "code",
   "execution_count": 106,
   "id": "121813b3-8d62-451f-ab69-6a31bfbb61be",
   "metadata": {
    "execution": {
     "iopub.execute_input": "2024-09-19T14:16:28.084725Z",
     "iopub.status.busy": "2024-09-19T14:16:28.084524Z",
     "iopub.status.idle": "2024-09-19T14:16:28.089316Z",
     "shell.execute_reply": "2024-09-19T14:16:28.088500Z",
     "shell.execute_reply.started": "2024-09-19T14:16:28.084707Z"
    },
    "tags": []
   },
   "outputs": [
    {
     "name": "stdout",
     "output_type": "stream",
     "text": [
      "{'nrandom_units': 5, 'nrandom_groups': 1000, 'depth_ranges': [(0, 1000), (250, 1250), (500, 1500), (750, 1750), (1000, 2000), (1250, 2250), (1500, 2500), (1750, 2750), (2000, 3000), (2250, 3250), (2500, 3500), (2750, 3750), (2520.0, 3520.0)]}\n"
     ]
    }
   ],
   "source": [
    "pseudopopulation_metadata = {'nrandom_units': nrandom_units, 'nrandom_groups': nrandom_groups, 'depth_ranges': depth_ranges}\n",
    "print(pseudopopulation_metadata)"
   ]
  },
  {
   "cell_type": "code",
   "execution_count": 107,
   "id": "1e880982-c856-4aac-b805-1a4d75af210c",
   "metadata": {
    "execution": {
     "iopub.execute_input": "2024-09-19T14:16:28.090882Z",
     "iopub.status.busy": "2024-09-19T14:16:28.090686Z",
     "iopub.status.idle": "2024-09-19T14:16:28.181913Z",
     "shell.execute_reply": "2024-09-19T14:16:28.181026Z",
     "shell.execute_reply.started": "2024-09-19T14:16:28.090865Z"
    },
    "tags": []
   },
   "outputs": [],
   "source": [
    "# Save data\n",
    "aopy.data.base.pkl_write(f\"{subject}_np_psuedopopulations\", (random_group_info, column_group_info, depth_group_info, depth_group_info_by_site, pseudopopulation_metadata, unit_df), save_dir)"
   ]
  },
  {
   "cell_type": "code",
   "execution_count": null,
   "id": "c84e80ed-dfa1-4132-b81a-a1666257edda",
   "metadata": {
    "execution": {
     "iopub.status.busy": "2024-09-19T14:15:36.206279Z",
     "iopub.status.idle": "2024-09-19T14:15:36.206434Z",
     "shell.execute_reply": "2024-09-19T14:15:36.206361Z",
     "shell.execute_reply.started": "2024-09-19T14:15:36.206354Z"
    },
    "tags": []
   },
   "outputs": [],
   "source": [
    "print(len(depth_group_info[0]))\n",
    "print(len(depth_group_info[1]))\n",
    "print(len(depth_group_info[2]))\n"
   ]
  },
  {
   "cell_type": "code",
   "execution_count": null,
   "id": "63b4eb15-15d3-492c-9bce-9ab64035ccd0",
   "metadata": {
    "execution": {
     "iopub.status.busy": "2024-09-19T14:15:36.207081Z",
     "iopub.status.idle": "2024-09-19T14:15:36.207239Z",
     "shell.execute_reply": "2024-09-19T14:15:36.207166Z",
     "shell.execute_reply.started": "2024-09-19T14:15:36.207158Z"
    },
    "tags": []
   },
   "outputs": [],
   "source": [
    "aopy.utils.get_memory_available_gb()\n",
    "type(df['unit_labels'][df['date']==dates[0]][0])"
   ]
  },
  {
   "cell_type": "code",
   "execution_count": null,
   "id": "b8e559ca-dac1-4091-a423-d1e141a5190a",
   "metadata": {},
   "outputs": [],
   "source": []
  },
  {
   "cell_type": "code",
   "execution_count": null,
   "id": "1abfc1a4-4e6c-4722-b3e5-63a4489adc08",
   "metadata": {},
   "outputs": [],
   "source": []
  },
  {
   "cell_type": "code",
   "execution_count": null,
   "id": "d5487206-0423-4f3c-babc-eeb277610fde",
   "metadata": {},
   "outputs": [],
   "source": []
  },
  {
   "cell_type": "code",
   "execution_count": null,
   "id": "a8521630-fa5e-42f7-a701-5709d6694596",
   "metadata": {},
   "outputs": [],
   "source": []
  },
  {
   "cell_type": "code",
   "execution_count": null,
   "id": "4716a869-52d9-45d3-97cc-0144c383a1e1",
   "metadata": {},
   "outputs": [],
   "source": []
  },
  {
   "cell_type": "code",
   "execution_count": null,
   "id": "d1aaceda-23cc-49ba-becf-3c420cdc25f0",
   "metadata": {},
   "outputs": [],
   "source": []
  },
  {
   "cell_type": "code",
   "execution_count": null,
   "id": "fb8cacde-7044-4538-b5fd-11d5d32f95d0",
   "metadata": {},
   "outputs": [],
   "source": []
  },
  {
   "cell_type": "code",
   "execution_count": null,
   "id": "f26ba814-536e-42c5-94a0-a28d6e094102",
   "metadata": {},
   "outputs": [],
   "source": []
  }
 ],
 "metadata": {
  "kernelspec": {
   "display_name": "Python [conda env:np_targeting]",
   "language": "python",
   "name": "conda-env-np_targeting-py"
  },
  "language_info": {
   "codemirror_mode": {
    "name": "ipython",
    "version": 3
   },
   "file_extension": ".py",
   "mimetype": "text/x-python",
   "name": "python",
   "nbconvert_exporter": "python",
   "pygments_lexer": "ipython3",
   "version": "3.9.18"
  }
 },
 "nbformat": 4,
 "nbformat_minor": 5
}
